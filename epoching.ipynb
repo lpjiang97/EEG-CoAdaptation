{
 "cells": [
  {
   "cell_type": "markdown",
   "metadata": {},
   "source": [
    "# Data Epoching"
   ]
  },
  {
   "cell_type": "markdown",
   "metadata": {},
   "source": [
    "Extracting EEG Epoch for each specific tasks"
   ]
  },
  {
   "cell_type": "code",
   "execution_count": 1,
   "metadata": {},
   "outputs": [],
   "source": [
    "import pandas as pd\n",
    "import numpy as np\n",
    "import matplotlib.pyplot as plt\n",
    "from mne.filter import filter_data"
   ]
  },
  {
   "cell_type": "markdown",
   "metadata": {},
   "source": [
    "Import the raw data"
   ]
  },
  {
   "cell_type": "code",
   "execution_count": 37,
   "metadata": {},
   "outputs": [
    {
     "data": {
      "text/html": [
       "<div>\n",
       "<style scoped>\n",
       "    .dataframe tbody tr th:only-of-type {\n",
       "        vertical-align: middle;\n",
       "    }\n",
       "\n",
       "    .dataframe tbody tr th {\n",
       "        vertical-align: top;\n",
       "    }\n",
       "\n",
       "    .dataframe thead th {\n",
       "        text-align: right;\n",
       "    }\n",
       "</style>\n",
       "<table border=\"1\" class=\"dataframe\">\n",
       "  <thead>\n",
       "    <tr style=\"text-align: right;\">\n",
       "      <th></th>\n",
       "      <th>Time</th>\n",
       "      <th>LE</th>\n",
       "      <th>F4</th>\n",
       "      <th>C4</th>\n",
       "      <th>PO8</th>\n",
       "      <th>PO7</th>\n",
       "      <th>C3</th>\n",
       "      <th>F3</th>\n",
       "      <th>Trigger</th>\n",
       "      <th>Time_Offset</th>\n",
       "      <th>ADC_Status</th>\n",
       "      <th>ADC_Sequence</th>\n",
       "      <th>Event</th>\n",
       "      <th>Comments</th>\n",
       "    </tr>\n",
       "  </thead>\n",
       "  <tbody>\n",
       "    <tr>\n",
       "      <th>0</th>\n",
       "      <td>0.0033</td>\n",
       "      <td>3642.0</td>\n",
       "      <td>-2536.8</td>\n",
       "      <td>3530.1</td>\n",
       "      <td>2459.4</td>\n",
       "      <td>296.7</td>\n",
       "      <td>3454.5</td>\n",
       "      <td>-1103.4</td>\n",
       "      <td>0</td>\n",
       "      <td>6</td>\n",
       "      <td>0</td>\n",
       "      <td>207</td>\n",
       "      <td>0</td>\n",
       "      <td>Start Data Acquisition</td>\n",
       "    </tr>\n",
       "    <tr>\n",
       "      <th>1</th>\n",
       "      <td>0.0067</td>\n",
       "      <td>3635.7</td>\n",
       "      <td>-2526.3</td>\n",
       "      <td>3531.0</td>\n",
       "      <td>2451.9</td>\n",
       "      <td>299.7</td>\n",
       "      <td>3459.6</td>\n",
       "      <td>-1098.9</td>\n",
       "      <td>0</td>\n",
       "      <td>12</td>\n",
       "      <td>0</td>\n",
       "      <td>208</td>\n",
       "      <td>0</td>\n",
       "      <td>NaN</td>\n",
       "    </tr>\n",
       "    <tr>\n",
       "      <th>2</th>\n",
       "      <td>0.0100</td>\n",
       "      <td>3632.7</td>\n",
       "      <td>-2535.9</td>\n",
       "      <td>3528.6</td>\n",
       "      <td>2441.4</td>\n",
       "      <td>302.1</td>\n",
       "      <td>3454.8</td>\n",
       "      <td>-1103.4</td>\n",
       "      <td>0</td>\n",
       "      <td>18</td>\n",
       "      <td>0</td>\n",
       "      <td>209</td>\n",
       "      <td>0</td>\n",
       "      <td>NaN</td>\n",
       "    </tr>\n",
       "    <tr>\n",
       "      <th>3</th>\n",
       "      <td>0.0133</td>\n",
       "      <td>3626.7</td>\n",
       "      <td>-2535.3</td>\n",
       "      <td>3524.1</td>\n",
       "      <td>2450.1</td>\n",
       "      <td>297.9</td>\n",
       "      <td>3455.1</td>\n",
       "      <td>-1097.1</td>\n",
       "      <td>0</td>\n",
       "      <td>24</td>\n",
       "      <td>0</td>\n",
       "      <td>210</td>\n",
       "      <td>0</td>\n",
       "      <td>NaN</td>\n",
       "    </tr>\n",
       "    <tr>\n",
       "      <th>4</th>\n",
       "      <td>0.0167</td>\n",
       "      <td>3626.4</td>\n",
       "      <td>-2527.8</td>\n",
       "      <td>3539.4</td>\n",
       "      <td>2469.0</td>\n",
       "      <td>289.8</td>\n",
       "      <td>3452.7</td>\n",
       "      <td>-1089.9</td>\n",
       "      <td>0</td>\n",
       "      <td>30</td>\n",
       "      <td>0</td>\n",
       "      <td>211</td>\n",
       "      <td>0</td>\n",
       "      <td>NaN</td>\n",
       "    </tr>\n",
       "  </tbody>\n",
       "</table>\n",
       "</div>"
      ],
      "text/plain": [
       "     Time      LE      F4      C4     PO8    PO7      C3      F3  Trigger  \\\n",
       "0  0.0033  3642.0 -2536.8  3530.1  2459.4  296.7  3454.5 -1103.4        0   \n",
       "1  0.0067  3635.7 -2526.3  3531.0  2451.9  299.7  3459.6 -1098.9        0   \n",
       "2  0.0100  3632.7 -2535.9  3528.6  2441.4  302.1  3454.8 -1103.4        0   \n",
       "3  0.0133  3626.7 -2535.3  3524.1  2450.1  297.9  3455.1 -1097.1        0   \n",
       "4  0.0167  3626.4 -2527.8  3539.4  2469.0  289.8  3452.7 -1089.9        0   \n",
       "\n",
       "   Time_Offset  ADC_Status  ADC_Sequence  Event                Comments  \n",
       "0            6           0           207      0  Start Data Acquisition  \n",
       "1           12           0           208      0                     NaN  \n",
       "2           18           0           209      0                     NaN  \n",
       "3           24           0           210      0                     NaN  \n",
       "4           30           0           211      0                     NaN  "
      ]
     },
     "execution_count": 37,
     "metadata": {},
     "output_type": "execute_result"
    }
   ],
   "source": [
    "df = pd.read_csv(\"data/2018-10-12-preston_walk_raw.csv\", \",\", skiprows=15)\n",
    "channels = df.columns[1:8]\n",
    "fs = 300\n",
    "df.head()"
   ]
  },
  {
   "cell_type": "markdown",
   "metadata": {},
   "source": [
    "## Data Filtering\n",
    "Let's filter the data into various frequency bands to calculate power over time for each respective band.\n",
    "\n",
    "Delta (0-4), Theta (4-7), Alpha (8-12), Beta (12-30), Gamma (30+)"
   ]
  },
  {
   "cell_type": "markdown",
   "metadata": {},
   "source": [
    "### Delta (0-4 Hz)"
   ]
  },
  {
   "cell_type": "code",
   "execution_count": 70,
   "metadata": {},
   "outputs": [
    {
     "name": "stdout",
     "output_type": "stream",
     "text": [
      "Setting up band-pass filter from 0.1 - 4 Hz\n",
      "l_trans_bandwidth chosen to be 0.1 Hz\n",
      "h_trans_bandwidth chosen to be 2.0 Hz\n",
      "Filter length of 9901 samples (33.003 sec) selected\n"
     ]
    },
    {
     "name": "stderr",
     "output_type": "stream",
     "text": [
      "C:\\Users\\nilew\\AppData\\Local\\Continuum\\anaconda2\\envs\\py36\\lib\\site-packages\\scipy\\signal\\signaltools.py:1593: FutureWarning: Using a non-tuple sequence for multidimensional indexing is deprecated; use `arr[tuple(seq)]` instead of `arr[seq]`. In the future this will be interpreted as an array index, `arr[np.array(seq)]`, which will result either in an error or a different result.\n",
      "  h = h[ind]\n"
     ]
    },
    {
     "data": {
      "text/html": [
       "<div>\n",
       "<style scoped>\n",
       "    .dataframe tbody tr th:only-of-type {\n",
       "        vertical-align: middle;\n",
       "    }\n",
       "\n",
       "    .dataframe tbody tr th {\n",
       "        vertical-align: top;\n",
       "    }\n",
       "\n",
       "    .dataframe thead th {\n",
       "        text-align: right;\n",
       "    }\n",
       "</style>\n",
       "<table border=\"1\" class=\"dataframe\">\n",
       "  <thead>\n",
       "    <tr style=\"text-align: right;\">\n",
       "      <th></th>\n",
       "      <th>Time</th>\n",
       "      <th>LE</th>\n",
       "      <th>F4</th>\n",
       "      <th>C4</th>\n",
       "      <th>PO8</th>\n",
       "      <th>PO7</th>\n",
       "      <th>C3</th>\n",
       "      <th>F3</th>\n",
       "    </tr>\n",
       "  </thead>\n",
       "  <tbody>\n",
       "    <tr>\n",
       "      <th>0</th>\n",
       "      <td>0.0033</td>\n",
       "      <td>151729.915308</td>\n",
       "      <td>204004.091642</td>\n",
       "      <td>201105.492833</td>\n",
       "      <td>78656.498360</td>\n",
       "      <td>62577.292971</td>\n",
       "      <td>57751.607173</td>\n",
       "      <td>4947.422666</td>\n",
       "    </tr>\n",
       "    <tr>\n",
       "      <th>1</th>\n",
       "      <td>0.0067</td>\n",
       "      <td>150949.376870</td>\n",
       "      <td>205758.322784</td>\n",
       "      <td>201689.636552</td>\n",
       "      <td>78193.226987</td>\n",
       "      <td>62073.283984</td>\n",
       "      <td>58408.855558</td>\n",
       "      <td>5385.111827</td>\n",
       "    </tr>\n",
       "    <tr>\n",
       "      <th>2</th>\n",
       "      <td>0.0100</td>\n",
       "      <td>149945.864094</td>\n",
       "      <td>205521.990747</td>\n",
       "      <td>201323.793253</td>\n",
       "      <td>77529.027296</td>\n",
       "      <td>61446.207240</td>\n",
       "      <td>58585.809918</td>\n",
       "      <td>5507.823397</td>\n",
       "    </tr>\n",
       "    <tr>\n",
       "      <th>3</th>\n",
       "      <td>0.0133</td>\n",
       "      <td>149182.584151</td>\n",
       "      <td>205317.501139</td>\n",
       "      <td>200980.750921</td>\n",
       "      <td>76985.460083</td>\n",
       "      <td>61001.082944</td>\n",
       "      <td>58707.289296</td>\n",
       "      <td>5646.082121</td>\n",
       "    </tr>\n",
       "    <tr>\n",
       "      <th>4</th>\n",
       "      <td>0.0167</td>\n",
       "      <td>148343.582666</td>\n",
       "      <td>204399.598976</td>\n",
       "      <td>200305.838113</td>\n",
       "      <td>76368.657780</td>\n",
       "      <td>60507.823729</td>\n",
       "      <td>58652.526513</td>\n",
       "      <td>5676.927881</td>\n",
       "    </tr>\n",
       "  </tbody>\n",
       "</table>\n",
       "</div>"
      ],
      "text/plain": [
       "     Time             LE             F4             C4           PO8  \\\n",
       "0  0.0033  151729.915308  204004.091642  201105.492833  78656.498360   \n",
       "1  0.0067  150949.376870  205758.322784  201689.636552  78193.226987   \n",
       "2  0.0100  149945.864094  205521.990747  201323.793253  77529.027296   \n",
       "3  0.0133  149182.584151  205317.501139  200980.750921  76985.460083   \n",
       "4  0.0167  148343.582666  204399.598976  200305.838113  76368.657780   \n",
       "\n",
       "            PO7            C3           F3  \n",
       "0  62577.292971  57751.607173  4947.422666  \n",
       "1  62073.283984  58408.855558  5385.111827  \n",
       "2  61446.207240  58585.809918  5507.823397  \n",
       "3  61001.082944  58707.289296  5646.082121  \n",
       "4  60507.823729  58652.526513  5676.927881  "
      ]
     },
     "execution_count": 70,
     "metadata": {},
     "output_type": "execute_result"
    }
   ],
   "source": [
    "low = 0.1\n",
    "high = 4\n",
    "filtered = filter_data(df[df.columns[1:8]].values.T, fs, low, high)\n",
    "\n",
    "# Calculate Power\n",
    "power = abs(scisig.hilbert(filtered))**2\n",
    "\n",
    "# Save power in the data frame format\n",
    "df_delta = pd.DataFrame(power.T)\n",
    "df_delta.columns = channels\n",
    "df_delta['Time'] = df['Time']\n",
    "\n",
    "# Bring the time column to the front\n",
    "cols = list(df_delta)\n",
    "cols.insert(0, cols.pop(cols.index('Time')))\n",
    "df_delta = df_delta.loc[:, cols]\n",
    "\n",
    "df_delta.head()"
   ]
  },
  {
   "cell_type": "code",
   "execution_count": 67,
   "metadata": {},
   "outputs": [
    {
     "data": {
      "image/png": "[encoded data removed]",
      "text/plain": [
       "<Figure size 432x288 with 1 Axes>"
      ]
     },
     "metadata": {
      "needs_background": "light"
     },
     "output_type": "display_data"
    }
   ],
   "source": [
    "# Plot one channel to check\n",
    "plt.figure\n",
    "plt.plot(df_delta.Time, df_delta.F4)\n",
    "plt.xlabel('Samples')\n",
    "plt.ylabel('Power')\n",
    "plt.title('Delta Power, F4')\n",
    "plt.show()"
   ]
  },
  {
   "cell_type": "markdown",
   "metadata": {},
   "source": [
    "### Theta (4-7 Hz)"
   ]
  },
  {
   "cell_type": "code",
   "execution_count": 71,
   "metadata": {
    "scrolled": true
   },
   "outputs": [
    {
     "name": "stdout",
     "output_type": "stream",
     "text": [
      "Setting up band-pass filter from 4 - 7 Hz\n",
      "l_trans_bandwidth chosen to be 2.0 Hz\n",
      "h_trans_bandwidth chosen to be 2.0 Hz\n",
      "Filter length of 495 samples (1.650 sec) selected\n"
     ]
    },
    {
     "name": "stderr",
     "output_type": "stream",
     "text": [
      "C:\\Users\\nilew\\AppData\\Local\\Continuum\\anaconda2\\envs\\py36\\lib\\site-packages\\scipy\\signal\\signaltools.py:1593: FutureWarning: Using a non-tuple sequence for multidimensional indexing is deprecated; use `arr[tuple(seq)]` instead of `arr[seq]`. In the future this will be interpreted as an array index, `arr[np.array(seq)]`, which will result either in an error or a different result.\n",
      "  h = h[ind]\n"
     ]
    }
   ],
   "source": [
    "low = 4\n",
    "high = 7\n",
    "filtered = filter_data(df[df.columns[1:8]].values.T, fs, low, high)\n",
    "\n",
    "# Calculate Power\n",
    "power = abs(scisig.hilbert(filtered))**2\n",
    "\n",
    "# Save power in the data frame format\n",
    "df_theta = pd.DataFrame(power.T)\n",
    "df_theta.columns = channels\n",
    "df_theta['Time'] = df['Time']\n",
    "\n",
    "# Bring the time column to the front\n",
    "cols = list(df_theta)\n",
    "cols.insert(0, cols.pop(cols.index('Time')))\n",
    "df_theta = df_theta.loc[:, cols]"
   ]
  },
  {
   "cell_type": "markdown",
   "metadata": {},
   "source": [
    "### Alpha (8-12 Hz)"
   ]
  },
  {
   "cell_type": "code",
   "execution_count": 73,
   "metadata": {
    "scrolled": true
   },
   "outputs": [
    {
     "name": "stdout",
     "output_type": "stream",
     "text": [
      "Setting up band-pass filter from 8 - 12 Hz\n",
      "l_trans_bandwidth chosen to be 2.0 Hz\n",
      "h_trans_bandwidth chosen to be 3.0 Hz\n",
      "Filter length of 495 samples (1.650 sec) selected\n"
     ]
    },
    {
     "name": "stderr",
     "output_type": "stream",
     "text": [
      "C:\\Users\\nilew\\AppData\\Local\\Continuum\\anaconda2\\envs\\py36\\lib\\site-packages\\scipy\\signal\\signaltools.py:1593: FutureWarning: Using a non-tuple sequence for multidimensional indexing is deprecated; use `arr[tuple(seq)]` instead of `arr[seq]`. In the future this will be interpreted as an array index, `arr[np.array(seq)]`, which will result either in an error or a different result.\n",
      "  h = h[ind]\n"
     ]
    }
   ],
   "source": [
    "low = 8\n",
    "high = 12\n",
    "filtered = filter_data(df[df.columns[1:8]].values.T, fs, low, high)\n",
    "\n",
    "# Calculate Power\n",
    "power = abs(scisig.hilbert(filtered))**2\n",
    "\n",
    "# Save power in the data frame format\n",
    "df_alpha = pd.DataFrame(power.T)\n",
    "df_alpha.columns = channels\n",
    "df_alpha['Time'] = df['Time']\n",
    "\n",
    "# Bring the time column to the front\n",
    "cols = list(df_alpha)\n",
    "cols.insert(0, cols.pop(cols.index('Time')))\n",
    "df_alpha = df_alpha.loc[:, cols]"
   ]
  },
  {
   "cell_type": "markdown",
   "metadata": {},
   "source": [
    "### Beta (12-30 Hz)"
   ]
  },
  {
   "cell_type": "code",
   "execution_count": 72,
   "metadata": {
    "scrolled": true
   },
   "outputs": [
    {
     "name": "stdout",
     "output_type": "stream",
     "text": [
      "Setting up band-pass filter from 12 - 30 Hz\n",
      "l_trans_bandwidth chosen to be 3.0 Hz\n",
      "h_trans_bandwidth chosen to be 7.5 Hz\n",
      "Filter length of 331 samples (1.103 sec) selected\n"
     ]
    },
    {
     "name": "stderr",
     "output_type": "stream",
     "text": [
      "C:\\Users\\nilew\\AppData\\Local\\Continuum\\anaconda2\\envs\\py36\\lib\\site-packages\\scipy\\signal\\signaltools.py:1593: FutureWarning: Using a non-tuple sequence for multidimensional indexing is deprecated; use `arr[tuple(seq)]` instead of `arr[seq]`. In the future this will be interpreted as an array index, `arr[np.array(seq)]`, which will result either in an error or a different result.\n",
      "  h = h[ind]\n"
     ]
    }
   ],
   "source": [
    "low = 12\n",
    "high = 30\n",
    "filtered = filter_data(df[df.columns[1:8]].values.T, fs, low, high)\n",
    "\n",
    "# Calculate Power\n",
    "power = abs(scisig.hilbert(filtered))**2\n",
    "\n",
    "# Save power in the data frame format\n",
    "df_beta = pd.DataFrame(power.T)\n",
    "df_beta.columns = channels\n",
    "df_beta['Time'] = df['Time']\n",
    "\n",
    "# Bring the time column to the front\n",
    "cols = list(df_beta)\n",
    "cols.insert(0, cols.pop(cols.index('Time')))\n",
    "df_beta = df_beta.loc[:, cols]"
   ]
  },
  {
   "cell_type": "markdown",
   "metadata": {},
   "source": [
    "### Gamma (30-50 Hz)"
   ]
  },
  {
   "cell_type": "code",
   "execution_count": 74,
   "metadata": {
    "scrolled": true
   },
   "outputs": [
    {
     "name": "stdout",
     "output_type": "stream",
     "text": [
      "Setting up band-pass filter from 30 - 50 Hz\n",
      "l_trans_bandwidth chosen to be 7.5 Hz\n",
      "h_trans_bandwidth chosen to be 12.5 Hz\n",
      "Filter length of 133 samples (0.443 sec) selected\n"
     ]
    },
    {
     "name": "stderr",
     "output_type": "stream",
     "text": [
      "C:\\Users\\nilew\\AppData\\Local\\Continuum\\anaconda2\\envs\\py36\\lib\\site-packages\\scipy\\signal\\signaltools.py:1593: FutureWarning: Using a non-tuple sequence for multidimensional indexing is deprecated; use `arr[tuple(seq)]` instead of `arr[seq]`. In the future this will be interpreted as an array index, `arr[np.array(seq)]`, which will result either in an error or a different result.\n",
      "  h = h[ind]\n"
     ]
    }
   ],
   "source": [
    "low = 30\n",
    "high = 50\n",
    "filtered = filter_data(df[df.columns[1:8]].values.T, fs, low, high)\n",
    "\n",
    "# Calculate Power\n",
    "power = abs(scisig.hilbert(filtered))**2\n",
    "\n",
    "# Save power in the data frame format\n",
    "df_gamma = pd.DataFrame(power.T)\n",
    "df_gamma.columns = channels\n",
    "df_gamma['Time'] = df['Time']\n",
    "\n",
    "# Bring the time column to the front\n",
    "cols = list(df_gamma)\n",
    "cols.insert(0, cols.pop(cols.index('Time')))\n",
    "df_gamma = df_gamma.loc[:, cols]"
   ]
  },
  {
   "cell_type": "code",
   "execution_count": 75,
   "metadata": {},
   "outputs": [
    {
     "data": {
      "image/png": "[encoded data removed]",
      "text/plain": [
       "<Figure size 432x288 with 1 Axes>"
      ]
     },
     "metadata": {
      "needs_background": "light"
     },
     "output_type": "display_data"
    }
   ],
   "source": [
    "# Plot one channel to check\n",
    "plt.figure\n",
    "plt.plot(df_gamma.Time, df_gamma.F4)\n",
    "plt.xlabel('Samples')\n",
    "plt.ylabel('Power')\n",
    "plt.title('Delta Power, F4')\n",
    "plt.show()"
   ]
  },
  {
   "cell_type": "markdown",
   "metadata": {},
   "source": [
    "Now we have multiple dataframes. One containing the raw EEG data (`df`), another containing the delta band power (`df_delta`), another with the theta band power (`df_theta`), etc. until `df_gamma`."
   ]
  },
  {
   "cell_type": "markdown",
   "metadata": {},
   "source": [
    "## Extract EEG\n",
    "Now let's extract when certain events were happening, and then further extract small epochs sliding across the large time frames."
   ]
  },
  {
   "cell_type": "markdown",
   "metadata": {},
   "source": [
    "Event | Task\n",
    "------|------\n",
    "5   | Typing\n",
    "6   | Talking\n",
    "7   | Walking\n",
    "\n",
    "The order in which we recorded was 7 -> 5 -> 6 -> 7\n",
    "\n",
    "First, get the indices"
   ]
  },
  {
   "cell_type": "code",
   "execution_count": 6,
   "metadata": {},
   "outputs": [],
   "source": [
    "typing_index = df.loc[df['Event'] == 5].index[0]\n",
    "talking_index = df.loc[df['Event'] == 6].index[0]\n",
    "walking_index = df.loc[df['Event'] == 7].index\n",
    "walking_1 = walking_index[0]\n",
    "walking_2 = walking_index[1]"
   ]
  },
  {
   "cell_type": "code",
   "execution_count": 7,
   "metadata": {},
   "outputs": [],
   "source": [
    "# Create a buffer to avoid transitions\n",
    "buffer = 1 * fs"
   ]
  },
  {
   "cell_type": "code",
   "execution_count": 8,
   "metadata": {},
   "outputs": [],
   "source": [
    "# For raw EEG\n",
    "first_walking = df.loc[walking_1 + buffer : typing_index - buffer]\n",
    "typing = df.loc[typing_index + buffer : talking_index - buffer]\n",
    "talking = df.loc[talking_index + buffer : walking_2 - buffer]\n",
    "second_walking = df.loc[walking_2 + buffer: len(df) - buffer]"
   ]
  },
  {
   "cell_type": "code",
   "execution_count": 76,
   "metadata": {},
   "outputs": [],
   "source": [
    "# For all the frequency bands"
   ]
  },
  {
   "cell_type": "code",
   "execution_count": 77,
   "metadata": {},
   "outputs": [],
   "source": [
    "# Using a sliding window to extract small 3 second? epochs\n",
    "# Each epoch consists of voltage or power data\n",
    "# Each epoch has the following properties: channel, frequency band, event type"
   ]
  },
  {
   "cell_type": "code",
   "execution_count": null,
   "metadata": {},
   "outputs": [],
   "source": []
  }
 ],
 "metadata": {
  "kernelspec": {
   "display_name": "Python 3",
   "language": "python",
   "name": "python3"
  },
  "language_info": {
   "codemirror_mode": {
    "name": "ipython",
    "version": 3
   },
   "file_extension": ".py",
   "mimetype": "text/x-python",
   "name": "python",
   "nbconvert_exporter": "python",
   "pygments_lexer": "ipython3",
   "version": "3.6.5"
  }
 },
 "nbformat": 4,
 "nbformat_minor": 2
}
