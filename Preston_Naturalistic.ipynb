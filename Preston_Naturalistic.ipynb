{
 "cells": [
  {
   "cell_type": "markdown",
   "metadata": {},
   "source": [
    "# Recording on Preston"
   ]
  },
  {
   "cell_type": "code",
   "execution_count": 29,
   "metadata": {},
   "outputs": [],
   "source": [
    "import numpy as np\n",
    "import pandas as pd\n",
    "import matplotlib.pyplot as plt\n",
    "from matplotlib.pyplot import specgram\n",
    "from scipy.signal import spectrogram\n",
    "from sklearn.model_selection import train_test_split"
   ]
  },
  {
   "cell_type": "code",
   "execution_count": 2,
   "metadata": {},
   "outputs": [],
   "source": [
    "eeg_df = pd.read_csv(\"data/2018-10-12-preston_walk_raw.csv\", skiprows=15)"
   ]
  },
  {
   "cell_type": "code",
   "execution_count": 3,
   "metadata": {},
   "outputs": [
    {
     "data": {
      "text/html": [
       "<div>\n",
       "<style scoped>\n",
       "    .dataframe tbody tr th:only-of-type {\n",
       "        vertical-align: middle;\n",
       "    }\n",
       "\n",
       "    .dataframe tbody tr th {\n",
       "        vertical-align: top;\n",
       "    }\n",
       "\n",
       "    .dataframe thead th {\n",
       "        text-align: right;\n",
       "    }\n",
       "</style>\n",
       "<table border=\"1\" class=\"dataframe\">\n",
       "  <thead>\n",
       "    <tr style=\"text-align: right;\">\n",
       "      <th></th>\n",
       "      <th>Time</th>\n",
       "      <th>LE</th>\n",
       "      <th>F4</th>\n",
       "      <th>C4</th>\n",
       "      <th>PO8</th>\n",
       "      <th>PO7</th>\n",
       "      <th>C3</th>\n",
       "      <th>F3</th>\n",
       "      <th>Trigger</th>\n",
       "      <th>Time_Offset</th>\n",
       "      <th>ADC_Status</th>\n",
       "      <th>ADC_Sequence</th>\n",
       "      <th>Event</th>\n",
       "      <th>Comments</th>\n",
       "    </tr>\n",
       "  </thead>\n",
       "  <tbody>\n",
       "    <tr>\n",
       "      <th>0</th>\n",
       "      <td>0.0033</td>\n",
       "      <td>3642.0</td>\n",
       "      <td>-2536.8</td>\n",
       "      <td>3530.1</td>\n",
       "      <td>2459.4</td>\n",
       "      <td>296.7</td>\n",
       "      <td>3454.5</td>\n",
       "      <td>-1103.4</td>\n",
       "      <td>0</td>\n",
       "      <td>6</td>\n",
       "      <td>0</td>\n",
       "      <td>207</td>\n",
       "      <td>0</td>\n",
       "      <td>Start Data Acquisition</td>\n",
       "    </tr>\n",
       "    <tr>\n",
       "      <th>1</th>\n",
       "      <td>0.0067</td>\n",
       "      <td>3635.7</td>\n",
       "      <td>-2526.3</td>\n",
       "      <td>3531.0</td>\n",
       "      <td>2451.9</td>\n",
       "      <td>299.7</td>\n",
       "      <td>3459.6</td>\n",
       "      <td>-1098.9</td>\n",
       "      <td>0</td>\n",
       "      <td>12</td>\n",
       "      <td>0</td>\n",
       "      <td>208</td>\n",
       "      <td>0</td>\n",
       "      <td>NaN</td>\n",
       "    </tr>\n",
       "    <tr>\n",
       "      <th>2</th>\n",
       "      <td>0.0100</td>\n",
       "      <td>3632.7</td>\n",
       "      <td>-2535.9</td>\n",
       "      <td>3528.6</td>\n",
       "      <td>2441.4</td>\n",
       "      <td>302.1</td>\n",
       "      <td>3454.8</td>\n",
       "      <td>-1103.4</td>\n",
       "      <td>0</td>\n",
       "      <td>18</td>\n",
       "      <td>0</td>\n",
       "      <td>209</td>\n",
       "      <td>0</td>\n",
       "      <td>NaN</td>\n",
       "    </tr>\n",
       "    <tr>\n",
       "      <th>3</th>\n",
       "      <td>0.0133</td>\n",
       "      <td>3626.7</td>\n",
       "      <td>-2535.3</td>\n",
       "      <td>3524.1</td>\n",
       "      <td>2450.1</td>\n",
       "      <td>297.9</td>\n",
       "      <td>3455.1</td>\n",
       "      <td>-1097.1</td>\n",
       "      <td>0</td>\n",
       "      <td>24</td>\n",
       "      <td>0</td>\n",
       "      <td>210</td>\n",
       "      <td>0</td>\n",
       "      <td>NaN</td>\n",
       "    </tr>\n",
       "    <tr>\n",
       "      <th>4</th>\n",
       "      <td>0.0167</td>\n",
       "      <td>3626.4</td>\n",
       "      <td>-2527.8</td>\n",
       "      <td>3539.4</td>\n",
       "      <td>2469.0</td>\n",
       "      <td>289.8</td>\n",
       "      <td>3452.7</td>\n",
       "      <td>-1089.9</td>\n",
       "      <td>0</td>\n",
       "      <td>30</td>\n",
       "      <td>0</td>\n",
       "      <td>211</td>\n",
       "      <td>0</td>\n",
       "      <td>NaN</td>\n",
       "    </tr>\n",
       "  </tbody>\n",
       "</table>\n",
       "</div>"
      ],
      "text/plain": [
       "     Time      LE      F4      C4     PO8    PO7      C3      F3  Trigger  \\\n",
       "0  0.0033  3642.0 -2536.8  3530.1  2459.4  296.7  3454.5 -1103.4        0   \n",
       "1  0.0067  3635.7 -2526.3  3531.0  2451.9  299.7  3459.6 -1098.9        0   \n",
       "2  0.0100  3632.7 -2535.9  3528.6  2441.4  302.1  3454.8 -1103.4        0   \n",
       "3  0.0133  3626.7 -2535.3  3524.1  2450.1  297.9  3455.1 -1097.1        0   \n",
       "4  0.0167  3626.4 -2527.8  3539.4  2469.0  289.8  3452.7 -1089.9        0   \n",
       "\n",
       "   Time_Offset  ADC_Status  ADC_Sequence  Event                Comments  \n",
       "0            6           0           207      0  Start Data Acquisition  \n",
       "1           12           0           208      0                     NaN  \n",
       "2           18           0           209      0                     NaN  \n",
       "3           24           0           210      0                     NaN  \n",
       "4           30           0           211      0                     NaN  "
      ]
     },
     "execution_count": 3,
     "metadata": {},
     "output_type": "execute_result"
    }
   ],
   "source": [
    "eeg_df.head()"
   ]
  },
  {
   "cell_type": "markdown",
   "metadata": {},
   "source": [
    "## Filter data"
   ]
  },
  {
   "cell_type": "code",
   "execution_count": 4,
   "metadata": {},
   "outputs": [],
   "source": [
    "from mne.filter import filter_data"
   ]
  },
  {
   "cell_type": "code",
   "execution_count": 5,
   "metadata": {},
   "outputs": [],
   "source": [
    "channels = eeg_df.columns[1:8] "
   ]
  },
  {
   "cell_type": "code",
   "execution_count": 6,
   "metadata": {},
   "outputs": [],
   "source": [
    "eeg_data = eeg_df[channels].values"
   ]
  },
  {
   "cell_type": "code",
   "execution_count": 7,
   "metadata": {},
   "outputs": [
    {
     "name": "stdout",
     "output_type": "stream",
     "text": [
      "Setting up band-pass filter from 1 - 40 Hz\n",
      "l_trans_bandwidth chosen to be 1.0 Hz\n",
      "h_trans_bandwidth chosen to be 10.0 Hz\n",
      "Filter length of 991 samples (3.303 sec) selected\n"
     ]
    }
   ],
   "source": [
    "filtered = filter_data(eeg_data.T, sfreq=300, l_freq=1, h_freq=40)"
   ]
  },
  {
   "cell_type": "code",
   "execution_count": 8,
   "metadata": {},
   "outputs": [],
   "source": [
    "eeg_df[channels] = filtered.T"
   ]
  },
  {
   "cell_type": "markdown",
   "metadata": {},
   "source": [
    "## Epoch data"
   ]
  },
  {
   "cell_type": "code",
   "execution_count": 9,
   "metadata": {},
   "outputs": [],
   "source": [
    "events = eeg_df.Event.nonzero()[0]"
   ]
  },
  {
   "cell_type": "code",
   "execution_count": 10,
   "metadata": {},
   "outputs": [
    {
     "data": {
      "text/plain": [
       "array([  1446,   2970,   7952,  47145,  78073, 135086])"
      ]
     },
     "execution_count": 10,
     "metadata": {},
     "output_type": "execute_result"
    }
   ],
   "source": [
    "events"
   ]
  },
  {
   "cell_type": "code",
   "execution_count": 11,
   "metadata": {},
   "outputs": [],
   "source": [
    "walk_one_start = events[2] + 300\n",
    "walk_one_stop = events[3] - 300\n",
    "typing_start = events[3] + 300\n",
    "typing_stop = events[4] - 300\n",
    "talking_start = events[4] + 300  \n",
    "talking_stop = events[5] - 300  \n",
    "walk_two_start = events[5] + 300\n",
    "walk_two_stop = len(eeg_df) - 9000"
   ]
  },
  {
   "cell_type": "code",
   "execution_count": 12,
   "metadata": {},
   "outputs": [],
   "source": [
    "typing_data = eeg_df.loc[typing_start : typing_stop][channels]\n",
    "talking_data = eeg_df.loc[talking_start : talking_stop][channels]\n",
    "walk_one_data = eeg_df.loc[walk_one_start : walk_one_stop][channels]\n",
    "walk_two_data = eeg_df.loc[walk_two_start : walk_two_stop][channels]"
   ]
  },
  {
   "cell_type": "code",
   "execution_count": 13,
   "metadata": {},
   "outputs": [],
   "source": [
    "typing_data = typing_data[: len(typing_data) // 300 * 300]\n",
    "talking_data = talking_data[: len(talking_data) // 300 * 300]\n",
    "walk_one_data = walk_one_data[: len(walk_one_data) // 300 * 300]\n",
    "walk_two_data = walk_two_data[: len(walk_two_data) // 300 * 300]\n",
    "walk_data = np.concatenate((walk_one_data, walk_two_data), axis=0)"
   ]
  },
  {
   "cell_type": "markdown",
   "metadata": {},
   "source": [
    "## Power, create data"
   ]
  },
  {
   "cell_type": "code",
   "execution_count": 14,
   "metadata": {},
   "outputs": [],
   "source": [
    "other_data = np.concatenate((typing_data, talking_data), axis=0) "
   ]
  },
  {
   "cell_type": "code",
   "execution_count": 18,
   "metadata": {},
   "outputs": [],
   "source": [
    "f, t, spec = spectrogram(walk_data.T, fs=300, nperseg=600, noverlap=300)"
   ]
  },
  {
   "cell_type": "code",
   "execution_count": 19,
   "metadata": {},
   "outputs": [],
   "source": [
    "walk_spec = spec[:, :81, :].reshape(-1, 218).T"
   ]
  },
  {
   "cell_type": "code",
   "execution_count": 20,
   "metadata": {},
   "outputs": [],
   "source": [
    "f, t, spec = spectrogram(other_data.T, fs=300, nperseg=600, noverlap=300)"
   ]
  },
  {
   "cell_type": "code",
   "execution_count": 21,
   "metadata": {},
   "outputs": [],
   "source": [
    "other_spec = spec[:, :81, :].reshape(-1, 288).T"
   ]
  },
  {
   "cell_type": "code",
   "execution_count": 22,
   "metadata": {},
   "outputs": [],
   "source": [
    "X = np.concatenate((walk_spec, other_spec), axis=0)"
   ]
  },
  {
   "cell_type": "code",
   "execution_count": 23,
   "metadata": {},
   "outputs": [],
   "source": [
    "y = np.concatenate((np.ones(len(walk_spec)), np.zeros(len(other_spec))), axis=0)"
   ]
  },
  {
   "cell_type": "code",
   "execution_count": 28,
   "metadata": {},
   "outputs": [],
   "source": [
    "# shuffle data to get train/test\n",
    "args = np.arange(len(X))\n",
    "np.random.shuffle(args)\n",
    "X = X[args]\n",
    "y = y[args]"
   ]
  },
  {
   "cell_type": "code",
   "execution_count": 30,
   "metadata": {},
   "outputs": [],
   "source": [
    "X_train, X_test, y_train, y_test = train_test_split(X, y, test_size=0.1)"
   ]
  },
  {
   "cell_type": "code",
   "execution_count": 36,
   "metadata": {},
   "outputs": [],
   "source": [
    "X_train, X_dev, y_train, y_dev = train_test_split(X_train, y_train, test_size=0.1)"
   ]
  },
  {
   "cell_type": "markdown",
   "metadata": {},
   "source": [
    "## SVM, Hyperparameter tuning"
   ]
  },
  {
   "cell_type": "code",
   "execution_count": 31,
   "metadata": {},
   "outputs": [],
   "source": [
    "from sklearn.svm import SVC"
   ]
  },
  {
   "cell_type": "code",
   "execution_count": 60,
   "metadata": {},
   "outputs": [],
   "source": [
    "C = [0.001, 0.01, 0.1, 1, 5, 10]\n",
    "gamma = [0.001, 0.01, 0.1, 1, 10, 100, 1000]"
   ]
  },
  {
   "cell_type": "code",
   "execution_count": 61,
   "metadata": {},
   "outputs": [],
   "source": [
    "train_score = []\n",
    "dev_score = []"
   ]
  },
  {
   "cell_type": "code",
   "execution_count": 67,
   "metadata": {},
   "outputs": [
    {
     "name": "stdout",
     "output_type": "stream",
     "text": [
      "*******.\n",
      "*******.\n",
      "*******.\n",
      "*******.\n",
      "*******.\n",
      "*******.\n"
     ]
    }
   ],
   "source": [
    "for c in C:\n",
    "    for g in gamma:\n",
    "        svc = SVC(kernel='poly', degree=g)\n",
    "        svc.fit(X_train, y_train)\n",
    "        train_score.append(svc.score(X_train, y_train))\n",
    "        dev_score.append(svc.score(X_dev, y_dev))\n",
    "        print(\"*\", end='')\n",
    "    print(\".\")"
   ]
  },
  {
   "cell_type": "code",
   "execution_count": 68,
   "metadata": {},
   "outputs": [
    {
     "data": {
      "text/plain": [
       "array([1., 1., 1., 1., 1., 1., 1., 1., 1., 1., 1., 1., 1., 1., 1., 1., 1.,\n",
       "       1., 1., 1., 1., 1., 1., 1., 1., 1., 1., 1., 1., 1., 1., 1., 1., 1.,\n",
       "       1., 1., 1., 1., 1., 1., 1., 1., 1., 1., 1., 1.])"
      ]
     },
     "execution_count": 68,
     "metadata": {},
     "output_type": "execute_result"
    }
   ],
   "source": [
    "svc.predict(X_dev)"
   ]
  },
  {
   "cell_type": "code",
   "execution_count": 69,
   "metadata": {},
   "outputs": [
    {
     "data": {
      "text/plain": [
       "[<matplotlib.lines.Line2D at 0x120e88dd8>]"
      ]
     },
     "execution_count": 69,
     "metadata": {},
     "output_type": "execute_result"
    },
    {
     "data": {
      "image/png": "[encoded data removed]",
      "text/plain": [
       "<Figure size 432x288 with 1 Axes>"
      ]
     },
     "metadata": {},
     "output_type": "display_data"
    }
   ],
   "source": [
    "plt.plot(train_score)\n",
    "plt.plot(dev_score)"
   ]
  },
  {
   "cell_type": "code",
   "execution_count": 58,
   "metadata": {},
   "outputs": [
    {
     "data": {
      "text/plain": [
       "SVC(C=1.0, cache_size=200, class_weight=None, coef0=0.0,\n",
       "  decision_function_shape='ovr', degree=3, gamma='auto', kernel='rbf',\n",
       "  max_iter=-1, probability=False, random_state=None, shrinking=True,\n",
       "  tol=0.001, verbose=False)"
      ]
     },
     "execution_count": 58,
     "metadata": {},
     "output_type": "execute_result"
    }
   ],
   "source": [
    "svc = SVC(kernel='rbf')\n",
    "svc.fit(X_train, y_train)"
   ]
  },
  {
   "cell_type": "code",
   "execution_count": 59,
   "metadata": {},
   "outputs": [
    {
     "data": {
      "text/plain": [
       "'auto'"
      ]
     },
     "execution_count": 59,
     "metadata": {},
     "output_type": "execute_result"
    }
   ],
   "source": [
    "svc.gamma"
   ]
  },
  {
   "cell_type": "code",
   "execution_count": null,
   "metadata": {},
   "outputs": [],
   "source": []
  }
 ],
 "metadata": {
  "kernelspec": {
   "display_name": "Python 3",
   "language": "python",
   "name": "python3"
  },
  "language_info": {
   "codemirror_mode": {
    "name": "ipython",
    "version": 3
   },
   "file_extension": ".py",
   "mimetype": "text/x-python",
   "name": "python",
   "nbconvert_exporter": "python",
   "pygments_lexer": "ipython3",
   "version": "3.6.4"
  }
 },
 "nbformat": 4,
 "nbformat_minor": 2
}
