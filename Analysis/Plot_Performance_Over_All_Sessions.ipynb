{
 "cells": [
  {
   "cell_type": "markdown",
   "metadata": {},
   "source": [
    "# Plot Performance Over All Sessions\n",
    "Use this notebook to plot subject performance over all three sessions, and to run stats on them too. Load models created through the simulate everything notebook (use 'experimental' for simulating with correct baseline and scaling calculations on what would be the original models).\n",
    "\n",
    "## WARNING\n",
    "Before running this notebook, make sure you have simulated all 3 sessions for the subject of interest using `Simulate_Everything_with_Different_Models`\n",
    "\n",
    "Nile Wilson, 2019.03.06"
   ]
  },
  {
   "cell_type": "code",
   "execution_count": 1,
   "metadata": {},
   "outputs": [],
   "source": [
    "from sklearn.preprocessing import StandardScaler\n",
    "from sklearn.model_selection import GridSearchCV\n",
    "from imblearn.over_sampling import SMOTE\n",
    "from sklearn.model_selection import KFold\n",
    "from sklearn.model_selection import train_test_split\n",
    "from sklearn.svm import SVC, LinearSVC\n",
    "from sklearn.metrics import confusion_matrix\n",
    "from sklearn.neural_network import MLPClassifier\n",
    "from sklearn.svm import SVC, LinearSVC\n",
    "from sklearn.metrics import roc_curve, auc\n",
    "from sklearn.model_selection import validation_curve\n",
    "from sklearn.model_selection import learning_curve\n",
    "from matplotlib import pyplot as plt\n",
    "from scipy.fftpack import fft, ifft\n",
    "from scipy import signal\n",
    "from mne.filter import filter_data\n",
    "\n",
    "import scipy.signal as scisig\n",
    "import numpy as np\n",
    "import pandas as pd\n",
    "import datetime\n",
    "import pickle\n",
    "import glob\n",
    "import csv\n",
    "import mne\n",
    "import os"
   ]
  },
  {
   "cell_type": "markdown",
   "metadata": {},
   "source": [
    "# Set Your Variables\n",
    "Define which subject's data you are going to use to simulate performance (be sure to make sure the subject_group and session_number are correct)"
   ]
  },
  {
   "cell_type": "code",
   "execution_count": 18,
   "metadata": {},
   "outputs": [],
   "source": [
    "subjID = '520f16'\n",
    "subject_group = 2\n",
    "EEGdevice = 8\n",
    "useBehavioral = False # True for collection 2, False for collection 1\n",
    "\n",
    "# model_type will be used to name/organize all files associated with whatever you run here\n",
    "# don't use the word 'original' here\n",
    "# Usually either 'experimental' or 'SVM01'\n",
    "model_type = 'SVM01'"
   ]
  },
  {
   "cell_type": "markdown",
   "metadata": {},
   "source": [
    "# PART 1: Load all the data\n",
    "Load in all the models and the associated data"
   ]
  },
  {
   "cell_type": "markdown",
   "metadata": {},
   "source": [
    "### Function Definitions\n",
    "Functions for working with the BCI data"
   ]
  },
  {
   "cell_type": "code",
   "execution_count": 19,
   "metadata": {},
   "outputs": [],
   "source": [
    "def FindBCIFiles(subjID, run_number, session_number, model_type):\n",
    "    \"\"\"\n",
    "    Returns the file names for the BCI run of choice\n",
    "    \"\"\"\n",
    "    # Load latest model and its associated data\n",
    "    BCI_files = glob.glob('SaveData/' + subjID + '/Session' + str(session_number) + '/*' + subjID + '_BCI.easy')\n",
    "    \n",
    "    # Throw exception if model number is outside range of existing models\n",
    "    if run_number-1 > len(BCI_files):\n",
    "        raise ValueError('Please select a valid run number')\n",
    "    \n",
    "    filename_eeg = BCI_files[run_number-1]\n",
    "    print('Selecting BCI EEG file: ' + filename_eeg)\n",
    "\n",
    "    behavioral_files = glob.glob('SaveData/' + subjID + '/Session' + str(session_number) + '/BCI_' + subjID + '*.csv')\n",
    "    filename_behavioral = behavioral_files[run_number-1]\n",
    "    print('Selecting BCI behavioral file: ' + filename_behavioral)\n",
    "    \n",
    "    return filename_eeg, filename_behavioral\n",
    "\n",
    "def LoadEEGData(filename, EEGdevice):\n",
    "    \"\"\" This function converts a single .easy file (from NIC2) to an easy-to-use dataframe.\n",
    "    Uses both the .easy file and .info file (containing metadata)\n",
    "    \n",
    "    ---- Input ----\n",
    "    filename: string containing the .easy filepath\n",
    "    \n",
    "    ---- Output ----\n",
    "    df: dataframe containing all the EEG, accelerometer, and event marker data\n",
    "    fs: sampling rate for the EEG data (Hz)\n",
    "    fs_accel: sampling rate for the accelerometer data (Hz)\n",
    "    \n",
    "    \"\"\"\n",
    "    if EEGdevice == 7:\n",
    "        x = 1\n",
    "    elif EEGdevice == 8:\n",
    "        # Read in the .easy file\n",
    "        df = pd.read_csv(filename, delimiter='\\t', header=None)\n",
    "\n",
    "        # Get metadata from the .info file\n",
    "        fname = filename[:-5] + '.info'\n",
    "        with open(fname) as f:\n",
    "            content = f.readlines()\n",
    "        content = [x.strip() for x in content]\n",
    "\n",
    "        # Get the channel names\n",
    "        channel_info = [x for x in content if 'Channel ' in x]\n",
    "        channel_names = []\n",
    "        for ch in range(len(channel_info)):\n",
    "            channel_names.append(channel_info[ch].split(': ')[1])\n",
    "\n",
    "        channel_names.append('X')\n",
    "        channel_names.append('Y')\n",
    "        channel_names.append('Z')\n",
    "        channel_names.append('STI 014')\n",
    "        channel_names.append('DateTime')\n",
    "\n",
    "        # Get sampling rates\n",
    "        sampling_rates = [x for x in content if 'sampling rate: ' in x]\n",
    "        fs_all = []\n",
    "        for freq in range(len(sampling_rates)):\n",
    "            tmp = sampling_rates[freq].split(': ')[1].split(' ')[0]\n",
    "            if tmp in ['N/A']:\n",
    "                print('Skipping N/A')\n",
    "            else:\n",
    "                fs_all.append(float(sampling_rates[freq].split(': ')[1].split(' ')[0]))\n",
    "\n",
    "        # Store sampling rates\n",
    "        fs = fs_all[0]\n",
    "        fs_accel = fs_all[1]\n",
    "\n",
    "        # Assign the column names\n",
    "        df.columns = channel_names\n",
    "    \n",
    "    # Return dataframe and sampling rates\n",
    "    return df, fs, fs_accel\n",
    "\n",
    "def LoadBehavioralDataBCI(filename_behavioral):\n",
    "    \"\"\"\n",
    "    This function loads behavioral data for the motor screening task and formats it to use in this script\n",
    "    \"\"\"\n",
    "    behavioralData = pd.read_csv(filename_behavioral, ',')\n",
    "    \n",
    "    return behavioralData\n",
    "\n",
    "def SyncTriggerPulsesBCI(EEGdata, EEGdevice, fs, behavioralData):\n",
    "    \"\"\"\n",
    "    This function returns the indices for events of interest\n",
    "    \"\"\"\n",
    "    \n",
    "    if EEGdevice == 7:\n",
    "        print('Put code here')\n",
    "    elif EEGdevice == 8:\n",
    "        # Store where the values in trigger are equal to 8 (the audio trigger input channel number)\n",
    "        index_trigger = np.where(EEGdata['STI 014']!=0)\n",
    "        index_trigger = index_trigger[0]\n",
    "\n",
    "        # Number of trials is greater than number of total pulses sent\n",
    "        # 999 when the task ends\n",
    "        move_left_starts = np.where(EEGdata['STI 014'] == 1)[0]\n",
    "        move_right_starts = np.where(EEGdata['STI 014'] == 2)[0]\n",
    "        rest_starts = np.where(EEGdata['STI 014'] == 3)[0]\n",
    "        rest_ends = np.where(EEGdata['STI 014'] == 4)[0]\n",
    "        \n",
    "        # If the number of rest_starts and rest_ends don't match, drop the extra one\n",
    "        # there should, by default, only be 12 starts and 12 ends\n",
    "\n",
    "        if len(rest_ends) > len(rest_starts):\n",
    "            if rest_ends[0] < rest_starts[0]:\n",
    "                rest_ends = rest_ends[1:]\n",
    "        elif len(rest_ends) < len(rest_starts):\n",
    "            if rest_ends[0] > rest_starts[0]:\n",
    "                rest_starts = rest_starts[1:]\n",
    "        \n",
    "        move_starts = np.sort(np.concatenate((move_left_starts,move_right_starts),0))\n",
    "        total_movements = len(move_starts)\n",
    "\n",
    "        # exclude movements that occur without defined baseline (if you need to get rid of first rest)\n",
    "        hasBaseline = list()\n",
    "        for movement in range(0,len(move_starts)):\n",
    "            hasBaseline.append(True in (rest_starts < move_starts[movement]))\n",
    "\n",
    "        np.where(hasBaseline)\n",
    "        move_starts = move_starts[np.where(hasBaseline)]\n",
    "\n",
    "        # exclude the move lefts and move rights that were thrown out in move_starts\n",
    "        for movement in range(0,total_movements):\n",
    "            if hasBaseline[movement] is False:\n",
    "                # for the left movements\n",
    "                idx_left = np.where(move_left_starts == move_starts[movement])\n",
    "                idx_left = np.asarray(idx_left)\n",
    "                idx_right = np.where(move_right_starts == move_starts[movement])\n",
    "                idx_right = np.asarray(idx_right)\n",
    "\n",
    "                if idx_left.size > 0:\n",
    "                    move_left_starts = np.delete(move_left_starts, idx_left)\n",
    "                if idx_right.size > 0:\n",
    "                    move_right_starts = np.delete(move_right_starts, idx_right)\n",
    "                \n",
    "        num_of_trials = len(rest_starts)\n",
    "        num_of_movements = len(move_left_starts) + len(move_right_starts)\n",
    "    \n",
    "    return num_of_trials, num_of_movements, move_starts, hasBaseline, rest_starts, rest_ends\n",
    "\n",
    "def EpochBCIData(EEGdata, fs, move_starts, rest_starts, rest_ends):\n",
    "    \"\"\"\n",
    "    This function epochs the data\n",
    "    \"\"\"\n",
    "    \n",
    "    if EEGdevice == 7:\n",
    "        channels = EEGdata.columns[1:8]\n",
    "    elif EEGdevice == 8:\n",
    "        channels = EEGdata.columns[0:8]\n",
    "\n",
    "    epochs = []\n",
    "    epochs_norm = []\n",
    "\n",
    "    for movement in range(0,len(move_starts)):\n",
    "        # Data for this movement\n",
    "        t_start = move_starts[movement] - np.round(2.00*fs)\n",
    "        t_end = move_starts[movement] - np.round(0.250*fs)\n",
    "\n",
    "        # Baseline\n",
    "        restOfInt = np.max(np.where(rest_starts < move_starts[movement]))\n",
    "        tb_start = rest_starts[restOfInt]\n",
    "        tb_end = rest_ends[restOfInt]\n",
    "\n",
    "        # Note, baseline is filtered before it is used in the live script\n",
    "        baseline_pre_filt = np.asarray(EEGdata.loc[tb_start:tb_end][channels]) * 1.0\n",
    "        baseline_filt = filter_data(baseline_pre_filt.T, sfreq=fs, l_freq=7, h_freq=31, verbose='ERROR')\n",
    "        baseline = baseline_filt.T\n",
    "\n",
    "        # Filter per epoch, like you would in real-time\n",
    "        pre_filt = np.asarray(EEGdata.loc[t_start:t_end][channels]) * 1.0\n",
    "        filtered = filter_data(pre_filt.T, sfreq=fs, l_freq=7, h_freq=31, verbose='ERROR')\n",
    "        epoch = pd.DataFrame(filtered.T)\n",
    "        epoch.columns = EEGdata.columns[0:8]\n",
    "\n",
    "        # Store epoch\n",
    "        tmp = (epoch - np.mean(baseline,0))/np.std(baseline,0)\n",
    "        tmp = pd.DataFrame(tmp)\n",
    "        tmp.columns = EEGdata.columns[0:8]\n",
    "\n",
    "        epochs_norm.append(tmp)\n",
    "        epochs.append(epoch)\n",
    "\n",
    "    return epochs, epochs_norm\n",
    "\n",
    "def OrganizeTrials(behavioralData, hasBaseline):\n",
    "    \"\"\"\n",
    "    Organizes trials\n",
    "    \"\"\"\n",
    "    \n",
    "    # When the target is to the left\n",
    "    trialL = np.where(behavioralData['target_x'] < 1000)\n",
    "    \n",
    "    # When target was to the right\n",
    "    trialR = np.where(behavioralData['target_x'] > 1000)\n",
    "    \n",
    "    # Create a single list that includes which movement is which (L = 0, R = 1)\n",
    "    trial_type = np.zeros([1,len(behavioralData['score'])])\n",
    "    trial_type[0][trialL] = 0\n",
    "    trial_type[0][trialR] = 1\n",
    "\n",
    "    trial_type = np.round(trial_type[0])\n",
    "    \n",
    "    # Remove trials if no baseline\n",
    "    for movement in range(0,len(hasBaseline)):\n",
    "        if hasBaseline[movement] is False:\n",
    "            trial_type = np.delete(trial_type, movement)\n",
    "            \n",
    "    return trial_type\n",
    "\n",
    "def ExtractFeaturesBCI(epochs, num_of_movements, channelsToUse, ds_factor):\n",
    "    \"\"\"\n",
    "    Extract signal features of interest\n",
    "    \"\"\"\n",
    "    \n",
    "    # Get the summed delta power for each trial\n",
    "    alpha_power = dict.fromkeys(channelsToUse)\n",
    "    beta_power = dict.fromkeys(channelsToUse)\n",
    "    ds_f = ds_factor # downsampling factor\n",
    "\n",
    "    for chanOfInt in channelsToUse:\n",
    "        tmp_alpha = list()\n",
    "        tmp_beta = list()\n",
    "\n",
    "        for movement in range(0, num_of_movements):\n",
    "            f, Pxx_den = signal.welch(signal.decimate(epochs[movement][chanOfInt],ds_f), fs/ds_f, scaling='spectrum')\n",
    "            alpha_idx = np.where(np.logical_and(np.round(f) >= 8, np.round(f) <= 12))\n",
    "            tmp_alpha.append(np.sum(Pxx_den[alpha_idx]))\n",
    "\n",
    "            beta_idx = np.where(np.logical_and(np.round(f) >= 13, np.round(f) <= 30))\n",
    "            tmp_beta.append(np.sum(Pxx_den[beta_idx]))\n",
    "\n",
    "        alpha_power[chanOfInt] = tmp_alpha\n",
    "        beta_power[chanOfInt] = tmp_beta\n",
    "    \n",
    "    return alpha_power, beta_power\n",
    "\n",
    "def LoadModel_MI(subjID, model_type, run_number=0, session_number=1, adaptationType='CS'):\n",
    "    \"\"\"\n",
    "    This function loads the most recent motor imagery classifier\n",
    "    for this subject by default. Current run minus 1.\n",
    "    \n",
    "    You may also select which number model (from original to most recent)\n",
    "    by using a value from 0 (original) to 4 (most recent)\n",
    "    \"\"\"\n",
    "    runOfInt = run_number\n",
    "    run_number = runOfInt - 1\n",
    "    # Load latest model and its associated data\n",
    "    if runOfInt == 1:\n",
    "        models = glob.glob('Models/' + subjID + '/' + model_type + '/Session' + str(session_number) + '/' + subjID + '_MI_classifier_*')\n",
    "        models_data_list = glob.glob('Models/' + subjID + '/' + model_type + '/Session' + str(session_number) + '/' + subjID + '_data_for_MI_classifier_*')\n",
    "    else:\n",
    "        if adaptationType == 'CS' or adaptationType == 'None':\n",
    "            models = glob.glob('Models/' + subjID + '/' + model_type + '/Session' + str(session_number) + '/' + subjID + '_MI_classifier_*')\n",
    "            models_data_list = glob.glob('Models/' + subjID + '/' + model_type + '/Session' + str(session_number) + '/' + subjID + '_data_for_MI_classifier_*')\n",
    "        elif adaptationType == 'TL':\n",
    "            models = glob.glob('Models/' + subjID + '/' + model_type + '/Session' + str(session_number) + '/' + subjID + '_MI_classifier_TL_*')\n",
    "            models_data_list = glob.glob('Models/' + subjID + '/' + model_type + '/Session' + str(session_number) + '/' + subjID + '_data_for_MI_classifier_TL_*')\n",
    "    \n",
    "    # Throw exception if model number is outside range of existing models\n",
    "    if run_number > len(models):\n",
    "        raise ValueError('Please select a valid model number')\n",
    "    if adaptationType == 'TL':\n",
    "        run_number = run_number -1\n",
    "    model_file = models[run_number] # load the most recent model\n",
    "    print('Selecting model: ' + model_file)\n",
    "    clf = pickle.load(open(model_file, 'rb'))\n",
    "\n",
    "    models_data = models_data_list[run_number] # load the most recent model\n",
    "    MI_data = np.load(models_data)\n",
    "    X_loaded = MI_data['X_not_scaled']\n",
    "    y_loaded = MI_data['y']\n",
    "    \n",
    "    return clf, X_loaded, y_loaded\n",
    "\n",
    "def GetBehavioralTL(runOfInt, behavioralData_all, hasBaseline_all):\n",
    "    # When the target is to the left\n",
    "    trialL = np.where(behavioralData_all[runOfInt]['target_x'] < 1000)\n",
    "    movementL = np.where(behavioralData_all[runOfInt]['direction_moved'] == 'left')\n",
    "\n",
    "    # When target was to the right\n",
    "    trialR = np.where(behavioralData_all[runOfInt]['target_x'] > 1000)\n",
    "    movementR = np.where(behavioralData_all[runOfInt]['direction_moved'] == 'right')\n",
    "\n",
    "    # Create a single list that includes which movement is which (L = 0, R = 1)\n",
    "    trial_type = np.zeros([1,len(behavioralData_all[runOfInt]['score'])])\n",
    "    trial_type[0][trialL] = 0\n",
    "    trial_type[0][trialR] = 1\n",
    "    trial_type = np.round(trial_type[0])\n",
    "\n",
    "    direction_moved = np.zeros([1,len(behavioralData_all[runOfInt]['score'])])\n",
    "    direction_moved[0][movementL] = 0\n",
    "    direction_moved[0][movementR] = 1\n",
    "    direction_moved = np.round(direction_moved[0])\n",
    "\n",
    "    # Remove trials if no baseline\n",
    "    for movement in range(0,len(hasBaseline_all[runOfInt])):\n",
    "        if hasBaseline_all[runOfInt][movement] is False:\n",
    "            trial_type = np.delete(trial_type, movement)\n",
    "            direction_moved = np.delete(direction_moved, movement)\n",
    "    \n",
    "    actual = direction_moved\n",
    "    TL = trial_type\n",
    "    return actual, TL"
   ]
  },
  {
   "cell_type": "code",
   "execution_count": 20,
   "metadata": {},
   "outputs": [],
   "source": [
    "# Load latest model and its associated data\n",
    "BCI_files = glob.glob('SaveData/' + subjID + '/Session1/*' + subjID + '_BCI.easy')\n",
    "num_of_runs = len(BCI_files)"
   ]
  },
  {
   "cell_type": "code",
   "execution_count": 21,
   "metadata": {},
   "outputs": [
    {
     "name": "stdout",
     "output_type": "stream",
     "text": [
      "Detected number of BCI runs: 5\n"
     ]
    }
   ],
   "source": [
    "# Check that this is correct\n",
    "print('Detected number of BCI runs: ' + str(num_of_runs))"
   ]
  },
  {
   "cell_type": "markdown",
   "metadata": {},
   "source": [
    "## Individual Subject"
   ]
  },
  {
   "cell_type": "markdown",
   "metadata": {},
   "source": [
    "Run in a loop"
   ]
  },
  {
   "cell_type": "code",
   "execution_count": 22,
   "metadata": {
    "scrolled": true
   },
   "outputs": [
    {
     "name": "stdout",
     "output_type": "stream",
     "text": [
      "Selecting BCI EEG file: SaveData/520f16/Session1\\20190318134017_520f16_BCI.easy\n",
      "Selecting BCI behavioral file: SaveData/520f16/Session1\\BCI_520f16_R1.csv\n",
      "Skipping N/A\n"
     ]
    },
    {
     "name": "stderr",
     "output_type": "stream",
     "text": [
      "C:\\Users\\nile\\Anaconda3\\envs\\eeg\\lib\\site-packages\\scipy\\signal\\_arraytools.py:45: FutureWarning: Using a non-tuple sequence for multidimensional indexing is deprecated; use `arr[tuple(seq)]` instead of `arr[seq]`. In the future this will be interpreted as an array index, `arr[np.array(seq)]`, which will result either in an error or a different result.\n",
      "  b = a[a_slice]\n",
      "C:\\Users\\nile\\Anaconda3\\envs\\eeg\\lib\\site-packages\\scipy\\signal\\signaltools.py:3463: FutureWarning: Using a non-tuple sequence for multidimensional indexing is deprecated; use `arr[tuple(seq)]` instead of `arr[seq]`. In the future this will be interpreted as an array index, `arr[np.array(seq)]`, which will result either in an error or a different result.\n",
      "  return y[sl]\n"
     ]
    },
    {
     "name": "stdout",
     "output_type": "stream",
     "text": [
      "Selecting model: Models/520f16/SVM01/Session1\\520f16_MI_classifier_2019-03-26-14-15-30.sav\n",
      "Selecting model: Models/520f16/SVM01/Session1\\520f16_MI_classifier_2019-03-26-14-15-30.sav\n",
      "Selecting model: Models/520f16/SVM01/Session1\\520f16_MI_classifier_2019-03-26-14-15-30.sav\n",
      "Selecting BCI EEG file: SaveData/520f16/Session1\\20190318134707_520f16_BCI.easy\n",
      "Selecting BCI behavioral file: SaveData/520f16/Session1\\BCI_520f16_R2.csv\n",
      "Skipping N/A\n"
     ]
    },
    {
     "name": "stderr",
     "output_type": "stream",
     "text": [
      "C:\\Users\\nile\\Anaconda3\\envs\\eeg\\lib\\site-packages\\scipy\\signal\\_arraytools.py:45: FutureWarning: Using a non-tuple sequence for multidimensional indexing is deprecated; use `arr[tuple(seq)]` instead of `arr[seq]`. In the future this will be interpreted as an array index, `arr[np.array(seq)]`, which will result either in an error or a different result.\n",
      "  b = a[a_slice]\n",
      "C:\\Users\\nile\\Anaconda3\\envs\\eeg\\lib\\site-packages\\scipy\\signal\\signaltools.py:3463: FutureWarning: Using a non-tuple sequence for multidimensional indexing is deprecated; use `arr[tuple(seq)]` instead of `arr[seq]`. In the future this will be interpreted as an array index, `arr[np.array(seq)]`, which will result either in an error or a different result.\n",
      "  return y[sl]\n"
     ]
    },
    {
     "name": "stdout",
     "output_type": "stream",
     "text": [
      "Selecting model: Models/520f16/SVM01/Session1\\520f16_MI_classifier_2019-03-26-14-15-40.sav\n",
      "Selecting model: Models/520f16/SVM01/Session1\\520f16_MI_classifier_2019-03-26-14-15-30.sav\n",
      "Selecting model: Models/520f16/SVM01/Session1\\520f16_MI_classifier_TL_2019-03-26-14-15-40.sav\n",
      "Selecting BCI EEG file: SaveData/520f16/Session1\\20190318135225_520f16_BCI.easy\n",
      "Selecting BCI behavioral file: SaveData/520f16/Session1\\BCI_520f16_R3.csv\n",
      "Skipping N/A\n"
     ]
    },
    {
     "name": "stderr",
     "output_type": "stream",
     "text": [
      "C:\\Users\\nile\\Anaconda3\\envs\\eeg\\lib\\site-packages\\scipy\\signal\\_arraytools.py:45: FutureWarning: Using a non-tuple sequence for multidimensional indexing is deprecated; use `arr[tuple(seq)]` instead of `arr[seq]`. In the future this will be interpreted as an array index, `arr[np.array(seq)]`, which will result either in an error or a different result.\n",
      "  b = a[a_slice]\n",
      "C:\\Users\\nile\\Anaconda3\\envs\\eeg\\lib\\site-packages\\scipy\\signal\\signaltools.py:3463: FutureWarning: Using a non-tuple sequence for multidimensional indexing is deprecated; use `arr[tuple(seq)]` instead of `arr[seq]`. In the future this will be interpreted as an array index, `arr[np.array(seq)]`, which will result either in an error or a different result.\n",
      "  return y[sl]\n"
     ]
    },
    {
     "name": "stdout",
     "output_type": "stream",
     "text": [
      "Selecting model: Models/520f16/SVM01/Session1\\520f16_MI_classifier_2019-03-26-14-15-46.sav\n",
      "Selecting model: Models/520f16/SVM01/Session1\\520f16_MI_classifier_2019-03-26-14-15-30.sav\n",
      "Selecting model: Models/520f16/SVM01/Session1\\520f16_MI_classifier_TL_2019-03-26-14-15-49.sav\n",
      "Selecting BCI EEG file: SaveData/520f16/Session1\\20190318135758_520f16_BCI.easy\n",
      "Selecting BCI behavioral file: SaveData/520f16/Session1\\BCI_520f16_R4.csv\n",
      "Skipping N/A\n"
     ]
    },
    {
     "name": "stderr",
     "output_type": "stream",
     "text": [
      "C:\\Users\\nile\\Anaconda3\\envs\\eeg\\lib\\site-packages\\scipy\\signal\\_arraytools.py:45: FutureWarning: Using a non-tuple sequence for multidimensional indexing is deprecated; use `arr[tuple(seq)]` instead of `arr[seq]`. In the future this will be interpreted as an array index, `arr[np.array(seq)]`, which will result either in an error or a different result.\n",
      "  b = a[a_slice]\n",
      "C:\\Users\\nile\\Anaconda3\\envs\\eeg\\lib\\site-packages\\scipy\\signal\\signaltools.py:3463: FutureWarning: Using a non-tuple sequence for multidimensional indexing is deprecated; use `arr[tuple(seq)]` instead of `arr[seq]`. In the future this will be interpreted as an array index, `arr[np.array(seq)]`, which will result either in an error or a different result.\n",
      "  return y[sl]\n"
     ]
    },
    {
     "name": "stdout",
     "output_type": "stream",
     "text": [
      "Selecting model: Models/520f16/SVM01/Session1\\520f16_MI_classifier_2019-03-26-14-15-56.sav\n",
      "Selecting model: Models/520f16/SVM01/Session1\\520f16_MI_classifier_2019-03-26-14-15-30.sav\n",
      "Selecting model: Models/520f16/SVM01/Session1\\520f16_MI_classifier_TL_2019-03-26-14-15-59.sav\n",
      "Selecting BCI EEG file: SaveData/520f16/Session1\\20190318140305_520f16_BCI.easy\n",
      "Selecting BCI behavioral file: SaveData/520f16/Session1\\BCI_520f16_R5.csv\n",
      "Skipping N/A\n"
     ]
    },
    {
     "name": "stderr",
     "output_type": "stream",
     "text": [
      "C:\\Users\\nile\\Anaconda3\\envs\\eeg\\lib\\site-packages\\scipy\\signal\\_arraytools.py:45: FutureWarning: Using a non-tuple sequence for multidimensional indexing is deprecated; use `arr[tuple(seq)]` instead of `arr[seq]`. In the future this will be interpreted as an array index, `arr[np.array(seq)]`, which will result either in an error or a different result.\n",
      "  b = a[a_slice]\n",
      "C:\\Users\\nile\\Anaconda3\\envs\\eeg\\lib\\site-packages\\scipy\\signal\\signaltools.py:3463: FutureWarning: Using a non-tuple sequence for multidimensional indexing is deprecated; use `arr[tuple(seq)]` instead of `arr[seq]`. In the future this will be interpreted as an array index, `arr[np.array(seq)]`, which will result either in an error or a different result.\n",
      "  return y[sl]\n"
     ]
    },
    {
     "name": "stdout",
     "output_type": "stream",
     "text": [
      "Selecting model: Models/520f16/SVM01/Session1\\520f16_MI_classifier_2019-03-26-14-16-05.sav\n",
      "Selecting model: Models/520f16/SVM01/Session1\\520f16_MI_classifier_2019-03-26-14-15-30.sav\n",
      "Selecting model: Models/520f16/SVM01/Session1\\520f16_MI_classifier_TL_2019-03-26-14-16-08.sav\n",
      "Selecting BCI EEG file: SaveData/520f16/Session2\\20190319144302_520f16_BCI.easy\n",
      "Selecting BCI behavioral file: SaveData/520f16/Session2\\BCI_520f16_R1.csv\n",
      "Skipping N/A\n"
     ]
    },
    {
     "name": "stderr",
     "output_type": "stream",
     "text": [
      "C:\\Users\\nile\\Anaconda3\\envs\\eeg\\lib\\site-packages\\scipy\\signal\\_arraytools.py:45: FutureWarning: Using a non-tuple sequence for multidimensional indexing is deprecated; use `arr[tuple(seq)]` instead of `arr[seq]`. In the future this will be interpreted as an array index, `arr[np.array(seq)]`, which will result either in an error or a different result.\n",
      "  b = a[a_slice]\n",
      "C:\\Users\\nile\\Anaconda3\\envs\\eeg\\lib\\site-packages\\scipy\\signal\\signaltools.py:3463: FutureWarning: Using a non-tuple sequence for multidimensional indexing is deprecated; use `arr[tuple(seq)]` instead of `arr[seq]`. In the future this will be interpreted as an array index, `arr[np.array(seq)]`, which will result either in an error or a different result.\n",
      "  return y[sl]\n"
     ]
    },
    {
     "name": "stdout",
     "output_type": "stream",
     "text": [
      "Selecting model: Models/520f16/SVM01/Session2\\520f16_MI_classifier_2019-03-26-14-17-14.sav\n",
      "Selecting model: Models/520f16/SVM01/Session2\\520f16_MI_classifier_2019-03-26-14-17-14.sav\n",
      "Selecting model: Models/520f16/SVM01/Session2\\520f16_MI_classifier_2019-03-26-14-17-14.sav\n",
      "Selecting BCI EEG file: SaveData/520f16/Session2\\20190319144803_520f16_BCI.easy\n",
      "Selecting BCI behavioral file: SaveData/520f16/Session2\\BCI_520f16_R2.csv\n",
      "Skipping N/A\n"
     ]
    },
    {
     "name": "stderr",
     "output_type": "stream",
     "text": [
      "C:\\Users\\nile\\Anaconda3\\envs\\eeg\\lib\\site-packages\\scipy\\signal\\_arraytools.py:45: FutureWarning: Using a non-tuple sequence for multidimensional indexing is deprecated; use `arr[tuple(seq)]` instead of `arr[seq]`. In the future this will be interpreted as an array index, `arr[np.array(seq)]`, which will result either in an error or a different result.\n",
      "  b = a[a_slice]\n",
      "C:\\Users\\nile\\Anaconda3\\envs\\eeg\\lib\\site-packages\\scipy\\signal\\signaltools.py:3463: FutureWarning: Using a non-tuple sequence for multidimensional indexing is deprecated; use `arr[tuple(seq)]` instead of `arr[seq]`. In the future this will be interpreted as an array index, `arr[np.array(seq)]`, which will result either in an error or a different result.\n",
      "  return y[sl]\n"
     ]
    },
    {
     "name": "stdout",
     "output_type": "stream",
     "text": [
      "Selecting model: Models/520f16/SVM01/Session2\\520f16_MI_classifier_2019-03-26-14-17-19.sav\n",
      "Selecting model: Models/520f16/SVM01/Session2\\520f16_MI_classifier_2019-03-26-14-17-14.sav\n",
      "Selecting model: Models/520f16/SVM01/Session2\\520f16_MI_classifier_TL_2019-03-26-14-17-19.sav\n",
      "Selecting BCI EEG file: SaveData/520f16/Session2\\20190319145303_520f16_BCI.easy\n",
      "Selecting BCI behavioral file: SaveData/520f16/Session2\\BCI_520f16_R3.csv\n",
      "Skipping N/A\n"
     ]
    },
    {
     "name": "stderr",
     "output_type": "stream",
     "text": [
      "C:\\Users\\nile\\Anaconda3\\envs\\eeg\\lib\\site-packages\\scipy\\signal\\_arraytools.py:45: FutureWarning: Using a non-tuple sequence for multidimensional indexing is deprecated; use `arr[tuple(seq)]` instead of `arr[seq]`. In the future this will be interpreted as an array index, `arr[np.array(seq)]`, which will result either in an error or a different result.\n",
      "  b = a[a_slice]\n",
      "C:\\Users\\nile\\Anaconda3\\envs\\eeg\\lib\\site-packages\\scipy\\signal\\signaltools.py:3463: FutureWarning: Using a non-tuple sequence for multidimensional indexing is deprecated; use `arr[tuple(seq)]` instead of `arr[seq]`. In the future this will be interpreted as an array index, `arr[np.array(seq)]`, which will result either in an error or a different result.\n",
      "  return y[sl]\n"
     ]
    },
    {
     "name": "stdout",
     "output_type": "stream",
     "text": [
      "Selecting model: Models/520f16/SVM01/Session2\\520f16_MI_classifier_2019-03-26-14-17-22.sav\n",
      "Selecting model: Models/520f16/SVM01/Session2\\520f16_MI_classifier_2019-03-26-14-17-14.sav\n",
      "Selecting model: Models/520f16/SVM01/Session2\\520f16_MI_classifier_TL_2019-03-26-14-17-24.sav\n",
      "Selecting BCI EEG file: SaveData/520f16/Session2\\20190319145856_520f16_BCI.easy\n",
      "Selecting BCI behavioral file: SaveData/520f16/Session2\\BCI_520f16_R4.csv\n",
      "Skipping N/A\n"
     ]
    },
    {
     "name": "stderr",
     "output_type": "stream",
     "text": [
      "C:\\Users\\nile\\Anaconda3\\envs\\eeg\\lib\\site-packages\\scipy\\signal\\_arraytools.py:45: FutureWarning: Using a non-tuple sequence for multidimensional indexing is deprecated; use `arr[tuple(seq)]` instead of `arr[seq]`. In the future this will be interpreted as an array index, `arr[np.array(seq)]`, which will result either in an error or a different result.\n",
      "  b = a[a_slice]\n",
      "C:\\Users\\nile\\Anaconda3\\envs\\eeg\\lib\\site-packages\\scipy\\signal\\signaltools.py:3463: FutureWarning: Using a non-tuple sequence for multidimensional indexing is deprecated; use `arr[tuple(seq)]` instead of `arr[seq]`. In the future this will be interpreted as an array index, `arr[np.array(seq)]`, which will result either in an error or a different result.\n",
      "  return y[sl]\n"
     ]
    },
    {
     "name": "stdout",
     "output_type": "stream",
     "text": [
      "Selecting model: Models/520f16/SVM01/Session2\\520f16_MI_classifier_2019-03-26-14-17-27.sav\n",
      "Selecting model: Models/520f16/SVM01/Session2\\520f16_MI_classifier_2019-03-26-14-17-14.sav\n",
      "Selecting model: Models/520f16/SVM01/Session2\\520f16_MI_classifier_TL_2019-03-26-14-17-28.sav\n",
      "Selecting BCI EEG file: SaveData/520f16/Session2\\20190319150354_520f16_BCI.easy\n",
      "Selecting BCI behavioral file: SaveData/520f16/Session2\\BCI_520f16_R5.csv\n",
      "Skipping N/A\n"
     ]
    },
    {
     "name": "stderr",
     "output_type": "stream",
     "text": [
      "C:\\Users\\nile\\Anaconda3\\envs\\eeg\\lib\\site-packages\\scipy\\signal\\_arraytools.py:45: FutureWarning: Using a non-tuple sequence for multidimensional indexing is deprecated; use `arr[tuple(seq)]` instead of `arr[seq]`. In the future this will be interpreted as an array index, `arr[np.array(seq)]`, which will result either in an error or a different result.\n",
      "  b = a[a_slice]\n",
      "C:\\Users\\nile\\Anaconda3\\envs\\eeg\\lib\\site-packages\\scipy\\signal\\signaltools.py:3463: FutureWarning: Using a non-tuple sequence for multidimensional indexing is deprecated; use `arr[tuple(seq)]` instead of `arr[seq]`. In the future this will be interpreted as an array index, `arr[np.array(seq)]`, which will result either in an error or a different result.\n",
      "  return y[sl]\n"
     ]
    },
    {
     "name": "stdout",
     "output_type": "stream",
     "text": [
      "Selecting model: Models/520f16/SVM01/Session2\\520f16_MI_classifier_2019-03-26-14-17-31.sav\n",
      "Selecting model: Models/520f16/SVM01/Session2\\520f16_MI_classifier_2019-03-26-14-17-14.sav\n",
      "Selecting model: Models/520f16/SVM01/Session2\\520f16_MI_classifier_TL_2019-03-26-14-17-32.sav\n",
      "Selecting BCI EEG file: SaveData/520f16/Session3\\20190320091131_520f16_BCI.easy\n",
      "Selecting BCI behavioral file: SaveData/520f16/Session3\\BCI_520f16_R1.csv\n",
      "Skipping N/A\n"
     ]
    },
    {
     "name": "stderr",
     "output_type": "stream",
     "text": [
      "C:\\Users\\nile\\Anaconda3\\envs\\eeg\\lib\\site-packages\\scipy\\signal\\_arraytools.py:45: FutureWarning: Using a non-tuple sequence for multidimensional indexing is deprecated; use `arr[tuple(seq)]` instead of `arr[seq]`. In the future this will be interpreted as an array index, `arr[np.array(seq)]`, which will result either in an error or a different result.\n",
      "  b = a[a_slice]\n",
      "C:\\Users\\nile\\Anaconda3\\envs\\eeg\\lib\\site-packages\\scipy\\signal\\signaltools.py:3463: FutureWarning: Using a non-tuple sequence for multidimensional indexing is deprecated; use `arr[tuple(seq)]` instead of `arr[seq]`. In the future this will be interpreted as an array index, `arr[np.array(seq)]`, which will result either in an error or a different result.\n",
      "  return y[sl]\n"
     ]
    },
    {
     "name": "stdout",
     "output_type": "stream",
     "text": [
      "Selecting model: Models/520f16/SVM01/Session3\\520f16_MI_classifier_2019-03-26-14-18-36.sav\n",
      "Selecting model: Models/520f16/SVM01/Session3\\520f16_MI_classifier_2019-03-26-14-18-36.sav\n",
      "Selecting model: Models/520f16/SVM01/Session3\\520f16_MI_classifier_2019-03-26-14-18-36.sav\n",
      "Selecting BCI EEG file: SaveData/520f16/Session3\\20190320091652_520f16_BCI.easy\n",
      "Selecting BCI behavioral file: SaveData/520f16/Session3\\BCI_520f16_R2.csv\n",
      "Skipping N/A\n"
     ]
    },
    {
     "name": "stderr",
     "output_type": "stream",
     "text": [
      "C:\\Users\\nile\\Anaconda3\\envs\\eeg\\lib\\site-packages\\scipy\\signal\\_arraytools.py:45: FutureWarning: Using a non-tuple sequence for multidimensional indexing is deprecated; use `arr[tuple(seq)]` instead of `arr[seq]`. In the future this will be interpreted as an array index, `arr[np.array(seq)]`, which will result either in an error or a different result.\n",
      "  b = a[a_slice]\n",
      "C:\\Users\\nile\\Anaconda3\\envs\\eeg\\lib\\site-packages\\scipy\\signal\\signaltools.py:3463: FutureWarning: Using a non-tuple sequence for multidimensional indexing is deprecated; use `arr[tuple(seq)]` instead of `arr[seq]`. In the future this will be interpreted as an array index, `arr[np.array(seq)]`, which will result either in an error or a different result.\n",
      "  return y[sl]\n"
     ]
    },
    {
     "name": "stdout",
     "output_type": "stream",
     "text": [
      "Selecting model: Models/520f16/SVM01/Session3\\520f16_MI_classifier_2019-03-26-14-18-42.sav\n",
      "Selecting model: Models/520f16/SVM01/Session3\\520f16_MI_classifier_2019-03-26-14-18-36.sav\n",
      "Selecting model: Models/520f16/SVM01/Session3\\520f16_MI_classifier_TL_2019-03-26-14-18-42.sav\n",
      "Selecting BCI EEG file: SaveData/520f16/Session3\\20190320092205_520f16_BCI.easy\n",
      "Selecting BCI behavioral file: SaveData/520f16/Session3\\BCI_520f16_R3.csv\n",
      "Skipping N/A\n"
     ]
    },
    {
     "name": "stderr",
     "output_type": "stream",
     "text": [
      "C:\\Users\\nile\\Anaconda3\\envs\\eeg\\lib\\site-packages\\scipy\\signal\\_arraytools.py:45: FutureWarning: Using a non-tuple sequence for multidimensional indexing is deprecated; use `arr[tuple(seq)]` instead of `arr[seq]`. In the future this will be interpreted as an array index, `arr[np.array(seq)]`, which will result either in an error or a different result.\n",
      "  b = a[a_slice]\n",
      "C:\\Users\\nile\\Anaconda3\\envs\\eeg\\lib\\site-packages\\scipy\\signal\\signaltools.py:3463: FutureWarning: Using a non-tuple sequence for multidimensional indexing is deprecated; use `arr[tuple(seq)]` instead of `arr[seq]`. In the future this will be interpreted as an array index, `arr[np.array(seq)]`, which will result either in an error or a different result.\n",
      "  return y[sl]\n"
     ]
    },
    {
     "name": "stdout",
     "output_type": "stream",
     "text": [
      "Selecting model: Models/520f16/SVM01/Session3\\520f16_MI_classifier_2019-03-26-14-18-45.sav\n",
      "Selecting model: Models/520f16/SVM01/Session3\\520f16_MI_classifier_2019-03-26-14-18-36.sav\n",
      "Selecting model: Models/520f16/SVM01/Session3\\520f16_MI_classifier_TL_2019-03-26-14-18-46.sav\n",
      "Selecting BCI EEG file: SaveData/520f16/Session3\\20190320092735_520f16_BCI.easy\n",
      "Selecting BCI behavioral file: SaveData/520f16/Session3\\BCI_520f16_R4.csv\n",
      "Skipping N/A\n"
     ]
    },
    {
     "name": "stderr",
     "output_type": "stream",
     "text": [
      "C:\\Users\\nile\\Anaconda3\\envs\\eeg\\lib\\site-packages\\scipy\\signal\\_arraytools.py:45: FutureWarning: Using a non-tuple sequence for multidimensional indexing is deprecated; use `arr[tuple(seq)]` instead of `arr[seq]`. In the future this will be interpreted as an array index, `arr[np.array(seq)]`, which will result either in an error or a different result.\n",
      "  b = a[a_slice]\n",
      "C:\\Users\\nile\\Anaconda3\\envs\\eeg\\lib\\site-packages\\scipy\\signal\\signaltools.py:3463: FutureWarning: Using a non-tuple sequence for multidimensional indexing is deprecated; use `arr[tuple(seq)]` instead of `arr[seq]`. In the future this will be interpreted as an array index, `arr[np.array(seq)]`, which will result either in an error or a different result.\n",
      "  return y[sl]\n"
     ]
    },
    {
     "name": "stdout",
     "output_type": "stream",
     "text": [
      "Selecting model: Models/520f16/SVM01/Session3\\520f16_MI_classifier_2019-03-26-14-18-49.sav\n",
      "Selecting model: Models/520f16/SVM01/Session3\\520f16_MI_classifier_2019-03-26-14-18-36.sav\n",
      "Selecting model: Models/520f16/SVM01/Session3\\520f16_MI_classifier_TL_2019-03-26-14-18-51.sav\n",
      "Selecting BCI EEG file: SaveData/520f16/Session3\\20190320093301_520f16_BCI.easy\n",
      "Selecting BCI behavioral file: SaveData/520f16/Session3\\BCI_520f16_R5.csv\n",
      "Skipping N/A\n"
     ]
    },
    {
     "name": "stderr",
     "output_type": "stream",
     "text": [
      "C:\\Users\\nile\\Anaconda3\\envs\\eeg\\lib\\site-packages\\scipy\\signal\\_arraytools.py:45: FutureWarning: Using a non-tuple sequence for multidimensional indexing is deprecated; use `arr[tuple(seq)]` instead of `arr[seq]`. In the future this will be interpreted as an array index, `arr[np.array(seq)]`, which will result either in an error or a different result.\n",
      "  b = a[a_slice]\n",
      "C:\\Users\\nile\\Anaconda3\\envs\\eeg\\lib\\site-packages\\scipy\\signal\\signaltools.py:3463: FutureWarning: Using a non-tuple sequence for multidimensional indexing is deprecated; use `arr[tuple(seq)]` instead of `arr[seq]`. In the future this will be interpreted as an array index, `arr[np.array(seq)]`, which will result either in an error or a different result.\n",
      "  return y[sl]\n"
     ]
    },
    {
     "name": "stdout",
     "output_type": "stream",
     "text": [
      "Selecting model: Models/520f16/SVM01/Session3\\520f16_MI_classifier_2019-03-26-14-18-54.sav\n",
      "Selecting model: Models/520f16/SVM01/Session3\\520f16_MI_classifier_2019-03-26-14-18-36.sav\n",
      "Selecting model: Models/520f16/SVM01/Session3\\520f16_MI_classifier_TL_2019-03-26-14-18-55.sav\n"
     ]
    }
   ],
   "source": [
    "orig_scores = list()\n",
    "sim_scores = list()\n",
    "sim_TL_scores = list()\n",
    "X_orig_all = dict()\n",
    "y_orig_all = dict()\n",
    "X_sim_all = dict()\n",
    "y_sim_all = dict()\n",
    "X_sim_TL_all = dict()\n",
    "y_sim_TL_all = dict()\n",
    "clf_orig_all = dict()\n",
    "clf_sim_all = dict()\n",
    "clf_sim_TL_all = dict() # for simulated true-label adaptation\n",
    "behavioralData_all = dict()\n",
    "hasBaseline_all = dict()\n",
    "counter = 1 # keeps track of all runs (start from 1->15)\n",
    "\n",
    "for session_number in range(1,3+1):\n",
    "    for runOfInt in range(1, num_of_runs+1):\n",
    "        # Find BCI file names\n",
    "        filename_eeg, filename_behavioral = FindBCIFiles(subjID, runOfInt, session_number, model_type)\n",
    "\n",
    "        # Load EEG data\n",
    "        EEGdata, fs, fs_accel = LoadEEGData(filename_eeg, EEGdevice)\n",
    "\n",
    "        # Load behavioral data\n",
    "        behavioralData = LoadBehavioralDataBCI(filename_behavioral)\n",
    "        behavioralData_all[counter] = behavioralData\n",
    "\n",
    "        # Sync up trigger pulses\n",
    "        num_of_trials, num_of_movements, move_starts, hasBaseline, rest_starts, rest_ends = SyncTriggerPulsesBCI(EEGdata, EEGdevice, fs, behavioralData)\n",
    "        hasBaseline_all[counter] = hasBaseline\n",
    "\n",
    "        # Epoch the data\n",
    "        epochs, epochs_norm = EpochBCIData(EEGdata, fs, move_starts, rest_starts, rest_ends)\n",
    "\n",
    "        # Organize trial types\n",
    "        trial_type = OrganizeTrials(behavioralData, hasBaseline)\n",
    "\n",
    "        # Get signal features\n",
    "        alpha_power, beta_power = ExtractFeaturesBCI(epochs_norm, num_of_movements, ['C3','C4'], 1)\n",
    "        motor_features = [alpha_power['C3'], beta_power['C3'], alpha_power['C4'], beta_power['C4']]\n",
    "        motor_features = np.transpose(motor_features)\n",
    "\n",
    "        # Load a specific model (0 loads initial model trained on screening)\n",
    "        # If using run_number, it will load the model created just prior to\n",
    "        # this BCI run (simulated or created during the session)\n",
    "        if subject_group == 1:\n",
    "            clf_orig, X_loaded, y_loaded = LoadModel_MI(subjID, model_type, 1, session_number, 'None')\n",
    "        elif subject_group == 2:\n",
    "            clf_orig, X_loaded, y_loaded = LoadModel_MI(subjID, model_type, runOfInt, session_number, 'CS')\n",
    "\n",
    "        # Get the original score\n",
    "        X = (motor_features - np.mean(X_loaded,0))/np.std(X_loaded,0)\n",
    "        y = trial_type\n",
    "        orig_score = clf_orig.score(X, y)*100\n",
    "        X_orig_all[counter] = X\n",
    "        y_orig_all[counter] = y\n",
    "\n",
    "        # Get the simulated score (no adaptation or CS adaptation)\n",
    "        if subject_group == 1:\n",
    "            clf_sim, X_loaded, y_loaded = LoadModel_MI(subjID, model_type, runOfInt, session_number, 'CS')\n",
    "        elif subject_group == 2:\n",
    "            clf_sim, X_loaded, y_loaded = LoadModel_MI(subjID, model_type, 1, session_number, 'None')\n",
    "\n",
    "        X = (motor_features - np.mean(X_loaded,0))/np.std(X_loaded,0)\n",
    "        y = trial_type\n",
    "        sim_score = clf_sim.score(X, y)*100\n",
    "        X_sim_all[counter] = X\n",
    "        y_sim_all[counter] = y\n",
    "\n",
    "        # Get the true label simulation score\n",
    "        if runOfInt == 1:\n",
    "            clf_sim_TL, X_loaded, y_loaded = LoadModel_MI(subjID, model_type, 1, session_number, 'None')\n",
    "        else:\n",
    "            clf_sim_TL, X_loaded, y_loaded = LoadModel_MI(subjID, model_type, runOfInt, session_number, 'TL')\n",
    "        X = (motor_features - np.mean(X_loaded,0))/np.std(X_loaded,0)\n",
    "        y = trial_type\n",
    "        sim_TL_score = clf_sim_TL.score(X, y)*100\n",
    "        X_sim_TL_all[counter] = X\n",
    "        y_sim_TL_all[counter] = y\n",
    "\n",
    "        # Store values\n",
    "        orig_scores.append(orig_score)\n",
    "        sim_scores.append(sim_score)\n",
    "        sim_TL_scores.append(sim_TL_score)\n",
    "        clf_orig_all[counter] = clf_orig\n",
    "        clf_sim_all[counter] = clf_sim\n",
    "        clf_sim_TL_all[counter] = clf_sim_TL\n",
    "        counter += 1"
   ]
  },
  {
   "cell_type": "markdown",
   "metadata": {},
   "source": [
    "Note that the overall simulated BCI performance may be better if you do a one-time filter on all the data prior to epoching, but to keep this a true simulation, we filter per epoch here."
   ]
  },
  {
   "cell_type": "code",
   "execution_count": 23,
   "metadata": {},
   "outputs": [],
   "source": [
    "actual_scores = list()\n",
    "for runOfInt in range(1,15+1):\n",
    "    actual, TL = GetBehavioralTL(runOfInt, behavioralData_all, hasBaseline_all)\n",
    "    correct_all = len(np.where(TL==actual)[0])/len(TL)*100\n",
    "    actual_scores.append(correct_all)"
   ]
  },
  {
   "cell_type": "code",
   "execution_count": 24,
   "metadata": {},
   "outputs": [
    {
     "data": {
      "image/png": "[encoded data removed]",
      "text/plain": [
       "<Figure size 1152x288 with 1 Axes>"
      ]
     },
     "metadata": {
      "needs_background": "light"
     },
     "output_type": "display_data"
    }
   ],
   "source": [
    "fig = plt.figure(figsize=(16,4))\n",
    "if subject_group == 1:\n",
    "    if useBehavioral is True:\n",
    "        plt.plot(actual_scores, color='green', marker='o', markersize=8,\n",
    "             linestyle='dashed', linewidth=2)\n",
    "    else:\n",
    "        plt.plot(orig_scores, color='green', marker='o', markersize=8,\n",
    "             linestyle='dashed', linewidth=2)\n",
    "    plt.plot(sim_scores, color='yellowgreen', marker='^', markersize=8,\n",
    "             linestyle='dashed', linewidth=2)\n",
    "    plt.plot(sim_TL_scores, color='orange', marker='P', markersize=8,\n",
    "             linestyle='dashed', linewidth=2)\n",
    "    plt.title(subjID + ', BCI performance, All Sessions, ' + model_type)\n",
    "    lgd = plt.legend(['No Adaptation','Simulated Adaptation (CS)','Simulated Adaptation (TL)','Chance'],\n",
    "              loc='upper center', bbox_to_anchor=(0.5, -0.10))\n",
    "    \n",
    "elif subject_group == 2:\n",
    "    plt.plot(sim_scores, color='green', marker='o', markersize=8,\n",
    "             linestyle='dashed', linewidth=2)\n",
    "    if useBehavioral is True:\n",
    "        plt.plot(actual_scores, color='yellowgreen', marker='^', markersize=8,\n",
    "             linestyle='dashed', linewidth=2)\n",
    "    else:\n",
    "        plt.plot(orig_scores, color='yellowgreen', marker='^', markersize=8,\n",
    "             linestyle='dashed', linewidth=2)\n",
    "    plt.plot(sim_TL_scores, color='orange', marker='P', markersize=8,\n",
    "             linestyle='dashed', linewidth=2)\n",
    "    plt.title(subjID + ', BCI performance, All Sessions, ' + model_type)\n",
    "    lgd = plt.legend(['Simulated No Adaptation','Co-Adaptation (CS)','Simulated Adaptation (TL)','Chance'],\n",
    "              loc='upper center', bbox_to_anchor=(0.5, -0.10))\n",
    "# Plot properties\n",
    "plt.xticks([0, 1, 2, 3, 4, 5, 6, 7, 8, 9, 10, 11, 12, 13, 14],\n",
    "           ['Run 1','Run 2','Run 3','Run 4','Run 5','Run 6','Run 7','Run 8','Run 9','Run 10',\n",
    "           'Run 11','Run 12','Run 13','Run 14','Run 15'])\n",
    "plt.ylabel('Performance (%)')\n",
    "plt.hlines(y=50, xmin=0, xmax=14, color='gray', linestyles='dashed',\n",
    "           linewidth=1, alpha=0.5)\n",
    "plt.axvline(x=0, alpha=0.15, linewidth=5, color='gray', linestyle='solid')\n",
    "plt.axvline(x=5, alpha=0.15, linewidth=5, color='gray', linestyle='solid')\n",
    "plt.axvline(x=10, alpha=0.15, linewidth=5, color='gray', linestyle='solid')\n",
    "plt.ylim([0, 100])\n",
    "plt.xlim([-0.5,14.5])\n",
    "\n",
    "plt.show()\n",
    "fig.savefig('Figures/' + subjID + '/' + model_type + '/' + subjID + '_Performance_Session-all.png',\n",
    "            bbox_extra_artists=(lgd,), bbox_inches='tight')"
   ]
  },
  {
   "cell_type": "code",
   "execution_count": 25,
   "metadata": {},
   "outputs": [
    {
     "data": {
      "image/png": "[encoded data removed]",
      "text/plain": [
       "<Figure size 1152x288 with 1 Axes>"
      ]
     },
     "metadata": {
      "needs_background": "light"
     },
     "output_type": "display_data"
    }
   ],
   "source": [
    "min_all = np.min([np.min(orig_scores),np.min(sim_scores),np.min(sim_TL_scores)])\n",
    "max_all = np.max([np.max(orig_scores),np.max(sim_scores),np.max(sim_TL_scores)])\n",
    "\n",
    "fig = plt.figure(figsize=(16,4))\n",
    "if subject_group == 1:\n",
    "    if useBehavioral is True:\n",
    "        plt.plot(actual_scores, color='green', marker='o', markersize=8,\n",
    "             linestyle='dashed', linewidth=2)\n",
    "    else:\n",
    "        plt.plot(orig_scores, color='green', marker='o', markersize=8,\n",
    "             linestyle='dashed', linewidth=2)\n",
    "    plt.plot(sim_scores, color='yellowgreen', marker='^', markersize=8,\n",
    "             linestyle='dashed', linewidth=2)\n",
    "    plt.plot(sim_TL_scores, color='orange', marker='P', markersize=8,\n",
    "             linestyle='dashed', linewidth=2)\n",
    "    plt.title(subjID + ', BCI performance, All Sessions, ' + model_type)\n",
    "    lgd = plt.legend(['No Adaptation','Simulated Adaptation (CS)','Simulated Adaptation (TL)','Chance'],\n",
    "              loc='upper center', bbox_to_anchor=(0.5, -0.10))\n",
    "    \n",
    "elif subject_group == 2:\n",
    "    plt.plot(sim_scores, color='green', marker='o', markersize=8,\n",
    "             linestyle='dashed', linewidth=2)\n",
    "    if useBehavioral is True:\n",
    "        plt.plot(actual_scores, color='yellowgreen', marker='^', markersize=8,\n",
    "             linestyle='dashed', linewidth=2)\n",
    "    else:\n",
    "        plt.plot(orig_scores, color='yellowgreen', marker='^', markersize=8,\n",
    "             linestyle='dashed', linewidth=2)\n",
    "    plt.plot(sim_TL_scores, color='orange', marker='P', markersize=8,\n",
    "             linestyle='dashed', linewidth=2)\n",
    "    plt.title(subjID + ', BCI performance, All Sessions, ' + model_type)\n",
    "    lgd = plt.legend(['Simulated No Adaptation','Co-Adaptation (CS)','Simulated Adaptation (TL)','Chance'],\n",
    "              loc='upper center', bbox_to_anchor=(0.5, -0.10))\n",
    "# Plot properties\n",
    "plt.xticks([0, 1, 2, 3, 4, 5, 6, 7, 8, 9, 10, 11, 12, 13, 14],\n",
    "           ['Run 1','Run 2','Run 3','Run 4','Run 5','Run 6','Run 7','Run 8','Run 9','Run 10',\n",
    "           'Run 11','Run 12','Run 13','Run 14','Run 15'])\n",
    "plt.ylabel('Performance (%)')\n",
    "plt.hlines(y=50, xmin=0, xmax=14, color='gray', linestyles='dashed',\n",
    "           linewidth=1, alpha=0.5)\n",
    "plt.axvline(x=0, alpha=0.15, linewidth=5, color='gray', linestyle='solid')\n",
    "plt.axvline(x=5, alpha=0.15, linewidth=5, color='gray', linestyle='solid')\n",
    "plt.axvline(x=10, alpha=0.15, linewidth=5, color='gray', linestyle='solid')\n",
    "plt.ylim([min_all-2, max_all+2])\n",
    "plt.xlim([-0.5,14.5])\n",
    "\n",
    "plt.show()\n",
    "fig.savefig('Figures/' + subjID + '/' + model_type + '/' + subjID + '_Performance_Session-all_zoom.png',\n",
    "            bbox_extra_artists=(lgd,), bbox_inches='tight')"
   ]
  },
  {
   "cell_type": "markdown",
   "metadata": {},
   "source": [
    "## All Subjects"
   ]
  },
  {
   "cell_type": "code",
   "execution_count": null,
   "metadata": {},
   "outputs": [],
   "source": [
    "# excluding 97e442\n",
    "subjID_all = ['b12a46','41d8ff','1e8b34','ad11cf',\n",
    "              'af9af3','c795d2','5ea9e5','e2cbc4',\n",
    "              'b7ff16','42feb7','9d4921','05ecbc',\n",
    "              '912433','6f6b76','dcdb48','d4aee6','994dba','303d01']\n",
    "subject_group_all = [1,1,1,1,1,1,1,1,2,2,2,2,2,2,2,2,2,2]"
   ]
  },
  {
   "cell_type": "code",
   "execution_count": null,
   "metadata": {},
   "outputs": [],
   "source": [
    "orig_scores = list()\n",
    "sim_scores = list()\n",
    "sim_TL_scores = list()\n",
    "X_orig_all = dict()\n",
    "y_orig_all = dict()\n",
    "X_sim_all = dict()\n",
    "y_sim_all = dict()\n",
    "X_sim_TL_all = dict()\n",
    "y_sim_TL_all = dict()\n",
    "clf_orig_all = dict()\n",
    "clf_sim_all = dict()\n",
    "clf_sim_TL_all = dict() # for simulated true-label adaptation\n",
    "\n",
    "subject_count = 0\n",
    "\n",
    "for subjID in subjID_all:\n",
    "    subject_group = subject_group_all[subject_count]\n",
    "    counter = 1 # keeps track of all runs (start from 1->15)\n",
    "    \n",
    "    for session_number in range(1,3+1):\n",
    "        for runOfInt in range(1, num_of_runs+1):\n",
    "            # Find BCI file names\n",
    "            filename_eeg, filename_behavioral = FindBCIFiles(subjID, runOfInt, session_number, model_type)\n",
    "\n",
    "            # Load EEG data\n",
    "            EEGdata, fs, fs_accel = LoadEEGData(filename_eeg, EEGdevice)\n",
    "\n",
    "            # Load behavioral data\n",
    "            behavioralData = LoadBehavioralDataBCI(filename_behavioral)\n",
    "\n",
    "            # Sync up trigger pulses\n",
    "            num_of_trials, num_of_movements, move_starts, hasBaseline, rest_starts, rest_ends = SyncTriggerPulsesBCI(EEGdata, EEGdevice, fs, behavioralData)\n",
    "\n",
    "            # Epoch the data\n",
    "            epochs, epochs_norm = EpochBCIData(EEGdata, fs, move_starts, rest_starts, rest_ends)\n",
    "\n",
    "            # Organize trial types\n",
    "            trial_type = OrganizeTrials(behavioralData, hasBaseline)\n",
    "\n",
    "            # Get signal features\n",
    "            alpha_power, beta_power = ExtractFeaturesBCI(epochs_norm, num_of_movements, ['C3','C4'], 1)\n",
    "            motor_features = [alpha_power['C3'], beta_power['C3'], alpha_power['C4'], beta_power['C4']]\n",
    "            motor_features = np.transpose(motor_features)\n",
    "\n",
    "            # Load a specific model (0 loads initial model trained on screening)\n",
    "            # If using run_number, it will load the model created just prior to\n",
    "            # this BCI run (simulated or created during the session)\n",
    "            if subject_group == 1:\n",
    "                clf_orig, X_loaded, y_loaded = LoadModel_MI(subjID, model_type, 1, session_number, 'None')\n",
    "            elif subject_group == 2:\n",
    "                clf_orig, X_loaded, y_loaded = LoadModel_MI(subjID, model_type, runOfInt, session_number, 'CS')\n",
    "\n",
    "            # Get the original score\n",
    "            X = (motor_features - np.mean(X_loaded,0))/np.std(X_loaded,0)\n",
    "            y = trial_type\n",
    "            orig_score = clf_orig.score(X, y)*100\n",
    "            X_orig_all[counter] = X\n",
    "            y_orig_all[counter] = y\n",
    "\n",
    "            # Get the simulated score (no adaptation or CS adaptation)\n",
    "            if subject_group == 1:\n",
    "                clf_sim, X_loaded, y_loaded = LoadModel_MI(subjID, model_type, runOfInt, session_number, 'CS')\n",
    "            elif subject_group == 2:\n",
    "                clf_sim, X_loaded, y_loaded = LoadModel_MI(subjID, model_type, 1, session_number, 'None')\n",
    "\n",
    "            X = (motor_features - np.mean(X_loaded,0))/np.std(X_loaded,0)\n",
    "            y = trial_type\n",
    "            sim_score = clf_sim.score(X, y)*100\n",
    "            X_sim_all[counter] = X\n",
    "            y_sim_all[counter] = y\n",
    "\n",
    "            # Get the true label simulation score\n",
    "            if runOfInt == 1:\n",
    "                clf_sim_TL, X_loaded, y_loaded = LoadModel_MI(subjID, model_type, 1, session_number, 'None')\n",
    "            else:\n",
    "                clf_sim_TL, X_loaded, y_loaded = LoadModel_MI(subjID, model_type, runOfInt, session_number, 'TL')\n",
    "            X = (motor_features - np.mean(X_loaded,0))/np.std(X_loaded,0)\n",
    "            y = trial_type\n",
    "            sim_TL_score = clf_sim_TL.score(X, y)*100\n",
    "            X_sim_TL_all[counter] = X\n",
    "            y_sim_TL_all[counter] = y\n",
    "\n",
    "            # Store values\n",
    "            orig_scores.append(orig_score)\n",
    "            sim_scores.append(sim_score)\n",
    "            sim_TL_scores.append(sim_TL_score)\n",
    "            clf_orig_all[counter] = clf_orig\n",
    "            clf_sim_all[counter] = clf_sim\n",
    "            clf_sim_TL_all[counter] = clf_sim_TL\n",
    "            counter += 1\n",
    "    subject_count += 1"
   ]
  },
  {
   "cell_type": "code",
   "execution_count": null,
   "metadata": {},
   "outputs": [],
   "source": [
    "# Reshape scores (new subject every 15 values because 5*3 runs per subject)"
   ]
  }
 ],
 "metadata": {
  "kernelspec": {
   "display_name": "Python 3",
   "language": "python",
   "name": "python3"
  },
  "language_info": {
   "codemirror_mode": {
    "name": "ipython",
    "version": 3
   },
   "file_extension": ".py",
   "mimetype": "text/x-python",
   "name": "python",
   "nbconvert_exporter": "python",
   "pygments_lexer": "ipython3",
   "version": "3.6.7"
  }
 },
 "nbformat": 4,
 "nbformat_minor": 2
}
