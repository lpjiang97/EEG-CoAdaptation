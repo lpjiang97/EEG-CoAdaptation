{
 "cells": [
  {
   "cell_type": "markdown",
   "metadata": {},
   "source": [
    "# Plot Performance Over All Sessions\n",
    "Use this notebook to plot subject performance over all three sessions, and to run stats on them too. Load models created through the simulate everything notebook (use 'experimental' for simulating with correct baseline and scaling calculations on what would be the original models).\n",
    "\n",
    "## WARNING\n",
    "Before running this notebook, make sure you have simulated all 3 sessions for the subject of interest using `Simulate_Everything_with_Different_Models`\n",
    "\n",
    "Nile Wilson, 2019.03.06"
   ]
  },
  {
   "cell_type": "code",
   "execution_count": 1,
   "metadata": {},
   "outputs": [],
   "source": [
    "from sklearn.preprocessing import StandardScaler\n",
    "from sklearn.model_selection import GridSearchCV\n",
    "from imblearn.over_sampling import SMOTE\n",
    "from sklearn.model_selection import KFold\n",
    "from sklearn.model_selection import train_test_split\n",
    "from sklearn.svm import SVC, LinearSVC\n",
    "from sklearn.metrics import confusion_matrix\n",
    "from sklearn.neural_network import MLPClassifier\n",
    "from sklearn.svm import SVC, LinearSVC\n",
    "from sklearn.metrics import roc_curve, auc\n",
    "from sklearn.model_selection import validation_curve\n",
    "from sklearn.model_selection import learning_curve\n",
    "from matplotlib import pyplot as plt\n",
    "from scipy.fftpack import fft, ifft\n",
    "from scipy import signal\n",
    "from mne.filter import filter_data\n",
    "\n",
    "import scipy.signal as scisig\n",
    "from scipy.stats import sem\n",
    "import numpy as np\n",
    "import pandas as pd\n",
    "import datetime\n",
    "import pickle\n",
    "import glob\n",
    "import csv\n",
    "import mne\n",
    "import os"
   ]
  },
  {
   "cell_type": "markdown",
   "metadata": {},
   "source": [
    "# Set Your Variables\n",
    "Define which subject's data you are going to use to simulate performance (be sure to make sure the subject_group and session_number are correct)"
   ]
  },
  {
   "cell_type": "code",
   "execution_count": 10,
   "metadata": {},
   "outputs": [],
   "source": [
    "subjID = '851238'\n",
    "subject_group = 1\n",
    "EEGdevice = 8\n",
    "useBehavioral = False # True for collection 2, False for collection 1\n",
    "\n",
    "# model_type will be used to name/organize all files associated with whatever you run here\n",
    "# don't use the word 'original' here\n",
    "# Usually either 'experimental' or 'SVM01'\n",
    "model_type = 'SVM01'"
   ]
  },
  {
   "cell_type": "markdown",
   "metadata": {},
   "source": [
    "# PART 1: Load all the data\n",
    "Load in all the models and the associated data"
   ]
  },
  {
   "cell_type": "markdown",
   "metadata": {},
   "source": [
    "### Function Definitions\n",
    "Functions for working with the BCI data"
   ]
  },
  {
   "cell_type": "code",
   "execution_count": 11,
   "metadata": {},
   "outputs": [],
   "source": [
    "def FindBCIFiles(subjID, run_number, session_number, model_type):\n",
    "    \"\"\"\n",
    "    Returns the file names for the BCI run of choice\n",
    "    \"\"\"\n",
    "    # Load latest model and its associated data\n",
    "    BCI_files = glob.glob('SaveData/' + subjID + '/Session' + str(session_number) + '/*' + subjID + '_BCI.easy')\n",
    "    \n",
    "    # Throw exception if model number is outside range of existing models\n",
    "    if run_number-1 > len(BCI_files):\n",
    "        raise ValueError('Please select a valid run number')\n",
    "    \n",
    "    filename_eeg = BCI_files[run_number-1]\n",
    "    print('Selecting BCI EEG file: ' + filename_eeg)\n",
    "\n",
    "    behavioral_files = glob.glob('SaveData/' + subjID + '/Session' + str(session_number) + '/BCI_' + subjID + '*.csv')\n",
    "    filename_behavioral = behavioral_files[run_number-1]\n",
    "    print('Selecting BCI behavioral file: ' + filename_behavioral)\n",
    "    \n",
    "    return filename_eeg, filename_behavioral\n",
    "\n",
    "def LoadEEGData(filename, EEGdevice):\n",
    "    \"\"\" This function converts a single .easy file (from NIC2) to an easy-to-use dataframe.\n",
    "    Uses both the .easy file and .info file (containing metadata)\n",
    "    \n",
    "    ---- Input ----\n",
    "    filename: string containing the .easy filepath\n",
    "    \n",
    "    ---- Output ----\n",
    "    df: dataframe containing all the EEG, accelerometer, and event marker data\n",
    "    fs: sampling rate for the EEG data (Hz)\n",
    "    fs_accel: sampling rate for the accelerometer data (Hz)\n",
    "    \n",
    "    \"\"\"\n",
    "    if EEGdevice == 7:\n",
    "        x = 1\n",
    "    elif EEGdevice == 8:\n",
    "        # Read in the .easy file\n",
    "        df = pd.read_csv(filename, delimiter='\\t', header=None)\n",
    "\n",
    "        # Get metadata from the .info file\n",
    "        fname = filename[:-5] + '.info'\n",
    "        with open(fname) as f:\n",
    "            content = f.readlines()\n",
    "        content = [x.strip() for x in content]\n",
    "\n",
    "        # Get the channel names\n",
    "        channel_info = [x for x in content if 'Channel ' in x]\n",
    "        channel_names = []\n",
    "        for ch in range(len(channel_info)):\n",
    "            channel_names.append(channel_info[ch].split(': ')[1])\n",
    "\n",
    "        channel_names.append('X')\n",
    "        channel_names.append('Y')\n",
    "        channel_names.append('Z')\n",
    "        channel_names.append('STI 014')\n",
    "        channel_names.append('DateTime')\n",
    "\n",
    "        # Get sampling rates\n",
    "        sampling_rates = [x for x in content if 'sampling rate: ' in x]\n",
    "        fs_all = []\n",
    "        for freq in range(len(sampling_rates)):\n",
    "            tmp = sampling_rates[freq].split(': ')[1].split(' ')[0]\n",
    "            if tmp in ['N/A']:\n",
    "                print('Skipping N/A')\n",
    "            else:\n",
    "                fs_all.append(float(sampling_rates[freq].split(': ')[1].split(' ')[0]))\n",
    "\n",
    "        # Store sampling rates\n",
    "        fs = fs_all[0]\n",
    "        fs_accel = fs_all[1]\n",
    "\n",
    "        # Assign the column names\n",
    "        df.columns = channel_names\n",
    "    \n",
    "    # Return dataframe and sampling rates\n",
    "    return df, fs, fs_accel\n",
    "\n",
    "def LoadBehavioralDataBCI(filename_behavioral):\n",
    "    \"\"\"\n",
    "    This function loads behavioral data for the motor screening task and formats it to use in this script\n",
    "    \"\"\"\n",
    "    behavioralData = pd.read_csv(filename_behavioral, ',')\n",
    "    \n",
    "    return behavioralData\n",
    "\n",
    "def SyncTriggerPulsesBCI(EEGdata, EEGdevice, fs, behavioralData):\n",
    "    \"\"\"\n",
    "    This function returns the indices for events of interest\n",
    "    \"\"\"\n",
    "    \n",
    "    if EEGdevice == 7:\n",
    "        print('Put code here')\n",
    "    elif EEGdevice == 8:\n",
    "        # Store where the values in trigger are equal to 8 (the audio trigger input channel number)\n",
    "        index_trigger = np.where(EEGdata['STI 014']!=0)\n",
    "        index_trigger = index_trigger[0]\n",
    "\n",
    "        # Number of trials is greater than number of total pulses sent\n",
    "        # 999 when the task ends\n",
    "        move_left_starts = np.where(EEGdata['STI 014'] == 1)[0]\n",
    "        move_right_starts = np.where(EEGdata['STI 014'] == 2)[0]\n",
    "        rest_starts = np.where(EEGdata['STI 014'] == 3)[0]\n",
    "        rest_ends = np.where(EEGdata['STI 014'] == 4)[0]\n",
    "        \n",
    "        # If the number of rest_starts and rest_ends don't match, drop the extra one\n",
    "        # there should, by default, only be 12 starts and 12 ends\n",
    "\n",
    "        if len(rest_ends) > len(rest_starts):\n",
    "            if rest_ends[0] < rest_starts[0]:\n",
    "                rest_ends = rest_ends[1:]\n",
    "        elif len(rest_ends) < len(rest_starts):\n",
    "            if rest_ends[0] > rest_starts[0]:\n",
    "                rest_starts = rest_starts[1:]\n",
    "        \n",
    "        move_starts = np.sort(np.concatenate((move_left_starts,move_right_starts),0))\n",
    "        total_movements = len(move_starts)\n",
    "\n",
    "        # exclude movements that occur without defined baseline (if you need to get rid of first rest)\n",
    "        hasBaseline = list()\n",
    "        for movement in range(0,len(move_starts)):\n",
    "            hasBaseline.append(True in (rest_starts < move_starts[movement]))\n",
    "\n",
    "        np.where(hasBaseline)\n",
    "        move_starts = move_starts[np.where(hasBaseline)]\n",
    "\n",
    "        # exclude the move lefts and move rights that were thrown out in move_starts\n",
    "        for movement in range(0,total_movements):\n",
    "            if hasBaseline[movement] is False:\n",
    "                # for the left movements\n",
    "                idx_left = np.where(move_left_starts == move_starts[movement])\n",
    "                idx_left = np.asarray(idx_left)\n",
    "                idx_right = np.where(move_right_starts == move_starts[movement])\n",
    "                idx_right = np.asarray(idx_right)\n",
    "\n",
    "                if idx_left.size > 0:\n",
    "                    move_left_starts = np.delete(move_left_starts, idx_left)\n",
    "                if idx_right.size > 0:\n",
    "                    move_right_starts = np.delete(move_right_starts, idx_right)\n",
    "                \n",
    "        num_of_trials = len(rest_starts)\n",
    "        num_of_movements = len(move_left_starts) + len(move_right_starts)\n",
    "    \n",
    "    return num_of_trials, num_of_movements, move_starts, hasBaseline, rest_starts, rest_ends\n",
    "\n",
    "def EpochBCIData(EEGdata, fs, move_starts, rest_starts, rest_ends):\n",
    "    \"\"\"\n",
    "    This function epochs the data\n",
    "    \"\"\"\n",
    "    \n",
    "    if EEGdevice == 7:\n",
    "        channels = EEGdata.columns[1:8]\n",
    "    elif EEGdevice == 8:\n",
    "        channels = EEGdata.columns[0:8]\n",
    "\n",
    "    epochs = []\n",
    "    epochs_norm = []\n",
    "\n",
    "    for movement in range(0,len(move_starts)):\n",
    "        # Data for this movement\n",
    "        t_start = move_starts[movement] - np.round(2.00*fs)\n",
    "        t_end = move_starts[movement] - np.round(0.250*fs)\n",
    "\n",
    "        # Baseline\n",
    "        restOfInt = np.max(np.where(rest_starts < move_starts[movement]))\n",
    "        tb_start = rest_starts[restOfInt]\n",
    "        tb_end = rest_ends[restOfInt]\n",
    "\n",
    "        # Note, baseline is filtered before it is used in the live script\n",
    "        baseline_pre_filt = np.asarray(EEGdata.loc[tb_start:tb_end][channels]) * 1.0\n",
    "        baseline_filt = filter_data(baseline_pre_filt.T, sfreq=fs, l_freq=7, h_freq=31, verbose='ERROR')\n",
    "        baseline = baseline_filt.T\n",
    "\n",
    "        # Filter per epoch, like you would in real-time\n",
    "        pre_filt = np.asarray(EEGdata.loc[t_start:t_end][channels]) * 1.0\n",
    "        filtered = filter_data(pre_filt.T, sfreq=fs, l_freq=7, h_freq=31, verbose='ERROR')\n",
    "        epoch = pd.DataFrame(filtered.T)\n",
    "        epoch.columns = EEGdata.columns[0:8]\n",
    "\n",
    "        # Store epoch\n",
    "        tmp = (epoch - np.mean(baseline,0))/np.std(baseline,0)\n",
    "        tmp = pd.DataFrame(tmp)\n",
    "        tmp.columns = EEGdata.columns[0:8]\n",
    "\n",
    "        epochs_norm.append(tmp)\n",
    "        epochs.append(epoch)\n",
    "\n",
    "    return epochs, epochs_norm\n",
    "\n",
    "def OrganizeTrials(behavioralData, hasBaseline):\n",
    "    \"\"\"\n",
    "    Organizes trials\n",
    "    \"\"\"\n",
    "    \n",
    "    # When the target is to the left\n",
    "    trialL = np.where(behavioralData['target_x'] < 1000)\n",
    "    \n",
    "    # When target was to the right\n",
    "    trialR = np.where(behavioralData['target_x'] > 1000)\n",
    "    \n",
    "    # Create a single list that includes which movement is which (L = 0, R = 1)\n",
    "    trial_type = np.zeros([1,len(behavioralData['score'])])\n",
    "    trial_type[0][trialL] = 0\n",
    "    trial_type[0][trialR] = 1\n",
    "\n",
    "    trial_type = np.round(trial_type[0])\n",
    "    \n",
    "    # Remove trials if no baseline\n",
    "    for movement in range(0,len(hasBaseline)):\n",
    "        if hasBaseline[movement] is False:\n",
    "            trial_type = np.delete(trial_type, movement)\n",
    "            \n",
    "    return trial_type\n",
    "\n",
    "def ExtractFeaturesBCI(epochs, num_of_movements, channelsToUse, ds_factor):\n",
    "    \"\"\"\n",
    "    Extract signal features of interest\n",
    "    \"\"\"\n",
    "    \n",
    "    # Get the summed delta power for each trial\n",
    "    alpha_power = dict.fromkeys(channelsToUse)\n",
    "    beta_power = dict.fromkeys(channelsToUse)\n",
    "    ds_f = ds_factor # downsampling factor\n",
    "\n",
    "    for chanOfInt in channelsToUse:\n",
    "        tmp_alpha = list()\n",
    "        tmp_beta = list()\n",
    "\n",
    "        for movement in range(0, num_of_movements):\n",
    "            f, Pxx_den = signal.welch(signal.decimate(epochs[movement][chanOfInt],ds_f), fs/ds_f, scaling='spectrum')\n",
    "            alpha_idx = np.where(np.logical_and(np.round(f) >= 8, np.round(f) <= 12))\n",
    "            tmp_alpha.append(np.sum(Pxx_den[alpha_idx]))\n",
    "\n",
    "            beta_idx = np.where(np.logical_and(np.round(f) >= 13, np.round(f) <= 30))\n",
    "            tmp_beta.append(np.sum(Pxx_den[beta_idx]))\n",
    "\n",
    "        alpha_power[chanOfInt] = tmp_alpha\n",
    "        beta_power[chanOfInt] = tmp_beta\n",
    "    \n",
    "    return alpha_power, beta_power\n",
    "\n",
    "def LoadModel_MI(subjID, model_type, run_number=0, session_number=1, adaptationType='CS'):\n",
    "    \"\"\"\n",
    "    This function loads the most recent motor imagery classifier\n",
    "    for this subject by default. Current run minus 1.\n",
    "    \n",
    "    You may also select which number model (from original to most recent)\n",
    "    by using a value from 0 (original) to 4 (most recent)\n",
    "    \"\"\"\n",
    "    runOfInt = run_number\n",
    "    run_number = runOfInt - 1\n",
    "    # Load latest model and its associated data\n",
    "    if runOfInt == 1:\n",
    "        models = glob.glob('Models/' + subjID + '/' + model_type + '/Session' + str(session_number) + '/' + subjID + '_MI_classifier_*')\n",
    "        models_data_list = glob.glob('Models/' + subjID + '/' + model_type + '/Session' + str(session_number) + '/' + subjID + '_data_for_MI_classifier_*')\n",
    "    else:\n",
    "        if adaptationType == 'CS' or adaptationType == 'None':\n",
    "            models = glob.glob('Models/' + subjID + '/' + model_type + '/Session' + str(session_number) + '/' + subjID + '_MI_classifier_*')\n",
    "            models_data_list = glob.glob('Models/' + subjID + '/' + model_type + '/Session' + str(session_number) + '/' + subjID + '_data_for_MI_classifier_*')\n",
    "        elif adaptationType == 'TL':\n",
    "            models = glob.glob('Models/' + subjID + '/' + model_type + '/Session' + str(session_number) + '/' + subjID + '_MI_classifier_TL_*')\n",
    "            models_data_list = glob.glob('Models/' + subjID + '/' + model_type + '/Session' + str(session_number) + '/' + subjID + '_data_for_MI_classifier_TL_*')\n",
    "    \n",
    "    # Throw exception if model number is outside range of existing models\n",
    "    if run_number > len(models):\n",
    "        raise ValueError('Please select a valid model number')\n",
    "    if adaptationType == 'TL':\n",
    "        run_number = run_number -1\n",
    "    model_file = models[run_number] # load the most recent model\n",
    "    print('Selecting model: ' + model_file)\n",
    "    clf = pickle.load(open(model_file, 'rb'))\n",
    "\n",
    "    models_data = models_data_list[run_number] # load the most recent model\n",
    "    MI_data = np.load(models_data)\n",
    "    X_loaded = MI_data['X_not_scaled']\n",
    "    y_loaded = MI_data['y']\n",
    "    \n",
    "    return clf, X_loaded, y_loaded\n",
    "\n",
    "def GetBehavioralTL(runOfInt, behavioralData_all, hasBaseline_all):\n",
    "    # When the target is to the left\n",
    "    trialL = np.where(behavioralData_all[runOfInt]['target_x'] < 1000)\n",
    "    movementL = np.where(behavioralData_all[runOfInt]['direction_moved'] == 'left')\n",
    "\n",
    "    # When target was to the right\n",
    "    trialR = np.where(behavioralData_all[runOfInt]['target_x'] > 1000)\n",
    "    movementR = np.where(behavioralData_all[runOfInt]['direction_moved'] == 'right')\n",
    "\n",
    "    # Create a single list that includes which movement is which (L = 0, R = 1)\n",
    "    trial_type = np.zeros([1,len(behavioralData_all[runOfInt]['score'])])\n",
    "    trial_type[0][trialL] = 0\n",
    "    trial_type[0][trialR] = 1\n",
    "    trial_type = np.round(trial_type[0])\n",
    "\n",
    "    direction_moved = np.zeros([1,len(behavioralData_all[runOfInt]['score'])])\n",
    "    direction_moved[0][movementL] = 0\n",
    "    direction_moved[0][movementR] = 1\n",
    "    direction_moved = np.round(direction_moved[0])\n",
    "\n",
    "    # Remove trials if no baseline\n",
    "    for movement in range(0,len(hasBaseline_all[runOfInt])):\n",
    "        if hasBaseline_all[runOfInt][movement] is False:\n",
    "            trial_type = np.delete(trial_type, movement)\n",
    "            direction_moved = np.delete(direction_moved, movement)\n",
    "    \n",
    "    actual = direction_moved\n",
    "    TL = trial_type\n",
    "    return actual, TL\n",
    "\n",
    "def GetBehavioralTL_single(runOfInt, behavioralData, hasBaseline):\n",
    "    # When the target is to the left\n",
    "    trialL = np.where(behavioralData['target_x'] < 1000)\n",
    "    movementL = np.where(behavioralData['direction_moved'] == 'left')\n",
    "\n",
    "    # When target was to the right\n",
    "    trialR = np.where(behavioralData['target_x'] > 1000)\n",
    "    movementR = np.where(behavioralData['direction_moved'] == 'right')\n",
    "\n",
    "    # Create a single list that includes which movement is which (L = 0, R = 1)\n",
    "    trial_type = np.zeros([1,len(behavioralData['score'])])\n",
    "    trial_type[0][trialL] = 0\n",
    "    trial_type[0][trialR] = 1\n",
    "    trial_type = np.round(trial_type[0])\n",
    "\n",
    "    direction_moved = np.zeros([1,len(behavioralData['score'])])\n",
    "    direction_moved[0][movementL] = 0\n",
    "    direction_moved[0][movementR] = 1\n",
    "    direction_moved = np.round(direction_moved[0])\n",
    "\n",
    "    # Remove trials if no baseline\n",
    "    for movement in range(0,len(hasBaseline)):\n",
    "        if hasBaseline[movement] is False:\n",
    "            trial_type = np.delete(trial_type, movement)\n",
    "            direction_moved = np.delete(direction_moved, movement)\n",
    "    \n",
    "    actual = direction_moved\n",
    "    TL = trial_type\n",
    "    return actual, TL"
   ]
  },
  {
   "cell_type": "code",
   "execution_count": 12,
   "metadata": {},
   "outputs": [],
   "source": [
    "# Load latest model and its associated data\n",
    "BCI_files = glob.glob('SaveData/' + subjID + '/Session1/*' + subjID + '_BCI.easy')\n",
    "num_of_runs = len(BCI_files)"
   ]
  },
  {
   "cell_type": "code",
   "execution_count": 13,
   "metadata": {},
   "outputs": [
    {
     "name": "stdout",
     "output_type": "stream",
     "text": [
      "Detected number of BCI runs: 5\n"
     ]
    }
   ],
   "source": [
    "# Check that this is correct\n",
    "print('Detected number of BCI runs: ' + str(num_of_runs))"
   ]
  },
  {
   "cell_type": "markdown",
   "metadata": {},
   "source": [
    "## Individual Subject"
   ]
  },
  {
   "cell_type": "markdown",
   "metadata": {},
   "source": [
    "Run in a loop"
   ]
  },
  {
   "cell_type": "code",
   "execution_count": 14,
   "metadata": {
    "scrolled": true
   },
   "outputs": [
    {
     "name": "stdout",
     "output_type": "stream",
     "text": [
      "Selecting BCI EEG file: SaveData/851238/Session1\\20190401150511_851238_BCI.easy\n",
      "Selecting BCI behavioral file: SaveData/851238/Session1\\BCI_851238_R1.csv\n",
      "Skipping N/A\n"
     ]
    },
    {
     "name": "stderr",
     "output_type": "stream",
     "text": [
      "C:\\Users\\nile\\Anaconda3\\envs\\eeg\\lib\\site-packages\\scipy\\signal\\_arraytools.py:45: FutureWarning: Using a non-tuple sequence for multidimensional indexing is deprecated; use `arr[tuple(seq)]` instead of `arr[seq]`. In the future this will be interpreted as an array index, `arr[np.array(seq)]`, which will result either in an error or a different result.\n",
      "  b = a[a_slice]\n",
      "C:\\Users\\nile\\Anaconda3\\envs\\eeg\\lib\\site-packages\\scipy\\signal\\signaltools.py:3463: FutureWarning: Using a non-tuple sequence for multidimensional indexing is deprecated; use `arr[tuple(seq)]` instead of `arr[seq]`. In the future this will be interpreted as an array index, `arr[np.array(seq)]`, which will result either in an error or a different result.\n",
      "  return y[sl]\n"
     ]
    },
    {
     "name": "stdout",
     "output_type": "stream",
     "text": [
      "Selecting model: Models/851238/SVM01/Session1\\851238_MI_classifier_2019-04-05-16-58-27.sav\n",
      "Selecting model: Models/851238/SVM01/Session1\\851238_MI_classifier_2019-04-05-16-58-27.sav\n",
      "Selecting model: Models/851238/SVM01/Session1\\851238_MI_classifier_2019-04-05-16-58-27.sav\n",
      "Selecting BCI EEG file: SaveData/851238/Session1\\20190401150958_851238_BCI.easy\n",
      "Selecting BCI behavioral file: SaveData/851238/Session1\\BCI_851238_R2.csv\n",
      "Skipping N/A\n"
     ]
    },
    {
     "name": "stderr",
     "output_type": "stream",
     "text": [
      "C:\\Users\\nile\\Anaconda3\\envs\\eeg\\lib\\site-packages\\scipy\\signal\\_arraytools.py:45: FutureWarning: Using a non-tuple sequence for multidimensional indexing is deprecated; use `arr[tuple(seq)]` instead of `arr[seq]`. In the future this will be interpreted as an array index, `arr[np.array(seq)]`, which will result either in an error or a different result.\n",
      "  b = a[a_slice]\n",
      "C:\\Users\\nile\\Anaconda3\\envs\\eeg\\lib\\site-packages\\scipy\\signal\\signaltools.py:3463: FutureWarning: Using a non-tuple sequence for multidimensional indexing is deprecated; use `arr[tuple(seq)]` instead of `arr[seq]`. In the future this will be interpreted as an array index, `arr[np.array(seq)]`, which will result either in an error or a different result.\n",
      "  return y[sl]\n"
     ]
    },
    {
     "name": "stdout",
     "output_type": "stream",
     "text": [
      "Selecting model: Models/851238/SVM01/Session1\\851238_MI_classifier_2019-04-05-16-58-27.sav\n",
      "Selecting model: Models/851238/SVM01/Session1\\851238_MI_classifier_2019-04-05-16-58-30.sav\n",
      "Selecting model: Models/851238/SVM01/Session1\\851238_MI_classifier_TL_2019-04-05-16-58-30.sav\n",
      "Selecting BCI EEG file: SaveData/851238/Session1\\20190401151511_851238_BCI.easy\n",
      "Selecting BCI behavioral file: SaveData/851238/Session1\\BCI_851238_R3.csv\n",
      "Skipping N/A\n"
     ]
    },
    {
     "name": "stderr",
     "output_type": "stream",
     "text": [
      "C:\\Users\\nile\\Anaconda3\\envs\\eeg\\lib\\site-packages\\scipy\\signal\\_arraytools.py:45: FutureWarning: Using a non-tuple sequence for multidimensional indexing is deprecated; use `arr[tuple(seq)]` instead of `arr[seq]`. In the future this will be interpreted as an array index, `arr[np.array(seq)]`, which will result either in an error or a different result.\n",
      "  b = a[a_slice]\n",
      "C:\\Users\\nile\\Anaconda3\\envs\\eeg\\lib\\site-packages\\scipy\\signal\\signaltools.py:3463: FutureWarning: Using a non-tuple sequence for multidimensional indexing is deprecated; use `arr[tuple(seq)]` instead of `arr[seq]`. In the future this will be interpreted as an array index, `arr[np.array(seq)]`, which will result either in an error or a different result.\n",
      "  return y[sl]\n"
     ]
    },
    {
     "name": "stdout",
     "output_type": "stream",
     "text": [
      "Selecting model: Models/851238/SVM01/Session1\\851238_MI_classifier_2019-04-05-16-58-27.sav\n",
      "Selecting model: Models/851238/SVM01/Session1\\851238_MI_classifier_2019-04-05-16-58-32.sav\n",
      "Selecting model: Models/851238/SVM01/Session1\\851238_MI_classifier_TL_2019-04-05-16-58-34.sav\n",
      "Selecting BCI EEG file: SaveData/851238/Session1\\20190401152017_851238_BCI.easy\n",
      "Selecting BCI behavioral file: SaveData/851238/Session1\\BCI_851238_R4.csv\n",
      "Skipping N/A\n"
     ]
    },
    {
     "name": "stderr",
     "output_type": "stream",
     "text": [
      "C:\\Users\\nile\\Anaconda3\\envs\\eeg\\lib\\site-packages\\scipy\\signal\\_arraytools.py:45: FutureWarning: Using a non-tuple sequence for multidimensional indexing is deprecated; use `arr[tuple(seq)]` instead of `arr[seq]`. In the future this will be interpreted as an array index, `arr[np.array(seq)]`, which will result either in an error or a different result.\n",
      "  b = a[a_slice]\n",
      "C:\\Users\\nile\\Anaconda3\\envs\\eeg\\lib\\site-packages\\scipy\\signal\\signaltools.py:3463: FutureWarning: Using a non-tuple sequence for multidimensional indexing is deprecated; use `arr[tuple(seq)]` instead of `arr[seq]`. In the future this will be interpreted as an array index, `arr[np.array(seq)]`, which will result either in an error or a different result.\n",
      "  return y[sl]\n"
     ]
    },
    {
     "name": "stdout",
     "output_type": "stream",
     "text": [
      "Selecting model: Models/851238/SVM01/Session1\\851238_MI_classifier_2019-04-05-16-58-27.sav\n",
      "Selecting model: Models/851238/SVM01/Session1\\851238_MI_classifier_2019-04-05-16-58-36.sav\n",
      "Selecting model: Models/851238/SVM01/Session1\\851238_MI_classifier_TL_2019-04-05-16-58-36.sav\n",
      "Selecting BCI EEG file: SaveData/851238/Session1\\20190401152508_851238_BCI.easy\n",
      "Selecting BCI behavioral file: SaveData/851238/Session1\\BCI_851238_R5.csv\n",
      "Skipping N/A\n"
     ]
    },
    {
     "name": "stderr",
     "output_type": "stream",
     "text": [
      "C:\\Users\\nile\\Anaconda3\\envs\\eeg\\lib\\site-packages\\scipy\\signal\\_arraytools.py:45: FutureWarning: Using a non-tuple sequence for multidimensional indexing is deprecated; use `arr[tuple(seq)]` instead of `arr[seq]`. In the future this will be interpreted as an array index, `arr[np.array(seq)]`, which will result either in an error or a different result.\n",
      "  b = a[a_slice]\n",
      "C:\\Users\\nile\\Anaconda3\\envs\\eeg\\lib\\site-packages\\scipy\\signal\\signaltools.py:3463: FutureWarning: Using a non-tuple sequence for multidimensional indexing is deprecated; use `arr[tuple(seq)]` instead of `arr[seq]`. In the future this will be interpreted as an array index, `arr[np.array(seq)]`, which will result either in an error or a different result.\n",
      "  return y[sl]\n"
     ]
    },
    {
     "name": "stdout",
     "output_type": "stream",
     "text": [
      "Selecting model: Models/851238/SVM01/Session1\\851238_MI_classifier_2019-04-05-16-58-27.sav\n",
      "Selecting model: Models/851238/SVM01/Session1\\851238_MI_classifier_2019-04-05-16-58-39.sav\n",
      "Selecting model: Models/851238/SVM01/Session1\\851238_MI_classifier_TL_2019-04-05-16-58-40.sav\n",
      "Selecting BCI EEG file: SaveData/851238/Session2\\20190404134320_851238_BCI.easy\n",
      "Selecting BCI behavioral file: SaveData/851238/Session2\\BCI_851238_R1.csv\n",
      "Skipping N/A\n"
     ]
    },
    {
     "name": "stderr",
     "output_type": "stream",
     "text": [
      "C:\\Users\\nile\\Anaconda3\\envs\\eeg\\lib\\site-packages\\scipy\\signal\\_arraytools.py:45: FutureWarning: Using a non-tuple sequence for multidimensional indexing is deprecated; use `arr[tuple(seq)]` instead of `arr[seq]`. In the future this will be interpreted as an array index, `arr[np.array(seq)]`, which will result either in an error or a different result.\n",
      "  b = a[a_slice]\n",
      "C:\\Users\\nile\\Anaconda3\\envs\\eeg\\lib\\site-packages\\scipy\\signal\\signaltools.py:3463: FutureWarning: Using a non-tuple sequence for multidimensional indexing is deprecated; use `arr[tuple(seq)]` instead of `arr[seq]`. In the future this will be interpreted as an array index, `arr[np.array(seq)]`, which will result either in an error or a different result.\n",
      "  return y[sl]\n"
     ]
    },
    {
     "name": "stdout",
     "output_type": "stream",
     "text": [
      "Selecting model: Models/851238/SVM01/Session2\\851238_MI_classifier_2019-04-05-16-59-22.sav\n",
      "Selecting model: Models/851238/SVM01/Session2\\851238_MI_classifier_2019-04-05-16-59-22.sav\n",
      "Selecting model: Models/851238/SVM01/Session2\\851238_MI_classifier_2019-04-05-16-59-22.sav\n",
      "Selecting BCI EEG file: SaveData/851238/Session2\\20190404134839_851238_BCI.easy\n",
      "Selecting BCI behavioral file: SaveData/851238/Session2\\BCI_851238_R2.csv\n",
      "Skipping N/A\n"
     ]
    },
    {
     "name": "stderr",
     "output_type": "stream",
     "text": [
      "C:\\Users\\nile\\Anaconda3\\envs\\eeg\\lib\\site-packages\\scipy\\signal\\_arraytools.py:45: FutureWarning: Using a non-tuple sequence for multidimensional indexing is deprecated; use `arr[tuple(seq)]` instead of `arr[seq]`. In the future this will be interpreted as an array index, `arr[np.array(seq)]`, which will result either in an error or a different result.\n",
      "  b = a[a_slice]\n",
      "C:\\Users\\nile\\Anaconda3\\envs\\eeg\\lib\\site-packages\\scipy\\signal\\signaltools.py:3463: FutureWarning: Using a non-tuple sequence for multidimensional indexing is deprecated; use `arr[tuple(seq)]` instead of `arr[seq]`. In the future this will be interpreted as an array index, `arr[np.array(seq)]`, which will result either in an error or a different result.\n",
      "  return y[sl]\n"
     ]
    },
    {
     "name": "stdout",
     "output_type": "stream",
     "text": [
      "Selecting model: Models/851238/SVM01/Session2\\851238_MI_classifier_2019-04-05-16-59-22.sav\n",
      "Selecting model: Models/851238/SVM01/Session2\\851238_MI_classifier_2019-04-05-16-59-26.sav\n",
      "Selecting model: Models/851238/SVM01/Session2\\851238_MI_classifier_TL_2019-04-05-16-59-26.sav\n",
      "Selecting BCI EEG file: SaveData/851238/Session2\\20190404135329_851238_BCI.easy\n",
      "Selecting BCI behavioral file: SaveData/851238/Session2\\BCI_851238_R3.csv\n",
      "Skipping N/A\n"
     ]
    },
    {
     "name": "stderr",
     "output_type": "stream",
     "text": [
      "C:\\Users\\nile\\Anaconda3\\envs\\eeg\\lib\\site-packages\\scipy\\signal\\_arraytools.py:45: FutureWarning: Using a non-tuple sequence for multidimensional indexing is deprecated; use `arr[tuple(seq)]` instead of `arr[seq]`. In the future this will be interpreted as an array index, `arr[np.array(seq)]`, which will result either in an error or a different result.\n",
      "  b = a[a_slice]\n",
      "C:\\Users\\nile\\Anaconda3\\envs\\eeg\\lib\\site-packages\\scipy\\signal\\signaltools.py:3463: FutureWarning: Using a non-tuple sequence for multidimensional indexing is deprecated; use `arr[tuple(seq)]` instead of `arr[seq]`. In the future this will be interpreted as an array index, `arr[np.array(seq)]`, which will result either in an error or a different result.\n",
      "  return y[sl]\n"
     ]
    },
    {
     "name": "stdout",
     "output_type": "stream",
     "text": [
      "Selecting model: Models/851238/SVM01/Session2\\851238_MI_classifier_2019-04-05-16-59-22.sav\n",
      "Selecting model: Models/851238/SVM01/Session2\\851238_MI_classifier_2019-04-05-16-59-28.sav\n",
      "Selecting model: Models/851238/SVM01/Session2\\851238_MI_classifier_TL_2019-04-05-16-59-29.sav\n",
      "Selecting BCI EEG file: SaveData/851238/Session2\\20190404135831_851238_BCI.easy\n",
      "Selecting BCI behavioral file: SaveData/851238/Session2\\BCI_851238_R4.csv\n",
      "Skipping N/A\n"
     ]
    },
    {
     "name": "stderr",
     "output_type": "stream",
     "text": [
      "C:\\Users\\nile\\Anaconda3\\envs\\eeg\\lib\\site-packages\\scipy\\signal\\_arraytools.py:45: FutureWarning: Using a non-tuple sequence for multidimensional indexing is deprecated; use `arr[tuple(seq)]` instead of `arr[seq]`. In the future this will be interpreted as an array index, `arr[np.array(seq)]`, which will result either in an error or a different result.\n",
      "  b = a[a_slice]\n",
      "C:\\Users\\nile\\Anaconda3\\envs\\eeg\\lib\\site-packages\\scipy\\signal\\signaltools.py:3463: FutureWarning: Using a non-tuple sequence for multidimensional indexing is deprecated; use `arr[tuple(seq)]` instead of `arr[seq]`. In the future this will be interpreted as an array index, `arr[np.array(seq)]`, which will result either in an error or a different result.\n",
      "  return y[sl]\n"
     ]
    },
    {
     "name": "stdout",
     "output_type": "stream",
     "text": [
      "Selecting model: Models/851238/SVM01/Session2\\851238_MI_classifier_2019-04-05-16-59-22.sav\n",
      "Selecting model: Models/851238/SVM01/Session2\\851238_MI_classifier_2019-04-05-16-59-31.sav\n",
      "Selecting model: Models/851238/SVM01/Session2\\851238_MI_classifier_TL_2019-04-05-16-59-32.sav\n",
      "Selecting BCI EEG file: SaveData/851238/Session2\\20190404140340_851238_BCI.easy\n",
      "Selecting BCI behavioral file: SaveData/851238/Session2\\BCI_851238_R5.csv\n",
      "Skipping N/A\n"
     ]
    },
    {
     "name": "stderr",
     "output_type": "stream",
     "text": [
      "C:\\Users\\nile\\Anaconda3\\envs\\eeg\\lib\\site-packages\\scipy\\signal\\_arraytools.py:45: FutureWarning: Using a non-tuple sequence for multidimensional indexing is deprecated; use `arr[tuple(seq)]` instead of `arr[seq]`. In the future this will be interpreted as an array index, `arr[np.array(seq)]`, which will result either in an error or a different result.\n",
      "  b = a[a_slice]\n",
      "C:\\Users\\nile\\Anaconda3\\envs\\eeg\\lib\\site-packages\\scipy\\signal\\signaltools.py:3463: FutureWarning: Using a non-tuple sequence for multidimensional indexing is deprecated; use `arr[tuple(seq)]` instead of `arr[seq]`. In the future this will be interpreted as an array index, `arr[np.array(seq)]`, which will result either in an error or a different result.\n",
      "  return y[sl]\n"
     ]
    },
    {
     "name": "stdout",
     "output_type": "stream",
     "text": [
      "Selecting model: Models/851238/SVM01/Session2\\851238_MI_classifier_2019-04-05-16-59-22.sav\n",
      "Selecting model: Models/851238/SVM01/Session2\\851238_MI_classifier_2019-04-05-16-59-34.sav\n",
      "Selecting model: Models/851238/SVM01/Session2\\851238_MI_classifier_TL_2019-04-05-16-59-35.sav\n",
      "Selecting BCI EEG file: SaveData/851238/Session3\\20190405161700_851238_BCI.easy\n",
      "Selecting BCI behavioral file: SaveData/851238/Session3\\BCI_851238_R1.csv\n",
      "Skipping N/A\n"
     ]
    },
    {
     "name": "stderr",
     "output_type": "stream",
     "text": [
      "C:\\Users\\nile\\Anaconda3\\envs\\eeg\\lib\\site-packages\\scipy\\signal\\_arraytools.py:45: FutureWarning: Using a non-tuple sequence for multidimensional indexing is deprecated; use `arr[tuple(seq)]` instead of `arr[seq]`. In the future this will be interpreted as an array index, `arr[np.array(seq)]`, which will result either in an error or a different result.\n",
      "  b = a[a_slice]\n",
      "C:\\Users\\nile\\Anaconda3\\envs\\eeg\\lib\\site-packages\\scipy\\signal\\signaltools.py:3463: FutureWarning: Using a non-tuple sequence for multidimensional indexing is deprecated; use `arr[tuple(seq)]` instead of `arr[seq]`. In the future this will be interpreted as an array index, `arr[np.array(seq)]`, which will result either in an error or a different result.\n",
      "  return y[sl]\n"
     ]
    },
    {
     "name": "stdout",
     "output_type": "stream",
     "text": [
      "Selecting model: Models/851238/SVM01/Session3\\851238_MI_classifier_2019-04-05-17-00-18.sav\n",
      "Selecting model: Models/851238/SVM01/Session3\\851238_MI_classifier_2019-04-05-17-00-18.sav\n",
      "Selecting model: Models/851238/SVM01/Session3\\851238_MI_classifier_2019-04-05-17-00-18.sav\n",
      "Selecting BCI EEG file: SaveData/851238/Session3\\20190405162133_851238_BCI.easy\n",
      "Selecting BCI behavioral file: SaveData/851238/Session3\\BCI_851238_R2.csv\n",
      "Skipping N/A\n"
     ]
    },
    {
     "name": "stderr",
     "output_type": "stream",
     "text": [
      "C:\\Users\\nile\\Anaconda3\\envs\\eeg\\lib\\site-packages\\scipy\\signal\\_arraytools.py:45: FutureWarning: Using a non-tuple sequence for multidimensional indexing is deprecated; use `arr[tuple(seq)]` instead of `arr[seq]`. In the future this will be interpreted as an array index, `arr[np.array(seq)]`, which will result either in an error or a different result.\n",
      "  b = a[a_slice]\n",
      "C:\\Users\\nile\\Anaconda3\\envs\\eeg\\lib\\site-packages\\scipy\\signal\\signaltools.py:3463: FutureWarning: Using a non-tuple sequence for multidimensional indexing is deprecated; use `arr[tuple(seq)]` instead of `arr[seq]`. In the future this will be interpreted as an array index, `arr[np.array(seq)]`, which will result either in an error or a different result.\n",
      "  return y[sl]\n"
     ]
    },
    {
     "name": "stdout",
     "output_type": "stream",
     "text": [
      "Selecting model: Models/851238/SVM01/Session3\\851238_MI_classifier_2019-04-05-17-00-18.sav\n",
      "Selecting model: Models/851238/SVM01/Session3\\851238_MI_classifier_2019-04-05-17-00-21.sav\n",
      "Selecting model: Models/851238/SVM01/Session3\\851238_MI_classifier_TL_2019-04-05-17-00-21.sav\n",
      "Selecting BCI EEG file: SaveData/851238/Session3\\20190405162614_851238_BCI.easy\n",
      "Selecting BCI behavioral file: SaveData/851238/Session3\\BCI_851238_R3.csv\n",
      "Skipping N/A\n"
     ]
    },
    {
     "name": "stderr",
     "output_type": "stream",
     "text": [
      "C:\\Users\\nile\\Anaconda3\\envs\\eeg\\lib\\site-packages\\scipy\\signal\\_arraytools.py:45: FutureWarning: Using a non-tuple sequence for multidimensional indexing is deprecated; use `arr[tuple(seq)]` instead of `arr[seq]`. In the future this will be interpreted as an array index, `arr[np.array(seq)]`, which will result either in an error or a different result.\n",
      "  b = a[a_slice]\n",
      "C:\\Users\\nile\\Anaconda3\\envs\\eeg\\lib\\site-packages\\scipy\\signal\\signaltools.py:3463: FutureWarning: Using a non-tuple sequence for multidimensional indexing is deprecated; use `arr[tuple(seq)]` instead of `arr[seq]`. In the future this will be interpreted as an array index, `arr[np.array(seq)]`, which will result either in an error or a different result.\n",
      "  return y[sl]\n"
     ]
    },
    {
     "name": "stdout",
     "output_type": "stream",
     "text": [
      "Selecting model: Models/851238/SVM01/Session3\\851238_MI_classifier_2019-04-05-17-00-18.sav\n",
      "Selecting model: Models/851238/SVM01/Session3\\851238_MI_classifier_2019-04-05-17-00-23.sav\n",
      "Selecting model: Models/851238/SVM01/Session3\\851238_MI_classifier_TL_2019-04-05-17-00-24.sav\n",
      "Selecting BCI EEG file: SaveData/851238/Session3\\20190405163100_851238_BCI.easy\n",
      "Selecting BCI behavioral file: SaveData/851238/Session3\\BCI_851238_R4.csv\n",
      "Skipping N/A\n"
     ]
    },
    {
     "name": "stderr",
     "output_type": "stream",
     "text": [
      "C:\\Users\\nile\\Anaconda3\\envs\\eeg\\lib\\site-packages\\scipy\\signal\\_arraytools.py:45: FutureWarning: Using a non-tuple sequence for multidimensional indexing is deprecated; use `arr[tuple(seq)]` instead of `arr[seq]`. In the future this will be interpreted as an array index, `arr[np.array(seq)]`, which will result either in an error or a different result.\n",
      "  b = a[a_slice]\n",
      "C:\\Users\\nile\\Anaconda3\\envs\\eeg\\lib\\site-packages\\scipy\\signal\\signaltools.py:3463: FutureWarning: Using a non-tuple sequence for multidimensional indexing is deprecated; use `arr[tuple(seq)]` instead of `arr[seq]`. In the future this will be interpreted as an array index, `arr[np.array(seq)]`, which will result either in an error or a different result.\n",
      "  return y[sl]\n"
     ]
    },
    {
     "name": "stdout",
     "output_type": "stream",
     "text": [
      "Selecting model: Models/851238/SVM01/Session3\\851238_MI_classifier_2019-04-05-17-00-18.sav\n",
      "Selecting model: Models/851238/SVM01/Session3\\851238_MI_classifier_2019-04-05-17-00-26.sav\n",
      "Selecting model: Models/851238/SVM01/Session3\\851238_MI_classifier_TL_2019-04-05-17-00-27.sav\n",
      "Selecting BCI EEG file: SaveData/851238/Session3\\20190405163545_851238_BCI.easy\n",
      "Selecting BCI behavioral file: SaveData/851238/Session3\\BCI_851238_R5.csv\n",
      "Skipping N/A\n"
     ]
    },
    {
     "name": "stderr",
     "output_type": "stream",
     "text": [
      "C:\\Users\\nile\\Anaconda3\\envs\\eeg\\lib\\site-packages\\scipy\\signal\\_arraytools.py:45: FutureWarning: Using a non-tuple sequence for multidimensional indexing is deprecated; use `arr[tuple(seq)]` instead of `arr[seq]`. In the future this will be interpreted as an array index, `arr[np.array(seq)]`, which will result either in an error or a different result.\n",
      "  b = a[a_slice]\n",
      "C:\\Users\\nile\\Anaconda3\\envs\\eeg\\lib\\site-packages\\scipy\\signal\\signaltools.py:3463: FutureWarning: Using a non-tuple sequence for multidimensional indexing is deprecated; use `arr[tuple(seq)]` instead of `arr[seq]`. In the future this will be interpreted as an array index, `arr[np.array(seq)]`, which will result either in an error or a different result.\n",
      "  return y[sl]\n"
     ]
    },
    {
     "name": "stdout",
     "output_type": "stream",
     "text": [
      "Selecting model: Models/851238/SVM01/Session3\\851238_MI_classifier_2019-04-05-17-00-18.sav\n",
      "Selecting model: Models/851238/SVM01/Session3\\851238_MI_classifier_2019-04-05-17-00-29.sav\n",
      "Selecting model: Models/851238/SVM01/Session3\\851238_MI_classifier_TL_2019-04-05-17-00-30.sav\n"
     ]
    }
   ],
   "source": [
    "orig_scores = list()\n",
    "sim_scores = list()\n",
    "sim_TL_scores = list()\n",
    "X_orig_all = dict()\n",
    "y_orig_all = dict()\n",
    "X_sim_all = dict()\n",
    "y_sim_all = dict()\n",
    "X_sim_TL_all = dict()\n",
    "y_sim_TL_all = dict()\n",
    "clf_orig_all = dict()\n",
    "clf_sim_all = dict()\n",
    "clf_sim_TL_all = dict() # for simulated true-label adaptation\n",
    "behavioralData_all = dict()\n",
    "hasBaseline_all = dict()\n",
    "counter = 1 # keeps track of all runs (start from 1->15)\n",
    "\n",
    "for session_number in range(1,3+1):\n",
    "    for runOfInt in range(1, num_of_runs+1):\n",
    "        # Find BCI file names\n",
    "        filename_eeg, filename_behavioral = FindBCIFiles(subjID, runOfInt, session_number, model_type)\n",
    "\n",
    "        # Load EEG data\n",
    "        EEGdata, fs, fs_accel = LoadEEGData(filename_eeg, EEGdevice)\n",
    "\n",
    "        # Load behavioral data\n",
    "        behavioralData = LoadBehavioralDataBCI(filename_behavioral)\n",
    "        behavioralData_all[counter] = behavioralData\n",
    "\n",
    "        # Sync up trigger pulses\n",
    "        num_of_trials, num_of_movements, move_starts, hasBaseline, rest_starts, rest_ends = SyncTriggerPulsesBCI(EEGdata, EEGdevice, fs, behavioralData)\n",
    "        hasBaseline_all[counter] = hasBaseline\n",
    "\n",
    "        # Epoch the data\n",
    "        epochs, epochs_norm = EpochBCIData(EEGdata, fs, move_starts, rest_starts, rest_ends)\n",
    "\n",
    "        # Organize trial types\n",
    "        trial_type = OrganizeTrials(behavioralData, hasBaseline)\n",
    "\n",
    "        # Get signal features\n",
    "        alpha_power, beta_power = ExtractFeaturesBCI(epochs_norm, num_of_movements, ['C3','C4'], 1)\n",
    "        motor_features = [alpha_power['C3'], beta_power['C3'], alpha_power['C4'], beta_power['C4']]\n",
    "        motor_features = np.transpose(motor_features)\n",
    "\n",
    "        # Load a specific model (0 loads initial model trained on screening)\n",
    "        # If using run_number, it will load the model created just prior to\n",
    "        # this BCI run (simulated or created during the session)\n",
    "        if subject_group == 1:\n",
    "            clf_orig, X_loaded, y_loaded = LoadModel_MI(subjID, model_type, 1, session_number, 'None')\n",
    "        elif subject_group == 2:\n",
    "            clf_orig, X_loaded, y_loaded = LoadModel_MI(subjID, model_type, runOfInt, session_number, 'CS')\n",
    "\n",
    "        # Get the original score\n",
    "        X = (motor_features - np.mean(X_loaded,0))/np.std(X_loaded,0)\n",
    "        y = trial_type\n",
    "        orig_score = clf_orig.score(X, y)*100\n",
    "        X_orig_all[counter] = X\n",
    "        y_orig_all[counter] = y\n",
    "\n",
    "        # Get the simulated score (no adaptation or CS adaptation)\n",
    "        if subject_group == 1:\n",
    "            clf_sim, X_loaded, y_loaded = LoadModel_MI(subjID, model_type, runOfInt, session_number, 'CS')\n",
    "        elif subject_group == 2:\n",
    "            clf_sim, X_loaded, y_loaded = LoadModel_MI(subjID, model_type, 1, session_number, 'None')\n",
    "\n",
    "        X = (motor_features - np.mean(X_loaded,0))/np.std(X_loaded,0)\n",
    "        y = trial_type\n",
    "        sim_score = clf_sim.score(X, y)*100\n",
    "        X_sim_all[counter] = X\n",
    "        y_sim_all[counter] = y\n",
    "\n",
    "        # Get the true label simulation score\n",
    "        if runOfInt == 1:\n",
    "            clf_sim_TL, X_loaded, y_loaded = LoadModel_MI(subjID, model_type, 1, session_number, 'None')\n",
    "        else:\n",
    "            clf_sim_TL, X_loaded, y_loaded = LoadModel_MI(subjID, model_type, runOfInt, session_number, 'TL')\n",
    "        X = (motor_features - np.mean(X_loaded,0))/np.std(X_loaded,0)\n",
    "        y = trial_type\n",
    "        sim_TL_score = clf_sim_TL.score(X, y)*100\n",
    "        X_sim_TL_all[counter] = X\n",
    "        y_sim_TL_all[counter] = y\n",
    "\n",
    "        # Store values\n",
    "        orig_scores.append(orig_score)\n",
    "        sim_scores.append(sim_score)\n",
    "        sim_TL_scores.append(sim_TL_score)\n",
    "        clf_orig_all[counter] = clf_orig\n",
    "        clf_sim_all[counter] = clf_sim\n",
    "        clf_sim_TL_all[counter] = clf_sim_TL\n",
    "        counter += 1"
   ]
  },
  {
   "cell_type": "markdown",
   "metadata": {},
   "source": [
    "Note that the overall simulated BCI performance may be better if you do a one-time filter on all the data prior to epoching, but to keep this a true simulation, we filter per epoch here."
   ]
  },
  {
   "cell_type": "code",
   "execution_count": 15,
   "metadata": {},
   "outputs": [],
   "source": [
    "actual_scores = list()\n",
    "for runOfInt in range(1,15+1):\n",
    "    actual, TL = GetBehavioralTL(runOfInt, behavioralData_all, hasBaseline_all)\n",
    "    correct_all = len(np.where(TL==actual)[0])/len(TL)*100\n",
    "    actual_scores.append(correct_all)"
   ]
  },
  {
   "cell_type": "code",
   "execution_count": 16,
   "metadata": {},
   "outputs": [
    {
     "data": {
      "image/png": "[encoded data removed]",
      "text/plain": [
       "<Figure size 1152x288 with 1 Axes>"
      ]
     },
     "metadata": {
      "needs_background": "light"
     },
     "output_type": "display_data"
    }
   ],
   "source": [
    "fig = plt.figure(figsize=(16,4))\n",
    "if subject_group == 1:\n",
    "    if useBehavioral is True:\n",
    "        plt.plot(actual_scores, color='green', marker='o', markersize=8,\n",
    "             linestyle='dashed', linewidth=2)\n",
    "    else:\n",
    "        plt.plot(orig_scores, color='green', marker='o', markersize=8,\n",
    "             linestyle='dashed', linewidth=2)\n",
    "    plt.plot(sim_scores, color='yellowgreen', marker='^', markersize=8,\n",
    "             linestyle='dashed', linewidth=2)\n",
    "    plt.plot(sim_TL_scores, color='orange', marker='P', markersize=8,\n",
    "             linestyle='dashed', linewidth=2)\n",
    "    plt.title(subjID + ', BCI performance, All Sessions, ' + model_type)\n",
    "    lgd = plt.legend(['No Adaptation','Simulated Adaptation (CS)','Simulated Adaptation (TL)','Chance'],\n",
    "              loc='upper center', bbox_to_anchor=(0.5, -0.10))\n",
    "    \n",
    "elif subject_group == 2:\n",
    "    plt.plot(sim_scores, color='green', marker='o', markersize=8,\n",
    "             linestyle='dashed', linewidth=2)\n",
    "    if useBehavioral is True:\n",
    "        plt.plot(actual_scores, color='yellowgreen', marker='^', markersize=8,\n",
    "             linestyle='dashed', linewidth=2)\n",
    "    else:\n",
    "        plt.plot(orig_scores, color='yellowgreen', marker='^', markersize=8,\n",
    "             linestyle='dashed', linewidth=2)\n",
    "    plt.plot(sim_TL_scores, color='orange', marker='P', markersize=8,\n",
    "             linestyle='dashed', linewidth=2)\n",
    "    plt.title(subjID + ', BCI performance, All Sessions, ' + model_type)\n",
    "    lgd = plt.legend(['Simulated No Adaptation','Co-Adaptation (CS)','Simulated Adaptation (TL)','Chance'],\n",
    "              loc='upper center', bbox_to_anchor=(0.5, -0.10))\n",
    "# Plot properties\n",
    "plt.xticks([0, 1, 2, 3, 4, 5, 6, 7, 8, 9, 10, 11, 12, 13, 14],\n",
    "           ['Run 1','Run 2','Run 3','Run 4','Run 5','Run 6','Run 7','Run 8','Run 9','Run 10',\n",
    "           'Run 11','Run 12','Run 13','Run 14','Run 15'])\n",
    "plt.ylabel('Performance (%)')\n",
    "plt.hlines(y=50, xmin=0, xmax=14, color='gray', linestyles='dashed',\n",
    "           linewidth=1, alpha=0.5)\n",
    "plt.axvline(x=0, alpha=0.15, linewidth=5, color='gray', linestyle='solid')\n",
    "plt.axvline(x=5, alpha=0.15, linewidth=5, color='gray', linestyle='solid')\n",
    "plt.axvline(x=10, alpha=0.15, linewidth=5, color='gray', linestyle='solid')\n",
    "plt.ylim([0, 100])\n",
    "plt.xlim([-0.5,14.5])\n",
    "\n",
    "plt.show()\n",
    "fig.savefig('Figures/' + subjID + '/' + model_type + '/' + subjID + '_Performance_Session-all.png',\n",
    "            bbox_extra_artists=(lgd,), bbox_inches='tight')"
   ]
  },
  {
   "cell_type": "code",
   "execution_count": 17,
   "metadata": {},
   "outputs": [
    {
     "data": {
      "image/png": "[encoded data removed]",
      "text/plain": [
       "<Figure size 1152x288 with 1 Axes>"
      ]
     },
     "metadata": {
      "needs_background": "light"
     },
     "output_type": "display_data"
    }
   ],
   "source": [
    "min_all = np.min([np.min(orig_scores),np.min(sim_scores),np.min(sim_TL_scores)])\n",
    "max_all = np.max([np.max(orig_scores),np.max(sim_scores),np.max(sim_TL_scores)])\n",
    "\n",
    "fig = plt.figure(figsize=(16,4))\n",
    "if subject_group == 1:\n",
    "    if useBehavioral is True:\n",
    "        plt.plot(actual_scores, color='green', marker='o', markersize=8,\n",
    "             linestyle='dashed', linewidth=2)\n",
    "    else:\n",
    "        plt.plot(orig_scores, color='green', marker='o', markersize=8,\n",
    "             linestyle='dashed', linewidth=2)\n",
    "    plt.plot(sim_scores, color='yellowgreen', marker='^', markersize=8,\n",
    "             linestyle='dashed', linewidth=2)\n",
    "    plt.plot(sim_TL_scores, color='orange', marker='P', markersize=8,\n",
    "             linestyle='dashed', linewidth=2)\n",
    "    plt.title(subjID + ', BCI performance, All Sessions, ' + model_type)\n",
    "    lgd = plt.legend(['No Adaptation','Simulated Adaptation (CS)','Simulated Adaptation (TL)','Chance'],\n",
    "              loc='upper center', bbox_to_anchor=(0.5, -0.10))\n",
    "    \n",
    "elif subject_group == 2:\n",
    "    plt.plot(sim_scores, color='green', marker='o', markersize=8,\n",
    "             linestyle='dashed', linewidth=2)\n",
    "    if useBehavioral is True:\n",
    "        plt.plot(actual_scores, color='yellowgreen', marker='^', markersize=8,\n",
    "             linestyle='dashed', linewidth=2)\n",
    "    else:\n",
    "        plt.plot(orig_scores, color='yellowgreen', marker='^', markersize=8,\n",
    "             linestyle='dashed', linewidth=2)\n",
    "    plt.plot(sim_TL_scores, color='orange', marker='P', markersize=8,\n",
    "             linestyle='dashed', linewidth=2)\n",
    "    plt.title(subjID + ', BCI performance, All Sessions, ' + model_type)\n",
    "    lgd = plt.legend(['Simulated No Adaptation','Co-Adaptation (CS)','Simulated Adaptation (TL)','Chance'],\n",
    "              loc='upper center', bbox_to_anchor=(0.5, -0.10))\n",
    "# Plot properties\n",
    "plt.xticks([0, 1, 2, 3, 4, 5, 6, 7, 8, 9, 10, 11, 12, 13, 14],\n",
    "           ['Run 1','Run 2','Run 3','Run 4','Run 5','Run 6','Run 7','Run 8','Run 9','Run 10',\n",
    "           'Run 11','Run 12','Run 13','Run 14','Run 15'])\n",
    "plt.ylabel('Performance (%)')\n",
    "plt.hlines(y=50, xmin=0, xmax=14, color='gray', linestyles='dashed',\n",
    "           linewidth=1, alpha=0.5)\n",
    "plt.axvline(x=0, alpha=0.15, linewidth=5, color='gray', linestyle='solid')\n",
    "plt.axvline(x=5, alpha=0.15, linewidth=5, color='gray', linestyle='solid')\n",
    "plt.axvline(x=10, alpha=0.15, linewidth=5, color='gray', linestyle='solid')\n",
    "plt.ylim([min_all-2, max_all+2])\n",
    "plt.xlim([-0.5,14.5])\n",
    "\n",
    "plt.show()\n",
    "fig.savefig('Figures/' + subjID + '/' + model_type + '/' + subjID + '_Performance_Session-all_zoom.png',\n",
    "            bbox_extra_artists=(lgd,), bbox_inches='tight')"
   ]
  },
  {
   "cell_type": "markdown",
   "metadata": {},
   "source": [
    "## All Subjects\n",
    "Plot average across all subjects"
   ]
  },
  {
   "cell_type": "code",
   "execution_count": 10,
   "metadata": {},
   "outputs": [],
   "source": [
    "# Load in using demographics table instead\n",
    "# excluding 97e442\n",
    "subjID_all = ['b12a46','41d8ff','1e8b34','ad11cf',\n",
    "              'af9af3','c795d2','5ea9e5','e2cbc4',\n",
    "              'b7ff16','42feb7','9d4921','05ecbc',\n",
    "              '912433','6f6b76','dcdb48','d4aee6','994dba','303d01']\n",
    "subject_group_all = [1,1,1,1,1,1,1,1,2,2,2,2,2,2,2,2,2,2]"
   ]
  },
  {
   "cell_type": "markdown",
   "metadata": {},
   "source": [
    "Update the `subject_count` tracking to work with demographics table stuff (should be easier)"
   ]
  },
  {
   "cell_type": "code",
   "execution_count": 11,
   "metadata": {},
   "outputs": [
    {
     "name": "stdout",
     "output_type": "stream",
     "text": [
      "Selecting BCI EEG file: SaveData/b12a46/Session1\\20190206095241_b12a46_BCI.easy\n",
      "Selecting BCI behavioral file: SaveData/b12a46/Session1\\BCI_b12a46_R1.csv\n",
      "Skipping N/A\n"
     ]
    },
    {
     "name": "stderr",
     "output_type": "stream",
     "text": [
      "C:\\Users\\nile\\Anaconda3\\envs\\eeg\\lib\\site-packages\\scipy\\signal\\_arraytools.py:45: FutureWarning: Using a non-tuple sequence for multidimensional indexing is deprecated; use `arr[tuple(seq)]` instead of `arr[seq]`. In the future this will be interpreted as an array index, `arr[np.array(seq)]`, which will result either in an error or a different result.\n",
      "  b = a[a_slice]\n",
      "C:\\Users\\nile\\Anaconda3\\envs\\eeg\\lib\\site-packages\\scipy\\signal\\signaltools.py:3463: FutureWarning: Using a non-tuple sequence for multidimensional indexing is deprecated; use `arr[tuple(seq)]` instead of `arr[seq]`. In the future this will be interpreted as an array index, `arr[np.array(seq)]`, which will result either in an error or a different result.\n",
      "  return y[sl]\n"
     ]
    },
    {
     "name": "stdout",
     "output_type": "stream",
     "text": [
      "Selecting model: Models/b12a46/experimental/Session1\\b12a46_MI_classifier_2019-03-06-15-30-54.sav\n",
      "Selecting model: Models/b12a46/experimental/Session1\\b12a46_MI_classifier_2019-03-06-15-30-54.sav\n",
      "Selecting model: Models/b12a46/experimental/Session1\\b12a46_MI_classifier_2019-03-06-15-30-54.sav\n",
      "Selecting BCI EEG file: SaveData/b12a46/Session1\\20190206095756_b12a46_BCI.easy\n",
      "Selecting BCI behavioral file: SaveData/b12a46/Session1\\BCI_b12a46_R2.csv\n",
      "Skipping N/A\n"
     ]
    },
    {
     "name": "stderr",
     "output_type": "stream",
     "text": [
      "C:\\Users\\nile\\Anaconda3\\envs\\eeg\\lib\\site-packages\\scipy\\signal\\_arraytools.py:45: FutureWarning: Using a non-tuple sequence for multidimensional indexing is deprecated; use `arr[tuple(seq)]` instead of `arr[seq]`. In the future this will be interpreted as an array index, `arr[np.array(seq)]`, which will result either in an error or a different result.\n",
      "  b = a[a_slice]\n",
      "C:\\Users\\nile\\Anaconda3\\envs\\eeg\\lib\\site-packages\\scipy\\signal\\signaltools.py:3463: FutureWarning: Using a non-tuple sequence for multidimensional indexing is deprecated; use `arr[tuple(seq)]` instead of `arr[seq]`. In the future this will be interpreted as an array index, `arr[np.array(seq)]`, which will result either in an error or a different result.\n",
      "  return y[sl]\n"
     ]
    },
    {
     "name": "stdout",
     "output_type": "stream",
     "text": [
      "Selecting model: Models/b12a46/experimental/Session1\\b12a46_MI_classifier_2019-03-06-15-30-54.sav\n",
      "Selecting model: Models/b12a46/experimental/Session1\\b12a46_MI_classifier_2019-03-06-15-30-57.sav\n",
      "Selecting model: Models/b12a46/experimental/Session1\\b12a46_MI_classifier_TL_2019-03-06-15-30-58.sav\n",
      "Selecting BCI EEG file: SaveData/b12a46/Session1\\20190206100259_b12a46_BCI.easy\n",
      "Selecting BCI behavioral file: SaveData/b12a46/Session1\\BCI_b12a46_R3.csv\n",
      "Skipping N/A\n"
     ]
    },
    {
     "name": "stderr",
     "output_type": "stream",
     "text": [
      "C:\\Users\\nile\\Anaconda3\\envs\\eeg\\lib\\site-packages\\scipy\\signal\\_arraytools.py:45: FutureWarning: Using a non-tuple sequence for multidimensional indexing is deprecated; use `arr[tuple(seq)]` instead of `arr[seq]`. In the future this will be interpreted as an array index, `arr[np.array(seq)]`, which will result either in an error or a different result.\n",
      "  b = a[a_slice]\n",
      "C:\\Users\\nile\\Anaconda3\\envs\\eeg\\lib\\site-packages\\scipy\\signal\\signaltools.py:3463: FutureWarning: Using a non-tuple sequence for multidimensional indexing is deprecated; use `arr[tuple(seq)]` instead of `arr[seq]`. In the future this will be interpreted as an array index, `arr[np.array(seq)]`, which will result either in an error or a different result.\n",
      "  return y[sl]\n"
     ]
    },
    {
     "name": "stdout",
     "output_type": "stream",
     "text": [
      "Selecting model: Models/b12a46/experimental/Session1\\b12a46_MI_classifier_2019-03-06-15-30-54.sav\n",
      "Selecting model: Models/b12a46/experimental/Session1\\b12a46_MI_classifier_2019-03-06-15-31-01.sav\n",
      "Selecting model: Models/b12a46/experimental/Session1\\b12a46_MI_classifier_TL_2019-03-06-15-31-02.sav\n",
      "Selecting BCI EEG file: SaveData/b12a46/Session1\\20190206100731_b12a46_BCI.easy\n",
      "Selecting BCI behavioral file: SaveData/b12a46/Session1\\BCI_b12a46_R4.csv\n",
      "Skipping N/A\n"
     ]
    },
    {
     "name": "stderr",
     "output_type": "stream",
     "text": [
      "C:\\Users\\nile\\Anaconda3\\envs\\eeg\\lib\\site-packages\\scipy\\signal\\_arraytools.py:45: FutureWarning: Using a non-tuple sequence for multidimensional indexing is deprecated; use `arr[tuple(seq)]` instead of `arr[seq]`. In the future this will be interpreted as an array index, `arr[np.array(seq)]`, which will result either in an error or a different result.\n",
      "  b = a[a_slice]\n",
      "C:\\Users\\nile\\Anaconda3\\envs\\eeg\\lib\\site-packages\\scipy\\signal\\signaltools.py:3463: FutureWarning: Using a non-tuple sequence for multidimensional indexing is deprecated; use `arr[tuple(seq)]` instead of `arr[seq]`. In the future this will be interpreted as an array index, `arr[np.array(seq)]`, which will result either in an error or a different result.\n",
      "  return y[sl]\n"
     ]
    },
    {
     "name": "stdout",
     "output_type": "stream",
     "text": [
      "Selecting model: Models/b12a46/experimental/Session1\\b12a46_MI_classifier_2019-03-06-15-30-54.sav\n",
      "Selecting model: Models/b12a46/experimental/Session1\\b12a46_MI_classifier_2019-03-06-15-31-05.sav\n",
      "Selecting model: Models/b12a46/experimental/Session1\\b12a46_MI_classifier_TL_2019-03-06-15-31-06.sav\n",
      "Selecting BCI EEG file: SaveData/b12a46/Session1\\20190206101239_b12a46_BCI.easy\n",
      "Selecting BCI behavioral file: SaveData/b12a46/Session1\\BCI_b12a46_R5.csv\n",
      "Skipping N/A\n"
     ]
    },
    {
     "name": "stderr",
     "output_type": "stream",
     "text": [
      "C:\\Users\\nile\\Anaconda3\\envs\\eeg\\lib\\site-packages\\scipy\\signal\\_arraytools.py:45: FutureWarning: Using a non-tuple sequence for multidimensional indexing is deprecated; use `arr[tuple(seq)]` instead of `arr[seq]`. In the future this will be interpreted as an array index, `arr[np.array(seq)]`, which will result either in an error or a different result.\n",
      "  b = a[a_slice]\n",
      "C:\\Users\\nile\\Anaconda3\\envs\\eeg\\lib\\site-packages\\scipy\\signal\\signaltools.py:3463: FutureWarning: Using a non-tuple sequence for multidimensional indexing is deprecated; use `arr[tuple(seq)]` instead of `arr[seq]`. In the future this will be interpreted as an array index, `arr[np.array(seq)]`, which will result either in an error or a different result.\n",
      "  return y[sl]\n"
     ]
    },
    {
     "name": "stdout",
     "output_type": "stream",
     "text": [
      "Selecting model: Models/b12a46/experimental/Session1\\b12a46_MI_classifier_2019-03-06-15-30-54.sav\n",
      "Selecting model: Models/b12a46/experimental/Session1\\b12a46_MI_classifier_2019-03-06-15-31-08.sav\n",
      "Selecting model: Models/b12a46/experimental/Session1\\b12a46_MI_classifier_TL_2019-03-06-15-31-10.sav\n",
      "Selecting BCI EEG file: SaveData/b12a46/Session2\\20190214161532_b12a46_BCI.easy\n",
      "Selecting BCI behavioral file: SaveData/b12a46/Session2\\BCI_b12a46_R1.csv\n",
      "Skipping N/A\n"
     ]
    },
    {
     "name": "stderr",
     "output_type": "stream",
     "text": [
      "C:\\Users\\nile\\Anaconda3\\envs\\eeg\\lib\\site-packages\\scipy\\signal\\_arraytools.py:45: FutureWarning: Using a non-tuple sequence for multidimensional indexing is deprecated; use `arr[tuple(seq)]` instead of `arr[seq]`. In the future this will be interpreted as an array index, `arr[np.array(seq)]`, which will result either in an error or a different result.\n",
      "  b = a[a_slice]\n",
      "C:\\Users\\nile\\Anaconda3\\envs\\eeg\\lib\\site-packages\\scipy\\signal\\signaltools.py:3463: FutureWarning: Using a non-tuple sequence for multidimensional indexing is deprecated; use `arr[tuple(seq)]` instead of `arr[seq]`. In the future this will be interpreted as an array index, `arr[np.array(seq)]`, which will result either in an error or a different result.\n",
      "  return y[sl]\n"
     ]
    },
    {
     "name": "stdout",
     "output_type": "stream",
     "text": [
      "Selecting model: Models/b12a46/experimental/Session2\\b12a46_MI_classifier_2019-03-06-15-36-13.sav\n",
      "Selecting model: Models/b12a46/experimental/Session2\\b12a46_MI_classifier_2019-03-06-15-36-13.sav\n",
      "Selecting model: Models/b12a46/experimental/Session2\\b12a46_MI_classifier_2019-03-06-15-36-13.sav\n",
      "Selecting BCI EEG file: SaveData/b12a46/Session2\\20190214162030_b12a46_BCI.easy\n",
      "Selecting BCI behavioral file: SaveData/b12a46/Session2\\BCI_b12a46_R2.csv\n",
      "Skipping N/A\n"
     ]
    },
    {
     "name": "stderr",
     "output_type": "stream",
     "text": [
      "C:\\Users\\nile\\Anaconda3\\envs\\eeg\\lib\\site-packages\\scipy\\signal\\_arraytools.py:45: FutureWarning: Using a non-tuple sequence for multidimensional indexing is deprecated; use `arr[tuple(seq)]` instead of `arr[seq]`. In the future this will be interpreted as an array index, `arr[np.array(seq)]`, which will result either in an error or a different result.\n",
      "  b = a[a_slice]\n",
      "C:\\Users\\nile\\Anaconda3\\envs\\eeg\\lib\\site-packages\\scipy\\signal\\signaltools.py:3463: FutureWarning: Using a non-tuple sequence for multidimensional indexing is deprecated; use `arr[tuple(seq)]` instead of `arr[seq]`. In the future this will be interpreted as an array index, `arr[np.array(seq)]`, which will result either in an error or a different result.\n",
      "  return y[sl]\n"
     ]
    },
    {
     "name": "stdout",
     "output_type": "stream",
     "text": [
      "Selecting model: Models/b12a46/experimental/Session2\\b12a46_MI_classifier_2019-03-06-15-36-13.sav\n",
      "Selecting model: Models/b12a46/experimental/Session2\\b12a46_MI_classifier_2019-03-06-15-36-17.sav\n",
      "Selecting model: Models/b12a46/experimental/Session2\\b12a46_MI_classifier_TL_2019-03-06-15-36-17.sav\n",
      "Selecting BCI EEG file: SaveData/b12a46/Session2\\20190214162551_b12a46_BCI.easy\n",
      "Selecting BCI behavioral file: SaveData/b12a46/Session2\\BCI_b12a46_R3.csv\n",
      "Skipping N/A\n"
     ]
    },
    {
     "name": "stderr",
     "output_type": "stream",
     "text": [
      "C:\\Users\\nile\\Anaconda3\\envs\\eeg\\lib\\site-packages\\scipy\\signal\\_arraytools.py:45: FutureWarning: Using a non-tuple sequence for multidimensional indexing is deprecated; use `arr[tuple(seq)]` instead of `arr[seq]`. In the future this will be interpreted as an array index, `arr[np.array(seq)]`, which will result either in an error or a different result.\n",
      "  b = a[a_slice]\n",
      "C:\\Users\\nile\\Anaconda3\\envs\\eeg\\lib\\site-packages\\scipy\\signal\\signaltools.py:3463: FutureWarning: Using a non-tuple sequence for multidimensional indexing is deprecated; use `arr[tuple(seq)]` instead of `arr[seq]`. In the future this will be interpreted as an array index, `arr[np.array(seq)]`, which will result either in an error or a different result.\n",
      "  return y[sl]\n"
     ]
    },
    {
     "name": "stdout",
     "output_type": "stream",
     "text": [
      "Selecting model: Models/b12a46/experimental/Session2\\b12a46_MI_classifier_2019-03-06-15-36-13.sav\n",
      "Selecting model: Models/b12a46/experimental/Session2\\b12a46_MI_classifier_2019-03-06-15-36-20.sav\n",
      "Selecting model: Models/b12a46/experimental/Session2\\b12a46_MI_classifier_TL_2019-03-06-15-36-21.sav\n",
      "Selecting BCI EEG file: SaveData/b12a46/Session2\\20190214163053_b12a46_BCI.easy\n",
      "Selecting BCI behavioral file: SaveData/b12a46/Session2\\BCI_b12a46_R4.csv\n",
      "Skipping N/A\n"
     ]
    },
    {
     "name": "stderr",
     "output_type": "stream",
     "text": [
      "C:\\Users\\nile\\Anaconda3\\envs\\eeg\\lib\\site-packages\\scipy\\signal\\_arraytools.py:45: FutureWarning: Using a non-tuple sequence for multidimensional indexing is deprecated; use `arr[tuple(seq)]` instead of `arr[seq]`. In the future this will be interpreted as an array index, `arr[np.array(seq)]`, which will result either in an error or a different result.\n",
      "  b = a[a_slice]\n",
      "C:\\Users\\nile\\Anaconda3\\envs\\eeg\\lib\\site-packages\\scipy\\signal\\signaltools.py:3463: FutureWarning: Using a non-tuple sequence for multidimensional indexing is deprecated; use `arr[tuple(seq)]` instead of `arr[seq]`. In the future this will be interpreted as an array index, `arr[np.array(seq)]`, which will result either in an error or a different result.\n",
      "  return y[sl]\n"
     ]
    },
    {
     "name": "stdout",
     "output_type": "stream",
     "text": [
      "Selecting model: Models/b12a46/experimental/Session2\\b12a46_MI_classifier_2019-03-06-15-36-13.sav\n",
      "Selecting model: Models/b12a46/experimental/Session2\\b12a46_MI_classifier_2019-03-06-15-36-24.sav\n",
      "Selecting model: Models/b12a46/experimental/Session2\\b12a46_MI_classifier_TL_2019-03-06-15-36-26.sav\n",
      "Selecting BCI EEG file: SaveData/b12a46/Session2\\20190214163546_b12a46_BCI.easy\n",
      "Selecting BCI behavioral file: SaveData/b12a46/Session2\\BCI_b12a46_R5.csv\n",
      "Skipping N/A\n"
     ]
    },
    {
     "name": "stderr",
     "output_type": "stream",
     "text": [
      "C:\\Users\\nile\\Anaconda3\\envs\\eeg\\lib\\site-packages\\scipy\\signal\\_arraytools.py:45: FutureWarning: Using a non-tuple sequence for multidimensional indexing is deprecated; use `arr[tuple(seq)]` instead of `arr[seq]`. In the future this will be interpreted as an array index, `arr[np.array(seq)]`, which will result either in an error or a different result.\n",
      "  b = a[a_slice]\n",
      "C:\\Users\\nile\\Anaconda3\\envs\\eeg\\lib\\site-packages\\scipy\\signal\\signaltools.py:3463: FutureWarning: Using a non-tuple sequence for multidimensional indexing is deprecated; use `arr[tuple(seq)]` instead of `arr[seq]`. In the future this will be interpreted as an array index, `arr[np.array(seq)]`, which will result either in an error or a different result.\n",
      "  return y[sl]\n"
     ]
    },
    {
     "name": "stdout",
     "output_type": "stream",
     "text": [
      "Selecting model: Models/b12a46/experimental/Session2\\b12a46_MI_classifier_2019-03-06-15-36-13.sav\n",
      "Selecting model: Models/b12a46/experimental/Session2\\b12a46_MI_classifier_2019-03-06-15-36-29.sav\n",
      "Selecting model: Models/b12a46/experimental/Session2\\b12a46_MI_classifier_TL_2019-03-06-15-36-30.sav\n",
      "Selecting BCI EEG file: SaveData/b12a46/Session3\\20190221131719_b12a46_BCI.easy\n",
      "Selecting BCI behavioral file: SaveData/b12a46/Session3\\BCI_b12a46_R1.csv\n",
      "Skipping N/A\n"
     ]
    },
    {
     "name": "stderr",
     "output_type": "stream",
     "text": [
      "C:\\Users\\nile\\Anaconda3\\envs\\eeg\\lib\\site-packages\\scipy\\signal\\_arraytools.py:45: FutureWarning: Using a non-tuple sequence for multidimensional indexing is deprecated; use `arr[tuple(seq)]` instead of `arr[seq]`. In the future this will be interpreted as an array index, `arr[np.array(seq)]`, which will result either in an error or a different result.\n",
      "  b = a[a_slice]\n",
      "C:\\Users\\nile\\Anaconda3\\envs\\eeg\\lib\\site-packages\\scipy\\signal\\signaltools.py:3463: FutureWarning: Using a non-tuple sequence for multidimensional indexing is deprecated; use `arr[tuple(seq)]` instead of `arr[seq]`. In the future this will be interpreted as an array index, `arr[np.array(seq)]`, which will result either in an error or a different result.\n",
      "  return y[sl]\n"
     ]
    },
    {
     "name": "stdout",
     "output_type": "stream",
     "text": [
      "Selecting model: Models/b12a46/experimental/Session3\\b12a46_MI_classifier_2019-03-06-15-38-39.sav\n",
      "Selecting model: Models/b12a46/experimental/Session3\\b12a46_MI_classifier_2019-03-06-15-38-39.sav\n",
      "Selecting model: Models/b12a46/experimental/Session3\\b12a46_MI_classifier_2019-03-06-15-38-39.sav\n",
      "Selecting BCI EEG file: SaveData/b12a46/Session3\\20190221132158_b12a46_BCI.easy\n",
      "Selecting BCI behavioral file: SaveData/b12a46/Session3\\BCI_b12a46_R2.csv\n",
      "Skipping N/A\n"
     ]
    },
    {
     "name": "stderr",
     "output_type": "stream",
     "text": [
      "C:\\Users\\nile\\Anaconda3\\envs\\eeg\\lib\\site-packages\\scipy\\signal\\_arraytools.py:45: FutureWarning: Using a non-tuple sequence for multidimensional indexing is deprecated; use `arr[tuple(seq)]` instead of `arr[seq]`. In the future this will be interpreted as an array index, `arr[np.array(seq)]`, which will result either in an error or a different result.\n",
      "  b = a[a_slice]\n",
      "C:\\Users\\nile\\Anaconda3\\envs\\eeg\\lib\\site-packages\\scipy\\signal\\signaltools.py:3463: FutureWarning: Using a non-tuple sequence for multidimensional indexing is deprecated; use `arr[tuple(seq)]` instead of `arr[seq]`. In the future this will be interpreted as an array index, `arr[np.array(seq)]`, which will result either in an error or a different result.\n",
      "  return y[sl]\n"
     ]
    },
    {
     "name": "stdout",
     "output_type": "stream",
     "text": [
      "Selecting model: Models/b12a46/experimental/Session3\\b12a46_MI_classifier_2019-03-06-15-38-39.sav\n",
      "Selecting model: Models/b12a46/experimental/Session3\\b12a46_MI_classifier_2019-03-06-15-38-43.sav\n",
      "Selecting model: Models/b12a46/experimental/Session3\\b12a46_MI_classifier_TL_2019-03-06-15-38-43.sav\n",
      "Selecting BCI EEG file: SaveData/b12a46/Session3\\20190221132631_b12a46_BCI.easy\n",
      "Selecting BCI behavioral file: SaveData/b12a46/Session3\\BCI_b12a46_R3.csv\n",
      "Skipping N/A\n"
     ]
    },
    {
     "name": "stderr",
     "output_type": "stream",
     "text": [
      "C:\\Users\\nile\\Anaconda3\\envs\\eeg\\lib\\site-packages\\scipy\\signal\\_arraytools.py:45: FutureWarning: Using a non-tuple sequence for multidimensional indexing is deprecated; use `arr[tuple(seq)]` instead of `arr[seq]`. In the future this will be interpreted as an array index, `arr[np.array(seq)]`, which will result either in an error or a different result.\n",
      "  b = a[a_slice]\n",
      "C:\\Users\\nile\\Anaconda3\\envs\\eeg\\lib\\site-packages\\scipy\\signal\\signaltools.py:3463: FutureWarning: Using a non-tuple sequence for multidimensional indexing is deprecated; use `arr[tuple(seq)]` instead of `arr[seq]`. In the future this will be interpreted as an array index, `arr[np.array(seq)]`, which will result either in an error or a different result.\n",
      "  return y[sl]\n"
     ]
    },
    {
     "name": "stdout",
     "output_type": "stream",
     "text": [
      "Selecting model: Models/b12a46/experimental/Session3\\b12a46_MI_classifier_2019-03-06-15-38-39.sav\n",
      "Selecting model: Models/b12a46/experimental/Session3\\b12a46_MI_classifier_2019-03-06-15-38-45.sav\n",
      "Selecting model: Models/b12a46/experimental/Session3\\b12a46_MI_classifier_TL_2019-03-06-15-38-47.sav\n",
      "Selecting BCI EEG file: SaveData/b12a46/Session3\\20190221133107_b12a46_BCI.easy\n",
      "Selecting BCI behavioral file: SaveData/b12a46/Session3\\BCI_b12a46_R4.csv\n",
      "Skipping N/A\n"
     ]
    },
    {
     "name": "stderr",
     "output_type": "stream",
     "text": [
      "C:\\Users\\nile\\Anaconda3\\envs\\eeg\\lib\\site-packages\\scipy\\signal\\_arraytools.py:45: FutureWarning: Using a non-tuple sequence for multidimensional indexing is deprecated; use `arr[tuple(seq)]` instead of `arr[seq]`. In the future this will be interpreted as an array index, `arr[np.array(seq)]`, which will result either in an error or a different result.\n",
      "  b = a[a_slice]\n",
      "C:\\Users\\nile\\Anaconda3\\envs\\eeg\\lib\\site-packages\\scipy\\signal\\signaltools.py:3463: FutureWarning: Using a non-tuple sequence for multidimensional indexing is deprecated; use `arr[tuple(seq)]` instead of `arr[seq]`. In the future this will be interpreted as an array index, `arr[np.array(seq)]`, which will result either in an error or a different result.\n",
      "  return y[sl]\n"
     ]
    },
    {
     "name": "stdout",
     "output_type": "stream",
     "text": [
      "Selecting model: Models/b12a46/experimental/Session3\\b12a46_MI_classifier_2019-03-06-15-38-39.sav\n",
      "Selecting model: Models/b12a46/experimental/Session3\\b12a46_MI_classifier_2019-03-06-15-38-49.sav\n",
      "Selecting model: Models/b12a46/experimental/Session3\\b12a46_MI_classifier_TL_2019-03-06-15-38-51.sav\n",
      "Selecting BCI EEG file: SaveData/b12a46/Session3\\20190221133532_b12a46_BCI.easy\n",
      "Selecting BCI behavioral file: SaveData/b12a46/Session3\\BCI_b12a46_R5.csv\n",
      "Skipping N/A\n"
     ]
    },
    {
     "name": "stderr",
     "output_type": "stream",
     "text": [
      "C:\\Users\\nile\\Anaconda3\\envs\\eeg\\lib\\site-packages\\scipy\\signal\\_arraytools.py:45: FutureWarning: Using a non-tuple sequence for multidimensional indexing is deprecated; use `arr[tuple(seq)]` instead of `arr[seq]`. In the future this will be interpreted as an array index, `arr[np.array(seq)]`, which will result either in an error or a different result.\n",
      "  b = a[a_slice]\n",
      "C:\\Users\\nile\\Anaconda3\\envs\\eeg\\lib\\site-packages\\scipy\\signal\\signaltools.py:3463: FutureWarning: Using a non-tuple sequence for multidimensional indexing is deprecated; use `arr[tuple(seq)]` instead of `arr[seq]`. In the future this will be interpreted as an array index, `arr[np.array(seq)]`, which will result either in an error or a different result.\n",
      "  return y[sl]\n"
     ]
    },
    {
     "name": "stdout",
     "output_type": "stream",
     "text": [
      "Selecting model: Models/b12a46/experimental/Session3\\b12a46_MI_classifier_2019-03-06-15-38-39.sav\n",
      "Selecting model: Models/b12a46/experimental/Session3\\b12a46_MI_classifier_2019-03-06-15-38-53.sav\n",
      "Selecting model: Models/b12a46/experimental/Session3\\b12a46_MI_classifier_TL_2019-03-06-15-38-54.sav\n",
      "Selecting BCI EEG file: SaveData/41d8ff/Session1\\20190208110521_41d8ff_BCI.easy\n",
      "Selecting BCI behavioral file: SaveData/41d8ff/Session1\\BCI_41d8ff_R1.csv\n",
      "Skipping N/A\n"
     ]
    },
    {
     "name": "stderr",
     "output_type": "stream",
     "text": [
      "C:\\Users\\nile\\Anaconda3\\envs\\eeg\\lib\\site-packages\\scipy\\signal\\_arraytools.py:45: FutureWarning: Using a non-tuple sequence for multidimensional indexing is deprecated; use `arr[tuple(seq)]` instead of `arr[seq]`. In the future this will be interpreted as an array index, `arr[np.array(seq)]`, which will result either in an error or a different result.\n",
      "  b = a[a_slice]\n",
      "C:\\Users\\nile\\Anaconda3\\envs\\eeg\\lib\\site-packages\\scipy\\signal\\signaltools.py:3463: FutureWarning: Using a non-tuple sequence for multidimensional indexing is deprecated; use `arr[tuple(seq)]` instead of `arr[seq]`. In the future this will be interpreted as an array index, `arr[np.array(seq)]`, which will result either in an error or a different result.\n",
      "  return y[sl]\n"
     ]
    },
    {
     "name": "stdout",
     "output_type": "stream",
     "text": [
      "Selecting model: Models/41d8ff/experimental/Session1\\41d8ff_MI_classifier_2019-03-06-15-47-30.sav\n",
      "Selecting model: Models/41d8ff/experimental/Session1\\41d8ff_MI_classifier_2019-03-06-15-47-30.sav\n",
      "Selecting model: Models/41d8ff/experimental/Session1\\41d8ff_MI_classifier_2019-03-06-15-47-30.sav\n",
      "Selecting BCI EEG file: SaveData/41d8ff/Session1\\20190208111006_41d8ff_BCI.easy\n",
      "Selecting BCI behavioral file: SaveData/41d8ff/Session1\\BCI_41d8ff_R2.csv\n",
      "Skipping N/A\n"
     ]
    },
    {
     "name": "stderr",
     "output_type": "stream",
     "text": [
      "C:\\Users\\nile\\Anaconda3\\envs\\eeg\\lib\\site-packages\\scipy\\signal\\_arraytools.py:45: FutureWarning: Using a non-tuple sequence for multidimensional indexing is deprecated; use `arr[tuple(seq)]` instead of `arr[seq]`. In the future this will be interpreted as an array index, `arr[np.array(seq)]`, which will result either in an error or a different result.\n",
      "  b = a[a_slice]\n",
      "C:\\Users\\nile\\Anaconda3\\envs\\eeg\\lib\\site-packages\\scipy\\signal\\signaltools.py:3463: FutureWarning: Using a non-tuple sequence for multidimensional indexing is deprecated; use `arr[tuple(seq)]` instead of `arr[seq]`. In the future this will be interpreted as an array index, `arr[np.array(seq)]`, which will result either in an error or a different result.\n",
      "  return y[sl]\n"
     ]
    },
    {
     "name": "stdout",
     "output_type": "stream",
     "text": [
      "Selecting model: Models/41d8ff/experimental/Session1\\41d8ff_MI_classifier_2019-03-06-15-47-30.sav\n",
      "Selecting model: Models/41d8ff/experimental/Session1\\41d8ff_MI_classifier_2019-03-06-15-47-34.sav\n",
      "Selecting model: Models/41d8ff/experimental/Session1\\41d8ff_MI_classifier_TL_2019-03-06-15-47-34.sav\n",
      "Selecting BCI EEG file: SaveData/41d8ff/Session1\\20190208111516_41d8ff_BCI.easy\n",
      "Selecting BCI behavioral file: SaveData/41d8ff/Session1\\BCI_41d8ff_R3.csv\n",
      "Skipping N/A\n"
     ]
    },
    {
     "name": "stderr",
     "output_type": "stream",
     "text": [
      "C:\\Users\\nile\\Anaconda3\\envs\\eeg\\lib\\site-packages\\scipy\\signal\\_arraytools.py:45: FutureWarning: Using a non-tuple sequence for multidimensional indexing is deprecated; use `arr[tuple(seq)]` instead of `arr[seq]`. In the future this will be interpreted as an array index, `arr[np.array(seq)]`, which will result either in an error or a different result.\n",
      "  b = a[a_slice]\n",
      "C:\\Users\\nile\\Anaconda3\\envs\\eeg\\lib\\site-packages\\scipy\\signal\\signaltools.py:3463: FutureWarning: Using a non-tuple sequence for multidimensional indexing is deprecated; use `arr[tuple(seq)]` instead of `arr[seq]`. In the future this will be interpreted as an array index, `arr[np.array(seq)]`, which will result either in an error or a different result.\n",
      "  return y[sl]\n"
     ]
    },
    {
     "name": "stdout",
     "output_type": "stream",
     "text": [
      "Selecting model: Models/41d8ff/experimental/Session1\\41d8ff_MI_classifier_2019-03-06-15-47-30.sav\n",
      "Selecting model: Models/41d8ff/experimental/Session1\\41d8ff_MI_classifier_2019-03-06-15-47-37.sav\n",
      "Selecting model: Models/41d8ff/experimental/Session1\\41d8ff_MI_classifier_TL_2019-03-06-15-47-38.sav\n",
      "Selecting BCI EEG file: SaveData/41d8ff/Session1\\20190208112000_41d8ff_BCI.easy\n",
      "Selecting BCI behavioral file: SaveData/41d8ff/Session1\\BCI_41d8ff_R4.csv\n",
      "Skipping N/A\n"
     ]
    },
    {
     "name": "stderr",
     "output_type": "stream",
     "text": [
      "C:\\Users\\nile\\Anaconda3\\envs\\eeg\\lib\\site-packages\\scipy\\signal\\_arraytools.py:45: FutureWarning: Using a non-tuple sequence for multidimensional indexing is deprecated; use `arr[tuple(seq)]` instead of `arr[seq]`. In the future this will be interpreted as an array index, `arr[np.array(seq)]`, which will result either in an error or a different result.\n",
      "  b = a[a_slice]\n",
      "C:\\Users\\nile\\Anaconda3\\envs\\eeg\\lib\\site-packages\\scipy\\signal\\signaltools.py:3463: FutureWarning: Using a non-tuple sequence for multidimensional indexing is deprecated; use `arr[tuple(seq)]` instead of `arr[seq]`. In the future this will be interpreted as an array index, `arr[np.array(seq)]`, which will result either in an error or a different result.\n",
      "  return y[sl]\n"
     ]
    },
    {
     "name": "stdout",
     "output_type": "stream",
     "text": [
      "Selecting model: Models/41d8ff/experimental/Session1\\41d8ff_MI_classifier_2019-03-06-15-47-30.sav\n",
      "Selecting model: Models/41d8ff/experimental/Session1\\41d8ff_MI_classifier_2019-03-06-15-47-41.sav\n",
      "Selecting model: Models/41d8ff/experimental/Session1\\41d8ff_MI_classifier_TL_2019-03-06-15-47-42.sav\n",
      "Selecting BCI EEG file: SaveData/41d8ff/Session1\\20190208112500_41d8ff_BCI.easy\n",
      "Selecting BCI behavioral file: SaveData/41d8ff/Session1\\BCI_41d8ff_R5.csv\n",
      "Skipping N/A\n"
     ]
    },
    {
     "name": "stderr",
     "output_type": "stream",
     "text": [
      "C:\\Users\\nile\\Anaconda3\\envs\\eeg\\lib\\site-packages\\scipy\\signal\\_arraytools.py:45: FutureWarning: Using a non-tuple sequence for multidimensional indexing is deprecated; use `arr[tuple(seq)]` instead of `arr[seq]`. In the future this will be interpreted as an array index, `arr[np.array(seq)]`, which will result either in an error or a different result.\n",
      "  b = a[a_slice]\n",
      "C:\\Users\\nile\\Anaconda3\\envs\\eeg\\lib\\site-packages\\scipy\\signal\\signaltools.py:3463: FutureWarning: Using a non-tuple sequence for multidimensional indexing is deprecated; use `arr[tuple(seq)]` instead of `arr[seq]`. In the future this will be interpreted as an array index, `arr[np.array(seq)]`, which will result either in an error or a different result.\n",
      "  return y[sl]\n"
     ]
    },
    {
     "name": "stdout",
     "output_type": "stream",
     "text": [
      "Selecting model: Models/41d8ff/experimental/Session1\\41d8ff_MI_classifier_2019-03-06-15-47-30.sav\n",
      "Selecting model: Models/41d8ff/experimental/Session1\\41d8ff_MI_classifier_2019-03-06-15-47-45.sav\n",
      "Selecting model: Models/41d8ff/experimental/Session1\\41d8ff_MI_classifier_TL_2019-03-06-15-47-46.sav\n",
      "Selecting BCI EEG file: SaveData/41d8ff/Session2\\20190213162736_41d8ff_BCI.easy\n",
      "Selecting BCI behavioral file: SaveData/41d8ff/Session2\\BCI_41d8ff_R1.csv\n",
      "Skipping N/A\n"
     ]
    },
    {
     "name": "stderr",
     "output_type": "stream",
     "text": [
      "C:\\Users\\nile\\Anaconda3\\envs\\eeg\\lib\\site-packages\\scipy\\signal\\_arraytools.py:45: FutureWarning: Using a non-tuple sequence for multidimensional indexing is deprecated; use `arr[tuple(seq)]` instead of `arr[seq]`. In the future this will be interpreted as an array index, `arr[np.array(seq)]`, which will result either in an error or a different result.\n",
      "  b = a[a_slice]\n",
      "C:\\Users\\nile\\Anaconda3\\envs\\eeg\\lib\\site-packages\\scipy\\signal\\signaltools.py:3463: FutureWarning: Using a non-tuple sequence for multidimensional indexing is deprecated; use `arr[tuple(seq)]` instead of `arr[seq]`. In the future this will be interpreted as an array index, `arr[np.array(seq)]`, which will result either in an error or a different result.\n",
      "  return y[sl]\n"
     ]
    },
    {
     "name": "stdout",
     "output_type": "stream",
     "text": [
      "Selecting model: Models/41d8ff/experimental/Session2\\41d8ff_MI_classifier_2019-03-06-15-49-22.sav\n",
      "Selecting model: Models/41d8ff/experimental/Session2\\41d8ff_MI_classifier_2019-03-06-15-49-22.sav\n",
      "Selecting model: Models/41d8ff/experimental/Session2\\41d8ff_MI_classifier_2019-03-06-15-49-22.sav\n",
      "Selecting BCI EEG file: SaveData/41d8ff/Session2\\20190213163354_41d8ff_BCI.easy\n",
      "Selecting BCI behavioral file: SaveData/41d8ff/Session2\\BCI_41d8ff_R2.csv\n",
      "Skipping N/A\n"
     ]
    },
    {
     "name": "stderr",
     "output_type": "stream",
     "text": [
      "C:\\Users\\nile\\Anaconda3\\envs\\eeg\\lib\\site-packages\\scipy\\signal\\_arraytools.py:45: FutureWarning: Using a non-tuple sequence for multidimensional indexing is deprecated; use `arr[tuple(seq)]` instead of `arr[seq]`. In the future this will be interpreted as an array index, `arr[np.array(seq)]`, which will result either in an error or a different result.\n",
      "  b = a[a_slice]\n",
      "C:\\Users\\nile\\Anaconda3\\envs\\eeg\\lib\\site-packages\\scipy\\signal\\signaltools.py:3463: FutureWarning: Using a non-tuple sequence for multidimensional indexing is deprecated; use `arr[tuple(seq)]` instead of `arr[seq]`. In the future this will be interpreted as an array index, `arr[np.array(seq)]`, which will result either in an error or a different result.\n",
      "  return y[sl]\n"
     ]
    },
    {
     "name": "stdout",
     "output_type": "stream",
     "text": [
      "Selecting model: Models/41d8ff/experimental/Session2\\41d8ff_MI_classifier_2019-03-06-15-49-22.sav\n",
      "Selecting model: Models/41d8ff/experimental/Session2\\41d8ff_MI_classifier_2019-03-06-15-49-26.sav\n",
      "Selecting model: Models/41d8ff/experimental/Session2\\41d8ff_MI_classifier_TL_2019-03-06-15-49-26.sav\n",
      "Selecting BCI EEG file: SaveData/41d8ff/Session2\\20190213163925_41d8ff_BCI.easy\n",
      "Selecting BCI behavioral file: SaveData/41d8ff/Session2\\BCI_41d8ff_R3.csv\n",
      "Skipping N/A\n"
     ]
    },
    {
     "name": "stderr",
     "output_type": "stream",
     "text": [
      "C:\\Users\\nile\\Anaconda3\\envs\\eeg\\lib\\site-packages\\scipy\\signal\\_arraytools.py:45: FutureWarning: Using a non-tuple sequence for multidimensional indexing is deprecated; use `arr[tuple(seq)]` instead of `arr[seq]`. In the future this will be interpreted as an array index, `arr[np.array(seq)]`, which will result either in an error or a different result.\n",
      "  b = a[a_slice]\n",
      "C:\\Users\\nile\\Anaconda3\\envs\\eeg\\lib\\site-packages\\scipy\\signal\\signaltools.py:3463: FutureWarning: Using a non-tuple sequence for multidimensional indexing is deprecated; use `arr[tuple(seq)]` instead of `arr[seq]`. In the future this will be interpreted as an array index, `arr[np.array(seq)]`, which will result either in an error or a different result.\n",
      "  return y[sl]\n"
     ]
    },
    {
     "name": "stdout",
     "output_type": "stream",
     "text": [
      "Selecting model: Models/41d8ff/experimental/Session2\\41d8ff_MI_classifier_2019-03-06-15-49-22.sav\n",
      "Selecting model: Models/41d8ff/experimental/Session2\\41d8ff_MI_classifier_2019-03-06-15-49-29.sav\n",
      "Selecting model: Models/41d8ff/experimental/Session2\\41d8ff_MI_classifier_TL_2019-03-06-15-49-30.sav\n",
      "Selecting BCI EEG file: SaveData/41d8ff/Session2\\20190213164437_41d8ff_BCI.easy\n",
      "Selecting BCI behavioral file: SaveData/41d8ff/Session2\\BCI_41d8ff_R4.csv\n",
      "Skipping N/A\n"
     ]
    },
    {
     "name": "stderr",
     "output_type": "stream",
     "text": [
      "C:\\Users\\nile\\Anaconda3\\envs\\eeg\\lib\\site-packages\\scipy\\signal\\_arraytools.py:45: FutureWarning: Using a non-tuple sequence for multidimensional indexing is deprecated; use `arr[tuple(seq)]` instead of `arr[seq]`. In the future this will be interpreted as an array index, `arr[np.array(seq)]`, which will result either in an error or a different result.\n",
      "  b = a[a_slice]\n",
      "C:\\Users\\nile\\Anaconda3\\envs\\eeg\\lib\\site-packages\\scipy\\signal\\signaltools.py:3463: FutureWarning: Using a non-tuple sequence for multidimensional indexing is deprecated; use `arr[tuple(seq)]` instead of `arr[seq]`. In the future this will be interpreted as an array index, `arr[np.array(seq)]`, which will result either in an error or a different result.\n",
      "  return y[sl]\n"
     ]
    },
    {
     "name": "stdout",
     "output_type": "stream",
     "text": [
      "Selecting model: Models/41d8ff/experimental/Session2\\41d8ff_MI_classifier_2019-03-06-15-49-22.sav\n",
      "Selecting model: Models/41d8ff/experimental/Session2\\41d8ff_MI_classifier_2019-03-06-15-49-33.sav\n",
      "Selecting model: Models/41d8ff/experimental/Session2\\41d8ff_MI_classifier_TL_2019-03-06-15-49-34.sav\n",
      "Selecting BCI EEG file: SaveData/41d8ff/Session2\\20190213164952_41d8ff_BCI.easy\n",
      "Selecting BCI behavioral file: SaveData/41d8ff/Session2\\BCI_41d8ff_R5.csv\n",
      "Skipping N/A\n"
     ]
    },
    {
     "name": "stderr",
     "output_type": "stream",
     "text": [
      "C:\\Users\\nile\\Anaconda3\\envs\\eeg\\lib\\site-packages\\scipy\\signal\\_arraytools.py:45: FutureWarning: Using a non-tuple sequence for multidimensional indexing is deprecated; use `arr[tuple(seq)]` instead of `arr[seq]`. In the future this will be interpreted as an array index, `arr[np.array(seq)]`, which will result either in an error or a different result.\n",
      "  b = a[a_slice]\n",
      "C:\\Users\\nile\\Anaconda3\\envs\\eeg\\lib\\site-packages\\scipy\\signal\\signaltools.py:3463: FutureWarning: Using a non-tuple sequence for multidimensional indexing is deprecated; use `arr[tuple(seq)]` instead of `arr[seq]`. In the future this will be interpreted as an array index, `arr[np.array(seq)]`, which will result either in an error or a different result.\n",
      "  return y[sl]\n"
     ]
    },
    {
     "name": "stdout",
     "output_type": "stream",
     "text": [
      "Selecting model: Models/41d8ff/experimental/Session2\\41d8ff_MI_classifier_2019-03-06-15-49-22.sav\n",
      "Selecting model: Models/41d8ff/experimental/Session2\\41d8ff_MI_classifier_2019-03-06-15-49-37.sav\n",
      "Selecting model: Models/41d8ff/experimental/Session2\\41d8ff_MI_classifier_TL_2019-03-06-15-49-38.sav\n",
      "Selecting BCI EEG file: SaveData/41d8ff/Session3\\20190220162544_41d8ff_BCI.easy\n",
      "Selecting BCI behavioral file: SaveData/41d8ff/Session3\\BCI_41d8ff_R1.csv\n",
      "Skipping N/A\n"
     ]
    },
    {
     "name": "stderr",
     "output_type": "stream",
     "text": [
      "C:\\Users\\nile\\Anaconda3\\envs\\eeg\\lib\\site-packages\\scipy\\signal\\_arraytools.py:45: FutureWarning: Using a non-tuple sequence for multidimensional indexing is deprecated; use `arr[tuple(seq)]` instead of `arr[seq]`. In the future this will be interpreted as an array index, `arr[np.array(seq)]`, which will result either in an error or a different result.\n",
      "  b = a[a_slice]\n",
      "C:\\Users\\nile\\Anaconda3\\envs\\eeg\\lib\\site-packages\\scipy\\signal\\signaltools.py:3463: FutureWarning: Using a non-tuple sequence for multidimensional indexing is deprecated; use `arr[tuple(seq)]` instead of `arr[seq]`. In the future this will be interpreted as an array index, `arr[np.array(seq)]`, which will result either in an error or a different result.\n",
      "  return y[sl]\n"
     ]
    },
    {
     "name": "stdout",
     "output_type": "stream",
     "text": [
      "Selecting model: Models/41d8ff/experimental/Session3\\41d8ff_MI_classifier_2019-03-06-15-51-16.sav\n",
      "Selecting model: Models/41d8ff/experimental/Session3\\41d8ff_MI_classifier_2019-03-06-15-51-16.sav\n",
      "Selecting model: Models/41d8ff/experimental/Session3\\41d8ff_MI_classifier_2019-03-06-15-51-16.sav\n",
      "Selecting BCI EEG file: SaveData/41d8ff/Session3\\20190220163138_41d8ff_BCI.easy\n",
      "Selecting BCI behavioral file: SaveData/41d8ff/Session3\\BCI_41d8ff_R2.csv\n",
      "Skipping N/A\n"
     ]
    },
    {
     "name": "stderr",
     "output_type": "stream",
     "text": [
      "C:\\Users\\nile\\Anaconda3\\envs\\eeg\\lib\\site-packages\\scipy\\signal\\_arraytools.py:45: FutureWarning: Using a non-tuple sequence for multidimensional indexing is deprecated; use `arr[tuple(seq)]` instead of `arr[seq]`. In the future this will be interpreted as an array index, `arr[np.array(seq)]`, which will result either in an error or a different result.\n",
      "  b = a[a_slice]\n",
      "C:\\Users\\nile\\Anaconda3\\envs\\eeg\\lib\\site-packages\\scipy\\signal\\signaltools.py:3463: FutureWarning: Using a non-tuple sequence for multidimensional indexing is deprecated; use `arr[tuple(seq)]` instead of `arr[seq]`. In the future this will be interpreted as an array index, `arr[np.array(seq)]`, which will result either in an error or a different result.\n",
      "  return y[sl]\n"
     ]
    },
    {
     "name": "stdout",
     "output_type": "stream",
     "text": [
      "Selecting model: Models/41d8ff/experimental/Session3\\41d8ff_MI_classifier_2019-03-06-15-51-16.sav\n",
      "Selecting model: Models/41d8ff/experimental/Session3\\41d8ff_MI_classifier_2019-03-06-15-51-20.sav\n",
      "Selecting model: Models/41d8ff/experimental/Session3\\41d8ff_MI_classifier_TL_2019-03-06-15-51-20.sav\n",
      "Selecting BCI EEG file: SaveData/41d8ff/Session3\\20190220163743_41d8ff_BCI.easy\n",
      "Selecting BCI behavioral file: SaveData/41d8ff/Session3\\BCI_41d8ff_R3.csv\n",
      "Skipping N/A\n"
     ]
    },
    {
     "name": "stderr",
     "output_type": "stream",
     "text": [
      "C:\\Users\\nile\\Anaconda3\\envs\\eeg\\lib\\site-packages\\scipy\\signal\\_arraytools.py:45: FutureWarning: Using a non-tuple sequence for multidimensional indexing is deprecated; use `arr[tuple(seq)]` instead of `arr[seq]`. In the future this will be interpreted as an array index, `arr[np.array(seq)]`, which will result either in an error or a different result.\n",
      "  b = a[a_slice]\n",
      "C:\\Users\\nile\\Anaconda3\\envs\\eeg\\lib\\site-packages\\scipy\\signal\\signaltools.py:3463: FutureWarning: Using a non-tuple sequence for multidimensional indexing is deprecated; use `arr[tuple(seq)]` instead of `arr[seq]`. In the future this will be interpreted as an array index, `arr[np.array(seq)]`, which will result either in an error or a different result.\n",
      "  return y[sl]\n"
     ]
    },
    {
     "name": "stdout",
     "output_type": "stream",
     "text": [
      "Selecting model: Models/41d8ff/experimental/Session3\\41d8ff_MI_classifier_2019-03-06-15-51-16.sav\n",
      "Selecting model: Models/41d8ff/experimental/Session3\\41d8ff_MI_classifier_2019-03-06-15-51-23.sav\n",
      "Selecting model: Models/41d8ff/experimental/Session3\\41d8ff_MI_classifier_TL_2019-03-06-15-51-24.sav\n",
      "Selecting BCI EEG file: SaveData/41d8ff/Session3\\20190220164326_41d8ff_BCI.easy\n",
      "Selecting BCI behavioral file: SaveData/41d8ff/Session3\\BCI_41d8ff_R4.csv\n",
      "Skipping N/A\n"
     ]
    },
    {
     "name": "stderr",
     "output_type": "stream",
     "text": [
      "C:\\Users\\nile\\Anaconda3\\envs\\eeg\\lib\\site-packages\\scipy\\signal\\_arraytools.py:45: FutureWarning: Using a non-tuple sequence for multidimensional indexing is deprecated; use `arr[tuple(seq)]` instead of `arr[seq]`. In the future this will be interpreted as an array index, `arr[np.array(seq)]`, which will result either in an error or a different result.\n",
      "  b = a[a_slice]\n",
      "C:\\Users\\nile\\Anaconda3\\envs\\eeg\\lib\\site-packages\\scipy\\signal\\signaltools.py:3463: FutureWarning: Using a non-tuple sequence for multidimensional indexing is deprecated; use `arr[tuple(seq)]` instead of `arr[seq]`. In the future this will be interpreted as an array index, `arr[np.array(seq)]`, which will result either in an error or a different result.\n",
      "  return y[sl]\n"
     ]
    },
    {
     "name": "stdout",
     "output_type": "stream",
     "text": [
      "Selecting model: Models/41d8ff/experimental/Session3\\41d8ff_MI_classifier_2019-03-06-15-51-16.sav\n",
      "Selecting model: Models/41d8ff/experimental/Session3\\41d8ff_MI_classifier_2019-03-06-15-51-27.sav\n",
      "Selecting model: Models/41d8ff/experimental/Session3\\41d8ff_MI_classifier_TL_2019-03-06-15-51-29.sav\n",
      "Selecting BCI EEG file: SaveData/41d8ff/Session3\\20190220164846_41d8ff_BCI.easy\n",
      "Selecting BCI behavioral file: SaveData/41d8ff/Session3\\BCI_41d8ff_R5.csv\n",
      "Skipping N/A\n"
     ]
    },
    {
     "name": "stderr",
     "output_type": "stream",
     "text": [
      "C:\\Users\\nile\\Anaconda3\\envs\\eeg\\lib\\site-packages\\scipy\\signal\\_arraytools.py:45: FutureWarning: Using a non-tuple sequence for multidimensional indexing is deprecated; use `arr[tuple(seq)]` instead of `arr[seq]`. In the future this will be interpreted as an array index, `arr[np.array(seq)]`, which will result either in an error or a different result.\n",
      "  b = a[a_slice]\n",
      "C:\\Users\\nile\\Anaconda3\\envs\\eeg\\lib\\site-packages\\scipy\\signal\\signaltools.py:3463: FutureWarning: Using a non-tuple sequence for multidimensional indexing is deprecated; use `arr[tuple(seq)]` instead of `arr[seq]`. In the future this will be interpreted as an array index, `arr[np.array(seq)]`, which will result either in an error or a different result.\n",
      "  return y[sl]\n"
     ]
    },
    {
     "name": "stdout",
     "output_type": "stream",
     "text": [
      "Selecting model: Models/41d8ff/experimental/Session3\\41d8ff_MI_classifier_2019-03-06-15-51-16.sav\n",
      "Selecting model: Models/41d8ff/experimental/Session3\\41d8ff_MI_classifier_2019-03-06-15-51-31.sav\n",
      "Selecting model: Models/41d8ff/experimental/Session3\\41d8ff_MI_classifier_TL_2019-03-06-15-51-33.sav\n",
      "Selecting BCI EEG file: SaveData/1e8b34/Session1\\20190219105435_1e8b34_BCI.easy\n",
      "Selecting BCI behavioral file: SaveData/1e8b34/Session1\\BCI_1e8b34_R1.csv\n",
      "Skipping N/A\n"
     ]
    },
    {
     "name": "stderr",
     "output_type": "stream",
     "text": [
      "C:\\Users\\nile\\Anaconda3\\envs\\eeg\\lib\\site-packages\\scipy\\signal\\_arraytools.py:45: FutureWarning: Using a non-tuple sequence for multidimensional indexing is deprecated; use `arr[tuple(seq)]` instead of `arr[seq]`. In the future this will be interpreted as an array index, `arr[np.array(seq)]`, which will result either in an error or a different result.\n",
      "  b = a[a_slice]\n",
      "C:\\Users\\nile\\Anaconda3\\envs\\eeg\\lib\\site-packages\\scipy\\signal\\signaltools.py:3463: FutureWarning: Using a non-tuple sequence for multidimensional indexing is deprecated; use `arr[tuple(seq)]` instead of `arr[seq]`. In the future this will be interpreted as an array index, `arr[np.array(seq)]`, which will result either in an error or a different result.\n",
      "  return y[sl]\n"
     ]
    },
    {
     "name": "stdout",
     "output_type": "stream",
     "text": [
      "Selecting model: Models/1e8b34/experimental/Session1\\1e8b34_MI_classifier_2019-03-06-14-26-31.sav\n",
      "Selecting model: Models/1e8b34/experimental/Session1\\1e8b34_MI_classifier_2019-03-06-14-26-31.sav\n",
      "Selecting model: Models/1e8b34/experimental/Session1\\1e8b34_MI_classifier_2019-03-06-14-26-31.sav\n",
      "Selecting BCI EEG file: SaveData/1e8b34/Session1\\20190219105935_1e8b34_BCI.easy\n",
      "Selecting BCI behavioral file: SaveData/1e8b34/Session1\\BCI_1e8b34_R2.csv\n",
      "Skipping N/A\n"
     ]
    },
    {
     "name": "stderr",
     "output_type": "stream",
     "text": [
      "C:\\Users\\nile\\Anaconda3\\envs\\eeg\\lib\\site-packages\\scipy\\signal\\_arraytools.py:45: FutureWarning: Using a non-tuple sequence for multidimensional indexing is deprecated; use `arr[tuple(seq)]` instead of `arr[seq]`. In the future this will be interpreted as an array index, `arr[np.array(seq)]`, which will result either in an error or a different result.\n",
      "  b = a[a_slice]\n",
      "C:\\Users\\nile\\Anaconda3\\envs\\eeg\\lib\\site-packages\\scipy\\signal\\signaltools.py:3463: FutureWarning: Using a non-tuple sequence for multidimensional indexing is deprecated; use `arr[tuple(seq)]` instead of `arr[seq]`. In the future this will be interpreted as an array index, `arr[np.array(seq)]`, which will result either in an error or a different result.\n",
      "  return y[sl]\n"
     ]
    },
    {
     "name": "stdout",
     "output_type": "stream",
     "text": [
      "Selecting model: Models/1e8b34/experimental/Session1\\1e8b34_MI_classifier_2019-03-06-14-26-31.sav\n",
      "Selecting model: Models/1e8b34/experimental/Session1\\1e8b34_MI_classifier_2019-03-06-14-26-49.sav\n",
      "Selecting model: Models/1e8b34/experimental/Session1\\1e8b34_MI_classifier_TL_2019-03-06-14-26-49.sav\n",
      "Selecting BCI EEG file: SaveData/1e8b34/Session1\\20190219110440_1e8b34_BCI.easy\n",
      "Selecting BCI behavioral file: SaveData/1e8b34/Session1\\BCI_1e8b34_R3.csv\n",
      "Skipping N/A\n"
     ]
    },
    {
     "name": "stderr",
     "output_type": "stream",
     "text": [
      "C:\\Users\\nile\\Anaconda3\\envs\\eeg\\lib\\site-packages\\scipy\\signal\\_arraytools.py:45: FutureWarning: Using a non-tuple sequence for multidimensional indexing is deprecated; use `arr[tuple(seq)]` instead of `arr[seq]`. In the future this will be interpreted as an array index, `arr[np.array(seq)]`, which will result either in an error or a different result.\n",
      "  b = a[a_slice]\n",
      "C:\\Users\\nile\\Anaconda3\\envs\\eeg\\lib\\site-packages\\scipy\\signal\\signaltools.py:3463: FutureWarning: Using a non-tuple sequence for multidimensional indexing is deprecated; use `arr[tuple(seq)]` instead of `arr[seq]`. In the future this will be interpreted as an array index, `arr[np.array(seq)]`, which will result either in an error or a different result.\n",
      "  return y[sl]\n"
     ]
    },
    {
     "name": "stdout",
     "output_type": "stream",
     "text": [
      "Selecting model: Models/1e8b34/experimental/Session1\\1e8b34_MI_classifier_2019-03-06-14-26-31.sav\n",
      "Selecting model: Models/1e8b34/experimental/Session1\\1e8b34_MI_classifier_2019-03-06-14-26-52.sav\n",
      "Selecting model: Models/1e8b34/experimental/Session1\\1e8b34_MI_classifier_TL_2019-03-06-14-26-53.sav\n",
      "Selecting BCI EEG file: SaveData/1e8b34/Session1\\20190219110951_1e8b34_BCI.easy\n",
      "Selecting BCI behavioral file: SaveData/1e8b34/Session1\\BCI_1e8b34_R4.csv\n",
      "Skipping N/A\n"
     ]
    },
    {
     "name": "stderr",
     "output_type": "stream",
     "text": [
      "C:\\Users\\nile\\Anaconda3\\envs\\eeg\\lib\\site-packages\\scipy\\signal\\_arraytools.py:45: FutureWarning: Using a non-tuple sequence for multidimensional indexing is deprecated; use `arr[tuple(seq)]` instead of `arr[seq]`. In the future this will be interpreted as an array index, `arr[np.array(seq)]`, which will result either in an error or a different result.\n",
      "  b = a[a_slice]\n",
      "C:\\Users\\nile\\Anaconda3\\envs\\eeg\\lib\\site-packages\\scipy\\signal\\signaltools.py:3463: FutureWarning: Using a non-tuple sequence for multidimensional indexing is deprecated; use `arr[tuple(seq)]` instead of `arr[seq]`. In the future this will be interpreted as an array index, `arr[np.array(seq)]`, which will result either in an error or a different result.\n",
      "  return y[sl]\n"
     ]
    },
    {
     "name": "stdout",
     "output_type": "stream",
     "text": [
      "Selecting model: Models/1e8b34/experimental/Session1\\1e8b34_MI_classifier_2019-03-06-14-26-31.sav\n",
      "Selecting model: Models/1e8b34/experimental/Session1\\1e8b34_MI_classifier_2019-03-06-14-26-56.sav\n",
      "Selecting model: Models/1e8b34/experimental/Session1\\1e8b34_MI_classifier_TL_2019-03-06-14-26-58.sav\n",
      "Selecting BCI EEG file: SaveData/1e8b34/Session1\\20190219111454_1e8b34_BCI.easy\n",
      "Selecting BCI behavioral file: SaveData/1e8b34/Session1\\BCI_1e8b34_R5.csv\n",
      "Skipping N/A\n"
     ]
    },
    {
     "name": "stderr",
     "output_type": "stream",
     "text": [
      "C:\\Users\\nile\\Anaconda3\\envs\\eeg\\lib\\site-packages\\scipy\\signal\\_arraytools.py:45: FutureWarning: Using a non-tuple sequence for multidimensional indexing is deprecated; use `arr[tuple(seq)]` instead of `arr[seq]`. In the future this will be interpreted as an array index, `arr[np.array(seq)]`, which will result either in an error or a different result.\n",
      "  b = a[a_slice]\n",
      "C:\\Users\\nile\\Anaconda3\\envs\\eeg\\lib\\site-packages\\scipy\\signal\\signaltools.py:3463: FutureWarning: Using a non-tuple sequence for multidimensional indexing is deprecated; use `arr[tuple(seq)]` instead of `arr[seq]`. In the future this will be interpreted as an array index, `arr[np.array(seq)]`, which will result either in an error or a different result.\n",
      "  return y[sl]\n"
     ]
    },
    {
     "name": "stdout",
     "output_type": "stream",
     "text": [
      "Selecting model: Models/1e8b34/experimental/Session1\\1e8b34_MI_classifier_2019-03-06-14-26-31.sav\n",
      "Selecting model: Models/1e8b34/experimental/Session1\\1e8b34_MI_classifier_2019-03-06-14-27-01.sav\n",
      "Selecting model: Models/1e8b34/experimental/Session1\\1e8b34_MI_classifier_TL_2019-03-06-14-27-03.sav\n",
      "Selecting BCI EEG file: SaveData/1e8b34/Session2\\20190222091035_1e8b34_BCI.easy\n",
      "Selecting BCI behavioral file: SaveData/1e8b34/Session2\\BCI_1e8b34_R1.csv\n",
      "Skipping N/A\n"
     ]
    },
    {
     "name": "stderr",
     "output_type": "stream",
     "text": [
      "C:\\Users\\nile\\Anaconda3\\envs\\eeg\\lib\\site-packages\\scipy\\signal\\_arraytools.py:45: FutureWarning: Using a non-tuple sequence for multidimensional indexing is deprecated; use `arr[tuple(seq)]` instead of `arr[seq]`. In the future this will be interpreted as an array index, `arr[np.array(seq)]`, which will result either in an error or a different result.\n",
      "  b = a[a_slice]\n",
      "C:\\Users\\nile\\Anaconda3\\envs\\eeg\\lib\\site-packages\\scipy\\signal\\signaltools.py:3463: FutureWarning: Using a non-tuple sequence for multidimensional indexing is deprecated; use `arr[tuple(seq)]` instead of `arr[seq]`. In the future this will be interpreted as an array index, `arr[np.array(seq)]`, which will result either in an error or a different result.\n",
      "  return y[sl]\n"
     ]
    },
    {
     "name": "stdout",
     "output_type": "stream",
     "text": [
      "Selecting model: Models/1e8b34/experimental/Session2\\1e8b34_MI_classifier_2019-03-06-14-31-51.sav\n",
      "Selecting model: Models/1e8b34/experimental/Session2\\1e8b34_MI_classifier_2019-03-06-14-31-51.sav\n",
      "Selecting model: Models/1e8b34/experimental/Session2\\1e8b34_MI_classifier_2019-03-06-14-31-51.sav\n",
      "Selecting BCI EEG file: SaveData/1e8b34/Session2\\20190222091511_1e8b34_BCI.easy\n",
      "Selecting BCI behavioral file: SaveData/1e8b34/Session2\\BCI_1e8b34_R2.csv\n",
      "Skipping N/A\n"
     ]
    },
    {
     "name": "stderr",
     "output_type": "stream",
     "text": [
      "C:\\Users\\nile\\Anaconda3\\envs\\eeg\\lib\\site-packages\\scipy\\signal\\_arraytools.py:45: FutureWarning: Using a non-tuple sequence for multidimensional indexing is deprecated; use `arr[tuple(seq)]` instead of `arr[seq]`. In the future this will be interpreted as an array index, `arr[np.array(seq)]`, which will result either in an error or a different result.\n",
      "  b = a[a_slice]\n",
      "C:\\Users\\nile\\Anaconda3\\envs\\eeg\\lib\\site-packages\\scipy\\signal\\signaltools.py:3463: FutureWarning: Using a non-tuple sequence for multidimensional indexing is deprecated; use `arr[tuple(seq)]` instead of `arr[seq]`. In the future this will be interpreted as an array index, `arr[np.array(seq)]`, which will result either in an error or a different result.\n",
      "  return y[sl]\n"
     ]
    },
    {
     "name": "stdout",
     "output_type": "stream",
     "text": [
      "Selecting model: Models/1e8b34/experimental/Session2\\1e8b34_MI_classifier_2019-03-06-14-31-51.sav\n",
      "Selecting model: Models/1e8b34/experimental/Session2\\1e8b34_MI_classifier_2019-03-06-14-32-04.sav\n",
      "Selecting model: Models/1e8b34/experimental/Session2\\1e8b34_MI_classifier_TL_2019-03-06-14-32-04.sav\n",
      "Selecting BCI EEG file: SaveData/1e8b34/Session2\\20190222091957_1e8b34_BCI.easy\n",
      "Selecting BCI behavioral file: SaveData/1e8b34/Session2\\BCI_1e8b34_R3.csv\n",
      "Skipping N/A\n"
     ]
    },
    {
     "name": "stderr",
     "output_type": "stream",
     "text": [
      "C:\\Users\\nile\\Anaconda3\\envs\\eeg\\lib\\site-packages\\scipy\\signal\\_arraytools.py:45: FutureWarning: Using a non-tuple sequence for multidimensional indexing is deprecated; use `arr[tuple(seq)]` instead of `arr[seq]`. In the future this will be interpreted as an array index, `arr[np.array(seq)]`, which will result either in an error or a different result.\n",
      "  b = a[a_slice]\n",
      "C:\\Users\\nile\\Anaconda3\\envs\\eeg\\lib\\site-packages\\scipy\\signal\\signaltools.py:3463: FutureWarning: Using a non-tuple sequence for multidimensional indexing is deprecated; use `arr[tuple(seq)]` instead of `arr[seq]`. In the future this will be interpreted as an array index, `arr[np.array(seq)]`, which will result either in an error or a different result.\n",
      "  return y[sl]\n"
     ]
    },
    {
     "name": "stdout",
     "output_type": "stream",
     "text": [
      "Selecting model: Models/1e8b34/experimental/Session2\\1e8b34_MI_classifier_2019-03-06-14-31-51.sav\n",
      "Selecting model: Models/1e8b34/experimental/Session2\\1e8b34_MI_classifier_2019-03-06-14-32-07.sav\n",
      "Selecting model: Models/1e8b34/experimental/Session2\\1e8b34_MI_classifier_TL_2019-03-06-14-32-08.sav\n",
      "Selecting BCI EEG file: SaveData/1e8b34/Session2\\20190222092458_1e8b34_BCI.easy\n",
      "Selecting BCI behavioral file: SaveData/1e8b34/Session2\\BCI_1e8b34_R4.csv\n",
      "Skipping N/A\n"
     ]
    },
    {
     "name": "stderr",
     "output_type": "stream",
     "text": [
      "C:\\Users\\nile\\Anaconda3\\envs\\eeg\\lib\\site-packages\\scipy\\signal\\_arraytools.py:45: FutureWarning: Using a non-tuple sequence for multidimensional indexing is deprecated; use `arr[tuple(seq)]` instead of `arr[seq]`. In the future this will be interpreted as an array index, `arr[np.array(seq)]`, which will result either in an error or a different result.\n",
      "  b = a[a_slice]\n",
      "C:\\Users\\nile\\Anaconda3\\envs\\eeg\\lib\\site-packages\\scipy\\signal\\signaltools.py:3463: FutureWarning: Using a non-tuple sequence for multidimensional indexing is deprecated; use `arr[tuple(seq)]` instead of `arr[seq]`. In the future this will be interpreted as an array index, `arr[np.array(seq)]`, which will result either in an error or a different result.\n",
      "  return y[sl]\n"
     ]
    },
    {
     "name": "stdout",
     "output_type": "stream",
     "text": [
      "Selecting model: Models/1e8b34/experimental/Session2\\1e8b34_MI_classifier_2019-03-06-14-31-51.sav\n",
      "Selecting model: Models/1e8b34/experimental/Session2\\1e8b34_MI_classifier_2019-03-06-14-32-11.sav\n",
      "Selecting model: Models/1e8b34/experimental/Session2\\1e8b34_MI_classifier_TL_2019-03-06-14-32-12.sav\n",
      "Selecting BCI EEG file: SaveData/1e8b34/Session2\\20190222092951_1e8b34_BCI.easy\n",
      "Selecting BCI behavioral file: SaveData/1e8b34/Session2\\BCI_1e8b34_R5.csv\n",
      "Skipping N/A\n"
     ]
    },
    {
     "name": "stderr",
     "output_type": "stream",
     "text": [
      "C:\\Users\\nile\\Anaconda3\\envs\\eeg\\lib\\site-packages\\scipy\\signal\\_arraytools.py:45: FutureWarning: Using a non-tuple sequence for multidimensional indexing is deprecated; use `arr[tuple(seq)]` instead of `arr[seq]`. In the future this will be interpreted as an array index, `arr[np.array(seq)]`, which will result either in an error or a different result.\n",
      "  b = a[a_slice]\n",
      "C:\\Users\\nile\\Anaconda3\\envs\\eeg\\lib\\site-packages\\scipy\\signal\\signaltools.py:3463: FutureWarning: Using a non-tuple sequence for multidimensional indexing is deprecated; use `arr[tuple(seq)]` instead of `arr[seq]`. In the future this will be interpreted as an array index, `arr[np.array(seq)]`, which will result either in an error or a different result.\n",
      "  return y[sl]\n"
     ]
    },
    {
     "name": "stdout",
     "output_type": "stream",
     "text": [
      "Selecting model: Models/1e8b34/experimental/Session2\\1e8b34_MI_classifier_2019-03-06-14-31-51.sav\n",
      "Selecting model: Models/1e8b34/experimental/Session2\\1e8b34_MI_classifier_2019-03-06-14-32-15.sav\n",
      "Selecting model: Models/1e8b34/experimental/Session2\\1e8b34_MI_classifier_TL_2019-03-06-14-32-16.sav\n",
      "Selecting BCI EEG file: SaveData/1e8b34/Session3\\20190305091455_1e8b34_BCI.easy\n",
      "Selecting BCI behavioral file: SaveData/1e8b34/Session3\\BCI_1e8b34_R1.csv\n",
      "Skipping N/A\n"
     ]
    },
    {
     "name": "stderr",
     "output_type": "stream",
     "text": [
      "C:\\Users\\nile\\Anaconda3\\envs\\eeg\\lib\\site-packages\\scipy\\signal\\_arraytools.py:45: FutureWarning: Using a non-tuple sequence for multidimensional indexing is deprecated; use `arr[tuple(seq)]` instead of `arr[seq]`. In the future this will be interpreted as an array index, `arr[np.array(seq)]`, which will result either in an error or a different result.\n",
      "  b = a[a_slice]\n",
      "C:\\Users\\nile\\Anaconda3\\envs\\eeg\\lib\\site-packages\\scipy\\signal\\signaltools.py:3463: FutureWarning: Using a non-tuple sequence for multidimensional indexing is deprecated; use `arr[tuple(seq)]` instead of `arr[seq]`. In the future this will be interpreted as an array index, `arr[np.array(seq)]`, which will result either in an error or a different result.\n",
      "  return y[sl]\n"
     ]
    },
    {
     "name": "stdout",
     "output_type": "stream",
     "text": [
      "Selecting model: Models/1e8b34/experimental/Session3\\1e8b34_MI_classifier_2019-03-06-14-35-34.sav\n",
      "Selecting model: Models/1e8b34/experimental/Session3\\1e8b34_MI_classifier_2019-03-06-14-35-34.sav\n",
      "Selecting model: Models/1e8b34/experimental/Session3\\1e8b34_MI_classifier_2019-03-06-14-35-34.sav\n",
      "Selecting BCI EEG file: SaveData/1e8b34/Session3\\20190305092025_1e8b34_BCI.easy\n",
      "Selecting BCI behavioral file: SaveData/1e8b34/Session3\\BCI_1e8b34_R2.csv\n",
      "Skipping N/A\n"
     ]
    },
    {
     "name": "stderr",
     "output_type": "stream",
     "text": [
      "C:\\Users\\nile\\Anaconda3\\envs\\eeg\\lib\\site-packages\\scipy\\signal\\_arraytools.py:45: FutureWarning: Using a non-tuple sequence for multidimensional indexing is deprecated; use `arr[tuple(seq)]` instead of `arr[seq]`. In the future this will be interpreted as an array index, `arr[np.array(seq)]`, which will result either in an error or a different result.\n",
      "  b = a[a_slice]\n",
      "C:\\Users\\nile\\Anaconda3\\envs\\eeg\\lib\\site-packages\\scipy\\signal\\signaltools.py:3463: FutureWarning: Using a non-tuple sequence for multidimensional indexing is deprecated; use `arr[tuple(seq)]` instead of `arr[seq]`. In the future this will be interpreted as an array index, `arr[np.array(seq)]`, which will result either in an error or a different result.\n",
      "  return y[sl]\n"
     ]
    },
    {
     "name": "stdout",
     "output_type": "stream",
     "text": [
      "Selecting model: Models/1e8b34/experimental/Session3\\1e8b34_MI_classifier_2019-03-06-14-35-34.sav\n",
      "Selecting model: Models/1e8b34/experimental/Session3\\1e8b34_MI_classifier_2019-03-06-14-35-46.sav\n",
      "Selecting model: Models/1e8b34/experimental/Session3\\1e8b34_MI_classifier_TL_2019-03-06-14-35-47.sav\n",
      "Selecting BCI EEG file: SaveData/1e8b34/Session3\\20190305092514_1e8b34_BCI.easy\n",
      "Selecting BCI behavioral file: SaveData/1e8b34/Session3\\BCI_1e8b34_R3.csv\n",
      "Skipping N/A\n"
     ]
    },
    {
     "name": "stderr",
     "output_type": "stream",
     "text": [
      "C:\\Users\\nile\\Anaconda3\\envs\\eeg\\lib\\site-packages\\scipy\\signal\\_arraytools.py:45: FutureWarning: Using a non-tuple sequence for multidimensional indexing is deprecated; use `arr[tuple(seq)]` instead of `arr[seq]`. In the future this will be interpreted as an array index, `arr[np.array(seq)]`, which will result either in an error or a different result.\n",
      "  b = a[a_slice]\n",
      "C:\\Users\\nile\\Anaconda3\\envs\\eeg\\lib\\site-packages\\scipy\\signal\\signaltools.py:3463: FutureWarning: Using a non-tuple sequence for multidimensional indexing is deprecated; use `arr[tuple(seq)]` instead of `arr[seq]`. In the future this will be interpreted as an array index, `arr[np.array(seq)]`, which will result either in an error or a different result.\n",
      "  return y[sl]\n"
     ]
    },
    {
     "name": "stdout",
     "output_type": "stream",
     "text": [
      "Selecting model: Models/1e8b34/experimental/Session3\\1e8b34_MI_classifier_2019-03-06-14-35-34.sav\n",
      "Selecting model: Models/1e8b34/experimental/Session3\\1e8b34_MI_classifier_2019-03-06-14-35-49.sav\n",
      "Selecting model: Models/1e8b34/experimental/Session3\\1e8b34_MI_classifier_TL_2019-03-06-14-35-50.sav\n",
      "Selecting BCI EEG file: SaveData/1e8b34/Session3\\20190305092953_1e8b34_BCI.easy\n",
      "Selecting BCI behavioral file: SaveData/1e8b34/Session3\\BCI_1e8b34_R4.csv\n",
      "Skipping N/A\n"
     ]
    },
    {
     "name": "stderr",
     "output_type": "stream",
     "text": [
      "C:\\Users\\nile\\Anaconda3\\envs\\eeg\\lib\\site-packages\\scipy\\signal\\_arraytools.py:45: FutureWarning: Using a non-tuple sequence for multidimensional indexing is deprecated; use `arr[tuple(seq)]` instead of `arr[seq]`. In the future this will be interpreted as an array index, `arr[np.array(seq)]`, which will result either in an error or a different result.\n",
      "  b = a[a_slice]\n",
      "C:\\Users\\nile\\Anaconda3\\envs\\eeg\\lib\\site-packages\\scipy\\signal\\signaltools.py:3463: FutureWarning: Using a non-tuple sequence for multidimensional indexing is deprecated; use `arr[tuple(seq)]` instead of `arr[seq]`. In the future this will be interpreted as an array index, `arr[np.array(seq)]`, which will result either in an error or a different result.\n",
      "  return y[sl]\n"
     ]
    },
    {
     "name": "stdout",
     "output_type": "stream",
     "text": [
      "Selecting model: Models/1e8b34/experimental/Session3\\1e8b34_MI_classifier_2019-03-06-14-35-34.sav\n",
      "Selecting model: Models/1e8b34/experimental/Session3\\1e8b34_MI_classifier_2019-03-06-14-35-53.sav\n",
      "Selecting model: Models/1e8b34/experimental/Session3\\1e8b34_MI_classifier_TL_2019-03-06-14-35-54.sav\n",
      "Selecting BCI EEG file: SaveData/1e8b34/Session3\\20190305093437_1e8b34_BCI.easy\n",
      "Selecting BCI behavioral file: SaveData/1e8b34/Session3\\BCI_1e8b34_R5.csv\n",
      "Skipping N/A\n"
     ]
    },
    {
     "name": "stderr",
     "output_type": "stream",
     "text": [
      "C:\\Users\\nile\\Anaconda3\\envs\\eeg\\lib\\site-packages\\scipy\\signal\\_arraytools.py:45: FutureWarning: Using a non-tuple sequence for multidimensional indexing is deprecated; use `arr[tuple(seq)]` instead of `arr[seq]`. In the future this will be interpreted as an array index, `arr[np.array(seq)]`, which will result either in an error or a different result.\n",
      "  b = a[a_slice]\n",
      "C:\\Users\\nile\\Anaconda3\\envs\\eeg\\lib\\site-packages\\scipy\\signal\\signaltools.py:3463: FutureWarning: Using a non-tuple sequence for multidimensional indexing is deprecated; use `arr[tuple(seq)]` instead of `arr[seq]`. In the future this will be interpreted as an array index, `arr[np.array(seq)]`, which will result either in an error or a different result.\n",
      "  return y[sl]\n"
     ]
    },
    {
     "name": "stdout",
     "output_type": "stream",
     "text": [
      "Selecting model: Models/1e8b34/experimental/Session3\\1e8b34_MI_classifier_2019-03-06-14-35-34.sav\n",
      "Selecting model: Models/1e8b34/experimental/Session3\\1e8b34_MI_classifier_2019-03-06-14-35-56.sav\n",
      "Selecting model: Models/1e8b34/experimental/Session3\\1e8b34_MI_classifier_TL_2019-03-06-14-35-58.sav\n",
      "Selecting BCI EEG file: SaveData/ad11cf/Session1\\20190215163750_ad11cf_BCI.easy\n",
      "Selecting BCI behavioral file: SaveData/ad11cf/Session1\\BCI_ad11cf_R1.csv\n",
      "Skipping N/A\n"
     ]
    },
    {
     "name": "stderr",
     "output_type": "stream",
     "text": [
      "C:\\Users\\nile\\Anaconda3\\envs\\eeg\\lib\\site-packages\\scipy\\signal\\_arraytools.py:45: FutureWarning: Using a non-tuple sequence for multidimensional indexing is deprecated; use `arr[tuple(seq)]` instead of `arr[seq]`. In the future this will be interpreted as an array index, `arr[np.array(seq)]`, which will result either in an error or a different result.\n",
      "  b = a[a_slice]\n",
      "C:\\Users\\nile\\Anaconda3\\envs\\eeg\\lib\\site-packages\\scipy\\signal\\signaltools.py:3463: FutureWarning: Using a non-tuple sequence for multidimensional indexing is deprecated; use `arr[tuple(seq)]` instead of `arr[seq]`. In the future this will be interpreted as an array index, `arr[np.array(seq)]`, which will result either in an error or a different result.\n",
      "  return y[sl]\n"
     ]
    },
    {
     "name": "stdout",
     "output_type": "stream",
     "text": [
      "Selecting model: Models/ad11cf/experimental/Session1\\ad11cf_MI_classifier_2019-03-06-16-01-25.sav\n",
      "Selecting model: Models/ad11cf/experimental/Session1\\ad11cf_MI_classifier_2019-03-06-16-01-25.sav\n",
      "Selecting model: Models/ad11cf/experimental/Session1\\ad11cf_MI_classifier_2019-03-06-16-01-25.sav\n",
      "Selecting BCI EEG file: SaveData/ad11cf/Session1\\20190215164229_ad11cf_BCI.easy\n",
      "Selecting BCI behavioral file: SaveData/ad11cf/Session1\\BCI_ad11cf_R2.csv\n",
      "Skipping N/A\n"
     ]
    },
    {
     "name": "stderr",
     "output_type": "stream",
     "text": [
      "C:\\Users\\nile\\Anaconda3\\envs\\eeg\\lib\\site-packages\\scipy\\signal\\_arraytools.py:45: FutureWarning: Using a non-tuple sequence for multidimensional indexing is deprecated; use `arr[tuple(seq)]` instead of `arr[seq]`. In the future this will be interpreted as an array index, `arr[np.array(seq)]`, which will result either in an error or a different result.\n",
      "  b = a[a_slice]\n",
      "C:\\Users\\nile\\Anaconda3\\envs\\eeg\\lib\\site-packages\\scipy\\signal\\signaltools.py:3463: FutureWarning: Using a non-tuple sequence for multidimensional indexing is deprecated; use `arr[tuple(seq)]` instead of `arr[seq]`. In the future this will be interpreted as an array index, `arr[np.array(seq)]`, which will result either in an error or a different result.\n",
      "  return y[sl]\n"
     ]
    },
    {
     "name": "stdout",
     "output_type": "stream",
     "text": [
      "Selecting model: Models/ad11cf/experimental/Session1\\ad11cf_MI_classifier_2019-03-06-16-01-25.sav\n",
      "Selecting model: Models/ad11cf/experimental/Session1\\ad11cf_MI_classifier_2019-03-06-16-01-29.sav\n",
      "Selecting model: Models/ad11cf/experimental/Session1\\ad11cf_MI_classifier_TL_2019-03-06-16-01-29.sav\n",
      "Selecting BCI EEG file: SaveData/ad11cf/Session1\\20190215164725_ad11cf_BCI.easy\n",
      "Selecting BCI behavioral file: SaveData/ad11cf/Session1\\BCI_ad11cf_R3.csv\n",
      "Skipping N/A\n"
     ]
    },
    {
     "name": "stderr",
     "output_type": "stream",
     "text": [
      "C:\\Users\\nile\\Anaconda3\\envs\\eeg\\lib\\site-packages\\scipy\\signal\\_arraytools.py:45: FutureWarning: Using a non-tuple sequence for multidimensional indexing is deprecated; use `arr[tuple(seq)]` instead of `arr[seq]`. In the future this will be interpreted as an array index, `arr[np.array(seq)]`, which will result either in an error or a different result.\n",
      "  b = a[a_slice]\n",
      "C:\\Users\\nile\\Anaconda3\\envs\\eeg\\lib\\site-packages\\scipy\\signal\\signaltools.py:3463: FutureWarning: Using a non-tuple sequence for multidimensional indexing is deprecated; use `arr[tuple(seq)]` instead of `arr[seq]`. In the future this will be interpreted as an array index, `arr[np.array(seq)]`, which will result either in an error or a different result.\n",
      "  return y[sl]\n"
     ]
    },
    {
     "name": "stdout",
     "output_type": "stream",
     "text": [
      "Selecting model: Models/ad11cf/experimental/Session1\\ad11cf_MI_classifier_2019-03-06-16-01-25.sav\n",
      "Selecting model: Models/ad11cf/experimental/Session1\\ad11cf_MI_classifier_2019-03-06-16-01-32.sav\n",
      "Selecting model: Models/ad11cf/experimental/Session1\\ad11cf_MI_classifier_TL_2019-03-06-16-01-34.sav\n",
      "Selecting BCI EEG file: SaveData/ad11cf/Session1\\20190215165214_ad11cf_BCI.easy\n",
      "Selecting BCI behavioral file: SaveData/ad11cf/Session1\\BCI_ad11cf_R4.csv\n",
      "Skipping N/A\n"
     ]
    },
    {
     "name": "stderr",
     "output_type": "stream",
     "text": [
      "C:\\Users\\nile\\Anaconda3\\envs\\eeg\\lib\\site-packages\\scipy\\signal\\_arraytools.py:45: FutureWarning: Using a non-tuple sequence for multidimensional indexing is deprecated; use `arr[tuple(seq)]` instead of `arr[seq]`. In the future this will be interpreted as an array index, `arr[np.array(seq)]`, which will result either in an error or a different result.\n",
      "  b = a[a_slice]\n",
      "C:\\Users\\nile\\Anaconda3\\envs\\eeg\\lib\\site-packages\\scipy\\signal\\signaltools.py:3463: FutureWarning: Using a non-tuple sequence for multidimensional indexing is deprecated; use `arr[tuple(seq)]` instead of `arr[seq]`. In the future this will be interpreted as an array index, `arr[np.array(seq)]`, which will result either in an error or a different result.\n",
      "  return y[sl]\n"
     ]
    },
    {
     "name": "stdout",
     "output_type": "stream",
     "text": [
      "Selecting model: Models/ad11cf/experimental/Session1\\ad11cf_MI_classifier_2019-03-06-16-01-25.sav\n",
      "Selecting model: Models/ad11cf/experimental/Session1\\ad11cf_MI_classifier_2019-03-06-16-01-36.sav\n",
      "Selecting model: Models/ad11cf/experimental/Session1\\ad11cf_MI_classifier_TL_2019-03-06-16-01-38.sav\n",
      "Selecting BCI EEG file: SaveData/ad11cf/Session1\\20190215165729_ad11cf_BCI.easy\n",
      "Selecting BCI behavioral file: SaveData/ad11cf/Session1\\BCI_ad11cf_R5.csv\n",
      "Skipping N/A\n"
     ]
    },
    {
     "name": "stderr",
     "output_type": "stream",
     "text": [
      "C:\\Users\\nile\\Anaconda3\\envs\\eeg\\lib\\site-packages\\scipy\\signal\\_arraytools.py:45: FutureWarning: Using a non-tuple sequence for multidimensional indexing is deprecated; use `arr[tuple(seq)]` instead of `arr[seq]`. In the future this will be interpreted as an array index, `arr[np.array(seq)]`, which will result either in an error or a different result.\n",
      "  b = a[a_slice]\n",
      "C:\\Users\\nile\\Anaconda3\\envs\\eeg\\lib\\site-packages\\scipy\\signal\\signaltools.py:3463: FutureWarning: Using a non-tuple sequence for multidimensional indexing is deprecated; use `arr[tuple(seq)]` instead of `arr[seq]`. In the future this will be interpreted as an array index, `arr[np.array(seq)]`, which will result either in an error or a different result.\n",
      "  return y[sl]\n"
     ]
    },
    {
     "name": "stdout",
     "output_type": "stream",
     "text": [
      "Selecting model: Models/ad11cf/experimental/Session1\\ad11cf_MI_classifier_2019-03-06-16-01-25.sav\n",
      "Selecting model: Models/ad11cf/experimental/Session1\\ad11cf_MI_classifier_2019-03-06-16-01-40.sav\n",
      "Selecting model: Models/ad11cf/experimental/Session1\\ad11cf_MI_classifier_TL_2019-03-06-16-01-42.sav\n",
      "Selecting BCI EEG file: SaveData/ad11cf/Session2\\20190222161801_ad11cf_BCI.easy\n",
      "Selecting BCI behavioral file: SaveData/ad11cf/Session2\\BCI_ad11cf_R1.csv\n",
      "Skipping N/A\n"
     ]
    },
    {
     "name": "stderr",
     "output_type": "stream",
     "text": [
      "C:\\Users\\nile\\Anaconda3\\envs\\eeg\\lib\\site-packages\\scipy\\signal\\_arraytools.py:45: FutureWarning: Using a non-tuple sequence for multidimensional indexing is deprecated; use `arr[tuple(seq)]` instead of `arr[seq]`. In the future this will be interpreted as an array index, `arr[np.array(seq)]`, which will result either in an error or a different result.\n",
      "  b = a[a_slice]\n",
      "C:\\Users\\nile\\Anaconda3\\envs\\eeg\\lib\\site-packages\\scipy\\signal\\signaltools.py:3463: FutureWarning: Using a non-tuple sequence for multidimensional indexing is deprecated; use `arr[tuple(seq)]` instead of `arr[seq]`. In the future this will be interpreted as an array index, `arr[np.array(seq)]`, which will result either in an error or a different result.\n",
      "  return y[sl]\n"
     ]
    },
    {
     "name": "stdout",
     "output_type": "stream",
     "text": [
      "Selecting model: Models/ad11cf/experimental/Session2\\ad11cf_MI_classifier_2019-03-06-16-03-08.sav\n",
      "Selecting model: Models/ad11cf/experimental/Session2\\ad11cf_MI_classifier_2019-03-06-16-03-08.sav\n",
      "Selecting model: Models/ad11cf/experimental/Session2\\ad11cf_MI_classifier_2019-03-06-16-03-08.sav\n",
      "Selecting BCI EEG file: SaveData/ad11cf/Session2\\20190222162254_ad11cf_BCI.easy\n",
      "Selecting BCI behavioral file: SaveData/ad11cf/Session2\\BCI_ad11cf_R2.csv\n",
      "Skipping N/A\n"
     ]
    },
    {
     "name": "stderr",
     "output_type": "stream",
     "text": [
      "C:\\Users\\nile\\Anaconda3\\envs\\eeg\\lib\\site-packages\\scipy\\signal\\_arraytools.py:45: FutureWarning: Using a non-tuple sequence for multidimensional indexing is deprecated; use `arr[tuple(seq)]` instead of `arr[seq]`. In the future this will be interpreted as an array index, `arr[np.array(seq)]`, which will result either in an error or a different result.\n",
      "  b = a[a_slice]\n",
      "C:\\Users\\nile\\Anaconda3\\envs\\eeg\\lib\\site-packages\\scipy\\signal\\signaltools.py:3463: FutureWarning: Using a non-tuple sequence for multidimensional indexing is deprecated; use `arr[tuple(seq)]` instead of `arr[seq]`. In the future this will be interpreted as an array index, `arr[np.array(seq)]`, which will result either in an error or a different result.\n",
      "  return y[sl]\n"
     ]
    },
    {
     "name": "stdout",
     "output_type": "stream",
     "text": [
      "Selecting model: Models/ad11cf/experimental/Session2\\ad11cf_MI_classifier_2019-03-06-16-03-08.sav\n",
      "Selecting model: Models/ad11cf/experimental/Session2\\ad11cf_MI_classifier_2019-03-06-16-03-12.sav\n",
      "Selecting model: Models/ad11cf/experimental/Session2\\ad11cf_MI_classifier_TL_2019-03-06-16-03-13.sav\n",
      "Selecting BCI EEG file: SaveData/ad11cf/Session2\\20190222162742_ad11cf_BCI.easy\n",
      "Selecting BCI behavioral file: SaveData/ad11cf/Session2\\BCI_ad11cf_R3.csv\n",
      "Skipping N/A\n"
     ]
    },
    {
     "name": "stderr",
     "output_type": "stream",
     "text": [
      "C:\\Users\\nile\\Anaconda3\\envs\\eeg\\lib\\site-packages\\scipy\\signal\\_arraytools.py:45: FutureWarning: Using a non-tuple sequence for multidimensional indexing is deprecated; use `arr[tuple(seq)]` instead of `arr[seq]`. In the future this will be interpreted as an array index, `arr[np.array(seq)]`, which will result either in an error or a different result.\n",
      "  b = a[a_slice]\n",
      "C:\\Users\\nile\\Anaconda3\\envs\\eeg\\lib\\site-packages\\scipy\\signal\\signaltools.py:3463: FutureWarning: Using a non-tuple sequence for multidimensional indexing is deprecated; use `arr[tuple(seq)]` instead of `arr[seq]`. In the future this will be interpreted as an array index, `arr[np.array(seq)]`, which will result either in an error or a different result.\n",
      "  return y[sl]\n"
     ]
    },
    {
     "name": "stdout",
     "output_type": "stream",
     "text": [
      "Selecting model: Models/ad11cf/experimental/Session2\\ad11cf_MI_classifier_2019-03-06-16-03-08.sav\n",
      "Selecting model: Models/ad11cf/experimental/Session2\\ad11cf_MI_classifier_2019-03-06-16-03-15.sav\n",
      "Selecting model: Models/ad11cf/experimental/Session2\\ad11cf_MI_classifier_TL_2019-03-06-16-03-17.sav\n",
      "Selecting BCI EEG file: SaveData/ad11cf/Session2\\20190222163217_ad11cf_BCI.easy\n",
      "Selecting BCI behavioral file: SaveData/ad11cf/Session2\\BCI_ad11cf_R4.csv\n",
      "Skipping N/A\n"
     ]
    },
    {
     "name": "stderr",
     "output_type": "stream",
     "text": [
      "C:\\Users\\nile\\Anaconda3\\envs\\eeg\\lib\\site-packages\\scipy\\signal\\_arraytools.py:45: FutureWarning: Using a non-tuple sequence for multidimensional indexing is deprecated; use `arr[tuple(seq)]` instead of `arr[seq]`. In the future this will be interpreted as an array index, `arr[np.array(seq)]`, which will result either in an error or a different result.\n",
      "  b = a[a_slice]\n",
      "C:\\Users\\nile\\Anaconda3\\envs\\eeg\\lib\\site-packages\\scipy\\signal\\signaltools.py:3463: FutureWarning: Using a non-tuple sequence for multidimensional indexing is deprecated; use `arr[tuple(seq)]` instead of `arr[seq]`. In the future this will be interpreted as an array index, `arr[np.array(seq)]`, which will result either in an error or a different result.\n",
      "  return y[sl]\n"
     ]
    },
    {
     "name": "stdout",
     "output_type": "stream",
     "text": [
      "Selecting model: Models/ad11cf/experimental/Session2\\ad11cf_MI_classifier_2019-03-06-16-03-08.sav\n",
      "Selecting model: Models/ad11cf/experimental/Session2\\ad11cf_MI_classifier_2019-03-06-16-03-19.sav\n",
      "Selecting model: Models/ad11cf/experimental/Session2\\ad11cf_MI_classifier_TL_2019-03-06-16-03-20.sav\n",
      "Selecting BCI EEG file: SaveData/ad11cf/Session2\\20190222163652_ad11cf_BCI.easy\n",
      "Selecting BCI behavioral file: SaveData/ad11cf/Session2\\BCI_ad11cf_R5.csv\n",
      "Skipping N/A\n"
     ]
    },
    {
     "name": "stderr",
     "output_type": "stream",
     "text": [
      "C:\\Users\\nile\\Anaconda3\\envs\\eeg\\lib\\site-packages\\scipy\\signal\\_arraytools.py:45: FutureWarning: Using a non-tuple sequence for multidimensional indexing is deprecated; use `arr[tuple(seq)]` instead of `arr[seq]`. In the future this will be interpreted as an array index, `arr[np.array(seq)]`, which will result either in an error or a different result.\n",
      "  b = a[a_slice]\n",
      "C:\\Users\\nile\\Anaconda3\\envs\\eeg\\lib\\site-packages\\scipy\\signal\\signaltools.py:3463: FutureWarning: Using a non-tuple sequence for multidimensional indexing is deprecated; use `arr[tuple(seq)]` instead of `arr[seq]`. In the future this will be interpreted as an array index, `arr[np.array(seq)]`, which will result either in an error or a different result.\n",
      "  return y[sl]\n"
     ]
    },
    {
     "name": "stdout",
     "output_type": "stream",
     "text": [
      "Selecting model: Models/ad11cf/experimental/Session2\\ad11cf_MI_classifier_2019-03-06-16-03-08.sav\n",
      "Selecting model: Models/ad11cf/experimental/Session2\\ad11cf_MI_classifier_2019-03-06-16-03-23.sav\n",
      "Selecting model: Models/ad11cf/experimental/Session2\\ad11cf_MI_classifier_TL_2019-03-06-16-03-24.sav\n",
      "Selecting BCI EEG file: SaveData/ad11cf/Session3\\20190227091743_ad11cf_BCI.easy\n",
      "Selecting BCI behavioral file: SaveData/ad11cf/Session3\\BCI_ad11cf_R1.csv\n",
      "Skipping N/A\n"
     ]
    },
    {
     "name": "stderr",
     "output_type": "stream",
     "text": [
      "C:\\Users\\nile\\Anaconda3\\envs\\eeg\\lib\\site-packages\\scipy\\signal\\_arraytools.py:45: FutureWarning: Using a non-tuple sequence for multidimensional indexing is deprecated; use `arr[tuple(seq)]` instead of `arr[seq]`. In the future this will be interpreted as an array index, `arr[np.array(seq)]`, which will result either in an error or a different result.\n",
      "  b = a[a_slice]\n",
      "C:\\Users\\nile\\Anaconda3\\envs\\eeg\\lib\\site-packages\\scipy\\signal\\signaltools.py:3463: FutureWarning: Using a non-tuple sequence for multidimensional indexing is deprecated; use `arr[tuple(seq)]` instead of `arr[seq]`. In the future this will be interpreted as an array index, `arr[np.array(seq)]`, which will result either in an error or a different result.\n",
      "  return y[sl]\n"
     ]
    },
    {
     "name": "stdout",
     "output_type": "stream",
     "text": [
      "Selecting model: Models/ad11cf/experimental/Session3\\ad11cf_MI_classifier_2019-03-06-16-05-09.sav\n",
      "Selecting model: Models/ad11cf/experimental/Session3\\ad11cf_MI_classifier_2019-03-06-16-05-09.sav\n",
      "Selecting model: Models/ad11cf/experimental/Session3\\ad11cf_MI_classifier_2019-03-06-16-05-09.sav\n",
      "Selecting BCI EEG file: SaveData/ad11cf/Session3\\20190227092229_ad11cf_BCI.easy\n",
      "Selecting BCI behavioral file: SaveData/ad11cf/Session3\\BCI_ad11cf_R2.csv\n",
      "Skipping N/A\n"
     ]
    },
    {
     "name": "stderr",
     "output_type": "stream",
     "text": [
      "C:\\Users\\nile\\Anaconda3\\envs\\eeg\\lib\\site-packages\\scipy\\signal\\_arraytools.py:45: FutureWarning: Using a non-tuple sequence for multidimensional indexing is deprecated; use `arr[tuple(seq)]` instead of `arr[seq]`. In the future this will be interpreted as an array index, `arr[np.array(seq)]`, which will result either in an error or a different result.\n",
      "  b = a[a_slice]\n",
      "C:\\Users\\nile\\Anaconda3\\envs\\eeg\\lib\\site-packages\\scipy\\signal\\signaltools.py:3463: FutureWarning: Using a non-tuple sequence for multidimensional indexing is deprecated; use `arr[tuple(seq)]` instead of `arr[seq]`. In the future this will be interpreted as an array index, `arr[np.array(seq)]`, which will result either in an error or a different result.\n",
      "  return y[sl]\n"
     ]
    },
    {
     "name": "stdout",
     "output_type": "stream",
     "text": [
      "Selecting model: Models/ad11cf/experimental/Session3\\ad11cf_MI_classifier_2019-03-06-16-05-09.sav\n",
      "Selecting model: Models/ad11cf/experimental/Session3\\ad11cf_MI_classifier_2019-03-06-16-05-13.sav\n",
      "Selecting model: Models/ad11cf/experimental/Session3\\ad11cf_MI_classifier_TL_2019-03-06-16-05-13.sav\n",
      "Selecting BCI EEG file: SaveData/ad11cf/Session3\\20190227092713_ad11cf_BCI.easy\n",
      "Selecting BCI behavioral file: SaveData/ad11cf/Session3\\BCI_ad11cf_R3.csv\n",
      "Skipping N/A\n"
     ]
    },
    {
     "name": "stderr",
     "output_type": "stream",
     "text": [
      "C:\\Users\\nile\\Anaconda3\\envs\\eeg\\lib\\site-packages\\scipy\\signal\\_arraytools.py:45: FutureWarning: Using a non-tuple sequence for multidimensional indexing is deprecated; use `arr[tuple(seq)]` instead of `arr[seq]`. In the future this will be interpreted as an array index, `arr[np.array(seq)]`, which will result either in an error or a different result.\n",
      "  b = a[a_slice]\n",
      "C:\\Users\\nile\\Anaconda3\\envs\\eeg\\lib\\site-packages\\scipy\\signal\\signaltools.py:3463: FutureWarning: Using a non-tuple sequence for multidimensional indexing is deprecated; use `arr[tuple(seq)]` instead of `arr[seq]`. In the future this will be interpreted as an array index, `arr[np.array(seq)]`, which will result either in an error or a different result.\n",
      "  return y[sl]\n"
     ]
    },
    {
     "name": "stdout",
     "output_type": "stream",
     "text": [
      "Selecting model: Models/ad11cf/experimental/Session3\\ad11cf_MI_classifier_2019-03-06-16-05-09.sav\n",
      "Selecting model: Models/ad11cf/experimental/Session3\\ad11cf_MI_classifier_2019-03-06-16-05-16.sav\n",
      "Selecting model: Models/ad11cf/experimental/Session3\\ad11cf_MI_classifier_TL_2019-03-06-16-05-17.sav\n",
      "Selecting BCI EEG file: SaveData/ad11cf/Session3\\20190227093159_ad11cf_BCI.easy\n",
      "Selecting BCI behavioral file: SaveData/ad11cf/Session3\\BCI_ad11cf_R4.csv\n",
      "Skipping N/A\n"
     ]
    },
    {
     "name": "stderr",
     "output_type": "stream",
     "text": [
      "C:\\Users\\nile\\Anaconda3\\envs\\eeg\\lib\\site-packages\\scipy\\signal\\_arraytools.py:45: FutureWarning: Using a non-tuple sequence for multidimensional indexing is deprecated; use `arr[tuple(seq)]` instead of `arr[seq]`. In the future this will be interpreted as an array index, `arr[np.array(seq)]`, which will result either in an error or a different result.\n",
      "  b = a[a_slice]\n",
      "C:\\Users\\nile\\Anaconda3\\envs\\eeg\\lib\\site-packages\\scipy\\signal\\signaltools.py:3463: FutureWarning: Using a non-tuple sequence for multidimensional indexing is deprecated; use `arr[tuple(seq)]` instead of `arr[seq]`. In the future this will be interpreted as an array index, `arr[np.array(seq)]`, which will result either in an error or a different result.\n",
      "  return y[sl]\n"
     ]
    },
    {
     "name": "stdout",
     "output_type": "stream",
     "text": [
      "Selecting model: Models/ad11cf/experimental/Session3\\ad11cf_MI_classifier_2019-03-06-16-05-09.sav\n",
      "Selecting model: Models/ad11cf/experimental/Session3\\ad11cf_MI_classifier_2019-03-06-16-05-20.sav\n",
      "Selecting model: Models/ad11cf/experimental/Session3\\ad11cf_MI_classifier_TL_2019-03-06-16-05-21.sav\n",
      "Selecting BCI EEG file: SaveData/ad11cf/Session3\\20190227093708_ad11cf_BCI.easy\n",
      "Selecting BCI behavioral file: SaveData/ad11cf/Session3\\BCI_ad11cf_R5.csv\n",
      "Skipping N/A\n"
     ]
    },
    {
     "name": "stderr",
     "output_type": "stream",
     "text": [
      "C:\\Users\\nile\\Anaconda3\\envs\\eeg\\lib\\site-packages\\scipy\\signal\\_arraytools.py:45: FutureWarning: Using a non-tuple sequence for multidimensional indexing is deprecated; use `arr[tuple(seq)]` instead of `arr[seq]`. In the future this will be interpreted as an array index, `arr[np.array(seq)]`, which will result either in an error or a different result.\n",
      "  b = a[a_slice]\n",
      "C:\\Users\\nile\\Anaconda3\\envs\\eeg\\lib\\site-packages\\scipy\\signal\\signaltools.py:3463: FutureWarning: Using a non-tuple sequence for multidimensional indexing is deprecated; use `arr[tuple(seq)]` instead of `arr[seq]`. In the future this will be interpreted as an array index, `arr[np.array(seq)]`, which will result either in an error or a different result.\n",
      "  return y[sl]\n"
     ]
    },
    {
     "name": "stdout",
     "output_type": "stream",
     "text": [
      "Selecting model: Models/ad11cf/experimental/Session3\\ad11cf_MI_classifier_2019-03-06-16-05-09.sav\n",
      "Selecting model: Models/ad11cf/experimental/Session3\\ad11cf_MI_classifier_2019-03-06-16-05-24.sav\n",
      "Selecting model: Models/ad11cf/experimental/Session3\\ad11cf_MI_classifier_TL_2019-03-06-16-05-25.sav\n",
      "Selecting BCI EEG file: SaveData/af9af3/Session1\\20190222133609_af9af3_BCI.easy\n",
      "Selecting BCI behavioral file: SaveData/af9af3/Session1\\BCI_af9af3_R1.csv\n",
      "Skipping N/A\n"
     ]
    },
    {
     "name": "stderr",
     "output_type": "stream",
     "text": [
      "C:\\Users\\nile\\Anaconda3\\envs\\eeg\\lib\\site-packages\\scipy\\signal\\_arraytools.py:45: FutureWarning: Using a non-tuple sequence for multidimensional indexing is deprecated; use `arr[tuple(seq)]` instead of `arr[seq]`. In the future this will be interpreted as an array index, `arr[np.array(seq)]`, which will result either in an error or a different result.\n",
      "  b = a[a_slice]\n",
      "C:\\Users\\nile\\Anaconda3\\envs\\eeg\\lib\\site-packages\\scipy\\signal\\signaltools.py:3463: FutureWarning: Using a non-tuple sequence for multidimensional indexing is deprecated; use `arr[tuple(seq)]` instead of `arr[seq]`. In the future this will be interpreted as an array index, `arr[np.array(seq)]`, which will result either in an error or a different result.\n",
      "  return y[sl]\n"
     ]
    },
    {
     "name": "stdout",
     "output_type": "stream",
     "text": [
      "Selecting model: Models/af9af3/experimental/Session1\\af9af3_MI_classifier_2019-03-22-11-59-26.sav\n",
      "Selecting model: Models/af9af3/experimental/Session1\\af9af3_MI_classifier_2019-03-22-11-59-26.sav\n",
      "Selecting model: Models/af9af3/experimental/Session1\\af9af3_MI_classifier_2019-03-22-11-59-26.sav\n",
      "Selecting BCI EEG file: SaveData/af9af3/Session1\\20190222134114_af9af3_BCI.easy\n",
      "Selecting BCI behavioral file: SaveData/af9af3/Session1\\BCI_af9af3_R2.csv\n",
      "Skipping N/A\n"
     ]
    },
    {
     "name": "stderr",
     "output_type": "stream",
     "text": [
      "C:\\Users\\nile\\Anaconda3\\envs\\eeg\\lib\\site-packages\\scipy\\signal\\_arraytools.py:45: FutureWarning: Using a non-tuple sequence for multidimensional indexing is deprecated; use `arr[tuple(seq)]` instead of `arr[seq]`. In the future this will be interpreted as an array index, `arr[np.array(seq)]`, which will result either in an error or a different result.\n",
      "  b = a[a_slice]\n",
      "C:\\Users\\nile\\Anaconda3\\envs\\eeg\\lib\\site-packages\\scipy\\signal\\signaltools.py:3463: FutureWarning: Using a non-tuple sequence for multidimensional indexing is deprecated; use `arr[tuple(seq)]` instead of `arr[seq]`. In the future this will be interpreted as an array index, `arr[np.array(seq)]`, which will result either in an error or a different result.\n",
      "  return y[sl]\n"
     ]
    },
    {
     "name": "stdout",
     "output_type": "stream",
     "text": [
      "Selecting model: Models/af9af3/experimental/Session1\\af9af3_MI_classifier_2019-03-22-11-59-26.sav\n",
      "Selecting model: Models/af9af3/experimental/Session1\\af9af3_MI_classifier_2019-03-22-11-59-30.sav\n",
      "Selecting model: Models/af9af3/experimental/Session1\\af9af3_MI_classifier_TL_2019-03-22-11-59-30.sav\n",
      "Selecting BCI EEG file: SaveData/af9af3/Session1\\20190222134617_af9af3_BCI.easy\n",
      "Selecting BCI behavioral file: SaveData/af9af3/Session1\\BCI_af9af3_R3.csv\n",
      "Skipping N/A\n"
     ]
    },
    {
     "name": "stderr",
     "output_type": "stream",
     "text": [
      "C:\\Users\\nile\\Anaconda3\\envs\\eeg\\lib\\site-packages\\scipy\\signal\\_arraytools.py:45: FutureWarning: Using a non-tuple sequence for multidimensional indexing is deprecated; use `arr[tuple(seq)]` instead of `arr[seq]`. In the future this will be interpreted as an array index, `arr[np.array(seq)]`, which will result either in an error or a different result.\n",
      "  b = a[a_slice]\n",
      "C:\\Users\\nile\\Anaconda3\\envs\\eeg\\lib\\site-packages\\scipy\\signal\\signaltools.py:3463: FutureWarning: Using a non-tuple sequence for multidimensional indexing is deprecated; use `arr[tuple(seq)]` instead of `arr[seq]`. In the future this will be interpreted as an array index, `arr[np.array(seq)]`, which will result either in an error or a different result.\n",
      "  return y[sl]\n"
     ]
    },
    {
     "name": "stdout",
     "output_type": "stream",
     "text": [
      "Selecting model: Models/af9af3/experimental/Session1\\af9af3_MI_classifier_2019-03-22-11-59-26.sav\n",
      "Selecting model: Models/af9af3/experimental/Session1\\af9af3_MI_classifier_2019-03-22-11-59-33.sav\n",
      "Selecting model: Models/af9af3/experimental/Session1\\af9af3_MI_classifier_TL_2019-03-22-11-59-34.sav\n",
      "Selecting BCI EEG file: SaveData/af9af3/Session1\\20190222135126_af9af3_BCI.easy\n",
      "Selecting BCI behavioral file: SaveData/af9af3/Session1\\BCI_af9af3_R4.csv\n",
      "Skipping N/A\n"
     ]
    },
    {
     "name": "stderr",
     "output_type": "stream",
     "text": [
      "C:\\Users\\nile\\Anaconda3\\envs\\eeg\\lib\\site-packages\\scipy\\signal\\_arraytools.py:45: FutureWarning: Using a non-tuple sequence for multidimensional indexing is deprecated; use `arr[tuple(seq)]` instead of `arr[seq]`. In the future this will be interpreted as an array index, `arr[np.array(seq)]`, which will result either in an error or a different result.\n",
      "  b = a[a_slice]\n",
      "C:\\Users\\nile\\Anaconda3\\envs\\eeg\\lib\\site-packages\\scipy\\signal\\signaltools.py:3463: FutureWarning: Using a non-tuple sequence for multidimensional indexing is deprecated; use `arr[tuple(seq)]` instead of `arr[seq]`. In the future this will be interpreted as an array index, `arr[np.array(seq)]`, which will result either in an error or a different result.\n",
      "  return y[sl]\n"
     ]
    },
    {
     "name": "stdout",
     "output_type": "stream",
     "text": [
      "Selecting model: Models/af9af3/experimental/Session1\\af9af3_MI_classifier_2019-03-22-11-59-26.sav\n",
      "Selecting model: Models/af9af3/experimental/Session1\\af9af3_MI_classifier_2019-03-22-11-59-37.sav\n",
      "Selecting model: Models/af9af3/experimental/Session1\\af9af3_MI_classifier_TL_2019-03-22-11-59-38.sav\n",
      "Selecting BCI EEG file: SaveData/af9af3/Session1\\20190222135621_af9af3_BCI.easy\n",
      "Selecting BCI behavioral file: SaveData/af9af3/Session1\\BCI_af9af3_R5.csv\n",
      "Skipping N/A\n"
     ]
    },
    {
     "name": "stderr",
     "output_type": "stream",
     "text": [
      "C:\\Users\\nile\\Anaconda3\\envs\\eeg\\lib\\site-packages\\scipy\\signal\\_arraytools.py:45: FutureWarning: Using a non-tuple sequence for multidimensional indexing is deprecated; use `arr[tuple(seq)]` instead of `arr[seq]`. In the future this will be interpreted as an array index, `arr[np.array(seq)]`, which will result either in an error or a different result.\n",
      "  b = a[a_slice]\n",
      "C:\\Users\\nile\\Anaconda3\\envs\\eeg\\lib\\site-packages\\scipy\\signal\\signaltools.py:3463: FutureWarning: Using a non-tuple sequence for multidimensional indexing is deprecated; use `arr[tuple(seq)]` instead of `arr[seq]`. In the future this will be interpreted as an array index, `arr[np.array(seq)]`, which will result either in an error or a different result.\n",
      "  return y[sl]\n"
     ]
    },
    {
     "name": "stdout",
     "output_type": "stream",
     "text": [
      "Selecting model: Models/af9af3/experimental/Session1\\af9af3_MI_classifier_2019-03-22-11-59-26.sav\n",
      "Selecting model: Models/af9af3/experimental/Session1\\af9af3_MI_classifier_2019-03-22-11-59-41.sav\n",
      "Selecting model: Models/af9af3/experimental/Session1\\af9af3_MI_classifier_TL_2019-03-22-11-59-42.sav\n",
      "Selecting BCI EEG file: SaveData/af9af3/Session2\\20190226161211_af9af3_BCI.easy\n",
      "Selecting BCI behavioral file: SaveData/af9af3/Session2\\BCI_af9af3_R1.csv\n",
      "Skipping N/A\n"
     ]
    },
    {
     "name": "stderr",
     "output_type": "stream",
     "text": [
      "C:\\Users\\nile\\Anaconda3\\envs\\eeg\\lib\\site-packages\\scipy\\signal\\_arraytools.py:45: FutureWarning: Using a non-tuple sequence for multidimensional indexing is deprecated; use `arr[tuple(seq)]` instead of `arr[seq]`. In the future this will be interpreted as an array index, `arr[np.array(seq)]`, which will result either in an error or a different result.\n",
      "  b = a[a_slice]\n",
      "C:\\Users\\nile\\Anaconda3\\envs\\eeg\\lib\\site-packages\\scipy\\signal\\signaltools.py:3463: FutureWarning: Using a non-tuple sequence for multidimensional indexing is deprecated; use `arr[tuple(seq)]` instead of `arr[seq]`. In the future this will be interpreted as an array index, `arr[np.array(seq)]`, which will result either in an error or a different result.\n",
      "  return y[sl]\n"
     ]
    },
    {
     "name": "stdout",
     "output_type": "stream",
     "text": [
      "Selecting model: Models/af9af3/experimental/Session2\\af9af3_MI_classifier_2019-03-22-12-01-17.sav\n",
      "Selecting model: Models/af9af3/experimental/Session2\\af9af3_MI_classifier_2019-03-22-12-01-17.sav\n",
      "Selecting model: Models/af9af3/experimental/Session2\\af9af3_MI_classifier_2019-03-22-12-01-17.sav\n",
      "Selecting BCI EEG file: SaveData/af9af3/Session2\\20190226161714_af9af3_BCI.easy\n",
      "Selecting BCI behavioral file: SaveData/af9af3/Session2\\BCI_af9af3_R2.csv\n",
      "Skipping N/A\n"
     ]
    },
    {
     "name": "stderr",
     "output_type": "stream",
     "text": [
      "C:\\Users\\nile\\Anaconda3\\envs\\eeg\\lib\\site-packages\\scipy\\signal\\_arraytools.py:45: FutureWarning: Using a non-tuple sequence for multidimensional indexing is deprecated; use `arr[tuple(seq)]` instead of `arr[seq]`. In the future this will be interpreted as an array index, `arr[np.array(seq)]`, which will result either in an error or a different result.\n",
      "  b = a[a_slice]\n",
      "C:\\Users\\nile\\Anaconda3\\envs\\eeg\\lib\\site-packages\\scipy\\signal\\signaltools.py:3463: FutureWarning: Using a non-tuple sequence for multidimensional indexing is deprecated; use `arr[tuple(seq)]` instead of `arr[seq]`. In the future this will be interpreted as an array index, `arr[np.array(seq)]`, which will result either in an error or a different result.\n",
      "  return y[sl]\n"
     ]
    },
    {
     "name": "stdout",
     "output_type": "stream",
     "text": [
      "Selecting model: Models/af9af3/experimental/Session2\\af9af3_MI_classifier_2019-03-22-12-01-17.sav\n",
      "Selecting model: Models/af9af3/experimental/Session2\\af9af3_MI_classifier_2019-03-22-12-01-21.sav\n",
      "Selecting model: Models/af9af3/experimental/Session2\\af9af3_MI_classifier_TL_2019-03-22-12-01-21.sav\n",
      "Selecting BCI EEG file: SaveData/af9af3/Session2\\20190226162231_af9af3_BCI.easy\n",
      "Selecting BCI behavioral file: SaveData/af9af3/Session2\\BCI_af9af3_R3.csv\n",
      "Skipping N/A\n"
     ]
    },
    {
     "name": "stderr",
     "output_type": "stream",
     "text": [
      "C:\\Users\\nile\\Anaconda3\\envs\\eeg\\lib\\site-packages\\scipy\\signal\\_arraytools.py:45: FutureWarning: Using a non-tuple sequence for multidimensional indexing is deprecated; use `arr[tuple(seq)]` instead of `arr[seq]`. In the future this will be interpreted as an array index, `arr[np.array(seq)]`, which will result either in an error or a different result.\n",
      "  b = a[a_slice]\n",
      "C:\\Users\\nile\\Anaconda3\\envs\\eeg\\lib\\site-packages\\scipy\\signal\\signaltools.py:3463: FutureWarning: Using a non-tuple sequence for multidimensional indexing is deprecated; use `arr[tuple(seq)]` instead of `arr[seq]`. In the future this will be interpreted as an array index, `arr[np.array(seq)]`, which will result either in an error or a different result.\n",
      "  return y[sl]\n"
     ]
    },
    {
     "name": "stdout",
     "output_type": "stream",
     "text": [
      "Selecting model: Models/af9af3/experimental/Session2\\af9af3_MI_classifier_2019-03-22-12-01-17.sav\n",
      "Selecting model: Models/af9af3/experimental/Session2\\af9af3_MI_classifier_2019-03-22-12-01-24.sav\n",
      "Selecting model: Models/af9af3/experimental/Session2\\af9af3_MI_classifier_TL_2019-03-22-12-01-26.sav\n",
      "Selecting BCI EEG file: SaveData/af9af3/Session2\\20190226162742_af9af3_BCI.easy\n",
      "Selecting BCI behavioral file: SaveData/af9af3/Session2\\BCI_af9af3_R4.csv\n",
      "Skipping N/A\n"
     ]
    },
    {
     "name": "stderr",
     "output_type": "stream",
     "text": [
      "C:\\Users\\nile\\Anaconda3\\envs\\eeg\\lib\\site-packages\\scipy\\signal\\_arraytools.py:45: FutureWarning: Using a non-tuple sequence for multidimensional indexing is deprecated; use `arr[tuple(seq)]` instead of `arr[seq]`. In the future this will be interpreted as an array index, `arr[np.array(seq)]`, which will result either in an error or a different result.\n",
      "  b = a[a_slice]\n",
      "C:\\Users\\nile\\Anaconda3\\envs\\eeg\\lib\\site-packages\\scipy\\signal\\signaltools.py:3463: FutureWarning: Using a non-tuple sequence for multidimensional indexing is deprecated; use `arr[tuple(seq)]` instead of `arr[seq]`. In the future this will be interpreted as an array index, `arr[np.array(seq)]`, which will result either in an error or a different result.\n",
      "  return y[sl]\n"
     ]
    },
    {
     "name": "stdout",
     "output_type": "stream",
     "text": [
      "Selecting model: Models/af9af3/experimental/Session2\\af9af3_MI_classifier_2019-03-22-12-01-17.sav\n",
      "Selecting model: Models/af9af3/experimental/Session2\\af9af3_MI_classifier_2019-03-22-12-01-29.sav\n",
      "Selecting model: Models/af9af3/experimental/Session2\\af9af3_MI_classifier_TL_2019-03-22-12-01-30.sav\n",
      "Selecting BCI EEG file: SaveData/af9af3/Session2\\20190226163254_af9af3_BCI.easy\n",
      "Selecting BCI behavioral file: SaveData/af9af3/Session2\\BCI_af9af3_R5.csv\n",
      "Skipping N/A\n"
     ]
    },
    {
     "name": "stderr",
     "output_type": "stream",
     "text": [
      "C:\\Users\\nile\\Anaconda3\\envs\\eeg\\lib\\site-packages\\scipy\\signal\\_arraytools.py:45: FutureWarning: Using a non-tuple sequence for multidimensional indexing is deprecated; use `arr[tuple(seq)]` instead of `arr[seq]`. In the future this will be interpreted as an array index, `arr[np.array(seq)]`, which will result either in an error or a different result.\n",
      "  b = a[a_slice]\n",
      "C:\\Users\\nile\\Anaconda3\\envs\\eeg\\lib\\site-packages\\scipy\\signal\\signaltools.py:3463: FutureWarning: Using a non-tuple sequence for multidimensional indexing is deprecated; use `arr[tuple(seq)]` instead of `arr[seq]`. In the future this will be interpreted as an array index, `arr[np.array(seq)]`, which will result either in an error or a different result.\n",
      "  return y[sl]\n"
     ]
    },
    {
     "name": "stdout",
     "output_type": "stream",
     "text": [
      "Selecting model: Models/af9af3/experimental/Session2\\af9af3_MI_classifier_2019-03-22-12-01-17.sav\n",
      "Selecting model: Models/af9af3/experimental/Session2\\af9af3_MI_classifier_2019-03-22-12-01-33.sav\n",
      "Selecting model: Models/af9af3/experimental/Session2\\af9af3_MI_classifier_TL_2019-03-22-12-01-34.sav\n",
      "Selecting BCI EEG file: SaveData/af9af3/Session3\\20190311144804_af9af3_BCI.easy\n",
      "Selecting BCI behavioral file: SaveData/af9af3/Session3\\BCI_af9af3_R1.csv\n",
      "Skipping N/A\n"
     ]
    },
    {
     "name": "stderr",
     "output_type": "stream",
     "text": [
      "C:\\Users\\nile\\Anaconda3\\envs\\eeg\\lib\\site-packages\\scipy\\signal\\_arraytools.py:45: FutureWarning: Using a non-tuple sequence for multidimensional indexing is deprecated; use `arr[tuple(seq)]` instead of `arr[seq]`. In the future this will be interpreted as an array index, `arr[np.array(seq)]`, which will result either in an error or a different result.\n",
      "  b = a[a_slice]\n",
      "C:\\Users\\nile\\Anaconda3\\envs\\eeg\\lib\\site-packages\\scipy\\signal\\signaltools.py:3463: FutureWarning: Using a non-tuple sequence for multidimensional indexing is deprecated; use `arr[tuple(seq)]` instead of `arr[seq]`. In the future this will be interpreted as an array index, `arr[np.array(seq)]`, which will result either in an error or a different result.\n",
      "  return y[sl]\n"
     ]
    },
    {
     "name": "stdout",
     "output_type": "stream",
     "text": [
      "Selecting model: Models/af9af3/experimental/Session3\\af9af3_MI_classifier_2019-03-22-12-03-31.sav\n",
      "Selecting model: Models/af9af3/experimental/Session3\\af9af3_MI_classifier_2019-03-22-12-03-31.sav\n",
      "Selecting model: Models/af9af3/experimental/Session3\\af9af3_MI_classifier_2019-03-22-12-03-31.sav\n",
      "Selecting BCI EEG file: SaveData/af9af3/Session3\\20190311145247_af9af3_BCI.easy\n",
      "Selecting BCI behavioral file: SaveData/af9af3/Session3\\BCI_af9af3_R2.csv\n",
      "Skipping N/A\n"
     ]
    },
    {
     "name": "stderr",
     "output_type": "stream",
     "text": [
      "C:\\Users\\nile\\Anaconda3\\envs\\eeg\\lib\\site-packages\\scipy\\signal\\_arraytools.py:45: FutureWarning: Using a non-tuple sequence for multidimensional indexing is deprecated; use `arr[tuple(seq)]` instead of `arr[seq]`. In the future this will be interpreted as an array index, `arr[np.array(seq)]`, which will result either in an error or a different result.\n",
      "  b = a[a_slice]\n",
      "C:\\Users\\nile\\Anaconda3\\envs\\eeg\\lib\\site-packages\\scipy\\signal\\signaltools.py:3463: FutureWarning: Using a non-tuple sequence for multidimensional indexing is deprecated; use `arr[tuple(seq)]` instead of `arr[seq]`. In the future this will be interpreted as an array index, `arr[np.array(seq)]`, which will result either in an error or a different result.\n",
      "  return y[sl]\n"
     ]
    },
    {
     "name": "stdout",
     "output_type": "stream",
     "text": [
      "Selecting model: Models/af9af3/experimental/Session3\\af9af3_MI_classifier_2019-03-22-12-03-31.sav\n",
      "Selecting model: Models/af9af3/experimental/Session3\\af9af3_MI_classifier_2019-03-22-12-03-35.sav\n",
      "Selecting model: Models/af9af3/experimental/Session3\\af9af3_MI_classifier_TL_2019-03-22-12-03-35.sav\n",
      "Selecting BCI EEG file: SaveData/af9af3/Session3\\20190311145737_af9af3_BCI.easy\n",
      "Selecting BCI behavioral file: SaveData/af9af3/Session3\\BCI_af9af3_R3.csv\n",
      "Skipping N/A\n"
     ]
    },
    {
     "name": "stderr",
     "output_type": "stream",
     "text": [
      "C:\\Users\\nile\\Anaconda3\\envs\\eeg\\lib\\site-packages\\scipy\\signal\\_arraytools.py:45: FutureWarning: Using a non-tuple sequence for multidimensional indexing is deprecated; use `arr[tuple(seq)]` instead of `arr[seq]`. In the future this will be interpreted as an array index, `arr[np.array(seq)]`, which will result either in an error or a different result.\n",
      "  b = a[a_slice]\n",
      "C:\\Users\\nile\\Anaconda3\\envs\\eeg\\lib\\site-packages\\scipy\\signal\\signaltools.py:3463: FutureWarning: Using a non-tuple sequence for multidimensional indexing is deprecated; use `arr[tuple(seq)]` instead of `arr[seq]`. In the future this will be interpreted as an array index, `arr[np.array(seq)]`, which will result either in an error or a different result.\n",
      "  return y[sl]\n"
     ]
    },
    {
     "name": "stdout",
     "output_type": "stream",
     "text": [
      "Selecting model: Models/af9af3/experimental/Session3\\af9af3_MI_classifier_2019-03-22-12-03-31.sav\n",
      "Selecting model: Models/af9af3/experimental/Session3\\af9af3_MI_classifier_2019-03-22-12-03-38.sav\n",
      "Selecting model: Models/af9af3/experimental/Session3\\af9af3_MI_classifier_TL_2019-03-22-12-03-39.sav\n",
      "Selecting BCI EEG file: SaveData/af9af3/Session3\\20190311150228_af9af3_BCI.easy\n",
      "Selecting BCI behavioral file: SaveData/af9af3/Session3\\BCI_af9af3_R4.csv\n",
      "Skipping N/A\n"
     ]
    },
    {
     "name": "stderr",
     "output_type": "stream",
     "text": [
      "C:\\Users\\nile\\Anaconda3\\envs\\eeg\\lib\\site-packages\\scipy\\signal\\_arraytools.py:45: FutureWarning: Using a non-tuple sequence for multidimensional indexing is deprecated; use `arr[tuple(seq)]` instead of `arr[seq]`. In the future this will be interpreted as an array index, `arr[np.array(seq)]`, which will result either in an error or a different result.\n",
      "  b = a[a_slice]\n",
      "C:\\Users\\nile\\Anaconda3\\envs\\eeg\\lib\\site-packages\\scipy\\signal\\signaltools.py:3463: FutureWarning: Using a non-tuple sequence for multidimensional indexing is deprecated; use `arr[tuple(seq)]` instead of `arr[seq]`. In the future this will be interpreted as an array index, `arr[np.array(seq)]`, which will result either in an error or a different result.\n",
      "  return y[sl]\n"
     ]
    },
    {
     "name": "stdout",
     "output_type": "stream",
     "text": [
      "Selecting model: Models/af9af3/experimental/Session3\\af9af3_MI_classifier_2019-03-22-12-03-31.sav\n",
      "Selecting model: Models/af9af3/experimental/Session3\\af9af3_MI_classifier_2019-03-22-12-03-42.sav\n",
      "Selecting model: Models/af9af3/experimental/Session3\\af9af3_MI_classifier_TL_2019-03-22-12-03-43.sav\n",
      "Selecting BCI EEG file: SaveData/af9af3/Session3\\20190311150719_af9af3_BCI.easy\n",
      "Selecting BCI behavioral file: SaveData/af9af3/Session3\\BCI_af9af3_R5.csv\n",
      "Skipping N/A\n"
     ]
    },
    {
     "name": "stderr",
     "output_type": "stream",
     "text": [
      "C:\\Users\\nile\\Anaconda3\\envs\\eeg\\lib\\site-packages\\scipy\\signal\\_arraytools.py:45: FutureWarning: Using a non-tuple sequence for multidimensional indexing is deprecated; use `arr[tuple(seq)]` instead of `arr[seq]`. In the future this will be interpreted as an array index, `arr[np.array(seq)]`, which will result either in an error or a different result.\n",
      "  b = a[a_slice]\n",
      "C:\\Users\\nile\\Anaconda3\\envs\\eeg\\lib\\site-packages\\scipy\\signal\\signaltools.py:3463: FutureWarning: Using a non-tuple sequence for multidimensional indexing is deprecated; use `arr[tuple(seq)]` instead of `arr[seq]`. In the future this will be interpreted as an array index, `arr[np.array(seq)]`, which will result either in an error or a different result.\n",
      "  return y[sl]\n"
     ]
    },
    {
     "name": "stdout",
     "output_type": "stream",
     "text": [
      "Selecting model: Models/af9af3/experimental/Session3\\af9af3_MI_classifier_2019-03-22-12-03-31.sav\n",
      "Selecting model: Models/af9af3/experimental/Session3\\af9af3_MI_classifier_2019-03-22-12-03-45.sav\n",
      "Selecting model: Models/af9af3/experimental/Session3\\af9af3_MI_classifier_TL_2019-03-22-12-03-47.sav\n",
      "Selecting BCI EEG file: SaveData/c795d2/Session1\\20190213112048_c795d2_BCI.easy\n",
      "Selecting BCI behavioral file: SaveData/c795d2/Session1\\BCI_c795d2_R1.csv\n",
      "Skipping N/A\n"
     ]
    },
    {
     "name": "stderr",
     "output_type": "stream",
     "text": [
      "C:\\Users\\nile\\Anaconda3\\envs\\eeg\\lib\\site-packages\\scipy\\signal\\_arraytools.py:45: FutureWarning: Using a non-tuple sequence for multidimensional indexing is deprecated; use `arr[tuple(seq)]` instead of `arr[seq]`. In the future this will be interpreted as an array index, `arr[np.array(seq)]`, which will result either in an error or a different result.\n",
      "  b = a[a_slice]\n",
      "C:\\Users\\nile\\Anaconda3\\envs\\eeg\\lib\\site-packages\\scipy\\signal\\signaltools.py:3463: FutureWarning: Using a non-tuple sequence for multidimensional indexing is deprecated; use `arr[tuple(seq)]` instead of `arr[seq]`. In the future this will be interpreted as an array index, `arr[np.array(seq)]`, which will result either in an error or a different result.\n",
      "  return y[sl]\n"
     ]
    },
    {
     "name": "stdout",
     "output_type": "stream",
     "text": [
      "Selecting model: Models/c795d2/experimental/Session1\\c795d2_MI_classifier_2019-03-15-11-06-07.sav\n",
      "Selecting model: Models/c795d2/experimental/Session1\\c795d2_MI_classifier_2019-03-15-11-06-07.sav\n",
      "Selecting model: Models/c795d2/experimental/Session1\\c795d2_MI_classifier_2019-03-15-11-06-07.sav\n",
      "Selecting BCI EEG file: SaveData/c795d2/Session1\\20190213112623_c795d2_BCI.easy\n",
      "Selecting BCI behavioral file: SaveData/c795d2/Session1\\BCI_c795d2_R2.csv\n",
      "Skipping N/A\n"
     ]
    },
    {
     "name": "stderr",
     "output_type": "stream",
     "text": [
      "C:\\Users\\nile\\Anaconda3\\envs\\eeg\\lib\\site-packages\\scipy\\signal\\_arraytools.py:45: FutureWarning: Using a non-tuple sequence for multidimensional indexing is deprecated; use `arr[tuple(seq)]` instead of `arr[seq]`. In the future this will be interpreted as an array index, `arr[np.array(seq)]`, which will result either in an error or a different result.\n",
      "  b = a[a_slice]\n",
      "C:\\Users\\nile\\Anaconda3\\envs\\eeg\\lib\\site-packages\\scipy\\signal\\signaltools.py:3463: FutureWarning: Using a non-tuple sequence for multidimensional indexing is deprecated; use `arr[tuple(seq)]` instead of `arr[seq]`. In the future this will be interpreted as an array index, `arr[np.array(seq)]`, which will result either in an error or a different result.\n",
      "  return y[sl]\n"
     ]
    },
    {
     "name": "stdout",
     "output_type": "stream",
     "text": [
      "Selecting model: Models/c795d2/experimental/Session1\\c795d2_MI_classifier_2019-03-15-11-06-07.sav\n",
      "Selecting model: Models/c795d2/experimental/Session1\\c795d2_MI_classifier_2019-03-15-11-06-11.sav\n",
      "Selecting model: Models/c795d2/experimental/Session1\\c795d2_MI_classifier_TL_2019-03-15-11-06-12.sav\n",
      "Selecting BCI EEG file: SaveData/c795d2/Session1\\20190213113145_c795d2_BCI.easy\n",
      "Selecting BCI behavioral file: SaveData/c795d2/Session1\\BCI_c795d2_R3.csv\n",
      "Skipping N/A\n"
     ]
    },
    {
     "name": "stderr",
     "output_type": "stream",
     "text": [
      "C:\\Users\\nile\\Anaconda3\\envs\\eeg\\lib\\site-packages\\scipy\\signal\\_arraytools.py:45: FutureWarning: Using a non-tuple sequence for multidimensional indexing is deprecated; use `arr[tuple(seq)]` instead of `arr[seq]`. In the future this will be interpreted as an array index, `arr[np.array(seq)]`, which will result either in an error or a different result.\n",
      "  b = a[a_slice]\n",
      "C:\\Users\\nile\\Anaconda3\\envs\\eeg\\lib\\site-packages\\scipy\\signal\\signaltools.py:3463: FutureWarning: Using a non-tuple sequence for multidimensional indexing is deprecated; use `arr[tuple(seq)]` instead of `arr[seq]`. In the future this will be interpreted as an array index, `arr[np.array(seq)]`, which will result either in an error or a different result.\n",
      "  return y[sl]\n"
     ]
    },
    {
     "name": "stdout",
     "output_type": "stream",
     "text": [
      "Selecting model: Models/c795d2/experimental/Session1\\c795d2_MI_classifier_2019-03-15-11-06-07.sav\n",
      "Selecting model: Models/c795d2/experimental/Session1\\c795d2_MI_classifier_2019-03-15-11-06-15.sav\n",
      "Selecting model: Models/c795d2/experimental/Session1\\c795d2_MI_classifier_TL_2019-03-15-11-06-16.sav\n",
      "Selecting BCI EEG file: SaveData/c795d2/Session1\\20190213113704_c795d2_BCI.easy\n",
      "Selecting BCI behavioral file: SaveData/c795d2/Session1\\BCI_c795d2_R4.csv\n",
      "Skipping N/A\n"
     ]
    },
    {
     "name": "stderr",
     "output_type": "stream",
     "text": [
      "C:\\Users\\nile\\Anaconda3\\envs\\eeg\\lib\\site-packages\\scipy\\signal\\_arraytools.py:45: FutureWarning: Using a non-tuple sequence for multidimensional indexing is deprecated; use `arr[tuple(seq)]` instead of `arr[seq]`. In the future this will be interpreted as an array index, `arr[np.array(seq)]`, which will result either in an error or a different result.\n",
      "  b = a[a_slice]\n",
      "C:\\Users\\nile\\Anaconda3\\envs\\eeg\\lib\\site-packages\\scipy\\signal\\signaltools.py:3463: FutureWarning: Using a non-tuple sequence for multidimensional indexing is deprecated; use `arr[tuple(seq)]` instead of `arr[seq]`. In the future this will be interpreted as an array index, `arr[np.array(seq)]`, which will result either in an error or a different result.\n",
      "  return y[sl]\n"
     ]
    },
    {
     "name": "stdout",
     "output_type": "stream",
     "text": [
      "Selecting model: Models/c795d2/experimental/Session1\\c795d2_MI_classifier_2019-03-15-11-06-07.sav\n",
      "Selecting model: Models/c795d2/experimental/Session1\\c795d2_MI_classifier_2019-03-15-11-06-19.sav\n",
      "Selecting model: Models/c795d2/experimental/Session1\\c795d2_MI_classifier_TL_2019-03-15-11-06-20.sav\n",
      "Selecting BCI EEG file: SaveData/c795d2/Session1\\20190213114201_c795d2_BCI.easy\n",
      "Selecting BCI behavioral file: SaveData/c795d2/Session1\\BCI_c795d2_R5.csv\n",
      "Skipping N/A\n"
     ]
    },
    {
     "name": "stderr",
     "output_type": "stream",
     "text": [
      "C:\\Users\\nile\\Anaconda3\\envs\\eeg\\lib\\site-packages\\scipy\\signal\\_arraytools.py:45: FutureWarning: Using a non-tuple sequence for multidimensional indexing is deprecated; use `arr[tuple(seq)]` instead of `arr[seq]`. In the future this will be interpreted as an array index, `arr[np.array(seq)]`, which will result either in an error or a different result.\n",
      "  b = a[a_slice]\n",
      "C:\\Users\\nile\\Anaconda3\\envs\\eeg\\lib\\site-packages\\scipy\\signal\\signaltools.py:3463: FutureWarning: Using a non-tuple sequence for multidimensional indexing is deprecated; use `arr[tuple(seq)]` instead of `arr[seq]`. In the future this will be interpreted as an array index, `arr[np.array(seq)]`, which will result either in an error or a different result.\n",
      "  return y[sl]\n"
     ]
    },
    {
     "name": "stdout",
     "output_type": "stream",
     "text": [
      "Selecting model: Models/c795d2/experimental/Session1\\c795d2_MI_classifier_2019-03-15-11-06-07.sav\n",
      "Selecting model: Models/c795d2/experimental/Session1\\c795d2_MI_classifier_2019-03-15-11-06-23.sav\n",
      "Selecting model: Models/c795d2/experimental/Session1\\c795d2_MI_classifier_TL_2019-03-15-11-06-24.sav\n",
      "Selecting BCI EEG file: SaveData/c795d2/Session2\\20190214131712_c795d2_BCI.easy\n",
      "Selecting BCI behavioral file: SaveData/c795d2/Session2\\BCI_c795d2_R1.csv\n",
      "Skipping N/A\n"
     ]
    },
    {
     "name": "stderr",
     "output_type": "stream",
     "text": [
      "C:\\Users\\nile\\Anaconda3\\envs\\eeg\\lib\\site-packages\\scipy\\signal\\_arraytools.py:45: FutureWarning: Using a non-tuple sequence for multidimensional indexing is deprecated; use `arr[tuple(seq)]` instead of `arr[seq]`. In the future this will be interpreted as an array index, `arr[np.array(seq)]`, which will result either in an error or a different result.\n",
      "  b = a[a_slice]\n",
      "C:\\Users\\nile\\Anaconda3\\envs\\eeg\\lib\\site-packages\\scipy\\signal\\signaltools.py:3463: FutureWarning: Using a non-tuple sequence for multidimensional indexing is deprecated; use `arr[tuple(seq)]` instead of `arr[seq]`. In the future this will be interpreted as an array index, `arr[np.array(seq)]`, which will result either in an error or a different result.\n",
      "  return y[sl]\n"
     ]
    },
    {
     "name": "stdout",
     "output_type": "stream",
     "text": [
      "Selecting model: Models/c795d2/experimental/Session2\\c795d2_MI_classifier_2019-03-15-11-08-08.sav\n",
      "Selecting model: Models/c795d2/experimental/Session2\\c795d2_MI_classifier_2019-03-15-11-08-08.sav\n",
      "Selecting model: Models/c795d2/experimental/Session2\\c795d2_MI_classifier_2019-03-15-11-08-08.sav\n",
      "Selecting BCI EEG file: SaveData/c795d2/Session2\\20190214132220_c795d2_BCI.easy\n",
      "Selecting BCI behavioral file: SaveData/c795d2/Session2\\BCI_c795d2_R2.csv\n",
      "Skipping N/A\n"
     ]
    },
    {
     "name": "stderr",
     "output_type": "stream",
     "text": [
      "C:\\Users\\nile\\Anaconda3\\envs\\eeg\\lib\\site-packages\\scipy\\signal\\_arraytools.py:45: FutureWarning: Using a non-tuple sequence for multidimensional indexing is deprecated; use `arr[tuple(seq)]` instead of `arr[seq]`. In the future this will be interpreted as an array index, `arr[np.array(seq)]`, which will result either in an error or a different result.\n",
      "  b = a[a_slice]\n",
      "C:\\Users\\nile\\Anaconda3\\envs\\eeg\\lib\\site-packages\\scipy\\signal\\signaltools.py:3463: FutureWarning: Using a non-tuple sequence for multidimensional indexing is deprecated; use `arr[tuple(seq)]` instead of `arr[seq]`. In the future this will be interpreted as an array index, `arr[np.array(seq)]`, which will result either in an error or a different result.\n",
      "  return y[sl]\n"
     ]
    },
    {
     "name": "stdout",
     "output_type": "stream",
     "text": [
      "Selecting model: Models/c795d2/experimental/Session2\\c795d2_MI_classifier_2019-03-15-11-08-08.sav\n",
      "Selecting model: Models/c795d2/experimental/Session2\\c795d2_MI_classifier_2019-03-15-11-08-20.sav\n",
      "Selecting model: Models/c795d2/experimental/Session2\\c795d2_MI_classifier_TL_2019-03-15-11-08-21.sav\n",
      "Selecting BCI EEG file: SaveData/c795d2/Session2\\20190214132732_c795d2_BCI.easy\n",
      "Selecting BCI behavioral file: SaveData/c795d2/Session2\\BCI_c795d2_R3.csv\n",
      "Skipping N/A\n"
     ]
    },
    {
     "name": "stderr",
     "output_type": "stream",
     "text": [
      "C:\\Users\\nile\\Anaconda3\\envs\\eeg\\lib\\site-packages\\scipy\\signal\\_arraytools.py:45: FutureWarning: Using a non-tuple sequence for multidimensional indexing is deprecated; use `arr[tuple(seq)]` instead of `arr[seq]`. In the future this will be interpreted as an array index, `arr[np.array(seq)]`, which will result either in an error or a different result.\n",
      "  b = a[a_slice]\n",
      "C:\\Users\\nile\\Anaconda3\\envs\\eeg\\lib\\site-packages\\scipy\\signal\\signaltools.py:3463: FutureWarning: Using a non-tuple sequence for multidimensional indexing is deprecated; use `arr[tuple(seq)]` instead of `arr[seq]`. In the future this will be interpreted as an array index, `arr[np.array(seq)]`, which will result either in an error or a different result.\n",
      "  return y[sl]\n"
     ]
    },
    {
     "name": "stdout",
     "output_type": "stream",
     "text": [
      "Selecting model: Models/c795d2/experimental/Session2\\c795d2_MI_classifier_2019-03-15-11-08-08.sav\n",
      "Selecting model: Models/c795d2/experimental/Session2\\c795d2_MI_classifier_2019-03-15-11-08-28.sav\n",
      "Selecting model: Models/c795d2/experimental/Session2\\c795d2_MI_classifier_TL_2019-03-15-11-08-32.sav\n",
      "Selecting BCI EEG file: SaveData/c795d2/Session2\\20190214133251_c795d2_BCI.easy\n",
      "Selecting BCI behavioral file: SaveData/c795d2/Session2\\BCI_c795d2_R4.csv\n",
      "Skipping N/A\n"
     ]
    },
    {
     "name": "stderr",
     "output_type": "stream",
     "text": [
      "C:\\Users\\nile\\Anaconda3\\envs\\eeg\\lib\\site-packages\\scipy\\signal\\_arraytools.py:45: FutureWarning: Using a non-tuple sequence for multidimensional indexing is deprecated; use `arr[tuple(seq)]` instead of `arr[seq]`. In the future this will be interpreted as an array index, `arr[np.array(seq)]`, which will result either in an error or a different result.\n",
      "  b = a[a_slice]\n",
      "C:\\Users\\nile\\Anaconda3\\envs\\eeg\\lib\\site-packages\\scipy\\signal\\signaltools.py:3463: FutureWarning: Using a non-tuple sequence for multidimensional indexing is deprecated; use `arr[tuple(seq)]` instead of `arr[seq]`. In the future this will be interpreted as an array index, `arr[np.array(seq)]`, which will result either in an error or a different result.\n",
      "  return y[sl]\n"
     ]
    },
    {
     "name": "stdout",
     "output_type": "stream",
     "text": [
      "Selecting model: Models/c795d2/experimental/Session2\\c795d2_MI_classifier_2019-03-15-11-08-08.sav\n",
      "Selecting model: Models/c795d2/experimental/Session2\\c795d2_MI_classifier_2019-03-15-11-08-39.sav\n",
      "Selecting model: Models/c795d2/experimental/Session2\\c795d2_MI_classifier_TL_2019-03-15-11-08-42.sav\n",
      "Selecting BCI EEG file: SaveData/c795d2/Session2\\20190214133808_c795d2_BCI.easy\n",
      "Selecting BCI behavioral file: SaveData/c795d2/Session2\\BCI_c795d2_R5.csv\n",
      "Skipping N/A\n"
     ]
    },
    {
     "name": "stderr",
     "output_type": "stream",
     "text": [
      "C:\\Users\\nile\\Anaconda3\\envs\\eeg\\lib\\site-packages\\scipy\\signal\\_arraytools.py:45: FutureWarning: Using a non-tuple sequence for multidimensional indexing is deprecated; use `arr[tuple(seq)]` instead of `arr[seq]`. In the future this will be interpreted as an array index, `arr[np.array(seq)]`, which will result either in an error or a different result.\n",
      "  b = a[a_slice]\n",
      "C:\\Users\\nile\\Anaconda3\\envs\\eeg\\lib\\site-packages\\scipy\\signal\\signaltools.py:3463: FutureWarning: Using a non-tuple sequence for multidimensional indexing is deprecated; use `arr[tuple(seq)]` instead of `arr[seq]`. In the future this will be interpreted as an array index, `arr[np.array(seq)]`, which will result either in an error or a different result.\n",
      "  return y[sl]\n"
     ]
    },
    {
     "name": "stdout",
     "output_type": "stream",
     "text": [
      "Selecting model: Models/c795d2/experimental/Session2\\c795d2_MI_classifier_2019-03-15-11-08-08.sav\n",
      "Selecting model: Models/c795d2/experimental/Session2\\c795d2_MI_classifier_2019-03-15-11-08-50.sav\n",
      "Selecting model: Models/c795d2/experimental/Session2\\c795d2_MI_classifier_TL_2019-03-15-11-08-54.sav\n",
      "Selecting BCI EEG file: SaveData/c795d2/Session3\\20190305161656_c795d2_BCI.easy\n",
      "Selecting BCI behavioral file: SaveData/c795d2/Session3\\BCI_c795d2_R1.csv\n",
      "Skipping N/A\n"
     ]
    },
    {
     "name": "stderr",
     "output_type": "stream",
     "text": [
      "C:\\Users\\nile\\Anaconda3\\envs\\eeg\\lib\\site-packages\\scipy\\signal\\_arraytools.py:45: FutureWarning: Using a non-tuple sequence for multidimensional indexing is deprecated; use `arr[tuple(seq)]` instead of `arr[seq]`. In the future this will be interpreted as an array index, `arr[np.array(seq)]`, which will result either in an error or a different result.\n",
      "  b = a[a_slice]\n",
      "C:\\Users\\nile\\Anaconda3\\envs\\eeg\\lib\\site-packages\\scipy\\signal\\signaltools.py:3463: FutureWarning: Using a non-tuple sequence for multidimensional indexing is deprecated; use `arr[tuple(seq)]` instead of `arr[seq]`. In the future this will be interpreted as an array index, `arr[np.array(seq)]`, which will result either in an error or a different result.\n",
      "  return y[sl]\n"
     ]
    },
    {
     "name": "stdout",
     "output_type": "stream",
     "text": [
      "Selecting model: Models/c795d2/experimental/Session3\\c795d2_MI_classifier_2019-03-15-11-12-33.sav\n",
      "Selecting model: Models/c795d2/experimental/Session3\\c795d2_MI_classifier_2019-03-15-11-12-33.sav\n",
      "Selecting model: Models/c795d2/experimental/Session3\\c795d2_MI_classifier_2019-03-15-11-12-33.sav\n",
      "Selecting BCI EEG file: SaveData/c795d2/Session3\\20190305162152_c795d2_BCI.easy\n",
      "Selecting BCI behavioral file: SaveData/c795d2/Session3\\BCI_c795d2_R2.csv\n",
      "Skipping N/A\n"
     ]
    },
    {
     "name": "stderr",
     "output_type": "stream",
     "text": [
      "C:\\Users\\nile\\Anaconda3\\envs\\eeg\\lib\\site-packages\\scipy\\signal\\_arraytools.py:45: FutureWarning: Using a non-tuple sequence for multidimensional indexing is deprecated; use `arr[tuple(seq)]` instead of `arr[seq]`. In the future this will be interpreted as an array index, `arr[np.array(seq)]`, which will result either in an error or a different result.\n",
      "  b = a[a_slice]\n",
      "C:\\Users\\nile\\Anaconda3\\envs\\eeg\\lib\\site-packages\\scipy\\signal\\signaltools.py:3463: FutureWarning: Using a non-tuple sequence for multidimensional indexing is deprecated; use `arr[tuple(seq)]` instead of `arr[seq]`. In the future this will be interpreted as an array index, `arr[np.array(seq)]`, which will result either in an error or a different result.\n",
      "  return y[sl]\n"
     ]
    },
    {
     "name": "stdout",
     "output_type": "stream",
     "text": [
      "Selecting model: Models/c795d2/experimental/Session3\\c795d2_MI_classifier_2019-03-15-11-12-33.sav\n",
      "Selecting model: Models/c795d2/experimental/Session3\\c795d2_MI_classifier_2019-03-15-11-12-44.sav\n",
      "Selecting model: Models/c795d2/experimental/Session3\\c795d2_MI_classifier_TL_2019-03-15-11-12-45.sav\n",
      "Selecting BCI EEG file: SaveData/c795d2/Session3\\20190305162722_c795d2_BCI.easy\n",
      "Selecting BCI behavioral file: SaveData/c795d2/Session3\\BCI_c795d2_R3.csv\n",
      "Skipping N/A\n"
     ]
    },
    {
     "name": "stderr",
     "output_type": "stream",
     "text": [
      "C:\\Users\\nile\\Anaconda3\\envs\\eeg\\lib\\site-packages\\scipy\\signal\\_arraytools.py:45: FutureWarning: Using a non-tuple sequence for multidimensional indexing is deprecated; use `arr[tuple(seq)]` instead of `arr[seq]`. In the future this will be interpreted as an array index, `arr[np.array(seq)]`, which will result either in an error or a different result.\n",
      "  b = a[a_slice]\n",
      "C:\\Users\\nile\\Anaconda3\\envs\\eeg\\lib\\site-packages\\scipy\\signal\\signaltools.py:3463: FutureWarning: Using a non-tuple sequence for multidimensional indexing is deprecated; use `arr[tuple(seq)]` instead of `arr[seq]`. In the future this will be interpreted as an array index, `arr[np.array(seq)]`, which will result either in an error or a different result.\n",
      "  return y[sl]\n"
     ]
    },
    {
     "name": "stdout",
     "output_type": "stream",
     "text": [
      "Selecting model: Models/c795d2/experimental/Session3\\c795d2_MI_classifier_2019-03-15-11-12-33.sav\n",
      "Selecting model: Models/c795d2/experimental/Session3\\c795d2_MI_classifier_2019-03-15-11-12-51.sav\n",
      "Selecting model: Models/c795d2/experimental/Session3\\c795d2_MI_classifier_TL_2019-03-15-11-12-54.sav\n",
      "Selecting BCI EEG file: SaveData/c795d2/Session3\\20190305163234_c795d2_BCI.easy\n",
      "Selecting BCI behavioral file: SaveData/c795d2/Session3\\BCI_c795d2_R4.csv\n",
      "Skipping N/A\n"
     ]
    },
    {
     "name": "stderr",
     "output_type": "stream",
     "text": [
      "C:\\Users\\nile\\Anaconda3\\envs\\eeg\\lib\\site-packages\\scipy\\signal\\_arraytools.py:45: FutureWarning: Using a non-tuple sequence for multidimensional indexing is deprecated; use `arr[tuple(seq)]` instead of `arr[seq]`. In the future this will be interpreted as an array index, `arr[np.array(seq)]`, which will result either in an error or a different result.\n",
      "  b = a[a_slice]\n",
      "C:\\Users\\nile\\Anaconda3\\envs\\eeg\\lib\\site-packages\\scipy\\signal\\signaltools.py:3463: FutureWarning: Using a non-tuple sequence for multidimensional indexing is deprecated; use `arr[tuple(seq)]` instead of `arr[seq]`. In the future this will be interpreted as an array index, `arr[np.array(seq)]`, which will result either in an error or a different result.\n",
      "  return y[sl]\n"
     ]
    },
    {
     "name": "stdout",
     "output_type": "stream",
     "text": [
      "Selecting model: Models/c795d2/experimental/Session3\\c795d2_MI_classifier_2019-03-15-11-12-33.sav\n",
      "Selecting model: Models/c795d2/experimental/Session3\\c795d2_MI_classifier_2019-03-15-11-13-01.sav\n",
      "Selecting model: Models/c795d2/experimental/Session3\\c795d2_MI_classifier_TL_2019-03-15-11-13-04.sav\n",
      "Selecting BCI EEG file: SaveData/c795d2/Session3\\20190305163828_c795d2_BCI.easy\n",
      "Selecting BCI behavioral file: SaveData/c795d2/Session3\\BCI_c795d2_R5.csv\n",
      "Skipping N/A\n"
     ]
    },
    {
     "name": "stderr",
     "output_type": "stream",
     "text": [
      "C:\\Users\\nile\\Anaconda3\\envs\\eeg\\lib\\site-packages\\scipy\\signal\\_arraytools.py:45: FutureWarning: Using a non-tuple sequence for multidimensional indexing is deprecated; use `arr[tuple(seq)]` instead of `arr[seq]`. In the future this will be interpreted as an array index, `arr[np.array(seq)]`, which will result either in an error or a different result.\n",
      "  b = a[a_slice]\n",
      "C:\\Users\\nile\\Anaconda3\\envs\\eeg\\lib\\site-packages\\scipy\\signal\\signaltools.py:3463: FutureWarning: Using a non-tuple sequence for multidimensional indexing is deprecated; use `arr[tuple(seq)]` instead of `arr[seq]`. In the future this will be interpreted as an array index, `arr[np.array(seq)]`, which will result either in an error or a different result.\n",
      "  return y[sl]\n"
     ]
    },
    {
     "name": "stdout",
     "output_type": "stream",
     "text": [
      "Selecting model: Models/c795d2/experimental/Session3\\c795d2_MI_classifier_2019-03-15-11-12-33.sav\n",
      "Selecting model: Models/c795d2/experimental/Session3\\c795d2_MI_classifier_2019-03-15-11-13-12.sav\n",
      "Selecting model: Models/c795d2/experimental/Session3\\c795d2_MI_classifier_TL_2019-03-15-11-13-16.sav\n",
      "Selecting BCI EEG file: SaveData/5ea9e5/Session1\\20190207150346_5ea9e5_BCI.easy\n",
      "Selecting BCI behavioral file: SaveData/5ea9e5/Session1\\BCI_5ea9e5_R1.csv\n",
      "Skipping N/A\n"
     ]
    },
    {
     "name": "stderr",
     "output_type": "stream",
     "text": [
      "C:\\Users\\nile\\Anaconda3\\envs\\eeg\\lib\\site-packages\\scipy\\signal\\_arraytools.py:45: FutureWarning: Using a non-tuple sequence for multidimensional indexing is deprecated; use `arr[tuple(seq)]` instead of `arr[seq]`. In the future this will be interpreted as an array index, `arr[np.array(seq)]`, which will result either in an error or a different result.\n",
      "  b = a[a_slice]\n",
      "C:\\Users\\nile\\Anaconda3\\envs\\eeg\\lib\\site-packages\\scipy\\signal\\signaltools.py:3463: FutureWarning: Using a non-tuple sequence for multidimensional indexing is deprecated; use `arr[tuple(seq)]` instead of `arr[seq]`. In the future this will be interpreted as an array index, `arr[np.array(seq)]`, which will result either in an error or a different result.\n",
      "  return y[sl]\n"
     ]
    },
    {
     "name": "stdout",
     "output_type": "stream",
     "text": [
      "Selecting model: Models/5ea9e5/experimental/Session1\\5ea9e5_MI_classifier_2019-03-07-09-21-07.sav\n",
      "Selecting model: Models/5ea9e5/experimental/Session1\\5ea9e5_MI_classifier_2019-03-07-09-21-07.sav\n",
      "Selecting model: Models/5ea9e5/experimental/Session1\\5ea9e5_MI_classifier_2019-03-07-09-21-07.sav\n",
      "Selecting BCI EEG file: SaveData/5ea9e5/Session1\\20190207150949_5ea9e5_BCI.easy\n",
      "Selecting BCI behavioral file: SaveData/5ea9e5/Session1\\BCI_5ea9e5_R2.csv\n",
      "Skipping N/A\n"
     ]
    },
    {
     "name": "stderr",
     "output_type": "stream",
     "text": [
      "C:\\Users\\nile\\Anaconda3\\envs\\eeg\\lib\\site-packages\\scipy\\signal\\_arraytools.py:45: FutureWarning: Using a non-tuple sequence for multidimensional indexing is deprecated; use `arr[tuple(seq)]` instead of `arr[seq]`. In the future this will be interpreted as an array index, `arr[np.array(seq)]`, which will result either in an error or a different result.\n",
      "  b = a[a_slice]\n",
      "C:\\Users\\nile\\Anaconda3\\envs\\eeg\\lib\\site-packages\\scipy\\signal\\signaltools.py:3463: FutureWarning: Using a non-tuple sequence for multidimensional indexing is deprecated; use `arr[tuple(seq)]` instead of `arr[seq]`. In the future this will be interpreted as an array index, `arr[np.array(seq)]`, which will result either in an error or a different result.\n",
      "  return y[sl]\n"
     ]
    },
    {
     "name": "stdout",
     "output_type": "stream",
     "text": [
      "Selecting model: Models/5ea9e5/experimental/Session1\\5ea9e5_MI_classifier_2019-03-07-09-21-07.sav\n",
      "Selecting model: Models/5ea9e5/experimental/Session1\\5ea9e5_MI_classifier_2019-03-07-09-21-11.sav\n",
      "Selecting model: Models/5ea9e5/experimental/Session1\\5ea9e5_MI_classifier_TL_2019-03-07-09-21-12.sav\n",
      "Selecting BCI EEG file: SaveData/5ea9e5/Session1\\20190207151430_5ea9e5_BCI.easy\n",
      "Selecting BCI behavioral file: SaveData/5ea9e5/Session1\\BCI_5ea9e5_R3.csv\n",
      "Skipping N/A\n"
     ]
    },
    {
     "name": "stderr",
     "output_type": "stream",
     "text": [
      "C:\\Users\\nile\\Anaconda3\\envs\\eeg\\lib\\site-packages\\scipy\\signal\\_arraytools.py:45: FutureWarning: Using a non-tuple sequence for multidimensional indexing is deprecated; use `arr[tuple(seq)]` instead of `arr[seq]`. In the future this will be interpreted as an array index, `arr[np.array(seq)]`, which will result either in an error or a different result.\n",
      "  b = a[a_slice]\n",
      "C:\\Users\\nile\\Anaconda3\\envs\\eeg\\lib\\site-packages\\scipy\\signal\\signaltools.py:3463: FutureWarning: Using a non-tuple sequence for multidimensional indexing is deprecated; use `arr[tuple(seq)]` instead of `arr[seq]`. In the future this will be interpreted as an array index, `arr[np.array(seq)]`, which will result either in an error or a different result.\n",
      "  return y[sl]\n"
     ]
    },
    {
     "name": "stdout",
     "output_type": "stream",
     "text": [
      "Selecting model: Models/5ea9e5/experimental/Session1\\5ea9e5_MI_classifier_2019-03-07-09-21-07.sav\n",
      "Selecting model: Models/5ea9e5/experimental/Session1\\5ea9e5_MI_classifier_2019-03-07-09-21-15.sav\n",
      "Selecting model: Models/5ea9e5/experimental/Session1\\5ea9e5_MI_classifier_TL_2019-03-07-09-21-16.sav\n",
      "Selecting BCI EEG file: SaveData/5ea9e5/Session1\\20190207151856_5ea9e5_BCI.easy\n",
      "Selecting BCI behavioral file: SaveData/5ea9e5/Session1\\BCI_5ea9e5_R4.csv\n",
      "Skipping N/A\n"
     ]
    },
    {
     "name": "stderr",
     "output_type": "stream",
     "text": [
      "C:\\Users\\nile\\Anaconda3\\envs\\eeg\\lib\\site-packages\\scipy\\signal\\_arraytools.py:45: FutureWarning: Using a non-tuple sequence for multidimensional indexing is deprecated; use `arr[tuple(seq)]` instead of `arr[seq]`. In the future this will be interpreted as an array index, `arr[np.array(seq)]`, which will result either in an error or a different result.\n",
      "  b = a[a_slice]\n",
      "C:\\Users\\nile\\Anaconda3\\envs\\eeg\\lib\\site-packages\\scipy\\signal\\signaltools.py:3463: FutureWarning: Using a non-tuple sequence for multidimensional indexing is deprecated; use `arr[tuple(seq)]` instead of `arr[seq]`. In the future this will be interpreted as an array index, `arr[np.array(seq)]`, which will result either in an error or a different result.\n",
      "  return y[sl]\n"
     ]
    },
    {
     "name": "stdout",
     "output_type": "stream",
     "text": [
      "Selecting model: Models/5ea9e5/experimental/Session1\\5ea9e5_MI_classifier_2019-03-07-09-21-07.sav\n",
      "Selecting model: Models/5ea9e5/experimental/Session1\\5ea9e5_MI_classifier_2019-03-07-09-21-19.sav\n",
      "Selecting model: Models/5ea9e5/experimental/Session1\\5ea9e5_MI_classifier_TL_2019-03-07-09-21-20.sav\n",
      "Selecting BCI EEG file: SaveData/5ea9e5/Session1\\20190207152318_5ea9e5_BCI.easy\n",
      "Selecting BCI behavioral file: SaveData/5ea9e5/Session1\\BCI_5ea9e5_R5.csv\n",
      "Skipping N/A\n"
     ]
    },
    {
     "name": "stderr",
     "output_type": "stream",
     "text": [
      "C:\\Users\\nile\\Anaconda3\\envs\\eeg\\lib\\site-packages\\scipy\\signal\\_arraytools.py:45: FutureWarning: Using a non-tuple sequence for multidimensional indexing is deprecated; use `arr[tuple(seq)]` instead of `arr[seq]`. In the future this will be interpreted as an array index, `arr[np.array(seq)]`, which will result either in an error or a different result.\n",
      "  b = a[a_slice]\n",
      "C:\\Users\\nile\\Anaconda3\\envs\\eeg\\lib\\site-packages\\scipy\\signal\\signaltools.py:3463: FutureWarning: Using a non-tuple sequence for multidimensional indexing is deprecated; use `arr[tuple(seq)]` instead of `arr[seq]`. In the future this will be interpreted as an array index, `arr[np.array(seq)]`, which will result either in an error or a different result.\n",
      "  return y[sl]\n"
     ]
    },
    {
     "name": "stdout",
     "output_type": "stream",
     "text": [
      "Selecting model: Models/5ea9e5/experimental/Session1\\5ea9e5_MI_classifier_2019-03-07-09-21-07.sav\n",
      "Selecting model: Models/5ea9e5/experimental/Session1\\5ea9e5_MI_classifier_2019-03-07-09-21-23.sav\n",
      "Selecting model: Models/5ea9e5/experimental/Session1\\5ea9e5_MI_classifier_TL_2019-03-07-09-21-25.sav\n",
      "Selecting BCI EEG file: SaveData/5ea9e5/Session2\\20190219131829_5ea9e5_BCI.easy\n",
      "Selecting BCI behavioral file: SaveData/5ea9e5/Session2\\BCI_5ea9e5_R1.csv\n",
      "Skipping N/A\n"
     ]
    },
    {
     "name": "stderr",
     "output_type": "stream",
     "text": [
      "C:\\Users\\nile\\Anaconda3\\envs\\eeg\\lib\\site-packages\\scipy\\signal\\_arraytools.py:45: FutureWarning: Using a non-tuple sequence for multidimensional indexing is deprecated; use `arr[tuple(seq)]` instead of `arr[seq]`. In the future this will be interpreted as an array index, `arr[np.array(seq)]`, which will result either in an error or a different result.\n",
      "  b = a[a_slice]\n",
      "C:\\Users\\nile\\Anaconda3\\envs\\eeg\\lib\\site-packages\\scipy\\signal\\signaltools.py:3463: FutureWarning: Using a non-tuple sequence for multidimensional indexing is deprecated; use `arr[tuple(seq)]` instead of `arr[seq]`. In the future this will be interpreted as an array index, `arr[np.array(seq)]`, which will result either in an error or a different result.\n",
      "  return y[sl]\n"
     ]
    },
    {
     "name": "stdout",
     "output_type": "stream",
     "text": [
      "Selecting model: Models/5ea9e5/experimental/Session2\\5ea9e5_MI_classifier_2019-03-07-09-23-04.sav\n",
      "Selecting model: Models/5ea9e5/experimental/Session2\\5ea9e5_MI_classifier_2019-03-07-09-23-04.sav\n",
      "Selecting model: Models/5ea9e5/experimental/Session2\\5ea9e5_MI_classifier_2019-03-07-09-23-04.sav\n",
      "Selecting BCI EEG file: SaveData/5ea9e5/Session2\\20190219132310_5ea9e5_BCI.easy\n",
      "Selecting BCI behavioral file: SaveData/5ea9e5/Session2\\BCI_5ea9e5_R2.csv\n",
      "Skipping N/A\n"
     ]
    },
    {
     "name": "stderr",
     "output_type": "stream",
     "text": [
      "C:\\Users\\nile\\Anaconda3\\envs\\eeg\\lib\\site-packages\\scipy\\signal\\_arraytools.py:45: FutureWarning: Using a non-tuple sequence for multidimensional indexing is deprecated; use `arr[tuple(seq)]` instead of `arr[seq]`. In the future this will be interpreted as an array index, `arr[np.array(seq)]`, which will result either in an error or a different result.\n",
      "  b = a[a_slice]\n",
      "C:\\Users\\nile\\Anaconda3\\envs\\eeg\\lib\\site-packages\\scipy\\signal\\signaltools.py:3463: FutureWarning: Using a non-tuple sequence for multidimensional indexing is deprecated; use `arr[tuple(seq)]` instead of `arr[seq]`. In the future this will be interpreted as an array index, `arr[np.array(seq)]`, which will result either in an error or a different result.\n",
      "  return y[sl]\n"
     ]
    },
    {
     "name": "stdout",
     "output_type": "stream",
     "text": [
      "Selecting model: Models/5ea9e5/experimental/Session2\\5ea9e5_MI_classifier_2019-03-07-09-23-04.sav\n",
      "Selecting model: Models/5ea9e5/experimental/Session2\\5ea9e5_MI_classifier_2019-03-07-09-23-08.sav\n",
      "Selecting model: Models/5ea9e5/experimental/Session2\\5ea9e5_MI_classifier_TL_2019-03-07-09-23-08.sav\n",
      "Selecting BCI EEG file: SaveData/5ea9e5/Session2\\20190219132741_5ea9e5_BCI.easy\n",
      "Selecting BCI behavioral file: SaveData/5ea9e5/Session2\\BCI_5ea9e5_R3.csv\n",
      "Skipping N/A\n"
     ]
    },
    {
     "name": "stderr",
     "output_type": "stream",
     "text": [
      "C:\\Users\\nile\\Anaconda3\\envs\\eeg\\lib\\site-packages\\scipy\\signal\\_arraytools.py:45: FutureWarning: Using a non-tuple sequence for multidimensional indexing is deprecated; use `arr[tuple(seq)]` instead of `arr[seq]`. In the future this will be interpreted as an array index, `arr[np.array(seq)]`, which will result either in an error or a different result.\n",
      "  b = a[a_slice]\n",
      "C:\\Users\\nile\\Anaconda3\\envs\\eeg\\lib\\site-packages\\scipy\\signal\\signaltools.py:3463: FutureWarning: Using a non-tuple sequence for multidimensional indexing is deprecated; use `arr[tuple(seq)]` instead of `arr[seq]`. In the future this will be interpreted as an array index, `arr[np.array(seq)]`, which will result either in an error or a different result.\n",
      "  return y[sl]\n"
     ]
    },
    {
     "name": "stdout",
     "output_type": "stream",
     "text": [
      "Selecting model: Models/5ea9e5/experimental/Session2\\5ea9e5_MI_classifier_2019-03-07-09-23-04.sav\n",
      "Selecting model: Models/5ea9e5/experimental/Session2\\5ea9e5_MI_classifier_2019-03-07-09-23-11.sav\n",
      "Selecting model: Models/5ea9e5/experimental/Session2\\5ea9e5_MI_classifier_TL_2019-03-07-09-23-12.sav\n",
      "Selecting BCI EEG file: SaveData/5ea9e5/Session2\\20190219133231_5ea9e5_BCI.easy\n",
      "Selecting BCI behavioral file: SaveData/5ea9e5/Session2\\BCI_5ea9e5_R4.csv\n",
      "Skipping N/A\n"
     ]
    },
    {
     "name": "stderr",
     "output_type": "stream",
     "text": [
      "C:\\Users\\nile\\Anaconda3\\envs\\eeg\\lib\\site-packages\\scipy\\signal\\_arraytools.py:45: FutureWarning: Using a non-tuple sequence for multidimensional indexing is deprecated; use `arr[tuple(seq)]` instead of `arr[seq]`. In the future this will be interpreted as an array index, `arr[np.array(seq)]`, which will result either in an error or a different result.\n",
      "  b = a[a_slice]\n",
      "C:\\Users\\nile\\Anaconda3\\envs\\eeg\\lib\\site-packages\\scipy\\signal\\signaltools.py:3463: FutureWarning: Using a non-tuple sequence for multidimensional indexing is deprecated; use `arr[tuple(seq)]` instead of `arr[seq]`. In the future this will be interpreted as an array index, `arr[np.array(seq)]`, which will result either in an error or a different result.\n",
      "  return y[sl]\n"
     ]
    },
    {
     "name": "stdout",
     "output_type": "stream",
     "text": [
      "Selecting model: Models/5ea9e5/experimental/Session2\\5ea9e5_MI_classifier_2019-03-07-09-23-04.sav\n",
      "Selecting model: Models/5ea9e5/experimental/Session2\\5ea9e5_MI_classifier_2019-03-07-09-23-15.sav\n",
      "Selecting model: Models/5ea9e5/experimental/Session2\\5ea9e5_MI_classifier_TL_2019-03-07-09-23-16.sav\n",
      "Selecting BCI EEG file: SaveData/5ea9e5/Session2\\20190219133714_5ea9e5_BCI.easy\n",
      "Selecting BCI behavioral file: SaveData/5ea9e5/Session2\\BCI_5ea9e5_R5.csv\n",
      "Skipping N/A\n"
     ]
    },
    {
     "name": "stderr",
     "output_type": "stream",
     "text": [
      "C:\\Users\\nile\\Anaconda3\\envs\\eeg\\lib\\site-packages\\scipy\\signal\\_arraytools.py:45: FutureWarning: Using a non-tuple sequence for multidimensional indexing is deprecated; use `arr[tuple(seq)]` instead of `arr[seq]`. In the future this will be interpreted as an array index, `arr[np.array(seq)]`, which will result either in an error or a different result.\n",
      "  b = a[a_slice]\n",
      "C:\\Users\\nile\\Anaconda3\\envs\\eeg\\lib\\site-packages\\scipy\\signal\\signaltools.py:3463: FutureWarning: Using a non-tuple sequence for multidimensional indexing is deprecated; use `arr[tuple(seq)]` instead of `arr[seq]`. In the future this will be interpreted as an array index, `arr[np.array(seq)]`, which will result either in an error or a different result.\n",
      "  return y[sl]\n"
     ]
    },
    {
     "name": "stdout",
     "output_type": "stream",
     "text": [
      "Selecting model: Models/5ea9e5/experimental/Session2\\5ea9e5_MI_classifier_2019-03-07-09-23-04.sav\n",
      "Selecting model: Models/5ea9e5/experimental/Session2\\5ea9e5_MI_classifier_2019-03-07-09-23-20.sav\n",
      "Selecting model: Models/5ea9e5/experimental/Session2\\5ea9e5_MI_classifier_TL_2019-03-07-09-23-21.sav\n",
      "Selecting BCI EEG file: SaveData/5ea9e5/Session3\\20190304162150_5ea9e5_BCI.easy\n",
      "Selecting BCI behavioral file: SaveData/5ea9e5/Session3\\BCI_5ea9e5_R1.csv\n",
      "Skipping N/A\n"
     ]
    },
    {
     "name": "stderr",
     "output_type": "stream",
     "text": [
      "C:\\Users\\nile\\Anaconda3\\envs\\eeg\\lib\\site-packages\\scipy\\signal\\_arraytools.py:45: FutureWarning: Using a non-tuple sequence for multidimensional indexing is deprecated; use `arr[tuple(seq)]` instead of `arr[seq]`. In the future this will be interpreted as an array index, `arr[np.array(seq)]`, which will result either in an error or a different result.\n",
      "  b = a[a_slice]\n",
      "C:\\Users\\nile\\Anaconda3\\envs\\eeg\\lib\\site-packages\\scipy\\signal\\signaltools.py:3463: FutureWarning: Using a non-tuple sequence for multidimensional indexing is deprecated; use `arr[tuple(seq)]` instead of `arr[seq]`. In the future this will be interpreted as an array index, `arr[np.array(seq)]`, which will result either in an error or a different result.\n",
      "  return y[sl]\n"
     ]
    },
    {
     "name": "stdout",
     "output_type": "stream",
     "text": [
      "Selecting model: Models/5ea9e5/experimental/Session3\\5ea9e5_MI_classifier_2019-03-07-09-25-00.sav\n",
      "Selecting model: Models/5ea9e5/experimental/Session3\\5ea9e5_MI_classifier_2019-03-07-09-25-00.sav\n",
      "Selecting model: Models/5ea9e5/experimental/Session3\\5ea9e5_MI_classifier_2019-03-07-09-25-00.sav\n",
      "Selecting BCI EEG file: SaveData/5ea9e5/Session3\\20190304162705_5ea9e5_BCI.easy\n",
      "Selecting BCI behavioral file: SaveData/5ea9e5/Session3\\BCI_5ea9e5_R2.csv\n",
      "Skipping N/A\n"
     ]
    },
    {
     "name": "stderr",
     "output_type": "stream",
     "text": [
      "C:\\Users\\nile\\Anaconda3\\envs\\eeg\\lib\\site-packages\\scipy\\signal\\_arraytools.py:45: FutureWarning: Using a non-tuple sequence for multidimensional indexing is deprecated; use `arr[tuple(seq)]` instead of `arr[seq]`. In the future this will be interpreted as an array index, `arr[np.array(seq)]`, which will result either in an error or a different result.\n",
      "  b = a[a_slice]\n",
      "C:\\Users\\nile\\Anaconda3\\envs\\eeg\\lib\\site-packages\\scipy\\signal\\signaltools.py:3463: FutureWarning: Using a non-tuple sequence for multidimensional indexing is deprecated; use `arr[tuple(seq)]` instead of `arr[seq]`. In the future this will be interpreted as an array index, `arr[np.array(seq)]`, which will result either in an error or a different result.\n",
      "  return y[sl]\n"
     ]
    },
    {
     "name": "stdout",
     "output_type": "stream",
     "text": [
      "Selecting model: Models/5ea9e5/experimental/Session3\\5ea9e5_MI_classifier_2019-03-07-09-25-00.sav\n",
      "Selecting model: Models/5ea9e5/experimental/Session3\\5ea9e5_MI_classifier_2019-03-07-09-25-04.sav\n",
      "Selecting model: Models/5ea9e5/experimental/Session3\\5ea9e5_MI_classifier_TL_2019-03-07-09-25-05.sav\n",
      "Selecting BCI EEG file: SaveData/5ea9e5/Session3\\20190304163202_5ea9e5_BCI.easy\n",
      "Selecting BCI behavioral file: SaveData/5ea9e5/Session3\\BCI_5ea9e5_R3.csv\n",
      "Skipping N/A\n"
     ]
    },
    {
     "name": "stderr",
     "output_type": "stream",
     "text": [
      "C:\\Users\\nile\\Anaconda3\\envs\\eeg\\lib\\site-packages\\scipy\\signal\\_arraytools.py:45: FutureWarning: Using a non-tuple sequence for multidimensional indexing is deprecated; use `arr[tuple(seq)]` instead of `arr[seq]`. In the future this will be interpreted as an array index, `arr[np.array(seq)]`, which will result either in an error or a different result.\n",
      "  b = a[a_slice]\n",
      "C:\\Users\\nile\\Anaconda3\\envs\\eeg\\lib\\site-packages\\scipy\\signal\\signaltools.py:3463: FutureWarning: Using a non-tuple sequence for multidimensional indexing is deprecated; use `arr[tuple(seq)]` instead of `arr[seq]`. In the future this will be interpreted as an array index, `arr[np.array(seq)]`, which will result either in an error or a different result.\n",
      "  return y[sl]\n"
     ]
    },
    {
     "name": "stdout",
     "output_type": "stream",
     "text": [
      "Selecting model: Models/5ea9e5/experimental/Session3\\5ea9e5_MI_classifier_2019-03-07-09-25-00.sav\n",
      "Selecting model: Models/5ea9e5/experimental/Session3\\5ea9e5_MI_classifier_2019-03-07-09-25-07.sav\n",
      "Selecting model: Models/5ea9e5/experimental/Session3\\5ea9e5_MI_classifier_TL_2019-03-07-09-25-09.sav\n",
      "Selecting BCI EEG file: SaveData/5ea9e5/Session3\\20190304163740_5ea9e5_BCI.easy\n",
      "Selecting BCI behavioral file: SaveData/5ea9e5/Session3\\BCI_5ea9e5_R4.csv\n",
      "Skipping N/A\n"
     ]
    },
    {
     "name": "stderr",
     "output_type": "stream",
     "text": [
      "C:\\Users\\nile\\Anaconda3\\envs\\eeg\\lib\\site-packages\\scipy\\signal\\_arraytools.py:45: FutureWarning: Using a non-tuple sequence for multidimensional indexing is deprecated; use `arr[tuple(seq)]` instead of `arr[seq]`. In the future this will be interpreted as an array index, `arr[np.array(seq)]`, which will result either in an error or a different result.\n",
      "  b = a[a_slice]\n",
      "C:\\Users\\nile\\Anaconda3\\envs\\eeg\\lib\\site-packages\\scipy\\signal\\signaltools.py:3463: FutureWarning: Using a non-tuple sequence for multidimensional indexing is deprecated; use `arr[tuple(seq)]` instead of `arr[seq]`. In the future this will be interpreted as an array index, `arr[np.array(seq)]`, which will result either in an error or a different result.\n",
      "  return y[sl]\n"
     ]
    },
    {
     "name": "stdout",
     "output_type": "stream",
     "text": [
      "Selecting model: Models/5ea9e5/experimental/Session3\\5ea9e5_MI_classifier_2019-03-07-09-25-00.sav\n",
      "Selecting model: Models/5ea9e5/experimental/Session3\\5ea9e5_MI_classifier_2019-03-07-09-25-11.sav\n",
      "Selecting model: Models/5ea9e5/experimental/Session3\\5ea9e5_MI_classifier_TL_2019-03-07-09-25-13.sav\n",
      "Selecting BCI EEG file: SaveData/5ea9e5/Session3\\20190304164233_5ea9e5_BCI.easy\n",
      "Selecting BCI behavioral file: SaveData/5ea9e5/Session3\\BCI_5ea9e5_R5.csv\n",
      "Skipping N/A\n"
     ]
    },
    {
     "name": "stderr",
     "output_type": "stream",
     "text": [
      "C:\\Users\\nile\\Anaconda3\\envs\\eeg\\lib\\site-packages\\scipy\\signal\\_arraytools.py:45: FutureWarning: Using a non-tuple sequence for multidimensional indexing is deprecated; use `arr[tuple(seq)]` instead of `arr[seq]`. In the future this will be interpreted as an array index, `arr[np.array(seq)]`, which will result either in an error or a different result.\n",
      "  b = a[a_slice]\n",
      "C:\\Users\\nile\\Anaconda3\\envs\\eeg\\lib\\site-packages\\scipy\\signal\\signaltools.py:3463: FutureWarning: Using a non-tuple sequence for multidimensional indexing is deprecated; use `arr[tuple(seq)]` instead of `arr[seq]`. In the future this will be interpreted as an array index, `arr[np.array(seq)]`, which will result either in an error or a different result.\n",
      "  return y[sl]\n"
     ]
    },
    {
     "name": "stdout",
     "output_type": "stream",
     "text": [
      "Selecting model: Models/5ea9e5/experimental/Session3\\5ea9e5_MI_classifier_2019-03-07-09-25-00.sav\n",
      "Selecting model: Models/5ea9e5/experimental/Session3\\5ea9e5_MI_classifier_2019-03-07-09-25-16.sav\n",
      "Selecting model: Models/5ea9e5/experimental/Session3\\5ea9e5_MI_classifier_TL_2019-03-07-09-25-17.sav\n",
      "Selecting BCI EEG file: SaveData/e2cbc4/Session1\\20190301133119_e2cbc4_BCI.easy\n",
      "Selecting BCI behavioral file: SaveData/e2cbc4/Session1\\BCI_e2cbc4_R1.csv\n",
      "Skipping N/A\n"
     ]
    },
    {
     "name": "stderr",
     "output_type": "stream",
     "text": [
      "C:\\Users\\nile\\Anaconda3\\envs\\eeg\\lib\\site-packages\\scipy\\signal\\_arraytools.py:45: FutureWarning: Using a non-tuple sequence for multidimensional indexing is deprecated; use `arr[tuple(seq)]` instead of `arr[seq]`. In the future this will be interpreted as an array index, `arr[np.array(seq)]`, which will result either in an error or a different result.\n",
      "  b = a[a_slice]\n",
      "C:\\Users\\nile\\Anaconda3\\envs\\eeg\\lib\\site-packages\\scipy\\signal\\signaltools.py:3463: FutureWarning: Using a non-tuple sequence for multidimensional indexing is deprecated; use `arr[tuple(seq)]` instead of `arr[seq]`. In the future this will be interpreted as an array index, `arr[np.array(seq)]`, which will result either in an error or a different result.\n",
      "  return y[sl]\n"
     ]
    },
    {
     "name": "stdout",
     "output_type": "stream",
     "text": [
      "Selecting model: Models/e2cbc4/experimental/Session1\\e2cbc4_MI_classifier_2019-03-22-12-14-57.sav\n",
      "Selecting model: Models/e2cbc4/experimental/Session1\\e2cbc4_MI_classifier_2019-03-22-12-14-57.sav\n",
      "Selecting model: Models/e2cbc4/experimental/Session1\\e2cbc4_MI_classifier_2019-03-22-12-14-57.sav\n",
      "Selecting BCI EEG file: SaveData/e2cbc4/Session1\\20190301133623_e2cbc4_BCI.easy\n",
      "Selecting BCI behavioral file: SaveData/e2cbc4/Session1\\BCI_e2cbc4_R2.csv\n",
      "Skipping N/A\n"
     ]
    },
    {
     "name": "stderr",
     "output_type": "stream",
     "text": [
      "C:\\Users\\nile\\Anaconda3\\envs\\eeg\\lib\\site-packages\\scipy\\signal\\_arraytools.py:45: FutureWarning: Using a non-tuple sequence for multidimensional indexing is deprecated; use `arr[tuple(seq)]` instead of `arr[seq]`. In the future this will be interpreted as an array index, `arr[np.array(seq)]`, which will result either in an error or a different result.\n",
      "  b = a[a_slice]\n",
      "C:\\Users\\nile\\Anaconda3\\envs\\eeg\\lib\\site-packages\\scipy\\signal\\signaltools.py:3463: FutureWarning: Using a non-tuple sequence for multidimensional indexing is deprecated; use `arr[tuple(seq)]` instead of `arr[seq]`. In the future this will be interpreted as an array index, `arr[np.array(seq)]`, which will result either in an error or a different result.\n",
      "  return y[sl]\n"
     ]
    },
    {
     "name": "stdout",
     "output_type": "stream",
     "text": [
      "Selecting model: Models/e2cbc4/experimental/Session1\\e2cbc4_MI_classifier_2019-03-22-12-14-57.sav\n",
      "Selecting model: Models/e2cbc4/experimental/Session1\\e2cbc4_MI_classifier_2019-03-22-12-15-00.sav\n",
      "Selecting model: Models/e2cbc4/experimental/Session1\\e2cbc4_MI_classifier_TL_2019-03-22-12-15-01.sav\n",
      "Selecting BCI EEG file: SaveData/e2cbc4/Session1\\20190301134108_e2cbc4_BCI.easy\n",
      "Selecting BCI behavioral file: SaveData/e2cbc4/Session1\\BCI_e2cbc4_R3.csv\n",
      "Skipping N/A\n"
     ]
    },
    {
     "name": "stderr",
     "output_type": "stream",
     "text": [
      "C:\\Users\\nile\\Anaconda3\\envs\\eeg\\lib\\site-packages\\scipy\\signal\\_arraytools.py:45: FutureWarning: Using a non-tuple sequence for multidimensional indexing is deprecated; use `arr[tuple(seq)]` instead of `arr[seq]`. In the future this will be interpreted as an array index, `arr[np.array(seq)]`, which will result either in an error or a different result.\n",
      "  b = a[a_slice]\n",
      "C:\\Users\\nile\\Anaconda3\\envs\\eeg\\lib\\site-packages\\scipy\\signal\\signaltools.py:3463: FutureWarning: Using a non-tuple sequence for multidimensional indexing is deprecated; use `arr[tuple(seq)]` instead of `arr[seq]`. In the future this will be interpreted as an array index, `arr[np.array(seq)]`, which will result either in an error or a different result.\n",
      "  return y[sl]\n"
     ]
    },
    {
     "name": "stdout",
     "output_type": "stream",
     "text": [
      "Selecting model: Models/e2cbc4/experimental/Session1\\e2cbc4_MI_classifier_2019-03-22-12-14-57.sav\n",
      "Selecting model: Models/e2cbc4/experimental/Session1\\e2cbc4_MI_classifier_2019-03-22-12-15-03.sav\n",
      "Selecting model: Models/e2cbc4/experimental/Session1\\e2cbc4_MI_classifier_TL_2019-03-22-12-15-04.sav\n",
      "Selecting BCI EEG file: SaveData/e2cbc4/Session1\\20190301134618_e2cbc4_BCI.easy\n",
      "Selecting BCI behavioral file: SaveData/e2cbc4/Session1\\BCI_e2cbc4_R4.csv\n",
      "Skipping N/A\n"
     ]
    },
    {
     "name": "stderr",
     "output_type": "stream",
     "text": [
      "C:\\Users\\nile\\Anaconda3\\envs\\eeg\\lib\\site-packages\\scipy\\signal\\_arraytools.py:45: FutureWarning: Using a non-tuple sequence for multidimensional indexing is deprecated; use `arr[tuple(seq)]` instead of `arr[seq]`. In the future this will be interpreted as an array index, `arr[np.array(seq)]`, which will result either in an error or a different result.\n",
      "  b = a[a_slice]\n",
      "C:\\Users\\nile\\Anaconda3\\envs\\eeg\\lib\\site-packages\\scipy\\signal\\signaltools.py:3463: FutureWarning: Using a non-tuple sequence for multidimensional indexing is deprecated; use `arr[tuple(seq)]` instead of `arr[seq]`. In the future this will be interpreted as an array index, `arr[np.array(seq)]`, which will result either in an error or a different result.\n",
      "  return y[sl]\n"
     ]
    },
    {
     "name": "stdout",
     "output_type": "stream",
     "text": [
      "Selecting model: Models/e2cbc4/experimental/Session1\\e2cbc4_MI_classifier_2019-03-22-12-14-57.sav\n",
      "Selecting model: Models/e2cbc4/experimental/Session1\\e2cbc4_MI_classifier_2019-03-22-12-15-07.sav\n",
      "Selecting model: Models/e2cbc4/experimental/Session1\\e2cbc4_MI_classifier_TL_2019-03-22-12-15-08.sav\n",
      "Selecting BCI EEG file: SaveData/e2cbc4/Session1\\20190301135102_e2cbc4_BCI.easy\n",
      "Selecting BCI behavioral file: SaveData/e2cbc4/Session1\\BCI_e2cbc4_R5.csv\n",
      "Skipping N/A\n"
     ]
    },
    {
     "name": "stderr",
     "output_type": "stream",
     "text": [
      "C:\\Users\\nile\\Anaconda3\\envs\\eeg\\lib\\site-packages\\scipy\\signal\\_arraytools.py:45: FutureWarning: Using a non-tuple sequence for multidimensional indexing is deprecated; use `arr[tuple(seq)]` instead of `arr[seq]`. In the future this will be interpreted as an array index, `arr[np.array(seq)]`, which will result either in an error or a different result.\n",
      "  b = a[a_slice]\n",
      "C:\\Users\\nile\\Anaconda3\\envs\\eeg\\lib\\site-packages\\scipy\\signal\\signaltools.py:3463: FutureWarning: Using a non-tuple sequence for multidimensional indexing is deprecated; use `arr[tuple(seq)]` instead of `arr[seq]`. In the future this will be interpreted as an array index, `arr[np.array(seq)]`, which will result either in an error or a different result.\n",
      "  return y[sl]\n"
     ]
    },
    {
     "name": "stdout",
     "output_type": "stream",
     "text": [
      "Selecting model: Models/e2cbc4/experimental/Session1\\e2cbc4_MI_classifier_2019-03-22-12-14-57.sav\n",
      "Selecting model: Models/e2cbc4/experimental/Session1\\e2cbc4_MI_classifier_2019-03-22-12-15-10.sav\n",
      "Selecting model: Models/e2cbc4/experimental/Session1\\e2cbc4_MI_classifier_TL_2019-03-22-12-15-12.sav\n",
      "Selecting BCI EEG file: SaveData/e2cbc4/Session2\\20190308131227_e2cbc4_BCI.easy\n",
      "Selecting BCI behavioral file: SaveData/e2cbc4/Session2\\BCI_e2cbc4_R1.csv\n",
      "Skipping N/A\n"
     ]
    },
    {
     "name": "stderr",
     "output_type": "stream",
     "text": [
      "C:\\Users\\nile\\Anaconda3\\envs\\eeg\\lib\\site-packages\\scipy\\signal\\_arraytools.py:45: FutureWarning: Using a non-tuple sequence for multidimensional indexing is deprecated; use `arr[tuple(seq)]` instead of `arr[seq]`. In the future this will be interpreted as an array index, `arr[np.array(seq)]`, which will result either in an error or a different result.\n",
      "  b = a[a_slice]\n",
      "C:\\Users\\nile\\Anaconda3\\envs\\eeg\\lib\\site-packages\\scipy\\signal\\signaltools.py:3463: FutureWarning: Using a non-tuple sequence for multidimensional indexing is deprecated; use `arr[tuple(seq)]` instead of `arr[seq]`. In the future this will be interpreted as an array index, `arr[np.array(seq)]`, which will result either in an error or a different result.\n",
      "  return y[sl]\n"
     ]
    },
    {
     "name": "stdout",
     "output_type": "stream",
     "text": [
      "Selecting model: Models/e2cbc4/experimental/Session2\\e2cbc4_MI_classifier_2019-03-22-12-16-31.sav\n",
      "Selecting model: Models/e2cbc4/experimental/Session2\\e2cbc4_MI_classifier_2019-03-22-12-16-31.sav\n",
      "Selecting model: Models/e2cbc4/experimental/Session2\\e2cbc4_MI_classifier_2019-03-22-12-16-31.sav\n",
      "Selecting BCI EEG file: SaveData/e2cbc4/Session2\\20190308131733_e2cbc4_BCI.easy\n",
      "Selecting BCI behavioral file: SaveData/e2cbc4/Session2\\BCI_e2cbc4_R2.csv\n",
      "Skipping N/A\n"
     ]
    },
    {
     "name": "stderr",
     "output_type": "stream",
     "text": [
      "C:\\Users\\nile\\Anaconda3\\envs\\eeg\\lib\\site-packages\\scipy\\signal\\_arraytools.py:45: FutureWarning: Using a non-tuple sequence for multidimensional indexing is deprecated; use `arr[tuple(seq)]` instead of `arr[seq]`. In the future this will be interpreted as an array index, `arr[np.array(seq)]`, which will result either in an error or a different result.\n",
      "  b = a[a_slice]\n",
      "C:\\Users\\nile\\Anaconda3\\envs\\eeg\\lib\\site-packages\\scipy\\signal\\signaltools.py:3463: FutureWarning: Using a non-tuple sequence for multidimensional indexing is deprecated; use `arr[tuple(seq)]` instead of `arr[seq]`. In the future this will be interpreted as an array index, `arr[np.array(seq)]`, which will result either in an error or a different result.\n",
      "  return y[sl]\n"
     ]
    },
    {
     "name": "stdout",
     "output_type": "stream",
     "text": [
      "Selecting model: Models/e2cbc4/experimental/Session2\\e2cbc4_MI_classifier_2019-03-22-12-16-31.sav\n",
      "Selecting model: Models/e2cbc4/experimental/Session2\\e2cbc4_MI_classifier_2019-03-22-12-16-35.sav\n",
      "Selecting model: Models/e2cbc4/experimental/Session2\\e2cbc4_MI_classifier_TL_2019-03-22-12-16-35.sav\n",
      "Selecting BCI EEG file: SaveData/e2cbc4/Session2\\20190308132325_e2cbc4_BCI.easy\n",
      "Selecting BCI behavioral file: SaveData/e2cbc4/Session2\\BCI_e2cbc4_R3.csv\n",
      "Skipping N/A\n"
     ]
    },
    {
     "name": "stderr",
     "output_type": "stream",
     "text": [
      "C:\\Users\\nile\\Anaconda3\\envs\\eeg\\lib\\site-packages\\scipy\\signal\\_arraytools.py:45: FutureWarning: Using a non-tuple sequence for multidimensional indexing is deprecated; use `arr[tuple(seq)]` instead of `arr[seq]`. In the future this will be interpreted as an array index, `arr[np.array(seq)]`, which will result either in an error or a different result.\n",
      "  b = a[a_slice]\n",
      "C:\\Users\\nile\\Anaconda3\\envs\\eeg\\lib\\site-packages\\scipy\\signal\\signaltools.py:3463: FutureWarning: Using a non-tuple sequence for multidimensional indexing is deprecated; use `arr[tuple(seq)]` instead of `arr[seq]`. In the future this will be interpreted as an array index, `arr[np.array(seq)]`, which will result either in an error or a different result.\n",
      "  return y[sl]\n"
     ]
    },
    {
     "name": "stdout",
     "output_type": "stream",
     "text": [
      "Selecting model: Models/e2cbc4/experimental/Session2\\e2cbc4_MI_classifier_2019-03-22-12-16-31.sav\n",
      "Selecting model: Models/e2cbc4/experimental/Session2\\e2cbc4_MI_classifier_2019-03-22-12-16-38.sav\n",
      "Selecting model: Models/e2cbc4/experimental/Session2\\e2cbc4_MI_classifier_TL_2019-03-22-12-16-39.sav\n",
      "Selecting BCI EEG file: SaveData/e2cbc4/Session2\\20190308132926_e2cbc4_BCI.easy\n",
      "Selecting BCI behavioral file: SaveData/e2cbc4/Session2\\BCI_e2cbc4_R4.csv\n",
      "Skipping N/A\n"
     ]
    },
    {
     "name": "stderr",
     "output_type": "stream",
     "text": [
      "C:\\Users\\nile\\Anaconda3\\envs\\eeg\\lib\\site-packages\\scipy\\signal\\_arraytools.py:45: FutureWarning: Using a non-tuple sequence for multidimensional indexing is deprecated; use `arr[tuple(seq)]` instead of `arr[seq]`. In the future this will be interpreted as an array index, `arr[np.array(seq)]`, which will result either in an error or a different result.\n",
      "  b = a[a_slice]\n",
      "C:\\Users\\nile\\Anaconda3\\envs\\eeg\\lib\\site-packages\\scipy\\signal\\signaltools.py:3463: FutureWarning: Using a non-tuple sequence for multidimensional indexing is deprecated; use `arr[tuple(seq)]` instead of `arr[seq]`. In the future this will be interpreted as an array index, `arr[np.array(seq)]`, which will result either in an error or a different result.\n",
      "  return y[sl]\n"
     ]
    },
    {
     "name": "stdout",
     "output_type": "stream",
     "text": [
      "Selecting model: Models/e2cbc4/experimental/Session2\\e2cbc4_MI_classifier_2019-03-22-12-16-31.sav\n",
      "Selecting model: Models/e2cbc4/experimental/Session2\\e2cbc4_MI_classifier_2019-03-22-12-16-42.sav\n",
      "Selecting model: Models/e2cbc4/experimental/Session2\\e2cbc4_MI_classifier_TL_2019-03-22-12-16-44.sav\n",
      "Selecting BCI EEG file: SaveData/e2cbc4/Session2\\20190308133449_e2cbc4_BCI.easy\n",
      "Selecting BCI behavioral file: SaveData/e2cbc4/Session2\\BCI_e2cbc4_R5.csv\n",
      "Skipping N/A\n"
     ]
    },
    {
     "name": "stderr",
     "output_type": "stream",
     "text": [
      "C:\\Users\\nile\\Anaconda3\\envs\\eeg\\lib\\site-packages\\scipy\\signal\\_arraytools.py:45: FutureWarning: Using a non-tuple sequence for multidimensional indexing is deprecated; use `arr[tuple(seq)]` instead of `arr[seq]`. In the future this will be interpreted as an array index, `arr[np.array(seq)]`, which will result either in an error or a different result.\n",
      "  b = a[a_slice]\n",
      "C:\\Users\\nile\\Anaconda3\\envs\\eeg\\lib\\site-packages\\scipy\\signal\\signaltools.py:3463: FutureWarning: Using a non-tuple sequence for multidimensional indexing is deprecated; use `arr[tuple(seq)]` instead of `arr[seq]`. In the future this will be interpreted as an array index, `arr[np.array(seq)]`, which will result either in an error or a different result.\n",
      "  return y[sl]\n"
     ]
    },
    {
     "name": "stdout",
     "output_type": "stream",
     "text": [
      "Selecting model: Models/e2cbc4/experimental/Session2\\e2cbc4_MI_classifier_2019-03-22-12-16-31.sav\n",
      "Selecting model: Models/e2cbc4/experimental/Session2\\e2cbc4_MI_classifier_2019-03-22-12-16-47.sav\n",
      "Selecting model: Models/e2cbc4/experimental/Session2\\e2cbc4_MI_classifier_TL_2019-03-22-12-16-48.sav\n",
      "Selecting BCI EEG file: SaveData/e2cbc4/Session3\\20190315161258_e2cbc4_BCI.easy\n",
      "Selecting BCI behavioral file: SaveData/e2cbc4/Session3\\BCI_e2cbc4_R1.csv\n",
      "Skipping N/A\n"
     ]
    },
    {
     "name": "stderr",
     "output_type": "stream",
     "text": [
      "C:\\Users\\nile\\Anaconda3\\envs\\eeg\\lib\\site-packages\\scipy\\signal\\_arraytools.py:45: FutureWarning: Using a non-tuple sequence for multidimensional indexing is deprecated; use `arr[tuple(seq)]` instead of `arr[seq]`. In the future this will be interpreted as an array index, `arr[np.array(seq)]`, which will result either in an error or a different result.\n",
      "  b = a[a_slice]\n",
      "C:\\Users\\nile\\Anaconda3\\envs\\eeg\\lib\\site-packages\\scipy\\signal\\signaltools.py:3463: FutureWarning: Using a non-tuple sequence for multidimensional indexing is deprecated; use `arr[tuple(seq)]` instead of `arr[seq]`. In the future this will be interpreted as an array index, `arr[np.array(seq)]`, which will result either in an error or a different result.\n",
      "  return y[sl]\n"
     ]
    },
    {
     "name": "stdout",
     "output_type": "stream",
     "text": [
      "Selecting model: Models/e2cbc4/experimental/Session3\\e2cbc4_MI_classifier_2019-03-22-12-18-25.sav\n",
      "Selecting model: Models/e2cbc4/experimental/Session3\\e2cbc4_MI_classifier_2019-03-22-12-18-25.sav\n",
      "Selecting model: Models/e2cbc4/experimental/Session3\\e2cbc4_MI_classifier_2019-03-22-12-18-25.sav\n",
      "Selecting BCI EEG file: SaveData/e2cbc4/Session3\\20190315161736_e2cbc4_BCI.easy\n",
      "Selecting BCI behavioral file: SaveData/e2cbc4/Session3\\BCI_e2cbc4_R2.csv\n",
      "Skipping N/A\n"
     ]
    },
    {
     "name": "stderr",
     "output_type": "stream",
     "text": [
      "C:\\Users\\nile\\Anaconda3\\envs\\eeg\\lib\\site-packages\\scipy\\signal\\_arraytools.py:45: FutureWarning: Using a non-tuple sequence for multidimensional indexing is deprecated; use `arr[tuple(seq)]` instead of `arr[seq]`. In the future this will be interpreted as an array index, `arr[np.array(seq)]`, which will result either in an error or a different result.\n",
      "  b = a[a_slice]\n",
      "C:\\Users\\nile\\Anaconda3\\envs\\eeg\\lib\\site-packages\\scipy\\signal\\signaltools.py:3463: FutureWarning: Using a non-tuple sequence for multidimensional indexing is deprecated; use `arr[tuple(seq)]` instead of `arr[seq]`. In the future this will be interpreted as an array index, `arr[np.array(seq)]`, which will result either in an error or a different result.\n",
      "  return y[sl]\n"
     ]
    },
    {
     "name": "stdout",
     "output_type": "stream",
     "text": [
      "Selecting model: Models/e2cbc4/experimental/Session3\\e2cbc4_MI_classifier_2019-03-22-12-18-25.sav\n",
      "Selecting model: Models/e2cbc4/experimental/Session3\\e2cbc4_MI_classifier_2019-03-22-12-18-29.sav\n",
      "Selecting model: Models/e2cbc4/experimental/Session3\\e2cbc4_MI_classifier_TL_2019-03-22-12-18-30.sav\n",
      "Selecting BCI EEG file: SaveData/e2cbc4/Session3\\20190315162232_e2cbc4_BCI.easy\n",
      "Selecting BCI behavioral file: SaveData/e2cbc4/Session3\\BCI_e2cbc4_R3.csv\n",
      "Skipping N/A\n"
     ]
    },
    {
     "name": "stderr",
     "output_type": "stream",
     "text": [
      "C:\\Users\\nile\\Anaconda3\\envs\\eeg\\lib\\site-packages\\scipy\\signal\\_arraytools.py:45: FutureWarning: Using a non-tuple sequence for multidimensional indexing is deprecated; use `arr[tuple(seq)]` instead of `arr[seq]`. In the future this will be interpreted as an array index, `arr[np.array(seq)]`, which will result either in an error or a different result.\n",
      "  b = a[a_slice]\n",
      "C:\\Users\\nile\\Anaconda3\\envs\\eeg\\lib\\site-packages\\scipy\\signal\\signaltools.py:3463: FutureWarning: Using a non-tuple sequence for multidimensional indexing is deprecated; use `arr[tuple(seq)]` instead of `arr[seq]`. In the future this will be interpreted as an array index, `arr[np.array(seq)]`, which will result either in an error or a different result.\n",
      "  return y[sl]\n"
     ]
    },
    {
     "name": "stdout",
     "output_type": "stream",
     "text": [
      "Selecting model: Models/e2cbc4/experimental/Session3\\e2cbc4_MI_classifier_2019-03-22-12-18-25.sav\n",
      "Selecting model: Models/e2cbc4/experimental/Session3\\e2cbc4_MI_classifier_2019-03-22-12-18-32.sav\n",
      "Selecting model: Models/e2cbc4/experimental/Session3\\e2cbc4_MI_classifier_TL_2019-03-22-12-18-33.sav\n",
      "Selecting BCI EEG file: SaveData/e2cbc4/Session3\\20190315162741_e2cbc4_BCI.easy\n",
      "Selecting BCI behavioral file: SaveData/e2cbc4/Session3\\BCI_e2cbc4_R4.csv\n",
      "Skipping N/A\n"
     ]
    },
    {
     "name": "stderr",
     "output_type": "stream",
     "text": [
      "C:\\Users\\nile\\Anaconda3\\envs\\eeg\\lib\\site-packages\\scipy\\signal\\_arraytools.py:45: FutureWarning: Using a non-tuple sequence for multidimensional indexing is deprecated; use `arr[tuple(seq)]` instead of `arr[seq]`. In the future this will be interpreted as an array index, `arr[np.array(seq)]`, which will result either in an error or a different result.\n",
      "  b = a[a_slice]\n",
      "C:\\Users\\nile\\Anaconda3\\envs\\eeg\\lib\\site-packages\\scipy\\signal\\signaltools.py:3463: FutureWarning: Using a non-tuple sequence for multidimensional indexing is deprecated; use `arr[tuple(seq)]` instead of `arr[seq]`. In the future this will be interpreted as an array index, `arr[np.array(seq)]`, which will result either in an error or a different result.\n",
      "  return y[sl]\n"
     ]
    },
    {
     "name": "stdout",
     "output_type": "stream",
     "text": [
      "Selecting model: Models/e2cbc4/experimental/Session3\\e2cbc4_MI_classifier_2019-03-22-12-18-25.sav\n",
      "Selecting model: Models/e2cbc4/experimental/Session3\\e2cbc4_MI_classifier_2019-03-22-12-18-36.sav\n",
      "Selecting model: Models/e2cbc4/experimental/Session3\\e2cbc4_MI_classifier_TL_2019-03-22-12-18-37.sav\n",
      "Selecting BCI EEG file: SaveData/e2cbc4/Session3\\20190315163219_e2cbc4_BCI.easy\n",
      "Selecting BCI behavioral file: SaveData/e2cbc4/Session3\\BCI_e2cbc4_R5.csv\n",
      "Skipping N/A\n"
     ]
    },
    {
     "name": "stderr",
     "output_type": "stream",
     "text": [
      "C:\\Users\\nile\\Anaconda3\\envs\\eeg\\lib\\site-packages\\scipy\\signal\\_arraytools.py:45: FutureWarning: Using a non-tuple sequence for multidimensional indexing is deprecated; use `arr[tuple(seq)]` instead of `arr[seq]`. In the future this will be interpreted as an array index, `arr[np.array(seq)]`, which will result either in an error or a different result.\n",
      "  b = a[a_slice]\n",
      "C:\\Users\\nile\\Anaconda3\\envs\\eeg\\lib\\site-packages\\scipy\\signal\\signaltools.py:3463: FutureWarning: Using a non-tuple sequence for multidimensional indexing is deprecated; use `arr[tuple(seq)]` instead of `arr[seq]`. In the future this will be interpreted as an array index, `arr[np.array(seq)]`, which will result either in an error or a different result.\n",
      "  return y[sl]\n"
     ]
    },
    {
     "name": "stdout",
     "output_type": "stream",
     "text": [
      "Selecting model: Models/e2cbc4/experimental/Session3\\e2cbc4_MI_classifier_2019-03-22-12-18-25.sav\n",
      "Selecting model: Models/e2cbc4/experimental/Session3\\e2cbc4_MI_classifier_2019-03-22-12-18-40.sav\n",
      "Selecting model: Models/e2cbc4/experimental/Session3\\e2cbc4_MI_classifier_TL_2019-03-22-12-18-41.sav\n",
      "Selecting BCI EEG file: SaveData/b7ff16/Session1\\20190207163753_b7ff16_BCI.easy\n",
      "Selecting BCI behavioral file: SaveData/b7ff16/Session1\\BCI_b7ff16_R1.csv\n",
      "Skipping N/A\n"
     ]
    },
    {
     "name": "stderr",
     "output_type": "stream",
     "text": [
      "C:\\Users\\nile\\Anaconda3\\envs\\eeg\\lib\\site-packages\\scipy\\signal\\_arraytools.py:45: FutureWarning: Using a non-tuple sequence for multidimensional indexing is deprecated; use `arr[tuple(seq)]` instead of `arr[seq]`. In the future this will be interpreted as an array index, `arr[np.array(seq)]`, which will result either in an error or a different result.\n",
      "  b = a[a_slice]\n",
      "C:\\Users\\nile\\Anaconda3\\envs\\eeg\\lib\\site-packages\\scipy\\signal\\signaltools.py:3463: FutureWarning: Using a non-tuple sequence for multidimensional indexing is deprecated; use `arr[tuple(seq)]` instead of `arr[seq]`. In the future this will be interpreted as an array index, `arr[np.array(seq)]`, which will result either in an error or a different result.\n",
      "  return y[sl]\n"
     ]
    },
    {
     "name": "stdout",
     "output_type": "stream",
     "text": [
      "Selecting model: Models/b7ff16/experimental/Session1\\b7ff16_MI_classifier_2019-03-07-09-35-47.sav\n",
      "Selecting model: Models/b7ff16/experimental/Session1\\b7ff16_MI_classifier_2019-03-07-09-35-47.sav\n",
      "Selecting model: Models/b7ff16/experimental/Session1\\b7ff16_MI_classifier_2019-03-07-09-35-47.sav\n",
      "Selecting BCI EEG file: SaveData/b7ff16/Session1\\20190207164347_b7ff16_BCI.easy\n",
      "Selecting BCI behavioral file: SaveData/b7ff16/Session1\\BCI_b7ff16_R2.csv\n",
      "Skipping N/A\n"
     ]
    },
    {
     "name": "stderr",
     "output_type": "stream",
     "text": [
      "C:\\Users\\nile\\Anaconda3\\envs\\eeg\\lib\\site-packages\\scipy\\signal\\_arraytools.py:45: FutureWarning: Using a non-tuple sequence for multidimensional indexing is deprecated; use `arr[tuple(seq)]` instead of `arr[seq]`. In the future this will be interpreted as an array index, `arr[np.array(seq)]`, which will result either in an error or a different result.\n",
      "  b = a[a_slice]\n",
      "C:\\Users\\nile\\Anaconda3\\envs\\eeg\\lib\\site-packages\\scipy\\signal\\signaltools.py:3463: FutureWarning: Using a non-tuple sequence for multidimensional indexing is deprecated; use `arr[tuple(seq)]` instead of `arr[seq]`. In the future this will be interpreted as an array index, `arr[np.array(seq)]`, which will result either in an error or a different result.\n",
      "  return y[sl]\n"
     ]
    },
    {
     "name": "stdout",
     "output_type": "stream",
     "text": [
      "Selecting model: Models/b7ff16/experimental/Session1\\b7ff16_MI_classifier_2019-03-07-09-35-51.sav\n",
      "Selecting model: Models/b7ff16/experimental/Session1\\b7ff16_MI_classifier_2019-03-07-09-35-47.sav\n",
      "Selecting model: Models/b7ff16/experimental/Session1\\b7ff16_MI_classifier_TL_2019-03-07-09-35-51.sav\n",
      "Selecting BCI EEG file: SaveData/b7ff16/Session1\\20190207164859_b7ff16_BCI.easy\n",
      "Selecting BCI behavioral file: SaveData/b7ff16/Session1\\BCI_b7ff16_R3.csv\n",
      "Skipping N/A\n"
     ]
    },
    {
     "name": "stderr",
     "output_type": "stream",
     "text": [
      "C:\\Users\\nile\\Anaconda3\\envs\\eeg\\lib\\site-packages\\scipy\\signal\\_arraytools.py:45: FutureWarning: Using a non-tuple sequence for multidimensional indexing is deprecated; use `arr[tuple(seq)]` instead of `arr[seq]`. In the future this will be interpreted as an array index, `arr[np.array(seq)]`, which will result either in an error or a different result.\n",
      "  b = a[a_slice]\n",
      "C:\\Users\\nile\\Anaconda3\\envs\\eeg\\lib\\site-packages\\scipy\\signal\\signaltools.py:3463: FutureWarning: Using a non-tuple sequence for multidimensional indexing is deprecated; use `arr[tuple(seq)]` instead of `arr[seq]`. In the future this will be interpreted as an array index, `arr[np.array(seq)]`, which will result either in an error or a different result.\n",
      "  return y[sl]\n"
     ]
    },
    {
     "name": "stdout",
     "output_type": "stream",
     "text": [
      "Selecting model: Models/b7ff16/experimental/Session1\\b7ff16_MI_classifier_2019-03-07-09-35-54.sav\n",
      "Selecting model: Models/b7ff16/experimental/Session1\\b7ff16_MI_classifier_2019-03-07-09-35-47.sav\n",
      "Selecting model: Models/b7ff16/experimental/Session1\\b7ff16_MI_classifier_TL_2019-03-07-09-35-56.sav\n",
      "Selecting BCI EEG file: SaveData/b7ff16/Session1\\20190207165403_b7ff16_BCI.easy\n",
      "Selecting BCI behavioral file: SaveData/b7ff16/Session1\\BCI_b7ff16_R4.csv\n",
      "Skipping N/A\n"
     ]
    },
    {
     "name": "stderr",
     "output_type": "stream",
     "text": [
      "C:\\Users\\nile\\Anaconda3\\envs\\eeg\\lib\\site-packages\\scipy\\signal\\_arraytools.py:45: FutureWarning: Using a non-tuple sequence for multidimensional indexing is deprecated; use `arr[tuple(seq)]` instead of `arr[seq]`. In the future this will be interpreted as an array index, `arr[np.array(seq)]`, which will result either in an error or a different result.\n",
      "  b = a[a_slice]\n",
      "C:\\Users\\nile\\Anaconda3\\envs\\eeg\\lib\\site-packages\\scipy\\signal\\signaltools.py:3463: FutureWarning: Using a non-tuple sequence for multidimensional indexing is deprecated; use `arr[tuple(seq)]` instead of `arr[seq]`. In the future this will be interpreted as an array index, `arr[np.array(seq)]`, which will result either in an error or a different result.\n",
      "  return y[sl]\n"
     ]
    },
    {
     "name": "stdout",
     "output_type": "stream",
     "text": [
      "Selecting model: Models/b7ff16/experimental/Session1\\b7ff16_MI_classifier_2019-03-07-09-35-58.sav\n",
      "Selecting model: Models/b7ff16/experimental/Session1\\b7ff16_MI_classifier_2019-03-07-09-35-47.sav\n",
      "Selecting model: Models/b7ff16/experimental/Session1\\b7ff16_MI_classifier_TL_2019-03-07-09-36-00.sav\n",
      "Selecting BCI EEG file: SaveData/b7ff16/Session1\\20190207165849_b7ff16_BCI.easy\n",
      "Selecting BCI behavioral file: SaveData/b7ff16/Session1\\BCI_b7ff16_R5.csv\n",
      "Skipping N/A\n"
     ]
    },
    {
     "name": "stderr",
     "output_type": "stream",
     "text": [
      "C:\\Users\\nile\\Anaconda3\\envs\\eeg\\lib\\site-packages\\scipy\\signal\\_arraytools.py:45: FutureWarning: Using a non-tuple sequence for multidimensional indexing is deprecated; use `arr[tuple(seq)]` instead of `arr[seq]`. In the future this will be interpreted as an array index, `arr[np.array(seq)]`, which will result either in an error or a different result.\n",
      "  b = a[a_slice]\n",
      "C:\\Users\\nile\\Anaconda3\\envs\\eeg\\lib\\site-packages\\scipy\\signal\\signaltools.py:3463: FutureWarning: Using a non-tuple sequence for multidimensional indexing is deprecated; use `arr[tuple(seq)]` instead of `arr[seq]`. In the future this will be interpreted as an array index, `arr[np.array(seq)]`, which will result either in an error or a different result.\n",
      "  return y[sl]\n"
     ]
    },
    {
     "name": "stdout",
     "output_type": "stream",
     "text": [
      "Selecting model: Models/b7ff16/experimental/Session1\\b7ff16_MI_classifier_2019-03-07-09-36-03.sav\n",
      "Selecting model: Models/b7ff16/experimental/Session1\\b7ff16_MI_classifier_2019-03-07-09-35-47.sav\n",
      "Selecting model: Models/b7ff16/experimental/Session1\\b7ff16_MI_classifier_TL_2019-03-07-09-36-04.sav\n",
      "Selecting BCI EEG file: SaveData/b7ff16/Session2\\20190226144836_b7ff16_BCI.easy\n",
      "Selecting BCI behavioral file: SaveData/b7ff16/Session2\\BCI_b7ff16_R1.csv\n",
      "Skipping N/A\n"
     ]
    },
    {
     "name": "stderr",
     "output_type": "stream",
     "text": [
      "C:\\Users\\nile\\Anaconda3\\envs\\eeg\\lib\\site-packages\\scipy\\signal\\_arraytools.py:45: FutureWarning: Using a non-tuple sequence for multidimensional indexing is deprecated; use `arr[tuple(seq)]` instead of `arr[seq]`. In the future this will be interpreted as an array index, `arr[np.array(seq)]`, which will result either in an error or a different result.\n",
      "  b = a[a_slice]\n",
      "C:\\Users\\nile\\Anaconda3\\envs\\eeg\\lib\\site-packages\\scipy\\signal\\signaltools.py:3463: FutureWarning: Using a non-tuple sequence for multidimensional indexing is deprecated; use `arr[tuple(seq)]` instead of `arr[seq]`. In the future this will be interpreted as an array index, `arr[np.array(seq)]`, which will result either in an error or a different result.\n",
      "  return y[sl]\n"
     ]
    },
    {
     "name": "stdout",
     "output_type": "stream",
     "text": [
      "Selecting model: Models/b7ff16/experimental/Session2\\b7ff16_MI_classifier_2019-03-07-09-37-54.sav\n",
      "Selecting model: Models/b7ff16/experimental/Session2\\b7ff16_MI_classifier_2019-03-07-09-37-54.sav\n",
      "Selecting model: Models/b7ff16/experimental/Session2\\b7ff16_MI_classifier_2019-03-07-09-37-54.sav\n",
      "Selecting BCI EEG file: SaveData/b7ff16/Session2\\20190226145330_b7ff16_BCI.easy\n",
      "Selecting BCI behavioral file: SaveData/b7ff16/Session2\\BCI_b7ff16_R2.csv\n",
      "Skipping N/A\n"
     ]
    },
    {
     "name": "stderr",
     "output_type": "stream",
     "text": [
      "C:\\Users\\nile\\Anaconda3\\envs\\eeg\\lib\\site-packages\\scipy\\signal\\_arraytools.py:45: FutureWarning: Using a non-tuple sequence for multidimensional indexing is deprecated; use `arr[tuple(seq)]` instead of `arr[seq]`. In the future this will be interpreted as an array index, `arr[np.array(seq)]`, which will result either in an error or a different result.\n",
      "  b = a[a_slice]\n",
      "C:\\Users\\nile\\Anaconda3\\envs\\eeg\\lib\\site-packages\\scipy\\signal\\signaltools.py:3463: FutureWarning: Using a non-tuple sequence for multidimensional indexing is deprecated; use `arr[tuple(seq)]` instead of `arr[seq]`. In the future this will be interpreted as an array index, `arr[np.array(seq)]`, which will result either in an error or a different result.\n",
      "  return y[sl]\n"
     ]
    },
    {
     "name": "stdout",
     "output_type": "stream",
     "text": [
      "Selecting model: Models/b7ff16/experimental/Session2\\b7ff16_MI_classifier_2019-03-07-09-37-58.sav\n",
      "Selecting model: Models/b7ff16/experimental/Session2\\b7ff16_MI_classifier_2019-03-07-09-37-54.sav\n",
      "Selecting model: Models/b7ff16/experimental/Session2\\b7ff16_MI_classifier_TL_2019-03-07-09-37-58.sav\n",
      "Selecting BCI EEG file: SaveData/b7ff16/Session2\\20190226145850_b7ff16_BCI.easy\n",
      "Selecting BCI behavioral file: SaveData/b7ff16/Session2\\BCI_b7ff16_R3.csv\n",
      "Skipping N/A\n"
     ]
    },
    {
     "name": "stderr",
     "output_type": "stream",
     "text": [
      "C:\\Users\\nile\\Anaconda3\\envs\\eeg\\lib\\site-packages\\scipy\\signal\\_arraytools.py:45: FutureWarning: Using a non-tuple sequence for multidimensional indexing is deprecated; use `arr[tuple(seq)]` instead of `arr[seq]`. In the future this will be interpreted as an array index, `arr[np.array(seq)]`, which will result either in an error or a different result.\n",
      "  b = a[a_slice]\n",
      "C:\\Users\\nile\\Anaconda3\\envs\\eeg\\lib\\site-packages\\scipy\\signal\\signaltools.py:3463: FutureWarning: Using a non-tuple sequence for multidimensional indexing is deprecated; use `arr[tuple(seq)]` instead of `arr[seq]`. In the future this will be interpreted as an array index, `arr[np.array(seq)]`, which will result either in an error or a different result.\n",
      "  return y[sl]\n"
     ]
    },
    {
     "name": "stdout",
     "output_type": "stream",
     "text": [
      "Selecting model: Models/b7ff16/experimental/Session2\\b7ff16_MI_classifier_2019-03-07-09-38-01.sav\n",
      "Selecting model: Models/b7ff16/experimental/Session2\\b7ff16_MI_classifier_2019-03-07-09-37-54.sav\n",
      "Selecting model: Models/b7ff16/experimental/Session2\\b7ff16_MI_classifier_TL_2019-03-07-09-38-03.sav\n",
      "Selecting BCI EEG file: SaveData/b7ff16/Session2\\20190226150409_b7ff16_BCI.easy\n",
      "Selecting BCI behavioral file: SaveData/b7ff16/Session2\\BCI_b7ff16_R4.csv\n",
      "Skipping N/A\n"
     ]
    },
    {
     "name": "stderr",
     "output_type": "stream",
     "text": [
      "C:\\Users\\nile\\Anaconda3\\envs\\eeg\\lib\\site-packages\\scipy\\signal\\_arraytools.py:45: FutureWarning: Using a non-tuple sequence for multidimensional indexing is deprecated; use `arr[tuple(seq)]` instead of `arr[seq]`. In the future this will be interpreted as an array index, `arr[np.array(seq)]`, which will result either in an error or a different result.\n",
      "  b = a[a_slice]\n",
      "C:\\Users\\nile\\Anaconda3\\envs\\eeg\\lib\\site-packages\\scipy\\signal\\signaltools.py:3463: FutureWarning: Using a non-tuple sequence for multidimensional indexing is deprecated; use `arr[tuple(seq)]` instead of `arr[seq]`. In the future this will be interpreted as an array index, `arr[np.array(seq)]`, which will result either in an error or a different result.\n",
      "  return y[sl]\n"
     ]
    },
    {
     "name": "stdout",
     "output_type": "stream",
     "text": [
      "Selecting model: Models/b7ff16/experimental/Session2\\b7ff16_MI_classifier_2019-03-07-09-38-06.sav\n",
      "Selecting model: Models/b7ff16/experimental/Session2\\b7ff16_MI_classifier_2019-03-07-09-37-54.sav\n",
      "Selecting model: Models/b7ff16/experimental/Session2\\b7ff16_MI_classifier_TL_2019-03-07-09-38-07.sav\n",
      "Selecting BCI EEG file: SaveData/b7ff16/Session2\\20190226150923_b7ff16_BCI.easy\n",
      "Selecting BCI behavioral file: SaveData/b7ff16/Session2\\BCI_b7ff16_R5.csv\n",
      "Skipping N/A\n"
     ]
    },
    {
     "name": "stderr",
     "output_type": "stream",
     "text": [
      "C:\\Users\\nile\\Anaconda3\\envs\\eeg\\lib\\site-packages\\scipy\\signal\\_arraytools.py:45: FutureWarning: Using a non-tuple sequence for multidimensional indexing is deprecated; use `arr[tuple(seq)]` instead of `arr[seq]`. In the future this will be interpreted as an array index, `arr[np.array(seq)]`, which will result either in an error or a different result.\n",
      "  b = a[a_slice]\n",
      "C:\\Users\\nile\\Anaconda3\\envs\\eeg\\lib\\site-packages\\scipy\\signal\\signaltools.py:3463: FutureWarning: Using a non-tuple sequence for multidimensional indexing is deprecated; use `arr[tuple(seq)]` instead of `arr[seq]`. In the future this will be interpreted as an array index, `arr[np.array(seq)]`, which will result either in an error or a different result.\n",
      "  return y[sl]\n"
     ]
    },
    {
     "name": "stdout",
     "output_type": "stream",
     "text": [
      "Selecting model: Models/b7ff16/experimental/Session2\\b7ff16_MI_classifier_2019-03-07-09-38-11.sav\n",
      "Selecting model: Models/b7ff16/experimental/Session2\\b7ff16_MI_classifier_2019-03-07-09-37-54.sav\n",
      "Selecting model: Models/b7ff16/experimental/Session2\\b7ff16_MI_classifier_TL_2019-03-07-09-38-12.sav\n",
      "Selecting BCI EEG file: SaveData/b7ff16/Session3\\20190228091607_b7ff16_BCI.easy\n",
      "Selecting BCI behavioral file: SaveData/b7ff16/Session3\\BCI_b7ff16_R1.csv\n",
      "Skipping N/A\n"
     ]
    },
    {
     "name": "stderr",
     "output_type": "stream",
     "text": [
      "C:\\Users\\nile\\Anaconda3\\envs\\eeg\\lib\\site-packages\\scipy\\signal\\_arraytools.py:45: FutureWarning: Using a non-tuple sequence for multidimensional indexing is deprecated; use `arr[tuple(seq)]` instead of `arr[seq]`. In the future this will be interpreted as an array index, `arr[np.array(seq)]`, which will result either in an error or a different result.\n",
      "  b = a[a_slice]\n",
      "C:\\Users\\nile\\Anaconda3\\envs\\eeg\\lib\\site-packages\\scipy\\signal\\signaltools.py:3463: FutureWarning: Using a non-tuple sequence for multidimensional indexing is deprecated; use `arr[tuple(seq)]` instead of `arr[seq]`. In the future this will be interpreted as an array index, `arr[np.array(seq)]`, which will result either in an error or a different result.\n",
      "  return y[sl]\n"
     ]
    },
    {
     "name": "stdout",
     "output_type": "stream",
     "text": [
      "Selecting model: Models/b7ff16/experimental/Session3\\b7ff16_MI_classifier_2019-03-07-09-40-02.sav\n",
      "Selecting model: Models/b7ff16/experimental/Session3\\b7ff16_MI_classifier_2019-03-07-09-40-02.sav\n",
      "Selecting model: Models/b7ff16/experimental/Session3\\b7ff16_MI_classifier_2019-03-07-09-40-02.sav\n",
      "Selecting BCI EEG file: SaveData/b7ff16/Session3\\20190228092046_b7ff16_BCI.easy\n",
      "Selecting BCI behavioral file: SaveData/b7ff16/Session3\\BCI_b7ff16_R2.csv\n",
      "Skipping N/A\n"
     ]
    },
    {
     "name": "stderr",
     "output_type": "stream",
     "text": [
      "C:\\Users\\nile\\Anaconda3\\envs\\eeg\\lib\\site-packages\\scipy\\signal\\_arraytools.py:45: FutureWarning: Using a non-tuple sequence for multidimensional indexing is deprecated; use `arr[tuple(seq)]` instead of `arr[seq]`. In the future this will be interpreted as an array index, `arr[np.array(seq)]`, which will result either in an error or a different result.\n",
      "  b = a[a_slice]\n",
      "C:\\Users\\nile\\Anaconda3\\envs\\eeg\\lib\\site-packages\\scipy\\signal\\signaltools.py:3463: FutureWarning: Using a non-tuple sequence for multidimensional indexing is deprecated; use `arr[tuple(seq)]` instead of `arr[seq]`. In the future this will be interpreted as an array index, `arr[np.array(seq)]`, which will result either in an error or a different result.\n",
      "  return y[sl]\n"
     ]
    },
    {
     "name": "stdout",
     "output_type": "stream",
     "text": [
      "Selecting model: Models/b7ff16/experimental/Session3\\b7ff16_MI_classifier_2019-03-07-09-40-06.sav\n",
      "Selecting model: Models/b7ff16/experimental/Session3\\b7ff16_MI_classifier_2019-03-07-09-40-02.sav\n",
      "Selecting model: Models/b7ff16/experimental/Session3\\b7ff16_MI_classifier_TL_2019-03-07-09-40-06.sav\n",
      "Selecting BCI EEG file: SaveData/b7ff16/Session3\\20190228092535_b7ff16_BCI.easy\n",
      "Selecting BCI behavioral file: SaveData/b7ff16/Session3\\BCI_b7ff16_R3.csv\n",
      "Skipping N/A\n"
     ]
    },
    {
     "name": "stderr",
     "output_type": "stream",
     "text": [
      "C:\\Users\\nile\\Anaconda3\\envs\\eeg\\lib\\site-packages\\scipy\\signal\\_arraytools.py:45: FutureWarning: Using a non-tuple sequence for multidimensional indexing is deprecated; use `arr[tuple(seq)]` instead of `arr[seq]`. In the future this will be interpreted as an array index, `arr[np.array(seq)]`, which will result either in an error or a different result.\n",
      "  b = a[a_slice]\n",
      "C:\\Users\\nile\\Anaconda3\\envs\\eeg\\lib\\site-packages\\scipy\\signal\\signaltools.py:3463: FutureWarning: Using a non-tuple sequence for multidimensional indexing is deprecated; use `arr[tuple(seq)]` instead of `arr[seq]`. In the future this will be interpreted as an array index, `arr[np.array(seq)]`, which will result either in an error or a different result.\n",
      "  return y[sl]\n"
     ]
    },
    {
     "name": "stdout",
     "output_type": "stream",
     "text": [
      "Selecting model: Models/b7ff16/experimental/Session3\\b7ff16_MI_classifier_2019-03-07-09-40-09.sav\n",
      "Selecting model: Models/b7ff16/experimental/Session3\\b7ff16_MI_classifier_2019-03-07-09-40-02.sav\n",
      "Selecting model: Models/b7ff16/experimental/Session3\\b7ff16_MI_classifier_TL_2019-03-07-09-40-11.sav\n",
      "Selecting BCI EEG file: SaveData/b7ff16/Session3\\20190228093024_b7ff16_BCI.easy\n",
      "Selecting BCI behavioral file: SaveData/b7ff16/Session3\\BCI_b7ff16_R4.csv\n",
      "Skipping N/A\n"
     ]
    },
    {
     "name": "stderr",
     "output_type": "stream",
     "text": [
      "C:\\Users\\nile\\Anaconda3\\envs\\eeg\\lib\\site-packages\\scipy\\signal\\_arraytools.py:45: FutureWarning: Using a non-tuple sequence for multidimensional indexing is deprecated; use `arr[tuple(seq)]` instead of `arr[seq]`. In the future this will be interpreted as an array index, `arr[np.array(seq)]`, which will result either in an error or a different result.\n",
      "  b = a[a_slice]\n",
      "C:\\Users\\nile\\Anaconda3\\envs\\eeg\\lib\\site-packages\\scipy\\signal\\signaltools.py:3463: FutureWarning: Using a non-tuple sequence for multidimensional indexing is deprecated; use `arr[tuple(seq)]` instead of `arr[seq]`. In the future this will be interpreted as an array index, `arr[np.array(seq)]`, which will result either in an error or a different result.\n",
      "  return y[sl]\n"
     ]
    },
    {
     "name": "stdout",
     "output_type": "stream",
     "text": [
      "Selecting model: Models/b7ff16/experimental/Session3\\b7ff16_MI_classifier_2019-03-07-09-40-13.sav\n",
      "Selecting model: Models/b7ff16/experimental/Session3\\b7ff16_MI_classifier_2019-03-07-09-40-02.sav\n",
      "Selecting model: Models/b7ff16/experimental/Session3\\b7ff16_MI_classifier_TL_2019-03-07-09-40-15.sav\n",
      "Selecting BCI EEG file: SaveData/b7ff16/Session3\\20190228093513_b7ff16_BCI.easy\n",
      "Selecting BCI behavioral file: SaveData/b7ff16/Session3\\BCI_b7ff16_R5.csv\n",
      "Skipping N/A\n"
     ]
    },
    {
     "name": "stderr",
     "output_type": "stream",
     "text": [
      "C:\\Users\\nile\\Anaconda3\\envs\\eeg\\lib\\site-packages\\scipy\\signal\\_arraytools.py:45: FutureWarning: Using a non-tuple sequence for multidimensional indexing is deprecated; use `arr[tuple(seq)]` instead of `arr[seq]`. In the future this will be interpreted as an array index, `arr[np.array(seq)]`, which will result either in an error or a different result.\n",
      "  b = a[a_slice]\n",
      "C:\\Users\\nile\\Anaconda3\\envs\\eeg\\lib\\site-packages\\scipy\\signal\\signaltools.py:3463: FutureWarning: Using a non-tuple sequence for multidimensional indexing is deprecated; use `arr[tuple(seq)]` instead of `arr[seq]`. In the future this will be interpreted as an array index, `arr[np.array(seq)]`, which will result either in an error or a different result.\n",
      "  return y[sl]\n"
     ]
    },
    {
     "name": "stdout",
     "output_type": "stream",
     "text": [
      "Selecting model: Models/b7ff16/experimental/Session3\\b7ff16_MI_classifier_2019-03-07-09-40-17.sav\n",
      "Selecting model: Models/b7ff16/experimental/Session3\\b7ff16_MI_classifier_2019-03-07-09-40-02.sav\n",
      "Selecting model: Models/b7ff16/experimental/Session3\\b7ff16_MI_classifier_TL_2019-03-07-09-40-19.sav\n",
      "Selecting BCI EEG file: SaveData/42feb7/Session1\\20190305133127_42feb7_BCI.easy\n",
      "Selecting BCI behavioral file: SaveData/42feb7/Session1\\BCI_42feb7_R1.csv\n",
      "Skipping N/A\n"
     ]
    },
    {
     "name": "stderr",
     "output_type": "stream",
     "text": [
      "C:\\Users\\nile\\Anaconda3\\envs\\eeg\\lib\\site-packages\\scipy\\signal\\_arraytools.py:45: FutureWarning: Using a non-tuple sequence for multidimensional indexing is deprecated; use `arr[tuple(seq)]` instead of `arr[seq]`. In the future this will be interpreted as an array index, `arr[np.array(seq)]`, which will result either in an error or a different result.\n",
      "  b = a[a_slice]\n",
      "C:\\Users\\nile\\Anaconda3\\envs\\eeg\\lib\\site-packages\\scipy\\signal\\signaltools.py:3463: FutureWarning: Using a non-tuple sequence for multidimensional indexing is deprecated; use `arr[tuple(seq)]` instead of `arr[seq]`. In the future this will be interpreted as an array index, `arr[np.array(seq)]`, which will result either in an error or a different result.\n",
      "  return y[sl]\n"
     ]
    },
    {
     "name": "stdout",
     "output_type": "stream",
     "text": [
      "Selecting model: Models/42feb7/experimental/Session1\\42feb7_MI_classifier_2019-03-15-10-25-19.sav\n",
      "Selecting model: Models/42feb7/experimental/Session1\\42feb7_MI_classifier_2019-03-15-10-25-19.sav\n",
      "Selecting model: Models/42feb7/experimental/Session1\\42feb7_MI_classifier_2019-03-15-10-25-19.sav\n",
      "Selecting BCI EEG file: SaveData/42feb7/Session1\\20190305133646_42feb7_BCI.easy\n",
      "Selecting BCI behavioral file: SaveData/42feb7/Session1\\BCI_42feb7_R2.csv\n",
      "Skipping N/A\n"
     ]
    },
    {
     "name": "stderr",
     "output_type": "stream",
     "text": [
      "C:\\Users\\nile\\Anaconda3\\envs\\eeg\\lib\\site-packages\\scipy\\signal\\_arraytools.py:45: FutureWarning: Using a non-tuple sequence for multidimensional indexing is deprecated; use `arr[tuple(seq)]` instead of `arr[seq]`. In the future this will be interpreted as an array index, `arr[np.array(seq)]`, which will result either in an error or a different result.\n",
      "  b = a[a_slice]\n",
      "C:\\Users\\nile\\Anaconda3\\envs\\eeg\\lib\\site-packages\\scipy\\signal\\signaltools.py:3463: FutureWarning: Using a non-tuple sequence for multidimensional indexing is deprecated; use `arr[tuple(seq)]` instead of `arr[seq]`. In the future this will be interpreted as an array index, `arr[np.array(seq)]`, which will result either in an error or a different result.\n",
      "  return y[sl]\n"
     ]
    },
    {
     "name": "stdout",
     "output_type": "stream",
     "text": [
      "Selecting model: Models/42feb7/experimental/Session1\\42feb7_MI_classifier_2019-03-15-10-25-23.sav\n",
      "Selecting model: Models/42feb7/experimental/Session1\\42feb7_MI_classifier_2019-03-15-10-25-19.sav\n",
      "Selecting model: Models/42feb7/experimental/Session1\\42feb7_MI_classifier_TL_2019-03-15-10-25-24.sav\n",
      "Selecting BCI EEG file: SaveData/42feb7/Session1\\20190305134224_42feb7_BCI.easy\n",
      "Selecting BCI behavioral file: SaveData/42feb7/Session1\\BCI_42feb7_R3.csv\n",
      "Skipping N/A\n"
     ]
    },
    {
     "name": "stderr",
     "output_type": "stream",
     "text": [
      "C:\\Users\\nile\\Anaconda3\\envs\\eeg\\lib\\site-packages\\scipy\\signal\\_arraytools.py:45: FutureWarning: Using a non-tuple sequence for multidimensional indexing is deprecated; use `arr[tuple(seq)]` instead of `arr[seq]`. In the future this will be interpreted as an array index, `arr[np.array(seq)]`, which will result either in an error or a different result.\n",
      "  b = a[a_slice]\n",
      "C:\\Users\\nile\\Anaconda3\\envs\\eeg\\lib\\site-packages\\scipy\\signal\\signaltools.py:3463: FutureWarning: Using a non-tuple sequence for multidimensional indexing is deprecated; use `arr[tuple(seq)]` instead of `arr[seq]`. In the future this will be interpreted as an array index, `arr[np.array(seq)]`, which will result either in an error or a different result.\n",
      "  return y[sl]\n"
     ]
    },
    {
     "name": "stdout",
     "output_type": "stream",
     "text": [
      "Selecting model: Models/42feb7/experimental/Session1\\42feb7_MI_classifier_2019-03-15-10-25-26.sav\n",
      "Selecting model: Models/42feb7/experimental/Session1\\42feb7_MI_classifier_2019-03-15-10-25-19.sav\n",
      "Selecting model: Models/42feb7/experimental/Session1\\42feb7_MI_classifier_TL_2019-03-15-10-25-28.sav\n",
      "Selecting BCI EEG file: SaveData/42feb7/Session1\\20190305134736_42feb7_BCI.easy\n",
      "Selecting BCI behavioral file: SaveData/42feb7/Session1\\BCI_42feb7_R4.csv\n",
      "Skipping N/A\n"
     ]
    },
    {
     "name": "stderr",
     "output_type": "stream",
     "text": [
      "C:\\Users\\nile\\Anaconda3\\envs\\eeg\\lib\\site-packages\\scipy\\signal\\_arraytools.py:45: FutureWarning: Using a non-tuple sequence for multidimensional indexing is deprecated; use `arr[tuple(seq)]` instead of `arr[seq]`. In the future this will be interpreted as an array index, `arr[np.array(seq)]`, which will result either in an error or a different result.\n",
      "  b = a[a_slice]\n",
      "C:\\Users\\nile\\Anaconda3\\envs\\eeg\\lib\\site-packages\\scipy\\signal\\signaltools.py:3463: FutureWarning: Using a non-tuple sequence for multidimensional indexing is deprecated; use `arr[tuple(seq)]` instead of `arr[seq]`. In the future this will be interpreted as an array index, `arr[np.array(seq)]`, which will result either in an error or a different result.\n",
      "  return y[sl]\n"
     ]
    },
    {
     "name": "stdout",
     "output_type": "stream",
     "text": [
      "Selecting model: Models/42feb7/experimental/Session1\\42feb7_MI_classifier_2019-03-15-10-25-31.sav\n",
      "Selecting model: Models/42feb7/experimental/Session1\\42feb7_MI_classifier_2019-03-15-10-25-19.sav\n",
      "Selecting model: Models/42feb7/experimental/Session1\\42feb7_MI_classifier_TL_2019-03-15-10-25-32.sav\n",
      "Selecting BCI EEG file: SaveData/42feb7/Session1\\20190305135304_42feb7_BCI.easy\n",
      "Selecting BCI behavioral file: SaveData/42feb7/Session1\\BCI_42feb7_R5.csv\n",
      "Skipping N/A\n"
     ]
    },
    {
     "name": "stderr",
     "output_type": "stream",
     "text": [
      "C:\\Users\\nile\\Anaconda3\\envs\\eeg\\lib\\site-packages\\scipy\\signal\\_arraytools.py:45: FutureWarning: Using a non-tuple sequence for multidimensional indexing is deprecated; use `arr[tuple(seq)]` instead of `arr[seq]`. In the future this will be interpreted as an array index, `arr[np.array(seq)]`, which will result either in an error or a different result.\n",
      "  b = a[a_slice]\n",
      "C:\\Users\\nile\\Anaconda3\\envs\\eeg\\lib\\site-packages\\scipy\\signal\\signaltools.py:3463: FutureWarning: Using a non-tuple sequence for multidimensional indexing is deprecated; use `arr[tuple(seq)]` instead of `arr[seq]`. In the future this will be interpreted as an array index, `arr[np.array(seq)]`, which will result either in an error or a different result.\n",
      "  return y[sl]\n"
     ]
    },
    {
     "name": "stdout",
     "output_type": "stream",
     "text": [
      "Selecting model: Models/42feb7/experimental/Session1\\42feb7_MI_classifier_2019-03-15-10-25-35.sav\n",
      "Selecting model: Models/42feb7/experimental/Session1\\42feb7_MI_classifier_2019-03-15-10-25-19.sav\n",
      "Selecting model: Models/42feb7/experimental/Session1\\42feb7_MI_classifier_TL_2019-03-15-10-25-36.sav\n",
      "Selecting BCI EEG file: SaveData/42feb7/Session2\\20190308104520_42feb7_BCI.easy\n",
      "Selecting BCI behavioral file: SaveData/42feb7/Session2\\BCI_42feb7_R1.csv\n",
      "Skipping N/A\n"
     ]
    },
    {
     "name": "stderr",
     "output_type": "stream",
     "text": [
      "C:\\Users\\nile\\Anaconda3\\envs\\eeg\\lib\\site-packages\\scipy\\signal\\_arraytools.py:45: FutureWarning: Using a non-tuple sequence for multidimensional indexing is deprecated; use `arr[tuple(seq)]` instead of `arr[seq]`. In the future this will be interpreted as an array index, `arr[np.array(seq)]`, which will result either in an error or a different result.\n",
      "  b = a[a_slice]\n",
      "C:\\Users\\nile\\Anaconda3\\envs\\eeg\\lib\\site-packages\\scipy\\signal\\signaltools.py:3463: FutureWarning: Using a non-tuple sequence for multidimensional indexing is deprecated; use `arr[tuple(seq)]` instead of `arr[seq]`. In the future this will be interpreted as an array index, `arr[np.array(seq)]`, which will result either in an error or a different result.\n",
      "  return y[sl]\n"
     ]
    },
    {
     "name": "stdout",
     "output_type": "stream",
     "text": [
      "Selecting model: Models/42feb7/experimental/Session2\\42feb7_MI_classifier_2019-03-15-10-27-18.sav\n",
      "Selecting model: Models/42feb7/experimental/Session2\\42feb7_MI_classifier_2019-03-15-10-27-18.sav\n",
      "Selecting model: Models/42feb7/experimental/Session2\\42feb7_MI_classifier_2019-03-15-10-27-18.sav\n",
      "Selecting BCI EEG file: SaveData/42feb7/Session2\\20190308105038_42feb7_BCI.easy\n",
      "Selecting BCI behavioral file: SaveData/42feb7/Session2\\BCI_42feb7_R2.csv\n",
      "Skipping N/A\n"
     ]
    },
    {
     "name": "stderr",
     "output_type": "stream",
     "text": [
      "C:\\Users\\nile\\Anaconda3\\envs\\eeg\\lib\\site-packages\\scipy\\signal\\_arraytools.py:45: FutureWarning: Using a non-tuple sequence for multidimensional indexing is deprecated; use `arr[tuple(seq)]` instead of `arr[seq]`. In the future this will be interpreted as an array index, `arr[np.array(seq)]`, which will result either in an error or a different result.\n",
      "  b = a[a_slice]\n",
      "C:\\Users\\nile\\Anaconda3\\envs\\eeg\\lib\\site-packages\\scipy\\signal\\signaltools.py:3463: FutureWarning: Using a non-tuple sequence for multidimensional indexing is deprecated; use `arr[tuple(seq)]` instead of `arr[seq]`. In the future this will be interpreted as an array index, `arr[np.array(seq)]`, which will result either in an error or a different result.\n",
      "  return y[sl]\n"
     ]
    },
    {
     "name": "stdout",
     "output_type": "stream",
     "text": [
      "Selecting model: Models/42feb7/experimental/Session2\\42feb7_MI_classifier_2019-03-15-10-27-22.sav\n",
      "Selecting model: Models/42feb7/experimental/Session2\\42feb7_MI_classifier_2019-03-15-10-27-18.sav\n",
      "Selecting model: Models/42feb7/experimental/Session2\\42feb7_MI_classifier_TL_2019-03-15-10-27-22.sav\n",
      "Selecting BCI EEG file: SaveData/42feb7/Session2\\20190308105545_42feb7_BCI.easy\n",
      "Selecting BCI behavioral file: SaveData/42feb7/Session2\\BCI_42feb7_R3.csv\n",
      "Skipping N/A\n"
     ]
    },
    {
     "name": "stderr",
     "output_type": "stream",
     "text": [
      "C:\\Users\\nile\\Anaconda3\\envs\\eeg\\lib\\site-packages\\scipy\\signal\\_arraytools.py:45: FutureWarning: Using a non-tuple sequence for multidimensional indexing is deprecated; use `arr[tuple(seq)]` instead of `arr[seq]`. In the future this will be interpreted as an array index, `arr[np.array(seq)]`, which will result either in an error or a different result.\n",
      "  b = a[a_slice]\n",
      "C:\\Users\\nile\\Anaconda3\\envs\\eeg\\lib\\site-packages\\scipy\\signal\\signaltools.py:3463: FutureWarning: Using a non-tuple sequence for multidimensional indexing is deprecated; use `arr[tuple(seq)]` instead of `arr[seq]`. In the future this will be interpreted as an array index, `arr[np.array(seq)]`, which will result either in an error or a different result.\n",
      "  return y[sl]\n"
     ]
    },
    {
     "name": "stdout",
     "output_type": "stream",
     "text": [
      "Selecting model: Models/42feb7/experimental/Session2\\42feb7_MI_classifier_2019-03-15-10-27-25.sav\n",
      "Selecting model: Models/42feb7/experimental/Session2\\42feb7_MI_classifier_2019-03-15-10-27-18.sav\n",
      "Selecting model: Models/42feb7/experimental/Session2\\42feb7_MI_classifier_TL_2019-03-15-10-27-26.sav\n",
      "Selecting BCI EEG file: SaveData/42feb7/Session2\\20190308110050_42feb7_BCI.easy\n",
      "Selecting BCI behavioral file: SaveData/42feb7/Session2\\BCI_42feb7_R4.csv\n",
      "Skipping N/A\n"
     ]
    },
    {
     "name": "stderr",
     "output_type": "stream",
     "text": [
      "C:\\Users\\nile\\Anaconda3\\envs\\eeg\\lib\\site-packages\\scipy\\signal\\_arraytools.py:45: FutureWarning: Using a non-tuple sequence for multidimensional indexing is deprecated; use `arr[tuple(seq)]` instead of `arr[seq]`. In the future this will be interpreted as an array index, `arr[np.array(seq)]`, which will result either in an error or a different result.\n",
      "  b = a[a_slice]\n",
      "C:\\Users\\nile\\Anaconda3\\envs\\eeg\\lib\\site-packages\\scipy\\signal\\signaltools.py:3463: FutureWarning: Using a non-tuple sequence for multidimensional indexing is deprecated; use `arr[tuple(seq)]` instead of `arr[seq]`. In the future this will be interpreted as an array index, `arr[np.array(seq)]`, which will result either in an error or a different result.\n",
      "  return y[sl]\n"
     ]
    },
    {
     "name": "stdout",
     "output_type": "stream",
     "text": [
      "Selecting model: Models/42feb7/experimental/Session2\\42feb7_MI_classifier_2019-03-15-10-27-29.sav\n",
      "Selecting model: Models/42feb7/experimental/Session2\\42feb7_MI_classifier_2019-03-15-10-27-18.sav\n",
      "Selecting model: Models/42feb7/experimental/Session2\\42feb7_MI_classifier_TL_2019-03-15-10-27-31.sav\n",
      "Selecting BCI EEG file: SaveData/42feb7/Session2\\20190308110621_42feb7_BCI.easy\n",
      "Selecting BCI behavioral file: SaveData/42feb7/Session2\\BCI_42feb7_R5.csv\n",
      "Skipping N/A\n"
     ]
    },
    {
     "name": "stderr",
     "output_type": "stream",
     "text": [
      "C:\\Users\\nile\\Anaconda3\\envs\\eeg\\lib\\site-packages\\scipy\\signal\\_arraytools.py:45: FutureWarning: Using a non-tuple sequence for multidimensional indexing is deprecated; use `arr[tuple(seq)]` instead of `arr[seq]`. In the future this will be interpreted as an array index, `arr[np.array(seq)]`, which will result either in an error or a different result.\n",
      "  b = a[a_slice]\n",
      "C:\\Users\\nile\\Anaconda3\\envs\\eeg\\lib\\site-packages\\scipy\\signal\\signaltools.py:3463: FutureWarning: Using a non-tuple sequence for multidimensional indexing is deprecated; use `arr[tuple(seq)]` instead of `arr[seq]`. In the future this will be interpreted as an array index, `arr[np.array(seq)]`, which will result either in an error or a different result.\n",
      "  return y[sl]\n"
     ]
    },
    {
     "name": "stdout",
     "output_type": "stream",
     "text": [
      "Selecting model: Models/42feb7/experimental/Session2\\42feb7_MI_classifier_2019-03-15-10-27-34.sav\n",
      "Selecting model: Models/42feb7/experimental/Session2\\42feb7_MI_classifier_2019-03-15-10-27-18.sav\n",
      "Selecting model: Models/42feb7/experimental/Session2\\42feb7_MI_classifier_TL_2019-03-15-10-27-35.sav\n",
      "Selecting BCI EEG file: SaveData/42feb7/Session3\\20190312132405_42feb7_BCI.easy\n",
      "Selecting BCI behavioral file: SaveData/42feb7/Session3\\BCI_42feb7_R1.csv\n",
      "Skipping N/A\n"
     ]
    },
    {
     "name": "stderr",
     "output_type": "stream",
     "text": [
      "C:\\Users\\nile\\Anaconda3\\envs\\eeg\\lib\\site-packages\\scipy\\signal\\_arraytools.py:45: FutureWarning: Using a non-tuple sequence for multidimensional indexing is deprecated; use `arr[tuple(seq)]` instead of `arr[seq]`. In the future this will be interpreted as an array index, `arr[np.array(seq)]`, which will result either in an error or a different result.\n",
      "  b = a[a_slice]\n",
      "C:\\Users\\nile\\Anaconda3\\envs\\eeg\\lib\\site-packages\\scipy\\signal\\signaltools.py:3463: FutureWarning: Using a non-tuple sequence for multidimensional indexing is deprecated; use `arr[tuple(seq)]` instead of `arr[seq]`. In the future this will be interpreted as an array index, `arr[np.array(seq)]`, which will result either in an error or a different result.\n",
      "  return y[sl]\n"
     ]
    },
    {
     "name": "stdout",
     "output_type": "stream",
     "text": [
      "Selecting model: Models/42feb7/experimental/Session3\\42feb7_MI_classifier_2019-03-15-10-29-05.sav\n",
      "Selecting model: Models/42feb7/experimental/Session3\\42feb7_MI_classifier_2019-03-15-10-29-05.sav\n",
      "Selecting model: Models/42feb7/experimental/Session3\\42feb7_MI_classifier_2019-03-15-10-29-05.sav\n",
      "Selecting BCI EEG file: SaveData/42feb7/Session3\\20190312132857_42feb7_BCI.easy\n",
      "Selecting BCI behavioral file: SaveData/42feb7/Session3\\BCI_42feb7_R2.csv\n",
      "Skipping N/A\n"
     ]
    },
    {
     "name": "stderr",
     "output_type": "stream",
     "text": [
      "C:\\Users\\nile\\Anaconda3\\envs\\eeg\\lib\\site-packages\\scipy\\signal\\_arraytools.py:45: FutureWarning: Using a non-tuple sequence for multidimensional indexing is deprecated; use `arr[tuple(seq)]` instead of `arr[seq]`. In the future this will be interpreted as an array index, `arr[np.array(seq)]`, which will result either in an error or a different result.\n",
      "  b = a[a_slice]\n",
      "C:\\Users\\nile\\Anaconda3\\envs\\eeg\\lib\\site-packages\\scipy\\signal\\signaltools.py:3463: FutureWarning: Using a non-tuple sequence for multidimensional indexing is deprecated; use `arr[tuple(seq)]` instead of `arr[seq]`. In the future this will be interpreted as an array index, `arr[np.array(seq)]`, which will result either in an error or a different result.\n",
      "  return y[sl]\n"
     ]
    },
    {
     "name": "stdout",
     "output_type": "stream",
     "text": [
      "Selecting model: Models/42feb7/experimental/Session3\\42feb7_MI_classifier_2019-03-15-10-29-08.sav\n",
      "Selecting model: Models/42feb7/experimental/Session3\\42feb7_MI_classifier_2019-03-15-10-29-05.sav\n",
      "Selecting model: Models/42feb7/experimental/Session3\\42feb7_MI_classifier_TL_2019-03-15-10-29-09.sav\n",
      "Selecting BCI EEG file: SaveData/42feb7/Session3\\20190312133352_42feb7_BCI.easy\n",
      "Selecting BCI behavioral file: SaveData/42feb7/Session3\\BCI_42feb7_R3.csv\n",
      "Skipping N/A\n"
     ]
    },
    {
     "name": "stderr",
     "output_type": "stream",
     "text": [
      "C:\\Users\\nile\\Anaconda3\\envs\\eeg\\lib\\site-packages\\scipy\\signal\\_arraytools.py:45: FutureWarning: Using a non-tuple sequence for multidimensional indexing is deprecated; use `arr[tuple(seq)]` instead of `arr[seq]`. In the future this will be interpreted as an array index, `arr[np.array(seq)]`, which will result either in an error or a different result.\n",
      "  b = a[a_slice]\n",
      "C:\\Users\\nile\\Anaconda3\\envs\\eeg\\lib\\site-packages\\scipy\\signal\\signaltools.py:3463: FutureWarning: Using a non-tuple sequence for multidimensional indexing is deprecated; use `arr[tuple(seq)]` instead of `arr[seq]`. In the future this will be interpreted as an array index, `arr[np.array(seq)]`, which will result either in an error or a different result.\n",
      "  return y[sl]\n"
     ]
    },
    {
     "name": "stdout",
     "output_type": "stream",
     "text": [
      "Selecting model: Models/42feb7/experimental/Session3\\42feb7_MI_classifier_2019-03-15-10-29-11.sav\n",
      "Selecting model: Models/42feb7/experimental/Session3\\42feb7_MI_classifier_2019-03-15-10-29-05.sav\n",
      "Selecting model: Models/42feb7/experimental/Session3\\42feb7_MI_classifier_TL_2019-03-15-10-29-13.sav\n",
      "Selecting BCI EEG file: SaveData/42feb7/Session3\\20190312133859_42feb7_BCI.easy\n",
      "Selecting BCI behavioral file: SaveData/42feb7/Session3\\BCI_42feb7_R4.csv\n",
      "Skipping N/A\n"
     ]
    },
    {
     "name": "stderr",
     "output_type": "stream",
     "text": [
      "C:\\Users\\nile\\Anaconda3\\envs\\eeg\\lib\\site-packages\\scipy\\signal\\_arraytools.py:45: FutureWarning: Using a non-tuple sequence for multidimensional indexing is deprecated; use `arr[tuple(seq)]` instead of `arr[seq]`. In the future this will be interpreted as an array index, `arr[np.array(seq)]`, which will result either in an error or a different result.\n",
      "  b = a[a_slice]\n",
      "C:\\Users\\nile\\Anaconda3\\envs\\eeg\\lib\\site-packages\\scipy\\signal\\signaltools.py:3463: FutureWarning: Using a non-tuple sequence for multidimensional indexing is deprecated; use `arr[tuple(seq)]` instead of `arr[seq]`. In the future this will be interpreted as an array index, `arr[np.array(seq)]`, which will result either in an error or a different result.\n",
      "  return y[sl]\n"
     ]
    },
    {
     "name": "stdout",
     "output_type": "stream",
     "text": [
      "Selecting model: Models/42feb7/experimental/Session3\\42feb7_MI_classifier_2019-03-15-10-29-15.sav\n",
      "Selecting model: Models/42feb7/experimental/Session3\\42feb7_MI_classifier_2019-03-15-10-29-05.sav\n",
      "Selecting model: Models/42feb7/experimental/Session3\\42feb7_MI_classifier_TL_2019-03-15-10-29-17.sav\n",
      "Selecting BCI EEG file: SaveData/42feb7/Session3\\20190312134404_42feb7_BCI.easy\n",
      "Selecting BCI behavioral file: SaveData/42feb7/Session3\\BCI_42feb7_R5.csv\n",
      "Skipping N/A\n"
     ]
    },
    {
     "name": "stderr",
     "output_type": "stream",
     "text": [
      "C:\\Users\\nile\\Anaconda3\\envs\\eeg\\lib\\site-packages\\scipy\\signal\\_arraytools.py:45: FutureWarning: Using a non-tuple sequence for multidimensional indexing is deprecated; use `arr[tuple(seq)]` instead of `arr[seq]`. In the future this will be interpreted as an array index, `arr[np.array(seq)]`, which will result either in an error or a different result.\n",
      "  b = a[a_slice]\n",
      "C:\\Users\\nile\\Anaconda3\\envs\\eeg\\lib\\site-packages\\scipy\\signal\\signaltools.py:3463: FutureWarning: Using a non-tuple sequence for multidimensional indexing is deprecated; use `arr[tuple(seq)]` instead of `arr[seq]`. In the future this will be interpreted as an array index, `arr[np.array(seq)]`, which will result either in an error or a different result.\n",
      "  return y[sl]\n"
     ]
    },
    {
     "name": "stdout",
     "output_type": "stream",
     "text": [
      "Selecting model: Models/42feb7/experimental/Session3\\42feb7_MI_classifier_2019-03-15-10-29-20.sav\n",
      "Selecting model: Models/42feb7/experimental/Session3\\42feb7_MI_classifier_2019-03-15-10-29-05.sav\n",
      "Selecting model: Models/42feb7/experimental/Session3\\42feb7_MI_classifier_TL_2019-03-15-10-29-21.sav\n",
      "Selecting BCI EEG file: SaveData/9d4921/Session1\\20190219150337_9d4921_BCI.easy\n",
      "Selecting BCI behavioral file: SaveData/9d4921/Session1\\BCI_9d4921_R1.csv\n",
      "Skipping N/A\n"
     ]
    },
    {
     "name": "stderr",
     "output_type": "stream",
     "text": [
      "C:\\Users\\nile\\Anaconda3\\envs\\eeg\\lib\\site-packages\\scipy\\signal\\_arraytools.py:45: FutureWarning: Using a non-tuple sequence for multidimensional indexing is deprecated; use `arr[tuple(seq)]` instead of `arr[seq]`. In the future this will be interpreted as an array index, `arr[np.array(seq)]`, which will result either in an error or a different result.\n",
      "  b = a[a_slice]\n",
      "C:\\Users\\nile\\Anaconda3\\envs\\eeg\\lib\\site-packages\\scipy\\signal\\signaltools.py:3463: FutureWarning: Using a non-tuple sequence for multidimensional indexing is deprecated; use `arr[tuple(seq)]` instead of `arr[seq]`. In the future this will be interpreted as an array index, `arr[np.array(seq)]`, which will result either in an error or a different result.\n",
      "  return y[sl]\n"
     ]
    },
    {
     "name": "stdout",
     "output_type": "stream",
     "text": [
      "Selecting model: Models/9d4921/experimental/Session1\\9d4921_MI_classifier_2019-03-22-12-27-44.sav\n",
      "Selecting model: Models/9d4921/experimental/Session1\\9d4921_MI_classifier_2019-03-22-12-27-44.sav\n",
      "Selecting model: Models/9d4921/experimental/Session1\\9d4921_MI_classifier_2019-03-22-12-27-44.sav\n",
      "Selecting BCI EEG file: SaveData/9d4921/Session1\\20190219150853_9d4921_BCI.easy\n",
      "Selecting BCI behavioral file: SaveData/9d4921/Session1\\BCI_9d4921_R2.csv\n",
      "Skipping N/A\n"
     ]
    },
    {
     "name": "stderr",
     "output_type": "stream",
     "text": [
      "C:\\Users\\nile\\Anaconda3\\envs\\eeg\\lib\\site-packages\\scipy\\signal\\_arraytools.py:45: FutureWarning: Using a non-tuple sequence for multidimensional indexing is deprecated; use `arr[tuple(seq)]` instead of `arr[seq]`. In the future this will be interpreted as an array index, `arr[np.array(seq)]`, which will result either in an error or a different result.\n",
      "  b = a[a_slice]\n",
      "C:\\Users\\nile\\Anaconda3\\envs\\eeg\\lib\\site-packages\\scipy\\signal\\signaltools.py:3463: FutureWarning: Using a non-tuple sequence for multidimensional indexing is deprecated; use `arr[tuple(seq)]` instead of `arr[seq]`. In the future this will be interpreted as an array index, `arr[np.array(seq)]`, which will result either in an error or a different result.\n",
      "  return y[sl]\n"
     ]
    },
    {
     "name": "stdout",
     "output_type": "stream",
     "text": [
      "Selecting model: Models/9d4921/experimental/Session1\\9d4921_MI_classifier_2019-03-22-12-27-48.sav\n",
      "Selecting model: Models/9d4921/experimental/Session1\\9d4921_MI_classifier_2019-03-22-12-27-44.sav\n",
      "Selecting model: Models/9d4921/experimental/Session1\\9d4921_MI_classifier_TL_2019-03-22-12-27-48.sav\n",
      "Selecting BCI EEG file: SaveData/9d4921/Session1\\20190219151351_9d4921_BCI.easy\n",
      "Selecting BCI behavioral file: SaveData/9d4921/Session1\\BCI_9d4921_R3.csv\n",
      "Skipping N/A\n"
     ]
    },
    {
     "name": "stderr",
     "output_type": "stream",
     "text": [
      "C:\\Users\\nile\\Anaconda3\\envs\\eeg\\lib\\site-packages\\scipy\\signal\\_arraytools.py:45: FutureWarning: Using a non-tuple sequence for multidimensional indexing is deprecated; use `arr[tuple(seq)]` instead of `arr[seq]`. In the future this will be interpreted as an array index, `arr[np.array(seq)]`, which will result either in an error or a different result.\n",
      "  b = a[a_slice]\n",
      "C:\\Users\\nile\\Anaconda3\\envs\\eeg\\lib\\site-packages\\scipy\\signal\\signaltools.py:3463: FutureWarning: Using a non-tuple sequence for multidimensional indexing is deprecated; use `arr[tuple(seq)]` instead of `arr[seq]`. In the future this will be interpreted as an array index, `arr[np.array(seq)]`, which will result either in an error or a different result.\n",
      "  return y[sl]\n"
     ]
    },
    {
     "name": "stdout",
     "output_type": "stream",
     "text": [
      "Selecting model: Models/9d4921/experimental/Session1\\9d4921_MI_classifier_2019-03-22-12-27-51.sav\n",
      "Selecting model: Models/9d4921/experimental/Session1\\9d4921_MI_classifier_2019-03-22-12-27-44.sav\n",
      "Selecting model: Models/9d4921/experimental/Session1\\9d4921_MI_classifier_TL_2019-03-22-12-27-52.sav\n",
      "Selecting BCI EEG file: SaveData/9d4921/Session1\\20190219151917_9d4921_BCI.easy\n",
      "Selecting BCI behavioral file: SaveData/9d4921/Session1\\BCI_9d4921_R4.csv\n",
      "Skipping N/A\n"
     ]
    },
    {
     "name": "stderr",
     "output_type": "stream",
     "text": [
      "C:\\Users\\nile\\Anaconda3\\envs\\eeg\\lib\\site-packages\\scipy\\signal\\_arraytools.py:45: FutureWarning: Using a non-tuple sequence for multidimensional indexing is deprecated; use `arr[tuple(seq)]` instead of `arr[seq]`. In the future this will be interpreted as an array index, `arr[np.array(seq)]`, which will result either in an error or a different result.\n",
      "  b = a[a_slice]\n",
      "C:\\Users\\nile\\Anaconda3\\envs\\eeg\\lib\\site-packages\\scipy\\signal\\signaltools.py:3463: FutureWarning: Using a non-tuple sequence for multidimensional indexing is deprecated; use `arr[tuple(seq)]` instead of `arr[seq]`. In the future this will be interpreted as an array index, `arr[np.array(seq)]`, which will result either in an error or a different result.\n",
      "  return y[sl]\n"
     ]
    },
    {
     "name": "stdout",
     "output_type": "stream",
     "text": [
      "Selecting model: Models/9d4921/experimental/Session1\\9d4921_MI_classifier_2019-03-22-12-27-55.sav\n",
      "Selecting model: Models/9d4921/experimental/Session1\\9d4921_MI_classifier_2019-03-22-12-27-44.sav\n",
      "Selecting model: Models/9d4921/experimental/Session1\\9d4921_MI_classifier_TL_2019-03-22-12-27-57.sav\n",
      "Selecting BCI EEG file: SaveData/9d4921/Session1\\20190219152428_9d4921_BCI.easy\n",
      "Selecting BCI behavioral file: SaveData/9d4921/Session1\\BCI_9d4921_R5.csv\n",
      "Skipping N/A\n"
     ]
    },
    {
     "name": "stderr",
     "output_type": "stream",
     "text": [
      "C:\\Users\\nile\\Anaconda3\\envs\\eeg\\lib\\site-packages\\scipy\\signal\\_arraytools.py:45: FutureWarning: Using a non-tuple sequence for multidimensional indexing is deprecated; use `arr[tuple(seq)]` instead of `arr[seq]`. In the future this will be interpreted as an array index, `arr[np.array(seq)]`, which will result either in an error or a different result.\n",
      "  b = a[a_slice]\n",
      "C:\\Users\\nile\\Anaconda3\\envs\\eeg\\lib\\site-packages\\scipy\\signal\\signaltools.py:3463: FutureWarning: Using a non-tuple sequence for multidimensional indexing is deprecated; use `arr[tuple(seq)]` instead of `arr[seq]`. In the future this will be interpreted as an array index, `arr[np.array(seq)]`, which will result either in an error or a different result.\n",
      "  return y[sl]\n"
     ]
    },
    {
     "name": "stdout",
     "output_type": "stream",
     "text": [
      "Selecting model: Models/9d4921/experimental/Session1\\9d4921_MI_classifier_2019-03-22-12-27-59.sav\n",
      "Selecting model: Models/9d4921/experimental/Session1\\9d4921_MI_classifier_2019-03-22-12-27-44.sav\n",
      "Selecting model: Models/9d4921/experimental/Session1\\9d4921_MI_classifier_TL_2019-03-22-12-28-01.sav\n",
      "Selecting BCI EEG file: SaveData/9d4921/Session2\\20190305144409_9d4921_BCI.easy\n",
      "Selecting BCI behavioral file: SaveData/9d4921/Session2\\BCI_9d4921_R1.csv\n",
      "Skipping N/A\n"
     ]
    },
    {
     "name": "stderr",
     "output_type": "stream",
     "text": [
      "C:\\Users\\nile\\Anaconda3\\envs\\eeg\\lib\\site-packages\\scipy\\signal\\_arraytools.py:45: FutureWarning: Using a non-tuple sequence for multidimensional indexing is deprecated; use `arr[tuple(seq)]` instead of `arr[seq]`. In the future this will be interpreted as an array index, `arr[np.array(seq)]`, which will result either in an error or a different result.\n",
      "  b = a[a_slice]\n",
      "C:\\Users\\nile\\Anaconda3\\envs\\eeg\\lib\\site-packages\\scipy\\signal\\signaltools.py:3463: FutureWarning: Using a non-tuple sequence for multidimensional indexing is deprecated; use `arr[tuple(seq)]` instead of `arr[seq]`. In the future this will be interpreted as an array index, `arr[np.array(seq)]`, which will result either in an error or a different result.\n",
      "  return y[sl]\n"
     ]
    },
    {
     "name": "stdout",
     "output_type": "stream",
     "text": [
      "Selecting model: Models/9d4921/experimental/Session2\\9d4921_MI_classifier_2019-03-06-13-43-24.sav\n",
      "Selecting model: Models/9d4921/experimental/Session2\\9d4921_MI_classifier_2019-03-06-13-43-24.sav\n",
      "Selecting model: Models/9d4921/experimental/Session2\\9d4921_MI_classifier_2019-03-06-13-43-24.sav\n",
      "Selecting BCI EEG file: SaveData/9d4921/Session2\\20190305145005_9d4921_BCI.easy\n",
      "Selecting BCI behavioral file: SaveData/9d4921/Session2\\BCI_9d4921_R2.csv\n",
      "Skipping N/A\n"
     ]
    },
    {
     "name": "stderr",
     "output_type": "stream",
     "text": [
      "C:\\Users\\nile\\Anaconda3\\envs\\eeg\\lib\\site-packages\\scipy\\signal\\_arraytools.py:45: FutureWarning: Using a non-tuple sequence for multidimensional indexing is deprecated; use `arr[tuple(seq)]` instead of `arr[seq]`. In the future this will be interpreted as an array index, `arr[np.array(seq)]`, which will result either in an error or a different result.\n",
      "  b = a[a_slice]\n",
      "C:\\Users\\nile\\Anaconda3\\envs\\eeg\\lib\\site-packages\\scipy\\signal\\signaltools.py:3463: FutureWarning: Using a non-tuple sequence for multidimensional indexing is deprecated; use `arr[tuple(seq)]` instead of `arr[seq]`. In the future this will be interpreted as an array index, `arr[np.array(seq)]`, which will result either in an error or a different result.\n",
      "  return y[sl]\n"
     ]
    },
    {
     "name": "stdout",
     "output_type": "stream",
     "text": [
      "Selecting model: Models/9d4921/experimental/Session2\\9d4921_MI_classifier_2019-03-06-13-50-29.sav\n",
      "Selecting model: Models/9d4921/experimental/Session2\\9d4921_MI_classifier_2019-03-06-13-43-24.sav\n",
      "Selecting model: Models/9d4921/experimental/Session2\\9d4921_MI_classifier_TL_2019-03-06-13-50-30.sav\n",
      "Selecting BCI EEG file: SaveData/9d4921/Session2\\20190305145534_9d4921_BCI.easy\n",
      "Selecting BCI behavioral file: SaveData/9d4921/Session2\\BCI_9d4921_R3.csv\n",
      "Skipping N/A\n"
     ]
    },
    {
     "name": "stderr",
     "output_type": "stream",
     "text": [
      "C:\\Users\\nile\\Anaconda3\\envs\\eeg\\lib\\site-packages\\scipy\\signal\\_arraytools.py:45: FutureWarning: Using a non-tuple sequence for multidimensional indexing is deprecated; use `arr[tuple(seq)]` instead of `arr[seq]`. In the future this will be interpreted as an array index, `arr[np.array(seq)]`, which will result either in an error or a different result.\n",
      "  b = a[a_slice]\n",
      "C:\\Users\\nile\\Anaconda3\\envs\\eeg\\lib\\site-packages\\scipy\\signal\\signaltools.py:3463: FutureWarning: Using a non-tuple sequence for multidimensional indexing is deprecated; use `arr[tuple(seq)]` instead of `arr[seq]`. In the future this will be interpreted as an array index, `arr[np.array(seq)]`, which will result either in an error or a different result.\n",
      "  return y[sl]\n"
     ]
    },
    {
     "name": "stdout",
     "output_type": "stream",
     "text": [
      "Selecting model: Models/9d4921/experimental/Session2\\9d4921_MI_classifier_2019-03-06-13-50-32.sav\n",
      "Selecting model: Models/9d4921/experimental/Session2\\9d4921_MI_classifier_2019-03-06-13-43-24.sav\n",
      "Selecting model: Models/9d4921/experimental/Session2\\9d4921_MI_classifier_TL_2019-03-06-13-50-33.sav\n",
      "Selecting BCI EEG file: SaveData/9d4921/Session2\\20190305150100_9d4921_BCI.easy\n",
      "Selecting BCI behavioral file: SaveData/9d4921/Session2\\BCI_9d4921_R4.csv\n",
      "Skipping N/A\n"
     ]
    },
    {
     "name": "stderr",
     "output_type": "stream",
     "text": [
      "C:\\Users\\nile\\Anaconda3\\envs\\eeg\\lib\\site-packages\\scipy\\signal\\_arraytools.py:45: FutureWarning: Using a non-tuple sequence for multidimensional indexing is deprecated; use `arr[tuple(seq)]` instead of `arr[seq]`. In the future this will be interpreted as an array index, `arr[np.array(seq)]`, which will result either in an error or a different result.\n",
      "  b = a[a_slice]\n",
      "C:\\Users\\nile\\Anaconda3\\envs\\eeg\\lib\\site-packages\\scipy\\signal\\signaltools.py:3463: FutureWarning: Using a non-tuple sequence for multidimensional indexing is deprecated; use `arr[tuple(seq)]` instead of `arr[seq]`. In the future this will be interpreted as an array index, `arr[np.array(seq)]`, which will result either in an error or a different result.\n",
      "  return y[sl]\n"
     ]
    },
    {
     "name": "stdout",
     "output_type": "stream",
     "text": [
      "Selecting model: Models/9d4921/experimental/Session2\\9d4921_MI_classifier_2019-03-06-13-50-36.sav\n",
      "Selecting model: Models/9d4921/experimental/Session2\\9d4921_MI_classifier_2019-03-06-13-43-24.sav\n",
      "Selecting model: Models/9d4921/experimental/Session2\\9d4921_MI_classifier_TL_2019-03-06-13-50-37.sav\n",
      "Selecting BCI EEG file: SaveData/9d4921/Session2\\20190305150623_9d4921_BCI.easy\n",
      "Selecting BCI behavioral file: SaveData/9d4921/Session2\\BCI_9d4921_R5.csv\n",
      "Skipping N/A\n"
     ]
    },
    {
     "name": "stderr",
     "output_type": "stream",
     "text": [
      "C:\\Users\\nile\\Anaconda3\\envs\\eeg\\lib\\site-packages\\scipy\\signal\\_arraytools.py:45: FutureWarning: Using a non-tuple sequence for multidimensional indexing is deprecated; use `arr[tuple(seq)]` instead of `arr[seq]`. In the future this will be interpreted as an array index, `arr[np.array(seq)]`, which will result either in an error or a different result.\n",
      "  b = a[a_slice]\n",
      "C:\\Users\\nile\\Anaconda3\\envs\\eeg\\lib\\site-packages\\scipy\\signal\\signaltools.py:3463: FutureWarning: Using a non-tuple sequence for multidimensional indexing is deprecated; use `arr[tuple(seq)]` instead of `arr[seq]`. In the future this will be interpreted as an array index, `arr[np.array(seq)]`, which will result either in an error or a different result.\n",
      "  return y[sl]\n"
     ]
    },
    {
     "name": "stdout",
     "output_type": "stream",
     "text": [
      "Selecting model: Models/9d4921/experimental/Session2\\9d4921_MI_classifier_2019-03-06-13-50-40.sav\n",
      "Selecting model: Models/9d4921/experimental/Session2\\9d4921_MI_classifier_2019-03-06-13-43-24.sav\n",
      "Selecting model: Models/9d4921/experimental/Session2\\9d4921_MI_classifier_TL_2019-03-06-13-50-42.sav\n",
      "Selecting BCI EEG file: SaveData/9d4921/Session3\\20190307144119_9d4921_BCI.easy\n",
      "Selecting BCI behavioral file: SaveData/9d4921/Session3\\BCI_9d4921_R1.csv\n",
      "Skipping N/A\n"
     ]
    },
    {
     "name": "stderr",
     "output_type": "stream",
     "text": [
      "C:\\Users\\nile\\Anaconda3\\envs\\eeg\\lib\\site-packages\\scipy\\signal\\_arraytools.py:45: FutureWarning: Using a non-tuple sequence for multidimensional indexing is deprecated; use `arr[tuple(seq)]` instead of `arr[seq]`. In the future this will be interpreted as an array index, `arr[np.array(seq)]`, which will result either in an error or a different result.\n",
      "  b = a[a_slice]\n",
      "C:\\Users\\nile\\Anaconda3\\envs\\eeg\\lib\\site-packages\\scipy\\signal\\signaltools.py:3463: FutureWarning: Using a non-tuple sequence for multidimensional indexing is deprecated; use `arr[tuple(seq)]` instead of `arr[seq]`. In the future this will be interpreted as an array index, `arr[np.array(seq)]`, which will result either in an error or a different result.\n",
      "  return y[sl]\n"
     ]
    },
    {
     "name": "stdout",
     "output_type": "stream",
     "text": [
      "Selecting model: Models/9d4921/experimental/Session3\\9d4921_MI_classifier_2019-03-22-12-31-11.sav\n",
      "Selecting model: Models/9d4921/experimental/Session3\\9d4921_MI_classifier_2019-03-22-12-31-11.sav\n",
      "Selecting model: Models/9d4921/experimental/Session3\\9d4921_MI_classifier_2019-03-22-12-31-11.sav\n",
      "Selecting BCI EEG file: SaveData/9d4921/Session3\\20190307144702_9d4921_BCI.easy\n",
      "Selecting BCI behavioral file: SaveData/9d4921/Session3\\BCI_9d4921_R2.csv\n",
      "Skipping N/A\n"
     ]
    },
    {
     "name": "stderr",
     "output_type": "stream",
     "text": [
      "C:\\Users\\nile\\Anaconda3\\envs\\eeg\\lib\\site-packages\\scipy\\signal\\_arraytools.py:45: FutureWarning: Using a non-tuple sequence for multidimensional indexing is deprecated; use `arr[tuple(seq)]` instead of `arr[seq]`. In the future this will be interpreted as an array index, `arr[np.array(seq)]`, which will result either in an error or a different result.\n",
      "  b = a[a_slice]\n",
      "C:\\Users\\nile\\Anaconda3\\envs\\eeg\\lib\\site-packages\\scipy\\signal\\signaltools.py:3463: FutureWarning: Using a non-tuple sequence for multidimensional indexing is deprecated; use `arr[tuple(seq)]` instead of `arr[seq]`. In the future this will be interpreted as an array index, `arr[np.array(seq)]`, which will result either in an error or a different result.\n",
      "  return y[sl]\n"
     ]
    },
    {
     "name": "stdout",
     "output_type": "stream",
     "text": [
      "Selecting model: Models/9d4921/experimental/Session3\\9d4921_MI_classifier_2019-03-22-12-31-15.sav\n",
      "Selecting model: Models/9d4921/experimental/Session3\\9d4921_MI_classifier_2019-03-22-12-31-11.sav\n",
      "Selecting model: Models/9d4921/experimental/Session3\\9d4921_MI_classifier_TL_2019-03-22-12-31-15.sav\n",
      "Selecting BCI EEG file: SaveData/9d4921/Session3\\20190307145323_9d4921_BCI.easy\n",
      "Selecting BCI behavioral file: SaveData/9d4921/Session3\\BCI_9d4921_R3.csv\n",
      "Skipping N/A\n"
     ]
    },
    {
     "name": "stderr",
     "output_type": "stream",
     "text": [
      "C:\\Users\\nile\\Anaconda3\\envs\\eeg\\lib\\site-packages\\scipy\\signal\\_arraytools.py:45: FutureWarning: Using a non-tuple sequence for multidimensional indexing is deprecated; use `arr[tuple(seq)]` instead of `arr[seq]`. In the future this will be interpreted as an array index, `arr[np.array(seq)]`, which will result either in an error or a different result.\n",
      "  b = a[a_slice]\n",
      "C:\\Users\\nile\\Anaconda3\\envs\\eeg\\lib\\site-packages\\scipy\\signal\\signaltools.py:3463: FutureWarning: Using a non-tuple sequence for multidimensional indexing is deprecated; use `arr[tuple(seq)]` instead of `arr[seq]`. In the future this will be interpreted as an array index, `arr[np.array(seq)]`, which will result either in an error or a different result.\n",
      "  return y[sl]\n"
     ]
    },
    {
     "name": "stdout",
     "output_type": "stream",
     "text": [
      "Selecting model: Models/9d4921/experimental/Session3\\9d4921_MI_classifier_2019-03-22-12-31-18.sav\n",
      "Selecting model: Models/9d4921/experimental/Session3\\9d4921_MI_classifier_2019-03-22-12-31-11.sav\n",
      "Selecting model: Models/9d4921/experimental/Session3\\9d4921_MI_classifier_TL_2019-03-22-12-31-19.sav\n",
      "Selecting BCI EEG file: SaveData/9d4921/Session3\\20190307145915_9d4921_BCI.easy\n",
      "Selecting BCI behavioral file: SaveData/9d4921/Session3\\BCI_9d4921_R4.csv\n",
      "Skipping N/A\n"
     ]
    },
    {
     "name": "stderr",
     "output_type": "stream",
     "text": [
      "C:\\Users\\nile\\Anaconda3\\envs\\eeg\\lib\\site-packages\\scipy\\signal\\_arraytools.py:45: FutureWarning: Using a non-tuple sequence for multidimensional indexing is deprecated; use `arr[tuple(seq)]` instead of `arr[seq]`. In the future this will be interpreted as an array index, `arr[np.array(seq)]`, which will result either in an error or a different result.\n",
      "  b = a[a_slice]\n",
      "C:\\Users\\nile\\Anaconda3\\envs\\eeg\\lib\\site-packages\\scipy\\signal\\signaltools.py:3463: FutureWarning: Using a non-tuple sequence for multidimensional indexing is deprecated; use `arr[tuple(seq)]` instead of `arr[seq]`. In the future this will be interpreted as an array index, `arr[np.array(seq)]`, which will result either in an error or a different result.\n",
      "  return y[sl]\n"
     ]
    },
    {
     "name": "stdout",
     "output_type": "stream",
     "text": [
      "Selecting model: Models/9d4921/experimental/Session3\\9d4921_MI_classifier_2019-03-22-12-31-22.sav\n",
      "Selecting model: Models/9d4921/experimental/Session3\\9d4921_MI_classifier_2019-03-22-12-31-11.sav\n",
      "Selecting model: Models/9d4921/experimental/Session3\\9d4921_MI_classifier_TL_2019-03-22-12-31-23.sav\n",
      "Selecting BCI EEG file: SaveData/9d4921/Session3\\20190307150447_9d4921_BCI.easy\n",
      "Selecting BCI behavioral file: SaveData/9d4921/Session3\\BCI_9d4921_R5.csv\n",
      "Skipping N/A\n"
     ]
    },
    {
     "name": "stderr",
     "output_type": "stream",
     "text": [
      "C:\\Users\\nile\\Anaconda3\\envs\\eeg\\lib\\site-packages\\scipy\\signal\\_arraytools.py:45: FutureWarning: Using a non-tuple sequence for multidimensional indexing is deprecated; use `arr[tuple(seq)]` instead of `arr[seq]`. In the future this will be interpreted as an array index, `arr[np.array(seq)]`, which will result either in an error or a different result.\n",
      "  b = a[a_slice]\n",
      "C:\\Users\\nile\\Anaconda3\\envs\\eeg\\lib\\site-packages\\scipy\\signal\\signaltools.py:3463: FutureWarning: Using a non-tuple sequence for multidimensional indexing is deprecated; use `arr[tuple(seq)]` instead of `arr[seq]`. In the future this will be interpreted as an array index, `arr[np.array(seq)]`, which will result either in an error or a different result.\n",
      "  return y[sl]\n"
     ]
    },
    {
     "name": "stdout",
     "output_type": "stream",
     "text": [
      "Selecting model: Models/9d4921/experimental/Session3\\9d4921_MI_classifier_2019-03-22-12-31-26.sav\n",
      "Selecting model: Models/9d4921/experimental/Session3\\9d4921_MI_classifier_2019-03-22-12-31-11.sav\n",
      "Selecting model: Models/9d4921/experimental/Session3\\9d4921_MI_classifier_TL_2019-03-22-12-31-27.sav\n",
      "Selecting BCI EEG file: SaveData/05ecbc/Session1\\20190207130305_05ecbc_BCI.easy\n",
      "Selecting BCI behavioral file: SaveData/05ecbc/Session1\\BCI_05ecbc_R1.csv\n",
      "Skipping N/A\n"
     ]
    },
    {
     "name": "stderr",
     "output_type": "stream",
     "text": [
      "C:\\Users\\nile\\Anaconda3\\envs\\eeg\\lib\\site-packages\\scipy\\signal\\_arraytools.py:45: FutureWarning: Using a non-tuple sequence for multidimensional indexing is deprecated; use `arr[tuple(seq)]` instead of `arr[seq]`. In the future this will be interpreted as an array index, `arr[np.array(seq)]`, which will result either in an error or a different result.\n",
      "  b = a[a_slice]\n",
      "C:\\Users\\nile\\Anaconda3\\envs\\eeg\\lib\\site-packages\\scipy\\signal\\signaltools.py:3463: FutureWarning: Using a non-tuple sequence for multidimensional indexing is deprecated; use `arr[tuple(seq)]` instead of `arr[seq]`. In the future this will be interpreted as an array index, `arr[np.array(seq)]`, which will result either in an error or a different result.\n",
      "  return y[sl]\n"
     ]
    },
    {
     "name": "stdout",
     "output_type": "stream",
     "text": [
      "Selecting model: Models/05ecbc/experimental/Session1\\05ecbc_MI_classifier_2019-03-15-12-07-53.sav\n",
      "Selecting model: Models/05ecbc/experimental/Session1\\05ecbc_MI_classifier_2019-03-15-12-07-53.sav\n",
      "Selecting model: Models/05ecbc/experimental/Session1\\05ecbc_MI_classifier_2019-03-15-12-07-53.sav\n",
      "Selecting BCI EEG file: SaveData/05ecbc/Session1\\20190207130824_05ecbc_BCI.easy\n",
      "Selecting BCI behavioral file: SaveData/05ecbc/Session1\\BCI_05ecbc_R2.csv\n",
      "Skipping N/A\n"
     ]
    },
    {
     "name": "stderr",
     "output_type": "stream",
     "text": [
      "C:\\Users\\nile\\Anaconda3\\envs\\eeg\\lib\\site-packages\\scipy\\signal\\_arraytools.py:45: FutureWarning: Using a non-tuple sequence for multidimensional indexing is deprecated; use `arr[tuple(seq)]` instead of `arr[seq]`. In the future this will be interpreted as an array index, `arr[np.array(seq)]`, which will result either in an error or a different result.\n",
      "  b = a[a_slice]\n",
      "C:\\Users\\nile\\Anaconda3\\envs\\eeg\\lib\\site-packages\\scipy\\signal\\signaltools.py:3463: FutureWarning: Using a non-tuple sequence for multidimensional indexing is deprecated; use `arr[tuple(seq)]` instead of `arr[seq]`. In the future this will be interpreted as an array index, `arr[np.array(seq)]`, which will result either in an error or a different result.\n",
      "  return y[sl]\n"
     ]
    },
    {
     "name": "stdout",
     "output_type": "stream",
     "text": [
      "Selecting model: Models/05ecbc/experimental/Session1\\05ecbc_MI_classifier_2019-03-15-12-07-57.sav\n",
      "Selecting model: Models/05ecbc/experimental/Session1\\05ecbc_MI_classifier_2019-03-15-12-07-53.sav\n",
      "Selecting model: Models/05ecbc/experimental/Session1\\05ecbc_MI_classifier_TL_2019-03-15-12-07-57.sav\n",
      "Selecting BCI EEG file: SaveData/05ecbc/Session1\\20190207131329_05ecbc_BCI.easy\n",
      "Selecting BCI behavioral file: SaveData/05ecbc/Session1\\BCI_05ecbc_R3.csv\n",
      "Skipping N/A\n"
     ]
    },
    {
     "name": "stderr",
     "output_type": "stream",
     "text": [
      "C:\\Users\\nile\\Anaconda3\\envs\\eeg\\lib\\site-packages\\scipy\\signal\\_arraytools.py:45: FutureWarning: Using a non-tuple sequence for multidimensional indexing is deprecated; use `arr[tuple(seq)]` instead of `arr[seq]`. In the future this will be interpreted as an array index, `arr[np.array(seq)]`, which will result either in an error or a different result.\n",
      "  b = a[a_slice]\n",
      "C:\\Users\\nile\\Anaconda3\\envs\\eeg\\lib\\site-packages\\scipy\\signal\\signaltools.py:3463: FutureWarning: Using a non-tuple sequence for multidimensional indexing is deprecated; use `arr[tuple(seq)]` instead of `arr[seq]`. In the future this will be interpreted as an array index, `arr[np.array(seq)]`, which will result either in an error or a different result.\n",
      "  return y[sl]\n"
     ]
    },
    {
     "name": "stdout",
     "output_type": "stream",
     "text": [
      "Selecting model: Models/05ecbc/experimental/Session1\\05ecbc_MI_classifier_2019-03-15-12-07-59.sav\n",
      "Selecting model: Models/05ecbc/experimental/Session1\\05ecbc_MI_classifier_2019-03-15-12-07-53.sav\n",
      "Selecting model: Models/05ecbc/experimental/Session1\\05ecbc_MI_classifier_TL_2019-03-15-12-08-01.sav\n",
      "Selecting BCI EEG file: SaveData/05ecbc/Session1\\20190207131815_05ecbc_BCI.easy\n",
      "Selecting BCI behavioral file: SaveData/05ecbc/Session1\\BCI_05ecbc_R4.csv\n",
      "Skipping N/A\n"
     ]
    },
    {
     "name": "stderr",
     "output_type": "stream",
     "text": [
      "C:\\Users\\nile\\Anaconda3\\envs\\eeg\\lib\\site-packages\\scipy\\signal\\_arraytools.py:45: FutureWarning: Using a non-tuple sequence for multidimensional indexing is deprecated; use `arr[tuple(seq)]` instead of `arr[seq]`. In the future this will be interpreted as an array index, `arr[np.array(seq)]`, which will result either in an error or a different result.\n",
      "  b = a[a_slice]\n",
      "C:\\Users\\nile\\Anaconda3\\envs\\eeg\\lib\\site-packages\\scipy\\signal\\signaltools.py:3463: FutureWarning: Using a non-tuple sequence for multidimensional indexing is deprecated; use `arr[tuple(seq)]` instead of `arr[seq]`. In the future this will be interpreted as an array index, `arr[np.array(seq)]`, which will result either in an error or a different result.\n",
      "  return y[sl]\n"
     ]
    },
    {
     "name": "stdout",
     "output_type": "stream",
     "text": [
      "Selecting model: Models/05ecbc/experimental/Session1\\05ecbc_MI_classifier_2019-03-15-12-08-03.sav\n",
      "Selecting model: Models/05ecbc/experimental/Session1\\05ecbc_MI_classifier_2019-03-15-12-07-53.sav\n",
      "Selecting model: Models/05ecbc/experimental/Session1\\05ecbc_MI_classifier_TL_2019-03-15-12-08-04.sav\n",
      "Selecting BCI EEG file: SaveData/05ecbc/Session1\\20190207132321_05ecbc_BCI.easy\n",
      "Selecting BCI behavioral file: SaveData/05ecbc/Session1\\BCI_05ecbc_R5.csv\n",
      "Skipping N/A\n"
     ]
    },
    {
     "name": "stderr",
     "output_type": "stream",
     "text": [
      "C:\\Users\\nile\\Anaconda3\\envs\\eeg\\lib\\site-packages\\scipy\\signal\\_arraytools.py:45: FutureWarning: Using a non-tuple sequence for multidimensional indexing is deprecated; use `arr[tuple(seq)]` instead of `arr[seq]`. In the future this will be interpreted as an array index, `arr[np.array(seq)]`, which will result either in an error or a different result.\n",
      "  b = a[a_slice]\n",
      "C:\\Users\\nile\\Anaconda3\\envs\\eeg\\lib\\site-packages\\scipy\\signal\\signaltools.py:3463: FutureWarning: Using a non-tuple sequence for multidimensional indexing is deprecated; use `arr[tuple(seq)]` instead of `arr[seq]`. In the future this will be interpreted as an array index, `arr[np.array(seq)]`, which will result either in an error or a different result.\n",
      "  return y[sl]\n"
     ]
    },
    {
     "name": "stdout",
     "output_type": "stream",
     "text": [
      "Selecting model: Models/05ecbc/experimental/Session1\\05ecbc_MI_classifier_2019-03-15-12-08-07.sav\n",
      "Selecting model: Models/05ecbc/experimental/Session1\\05ecbc_MI_classifier_2019-03-15-12-07-53.sav\n",
      "Selecting model: Models/05ecbc/experimental/Session1\\05ecbc_MI_classifier_TL_2019-03-15-12-08-08.sav\n",
      "Selecting BCI EEG file: SaveData/05ecbc/Session2\\20190214144355_05ecbc_BCI.easy\n",
      "Selecting BCI behavioral file: SaveData/05ecbc/Session2\\BCI_05ecbc_R1.csv\n",
      "Skipping N/A\n"
     ]
    },
    {
     "name": "stderr",
     "output_type": "stream",
     "text": [
      "C:\\Users\\nile\\Anaconda3\\envs\\eeg\\lib\\site-packages\\scipy\\signal\\_arraytools.py:45: FutureWarning: Using a non-tuple sequence for multidimensional indexing is deprecated; use `arr[tuple(seq)]` instead of `arr[seq]`. In the future this will be interpreted as an array index, `arr[np.array(seq)]`, which will result either in an error or a different result.\n",
      "  b = a[a_slice]\n",
      "C:\\Users\\nile\\Anaconda3\\envs\\eeg\\lib\\site-packages\\scipy\\signal\\signaltools.py:3463: FutureWarning: Using a non-tuple sequence for multidimensional indexing is deprecated; use `arr[tuple(seq)]` instead of `arr[seq]`. In the future this will be interpreted as an array index, `arr[np.array(seq)]`, which will result either in an error or a different result.\n",
      "  return y[sl]\n"
     ]
    },
    {
     "name": "stdout",
     "output_type": "stream",
     "text": [
      "Selecting model: Models/05ecbc/experimental/Session2\\05ecbc_MI_classifier_2019-03-15-12-09-29.sav\n",
      "Selecting model: Models/05ecbc/experimental/Session2\\05ecbc_MI_classifier_2019-03-15-12-09-29.sav\n",
      "Selecting model: Models/05ecbc/experimental/Session2\\05ecbc_MI_classifier_2019-03-15-12-09-29.sav\n",
      "Selecting BCI EEG file: SaveData/05ecbc/Session2\\20190214145042_05ecbc_BCI.easy\n",
      "Selecting BCI behavioral file: SaveData/05ecbc/Session2\\BCI_05ecbc_R2.csv\n",
      "Skipping N/A\n"
     ]
    },
    {
     "name": "stderr",
     "output_type": "stream",
     "text": [
      "C:\\Users\\nile\\Anaconda3\\envs\\eeg\\lib\\site-packages\\scipy\\signal\\_arraytools.py:45: FutureWarning: Using a non-tuple sequence for multidimensional indexing is deprecated; use `arr[tuple(seq)]` instead of `arr[seq]`. In the future this will be interpreted as an array index, `arr[np.array(seq)]`, which will result either in an error or a different result.\n",
      "  b = a[a_slice]\n",
      "C:\\Users\\nile\\Anaconda3\\envs\\eeg\\lib\\site-packages\\scipy\\signal\\signaltools.py:3463: FutureWarning: Using a non-tuple sequence for multidimensional indexing is deprecated; use `arr[tuple(seq)]` instead of `arr[seq]`. In the future this will be interpreted as an array index, `arr[np.array(seq)]`, which will result either in an error or a different result.\n",
      "  return y[sl]\n"
     ]
    },
    {
     "name": "stdout",
     "output_type": "stream",
     "text": [
      "Selecting model: Models/05ecbc/experimental/Session2\\05ecbc_MI_classifier_2019-03-15-12-09-33.sav\n",
      "Selecting model: Models/05ecbc/experimental/Session2\\05ecbc_MI_classifier_2019-03-15-12-09-29.sav\n",
      "Selecting model: Models/05ecbc/experimental/Session2\\05ecbc_MI_classifier_TL_2019-03-15-12-09-33.sav\n",
      "Selecting BCI EEG file: SaveData/05ecbc/Session2\\20190214145559_05ecbc_BCI.easy\n",
      "Selecting BCI behavioral file: SaveData/05ecbc/Session2\\BCI_05ecbc_R3.csv\n",
      "Skipping N/A\n"
     ]
    },
    {
     "name": "stderr",
     "output_type": "stream",
     "text": [
      "C:\\Users\\nile\\Anaconda3\\envs\\eeg\\lib\\site-packages\\scipy\\signal\\_arraytools.py:45: FutureWarning: Using a non-tuple sequence for multidimensional indexing is deprecated; use `arr[tuple(seq)]` instead of `arr[seq]`. In the future this will be interpreted as an array index, `arr[np.array(seq)]`, which will result either in an error or a different result.\n",
      "  b = a[a_slice]\n",
      "C:\\Users\\nile\\Anaconda3\\envs\\eeg\\lib\\site-packages\\scipy\\signal\\signaltools.py:3463: FutureWarning: Using a non-tuple sequence for multidimensional indexing is deprecated; use `arr[tuple(seq)]` instead of `arr[seq]`. In the future this will be interpreted as an array index, `arr[np.array(seq)]`, which will result either in an error or a different result.\n",
      "  return y[sl]\n"
     ]
    },
    {
     "name": "stdout",
     "output_type": "stream",
     "text": [
      "Selecting model: Models/05ecbc/experimental/Session2\\05ecbc_MI_classifier_2019-03-15-12-09-35.sav\n",
      "Selecting model: Models/05ecbc/experimental/Session2\\05ecbc_MI_classifier_2019-03-15-12-09-29.sav\n",
      "Selecting model: Models/05ecbc/experimental/Session2\\05ecbc_MI_classifier_TL_2019-03-15-12-09-37.sav\n",
      "Selecting BCI EEG file: SaveData/05ecbc/Session2\\20190214150108_05ecbc_BCI.easy\n",
      "Selecting BCI behavioral file: SaveData/05ecbc/Session2\\BCI_05ecbc_R4.csv\n",
      "Skipping N/A\n"
     ]
    },
    {
     "name": "stderr",
     "output_type": "stream",
     "text": [
      "C:\\Users\\nile\\Anaconda3\\envs\\eeg\\lib\\site-packages\\scipy\\signal\\_arraytools.py:45: FutureWarning: Using a non-tuple sequence for multidimensional indexing is deprecated; use `arr[tuple(seq)]` instead of `arr[seq]`. In the future this will be interpreted as an array index, `arr[np.array(seq)]`, which will result either in an error or a different result.\n",
      "  b = a[a_slice]\n",
      "C:\\Users\\nile\\Anaconda3\\envs\\eeg\\lib\\site-packages\\scipy\\signal\\signaltools.py:3463: FutureWarning: Using a non-tuple sequence for multidimensional indexing is deprecated; use `arr[tuple(seq)]` instead of `arr[seq]`. In the future this will be interpreted as an array index, `arr[np.array(seq)]`, which will result either in an error or a different result.\n",
      "  return y[sl]\n"
     ]
    },
    {
     "name": "stdout",
     "output_type": "stream",
     "text": [
      "Selecting model: Models/05ecbc/experimental/Session2\\05ecbc_MI_classifier_2019-03-15-12-09-39.sav\n",
      "Selecting model: Models/05ecbc/experimental/Session2\\05ecbc_MI_classifier_2019-03-15-12-09-29.sav\n",
      "Selecting model: Models/05ecbc/experimental/Session2\\05ecbc_MI_classifier_TL_2019-03-15-12-09-41.sav\n",
      "Selecting BCI EEG file: SaveData/05ecbc/Session2\\20190214150623_05ecbc_BCI.easy\n",
      "Selecting BCI behavioral file: SaveData/05ecbc/Session2\\BCI_05ecbc_R5.csv\n",
      "Skipping N/A\n"
     ]
    },
    {
     "name": "stderr",
     "output_type": "stream",
     "text": [
      "C:\\Users\\nile\\Anaconda3\\envs\\eeg\\lib\\site-packages\\scipy\\signal\\_arraytools.py:45: FutureWarning: Using a non-tuple sequence for multidimensional indexing is deprecated; use `arr[tuple(seq)]` instead of `arr[seq]`. In the future this will be interpreted as an array index, `arr[np.array(seq)]`, which will result either in an error or a different result.\n",
      "  b = a[a_slice]\n",
      "C:\\Users\\nile\\Anaconda3\\envs\\eeg\\lib\\site-packages\\scipy\\signal\\signaltools.py:3463: FutureWarning: Using a non-tuple sequence for multidimensional indexing is deprecated; use `arr[tuple(seq)]` instead of `arr[seq]`. In the future this will be interpreted as an array index, `arr[np.array(seq)]`, which will result either in an error or a different result.\n",
      "  return y[sl]\n"
     ]
    },
    {
     "name": "stdout",
     "output_type": "stream",
     "text": [
      "Selecting model: Models/05ecbc/experimental/Session2\\05ecbc_MI_classifier_2019-03-15-12-09-43.sav\n",
      "Selecting model: Models/05ecbc/experimental/Session2\\05ecbc_MI_classifier_2019-03-15-12-09-29.sav\n",
      "Selecting model: Models/05ecbc/experimental/Session2\\05ecbc_MI_classifier_TL_2019-03-15-12-09-44.sav\n",
      "Selecting BCI EEG file: SaveData/05ecbc/Session3\\20190301104803_05ecbc_BCI.easy\n",
      "Selecting BCI behavioral file: SaveData/05ecbc/Session3\\BCI_05ecbc_R1.csv\n",
      "Skipping N/A\n"
     ]
    },
    {
     "name": "stderr",
     "output_type": "stream",
     "text": [
      "C:\\Users\\nile\\Anaconda3\\envs\\eeg\\lib\\site-packages\\scipy\\signal\\_arraytools.py:45: FutureWarning: Using a non-tuple sequence for multidimensional indexing is deprecated; use `arr[tuple(seq)]` instead of `arr[seq]`. In the future this will be interpreted as an array index, `arr[np.array(seq)]`, which will result either in an error or a different result.\n",
      "  b = a[a_slice]\n",
      "C:\\Users\\nile\\Anaconda3\\envs\\eeg\\lib\\site-packages\\scipy\\signal\\signaltools.py:3463: FutureWarning: Using a non-tuple sequence for multidimensional indexing is deprecated; use `arr[tuple(seq)]` instead of `arr[seq]`. In the future this will be interpreted as an array index, `arr[np.array(seq)]`, which will result either in an error or a different result.\n",
      "  return y[sl]\n"
     ]
    },
    {
     "name": "stdout",
     "output_type": "stream",
     "text": [
      "Selecting model: Models/05ecbc/experimental/Session3\\05ecbc_MI_classifier_2019-03-15-12-11-29.sav\n",
      "Selecting model: Models/05ecbc/experimental/Session3\\05ecbc_MI_classifier_2019-03-15-12-11-29.sav\n",
      "Selecting model: Models/05ecbc/experimental/Session3\\05ecbc_MI_classifier_2019-03-15-12-11-29.sav\n",
      "Selecting BCI EEG file: SaveData/05ecbc/Session3\\20190301105356_05ecbc_BCI.easy\n",
      "Selecting BCI behavioral file: SaveData/05ecbc/Session3\\BCI_05ecbc_R2.csv\n",
      "Skipping N/A\n"
     ]
    },
    {
     "name": "stderr",
     "output_type": "stream",
     "text": [
      "C:\\Users\\nile\\Anaconda3\\envs\\eeg\\lib\\site-packages\\scipy\\signal\\_arraytools.py:45: FutureWarning: Using a non-tuple sequence for multidimensional indexing is deprecated; use `arr[tuple(seq)]` instead of `arr[seq]`. In the future this will be interpreted as an array index, `arr[np.array(seq)]`, which will result either in an error or a different result.\n",
      "  b = a[a_slice]\n",
      "C:\\Users\\nile\\Anaconda3\\envs\\eeg\\lib\\site-packages\\scipy\\signal\\signaltools.py:3463: FutureWarning: Using a non-tuple sequence for multidimensional indexing is deprecated; use `arr[tuple(seq)]` instead of `arr[seq]`. In the future this will be interpreted as an array index, `arr[np.array(seq)]`, which will result either in an error or a different result.\n",
      "  return y[sl]\n"
     ]
    },
    {
     "name": "stdout",
     "output_type": "stream",
     "text": [
      "Selecting model: Models/05ecbc/experimental/Session3\\05ecbc_MI_classifier_2019-03-15-12-11-34.sav\n",
      "Selecting model: Models/05ecbc/experimental/Session3\\05ecbc_MI_classifier_2019-03-15-12-11-29.sav\n",
      "Selecting model: Models/05ecbc/experimental/Session3\\05ecbc_MI_classifier_TL_2019-03-15-12-11-34.sav\n",
      "Selecting BCI EEG file: SaveData/05ecbc/Session3\\20190301105932_05ecbc_BCI.easy\n",
      "Selecting BCI behavioral file: SaveData/05ecbc/Session3\\BCI_05ecbc_R3.csv\n",
      "Skipping N/A\n"
     ]
    },
    {
     "name": "stderr",
     "output_type": "stream",
     "text": [
      "C:\\Users\\nile\\Anaconda3\\envs\\eeg\\lib\\site-packages\\scipy\\signal\\_arraytools.py:45: FutureWarning: Using a non-tuple sequence for multidimensional indexing is deprecated; use `arr[tuple(seq)]` instead of `arr[seq]`. In the future this will be interpreted as an array index, `arr[np.array(seq)]`, which will result either in an error or a different result.\n",
      "  b = a[a_slice]\n",
      "C:\\Users\\nile\\Anaconda3\\envs\\eeg\\lib\\site-packages\\scipy\\signal\\signaltools.py:3463: FutureWarning: Using a non-tuple sequence for multidimensional indexing is deprecated; use `arr[tuple(seq)]` instead of `arr[seq]`. In the future this will be interpreted as an array index, `arr[np.array(seq)]`, which will result either in an error or a different result.\n",
      "  return y[sl]\n"
     ]
    },
    {
     "name": "stdout",
     "output_type": "stream",
     "text": [
      "Selecting model: Models/05ecbc/experimental/Session3\\05ecbc_MI_classifier_2019-03-15-12-11-36.sav\n",
      "Selecting model: Models/05ecbc/experimental/Session3\\05ecbc_MI_classifier_2019-03-15-12-11-29.sav\n",
      "Selecting model: Models/05ecbc/experimental/Session3\\05ecbc_MI_classifier_TL_2019-03-15-12-11-38.sav\n",
      "Selecting BCI EEG file: SaveData/05ecbc/Session3\\20190301110530_05ecbc_BCI.easy\n",
      "Selecting BCI behavioral file: SaveData/05ecbc/Session3\\BCI_05ecbc_R4.csv\n",
      "Skipping N/A\n"
     ]
    },
    {
     "name": "stderr",
     "output_type": "stream",
     "text": [
      "C:\\Users\\nile\\Anaconda3\\envs\\eeg\\lib\\site-packages\\scipy\\signal\\_arraytools.py:45: FutureWarning: Using a non-tuple sequence for multidimensional indexing is deprecated; use `arr[tuple(seq)]` instead of `arr[seq]`. In the future this will be interpreted as an array index, `arr[np.array(seq)]`, which will result either in an error or a different result.\n",
      "  b = a[a_slice]\n",
      "C:\\Users\\nile\\Anaconda3\\envs\\eeg\\lib\\site-packages\\scipy\\signal\\signaltools.py:3463: FutureWarning: Using a non-tuple sequence for multidimensional indexing is deprecated; use `arr[tuple(seq)]` instead of `arr[seq]`. In the future this will be interpreted as an array index, `arr[np.array(seq)]`, which will result either in an error or a different result.\n",
      "  return y[sl]\n"
     ]
    },
    {
     "name": "stdout",
     "output_type": "stream",
     "text": [
      "Selecting model: Models/05ecbc/experimental/Session3\\05ecbc_MI_classifier_2019-03-15-12-11-40.sav\n",
      "Selecting model: Models/05ecbc/experimental/Session3\\05ecbc_MI_classifier_2019-03-15-12-11-29.sav\n",
      "Selecting model: Models/05ecbc/experimental/Session3\\05ecbc_MI_classifier_TL_2019-03-15-12-11-42.sav\n",
      "Selecting BCI EEG file: SaveData/05ecbc/Session3\\20190301111056_05ecbc_BCI.easy\n",
      "Selecting BCI behavioral file: SaveData/05ecbc/Session3\\BCI_05ecbc_R5.csv\n",
      "Skipping N/A\n"
     ]
    },
    {
     "name": "stderr",
     "output_type": "stream",
     "text": [
      "C:\\Users\\nile\\Anaconda3\\envs\\eeg\\lib\\site-packages\\scipy\\signal\\_arraytools.py:45: FutureWarning: Using a non-tuple sequence for multidimensional indexing is deprecated; use `arr[tuple(seq)]` instead of `arr[seq]`. In the future this will be interpreted as an array index, `arr[np.array(seq)]`, which will result either in an error or a different result.\n",
      "  b = a[a_slice]\n",
      "C:\\Users\\nile\\Anaconda3\\envs\\eeg\\lib\\site-packages\\scipy\\signal\\signaltools.py:3463: FutureWarning: Using a non-tuple sequence for multidimensional indexing is deprecated; use `arr[tuple(seq)]` instead of `arr[seq]`. In the future this will be interpreted as an array index, `arr[np.array(seq)]`, which will result either in an error or a different result.\n",
      "  return y[sl]\n"
     ]
    },
    {
     "name": "stdout",
     "output_type": "stream",
     "text": [
      "Selecting model: Models/05ecbc/experimental/Session3\\05ecbc_MI_classifier_2019-03-15-12-11-44.sav\n",
      "Selecting model: Models/05ecbc/experimental/Session3\\05ecbc_MI_classifier_2019-03-15-12-11-29.sav\n",
      "Selecting model: Models/05ecbc/experimental/Session3\\05ecbc_MI_classifier_TL_2019-03-15-12-11-45.sav\n",
      "Selecting BCI EEG file: SaveData/912433/Session1\\20190215150536_912433_BCI.easy\n",
      "Selecting BCI behavioral file: SaveData/912433/Session1\\BCI_912433_R1.csv\n",
      "Skipping N/A\n"
     ]
    },
    {
     "name": "stderr",
     "output_type": "stream",
     "text": [
      "C:\\Users\\nile\\Anaconda3\\envs\\eeg\\lib\\site-packages\\scipy\\signal\\_arraytools.py:45: FutureWarning: Using a non-tuple sequence for multidimensional indexing is deprecated; use `arr[tuple(seq)]` instead of `arr[seq]`. In the future this will be interpreted as an array index, `arr[np.array(seq)]`, which will result either in an error or a different result.\n",
      "  b = a[a_slice]\n",
      "C:\\Users\\nile\\Anaconda3\\envs\\eeg\\lib\\site-packages\\scipy\\signal\\signaltools.py:3463: FutureWarning: Using a non-tuple sequence for multidimensional indexing is deprecated; use `arr[tuple(seq)]` instead of `arr[seq]`. In the future this will be interpreted as an array index, `arr[np.array(seq)]`, which will result either in an error or a different result.\n",
      "  return y[sl]\n"
     ]
    },
    {
     "name": "stdout",
     "output_type": "stream",
     "text": [
      "Selecting model: Models/912433/experimental/Session1\\912433_MI_classifier_2019-03-15-12-30-27.sav\n",
      "Selecting model: Models/912433/experimental/Session1\\912433_MI_classifier_2019-03-15-12-30-27.sav\n",
      "Selecting model: Models/912433/experimental/Session1\\912433_MI_classifier_2019-03-15-12-30-27.sav\n",
      "Selecting BCI EEG file: SaveData/912433/Session1\\20190215151025_912433_BCI.easy\n",
      "Selecting BCI behavioral file: SaveData/912433/Session1\\BCI_912433_R2.csv\n",
      "Skipping N/A\n"
     ]
    },
    {
     "name": "stderr",
     "output_type": "stream",
     "text": [
      "C:\\Users\\nile\\Anaconda3\\envs\\eeg\\lib\\site-packages\\scipy\\signal\\_arraytools.py:45: FutureWarning: Using a non-tuple sequence for multidimensional indexing is deprecated; use `arr[tuple(seq)]` instead of `arr[seq]`. In the future this will be interpreted as an array index, `arr[np.array(seq)]`, which will result either in an error or a different result.\n",
      "  b = a[a_slice]\n",
      "C:\\Users\\nile\\Anaconda3\\envs\\eeg\\lib\\site-packages\\scipy\\signal\\signaltools.py:3463: FutureWarning: Using a non-tuple sequence for multidimensional indexing is deprecated; use `arr[tuple(seq)]` instead of `arr[seq]`. In the future this will be interpreted as an array index, `arr[np.array(seq)]`, which will result either in an error or a different result.\n",
      "  return y[sl]\n"
     ]
    },
    {
     "name": "stdout",
     "output_type": "stream",
     "text": [
      "Selecting model: Models/912433/experimental/Session1\\912433_MI_classifier_2019-03-15-12-30-31.sav\n",
      "Selecting model: Models/912433/experimental/Session1\\912433_MI_classifier_2019-03-15-12-30-27.sav\n",
      "Selecting model: Models/912433/experimental/Session1\\912433_MI_classifier_TL_2019-03-15-12-30-31.sav\n",
      "Selecting BCI EEG file: SaveData/912433/Session1\\20190215151514_912433_BCI.easy\n",
      "Selecting BCI behavioral file: SaveData/912433/Session1\\BCI_912433_R3.csv\n",
      "Skipping N/A\n"
     ]
    },
    {
     "name": "stderr",
     "output_type": "stream",
     "text": [
      "C:\\Users\\nile\\Anaconda3\\envs\\eeg\\lib\\site-packages\\scipy\\signal\\_arraytools.py:45: FutureWarning: Using a non-tuple sequence for multidimensional indexing is deprecated; use `arr[tuple(seq)]` instead of `arr[seq]`. In the future this will be interpreted as an array index, `arr[np.array(seq)]`, which will result either in an error or a different result.\n",
      "  b = a[a_slice]\n",
      "C:\\Users\\nile\\Anaconda3\\envs\\eeg\\lib\\site-packages\\scipy\\signal\\signaltools.py:3463: FutureWarning: Using a non-tuple sequence for multidimensional indexing is deprecated; use `arr[tuple(seq)]` instead of `arr[seq]`. In the future this will be interpreted as an array index, `arr[np.array(seq)]`, which will result either in an error or a different result.\n",
      "  return y[sl]\n"
     ]
    },
    {
     "name": "stdout",
     "output_type": "stream",
     "text": [
      "Selecting model: Models/912433/experimental/Session1\\912433_MI_classifier_2019-03-15-12-30-34.sav\n",
      "Selecting model: Models/912433/experimental/Session1\\912433_MI_classifier_2019-03-15-12-30-27.sav\n",
      "Selecting model: Models/912433/experimental/Session1\\912433_MI_classifier_TL_2019-03-15-12-30-35.sav\n",
      "Selecting BCI EEG file: SaveData/912433/Session1\\20190215152028_912433_BCI.easy\n",
      "Selecting BCI behavioral file: SaveData/912433/Session1\\BCI_912433_R4.csv\n",
      "Skipping N/A\n"
     ]
    },
    {
     "name": "stderr",
     "output_type": "stream",
     "text": [
      "C:\\Users\\nile\\Anaconda3\\envs\\eeg\\lib\\site-packages\\scipy\\signal\\_arraytools.py:45: FutureWarning: Using a non-tuple sequence for multidimensional indexing is deprecated; use `arr[tuple(seq)]` instead of `arr[seq]`. In the future this will be interpreted as an array index, `arr[np.array(seq)]`, which will result either in an error or a different result.\n",
      "  b = a[a_slice]\n",
      "C:\\Users\\nile\\Anaconda3\\envs\\eeg\\lib\\site-packages\\scipy\\signal\\signaltools.py:3463: FutureWarning: Using a non-tuple sequence for multidimensional indexing is deprecated; use `arr[tuple(seq)]` instead of `arr[seq]`. In the future this will be interpreted as an array index, `arr[np.array(seq)]`, which will result either in an error or a different result.\n",
      "  return y[sl]\n"
     ]
    },
    {
     "name": "stdout",
     "output_type": "stream",
     "text": [
      "Selecting model: Models/912433/experimental/Session1\\912433_MI_classifier_2019-03-15-12-30-37.sav\n",
      "Selecting model: Models/912433/experimental/Session1\\912433_MI_classifier_2019-03-15-12-30-27.sav\n",
      "Selecting model: Models/912433/experimental/Session1\\912433_MI_classifier_TL_2019-03-15-12-30-39.sav\n",
      "Selecting BCI EEG file: SaveData/912433/Session1\\20190215152535_912433_BCI.easy\n",
      "Selecting BCI behavioral file: SaveData/912433/Session1\\BCI_912433_R5.csv\n",
      "Skipping N/A\n"
     ]
    },
    {
     "name": "stderr",
     "output_type": "stream",
     "text": [
      "C:\\Users\\nile\\Anaconda3\\envs\\eeg\\lib\\site-packages\\scipy\\signal\\_arraytools.py:45: FutureWarning: Using a non-tuple sequence for multidimensional indexing is deprecated; use `arr[tuple(seq)]` instead of `arr[seq]`. In the future this will be interpreted as an array index, `arr[np.array(seq)]`, which will result either in an error or a different result.\n",
      "  b = a[a_slice]\n",
      "C:\\Users\\nile\\Anaconda3\\envs\\eeg\\lib\\site-packages\\scipy\\signal\\signaltools.py:3463: FutureWarning: Using a non-tuple sequence for multidimensional indexing is deprecated; use `arr[tuple(seq)]` instead of `arr[seq]`. In the future this will be interpreted as an array index, `arr[np.array(seq)]`, which will result either in an error or a different result.\n",
      "  return y[sl]\n"
     ]
    },
    {
     "name": "stdout",
     "output_type": "stream",
     "text": [
      "Selecting model: Models/912433/experimental/Session1\\912433_MI_classifier_2019-03-15-12-30-41.sav\n",
      "Selecting model: Models/912433/experimental/Session1\\912433_MI_classifier_2019-03-15-12-30-27.sav\n",
      "Selecting model: Models/912433/experimental/Session1\\912433_MI_classifier_TL_2019-03-15-12-30-43.sav\n",
      "Selecting BCI EEG file: SaveData/912433/Session2\\20190220131453_912433_BCI.easy\n",
      "Selecting BCI behavioral file: SaveData/912433/Session2\\BCI_912433_R1.csv\n",
      "Skipping N/A\n"
     ]
    },
    {
     "name": "stderr",
     "output_type": "stream",
     "text": [
      "C:\\Users\\nile\\Anaconda3\\envs\\eeg\\lib\\site-packages\\scipy\\signal\\_arraytools.py:45: FutureWarning: Using a non-tuple sequence for multidimensional indexing is deprecated; use `arr[tuple(seq)]` instead of `arr[seq]`. In the future this will be interpreted as an array index, `arr[np.array(seq)]`, which will result either in an error or a different result.\n",
      "  b = a[a_slice]\n",
      "C:\\Users\\nile\\Anaconda3\\envs\\eeg\\lib\\site-packages\\scipy\\signal\\signaltools.py:3463: FutureWarning: Using a non-tuple sequence for multidimensional indexing is deprecated; use `arr[tuple(seq)]` instead of `arr[seq]`. In the future this will be interpreted as an array index, `arr[np.array(seq)]`, which will result either in an error or a different result.\n",
      "  return y[sl]\n"
     ]
    },
    {
     "name": "stdout",
     "output_type": "stream",
     "text": [
      "Selecting model: Models/912433/experimental/Session2\\912433_MI_classifier_2019-03-15-12-32-25.sav\n",
      "Selecting model: Models/912433/experimental/Session2\\912433_MI_classifier_2019-03-15-12-32-25.sav\n",
      "Selecting model: Models/912433/experimental/Session2\\912433_MI_classifier_2019-03-15-12-32-25.sav\n",
      "Selecting BCI EEG file: SaveData/912433/Session2\\20190220132001_912433_BCI.easy\n",
      "Selecting BCI behavioral file: SaveData/912433/Session2\\BCI_912433_R2.csv\n",
      "Skipping N/A\n"
     ]
    },
    {
     "name": "stderr",
     "output_type": "stream",
     "text": [
      "C:\\Users\\nile\\Anaconda3\\envs\\eeg\\lib\\site-packages\\scipy\\signal\\_arraytools.py:45: FutureWarning: Using a non-tuple sequence for multidimensional indexing is deprecated; use `arr[tuple(seq)]` instead of `arr[seq]`. In the future this will be interpreted as an array index, `arr[np.array(seq)]`, which will result either in an error or a different result.\n",
      "  b = a[a_slice]\n",
      "C:\\Users\\nile\\Anaconda3\\envs\\eeg\\lib\\site-packages\\scipy\\signal\\signaltools.py:3463: FutureWarning: Using a non-tuple sequence for multidimensional indexing is deprecated; use `arr[tuple(seq)]` instead of `arr[seq]`. In the future this will be interpreted as an array index, `arr[np.array(seq)]`, which will result either in an error or a different result.\n",
      "  return y[sl]\n"
     ]
    },
    {
     "name": "stdout",
     "output_type": "stream",
     "text": [
      "Selecting model: Models/912433/experimental/Session2\\912433_MI_classifier_2019-03-15-12-32-29.sav\n",
      "Selecting model: Models/912433/experimental/Session2\\912433_MI_classifier_2019-03-15-12-32-25.sav\n",
      "Selecting model: Models/912433/experimental/Session2\\912433_MI_classifier_TL_2019-03-15-12-32-29.sav\n",
      "Selecting BCI EEG file: SaveData/912433/Session2\\20190220132518_912433_BCI.easy\n",
      "Selecting BCI behavioral file: SaveData/912433/Session2\\BCI_912433_R3.csv\n",
      "Skipping N/A\n"
     ]
    },
    {
     "name": "stderr",
     "output_type": "stream",
     "text": [
      "C:\\Users\\nile\\Anaconda3\\envs\\eeg\\lib\\site-packages\\scipy\\signal\\_arraytools.py:45: FutureWarning: Using a non-tuple sequence for multidimensional indexing is deprecated; use `arr[tuple(seq)]` instead of `arr[seq]`. In the future this will be interpreted as an array index, `arr[np.array(seq)]`, which will result either in an error or a different result.\n",
      "  b = a[a_slice]\n",
      "C:\\Users\\nile\\Anaconda3\\envs\\eeg\\lib\\site-packages\\scipy\\signal\\signaltools.py:3463: FutureWarning: Using a non-tuple sequence for multidimensional indexing is deprecated; use `arr[tuple(seq)]` instead of `arr[seq]`. In the future this will be interpreted as an array index, `arr[np.array(seq)]`, which will result either in an error or a different result.\n",
      "  return y[sl]\n"
     ]
    },
    {
     "name": "stdout",
     "output_type": "stream",
     "text": [
      "Selecting model: Models/912433/experimental/Session2\\912433_MI_classifier_2019-03-15-12-32-32.sav\n",
      "Selecting model: Models/912433/experimental/Session2\\912433_MI_classifier_2019-03-15-12-32-25.sav\n",
      "Selecting model: Models/912433/experimental/Session2\\912433_MI_classifier_TL_2019-03-15-12-32-34.sav\n",
      "Selecting BCI EEG file: SaveData/912433/Session2\\20190220133024_912433_BCI.easy\n",
      "Selecting BCI behavioral file: SaveData/912433/Session2\\BCI_912433_R4.csv\n",
      "Skipping N/A\n"
     ]
    },
    {
     "name": "stderr",
     "output_type": "stream",
     "text": [
      "C:\\Users\\nile\\Anaconda3\\envs\\eeg\\lib\\site-packages\\scipy\\signal\\_arraytools.py:45: FutureWarning: Using a non-tuple sequence for multidimensional indexing is deprecated; use `arr[tuple(seq)]` instead of `arr[seq]`. In the future this will be interpreted as an array index, `arr[np.array(seq)]`, which will result either in an error or a different result.\n",
      "  b = a[a_slice]\n",
      "C:\\Users\\nile\\Anaconda3\\envs\\eeg\\lib\\site-packages\\scipy\\signal\\signaltools.py:3463: FutureWarning: Using a non-tuple sequence for multidimensional indexing is deprecated; use `arr[tuple(seq)]` instead of `arr[seq]`. In the future this will be interpreted as an array index, `arr[np.array(seq)]`, which will result either in an error or a different result.\n",
      "  return y[sl]\n"
     ]
    },
    {
     "name": "stdout",
     "output_type": "stream",
     "text": [
      "Selecting model: Models/912433/experimental/Session2\\912433_MI_classifier_2019-03-15-12-32-36.sav\n",
      "Selecting model: Models/912433/experimental/Session2\\912433_MI_classifier_2019-03-15-12-32-25.sav\n",
      "Selecting model: Models/912433/experimental/Session2\\912433_MI_classifier_TL_2019-03-15-12-32-38.sav\n",
      "Selecting BCI EEG file: SaveData/912433/Session2\\20190220133518_912433_BCI.easy\n",
      "Selecting BCI behavioral file: SaveData/912433/Session2\\BCI_912433_R5.csv\n",
      "Skipping N/A\n"
     ]
    },
    {
     "name": "stderr",
     "output_type": "stream",
     "text": [
      "C:\\Users\\nile\\Anaconda3\\envs\\eeg\\lib\\site-packages\\scipy\\signal\\_arraytools.py:45: FutureWarning: Using a non-tuple sequence for multidimensional indexing is deprecated; use `arr[tuple(seq)]` instead of `arr[seq]`. In the future this will be interpreted as an array index, `arr[np.array(seq)]`, which will result either in an error or a different result.\n",
      "  b = a[a_slice]\n",
      "C:\\Users\\nile\\Anaconda3\\envs\\eeg\\lib\\site-packages\\scipy\\signal\\signaltools.py:3463: FutureWarning: Using a non-tuple sequence for multidimensional indexing is deprecated; use `arr[tuple(seq)]` instead of `arr[seq]`. In the future this will be interpreted as an array index, `arr[np.array(seq)]`, which will result either in an error or a different result.\n",
      "  return y[sl]\n"
     ]
    },
    {
     "name": "stdout",
     "output_type": "stream",
     "text": [
      "Selecting model: Models/912433/experimental/Session2\\912433_MI_classifier_2019-03-15-12-32-40.sav\n",
      "Selecting model: Models/912433/experimental/Session2\\912433_MI_classifier_2019-03-15-12-32-25.sav\n",
      "Selecting model: Models/912433/experimental/Session2\\912433_MI_classifier_TL_2019-03-15-12-32-42.sav\n",
      "Selecting BCI EEG file: SaveData/912433/Session3\\20190221161538_912433_BCI.easy\n",
      "Selecting BCI behavioral file: SaveData/912433/Session3\\BCI_912433_R1.csv\n",
      "Skipping N/A\n"
     ]
    },
    {
     "name": "stderr",
     "output_type": "stream",
     "text": [
      "C:\\Users\\nile\\Anaconda3\\envs\\eeg\\lib\\site-packages\\scipy\\signal\\_arraytools.py:45: FutureWarning: Using a non-tuple sequence for multidimensional indexing is deprecated; use `arr[tuple(seq)]` instead of `arr[seq]`. In the future this will be interpreted as an array index, `arr[np.array(seq)]`, which will result either in an error or a different result.\n",
      "  b = a[a_slice]\n",
      "C:\\Users\\nile\\Anaconda3\\envs\\eeg\\lib\\site-packages\\scipy\\signal\\signaltools.py:3463: FutureWarning: Using a non-tuple sequence for multidimensional indexing is deprecated; use `arr[tuple(seq)]` instead of `arr[seq]`. In the future this will be interpreted as an array index, `arr[np.array(seq)]`, which will result either in an error or a different result.\n",
      "  return y[sl]\n"
     ]
    },
    {
     "name": "stdout",
     "output_type": "stream",
     "text": [
      "Selecting model: Models/912433/experimental/Session3\\912433_MI_classifier_2019-03-15-12-34-21.sav\n",
      "Selecting model: Models/912433/experimental/Session3\\912433_MI_classifier_2019-03-15-12-34-21.sav\n",
      "Selecting model: Models/912433/experimental/Session3\\912433_MI_classifier_2019-03-15-12-34-21.sav\n",
      "Selecting BCI EEG file: SaveData/912433/Session3\\20190221162100_912433_BCI.easy\n",
      "Selecting BCI behavioral file: SaveData/912433/Session3\\BCI_912433_R2.csv\n",
      "Skipping N/A\n"
     ]
    },
    {
     "name": "stderr",
     "output_type": "stream",
     "text": [
      "C:\\Users\\nile\\Anaconda3\\envs\\eeg\\lib\\site-packages\\scipy\\signal\\_arraytools.py:45: FutureWarning: Using a non-tuple sequence for multidimensional indexing is deprecated; use `arr[tuple(seq)]` instead of `arr[seq]`. In the future this will be interpreted as an array index, `arr[np.array(seq)]`, which will result either in an error or a different result.\n",
      "  b = a[a_slice]\n",
      "C:\\Users\\nile\\Anaconda3\\envs\\eeg\\lib\\site-packages\\scipy\\signal\\signaltools.py:3463: FutureWarning: Using a non-tuple sequence for multidimensional indexing is deprecated; use `arr[tuple(seq)]` instead of `arr[seq]`. In the future this will be interpreted as an array index, `arr[np.array(seq)]`, which will result either in an error or a different result.\n",
      "  return y[sl]\n"
     ]
    },
    {
     "name": "stdout",
     "output_type": "stream",
     "text": [
      "Selecting model: Models/912433/experimental/Session3\\912433_MI_classifier_2019-03-15-12-34-25.sav\n",
      "Selecting model: Models/912433/experimental/Session3\\912433_MI_classifier_2019-03-15-12-34-21.sav\n",
      "Selecting model: Models/912433/experimental/Session3\\912433_MI_classifier_TL_2019-03-15-12-34-26.sav\n",
      "Selecting BCI EEG file: SaveData/912433/Session3\\20190221162605_912433_BCI.easy\n",
      "Selecting BCI behavioral file: SaveData/912433/Session3\\BCI_912433_R3.csv\n",
      "Skipping N/A\n"
     ]
    },
    {
     "name": "stderr",
     "output_type": "stream",
     "text": [
      "C:\\Users\\nile\\Anaconda3\\envs\\eeg\\lib\\site-packages\\scipy\\signal\\_arraytools.py:45: FutureWarning: Using a non-tuple sequence for multidimensional indexing is deprecated; use `arr[tuple(seq)]` instead of `arr[seq]`. In the future this will be interpreted as an array index, `arr[np.array(seq)]`, which will result either in an error or a different result.\n",
      "  b = a[a_slice]\n",
      "C:\\Users\\nile\\Anaconda3\\envs\\eeg\\lib\\site-packages\\scipy\\signal\\signaltools.py:3463: FutureWarning: Using a non-tuple sequence for multidimensional indexing is deprecated; use `arr[tuple(seq)]` instead of `arr[seq]`. In the future this will be interpreted as an array index, `arr[np.array(seq)]`, which will result either in an error or a different result.\n",
      "  return y[sl]\n"
     ]
    },
    {
     "name": "stdout",
     "output_type": "stream",
     "text": [
      "Selecting model: Models/912433/experimental/Session3\\912433_MI_classifier_2019-03-15-12-34-28.sav\n",
      "Selecting model: Models/912433/experimental/Session3\\912433_MI_classifier_2019-03-15-12-34-21.sav\n",
      "Selecting model: Models/912433/experimental/Session3\\912433_MI_classifier_TL_2019-03-15-12-34-30.sav\n",
      "Selecting BCI EEG file: SaveData/912433/Session3\\20190221163121_912433_BCI.easy\n",
      "Selecting BCI behavioral file: SaveData/912433/Session3\\BCI_912433_R4.csv\n",
      "Skipping N/A\n"
     ]
    },
    {
     "name": "stderr",
     "output_type": "stream",
     "text": [
      "C:\\Users\\nile\\Anaconda3\\envs\\eeg\\lib\\site-packages\\scipy\\signal\\_arraytools.py:45: FutureWarning: Using a non-tuple sequence for multidimensional indexing is deprecated; use `arr[tuple(seq)]` instead of `arr[seq]`. In the future this will be interpreted as an array index, `arr[np.array(seq)]`, which will result either in an error or a different result.\n",
      "  b = a[a_slice]\n",
      "C:\\Users\\nile\\Anaconda3\\envs\\eeg\\lib\\site-packages\\scipy\\signal\\signaltools.py:3463: FutureWarning: Using a non-tuple sequence for multidimensional indexing is deprecated; use `arr[tuple(seq)]` instead of `arr[seq]`. In the future this will be interpreted as an array index, `arr[np.array(seq)]`, which will result either in an error or a different result.\n",
      "  return y[sl]\n"
     ]
    },
    {
     "name": "stdout",
     "output_type": "stream",
     "text": [
      "Selecting model: Models/912433/experimental/Session3\\912433_MI_classifier_2019-03-15-12-34-32.sav\n",
      "Selecting model: Models/912433/experimental/Session3\\912433_MI_classifier_2019-03-15-12-34-21.sav\n",
      "Selecting model: Models/912433/experimental/Session3\\912433_MI_classifier_TL_2019-03-15-12-34-34.sav\n",
      "Selecting BCI EEG file: SaveData/912433/Session3\\20190221163614_912433_BCI.easy\n",
      "Selecting BCI behavioral file: SaveData/912433/Session3\\BCI_912433_R5.csv\n",
      "Skipping N/A\n"
     ]
    },
    {
     "name": "stderr",
     "output_type": "stream",
     "text": [
      "C:\\Users\\nile\\Anaconda3\\envs\\eeg\\lib\\site-packages\\scipy\\signal\\_arraytools.py:45: FutureWarning: Using a non-tuple sequence for multidimensional indexing is deprecated; use `arr[tuple(seq)]` instead of `arr[seq]`. In the future this will be interpreted as an array index, `arr[np.array(seq)]`, which will result either in an error or a different result.\n",
      "  b = a[a_slice]\n",
      "C:\\Users\\nile\\Anaconda3\\envs\\eeg\\lib\\site-packages\\scipy\\signal\\signaltools.py:3463: FutureWarning: Using a non-tuple sequence for multidimensional indexing is deprecated; use `arr[tuple(seq)]` instead of `arr[seq]`. In the future this will be interpreted as an array index, `arr[np.array(seq)]`, which will result either in an error or a different result.\n",
      "  return y[sl]\n"
     ]
    },
    {
     "name": "stdout",
     "output_type": "stream",
     "text": [
      "Selecting model: Models/912433/experimental/Session3\\912433_MI_classifier_2019-03-15-12-34-36.sav\n",
      "Selecting model: Models/912433/experimental/Session3\\912433_MI_classifier_2019-03-15-12-34-21.sav\n",
      "Selecting model: Models/912433/experimental/Session3\\912433_MI_classifier_TL_2019-03-15-12-34-37.sav\n",
      "Selecting BCI EEG file: SaveData/6f6b76/Session1\\20190219092959_6f6b76_BCI.easy\n",
      "Selecting BCI behavioral file: SaveData/6f6b76/Session1\\BCI_6f6b76_R1.csv\n",
      "Skipping N/A\n"
     ]
    },
    {
     "name": "stderr",
     "output_type": "stream",
     "text": [
      "C:\\Users\\nile\\Anaconda3\\envs\\eeg\\lib\\site-packages\\scipy\\signal\\_arraytools.py:45: FutureWarning: Using a non-tuple sequence for multidimensional indexing is deprecated; use `arr[tuple(seq)]` instead of `arr[seq]`. In the future this will be interpreted as an array index, `arr[np.array(seq)]`, which will result either in an error or a different result.\n",
      "  b = a[a_slice]\n",
      "C:\\Users\\nile\\Anaconda3\\envs\\eeg\\lib\\site-packages\\scipy\\signal\\signaltools.py:3463: FutureWarning: Using a non-tuple sequence for multidimensional indexing is deprecated; use `arr[tuple(seq)]` instead of `arr[seq]`. In the future this will be interpreted as an array index, `arr[np.array(seq)]`, which will result either in an error or a different result.\n",
      "  return y[sl]\n"
     ]
    },
    {
     "name": "stdout",
     "output_type": "stream",
     "text": [
      "Selecting model: Models/6f6b76/experimental/Session1\\6f6b76_MI_classifier_2019-03-15-12-43-04.sav\n",
      "Selecting model: Models/6f6b76/experimental/Session1\\6f6b76_MI_classifier_2019-03-15-12-43-04.sav\n",
      "Selecting model: Models/6f6b76/experimental/Session1\\6f6b76_MI_classifier_2019-03-15-12-43-04.sav\n",
      "Selecting BCI EEG file: SaveData/6f6b76/Session1\\20190219093511_6f6b76_BCI.easy\n",
      "Selecting BCI behavioral file: SaveData/6f6b76/Session1\\BCI_6f6b76_R2.csv\n",
      "Skipping N/A\n"
     ]
    },
    {
     "name": "stderr",
     "output_type": "stream",
     "text": [
      "C:\\Users\\nile\\Anaconda3\\envs\\eeg\\lib\\site-packages\\scipy\\signal\\_arraytools.py:45: FutureWarning: Using a non-tuple sequence for multidimensional indexing is deprecated; use `arr[tuple(seq)]` instead of `arr[seq]`. In the future this will be interpreted as an array index, `arr[np.array(seq)]`, which will result either in an error or a different result.\n",
      "  b = a[a_slice]\n",
      "C:\\Users\\nile\\Anaconda3\\envs\\eeg\\lib\\site-packages\\scipy\\signal\\signaltools.py:3463: FutureWarning: Using a non-tuple sequence for multidimensional indexing is deprecated; use `arr[tuple(seq)]` instead of `arr[seq]`. In the future this will be interpreted as an array index, `arr[np.array(seq)]`, which will result either in an error or a different result.\n",
      "  return y[sl]\n"
     ]
    },
    {
     "name": "stdout",
     "output_type": "stream",
     "text": [
      "Selecting model: Models/6f6b76/experimental/Session1\\6f6b76_MI_classifier_2019-03-15-12-43-08.sav\n",
      "Selecting model: Models/6f6b76/experimental/Session1\\6f6b76_MI_classifier_2019-03-15-12-43-04.sav\n",
      "Selecting model: Models/6f6b76/experimental/Session1\\6f6b76_MI_classifier_TL_2019-03-15-12-43-09.sav\n",
      "Selecting BCI EEG file: SaveData/6f6b76/Session1\\20190219094046_6f6b76_BCI.easy\n",
      "Selecting BCI behavioral file: SaveData/6f6b76/Session1\\BCI_6f6b76_R3.csv\n",
      "Skipping N/A\n"
     ]
    },
    {
     "name": "stderr",
     "output_type": "stream",
     "text": [
      "C:\\Users\\nile\\Anaconda3\\envs\\eeg\\lib\\site-packages\\scipy\\signal\\_arraytools.py:45: FutureWarning: Using a non-tuple sequence for multidimensional indexing is deprecated; use `arr[tuple(seq)]` instead of `arr[seq]`. In the future this will be interpreted as an array index, `arr[np.array(seq)]`, which will result either in an error or a different result.\n",
      "  b = a[a_slice]\n",
      "C:\\Users\\nile\\Anaconda3\\envs\\eeg\\lib\\site-packages\\scipy\\signal\\signaltools.py:3463: FutureWarning: Using a non-tuple sequence for multidimensional indexing is deprecated; use `arr[tuple(seq)]` instead of `arr[seq]`. In the future this will be interpreted as an array index, `arr[np.array(seq)]`, which will result either in an error or a different result.\n",
      "  return y[sl]\n"
     ]
    },
    {
     "name": "stdout",
     "output_type": "stream",
     "text": [
      "Selecting model: Models/6f6b76/experimental/Session1\\6f6b76_MI_classifier_2019-03-15-12-43-12.sav\n",
      "Selecting model: Models/6f6b76/experimental/Session1\\6f6b76_MI_classifier_2019-03-15-12-43-04.sav\n",
      "Selecting model: Models/6f6b76/experimental/Session1\\6f6b76_MI_classifier_TL_2019-03-15-12-43-13.sav\n",
      "Selecting BCI EEG file: SaveData/6f6b76/Session1\\20190219094542_6f6b76_BCI.easy\n",
      "Selecting BCI behavioral file: SaveData/6f6b76/Session1\\BCI_6f6b76_R4.csv\n",
      "Skipping N/A\n"
     ]
    },
    {
     "name": "stderr",
     "output_type": "stream",
     "text": [
      "C:\\Users\\nile\\Anaconda3\\envs\\eeg\\lib\\site-packages\\scipy\\signal\\_arraytools.py:45: FutureWarning: Using a non-tuple sequence for multidimensional indexing is deprecated; use `arr[tuple(seq)]` instead of `arr[seq]`. In the future this will be interpreted as an array index, `arr[np.array(seq)]`, which will result either in an error or a different result.\n",
      "  b = a[a_slice]\n",
      "C:\\Users\\nile\\Anaconda3\\envs\\eeg\\lib\\site-packages\\scipy\\signal\\signaltools.py:3463: FutureWarning: Using a non-tuple sequence for multidimensional indexing is deprecated; use `arr[tuple(seq)]` instead of `arr[seq]`. In the future this will be interpreted as an array index, `arr[np.array(seq)]`, which will result either in an error or a different result.\n",
      "  return y[sl]\n"
     ]
    },
    {
     "name": "stdout",
     "output_type": "stream",
     "text": [
      "Selecting model: Models/6f6b76/experimental/Session1\\6f6b76_MI_classifier_2019-03-15-12-43-15.sav\n",
      "Selecting model: Models/6f6b76/experimental/Session1\\6f6b76_MI_classifier_2019-03-15-12-43-04.sav\n",
      "Selecting model: Models/6f6b76/experimental/Session1\\6f6b76_MI_classifier_TL_2019-03-15-12-43-17.sav\n",
      "Selecting BCI EEG file: SaveData/6f6b76/Session1\\20190219095102_6f6b76_BCI.easy\n",
      "Selecting BCI behavioral file: SaveData/6f6b76/Session1\\BCI_6f6b76_R5.csv\n",
      "Skipping N/A\n"
     ]
    },
    {
     "name": "stderr",
     "output_type": "stream",
     "text": [
      "C:\\Users\\nile\\Anaconda3\\envs\\eeg\\lib\\site-packages\\scipy\\signal\\_arraytools.py:45: FutureWarning: Using a non-tuple sequence for multidimensional indexing is deprecated; use `arr[tuple(seq)]` instead of `arr[seq]`. In the future this will be interpreted as an array index, `arr[np.array(seq)]`, which will result either in an error or a different result.\n",
      "  b = a[a_slice]\n",
      "C:\\Users\\nile\\Anaconda3\\envs\\eeg\\lib\\site-packages\\scipy\\signal\\signaltools.py:3463: FutureWarning: Using a non-tuple sequence for multidimensional indexing is deprecated; use `arr[tuple(seq)]` instead of `arr[seq]`. In the future this will be interpreted as an array index, `arr[np.array(seq)]`, which will result either in an error or a different result.\n",
      "  return y[sl]\n"
     ]
    },
    {
     "name": "stdout",
     "output_type": "stream",
     "text": [
      "Selecting model: Models/6f6b76/experimental/Session1\\6f6b76_MI_classifier_2019-03-15-12-43-19.sav\n",
      "Selecting model: Models/6f6b76/experimental/Session1\\6f6b76_MI_classifier_2019-03-15-12-43-04.sav\n",
      "Selecting model: Models/6f6b76/experimental/Session1\\6f6b76_MI_classifier_TL_2019-03-15-12-43-20.sav\n",
      "Selecting BCI EEG file: SaveData/6f6b76/Session2\\20190220090651_6f6b76_BCI.easy\n",
      "Selecting BCI behavioral file: SaveData/6f6b76/Session2\\BCI_6f6b76_R1.csv\n",
      "Skipping N/A\n"
     ]
    },
    {
     "name": "stderr",
     "output_type": "stream",
     "text": [
      "C:\\Users\\nile\\Anaconda3\\envs\\eeg\\lib\\site-packages\\scipy\\signal\\_arraytools.py:45: FutureWarning: Using a non-tuple sequence for multidimensional indexing is deprecated; use `arr[tuple(seq)]` instead of `arr[seq]`. In the future this will be interpreted as an array index, `arr[np.array(seq)]`, which will result either in an error or a different result.\n",
      "  b = a[a_slice]\n",
      "C:\\Users\\nile\\Anaconda3\\envs\\eeg\\lib\\site-packages\\scipy\\signal\\signaltools.py:3463: FutureWarning: Using a non-tuple sequence for multidimensional indexing is deprecated; use `arr[tuple(seq)]` instead of `arr[seq]`. In the future this will be interpreted as an array index, `arr[np.array(seq)]`, which will result either in an error or a different result.\n",
      "  return y[sl]\n"
     ]
    },
    {
     "name": "stdout",
     "output_type": "stream",
     "text": [
      "Selecting model: Models/6f6b76/experimental/Session2\\6f6b76_MI_classifier_2019-03-15-12-49-46.sav\n",
      "Selecting model: Models/6f6b76/experimental/Session2\\6f6b76_MI_classifier_2019-03-15-12-49-46.sav\n",
      "Selecting model: Models/6f6b76/experimental/Session2\\6f6b76_MI_classifier_2019-03-15-12-49-46.sav\n",
      "Selecting BCI EEG file: SaveData/6f6b76/Session2\\20190220091141_6f6b76_BCI.easy\n",
      "Selecting BCI behavioral file: SaveData/6f6b76/Session2\\BCI_6f6b76_R2.csv\n",
      "Skipping N/A\n"
     ]
    },
    {
     "name": "stderr",
     "output_type": "stream",
     "text": [
      "C:\\Users\\nile\\Anaconda3\\envs\\eeg\\lib\\site-packages\\scipy\\signal\\_arraytools.py:45: FutureWarning: Using a non-tuple sequence for multidimensional indexing is deprecated; use `arr[tuple(seq)]` instead of `arr[seq]`. In the future this will be interpreted as an array index, `arr[np.array(seq)]`, which will result either in an error or a different result.\n",
      "  b = a[a_slice]\n",
      "C:\\Users\\nile\\Anaconda3\\envs\\eeg\\lib\\site-packages\\scipy\\signal\\signaltools.py:3463: FutureWarning: Using a non-tuple sequence for multidimensional indexing is deprecated; use `arr[tuple(seq)]` instead of `arr[seq]`. In the future this will be interpreted as an array index, `arr[np.array(seq)]`, which will result either in an error or a different result.\n",
      "  return y[sl]\n"
     ]
    },
    {
     "name": "stdout",
     "output_type": "stream",
     "text": [
      "Selecting model: Models/6f6b76/experimental/Session2\\6f6b76_MI_classifier_2019-03-15-12-49-50.sav\n",
      "Selecting model: Models/6f6b76/experimental/Session2\\6f6b76_MI_classifier_2019-03-15-12-49-46.sav\n",
      "Selecting model: Models/6f6b76/experimental/Session2\\6f6b76_MI_classifier_TL_2019-03-15-12-49-50.sav\n",
      "Selecting BCI EEG file: SaveData/6f6b76/Session2\\20190220091639_6f6b76_BCI.easy\n",
      "Selecting BCI behavioral file: SaveData/6f6b76/Session2\\BCI_6f6b76_R3.csv\n",
      "Skipping N/A\n"
     ]
    },
    {
     "name": "stderr",
     "output_type": "stream",
     "text": [
      "C:\\Users\\nile\\Anaconda3\\envs\\eeg\\lib\\site-packages\\scipy\\signal\\_arraytools.py:45: FutureWarning: Using a non-tuple sequence for multidimensional indexing is deprecated; use `arr[tuple(seq)]` instead of `arr[seq]`. In the future this will be interpreted as an array index, `arr[np.array(seq)]`, which will result either in an error or a different result.\n",
      "  b = a[a_slice]\n",
      "C:\\Users\\nile\\Anaconda3\\envs\\eeg\\lib\\site-packages\\scipy\\signal\\signaltools.py:3463: FutureWarning: Using a non-tuple sequence for multidimensional indexing is deprecated; use `arr[tuple(seq)]` instead of `arr[seq]`. In the future this will be interpreted as an array index, `arr[np.array(seq)]`, which will result either in an error or a different result.\n",
      "  return y[sl]\n"
     ]
    },
    {
     "name": "stdout",
     "output_type": "stream",
     "text": [
      "Selecting model: Models/6f6b76/experimental/Session2\\6f6b76_MI_classifier_2019-03-15-12-49-53.sav\n",
      "Selecting model: Models/6f6b76/experimental/Session2\\6f6b76_MI_classifier_2019-03-15-12-49-46.sav\n",
      "Selecting model: Models/6f6b76/experimental/Session2\\6f6b76_MI_classifier_TL_2019-03-15-12-49-54.sav\n",
      "Selecting BCI EEG file: SaveData/6f6b76/Session2\\20190220092131_6f6b76_BCI.easy\n",
      "Selecting BCI behavioral file: SaveData/6f6b76/Session2\\BCI_6f6b76_R4.csv\n",
      "Skipping N/A\n"
     ]
    },
    {
     "name": "stderr",
     "output_type": "stream",
     "text": [
      "C:\\Users\\nile\\Anaconda3\\envs\\eeg\\lib\\site-packages\\scipy\\signal\\_arraytools.py:45: FutureWarning: Using a non-tuple sequence for multidimensional indexing is deprecated; use `arr[tuple(seq)]` instead of `arr[seq]`. In the future this will be interpreted as an array index, `arr[np.array(seq)]`, which will result either in an error or a different result.\n",
      "  b = a[a_slice]\n",
      "C:\\Users\\nile\\Anaconda3\\envs\\eeg\\lib\\site-packages\\scipy\\signal\\signaltools.py:3463: FutureWarning: Using a non-tuple sequence for multidimensional indexing is deprecated; use `arr[tuple(seq)]` instead of `arr[seq]`. In the future this will be interpreted as an array index, `arr[np.array(seq)]`, which will result either in an error or a different result.\n",
      "  return y[sl]\n"
     ]
    },
    {
     "name": "stdout",
     "output_type": "stream",
     "text": [
      "Selecting model: Models/6f6b76/experimental/Session2\\6f6b76_MI_classifier_2019-03-15-12-49-57.sav\n",
      "Selecting model: Models/6f6b76/experimental/Session2\\6f6b76_MI_classifier_2019-03-15-12-49-46.sav\n",
      "Selecting model: Models/6f6b76/experimental/Session2\\6f6b76_MI_classifier_TL_2019-03-15-12-49-58.sav\n",
      "Selecting BCI EEG file: SaveData/6f6b76/Session2\\20190220092622_6f6b76_BCI.easy\n",
      "Selecting BCI behavioral file: SaveData/6f6b76/Session2\\BCI_6f6b76_R5.csv\n",
      "Skipping N/A\n"
     ]
    },
    {
     "name": "stderr",
     "output_type": "stream",
     "text": [
      "C:\\Users\\nile\\Anaconda3\\envs\\eeg\\lib\\site-packages\\scipy\\signal\\_arraytools.py:45: FutureWarning: Using a non-tuple sequence for multidimensional indexing is deprecated; use `arr[tuple(seq)]` instead of `arr[seq]`. In the future this will be interpreted as an array index, `arr[np.array(seq)]`, which will result either in an error or a different result.\n",
      "  b = a[a_slice]\n",
      "C:\\Users\\nile\\Anaconda3\\envs\\eeg\\lib\\site-packages\\scipy\\signal\\signaltools.py:3463: FutureWarning: Using a non-tuple sequence for multidimensional indexing is deprecated; use `arr[tuple(seq)]` instead of `arr[seq]`. In the future this will be interpreted as an array index, `arr[np.array(seq)]`, which will result either in an error or a different result.\n",
      "  return y[sl]\n"
     ]
    },
    {
     "name": "stdout",
     "output_type": "stream",
     "text": [
      "Selecting model: Models/6f6b76/experimental/Session2\\6f6b76_MI_classifier_2019-03-15-12-50-01.sav\n",
      "Selecting model: Models/6f6b76/experimental/Session2\\6f6b76_MI_classifier_2019-03-15-12-49-46.sav\n",
      "Selecting model: Models/6f6b76/experimental/Session2\\6f6b76_MI_classifier_TL_2019-03-15-12-50-02.sav\n",
      "Selecting BCI EEG file: SaveData/6f6b76/Session3\\20190221090606_6f6b76_BCI.easy\n",
      "Selecting BCI behavioral file: SaveData/6f6b76/Session3\\BCI_6f6b76_R1.csv\n",
      "Skipping N/A\n"
     ]
    },
    {
     "name": "stderr",
     "output_type": "stream",
     "text": [
      "C:\\Users\\nile\\Anaconda3\\envs\\eeg\\lib\\site-packages\\scipy\\signal\\_arraytools.py:45: FutureWarning: Using a non-tuple sequence for multidimensional indexing is deprecated; use `arr[tuple(seq)]` instead of `arr[seq]`. In the future this will be interpreted as an array index, `arr[np.array(seq)]`, which will result either in an error or a different result.\n",
      "  b = a[a_slice]\n",
      "C:\\Users\\nile\\Anaconda3\\envs\\eeg\\lib\\site-packages\\scipy\\signal\\signaltools.py:3463: FutureWarning: Using a non-tuple sequence for multidimensional indexing is deprecated; use `arr[tuple(seq)]` instead of `arr[seq]`. In the future this will be interpreted as an array index, `arr[np.array(seq)]`, which will result either in an error or a different result.\n",
      "  return y[sl]\n"
     ]
    },
    {
     "name": "stdout",
     "output_type": "stream",
     "text": [
      "Selecting model: Models/6f6b76/experimental/Session3\\6f6b76_MI_classifier_2019-03-15-12-51-40.sav\n",
      "Selecting model: Models/6f6b76/experimental/Session3\\6f6b76_MI_classifier_2019-03-15-12-51-40.sav\n",
      "Selecting model: Models/6f6b76/experimental/Session3\\6f6b76_MI_classifier_2019-03-15-12-51-40.sav\n",
      "Selecting BCI EEG file: SaveData/6f6b76/Session3\\20190221091209_6f6b76_BCI.easy\n",
      "Selecting BCI behavioral file: SaveData/6f6b76/Session3\\BCI_6f6b76_R2.csv\n",
      "Skipping N/A\n"
     ]
    },
    {
     "name": "stderr",
     "output_type": "stream",
     "text": [
      "C:\\Users\\nile\\Anaconda3\\envs\\eeg\\lib\\site-packages\\scipy\\signal\\_arraytools.py:45: FutureWarning: Using a non-tuple sequence for multidimensional indexing is deprecated; use `arr[tuple(seq)]` instead of `arr[seq]`. In the future this will be interpreted as an array index, `arr[np.array(seq)]`, which will result either in an error or a different result.\n",
      "  b = a[a_slice]\n",
      "C:\\Users\\nile\\Anaconda3\\envs\\eeg\\lib\\site-packages\\scipy\\signal\\signaltools.py:3463: FutureWarning: Using a non-tuple sequence for multidimensional indexing is deprecated; use `arr[tuple(seq)]` instead of `arr[seq]`. In the future this will be interpreted as an array index, `arr[np.array(seq)]`, which will result either in an error or a different result.\n",
      "  return y[sl]\n"
     ]
    },
    {
     "name": "stdout",
     "output_type": "stream",
     "text": [
      "Selecting model: Models/6f6b76/experimental/Session3\\6f6b76_MI_classifier_2019-03-15-12-51-44.sav\n",
      "Selecting model: Models/6f6b76/experimental/Session3\\6f6b76_MI_classifier_2019-03-15-12-51-40.sav\n",
      "Selecting model: Models/6f6b76/experimental/Session3\\6f6b76_MI_classifier_TL_2019-03-15-12-51-45.sav\n",
      "Selecting BCI EEG file: SaveData/6f6b76/Session3\\20190221091731_6f6b76_BCI.easy\n",
      "Selecting BCI behavioral file: SaveData/6f6b76/Session3\\BCI_6f6b76_R3.csv\n",
      "Skipping N/A\n"
     ]
    },
    {
     "name": "stderr",
     "output_type": "stream",
     "text": [
      "C:\\Users\\nile\\Anaconda3\\envs\\eeg\\lib\\site-packages\\scipy\\signal\\_arraytools.py:45: FutureWarning: Using a non-tuple sequence for multidimensional indexing is deprecated; use `arr[tuple(seq)]` instead of `arr[seq]`. In the future this will be interpreted as an array index, `arr[np.array(seq)]`, which will result either in an error or a different result.\n",
      "  b = a[a_slice]\n",
      "C:\\Users\\nile\\Anaconda3\\envs\\eeg\\lib\\site-packages\\scipy\\signal\\signaltools.py:3463: FutureWarning: Using a non-tuple sequence for multidimensional indexing is deprecated; use `arr[tuple(seq)]` instead of `arr[seq]`. In the future this will be interpreted as an array index, `arr[np.array(seq)]`, which will result either in an error or a different result.\n",
      "  return y[sl]\n"
     ]
    },
    {
     "name": "stdout",
     "output_type": "stream",
     "text": [
      "Selecting model: Models/6f6b76/experimental/Session3\\6f6b76_MI_classifier_2019-03-15-12-51-47.sav\n",
      "Selecting model: Models/6f6b76/experimental/Session3\\6f6b76_MI_classifier_2019-03-15-12-51-40.sav\n",
      "Selecting model: Models/6f6b76/experimental/Session3\\6f6b76_MI_classifier_TL_2019-03-15-12-51-49.sav\n",
      "Selecting BCI EEG file: SaveData/6f6b76/Session3\\20190221092248_6f6b76_BCI.easy\n",
      "Selecting BCI behavioral file: SaveData/6f6b76/Session3\\BCI_6f6b76_R4.csv\n",
      "Skipping N/A\n"
     ]
    },
    {
     "name": "stderr",
     "output_type": "stream",
     "text": [
      "C:\\Users\\nile\\Anaconda3\\envs\\eeg\\lib\\site-packages\\scipy\\signal\\_arraytools.py:45: FutureWarning: Using a non-tuple sequence for multidimensional indexing is deprecated; use `arr[tuple(seq)]` instead of `arr[seq]`. In the future this will be interpreted as an array index, `arr[np.array(seq)]`, which will result either in an error or a different result.\n",
      "  b = a[a_slice]\n",
      "C:\\Users\\nile\\Anaconda3\\envs\\eeg\\lib\\site-packages\\scipy\\signal\\signaltools.py:3463: FutureWarning: Using a non-tuple sequence for multidimensional indexing is deprecated; use `arr[tuple(seq)]` instead of `arr[seq]`. In the future this will be interpreted as an array index, `arr[np.array(seq)]`, which will result either in an error or a different result.\n",
      "  return y[sl]\n"
     ]
    },
    {
     "name": "stdout",
     "output_type": "stream",
     "text": [
      "Selecting model: Models/6f6b76/experimental/Session3\\6f6b76_MI_classifier_2019-03-15-12-51-52.sav\n",
      "Selecting model: Models/6f6b76/experimental/Session3\\6f6b76_MI_classifier_2019-03-15-12-51-40.sav\n",
      "Selecting model: Models/6f6b76/experimental/Session3\\6f6b76_MI_classifier_TL_2019-03-15-12-51-53.sav\n",
      "Selecting BCI EEG file: SaveData/6f6b76/Session3\\20190221092802_6f6b76_BCI.easy\n",
      "Selecting BCI behavioral file: SaveData/6f6b76/Session3\\BCI_6f6b76_R5.csv\n"
     ]
    },
    {
     "name": "stderr",
     "output_type": "stream",
     "text": [
      "C:\\Users\\nile\\Anaconda3\\envs\\eeg\\lib\\site-packages\\scipy\\signal\\_arraytools.py:45: FutureWarning: Using a non-tuple sequence for multidimensional indexing is deprecated; use `arr[tuple(seq)]` instead of `arr[seq]`. In the future this will be interpreted as an array index, `arr[np.array(seq)]`, which will result either in an error or a different result.\n",
      "  b = a[a_slice]\n",
      "C:\\Users\\nile\\Anaconda3\\envs\\eeg\\lib\\site-packages\\scipy\\signal\\signaltools.py:3463: FutureWarning: Using a non-tuple sequence for multidimensional indexing is deprecated; use `arr[tuple(seq)]` instead of `arr[seq]`. In the future this will be interpreted as an array index, `arr[np.array(seq)]`, which will result either in an error or a different result.\n",
      "  return y[sl]\n"
     ]
    },
    {
     "name": "stdout",
     "output_type": "stream",
     "text": [
      "Skipping N/A\n",
      "Selecting model: Models/6f6b76/experimental/Session3\\6f6b76_MI_classifier_2019-03-15-12-51-56.sav\n",
      "Selecting model: Models/6f6b76/experimental/Session3\\6f6b76_MI_classifier_2019-03-15-12-51-40.sav\n",
      "Selecting model: Models/6f6b76/experimental/Session3\\6f6b76_MI_classifier_TL_2019-03-15-12-51-57.sav\n",
      "Selecting BCI EEG file: SaveData/dcdb48/Session1\\20190213152007_dcdb48_BCI.easy\n",
      "Selecting BCI behavioral file: SaveData/dcdb48/Session1\\BCI_dcdb48_R1.csv\n",
      "Skipping N/A\n"
     ]
    },
    {
     "name": "stderr",
     "output_type": "stream",
     "text": [
      "C:\\Users\\nile\\Anaconda3\\envs\\eeg\\lib\\site-packages\\scipy\\signal\\_arraytools.py:45: FutureWarning: Using a non-tuple sequence for multidimensional indexing is deprecated; use `arr[tuple(seq)]` instead of `arr[seq]`. In the future this will be interpreted as an array index, `arr[np.array(seq)]`, which will result either in an error or a different result.\n",
      "  b = a[a_slice]\n",
      "C:\\Users\\nile\\Anaconda3\\envs\\eeg\\lib\\site-packages\\scipy\\signal\\signaltools.py:3463: FutureWarning: Using a non-tuple sequence for multidimensional indexing is deprecated; use `arr[tuple(seq)]` instead of `arr[seq]`. In the future this will be interpreted as an array index, `arr[np.array(seq)]`, which will result either in an error or a different result.\n",
      "  return y[sl]\n"
     ]
    },
    {
     "name": "stdout",
     "output_type": "stream",
     "text": [
      "Selecting model: Models/dcdb48/experimental/Session1\\dcdb48_MI_classifier_2019-03-15-13-02-45.sav\n",
      "Selecting model: Models/dcdb48/experimental/Session1\\dcdb48_MI_classifier_2019-03-15-13-02-45.sav\n",
      "Selecting model: Models/dcdb48/experimental/Session1\\dcdb48_MI_classifier_2019-03-15-13-02-45.sav\n",
      "Selecting BCI EEG file: SaveData/dcdb48/Session1\\20190213152545_dcdb48_BCI.easy\n",
      "Selecting BCI behavioral file: SaveData/dcdb48/Session1\\BCI_dcdb48_R2.csv\n",
      "Skipping N/A\n"
     ]
    },
    {
     "name": "stderr",
     "output_type": "stream",
     "text": [
      "C:\\Users\\nile\\Anaconda3\\envs\\eeg\\lib\\site-packages\\scipy\\signal\\_arraytools.py:45: FutureWarning: Using a non-tuple sequence for multidimensional indexing is deprecated; use `arr[tuple(seq)]` instead of `arr[seq]`. In the future this will be interpreted as an array index, `arr[np.array(seq)]`, which will result either in an error or a different result.\n",
      "  b = a[a_slice]\n",
      "C:\\Users\\nile\\Anaconda3\\envs\\eeg\\lib\\site-packages\\scipy\\signal\\signaltools.py:3463: FutureWarning: Using a non-tuple sequence for multidimensional indexing is deprecated; use `arr[tuple(seq)]` instead of `arr[seq]`. In the future this will be interpreted as an array index, `arr[np.array(seq)]`, which will result either in an error or a different result.\n",
      "  return y[sl]\n"
     ]
    },
    {
     "name": "stdout",
     "output_type": "stream",
     "text": [
      "Selecting model: Models/dcdb48/experimental/Session1\\dcdb48_MI_classifier_2019-03-15-13-02-49.sav\n",
      "Selecting model: Models/dcdb48/experimental/Session1\\dcdb48_MI_classifier_2019-03-15-13-02-45.sav\n",
      "Selecting model: Models/dcdb48/experimental/Session1\\dcdb48_MI_classifier_TL_2019-03-15-13-02-50.sav\n",
      "Selecting BCI EEG file: SaveData/dcdb48/Session1\\20190213153037_dcdb48_BCI.easy\n",
      "Selecting BCI behavioral file: SaveData/dcdb48/Session1\\BCI_dcdb48_R3.csv\n",
      "Skipping N/A\n"
     ]
    },
    {
     "name": "stderr",
     "output_type": "stream",
     "text": [
      "C:\\Users\\nile\\Anaconda3\\envs\\eeg\\lib\\site-packages\\scipy\\signal\\_arraytools.py:45: FutureWarning: Using a non-tuple sequence for multidimensional indexing is deprecated; use `arr[tuple(seq)]` instead of `arr[seq]`. In the future this will be interpreted as an array index, `arr[np.array(seq)]`, which will result either in an error or a different result.\n",
      "  b = a[a_slice]\n",
      "C:\\Users\\nile\\Anaconda3\\envs\\eeg\\lib\\site-packages\\scipy\\signal\\signaltools.py:3463: FutureWarning: Using a non-tuple sequence for multidimensional indexing is deprecated; use `arr[tuple(seq)]` instead of `arr[seq]`. In the future this will be interpreted as an array index, `arr[np.array(seq)]`, which will result either in an error or a different result.\n",
      "  return y[sl]\n"
     ]
    },
    {
     "name": "stdout",
     "output_type": "stream",
     "text": [
      "Selecting model: Models/dcdb48/experimental/Session1\\dcdb48_MI_classifier_2019-03-15-13-02-52.sav\n",
      "Selecting model: Models/dcdb48/experimental/Session1\\dcdb48_MI_classifier_2019-03-15-13-02-45.sav\n",
      "Selecting model: Models/dcdb48/experimental/Session1\\dcdb48_MI_classifier_TL_2019-03-15-13-02-53.sav\n",
      "Selecting BCI EEG file: SaveData/dcdb48/Session1\\20190213153654_dcdb48_BCI.easy\n",
      "Selecting BCI behavioral file: SaveData/dcdb48/Session1\\BCI_dcdb48_R4.csv\n",
      "Skipping N/A\n"
     ]
    },
    {
     "name": "stderr",
     "output_type": "stream",
     "text": [
      "C:\\Users\\nile\\Anaconda3\\envs\\eeg\\lib\\site-packages\\scipy\\signal\\_arraytools.py:45: FutureWarning: Using a non-tuple sequence for multidimensional indexing is deprecated; use `arr[tuple(seq)]` instead of `arr[seq]`. In the future this will be interpreted as an array index, `arr[np.array(seq)]`, which will result either in an error or a different result.\n",
      "  b = a[a_slice]\n",
      "C:\\Users\\nile\\Anaconda3\\envs\\eeg\\lib\\site-packages\\scipy\\signal\\signaltools.py:3463: FutureWarning: Using a non-tuple sequence for multidimensional indexing is deprecated; use `arr[tuple(seq)]` instead of `arr[seq]`. In the future this will be interpreted as an array index, `arr[np.array(seq)]`, which will result either in an error or a different result.\n",
      "  return y[sl]\n"
     ]
    },
    {
     "name": "stdout",
     "output_type": "stream",
     "text": [
      "Selecting model: Models/dcdb48/experimental/Session1\\dcdb48_MI_classifier_2019-03-15-13-02-56.sav\n",
      "Selecting model: Models/dcdb48/experimental/Session1\\dcdb48_MI_classifier_2019-03-15-13-02-45.sav\n",
      "Selecting model: Models/dcdb48/experimental/Session1\\dcdb48_MI_classifier_TL_2019-03-15-13-02-57.sav\n",
      "Selecting BCI EEG file: SaveData/dcdb48/Session1\\20190213154217_dcdb48_BCI.easy\n",
      "Selecting BCI behavioral file: SaveData/dcdb48/Session1\\BCI_dcdb48_R5.csv\n",
      "Skipping N/A\n"
     ]
    },
    {
     "name": "stderr",
     "output_type": "stream",
     "text": [
      "C:\\Users\\nile\\Anaconda3\\envs\\eeg\\lib\\site-packages\\scipy\\signal\\_arraytools.py:45: FutureWarning: Using a non-tuple sequence for multidimensional indexing is deprecated; use `arr[tuple(seq)]` instead of `arr[seq]`. In the future this will be interpreted as an array index, `arr[np.array(seq)]`, which will result either in an error or a different result.\n",
      "  b = a[a_slice]\n",
      "C:\\Users\\nile\\Anaconda3\\envs\\eeg\\lib\\site-packages\\scipy\\signal\\signaltools.py:3463: FutureWarning: Using a non-tuple sequence for multidimensional indexing is deprecated; use `arr[tuple(seq)]` instead of `arr[seq]`. In the future this will be interpreted as an array index, `arr[np.array(seq)]`, which will result either in an error or a different result.\n",
      "  return y[sl]\n"
     ]
    },
    {
     "name": "stdout",
     "output_type": "stream",
     "text": [
      "Selecting model: Models/dcdb48/experimental/Session1\\dcdb48_MI_classifier_2019-03-15-13-03-00.sav\n",
      "Selecting model: Models/dcdb48/experimental/Session1\\dcdb48_MI_classifier_2019-03-15-13-02-45.sav\n",
      "Selecting model: Models/dcdb48/experimental/Session1\\dcdb48_MI_classifier_TL_2019-03-15-13-03-01.sav\n",
      "Selecting BCI EEG file: SaveData/dcdb48/Session2\\20190214091623_dcdb48_BCI.easy\n",
      "Selecting BCI behavioral file: SaveData/dcdb48/Session2\\BCI_dcdb48_R1.csv\n",
      "Skipping N/A\n"
     ]
    },
    {
     "name": "stderr",
     "output_type": "stream",
     "text": [
      "C:\\Users\\nile\\Anaconda3\\envs\\eeg\\lib\\site-packages\\scipy\\signal\\_arraytools.py:45: FutureWarning: Using a non-tuple sequence for multidimensional indexing is deprecated; use `arr[tuple(seq)]` instead of `arr[seq]`. In the future this will be interpreted as an array index, `arr[np.array(seq)]`, which will result either in an error or a different result.\n",
      "  b = a[a_slice]\n",
      "C:\\Users\\nile\\Anaconda3\\envs\\eeg\\lib\\site-packages\\scipy\\signal\\signaltools.py:3463: FutureWarning: Using a non-tuple sequence for multidimensional indexing is deprecated; use `arr[tuple(seq)]` instead of `arr[seq]`. In the future this will be interpreted as an array index, `arr[np.array(seq)]`, which will result either in an error or a different result.\n",
      "  return y[sl]\n"
     ]
    },
    {
     "name": "stdout",
     "output_type": "stream",
     "text": [
      "Selecting model: Models/dcdb48/experimental/Session2\\dcdb48_MI_classifier_2019-03-15-13-04-56.sav\n",
      "Selecting model: Models/dcdb48/experimental/Session2\\dcdb48_MI_classifier_2019-03-15-13-04-56.sav\n",
      "Selecting model: Models/dcdb48/experimental/Session2\\dcdb48_MI_classifier_2019-03-15-13-04-56.sav\n",
      "Selecting BCI EEG file: SaveData/dcdb48/Session2\\20190214092158_dcdb48_BCI.easy\n",
      "Selecting BCI behavioral file: SaveData/dcdb48/Session2\\BCI_dcdb48_R2.csv\n",
      "Skipping N/A\n"
     ]
    },
    {
     "name": "stderr",
     "output_type": "stream",
     "text": [
      "C:\\Users\\nile\\Anaconda3\\envs\\eeg\\lib\\site-packages\\scipy\\signal\\_arraytools.py:45: FutureWarning: Using a non-tuple sequence for multidimensional indexing is deprecated; use `arr[tuple(seq)]` instead of `arr[seq]`. In the future this will be interpreted as an array index, `arr[np.array(seq)]`, which will result either in an error or a different result.\n",
      "  b = a[a_slice]\n",
      "C:\\Users\\nile\\Anaconda3\\envs\\eeg\\lib\\site-packages\\scipy\\signal\\signaltools.py:3463: FutureWarning: Using a non-tuple sequence for multidimensional indexing is deprecated; use `arr[tuple(seq)]` instead of `arr[seq]`. In the future this will be interpreted as an array index, `arr[np.array(seq)]`, which will result either in an error or a different result.\n",
      "  return y[sl]\n"
     ]
    },
    {
     "name": "stdout",
     "output_type": "stream",
     "text": [
      "Selecting model: Models/dcdb48/experimental/Session2\\dcdb48_MI_classifier_2019-03-15-13-05-00.sav\n",
      "Selecting model: Models/dcdb48/experimental/Session2\\dcdb48_MI_classifier_2019-03-15-13-04-56.sav\n",
      "Selecting model: Models/dcdb48/experimental/Session2\\dcdb48_MI_classifier_TL_2019-03-15-13-05-00.sav\n",
      "Selecting BCI EEG file: SaveData/dcdb48/Session2\\20190214092723_dcdb48_BCI.easy\n",
      "Selecting BCI behavioral file: SaveData/dcdb48/Session2\\BCI_dcdb48_R3.csv\n",
      "Skipping N/A\n"
     ]
    },
    {
     "name": "stderr",
     "output_type": "stream",
     "text": [
      "C:\\Users\\nile\\Anaconda3\\envs\\eeg\\lib\\site-packages\\scipy\\signal\\_arraytools.py:45: FutureWarning: Using a non-tuple sequence for multidimensional indexing is deprecated; use `arr[tuple(seq)]` instead of `arr[seq]`. In the future this will be interpreted as an array index, `arr[np.array(seq)]`, which will result either in an error or a different result.\n",
      "  b = a[a_slice]\n",
      "C:\\Users\\nile\\Anaconda3\\envs\\eeg\\lib\\site-packages\\scipy\\signal\\signaltools.py:3463: FutureWarning: Using a non-tuple sequence for multidimensional indexing is deprecated; use `arr[tuple(seq)]` instead of `arr[seq]`. In the future this will be interpreted as an array index, `arr[np.array(seq)]`, which will result either in an error or a different result.\n",
      "  return y[sl]\n"
     ]
    },
    {
     "name": "stdout",
     "output_type": "stream",
     "text": [
      "Selecting model: Models/dcdb48/experimental/Session2\\dcdb48_MI_classifier_2019-03-15-13-05-03.sav\n",
      "Selecting model: Models/dcdb48/experimental/Session2\\dcdb48_MI_classifier_2019-03-15-13-04-56.sav\n",
      "Selecting model: Models/dcdb48/experimental/Session2\\dcdb48_MI_classifier_TL_2019-03-15-13-05-04.sav\n",
      "Selecting BCI EEG file: SaveData/dcdb48/Session2\\20190214093308_dcdb48_BCI.easy\n",
      "Selecting BCI behavioral file: SaveData/dcdb48/Session2\\BCI_dcdb48_R4.csv\n",
      "Skipping N/A\n"
     ]
    },
    {
     "name": "stderr",
     "output_type": "stream",
     "text": [
      "C:\\Users\\nile\\Anaconda3\\envs\\eeg\\lib\\site-packages\\scipy\\signal\\_arraytools.py:45: FutureWarning: Using a non-tuple sequence for multidimensional indexing is deprecated; use `arr[tuple(seq)]` instead of `arr[seq]`. In the future this will be interpreted as an array index, `arr[np.array(seq)]`, which will result either in an error or a different result.\n",
      "  b = a[a_slice]\n",
      "C:\\Users\\nile\\Anaconda3\\envs\\eeg\\lib\\site-packages\\scipy\\signal\\signaltools.py:3463: FutureWarning: Using a non-tuple sequence for multidimensional indexing is deprecated; use `arr[tuple(seq)]` instead of `arr[seq]`. In the future this will be interpreted as an array index, `arr[np.array(seq)]`, which will result either in an error or a different result.\n",
      "  return y[sl]\n"
     ]
    },
    {
     "name": "stdout",
     "output_type": "stream",
     "text": [
      "Selecting model: Models/dcdb48/experimental/Session2\\dcdb48_MI_classifier_2019-03-15-13-05-07.sav\n",
      "Selecting model: Models/dcdb48/experimental/Session2\\dcdb48_MI_classifier_2019-03-15-13-04-56.sav\n",
      "Selecting model: Models/dcdb48/experimental/Session2\\dcdb48_MI_classifier_TL_2019-03-15-13-05-08.sav\n",
      "Selecting BCI EEG file: SaveData/dcdb48/Session2\\20190214093828_dcdb48_BCI.easy\n",
      "Selecting BCI behavioral file: SaveData/dcdb48/Session2\\BCI_dcdb48_R5.csv\n",
      "Skipping N/A\n"
     ]
    },
    {
     "name": "stderr",
     "output_type": "stream",
     "text": [
      "C:\\Users\\nile\\Anaconda3\\envs\\eeg\\lib\\site-packages\\scipy\\signal\\_arraytools.py:45: FutureWarning: Using a non-tuple sequence for multidimensional indexing is deprecated; use `arr[tuple(seq)]` instead of `arr[seq]`. In the future this will be interpreted as an array index, `arr[np.array(seq)]`, which will result either in an error or a different result.\n",
      "  b = a[a_slice]\n",
      "C:\\Users\\nile\\Anaconda3\\envs\\eeg\\lib\\site-packages\\scipy\\signal\\signaltools.py:3463: FutureWarning: Using a non-tuple sequence for multidimensional indexing is deprecated; use `arr[tuple(seq)]` instead of `arr[seq]`. In the future this will be interpreted as an array index, `arr[np.array(seq)]`, which will result either in an error or a different result.\n",
      "  return y[sl]\n"
     ]
    },
    {
     "name": "stdout",
     "output_type": "stream",
     "text": [
      "Selecting model: Models/dcdb48/experimental/Session2\\dcdb48_MI_classifier_2019-03-15-13-05-11.sav\n",
      "Selecting model: Models/dcdb48/experimental/Session2\\dcdb48_MI_classifier_2019-03-15-13-04-56.sav\n",
      "Selecting model: Models/dcdb48/experimental/Session2\\dcdb48_MI_classifier_TL_2019-03-15-13-05-13.sav\n",
      "Selecting BCI EEG file: SaveData/dcdb48/Session3\\20190215132239_dcdb48_BCI.easy\n",
      "Selecting BCI behavioral file: SaveData/dcdb48/Session3\\BCI_dcdb48_R1.csv\n",
      "Skipping N/A\n"
     ]
    },
    {
     "name": "stderr",
     "output_type": "stream",
     "text": [
      "C:\\Users\\nile\\Anaconda3\\envs\\eeg\\lib\\site-packages\\scipy\\signal\\_arraytools.py:45: FutureWarning: Using a non-tuple sequence for multidimensional indexing is deprecated; use `arr[tuple(seq)]` instead of `arr[seq]`. In the future this will be interpreted as an array index, `arr[np.array(seq)]`, which will result either in an error or a different result.\n",
      "  b = a[a_slice]\n",
      "C:\\Users\\nile\\Anaconda3\\envs\\eeg\\lib\\site-packages\\scipy\\signal\\signaltools.py:3463: FutureWarning: Using a non-tuple sequence for multidimensional indexing is deprecated; use `arr[tuple(seq)]` instead of `arr[seq]`. In the future this will be interpreted as an array index, `arr[np.array(seq)]`, which will result either in an error or a different result.\n",
      "  return y[sl]\n"
     ]
    },
    {
     "name": "stdout",
     "output_type": "stream",
     "text": [
      "Selecting model: Models/dcdb48/experimental/Session3\\dcdb48_MI_classifier_2019-03-15-13-06-38.sav\n",
      "Selecting model: Models/dcdb48/experimental/Session3\\dcdb48_MI_classifier_2019-03-15-13-06-38.sav\n",
      "Selecting model: Models/dcdb48/experimental/Session3\\dcdb48_MI_classifier_2019-03-15-13-06-38.sav\n",
      "Selecting BCI EEG file: SaveData/dcdb48/Session3\\20190215132756_dcdb48_BCI.easy\n",
      "Selecting BCI behavioral file: SaveData/dcdb48/Session3\\BCI_dcdb48_R2.csv\n",
      "Skipping N/A\n"
     ]
    },
    {
     "name": "stderr",
     "output_type": "stream",
     "text": [
      "C:\\Users\\nile\\Anaconda3\\envs\\eeg\\lib\\site-packages\\scipy\\signal\\_arraytools.py:45: FutureWarning: Using a non-tuple sequence for multidimensional indexing is deprecated; use `arr[tuple(seq)]` instead of `arr[seq]`. In the future this will be interpreted as an array index, `arr[np.array(seq)]`, which will result either in an error or a different result.\n",
      "  b = a[a_slice]\n",
      "C:\\Users\\nile\\Anaconda3\\envs\\eeg\\lib\\site-packages\\scipy\\signal\\signaltools.py:3463: FutureWarning: Using a non-tuple sequence for multidimensional indexing is deprecated; use `arr[tuple(seq)]` instead of `arr[seq]`. In the future this will be interpreted as an array index, `arr[np.array(seq)]`, which will result either in an error or a different result.\n",
      "  return y[sl]\n"
     ]
    },
    {
     "name": "stdout",
     "output_type": "stream",
     "text": [
      "Selecting model: Models/dcdb48/experimental/Session3\\dcdb48_MI_classifier_2019-03-15-13-06-41.sav\n",
      "Selecting model: Models/dcdb48/experimental/Session3\\dcdb48_MI_classifier_2019-03-15-13-06-38.sav\n",
      "Selecting model: Models/dcdb48/experimental/Session3\\dcdb48_MI_classifier_TL_2019-03-15-13-06-42.sav\n",
      "Selecting BCI EEG file: SaveData/dcdb48/Session3\\20190215133312_dcdb48_BCI.easy\n",
      "Selecting BCI behavioral file: SaveData/dcdb48/Session3\\BCI_dcdb48_R3.csv\n",
      "Skipping N/A\n"
     ]
    },
    {
     "name": "stderr",
     "output_type": "stream",
     "text": [
      "C:\\Users\\nile\\Anaconda3\\envs\\eeg\\lib\\site-packages\\scipy\\signal\\_arraytools.py:45: FutureWarning: Using a non-tuple sequence for multidimensional indexing is deprecated; use `arr[tuple(seq)]` instead of `arr[seq]`. In the future this will be interpreted as an array index, `arr[np.array(seq)]`, which will result either in an error or a different result.\n",
      "  b = a[a_slice]\n",
      "C:\\Users\\nile\\Anaconda3\\envs\\eeg\\lib\\site-packages\\scipy\\signal\\signaltools.py:3463: FutureWarning: Using a non-tuple sequence for multidimensional indexing is deprecated; use `arr[tuple(seq)]` instead of `arr[seq]`. In the future this will be interpreted as an array index, `arr[np.array(seq)]`, which will result either in an error or a different result.\n",
      "  return y[sl]\n"
     ]
    },
    {
     "name": "stdout",
     "output_type": "stream",
     "text": [
      "Selecting model: Models/dcdb48/experimental/Session3\\dcdb48_MI_classifier_2019-03-15-13-06-44.sav\n",
      "Selecting model: Models/dcdb48/experimental/Session3\\dcdb48_MI_classifier_2019-03-15-13-06-38.sav\n",
      "Selecting model: Models/dcdb48/experimental/Session3\\dcdb48_MI_classifier_TL_2019-03-15-13-06-46.sav\n",
      "Selecting BCI EEG file: SaveData/dcdb48/Session3\\20190215133828_dcdb48_BCI.easy\n",
      "Selecting BCI behavioral file: SaveData/dcdb48/Session3\\BCI_dcdb48_R4.csv\n",
      "Skipping N/A\n"
     ]
    },
    {
     "name": "stderr",
     "output_type": "stream",
     "text": [
      "C:\\Users\\nile\\Anaconda3\\envs\\eeg\\lib\\site-packages\\scipy\\signal\\_arraytools.py:45: FutureWarning: Using a non-tuple sequence for multidimensional indexing is deprecated; use `arr[tuple(seq)]` instead of `arr[seq]`. In the future this will be interpreted as an array index, `arr[np.array(seq)]`, which will result either in an error or a different result.\n",
      "  b = a[a_slice]\n",
      "C:\\Users\\nile\\Anaconda3\\envs\\eeg\\lib\\site-packages\\scipy\\signal\\signaltools.py:3463: FutureWarning: Using a non-tuple sequence for multidimensional indexing is deprecated; use `arr[tuple(seq)]` instead of `arr[seq]`. In the future this will be interpreted as an array index, `arr[np.array(seq)]`, which will result either in an error or a different result.\n",
      "  return y[sl]\n"
     ]
    },
    {
     "name": "stdout",
     "output_type": "stream",
     "text": [
      "Selecting model: Models/dcdb48/experimental/Session3\\dcdb48_MI_classifier_2019-03-15-13-06-48.sav\n",
      "Selecting model: Models/dcdb48/experimental/Session3\\dcdb48_MI_classifier_2019-03-15-13-06-38.sav\n",
      "Selecting model: Models/dcdb48/experimental/Session3\\dcdb48_MI_classifier_TL_2019-03-15-13-06-50.sav\n",
      "Selecting BCI EEG file: SaveData/dcdb48/Session3\\20190215134409_dcdb48_BCI.easy\n",
      "Selecting BCI behavioral file: SaveData/dcdb48/Session3\\BCI_dcdb48_R5.csv\n",
      "Skipping N/A\n"
     ]
    },
    {
     "name": "stderr",
     "output_type": "stream",
     "text": [
      "C:\\Users\\nile\\Anaconda3\\envs\\eeg\\lib\\site-packages\\scipy\\signal\\_arraytools.py:45: FutureWarning: Using a non-tuple sequence for multidimensional indexing is deprecated; use `arr[tuple(seq)]` instead of `arr[seq]`. In the future this will be interpreted as an array index, `arr[np.array(seq)]`, which will result either in an error or a different result.\n",
      "  b = a[a_slice]\n",
      "C:\\Users\\nile\\Anaconda3\\envs\\eeg\\lib\\site-packages\\scipy\\signal\\signaltools.py:3463: FutureWarning: Using a non-tuple sequence for multidimensional indexing is deprecated; use `arr[tuple(seq)]` instead of `arr[seq]`. In the future this will be interpreted as an array index, `arr[np.array(seq)]`, which will result either in an error or a different result.\n",
      "  return y[sl]\n"
     ]
    },
    {
     "name": "stdout",
     "output_type": "stream",
     "text": [
      "Selecting model: Models/dcdb48/experimental/Session3\\dcdb48_MI_classifier_2019-03-15-13-06-52.sav\n",
      "Selecting model: Models/dcdb48/experimental/Session3\\dcdb48_MI_classifier_2019-03-15-13-06-38.sav\n",
      "Selecting model: Models/dcdb48/experimental/Session3\\dcdb48_MI_classifier_TL_2019-03-15-13-06-53.sav\n",
      "Selecting BCI EEG file: SaveData/d4aee6/Session1\\20190220150741_d4aee6_BCI.easy\n",
      "Selecting BCI behavioral file: SaveData/d4aee6/Session1\\BCI_d4aee6_R1.csv\n",
      "Skipping N/A\n"
     ]
    },
    {
     "name": "stderr",
     "output_type": "stream",
     "text": [
      "C:\\Users\\nile\\Anaconda3\\envs\\eeg\\lib\\site-packages\\scipy\\signal\\_arraytools.py:45: FutureWarning: Using a non-tuple sequence for multidimensional indexing is deprecated; use `arr[tuple(seq)]` instead of `arr[seq]`. In the future this will be interpreted as an array index, `arr[np.array(seq)]`, which will result either in an error or a different result.\n",
      "  b = a[a_slice]\n",
      "C:\\Users\\nile\\Anaconda3\\envs\\eeg\\lib\\site-packages\\scipy\\signal\\signaltools.py:3463: FutureWarning: Using a non-tuple sequence for multidimensional indexing is deprecated; use `arr[tuple(seq)]` instead of `arr[seq]`. In the future this will be interpreted as an array index, `arr[np.array(seq)]`, which will result either in an error or a different result.\n",
      "  return y[sl]\n"
     ]
    },
    {
     "name": "stdout",
     "output_type": "stream",
     "text": [
      "Selecting model: Models/d4aee6/experimental/Session1\\d4aee6_MI_classifier_2019-03-15-13-15-41.sav\n",
      "Selecting model: Models/d4aee6/experimental/Session1\\d4aee6_MI_classifier_2019-03-15-13-15-41.sav\n",
      "Selecting model: Models/d4aee6/experimental/Session1\\d4aee6_MI_classifier_2019-03-15-13-15-41.sav\n",
      "Selecting BCI EEG file: SaveData/d4aee6/Session1\\20190220151344_d4aee6_BCI.easy\n",
      "Selecting BCI behavioral file: SaveData/d4aee6/Session1\\BCI_d4aee6_R2.csv\n",
      "Skipping N/A\n"
     ]
    },
    {
     "name": "stderr",
     "output_type": "stream",
     "text": [
      "C:\\Users\\nile\\Anaconda3\\envs\\eeg\\lib\\site-packages\\scipy\\signal\\_arraytools.py:45: FutureWarning: Using a non-tuple sequence for multidimensional indexing is deprecated; use `arr[tuple(seq)]` instead of `arr[seq]`. In the future this will be interpreted as an array index, `arr[np.array(seq)]`, which will result either in an error or a different result.\n",
      "  b = a[a_slice]\n",
      "C:\\Users\\nile\\Anaconda3\\envs\\eeg\\lib\\site-packages\\scipy\\signal\\signaltools.py:3463: FutureWarning: Using a non-tuple sequence for multidimensional indexing is deprecated; use `arr[tuple(seq)]` instead of `arr[seq]`. In the future this will be interpreted as an array index, `arr[np.array(seq)]`, which will result either in an error or a different result.\n",
      "  return y[sl]\n"
     ]
    },
    {
     "name": "stdout",
     "output_type": "stream",
     "text": [
      "Selecting model: Models/d4aee6/experimental/Session1\\d4aee6_MI_classifier_2019-03-15-13-15-45.sav\n",
      "Selecting model: Models/d4aee6/experimental/Session1\\d4aee6_MI_classifier_2019-03-15-13-15-41.sav\n",
      "Selecting model: Models/d4aee6/experimental/Session1\\d4aee6_MI_classifier_TL_2019-03-15-13-15-45.sav\n",
      "Selecting BCI EEG file: SaveData/d4aee6/Session1\\20190220151952_d4aee6_BCI.easy\n",
      "Selecting BCI behavioral file: SaveData/d4aee6/Session1\\BCI_d4aee6_R3.csv\n",
      "Skipping N/A\n"
     ]
    },
    {
     "name": "stderr",
     "output_type": "stream",
     "text": [
      "C:\\Users\\nile\\Anaconda3\\envs\\eeg\\lib\\site-packages\\scipy\\signal\\_arraytools.py:45: FutureWarning: Using a non-tuple sequence for multidimensional indexing is deprecated; use `arr[tuple(seq)]` instead of `arr[seq]`. In the future this will be interpreted as an array index, `arr[np.array(seq)]`, which will result either in an error or a different result.\n",
      "  b = a[a_slice]\n",
      "C:\\Users\\nile\\Anaconda3\\envs\\eeg\\lib\\site-packages\\scipy\\signal\\signaltools.py:3463: FutureWarning: Using a non-tuple sequence for multidimensional indexing is deprecated; use `arr[tuple(seq)]` instead of `arr[seq]`. In the future this will be interpreted as an array index, `arr[np.array(seq)]`, which will result either in an error or a different result.\n",
      "  return y[sl]\n"
     ]
    },
    {
     "name": "stdout",
     "output_type": "stream",
     "text": [
      "Selecting model: Models/d4aee6/experimental/Session1\\d4aee6_MI_classifier_2019-03-15-13-15-48.sav\n",
      "Selecting model: Models/d4aee6/experimental/Session1\\d4aee6_MI_classifier_2019-03-15-13-15-41.sav\n",
      "Selecting model: Models/d4aee6/experimental/Session1\\d4aee6_MI_classifier_TL_2019-03-15-13-15-49.sav\n",
      "Selecting BCI EEG file: SaveData/d4aee6/Session1\\20190220152541_d4aee6_BCI.easy\n",
      "Selecting BCI behavioral file: SaveData/d4aee6/Session1\\BCI_d4aee6_R4.csv\n",
      "Skipping N/A\n"
     ]
    },
    {
     "name": "stderr",
     "output_type": "stream",
     "text": [
      "C:\\Users\\nile\\Anaconda3\\envs\\eeg\\lib\\site-packages\\scipy\\signal\\_arraytools.py:45: FutureWarning: Using a non-tuple sequence for multidimensional indexing is deprecated; use `arr[tuple(seq)]` instead of `arr[seq]`. In the future this will be interpreted as an array index, `arr[np.array(seq)]`, which will result either in an error or a different result.\n",
      "  b = a[a_slice]\n",
      "C:\\Users\\nile\\Anaconda3\\envs\\eeg\\lib\\site-packages\\scipy\\signal\\signaltools.py:3463: FutureWarning: Using a non-tuple sequence for multidimensional indexing is deprecated; use `arr[tuple(seq)]` instead of `arr[seq]`. In the future this will be interpreted as an array index, `arr[np.array(seq)]`, which will result either in an error or a different result.\n",
      "  return y[sl]\n"
     ]
    },
    {
     "name": "stdout",
     "output_type": "stream",
     "text": [
      "Selecting model: Models/d4aee6/experimental/Session1\\d4aee6_MI_classifier_2019-03-15-13-15-52.sav\n",
      "Selecting model: Models/d4aee6/experimental/Session1\\d4aee6_MI_classifier_2019-03-15-13-15-41.sav\n",
      "Selecting model: Models/d4aee6/experimental/Session1\\d4aee6_MI_classifier_TL_2019-03-15-13-15-54.sav\n",
      "Selecting BCI EEG file: SaveData/d4aee6/Session1\\20190220153103_d4aee6_BCI.easy\n",
      "Selecting BCI behavioral file: SaveData/d4aee6/Session1\\BCI_d4aee6_R5.csv\n",
      "Skipping N/A\n"
     ]
    },
    {
     "name": "stderr",
     "output_type": "stream",
     "text": [
      "C:\\Users\\nile\\Anaconda3\\envs\\eeg\\lib\\site-packages\\scipy\\signal\\_arraytools.py:45: FutureWarning: Using a non-tuple sequence for multidimensional indexing is deprecated; use `arr[tuple(seq)]` instead of `arr[seq]`. In the future this will be interpreted as an array index, `arr[np.array(seq)]`, which will result either in an error or a different result.\n",
      "  b = a[a_slice]\n",
      "C:\\Users\\nile\\Anaconda3\\envs\\eeg\\lib\\site-packages\\scipy\\signal\\signaltools.py:3463: FutureWarning: Using a non-tuple sequence for multidimensional indexing is deprecated; use `arr[tuple(seq)]` instead of `arr[seq]`. In the future this will be interpreted as an array index, `arr[np.array(seq)]`, which will result either in an error or a different result.\n",
      "  return y[sl]\n"
     ]
    },
    {
     "name": "stdout",
     "output_type": "stream",
     "text": [
      "Selecting model: Models/d4aee6/experimental/Session1\\d4aee6_MI_classifier_2019-03-15-13-15-56.sav\n",
      "Selecting model: Models/d4aee6/experimental/Session1\\d4aee6_MI_classifier_2019-03-15-13-15-41.sav\n",
      "Selecting model: Models/d4aee6/experimental/Session1\\d4aee6_MI_classifier_TL_2019-03-15-13-15-58.sav\n",
      "Selecting BCI EEG file: SaveData/d4aee6/Session2\\20190221145427_d4aee6_BCI.easy\n",
      "Selecting BCI behavioral file: SaveData/d4aee6/Session2\\BCI_d4aee6_R1.csv\n",
      "Skipping N/A\n"
     ]
    },
    {
     "name": "stderr",
     "output_type": "stream",
     "text": [
      "C:\\Users\\nile\\Anaconda3\\envs\\eeg\\lib\\site-packages\\scipy\\signal\\_arraytools.py:45: FutureWarning: Using a non-tuple sequence for multidimensional indexing is deprecated; use `arr[tuple(seq)]` instead of `arr[seq]`. In the future this will be interpreted as an array index, `arr[np.array(seq)]`, which will result either in an error or a different result.\n",
      "  b = a[a_slice]\n",
      "C:\\Users\\nile\\Anaconda3\\envs\\eeg\\lib\\site-packages\\scipy\\signal\\signaltools.py:3463: FutureWarning: Using a non-tuple sequence for multidimensional indexing is deprecated; use `arr[tuple(seq)]` instead of `arr[seq]`. In the future this will be interpreted as an array index, `arr[np.array(seq)]`, which will result either in an error or a different result.\n",
      "  return y[sl]\n"
     ]
    },
    {
     "name": "stdout",
     "output_type": "stream",
     "text": [
      "Selecting model: Models/d4aee6/experimental/Session2\\d4aee6_MI_classifier_2019-03-15-13-17-44.sav\n",
      "Selecting model: Models/d4aee6/experimental/Session2\\d4aee6_MI_classifier_2019-03-15-13-17-44.sav\n",
      "Selecting model: Models/d4aee6/experimental/Session2\\d4aee6_MI_classifier_2019-03-15-13-17-44.sav\n",
      "Selecting BCI EEG file: SaveData/d4aee6/Session2\\20190221145952_d4aee6_BCI.easy\n",
      "Selecting BCI behavioral file: SaveData/d4aee6/Session2\\BCI_d4aee6_R2.csv\n",
      "Skipping N/A\n"
     ]
    },
    {
     "name": "stderr",
     "output_type": "stream",
     "text": [
      "C:\\Users\\nile\\Anaconda3\\envs\\eeg\\lib\\site-packages\\scipy\\signal\\_arraytools.py:45: FutureWarning: Using a non-tuple sequence for multidimensional indexing is deprecated; use `arr[tuple(seq)]` instead of `arr[seq]`. In the future this will be interpreted as an array index, `arr[np.array(seq)]`, which will result either in an error or a different result.\n",
      "  b = a[a_slice]\n",
      "C:\\Users\\nile\\Anaconda3\\envs\\eeg\\lib\\site-packages\\scipy\\signal\\signaltools.py:3463: FutureWarning: Using a non-tuple sequence for multidimensional indexing is deprecated; use `arr[tuple(seq)]` instead of `arr[seq]`. In the future this will be interpreted as an array index, `arr[np.array(seq)]`, which will result either in an error or a different result.\n",
      "  return y[sl]\n"
     ]
    },
    {
     "name": "stdout",
     "output_type": "stream",
     "text": [
      "Selecting model: Models/d4aee6/experimental/Session2\\d4aee6_MI_classifier_2019-03-15-13-17-49.sav\n",
      "Selecting model: Models/d4aee6/experimental/Session2\\d4aee6_MI_classifier_2019-03-15-13-17-44.sav\n",
      "Selecting model: Models/d4aee6/experimental/Session2\\d4aee6_MI_classifier_TL_2019-03-15-13-17-49.sav\n",
      "Selecting BCI EEG file: SaveData/d4aee6/Session2\\20190221150558_d4aee6_BCI.easy\n",
      "Selecting BCI behavioral file: SaveData/d4aee6/Session2\\BCI_d4aee6_R3.csv\n",
      "Skipping N/A\n"
     ]
    },
    {
     "name": "stderr",
     "output_type": "stream",
     "text": [
      "C:\\Users\\nile\\Anaconda3\\envs\\eeg\\lib\\site-packages\\scipy\\signal\\_arraytools.py:45: FutureWarning: Using a non-tuple sequence for multidimensional indexing is deprecated; use `arr[tuple(seq)]` instead of `arr[seq]`. In the future this will be interpreted as an array index, `arr[np.array(seq)]`, which will result either in an error or a different result.\n",
      "  b = a[a_slice]\n",
      "C:\\Users\\nile\\Anaconda3\\envs\\eeg\\lib\\site-packages\\scipy\\signal\\signaltools.py:3463: FutureWarning: Using a non-tuple sequence for multidimensional indexing is deprecated; use `arr[tuple(seq)]` instead of `arr[seq]`. In the future this will be interpreted as an array index, `arr[np.array(seq)]`, which will result either in an error or a different result.\n",
      "  return y[sl]\n"
     ]
    },
    {
     "name": "stdout",
     "output_type": "stream",
     "text": [
      "Selecting model: Models/d4aee6/experimental/Session2\\d4aee6_MI_classifier_2019-03-15-13-17-52.sav\n",
      "Selecting model: Models/d4aee6/experimental/Session2\\d4aee6_MI_classifier_2019-03-15-13-17-44.sav\n",
      "Selecting model: Models/d4aee6/experimental/Session2\\d4aee6_MI_classifier_TL_2019-03-15-13-17-54.sav\n",
      "Selecting BCI EEG file: SaveData/d4aee6/Session2\\20190221151131_d4aee6_BCI.easy\n",
      "Selecting BCI behavioral file: SaveData/d4aee6/Session2\\BCI_d4aee6_R4.csv\n",
      "Skipping N/A\n"
     ]
    },
    {
     "name": "stderr",
     "output_type": "stream",
     "text": [
      "C:\\Users\\nile\\Anaconda3\\envs\\eeg\\lib\\site-packages\\scipy\\signal\\_arraytools.py:45: FutureWarning: Using a non-tuple sequence for multidimensional indexing is deprecated; use `arr[tuple(seq)]` instead of `arr[seq]`. In the future this will be interpreted as an array index, `arr[np.array(seq)]`, which will result either in an error or a different result.\n",
      "  b = a[a_slice]\n",
      "C:\\Users\\nile\\Anaconda3\\envs\\eeg\\lib\\site-packages\\scipy\\signal\\signaltools.py:3463: FutureWarning: Using a non-tuple sequence for multidimensional indexing is deprecated; use `arr[tuple(seq)]` instead of `arr[seq]`. In the future this will be interpreted as an array index, `arr[np.array(seq)]`, which will result either in an error or a different result.\n",
      "  return y[sl]\n"
     ]
    },
    {
     "name": "stdout",
     "output_type": "stream",
     "text": [
      "Selecting model: Models/d4aee6/experimental/Session2\\d4aee6_MI_classifier_2019-03-15-13-17-56.sav\n",
      "Selecting model: Models/d4aee6/experimental/Session2\\d4aee6_MI_classifier_2019-03-15-13-17-44.sav\n",
      "Selecting model: Models/d4aee6/experimental/Session2\\d4aee6_MI_classifier_TL_2019-03-15-13-17-58.sav\n",
      "Selecting BCI EEG file: SaveData/d4aee6/Session2\\20190221151712_d4aee6_BCI.easy\n",
      "Selecting BCI behavioral file: SaveData/d4aee6/Session2\\BCI_d4aee6_R5.csv\n",
      "Skipping N/A\n"
     ]
    },
    {
     "name": "stderr",
     "output_type": "stream",
     "text": [
      "C:\\Users\\nile\\Anaconda3\\envs\\eeg\\lib\\site-packages\\scipy\\signal\\_arraytools.py:45: FutureWarning: Using a non-tuple sequence for multidimensional indexing is deprecated; use `arr[tuple(seq)]` instead of `arr[seq]`. In the future this will be interpreted as an array index, `arr[np.array(seq)]`, which will result either in an error or a different result.\n",
      "  b = a[a_slice]\n",
      "C:\\Users\\nile\\Anaconda3\\envs\\eeg\\lib\\site-packages\\scipy\\signal\\signaltools.py:3463: FutureWarning: Using a non-tuple sequence for multidimensional indexing is deprecated; use `arr[tuple(seq)]` instead of `arr[seq]`. In the future this will be interpreted as an array index, `arr[np.array(seq)]`, which will result either in an error or a different result.\n",
      "  return y[sl]\n"
     ]
    },
    {
     "name": "stdout",
     "output_type": "stream",
     "text": [
      "Selecting model: Models/d4aee6/experimental/Session2\\d4aee6_MI_classifier_2019-03-15-13-18-01.sav\n",
      "Selecting model: Models/d4aee6/experimental/Session2\\d4aee6_MI_classifier_2019-03-15-13-17-44.sav\n",
      "Selecting model: Models/d4aee6/experimental/Session2\\d4aee6_MI_classifier_TL_2019-03-15-13-18-02.sav\n",
      "Selecting BCI EEG file: SaveData/d4aee6/Session3\\20190222144540_d4aee6_BCI.easy\n",
      "Selecting BCI behavioral file: SaveData/d4aee6/Session3\\BCI_d4aee6_R1.csv\n",
      "Skipping N/A\n"
     ]
    },
    {
     "name": "stderr",
     "output_type": "stream",
     "text": [
      "C:\\Users\\nile\\Anaconda3\\envs\\eeg\\lib\\site-packages\\scipy\\signal\\_arraytools.py:45: FutureWarning: Using a non-tuple sequence for multidimensional indexing is deprecated; use `arr[tuple(seq)]` instead of `arr[seq]`. In the future this will be interpreted as an array index, `arr[np.array(seq)]`, which will result either in an error or a different result.\n",
      "  b = a[a_slice]\n",
      "C:\\Users\\nile\\Anaconda3\\envs\\eeg\\lib\\site-packages\\scipy\\signal\\signaltools.py:3463: FutureWarning: Using a non-tuple sequence for multidimensional indexing is deprecated; use `arr[tuple(seq)]` instead of `arr[seq]`. In the future this will be interpreted as an array index, `arr[np.array(seq)]`, which will result either in an error or a different result.\n",
      "  return y[sl]\n"
     ]
    },
    {
     "name": "stdout",
     "output_type": "stream",
     "text": [
      "Selecting model: Models/d4aee6/experimental/Session3\\d4aee6_MI_classifier_2019-03-15-13-19-55.sav\n",
      "Selecting model: Models/d4aee6/experimental/Session3\\d4aee6_MI_classifier_2019-03-15-13-19-55.sav\n",
      "Selecting model: Models/d4aee6/experimental/Session3\\d4aee6_MI_classifier_2019-03-15-13-19-55.sav\n",
      "Selecting BCI EEG file: SaveData/d4aee6/Session3\\20190222145048_d4aee6_BCI.easy\n",
      "Selecting BCI behavioral file: SaveData/d4aee6/Session3\\BCI_d4aee6_R2.csv\n",
      "Skipping N/A\n"
     ]
    },
    {
     "name": "stderr",
     "output_type": "stream",
     "text": [
      "C:\\Users\\nile\\Anaconda3\\envs\\eeg\\lib\\site-packages\\scipy\\signal\\_arraytools.py:45: FutureWarning: Using a non-tuple sequence for multidimensional indexing is deprecated; use `arr[tuple(seq)]` instead of `arr[seq]`. In the future this will be interpreted as an array index, `arr[np.array(seq)]`, which will result either in an error or a different result.\n",
      "  b = a[a_slice]\n",
      "C:\\Users\\nile\\Anaconda3\\envs\\eeg\\lib\\site-packages\\scipy\\signal\\signaltools.py:3463: FutureWarning: Using a non-tuple sequence for multidimensional indexing is deprecated; use `arr[tuple(seq)]` instead of `arr[seq]`. In the future this will be interpreted as an array index, `arr[np.array(seq)]`, which will result either in an error or a different result.\n",
      "  return y[sl]\n"
     ]
    },
    {
     "name": "stdout",
     "output_type": "stream",
     "text": [
      "Selecting model: Models/d4aee6/experimental/Session3\\d4aee6_MI_classifier_2019-03-15-13-19-59.sav\n",
      "Selecting model: Models/d4aee6/experimental/Session3\\d4aee6_MI_classifier_2019-03-15-13-19-55.sav\n",
      "Selecting model: Models/d4aee6/experimental/Session3\\d4aee6_MI_classifier_TL_2019-03-15-13-19-59.sav\n",
      "Selecting BCI EEG file: SaveData/d4aee6/Session3\\20190222145608_d4aee6_BCI.easy\n",
      "Selecting BCI behavioral file: SaveData/d4aee6/Session3\\BCI_d4aee6_R3.csv\n",
      "Skipping N/A\n"
     ]
    },
    {
     "name": "stderr",
     "output_type": "stream",
     "text": [
      "C:\\Users\\nile\\Anaconda3\\envs\\eeg\\lib\\site-packages\\scipy\\signal\\_arraytools.py:45: FutureWarning: Using a non-tuple sequence for multidimensional indexing is deprecated; use `arr[tuple(seq)]` instead of `arr[seq]`. In the future this will be interpreted as an array index, `arr[np.array(seq)]`, which will result either in an error or a different result.\n",
      "  b = a[a_slice]\n",
      "C:\\Users\\nile\\Anaconda3\\envs\\eeg\\lib\\site-packages\\scipy\\signal\\signaltools.py:3463: FutureWarning: Using a non-tuple sequence for multidimensional indexing is deprecated; use `arr[tuple(seq)]` instead of `arr[seq]`. In the future this will be interpreted as an array index, `arr[np.array(seq)]`, which will result either in an error or a different result.\n",
      "  return y[sl]\n"
     ]
    },
    {
     "name": "stdout",
     "output_type": "stream",
     "text": [
      "Selecting model: Models/d4aee6/experimental/Session3\\d4aee6_MI_classifier_2019-03-15-13-20-02.sav\n",
      "Selecting model: Models/d4aee6/experimental/Session3\\d4aee6_MI_classifier_2019-03-15-13-19-55.sav\n",
      "Selecting model: Models/d4aee6/experimental/Session3\\d4aee6_MI_classifier_TL_2019-03-15-13-20-03.sav\n",
      "Selecting BCI EEG file: SaveData/d4aee6/Session3\\20190222150152_d4aee6_BCI.easy\n",
      "Selecting BCI behavioral file: SaveData/d4aee6/Session3\\BCI_d4aee6_R4.csv\n",
      "Skipping N/A\n"
     ]
    },
    {
     "name": "stderr",
     "output_type": "stream",
     "text": [
      "C:\\Users\\nile\\Anaconda3\\envs\\eeg\\lib\\site-packages\\scipy\\signal\\_arraytools.py:45: FutureWarning: Using a non-tuple sequence for multidimensional indexing is deprecated; use `arr[tuple(seq)]` instead of `arr[seq]`. In the future this will be interpreted as an array index, `arr[np.array(seq)]`, which will result either in an error or a different result.\n",
      "  b = a[a_slice]\n",
      "C:\\Users\\nile\\Anaconda3\\envs\\eeg\\lib\\site-packages\\scipy\\signal\\signaltools.py:3463: FutureWarning: Using a non-tuple sequence for multidimensional indexing is deprecated; use `arr[tuple(seq)]` instead of `arr[seq]`. In the future this will be interpreted as an array index, `arr[np.array(seq)]`, which will result either in an error or a different result.\n",
      "  return y[sl]\n"
     ]
    },
    {
     "name": "stdout",
     "output_type": "stream",
     "text": [
      "Selecting model: Models/d4aee6/experimental/Session3\\d4aee6_MI_classifier_2019-03-15-13-20-06.sav\n",
      "Selecting model: Models/d4aee6/experimental/Session3\\d4aee6_MI_classifier_2019-03-15-13-19-55.sav\n",
      "Selecting model: Models/d4aee6/experimental/Session3\\d4aee6_MI_classifier_TL_2019-03-15-13-20-07.sav\n",
      "Selecting BCI EEG file: SaveData/d4aee6/Session3\\20190222150714_d4aee6_BCI.easy\n",
      "Selecting BCI behavioral file: SaveData/d4aee6/Session3\\BCI_d4aee6_R5.csv\n",
      "Skipping N/A\n"
     ]
    },
    {
     "name": "stderr",
     "output_type": "stream",
     "text": [
      "C:\\Users\\nile\\Anaconda3\\envs\\eeg\\lib\\site-packages\\scipy\\signal\\_arraytools.py:45: FutureWarning: Using a non-tuple sequence for multidimensional indexing is deprecated; use `arr[tuple(seq)]` instead of `arr[seq]`. In the future this will be interpreted as an array index, `arr[np.array(seq)]`, which will result either in an error or a different result.\n",
      "  b = a[a_slice]\n",
      "C:\\Users\\nile\\Anaconda3\\envs\\eeg\\lib\\site-packages\\scipy\\signal\\signaltools.py:3463: FutureWarning: Using a non-tuple sequence for multidimensional indexing is deprecated; use `arr[tuple(seq)]` instead of `arr[seq]`. In the future this will be interpreted as an array index, `arr[np.array(seq)]`, which will result either in an error or a different result.\n",
      "  return y[sl]\n"
     ]
    },
    {
     "name": "stdout",
     "output_type": "stream",
     "text": [
      "Selecting model: Models/d4aee6/experimental/Session3\\d4aee6_MI_classifier_2019-03-15-13-20-10.sav\n",
      "Selecting model: Models/d4aee6/experimental/Session3\\d4aee6_MI_classifier_2019-03-15-13-19-55.sav\n",
      "Selecting model: Models/d4aee6/experimental/Session3\\d4aee6_MI_classifier_TL_2019-03-15-13-20-11.sav\n",
      "Selecting BCI EEG file: SaveData/994dba/Session1\\20190222110528_994dba_BCI.easy\n",
      "Selecting BCI behavioral file: SaveData/994dba/Session1\\BCI_994dba_R1.csv\n",
      "Skipping N/A\n"
     ]
    },
    {
     "name": "stderr",
     "output_type": "stream",
     "text": [
      "C:\\Users\\nile\\Anaconda3\\envs\\eeg\\lib\\site-packages\\scipy\\signal\\_arraytools.py:45: FutureWarning: Using a non-tuple sequence for multidimensional indexing is deprecated; use `arr[tuple(seq)]` instead of `arr[seq]`. In the future this will be interpreted as an array index, `arr[np.array(seq)]`, which will result either in an error or a different result.\n",
      "  b = a[a_slice]\n",
      "C:\\Users\\nile\\Anaconda3\\envs\\eeg\\lib\\site-packages\\scipy\\signal\\signaltools.py:3463: FutureWarning: Using a non-tuple sequence for multidimensional indexing is deprecated; use `arr[tuple(seq)]` instead of `arr[seq]`. In the future this will be interpreted as an array index, `arr[np.array(seq)]`, which will result either in an error or a different result.\n",
      "  return y[sl]\n"
     ]
    },
    {
     "name": "stdout",
     "output_type": "stream",
     "text": [
      "Selecting model: Models/994dba/experimental/Session1\\994dba_MI_classifier_2019-03-15-13-29-45.sav\n",
      "Selecting model: Models/994dba/experimental/Session1\\994dba_MI_classifier_2019-03-15-13-29-45.sav\n",
      "Selecting model: Models/994dba/experimental/Session1\\994dba_MI_classifier_2019-03-15-13-29-45.sav\n",
      "Selecting BCI EEG file: SaveData/994dba/Session1\\20190222111104_994dba_BCI.easy\n",
      "Selecting BCI behavioral file: SaveData/994dba/Session1\\BCI_994dba_R2.csv\n",
      "Skipping N/A\n"
     ]
    },
    {
     "name": "stderr",
     "output_type": "stream",
     "text": [
      "C:\\Users\\nile\\Anaconda3\\envs\\eeg\\lib\\site-packages\\scipy\\signal\\_arraytools.py:45: FutureWarning: Using a non-tuple sequence for multidimensional indexing is deprecated; use `arr[tuple(seq)]` instead of `arr[seq]`. In the future this will be interpreted as an array index, `arr[np.array(seq)]`, which will result either in an error or a different result.\n",
      "  b = a[a_slice]\n",
      "C:\\Users\\nile\\Anaconda3\\envs\\eeg\\lib\\site-packages\\scipy\\signal\\signaltools.py:3463: FutureWarning: Using a non-tuple sequence for multidimensional indexing is deprecated; use `arr[tuple(seq)]` instead of `arr[seq]`. In the future this will be interpreted as an array index, `arr[np.array(seq)]`, which will result either in an error or a different result.\n",
      "  return y[sl]\n"
     ]
    },
    {
     "name": "stdout",
     "output_type": "stream",
     "text": [
      "Selecting model: Models/994dba/experimental/Session1\\994dba_MI_classifier_2019-03-15-13-29-49.sav\n",
      "Selecting model: Models/994dba/experimental/Session1\\994dba_MI_classifier_2019-03-15-13-29-45.sav\n",
      "Selecting model: Models/994dba/experimental/Session1\\994dba_MI_classifier_TL_2019-03-15-13-29-49.sav\n",
      "Selecting BCI EEG file: SaveData/994dba/Session1\\20190222111637_994dba_BCI.easy\n",
      "Selecting BCI behavioral file: SaveData/994dba/Session1\\BCI_994dba_R3.csv\n",
      "Skipping N/A\n"
     ]
    },
    {
     "name": "stderr",
     "output_type": "stream",
     "text": [
      "C:\\Users\\nile\\Anaconda3\\envs\\eeg\\lib\\site-packages\\scipy\\signal\\_arraytools.py:45: FutureWarning: Using a non-tuple sequence for multidimensional indexing is deprecated; use `arr[tuple(seq)]` instead of `arr[seq]`. In the future this will be interpreted as an array index, `arr[np.array(seq)]`, which will result either in an error or a different result.\n",
      "  b = a[a_slice]\n",
      "C:\\Users\\nile\\Anaconda3\\envs\\eeg\\lib\\site-packages\\scipy\\signal\\signaltools.py:3463: FutureWarning: Using a non-tuple sequence for multidimensional indexing is deprecated; use `arr[tuple(seq)]` instead of `arr[seq]`. In the future this will be interpreted as an array index, `arr[np.array(seq)]`, which will result either in an error or a different result.\n",
      "  return y[sl]\n"
     ]
    },
    {
     "name": "stdout",
     "output_type": "stream",
     "text": [
      "Selecting model: Models/994dba/experimental/Session1\\994dba_MI_classifier_2019-03-15-13-29-52.sav\n",
      "Selecting model: Models/994dba/experimental/Session1\\994dba_MI_classifier_2019-03-15-13-29-45.sav\n",
      "Selecting model: Models/994dba/experimental/Session1\\994dba_MI_classifier_TL_2019-03-15-13-29-53.sav\n",
      "Selecting BCI EEG file: SaveData/994dba/Session1\\20190222112202_994dba_BCI.easy\n",
      "Selecting BCI behavioral file: SaveData/994dba/Session1\\BCI_994dba_R4.csv\n",
      "Skipping N/A\n"
     ]
    },
    {
     "name": "stderr",
     "output_type": "stream",
     "text": [
      "C:\\Users\\nile\\Anaconda3\\envs\\eeg\\lib\\site-packages\\scipy\\signal\\_arraytools.py:45: FutureWarning: Using a non-tuple sequence for multidimensional indexing is deprecated; use `arr[tuple(seq)]` instead of `arr[seq]`. In the future this will be interpreted as an array index, `arr[np.array(seq)]`, which will result either in an error or a different result.\n",
      "  b = a[a_slice]\n",
      "C:\\Users\\nile\\Anaconda3\\envs\\eeg\\lib\\site-packages\\scipy\\signal\\signaltools.py:3463: FutureWarning: Using a non-tuple sequence for multidimensional indexing is deprecated; use `arr[tuple(seq)]` instead of `arr[seq]`. In the future this will be interpreted as an array index, `arr[np.array(seq)]`, which will result either in an error or a different result.\n",
      "  return y[sl]\n"
     ]
    },
    {
     "name": "stdout",
     "output_type": "stream",
     "text": [
      "Selecting model: Models/994dba/experimental/Session1\\994dba_MI_classifier_2019-03-15-13-29-57.sav\n",
      "Selecting model: Models/994dba/experimental/Session1\\994dba_MI_classifier_2019-03-15-13-29-45.sav\n",
      "Selecting model: Models/994dba/experimental/Session1\\994dba_MI_classifier_TL_2019-03-15-13-29-58.sav\n",
      "Selecting BCI EEG file: SaveData/994dba/Session1\\20190222112712_994dba_BCI.easy\n",
      "Selecting BCI behavioral file: SaveData/994dba/Session1\\BCI_994dba_R5.csv\n",
      "Skipping N/A\n"
     ]
    },
    {
     "name": "stderr",
     "output_type": "stream",
     "text": [
      "C:\\Users\\nile\\Anaconda3\\envs\\eeg\\lib\\site-packages\\scipy\\signal\\_arraytools.py:45: FutureWarning: Using a non-tuple sequence for multidimensional indexing is deprecated; use `arr[tuple(seq)]` instead of `arr[seq]`. In the future this will be interpreted as an array index, `arr[np.array(seq)]`, which will result either in an error or a different result.\n",
      "  b = a[a_slice]\n",
      "C:\\Users\\nile\\Anaconda3\\envs\\eeg\\lib\\site-packages\\scipy\\signal\\signaltools.py:3463: FutureWarning: Using a non-tuple sequence for multidimensional indexing is deprecated; use `arr[tuple(seq)]` instead of `arr[seq]`. In the future this will be interpreted as an array index, `arr[np.array(seq)]`, which will result either in an error or a different result.\n",
      "  return y[sl]\n"
     ]
    },
    {
     "name": "stdout",
     "output_type": "stream",
     "text": [
      "Selecting model: Models/994dba/experimental/Session1\\994dba_MI_classifier_2019-03-15-13-30-01.sav\n",
      "Selecting model: Models/994dba/experimental/Session1\\994dba_MI_classifier_2019-03-15-13-29-45.sav\n",
      "Selecting model: Models/994dba/experimental/Session1\\994dba_MI_classifier_TL_2019-03-15-13-30-02.sav\n",
      "Selecting BCI EEG file: SaveData/994dba/Session2\\20190225104943_994dba_BCI.easy\n",
      "Selecting BCI behavioral file: SaveData/994dba/Session2\\BCI_994dba_R1.csv\n",
      "Skipping N/A\n"
     ]
    },
    {
     "name": "stderr",
     "output_type": "stream",
     "text": [
      "C:\\Users\\nile\\Anaconda3\\envs\\eeg\\lib\\site-packages\\scipy\\signal\\_arraytools.py:45: FutureWarning: Using a non-tuple sequence for multidimensional indexing is deprecated; use `arr[tuple(seq)]` instead of `arr[seq]`. In the future this will be interpreted as an array index, `arr[np.array(seq)]`, which will result either in an error or a different result.\n",
      "  b = a[a_slice]\n",
      "C:\\Users\\nile\\Anaconda3\\envs\\eeg\\lib\\site-packages\\scipy\\signal\\signaltools.py:3463: FutureWarning: Using a non-tuple sequence for multidimensional indexing is deprecated; use `arr[tuple(seq)]` instead of `arr[seq]`. In the future this will be interpreted as an array index, `arr[np.array(seq)]`, which will result either in an error or a different result.\n",
      "  return y[sl]\n"
     ]
    },
    {
     "name": "stdout",
     "output_type": "stream",
     "text": [
      "Selecting model: Models/994dba/experimental/Session2\\994dba_MI_classifier_2019-03-15-13-31-59.sav\n",
      "Selecting model: Models/994dba/experimental/Session2\\994dba_MI_classifier_2019-03-15-13-31-59.sav\n",
      "Selecting model: Models/994dba/experimental/Session2\\994dba_MI_classifier_2019-03-15-13-31-59.sav\n",
      "Selecting BCI EEG file: SaveData/994dba/Session2\\20190225105515_994dba_BCI.easy\n",
      "Selecting BCI behavioral file: SaveData/994dba/Session2\\BCI_994dba_R2.csv\n",
      "Skipping N/A\n"
     ]
    },
    {
     "name": "stderr",
     "output_type": "stream",
     "text": [
      "C:\\Users\\nile\\Anaconda3\\envs\\eeg\\lib\\site-packages\\scipy\\signal\\_arraytools.py:45: FutureWarning: Using a non-tuple sequence for multidimensional indexing is deprecated; use `arr[tuple(seq)]` instead of `arr[seq]`. In the future this will be interpreted as an array index, `arr[np.array(seq)]`, which will result either in an error or a different result.\n",
      "  b = a[a_slice]\n",
      "C:\\Users\\nile\\Anaconda3\\envs\\eeg\\lib\\site-packages\\scipy\\signal\\signaltools.py:3463: FutureWarning: Using a non-tuple sequence for multidimensional indexing is deprecated; use `arr[tuple(seq)]` instead of `arr[seq]`. In the future this will be interpreted as an array index, `arr[np.array(seq)]`, which will result either in an error or a different result.\n",
      "  return y[sl]\n"
     ]
    },
    {
     "name": "stdout",
     "output_type": "stream",
     "text": [
      "Selecting model: Models/994dba/experimental/Session2\\994dba_MI_classifier_2019-03-15-13-32-03.sav\n",
      "Selecting model: Models/994dba/experimental/Session2\\994dba_MI_classifier_2019-03-15-13-31-59.sav\n",
      "Selecting model: Models/994dba/experimental/Session2\\994dba_MI_classifier_TL_2019-03-15-13-32-03.sav\n",
      "Selecting BCI EEG file: SaveData/994dba/Session2\\20190225110048_994dba_BCI.easy\n",
      "Selecting BCI behavioral file: SaveData/994dba/Session2\\BCI_994dba_R3.csv\n",
      "Skipping N/A\n"
     ]
    },
    {
     "name": "stderr",
     "output_type": "stream",
     "text": [
      "C:\\Users\\nile\\Anaconda3\\envs\\eeg\\lib\\site-packages\\scipy\\signal\\_arraytools.py:45: FutureWarning: Using a non-tuple sequence for multidimensional indexing is deprecated; use `arr[tuple(seq)]` instead of `arr[seq]`. In the future this will be interpreted as an array index, `arr[np.array(seq)]`, which will result either in an error or a different result.\n",
      "  b = a[a_slice]\n",
      "C:\\Users\\nile\\Anaconda3\\envs\\eeg\\lib\\site-packages\\scipy\\signal\\signaltools.py:3463: FutureWarning: Using a non-tuple sequence for multidimensional indexing is deprecated; use `arr[tuple(seq)]` instead of `arr[seq]`. In the future this will be interpreted as an array index, `arr[np.array(seq)]`, which will result either in an error or a different result.\n",
      "  return y[sl]\n"
     ]
    },
    {
     "name": "stdout",
     "output_type": "stream",
     "text": [
      "Selecting model: Models/994dba/experimental/Session2\\994dba_MI_classifier_2019-03-15-13-32-06.sav\n",
      "Selecting model: Models/994dba/experimental/Session2\\994dba_MI_classifier_2019-03-15-13-31-59.sav\n",
      "Selecting model: Models/994dba/experimental/Session2\\994dba_MI_classifier_TL_2019-03-15-13-32-08.sav\n",
      "Selecting BCI EEG file: SaveData/994dba/Session2\\20190225110605_994dba_BCI.easy\n",
      "Selecting BCI behavioral file: SaveData/994dba/Session2\\BCI_994dba_R4.csv\n",
      "Skipping N/A\n"
     ]
    },
    {
     "name": "stderr",
     "output_type": "stream",
     "text": [
      "C:\\Users\\nile\\Anaconda3\\envs\\eeg\\lib\\site-packages\\scipy\\signal\\_arraytools.py:45: FutureWarning: Using a non-tuple sequence for multidimensional indexing is deprecated; use `arr[tuple(seq)]` instead of `arr[seq]`. In the future this will be interpreted as an array index, `arr[np.array(seq)]`, which will result either in an error or a different result.\n",
      "  b = a[a_slice]\n",
      "C:\\Users\\nile\\Anaconda3\\envs\\eeg\\lib\\site-packages\\scipy\\signal\\signaltools.py:3463: FutureWarning: Using a non-tuple sequence for multidimensional indexing is deprecated; use `arr[tuple(seq)]` instead of `arr[seq]`. In the future this will be interpreted as an array index, `arr[np.array(seq)]`, which will result either in an error or a different result.\n",
      "  return y[sl]\n"
     ]
    },
    {
     "name": "stdout",
     "output_type": "stream",
     "text": [
      "Selecting model: Models/994dba/experimental/Session2\\994dba_MI_classifier_2019-03-15-13-32-10.sav\n",
      "Selecting model: Models/994dba/experimental/Session2\\994dba_MI_classifier_2019-03-15-13-31-59.sav\n",
      "Selecting model: Models/994dba/experimental/Session2\\994dba_MI_classifier_TL_2019-03-15-13-32-12.sav\n",
      "Selecting BCI EEG file: SaveData/994dba/Session2\\20190225111125_994dba_BCI.easy\n",
      "Selecting BCI behavioral file: SaveData/994dba/Session2\\BCI_994dba_R5.csv\n",
      "Skipping N/A\n"
     ]
    },
    {
     "name": "stderr",
     "output_type": "stream",
     "text": [
      "C:\\Users\\nile\\Anaconda3\\envs\\eeg\\lib\\site-packages\\scipy\\signal\\_arraytools.py:45: FutureWarning: Using a non-tuple sequence for multidimensional indexing is deprecated; use `arr[tuple(seq)]` instead of `arr[seq]`. In the future this will be interpreted as an array index, `arr[np.array(seq)]`, which will result either in an error or a different result.\n",
      "  b = a[a_slice]\n",
      "C:\\Users\\nile\\Anaconda3\\envs\\eeg\\lib\\site-packages\\scipy\\signal\\signaltools.py:3463: FutureWarning: Using a non-tuple sequence for multidimensional indexing is deprecated; use `arr[tuple(seq)]` instead of `arr[seq]`. In the future this will be interpreted as an array index, `arr[np.array(seq)]`, which will result either in an error or a different result.\n",
      "  return y[sl]\n"
     ]
    },
    {
     "name": "stdout",
     "output_type": "stream",
     "text": [
      "Selecting model: Models/994dba/experimental/Session2\\994dba_MI_classifier_2019-03-15-13-32-14.sav\n",
      "Selecting model: Models/994dba/experimental/Session2\\994dba_MI_classifier_2019-03-15-13-31-59.sav\n",
      "Selecting model: Models/994dba/experimental/Session2\\994dba_MI_classifier_TL_2019-03-15-13-32-16.sav\n",
      "Selecting BCI EEG file: SaveData/994dba/Session3\\20190227104136_994dba_BCI.easy\n",
      "Selecting BCI behavioral file: SaveData/994dba/Session3\\BCI_994dba_R1.csv\n",
      "Skipping N/A\n"
     ]
    },
    {
     "name": "stderr",
     "output_type": "stream",
     "text": [
      "C:\\Users\\nile\\Anaconda3\\envs\\eeg\\lib\\site-packages\\scipy\\signal\\_arraytools.py:45: FutureWarning: Using a non-tuple sequence for multidimensional indexing is deprecated; use `arr[tuple(seq)]` instead of `arr[seq]`. In the future this will be interpreted as an array index, `arr[np.array(seq)]`, which will result either in an error or a different result.\n",
      "  b = a[a_slice]\n",
      "C:\\Users\\nile\\Anaconda3\\envs\\eeg\\lib\\site-packages\\scipy\\signal\\signaltools.py:3463: FutureWarning: Using a non-tuple sequence for multidimensional indexing is deprecated; use `arr[tuple(seq)]` instead of `arr[seq]`. In the future this will be interpreted as an array index, `arr[np.array(seq)]`, which will result either in an error or a different result.\n",
      "  return y[sl]\n"
     ]
    },
    {
     "name": "stdout",
     "output_type": "stream",
     "text": [
      "Selecting model: Models/994dba/experimental/Session3\\994dba_MI_classifier_2019-03-15-13-33-55.sav\n",
      "Selecting model: Models/994dba/experimental/Session3\\994dba_MI_classifier_2019-03-15-13-33-55.sav\n",
      "Selecting model: Models/994dba/experimental/Session3\\994dba_MI_classifier_2019-03-15-13-33-55.sav\n",
      "Selecting BCI EEG file: SaveData/994dba/Session3\\20190227104621_994dba_BCI.easy\n",
      "Selecting BCI behavioral file: SaveData/994dba/Session3\\BCI_994dba_R2.csv\n",
      "Skipping N/A\n"
     ]
    },
    {
     "name": "stderr",
     "output_type": "stream",
     "text": [
      "C:\\Users\\nile\\Anaconda3\\envs\\eeg\\lib\\site-packages\\scipy\\signal\\_arraytools.py:45: FutureWarning: Using a non-tuple sequence for multidimensional indexing is deprecated; use `arr[tuple(seq)]` instead of `arr[seq]`. In the future this will be interpreted as an array index, `arr[np.array(seq)]`, which will result either in an error or a different result.\n",
      "  b = a[a_slice]\n",
      "C:\\Users\\nile\\Anaconda3\\envs\\eeg\\lib\\site-packages\\scipy\\signal\\signaltools.py:3463: FutureWarning: Using a non-tuple sequence for multidimensional indexing is deprecated; use `arr[tuple(seq)]` instead of `arr[seq]`. In the future this will be interpreted as an array index, `arr[np.array(seq)]`, which will result either in an error or a different result.\n",
      "  return y[sl]\n"
     ]
    },
    {
     "name": "stdout",
     "output_type": "stream",
     "text": [
      "Selecting model: Models/994dba/experimental/Session3\\994dba_MI_classifier_2019-03-15-13-33-58.sav\n",
      "Selecting model: Models/994dba/experimental/Session3\\994dba_MI_classifier_2019-03-15-13-33-55.sav\n",
      "Selecting model: Models/994dba/experimental/Session3\\994dba_MI_classifier_TL_2019-03-15-13-33-59.sav\n",
      "Selecting BCI EEG file: SaveData/994dba/Session3\\20190227105135_994dba_BCI.easy\n",
      "Selecting BCI behavioral file: SaveData/994dba/Session3\\BCI_994dba_R3.csv\n",
      "Skipping N/A\n"
     ]
    },
    {
     "name": "stderr",
     "output_type": "stream",
     "text": [
      "C:\\Users\\nile\\Anaconda3\\envs\\eeg\\lib\\site-packages\\scipy\\signal\\_arraytools.py:45: FutureWarning: Using a non-tuple sequence for multidimensional indexing is deprecated; use `arr[tuple(seq)]` instead of `arr[seq]`. In the future this will be interpreted as an array index, `arr[np.array(seq)]`, which will result either in an error or a different result.\n",
      "  b = a[a_slice]\n",
      "C:\\Users\\nile\\Anaconda3\\envs\\eeg\\lib\\site-packages\\scipy\\signal\\signaltools.py:3463: FutureWarning: Using a non-tuple sequence for multidimensional indexing is deprecated; use `arr[tuple(seq)]` instead of `arr[seq]`. In the future this will be interpreted as an array index, `arr[np.array(seq)]`, which will result either in an error or a different result.\n",
      "  return y[sl]\n"
     ]
    },
    {
     "name": "stdout",
     "output_type": "stream",
     "text": [
      "Selecting model: Models/994dba/experimental/Session3\\994dba_MI_classifier_2019-03-15-13-34-01.sav\n",
      "Selecting model: Models/994dba/experimental/Session3\\994dba_MI_classifier_2019-03-15-13-33-55.sav\n",
      "Selecting model: Models/994dba/experimental/Session3\\994dba_MI_classifier_TL_2019-03-15-13-34-02.sav\n",
      "Selecting BCI EEG file: SaveData/994dba/Session3\\20190227105638_994dba_BCI.easy\n",
      "Selecting BCI behavioral file: SaveData/994dba/Session3\\BCI_994dba_R4.csv\n",
      "Skipping N/A\n"
     ]
    },
    {
     "name": "stderr",
     "output_type": "stream",
     "text": [
      "C:\\Users\\nile\\Anaconda3\\envs\\eeg\\lib\\site-packages\\scipy\\signal\\_arraytools.py:45: FutureWarning: Using a non-tuple sequence for multidimensional indexing is deprecated; use `arr[tuple(seq)]` instead of `arr[seq]`. In the future this will be interpreted as an array index, `arr[np.array(seq)]`, which will result either in an error or a different result.\n",
      "  b = a[a_slice]\n",
      "C:\\Users\\nile\\Anaconda3\\envs\\eeg\\lib\\site-packages\\scipy\\signal\\signaltools.py:3463: FutureWarning: Using a non-tuple sequence for multidimensional indexing is deprecated; use `arr[tuple(seq)]` instead of `arr[seq]`. In the future this will be interpreted as an array index, `arr[np.array(seq)]`, which will result either in an error or a different result.\n",
      "  return y[sl]\n"
     ]
    },
    {
     "name": "stdout",
     "output_type": "stream",
     "text": [
      "Selecting model: Models/994dba/experimental/Session3\\994dba_MI_classifier_2019-03-15-13-34-05.sav\n",
      "Selecting model: Models/994dba/experimental/Session3\\994dba_MI_classifier_2019-03-15-13-33-55.sav\n",
      "Selecting model: Models/994dba/experimental/Session3\\994dba_MI_classifier_TL_2019-03-15-13-34-06.sav\n",
      "Selecting BCI EEG file: SaveData/994dba/Session3\\20190227110151_994dba_BCI.easy\n",
      "Selecting BCI behavioral file: SaveData/994dba/Session3\\BCI_994dba_R5.csv\n",
      "Skipping N/A\n"
     ]
    },
    {
     "name": "stderr",
     "output_type": "stream",
     "text": [
      "C:\\Users\\nile\\Anaconda3\\envs\\eeg\\lib\\site-packages\\scipy\\signal\\_arraytools.py:45: FutureWarning: Using a non-tuple sequence for multidimensional indexing is deprecated; use `arr[tuple(seq)]` instead of `arr[seq]`. In the future this will be interpreted as an array index, `arr[np.array(seq)]`, which will result either in an error or a different result.\n",
      "  b = a[a_slice]\n",
      "C:\\Users\\nile\\Anaconda3\\envs\\eeg\\lib\\site-packages\\scipy\\signal\\signaltools.py:3463: FutureWarning: Using a non-tuple sequence for multidimensional indexing is deprecated; use `arr[tuple(seq)]` instead of `arr[seq]`. In the future this will be interpreted as an array index, `arr[np.array(seq)]`, which will result either in an error or a different result.\n",
      "  return y[sl]\n"
     ]
    },
    {
     "name": "stdout",
     "output_type": "stream",
     "text": [
      "Selecting model: Models/994dba/experimental/Session3\\994dba_MI_classifier_2019-03-15-13-34-09.sav\n",
      "Selecting model: Models/994dba/experimental/Session3\\994dba_MI_classifier_2019-03-15-13-33-55.sav\n",
      "Selecting model: Models/994dba/experimental/Session3\\994dba_MI_classifier_TL_2019-03-15-13-34-10.sav\n",
      "Selecting BCI EEG file: SaveData/303d01/Session1\\20190226134648_303d01_BCI.easy\n",
      "Selecting BCI behavioral file: SaveData/303d01/Session1\\BCI_303d01_R1.csv\n",
      "Skipping N/A\n"
     ]
    },
    {
     "name": "stderr",
     "output_type": "stream",
     "text": [
      "C:\\Users\\nile\\Anaconda3\\envs\\eeg\\lib\\site-packages\\scipy\\signal\\_arraytools.py:45: FutureWarning: Using a non-tuple sequence for multidimensional indexing is deprecated; use `arr[tuple(seq)]` instead of `arr[seq]`. In the future this will be interpreted as an array index, `arr[np.array(seq)]`, which will result either in an error or a different result.\n",
      "  b = a[a_slice]\n",
      "C:\\Users\\nile\\Anaconda3\\envs\\eeg\\lib\\site-packages\\scipy\\signal\\signaltools.py:3463: FutureWarning: Using a non-tuple sequence for multidimensional indexing is deprecated; use `arr[tuple(seq)]` instead of `arr[seq]`. In the future this will be interpreted as an array index, `arr[np.array(seq)]`, which will result either in an error or a different result.\n",
      "  return y[sl]\n"
     ]
    },
    {
     "name": "stdout",
     "output_type": "stream",
     "text": [
      "Selecting model: Models/303d01/experimental/Session1\\303d01_MI_classifier_2019-03-15-10-05-09.sav\n",
      "Selecting model: Models/303d01/experimental/Session1\\303d01_MI_classifier_2019-03-15-10-05-09.sav\n",
      "Selecting model: Models/303d01/experimental/Session1\\303d01_MI_classifier_2019-03-15-10-05-09.sav\n",
      "Selecting BCI EEG file: SaveData/303d01/Session1\\20190226135241_303d01_BCI.easy\n",
      "Selecting BCI behavioral file: SaveData/303d01/Session1\\BCI_303d01_R2.csv\n",
      "Skipping N/A\n"
     ]
    },
    {
     "name": "stderr",
     "output_type": "stream",
     "text": [
      "C:\\Users\\nile\\Anaconda3\\envs\\eeg\\lib\\site-packages\\scipy\\signal\\_arraytools.py:45: FutureWarning: Using a non-tuple sequence for multidimensional indexing is deprecated; use `arr[tuple(seq)]` instead of `arr[seq]`. In the future this will be interpreted as an array index, `arr[np.array(seq)]`, which will result either in an error or a different result.\n",
      "  b = a[a_slice]\n",
      "C:\\Users\\nile\\Anaconda3\\envs\\eeg\\lib\\site-packages\\scipy\\signal\\signaltools.py:3463: FutureWarning: Using a non-tuple sequence for multidimensional indexing is deprecated; use `arr[tuple(seq)]` instead of `arr[seq]`. In the future this will be interpreted as an array index, `arr[np.array(seq)]`, which will result either in an error or a different result.\n",
      "  return y[sl]\n"
     ]
    },
    {
     "name": "stdout",
     "output_type": "stream",
     "text": [
      "Selecting model: Models/303d01/experimental/Session1\\303d01_MI_classifier_2019-03-15-10-05-35.sav\n",
      "Selecting model: Models/303d01/experimental/Session1\\303d01_MI_classifier_2019-03-15-10-05-09.sav\n",
      "Selecting model: Models/303d01/experimental/Session1\\303d01_MI_classifier_TL_2019-03-15-10-05-35.sav\n",
      "Selecting BCI EEG file: SaveData/303d01/Session1\\20190226135821_303d01_BCI.easy\n",
      "Selecting BCI behavioral file: SaveData/303d01/Session1\\BCI_303d01_R3.csv\n",
      "Skipping N/A\n"
     ]
    },
    {
     "name": "stderr",
     "output_type": "stream",
     "text": [
      "C:\\Users\\nile\\Anaconda3\\envs\\eeg\\lib\\site-packages\\scipy\\signal\\_arraytools.py:45: FutureWarning: Using a non-tuple sequence for multidimensional indexing is deprecated; use `arr[tuple(seq)]` instead of `arr[seq]`. In the future this will be interpreted as an array index, `arr[np.array(seq)]`, which will result either in an error or a different result.\n",
      "  b = a[a_slice]\n",
      "C:\\Users\\nile\\Anaconda3\\envs\\eeg\\lib\\site-packages\\scipy\\signal\\signaltools.py:3463: FutureWarning: Using a non-tuple sequence for multidimensional indexing is deprecated; use `arr[tuple(seq)]` instead of `arr[seq]`. In the future this will be interpreted as an array index, `arr[np.array(seq)]`, which will result either in an error or a different result.\n",
      "  return y[sl]\n"
     ]
    },
    {
     "name": "stdout",
     "output_type": "stream",
     "text": [
      "Selecting model: Models/303d01/experimental/Session1\\303d01_MI_classifier_2019-03-15-10-05-38.sav\n",
      "Selecting model: Models/303d01/experimental/Session1\\303d01_MI_classifier_2019-03-15-10-05-09.sav\n",
      "Selecting model: Models/303d01/experimental/Session1\\303d01_MI_classifier_TL_2019-03-15-10-05-40.sav\n",
      "Selecting BCI EEG file: SaveData/303d01/Session1\\20190226140401_303d01_BCI.easy\n",
      "Selecting BCI behavioral file: SaveData/303d01/Session1\\BCI_303d01_R4.csv\n",
      "Skipping N/A\n"
     ]
    },
    {
     "name": "stderr",
     "output_type": "stream",
     "text": [
      "C:\\Users\\nile\\Anaconda3\\envs\\eeg\\lib\\site-packages\\scipy\\signal\\_arraytools.py:45: FutureWarning: Using a non-tuple sequence for multidimensional indexing is deprecated; use `arr[tuple(seq)]` instead of `arr[seq]`. In the future this will be interpreted as an array index, `arr[np.array(seq)]`, which will result either in an error or a different result.\n",
      "  b = a[a_slice]\n",
      "C:\\Users\\nile\\Anaconda3\\envs\\eeg\\lib\\site-packages\\scipy\\signal\\signaltools.py:3463: FutureWarning: Using a non-tuple sequence for multidimensional indexing is deprecated; use `arr[tuple(seq)]` instead of `arr[seq]`. In the future this will be interpreted as an array index, `arr[np.array(seq)]`, which will result either in an error or a different result.\n",
      "  return y[sl]\n"
     ]
    },
    {
     "name": "stdout",
     "output_type": "stream",
     "text": [
      "Selecting model: Models/303d01/experimental/Session1\\303d01_MI_classifier_2019-03-15-10-05-44.sav\n",
      "Selecting model: Models/303d01/experimental/Session1\\303d01_MI_classifier_2019-03-15-10-05-09.sav\n",
      "Selecting model: Models/303d01/experimental/Session1\\303d01_MI_classifier_TL_2019-03-15-10-05-46.sav\n",
      "Selecting BCI EEG file: SaveData/303d01/Session1\\20190226140945_303d01_BCI.easy\n",
      "Selecting BCI behavioral file: SaveData/303d01/Session1\\BCI_303d01_R5.csv\n",
      "Skipping N/A\n"
     ]
    },
    {
     "name": "stderr",
     "output_type": "stream",
     "text": [
      "C:\\Users\\nile\\Anaconda3\\envs\\eeg\\lib\\site-packages\\scipy\\signal\\_arraytools.py:45: FutureWarning: Using a non-tuple sequence for multidimensional indexing is deprecated; use `arr[tuple(seq)]` instead of `arr[seq]`. In the future this will be interpreted as an array index, `arr[np.array(seq)]`, which will result either in an error or a different result.\n",
      "  b = a[a_slice]\n",
      "C:\\Users\\nile\\Anaconda3\\envs\\eeg\\lib\\site-packages\\scipy\\signal\\signaltools.py:3463: FutureWarning: Using a non-tuple sequence for multidimensional indexing is deprecated; use `arr[tuple(seq)]` instead of `arr[seq]`. In the future this will be interpreted as an array index, `arr[np.array(seq)]`, which will result either in an error or a different result.\n",
      "  return y[sl]\n"
     ]
    },
    {
     "name": "stdout",
     "output_type": "stream",
     "text": [
      "Selecting model: Models/303d01/experimental/Session1\\303d01_MI_classifier_2019-03-15-10-05-50.sav\n",
      "Selecting model: Models/303d01/experimental/Session1\\303d01_MI_classifier_2019-03-15-10-05-09.sav\n",
      "Selecting model: Models/303d01/experimental/Session1\\303d01_MI_classifier_TL_2019-03-15-10-05-52.sav\n",
      "Selecting BCI EEG file: SaveData/303d01/Session2\\20190227145047_303d01_BCI.easy\n",
      "Selecting BCI behavioral file: SaveData/303d01/Session2\\BCI_303d01_R1.csv\n",
      "Skipping N/A\n"
     ]
    },
    {
     "name": "stderr",
     "output_type": "stream",
     "text": [
      "C:\\Users\\nile\\Anaconda3\\envs\\eeg\\lib\\site-packages\\scipy\\signal\\_arraytools.py:45: FutureWarning: Using a non-tuple sequence for multidimensional indexing is deprecated; use `arr[tuple(seq)]` instead of `arr[seq]`. In the future this will be interpreted as an array index, `arr[np.array(seq)]`, which will result either in an error or a different result.\n",
      "  b = a[a_slice]\n",
      "C:\\Users\\nile\\Anaconda3\\envs\\eeg\\lib\\site-packages\\scipy\\signal\\signaltools.py:3463: FutureWarning: Using a non-tuple sequence for multidimensional indexing is deprecated; use `arr[tuple(seq)]` instead of `arr[seq]`. In the future this will be interpreted as an array index, `arr[np.array(seq)]`, which will result either in an error or a different result.\n",
      "  return y[sl]\n"
     ]
    },
    {
     "name": "stdout",
     "output_type": "stream",
     "text": [
      "Selecting model: Models/303d01/experimental/Session2\\303d01_MI_classifier_2019-03-15-10-08-03.sav\n",
      "Selecting model: Models/303d01/experimental/Session2\\303d01_MI_classifier_2019-03-15-10-08-03.sav\n",
      "Selecting model: Models/303d01/experimental/Session2\\303d01_MI_classifier_2019-03-15-10-08-03.sav\n",
      "Selecting BCI EEG file: SaveData/303d01/Session2\\20190227145637_303d01_BCI.easy\n",
      "Selecting BCI behavioral file: SaveData/303d01/Session2\\BCI_303d01_R2.csv\n",
      "Skipping N/A\n"
     ]
    },
    {
     "name": "stderr",
     "output_type": "stream",
     "text": [
      "C:\\Users\\nile\\Anaconda3\\envs\\eeg\\lib\\site-packages\\scipy\\signal\\_arraytools.py:45: FutureWarning: Using a non-tuple sequence for multidimensional indexing is deprecated; use `arr[tuple(seq)]` instead of `arr[seq]`. In the future this will be interpreted as an array index, `arr[np.array(seq)]`, which will result either in an error or a different result.\n",
      "  b = a[a_slice]\n",
      "C:\\Users\\nile\\Anaconda3\\envs\\eeg\\lib\\site-packages\\scipy\\signal\\signaltools.py:3463: FutureWarning: Using a non-tuple sequence for multidimensional indexing is deprecated; use `arr[tuple(seq)]` instead of `arr[seq]`. In the future this will be interpreted as an array index, `arr[np.array(seq)]`, which will result either in an error or a different result.\n",
      "  return y[sl]\n"
     ]
    },
    {
     "name": "stdout",
     "output_type": "stream",
     "text": [
      "Selecting model: Models/303d01/experimental/Session2\\303d01_MI_classifier_2019-03-15-10-08-09.sav\n",
      "Selecting model: Models/303d01/experimental/Session2\\303d01_MI_classifier_2019-03-15-10-08-03.sav\n",
      "Selecting model: Models/303d01/experimental/Session2\\303d01_MI_classifier_TL_2019-03-15-10-08-09.sav\n",
      "Selecting BCI EEG file: SaveData/303d01/Session2\\20190227150215_303d01_BCI.easy\n",
      "Selecting BCI behavioral file: SaveData/303d01/Session2\\BCI_303d01_R3.csv\n",
      "Skipping N/A\n"
     ]
    },
    {
     "name": "stderr",
     "output_type": "stream",
     "text": [
      "C:\\Users\\nile\\Anaconda3\\envs\\eeg\\lib\\site-packages\\scipy\\signal\\_arraytools.py:45: FutureWarning: Using a non-tuple sequence for multidimensional indexing is deprecated; use `arr[tuple(seq)]` instead of `arr[seq]`. In the future this will be interpreted as an array index, `arr[np.array(seq)]`, which will result either in an error or a different result.\n",
      "  b = a[a_slice]\n",
      "C:\\Users\\nile\\Anaconda3\\envs\\eeg\\lib\\site-packages\\scipy\\signal\\signaltools.py:3463: FutureWarning: Using a non-tuple sequence for multidimensional indexing is deprecated; use `arr[tuple(seq)]` instead of `arr[seq]`. In the future this will be interpreted as an array index, `arr[np.array(seq)]`, which will result either in an error or a different result.\n",
      "  return y[sl]\n"
     ]
    },
    {
     "name": "stdout",
     "output_type": "stream",
     "text": [
      "Selecting model: Models/303d01/experimental/Session2\\303d01_MI_classifier_2019-03-15-10-08-13.sav\n",
      "Selecting model: Models/303d01/experimental/Session2\\303d01_MI_classifier_2019-03-15-10-08-03.sav\n",
      "Selecting model: Models/303d01/experimental/Session2\\303d01_MI_classifier_TL_2019-03-15-10-08-15.sav\n",
      "Selecting BCI EEG file: SaveData/303d01/Session2\\20190227150741_303d01_BCI.easy\n",
      "Selecting BCI behavioral file: SaveData/303d01/Session2\\BCI_303d01_R4.csv\n",
      "Skipping N/A\n"
     ]
    },
    {
     "name": "stderr",
     "output_type": "stream",
     "text": [
      "C:\\Users\\nile\\Anaconda3\\envs\\eeg\\lib\\site-packages\\scipy\\signal\\_arraytools.py:45: FutureWarning: Using a non-tuple sequence for multidimensional indexing is deprecated; use `arr[tuple(seq)]` instead of `arr[seq]`. In the future this will be interpreted as an array index, `arr[np.array(seq)]`, which will result either in an error or a different result.\n",
      "  b = a[a_slice]\n",
      "C:\\Users\\nile\\Anaconda3\\envs\\eeg\\lib\\site-packages\\scipy\\signal\\signaltools.py:3463: FutureWarning: Using a non-tuple sequence for multidimensional indexing is deprecated; use `arr[tuple(seq)]` instead of `arr[seq]`. In the future this will be interpreted as an array index, `arr[np.array(seq)]`, which will result either in an error or a different result.\n",
      "  return y[sl]\n"
     ]
    },
    {
     "name": "stdout",
     "output_type": "stream",
     "text": [
      "Selecting model: Models/303d01/experimental/Session2\\303d01_MI_classifier_2019-03-15-10-08-18.sav\n",
      "Selecting model: Models/303d01/experimental/Session2\\303d01_MI_classifier_2019-03-15-10-08-03.sav\n",
      "Selecting model: Models/303d01/experimental/Session2\\303d01_MI_classifier_TL_2019-03-15-10-08-20.sav\n",
      "Selecting BCI EEG file: SaveData/303d01/Session2\\20190227151306_303d01_BCI.easy\n",
      "Selecting BCI behavioral file: SaveData/303d01/Session2\\BCI_303d01_R5.csv\n",
      "Skipping N/A\n"
     ]
    },
    {
     "name": "stderr",
     "output_type": "stream",
     "text": [
      "C:\\Users\\nile\\Anaconda3\\envs\\eeg\\lib\\site-packages\\scipy\\signal\\_arraytools.py:45: FutureWarning: Using a non-tuple sequence for multidimensional indexing is deprecated; use `arr[tuple(seq)]` instead of `arr[seq]`. In the future this will be interpreted as an array index, `arr[np.array(seq)]`, which will result either in an error or a different result.\n",
      "  b = a[a_slice]\n",
      "C:\\Users\\nile\\Anaconda3\\envs\\eeg\\lib\\site-packages\\scipy\\signal\\signaltools.py:3463: FutureWarning: Using a non-tuple sequence for multidimensional indexing is deprecated; use `arr[tuple(seq)]` instead of `arr[seq]`. In the future this will be interpreted as an array index, `arr[np.array(seq)]`, which will result either in an error or a different result.\n",
      "  return y[sl]\n"
     ]
    },
    {
     "name": "stdout",
     "output_type": "stream",
     "text": [
      "Selecting model: Models/303d01/experimental/Session2\\303d01_MI_classifier_2019-03-15-10-08-23.sav\n",
      "Selecting model: Models/303d01/experimental/Session2\\303d01_MI_classifier_2019-03-15-10-08-03.sav\n",
      "Selecting model: Models/303d01/experimental/Session2\\303d01_MI_classifier_TL_2019-03-15-10-08-25.sav\n",
      "Selecting BCI EEG file: SaveData/303d01/Session3\\20190312144906_303d01_BCI.easy\n",
      "Selecting BCI behavioral file: SaveData/303d01/Session3\\BCI_303d01_R1.csv\n",
      "Skipping N/A\n"
     ]
    },
    {
     "name": "stderr",
     "output_type": "stream",
     "text": [
      "C:\\Users\\nile\\Anaconda3\\envs\\eeg\\lib\\site-packages\\scipy\\signal\\_arraytools.py:45: FutureWarning: Using a non-tuple sequence for multidimensional indexing is deprecated; use `arr[tuple(seq)]` instead of `arr[seq]`. In the future this will be interpreted as an array index, `arr[np.array(seq)]`, which will result either in an error or a different result.\n",
      "  b = a[a_slice]\n",
      "C:\\Users\\nile\\Anaconda3\\envs\\eeg\\lib\\site-packages\\scipy\\signal\\signaltools.py:3463: FutureWarning: Using a non-tuple sequence for multidimensional indexing is deprecated; use `arr[tuple(seq)]` instead of `arr[seq]`. In the future this will be interpreted as an array index, `arr[np.array(seq)]`, which will result either in an error or a different result.\n",
      "  return y[sl]\n"
     ]
    },
    {
     "name": "stdout",
     "output_type": "stream",
     "text": [
      "Selecting model: Models/303d01/experimental/Session3\\303d01_MI_classifier_2019-03-15-10-10-32.sav\n",
      "Selecting model: Models/303d01/experimental/Session3\\303d01_MI_classifier_2019-03-15-10-10-32.sav\n",
      "Selecting model: Models/303d01/experimental/Session3\\303d01_MI_classifier_2019-03-15-10-10-32.sav\n",
      "Selecting BCI EEG file: SaveData/303d01/Session3\\20190312145443_303d01_BCI.easy\n",
      "Selecting BCI behavioral file: SaveData/303d01/Session3\\BCI_303d01_R2.csv\n",
      "Skipping N/A\n"
     ]
    },
    {
     "name": "stderr",
     "output_type": "stream",
     "text": [
      "C:\\Users\\nile\\Anaconda3\\envs\\eeg\\lib\\site-packages\\scipy\\signal\\_arraytools.py:45: FutureWarning: Using a non-tuple sequence for multidimensional indexing is deprecated; use `arr[tuple(seq)]` instead of `arr[seq]`. In the future this will be interpreted as an array index, `arr[np.array(seq)]`, which will result either in an error or a different result.\n",
      "  b = a[a_slice]\n",
      "C:\\Users\\nile\\Anaconda3\\envs\\eeg\\lib\\site-packages\\scipy\\signal\\signaltools.py:3463: FutureWarning: Using a non-tuple sequence for multidimensional indexing is deprecated; use `arr[tuple(seq)]` instead of `arr[seq]`. In the future this will be interpreted as an array index, `arr[np.array(seq)]`, which will result either in an error or a different result.\n",
      "  return y[sl]\n"
     ]
    },
    {
     "name": "stdout",
     "output_type": "stream",
     "text": [
      "Selecting model: Models/303d01/experimental/Session3\\303d01_MI_classifier_2019-03-15-10-10-38.sav\n",
      "Selecting model: Models/303d01/experimental/Session3\\303d01_MI_classifier_2019-03-15-10-10-32.sav\n",
      "Selecting model: Models/303d01/experimental/Session3\\303d01_MI_classifier_TL_2019-03-15-10-10-38.sav\n",
      "Selecting BCI EEG file: SaveData/303d01/Session3\\20190312145946_303d01_BCI.easy\n",
      "Selecting BCI behavioral file: SaveData/303d01/Session3\\BCI_303d01_R3.csv\n",
      "Skipping N/A\n"
     ]
    },
    {
     "name": "stderr",
     "output_type": "stream",
     "text": [
      "C:\\Users\\nile\\Anaconda3\\envs\\eeg\\lib\\site-packages\\scipy\\signal\\_arraytools.py:45: FutureWarning: Using a non-tuple sequence for multidimensional indexing is deprecated; use `arr[tuple(seq)]` instead of `arr[seq]`. In the future this will be interpreted as an array index, `arr[np.array(seq)]`, which will result either in an error or a different result.\n",
      "  b = a[a_slice]\n",
      "C:\\Users\\nile\\Anaconda3\\envs\\eeg\\lib\\site-packages\\scipy\\signal\\signaltools.py:3463: FutureWarning: Using a non-tuple sequence for multidimensional indexing is deprecated; use `arr[tuple(seq)]` instead of `arr[seq]`. In the future this will be interpreted as an array index, `arr[np.array(seq)]`, which will result either in an error or a different result.\n",
      "  return y[sl]\n"
     ]
    },
    {
     "name": "stdout",
     "output_type": "stream",
     "text": [
      "Selecting model: Models/303d01/experimental/Session3\\303d01_MI_classifier_2019-03-15-10-10-42.sav\n",
      "Selecting model: Models/303d01/experimental/Session3\\303d01_MI_classifier_2019-03-15-10-10-32.sav\n",
      "Selecting model: Models/303d01/experimental/Session3\\303d01_MI_classifier_TL_2019-03-15-10-10-43.sav\n",
      "Selecting BCI EEG file: SaveData/303d01/Session3\\20190312150555_303d01_BCI.easy\n",
      "Selecting BCI behavioral file: SaveData/303d01/Session3\\BCI_303d01_R4.csv\n",
      "Skipping N/A\n"
     ]
    },
    {
     "name": "stderr",
     "output_type": "stream",
     "text": [
      "C:\\Users\\nile\\Anaconda3\\envs\\eeg\\lib\\site-packages\\scipy\\signal\\_arraytools.py:45: FutureWarning: Using a non-tuple sequence for multidimensional indexing is deprecated; use `arr[tuple(seq)]` instead of `arr[seq]`. In the future this will be interpreted as an array index, `arr[np.array(seq)]`, which will result either in an error or a different result.\n",
      "  b = a[a_slice]\n",
      "C:\\Users\\nile\\Anaconda3\\envs\\eeg\\lib\\site-packages\\scipy\\signal\\signaltools.py:3463: FutureWarning: Using a non-tuple sequence for multidimensional indexing is deprecated; use `arr[tuple(seq)]` instead of `arr[seq]`. In the future this will be interpreted as an array index, `arr[np.array(seq)]`, which will result either in an error or a different result.\n",
      "  return y[sl]\n"
     ]
    },
    {
     "name": "stdout",
     "output_type": "stream",
     "text": [
      "Selecting model: Models/303d01/experimental/Session3\\303d01_MI_classifier_2019-03-15-10-10-47.sav\n",
      "Selecting model: Models/303d01/experimental/Session3\\303d01_MI_classifier_2019-03-15-10-10-32.sav\n",
      "Selecting model: Models/303d01/experimental/Session3\\303d01_MI_classifier_TL_2019-03-15-10-10-49.sav\n",
      "Selecting BCI EEG file: SaveData/303d01/Session3\\20190312151157_303d01_BCI.easy\n",
      "Selecting BCI behavioral file: SaveData/303d01/Session3\\BCI_303d01_R5.csv\n",
      "Skipping N/A\n",
      "Selecting model: Models/303d01/experimental/Session3\\303d01_MI_classifier_2019-03-15-10-10-52.sav\n",
      "Selecting model: Models/303d01/experimental/Session3\\303d01_MI_classifier_2019-03-15-10-10-32.sav\n",
      "Selecting model: Models/303d01/experimental/Session3\\303d01_MI_classifier_TL_2019-03-15-10-10-54.sav\n"
     ]
    },
    {
     "name": "stderr",
     "output_type": "stream",
     "text": [
      "C:\\Users\\nile\\Anaconda3\\envs\\eeg\\lib\\site-packages\\scipy\\signal\\_arraytools.py:45: FutureWarning: Using a non-tuple sequence for multidimensional indexing is deprecated; use `arr[tuple(seq)]` instead of `arr[seq]`. In the future this will be interpreted as an array index, `arr[np.array(seq)]`, which will result either in an error or a different result.\n",
      "  b = a[a_slice]\n",
      "C:\\Users\\nile\\Anaconda3\\envs\\eeg\\lib\\site-packages\\scipy\\signal\\signaltools.py:3463: FutureWarning: Using a non-tuple sequence for multidimensional indexing is deprecated; use `arr[tuple(seq)]` instead of `arr[seq]`. In the future this will be interpreted as an array index, `arr[np.array(seq)]`, which will result either in an error or a different result.\n",
      "  return y[sl]\n"
     ]
    }
   ],
   "source": [
    "orig_scores = list()\n",
    "sim_scores = list()\n",
    "sim_TL_scores = list()\n",
    "actual_scores = list()\n",
    "X_orig_all = dict()\n",
    "y_orig_all = dict()\n",
    "X_sim_all = dict()\n",
    "y_sim_all = dict()\n",
    "X_sim_TL_all = dict()\n",
    "y_sim_TL_all = dict()\n",
    "clf_orig_all = dict()\n",
    "clf_sim_all = dict()\n",
    "clf_sim_TL_all = dict() # for simulated true-label adaptation\n",
    "\n",
    "subject_count = 0\n",
    "\n",
    "for subjID in subjID_all:\n",
    "    subject_group = subject_group_all[subject_count]\n",
    "    counter = 1 # keeps track of all runs (start from 1->15)\n",
    "    \n",
    "    for session_number in range(1,3+1):\n",
    "        for runOfInt in range(1, num_of_runs+1):\n",
    "            # Find BCI file names\n",
    "            filename_eeg, filename_behavioral = FindBCIFiles(subjID, runOfInt, session_number, model_type)\n",
    "\n",
    "            # Load EEG data\n",
    "            EEGdata, fs, fs_accel = LoadEEGData(filename_eeg, EEGdevice)\n",
    "\n",
    "            # Load behavioral data\n",
    "            behavioralData = LoadBehavioralDataBCI(filename_behavioral)\n",
    "\n",
    "            # Sync up trigger pulses\n",
    "            num_of_trials, num_of_movements, move_starts, hasBaseline, rest_starts, rest_ends = SyncTriggerPulsesBCI(EEGdata, EEGdevice, fs, behavioralData)\n",
    "\n",
    "            # Epoch the data\n",
    "            epochs, epochs_norm = EpochBCIData(EEGdata, fs, move_starts, rest_starts, rest_ends)\n",
    "\n",
    "            # Organize trial types\n",
    "            trial_type = OrganizeTrials(behavioralData, hasBaseline)\n",
    "\n",
    "            # Get signal features\n",
    "            alpha_power, beta_power = ExtractFeaturesBCI(epochs_norm, num_of_movements, ['C3','C4'], 1)\n",
    "            motor_features = [alpha_power['C3'], beta_power['C3'], alpha_power['C4'], beta_power['C4']]\n",
    "            motor_features = np.transpose(motor_features)\n",
    "\n",
    "            # Load a specific model (0 loads initial model trained on screening)\n",
    "            # If using run_number, it will load the model created just prior to\n",
    "            # this BCI run (simulated or created during the session)\n",
    "            if subject_group == 1:\n",
    "                clf_orig, X_loaded, y_loaded = LoadModel_MI(subjID, model_type, 1, session_number, 'None')\n",
    "            elif subject_group == 2:\n",
    "                clf_orig, X_loaded, y_loaded = LoadModel_MI(subjID, model_type, runOfInt, session_number, 'CS')\n",
    "\n",
    "            # Get the original score\n",
    "            X = (motor_features - np.mean(X_loaded,0))/np.std(X_loaded,0)\n",
    "            y = trial_type\n",
    "            orig_score = clf_orig.score(X, y)*100\n",
    "            X_orig_all[counter] = X\n",
    "            y_orig_all[counter] = y\n",
    "\n",
    "            # Get the simulated score (no adaptation or CS adaptation)\n",
    "            if subject_group == 1:\n",
    "                clf_sim, X_loaded, y_loaded = LoadModel_MI(subjID, model_type, runOfInt, session_number, 'CS')\n",
    "            elif subject_group == 2:\n",
    "                clf_sim, X_loaded, y_loaded = LoadModel_MI(subjID, model_type, 1, session_number, 'None')\n",
    "\n",
    "            X = (motor_features - np.mean(X_loaded,0))/np.std(X_loaded,0)\n",
    "            y = trial_type\n",
    "            sim_score = clf_sim.score(X, y)*100\n",
    "            X_sim_all[counter] = X\n",
    "            y_sim_all[counter] = y\n",
    "\n",
    "            # Get the true label simulation score\n",
    "            if runOfInt == 1:\n",
    "                clf_sim_TL, X_loaded, y_loaded = LoadModel_MI(subjID, model_type, 1, session_number, 'None')\n",
    "            else:\n",
    "                clf_sim_TL, X_loaded, y_loaded = LoadModel_MI(subjID, model_type, runOfInt, session_number, 'TL')\n",
    "            X = (motor_features - np.mean(X_loaded,0))/np.std(X_loaded,0)\n",
    "            y = trial_type\n",
    "            sim_TL_score = clf_sim_TL.score(X, y)*100\n",
    "            X_sim_TL_all[counter] = X\n",
    "            y_sim_TL_all[counter] = y\n",
    "            \n",
    "            # Get behavioral score for not simulated\n",
    "            actual, TL = GetBehavioralTL_single(runOfInt, behavioralData, hasBaseline)\n",
    "            correct_all = len(np.where(TL==actual)[0])/len(TL)*100\n",
    "            actual_scores.append(correct_all)\n",
    "\n",
    "            # Store values\n",
    "            orig_scores.append(orig_score)\n",
    "            sim_scores.append(sim_score)\n",
    "            sim_TL_scores.append(sim_TL_score)\n",
    "            clf_orig_all[counter] = clf_orig\n",
    "            clf_sim_all[counter] = clf_sim\n",
    "            clf_sim_TL_all[counter] = clf_sim_TL\n",
    "            counter += 1\n",
    "        \n",
    "    subject_count += 1"
   ]
  },
  {
   "cell_type": "markdown",
   "metadata": {},
   "source": [
    "Organize"
   ]
  },
  {
   "cell_type": "code",
   "execution_count": 51,
   "metadata": {},
   "outputs": [],
   "source": [
    "# Also get standard error of the mean (SEM)\n",
    "num_of_total_runs = 15\n",
    "tmp = np.reshape(orig_scores,(len(orig_scores)//num_of_total_runs, num_of_total_runs))\n",
    "orig_scores_means = np.mean(tmp,0)\n",
    "orig_scores_sem = sem(tmp,0)\n",
    "\n",
    "co_adaptation_means = list()\n",
    "no_adaptation_means = list()\n",
    "sim_scores_adapt_means = list()\n",
    "sim_scores_no_adapt_means = list()\n",
    "for i in range(0,len(subject_group_all)):\n",
    "    subject_group = subject_group_all[i]\n",
    "    tmp = np.reshape(actual_scores,(len(actual_scores)//num_of_total_runs, num_of_total_runs))\n",
    "    tmp_sim = np.reshape(sim_scores,(len(sim_scores)//num_of_total_runs, num_of_total_runs))\n",
    "    if subject_group == 1:\n",
    "        no_adaptation_means.append(tmp[i,:])\n",
    "        sim_scores_adapt_means.append(tmp_sim[i,:])\n",
    "    else:\n",
    "        co_adaptation_means.append(tmp[i,:])\n",
    "        sim_scores_no_adapt_means.append(tmp_sim[i,:])\n",
    "\n",
    "tmp = np.reshape(sim_TL_scores,(len(sim_TL_scores)//num_of_total_runs, num_of_total_runs))\n",
    "sim_TL_scores_sem = sem(tmp,0)\n",
    "sim_TL_scores_means = np.mean(tmp,0)\n",
    "\n",
    "tmp = co_adaptation_means\n",
    "co_adaptation_sem = sem(tmp,0)\n",
    "co_adaptation_means = np.mean(tmp,0)\n",
    "\n",
    "tmp = no_adaptation_means\n",
    "no_adaptation_sem = sem(tmp,0)\n",
    "no_adaptation_means = np.mean(tmp,0)\n",
    "\n",
    "tmp = sim_scores_adapt_means\n",
    "sim_scores_adapt_sem = sem(tmp,0)\n",
    "sim_scores_adapt_means = np.mean(tmp,0)\n",
    "\n",
    "tmp = sim_scores_no_adapt_means\n",
    "sim_scores_no_adapt_sem = sem(tmp,0)\n",
    "sim_scores_no_adapt_means = np.mean(tmp,0)"
   ]
  },
  {
   "cell_type": "markdown",
   "metadata": {},
   "source": [
    "Plot"
   ]
  },
  {
   "cell_type": "code",
   "execution_count": 52,
   "metadata": {},
   "outputs": [],
   "source": [
    "min_all = np.min([np.min(co_adaptation_means),np.min(no_adaptation_means),\n",
    "                  np.min(sim_scores_adapt_means),np.min(sim_scores_no_adapt_means)])\n",
    "max_all = np.max([np.max(co_adaptation_means),np.max(no_adaptation_means),\n",
    "                  np.max(sim_scores_adapt_means),np.max(sim_scores_no_adapt_means)])"
   ]
  },
  {
   "cell_type": "markdown",
   "metadata": {},
   "source": [
    "# STILL GOTTA ADD SEM BARS"
   ]
  },
  {
   "cell_type": "code",
   "execution_count": 58,
   "metadata": {},
   "outputs": [
    {
     "data": {
      "image/png": "[encoded data removed]",
      "text/plain": [
       "<Figure size 1152x288 with 1 Axes>"
      ]
     },
     "metadata": {
      "needs_background": "light"
     },
     "output_type": "display_data"
    }
   ],
   "source": [
    "fig = plt.figure(figsize=(16,4))\n",
    "\n",
    "plt.plot(no_adaptation_means, color='green', marker='o', markersize=8,\n",
    "         linestyle='dashed', linewidth=2)\n",
    "#plt.errorbar()\n",
    "plt.plot(co_adaptation_means, color='yellowgreen', marker='^', markersize=8,\n",
    "     linestyle='dashed', linewidth=2)\n",
    "plt.plot(sim_TL_scores_means, color='orange', marker='P', markersize=8,\n",
    "     linestyle='dashed', linewidth=2)\n",
    "plt.title('All Subjects average, BCI performance, All Sessions, ' + model_type)\n",
    "lgd = plt.legend(['No Adaptation','Co-Adaptation (CS)','Simulated Adaptation (TL)','Chance'],\n",
    "          loc='upper center', bbox_to_anchor=(0.5, -0.10))\n",
    "# Plot properties\n",
    "plt.xticks([0, 1, 2, 3, 4, 5, 6, 7, 8, 9, 10, 11, 12, 13, 14],\n",
    "           ['Run 1','Run 2','Run 3','Run 4','Run 5','Run 6','Run 7','Run 8','Run 9','Run 10',\n",
    "           'Run 11','Run 12','Run 13','Run 14','Run 15'])\n",
    "plt.ylabel('Performance (%)')\n",
    "plt.hlines(y=50, xmin=0, xmax=14, color='gray', linestyles='dashed',\n",
    "           linewidth=1, alpha=0.5)\n",
    "plt.axvline(x=0, alpha=0.15, linewidth=5, color='gray', linestyle='solid')\n",
    "plt.axvline(x=5, alpha=0.15, linewidth=5, color='gray', linestyle='solid')\n",
    "plt.axvline(x=10, alpha=0.15, linewidth=5, color='gray', linestyle='solid')\n",
    "plt.ylim([min_all-2, max_all+2])\n",
    "plt.xlim([-0.5,14.5])\n",
    "\n",
    "plt.show()\n",
    "fig.savefig('Figures/' + subjID + '_Performance_Session-all_' + model_type + '.png',\n",
    "            bbox_extra_artists=(lgd,), bbox_inches='tight')"
   ]
  },
  {
   "cell_type": "code",
   "execution_count": 59,
   "metadata": {},
   "outputs": [
    {
     "data": {
      "image/png": "[encoded data removed]",
      "text/plain": [
       "<Figure size 1152x288 with 1 Axes>"
      ]
     },
     "metadata": {
      "needs_background": "light"
     },
     "output_type": "display_data"
    }
   ],
   "source": [
    "fig = plt.figure(figsize=(16,4))\n",
    "x = np.asarray(range(0,15))\n",
    "\n",
    "plt.errorbar(x, no_adaptation_means, no_adaptation_sem, color='green', marker='o', markersize=8,\n",
    "         linestyle='dashed', linewidth=2, alpha=0.75)\n",
    "plt.errorbar(x,co_adaptation_means, co_adaptation_sem, color='yellowgreen', marker='^', markersize=8,\n",
    "     linestyle='dashed', linewidth=2, alpha=0.75)\n",
    "plt.errorbar(x,sim_TL_scores_means, sim_TL_scores_sem, color='orange', marker='P', markersize=8,\n",
    "     linestyle='dashed', linewidth=2, alpha=0.75)\n",
    "plt.title('All Subjects average, BCI performance, All Sessions, ' + model_type)\n",
    "lgd = plt.legend(['No Adaptation','Co-Adaptation (CS)','Simulated Adaptation (TL)','Chance'],\n",
    "          loc='upper center', bbox_to_anchor=(0.5, -0.10))\n",
    "# Plot properties\n",
    "plt.xticks([0, 1, 2, 3, 4, 5, 6, 7, 8, 9, 10, 11, 12, 13, 14],\n",
    "           ['Run 1','Run 2','Run 3','Run 4','Run 5','Run 6','Run 7','Run 8','Run 9','Run 10',\n",
    "           'Run 11','Run 12','Run 13','Run 14','Run 15'])\n",
    "plt.ylabel('Performance (%)')\n",
    "plt.hlines(y=50, xmin=0, xmax=14, color='gray', linestyles='dashed',\n",
    "           linewidth=1, alpha=0.5)\n",
    "plt.axvline(x=0, alpha=0.15, linewidth=5, color='gray', linestyle='solid')\n",
    "plt.axvline(x=5, alpha=0.15, linewidth=5, color='gray', linestyle='solid')\n",
    "plt.axvline(x=10, alpha=0.15, linewidth=5, color='gray', linestyle='solid')\n",
    "plt.ylim([min_all-2, max_all+2])\n",
    "plt.xlim([-0.5,14.5])\n",
    "\n",
    "plt.show()\n",
    "fig.savefig('Figures/' + subjID + '_Performance_Session-all_' + model_type + '-withSEM.png',\n",
    "            bbox_extra_artists=(lgd,), bbox_inches='tight')"
   ]
  },
  {
   "cell_type": "code",
   "execution_count": null,
   "metadata": {},
   "outputs": [],
   "source": []
  }
 ],
 "metadata": {
  "kernelspec": {
   "display_name": "Python 3",
   "language": "python",
   "name": "python3"
  },
  "language_info": {
   "codemirror_mode": {
    "name": "ipython",
    "version": 3
   },
   "file_extension": ".py",
   "mimetype": "text/x-python",
   "name": "python",
   "nbconvert_exporter": "python",
   "pygments_lexer": "ipython3",
   "version": "3.6.7"
  }
 },
 "nbformat": 4,
 "nbformat_minor": 2
}
