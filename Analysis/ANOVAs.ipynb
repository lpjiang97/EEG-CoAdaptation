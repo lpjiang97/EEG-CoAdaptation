{
 "cells": [
  {
   "cell_type": "markdown",
   "metadata": {},
   "source": [
    "# ANOVAs\n",
    "Use this notebook to run statistical analysis via ANOVA tests for data using all subjects.\n",
    "\n",
    "## WARNING\n",
    "Before running this notebook, make sure you have simulated all 3 sessions for the subject of interest using `Simulate_Everything.py`\n",
    "\n",
    "Nile Wilson, 2019.03.22"
   ]
  },
  {
   "cell_type": "code",
   "execution_count": 1,
   "metadata": {},
   "outputs": [],
   "source": [
    "from sklearn.preprocessing import StandardScaler\n",
    "from sklearn.model_selection import GridSearchCV\n",
    "from imblearn.over_sampling import SMOTE\n",
    "from sklearn.model_selection import KFold\n",
    "from sklearn.model_selection import train_test_split\n",
    "from sklearn.svm import SVC, LinearSVC\n",
    "from sklearn.metrics import confusion_matrix\n",
    "from sklearn.neural_network import MLPClassifier\n",
    "from sklearn.svm import SVC, LinearSVC\n",
    "from sklearn.metrics import roc_curve, auc\n",
    "from sklearn.model_selection import validation_curve\n",
    "from sklearn.model_selection import learning_curve\n",
    "from matplotlib import pyplot as plt\n",
    "from scipy.fftpack import fft, ifft\n",
    "from scipy import signal\n",
    "from mne.filter import filter_data\n",
    "\n",
    "import scipy.signal as scisig\n",
    "from scipy import stats\n",
    "import scipy.io\n",
    "import numpy as np\n",
    "import pandas as pd\n",
    "import datetime\n",
    "import pickle\n",
    "import glob\n",
    "import csv\n",
    "import mne\n",
    "import os"
   ]
  },
  {
   "cell_type": "markdown",
   "metadata": {},
   "source": [
    "# Set Your Variables\n",
    "Define which subject's data you are going to use to simulate performance (be sure to make sure the subject_group and session_number are correct)"
   ]
  },
  {
   "cell_type": "code",
   "execution_count": 2,
   "metadata": {},
   "outputs": [],
   "source": [
    "EEGdevice = 8\n",
    "\n",
    "# model_type will be used to name/organize all files associated with whatever you run here\n",
    "# don't use the word 'original' here\n",
    "# Usually either 'experimental' or 'SVM01'\n",
    "model_type = 'experimental'\n",
    "isSVM = False"
   ]
  },
  {
   "cell_type": "markdown",
   "metadata": {},
   "source": [
    "# PART 1: Load all the data\n",
    "Load in all the models and the associated data"
   ]
  },
  {
   "cell_type": "markdown",
   "metadata": {},
   "source": [
    "### Function Definitions\n",
    "Functions for working with the BCI data"
   ]
  },
  {
   "cell_type": "code",
   "execution_count": 3,
   "metadata": {},
   "outputs": [],
   "source": [
    "def FindBCIFiles(subjID, run_number, session_number, model_type):\n",
    "    \"\"\"\n",
    "    Returns the file names for the BCI run of choice\n",
    "    \"\"\"\n",
    "    # Load latest model and its associated data\n",
    "    BCI_files = glob.glob('SaveData/' + subjID + '/Session' + str(session_number) + '/*' + subjID + '_BCI.easy')\n",
    "    \n",
    "    # Throw exception if model number is outside range of existing models\n",
    "    if run_number-1 > len(BCI_files):\n",
    "        raise ValueError('Please select a valid run number')\n",
    "    \n",
    "    filename_eeg = BCI_files[run_number-1]\n",
    "    print('Selecting BCI EEG file: ' + filename_eeg)\n",
    "\n",
    "    behavioral_files = glob.glob('SaveData/' + subjID + '/Session' + str(session_number) + '/BCI_' + subjID + '*.csv')\n",
    "    filename_behavioral = behavioral_files[run_number-1]\n",
    "    print('Selecting BCI behavioral file: ' + filename_behavioral)\n",
    "    \n",
    "    return filename_eeg, filename_behavioral\n",
    "\n",
    "def LoadEEGData(filename, EEGdevice):\n",
    "    \"\"\" This function converts a single .easy file (from NIC2) to an easy-to-use dataframe.\n",
    "    Uses both the .easy file and .info file (containing metadata)\n",
    "    \n",
    "    ---- Input ----\n",
    "    filename: string containing the .easy filepath\n",
    "    \n",
    "    ---- Output ----\n",
    "    df: dataframe containing all the EEG, accelerometer, and event marker data\n",
    "    fs: sampling rate for the EEG data (Hz)\n",
    "    fs_accel: sampling rate for the accelerometer data (Hz)\n",
    "    \n",
    "    \"\"\"\n",
    "    if EEGdevice == 7:\n",
    "        x = 1\n",
    "    elif EEGdevice == 8:\n",
    "        # Read in the .easy file\n",
    "        df = pd.read_csv(filename, delimiter='\\t', header=None)\n",
    "\n",
    "        # Get metadata from the .info file\n",
    "        fname = filename[:-5] + '.info'\n",
    "        with open(fname) as f:\n",
    "            content = f.readlines()\n",
    "        content = [x.strip() for x in content]\n",
    "\n",
    "        # Get the channel names\n",
    "        channel_info = [x for x in content if 'Channel ' in x]\n",
    "        channel_names = []\n",
    "        for ch in range(len(channel_info)):\n",
    "            channel_names.append(channel_info[ch].split(': ')[1])\n",
    "\n",
    "        channel_names.append('X')\n",
    "        channel_names.append('Y')\n",
    "        channel_names.append('Z')\n",
    "        channel_names.append('STI 014')\n",
    "        channel_names.append('DateTime')\n",
    "\n",
    "        # Get sampling rates\n",
    "        sampling_rates = [x for x in content if 'sampling rate: ' in x]\n",
    "        fs_all = []\n",
    "        for freq in range(len(sampling_rates)):\n",
    "            tmp = sampling_rates[freq].split(': ')[1].split(' ')[0]\n",
    "            if tmp in ['N/A']:\n",
    "                print('Skipping N/A')\n",
    "            else:\n",
    "                fs_all.append(float(sampling_rates[freq].split(': ')[1].split(' ')[0]))\n",
    "\n",
    "        # Store sampling rates\n",
    "        fs = fs_all[0]\n",
    "        fs_accel = fs_all[1]\n",
    "\n",
    "        # Assign the column names\n",
    "        df.columns = channel_names\n",
    "    \n",
    "    # Return dataframe and sampling rates\n",
    "    return df, fs, fs_accel\n",
    "\n",
    "def LoadBehavioralDataBCI(filename_behavioral):\n",
    "    \"\"\"\n",
    "    This function loads behavioral data for the motor screening task and formats it to use in this script\n",
    "    \"\"\"\n",
    "    behavioralData = pd.read_csv(filename_behavioral, ',')\n",
    "    \n",
    "    return behavioralData\n",
    "\n",
    "def SyncTriggerPulsesBCI(EEGdata, EEGdevice, fs, behavioralData):\n",
    "    \"\"\"\n",
    "    This function returns the indices for events of interest\n",
    "    \"\"\"\n",
    "    \n",
    "    if EEGdevice == 7:\n",
    "        print('Put code here')\n",
    "    elif EEGdevice == 8:\n",
    "        # Store where the values in trigger are equal to 8 (the audio trigger input channel number)\n",
    "        index_trigger = np.where(EEGdata['STI 014']!=0)\n",
    "        index_trigger = index_trigger[0]\n",
    "\n",
    "        # Number of trials is greater than number of total pulses sent\n",
    "        # 999 when the task ends\n",
    "        move_left_starts = np.where(EEGdata['STI 014'] == 1)[0]\n",
    "        move_right_starts = np.where(EEGdata['STI 014'] == 2)[0]\n",
    "        rest_starts = np.where(EEGdata['STI 014'] == 3)[0]\n",
    "        rest_ends = np.where(EEGdata['STI 014'] == 4)[0]\n",
    "        \n",
    "        # If the number of rest_starts and rest_ends don't match, drop the extra one\n",
    "        # there should, by default, only be 12 starts and 12 ends\n",
    "\n",
    "        if len(rest_ends) > len(rest_starts):\n",
    "            if rest_ends[0] < rest_starts[0]:\n",
    "                rest_ends = rest_ends[1:]\n",
    "        elif len(rest_ends) < len(rest_starts):\n",
    "            if rest_ends[0] > rest_starts[0]:\n",
    "                rest_starts = rest_starts[1:]\n",
    "        \n",
    "        move_starts = np.sort(np.concatenate((move_left_starts,move_right_starts),0))\n",
    "        total_movements = len(move_starts)\n",
    "\n",
    "        # exclude movements that occur without defined baseline (if you need to get rid of first rest)\n",
    "        hasBaseline = list()\n",
    "        for movement in range(0,len(move_starts)):\n",
    "            hasBaseline.append(True in (rest_starts < move_starts[movement]))\n",
    "\n",
    "        np.where(hasBaseline)\n",
    "        move_starts = move_starts[np.where(hasBaseline)]\n",
    "\n",
    "        # exclude the move lefts and move rights that were thrown out in move_starts\n",
    "        for movement in range(0,total_movements):\n",
    "            if hasBaseline[movement] is False:\n",
    "                # for the left movements\n",
    "                idx_left = np.where(move_left_starts == move_starts[movement])\n",
    "                idx_left = np.asarray(idx_left)\n",
    "                idx_right = np.where(move_right_starts == move_starts[movement])\n",
    "                idx_right = np.asarray(idx_right)\n",
    "\n",
    "                if idx_left.size > 0:\n",
    "                    move_left_starts = np.delete(move_left_starts, idx_left)\n",
    "                if idx_right.size > 0:\n",
    "                    move_right_starts = np.delete(move_right_starts, idx_right)\n",
    "                \n",
    "        num_of_trials = len(rest_starts)\n",
    "        num_of_movements = len(move_left_starts) + len(move_right_starts)\n",
    "    \n",
    "    return num_of_trials, num_of_movements, move_starts, hasBaseline, rest_starts, rest_ends\n",
    "\n",
    "def EpochBCIData(EEGdata, fs, move_starts, rest_starts, rest_ends):\n",
    "    \"\"\"\n",
    "    This function epochs the data\n",
    "    \"\"\"\n",
    "    \n",
    "    if EEGdevice == 7:\n",
    "        channels = EEGdata.columns[1:8]\n",
    "    elif EEGdevice == 8:\n",
    "        channels = EEGdata.columns[0:8]\n",
    "\n",
    "    epochs = []\n",
    "    epochs_norm = []\n",
    "\n",
    "    for movement in range(0,len(move_starts)):\n",
    "        # Data for this movement\n",
    "        t_start = move_starts[movement] - np.round(2.00*fs)\n",
    "        t_end = move_starts[movement] - np.round(0.250*fs)\n",
    "\n",
    "        # Baseline\n",
    "        restOfInt = np.max(np.where(rest_starts < move_starts[movement]))\n",
    "        tb_start = rest_starts[restOfInt]\n",
    "        tb_end = rest_ends[restOfInt]\n",
    "\n",
    "        # Note, baseline is filtered before it is used in the live script\n",
    "        baseline_pre_filt = np.asarray(EEGdata.loc[tb_start:tb_end][channels]) * 1.0\n",
    "        baseline_filt = filter_data(baseline_pre_filt.T, sfreq=fs, l_freq=7, h_freq=31, verbose='ERROR')\n",
    "        baseline = baseline_filt.T\n",
    "\n",
    "        # Filter per epoch, like you would in real-time\n",
    "        pre_filt = np.asarray(EEGdata.loc[t_start:t_end][channels]) * 1.0\n",
    "        filtered = filter_data(pre_filt.T, sfreq=fs, l_freq=7, h_freq=31, verbose='ERROR')\n",
    "        epoch = pd.DataFrame(filtered.T)\n",
    "        epoch.columns = EEGdata.columns[0:8]\n",
    "\n",
    "        # Store epoch\n",
    "        tmp = (epoch - np.mean(baseline,0))/np.std(baseline,0)\n",
    "        tmp = pd.DataFrame(tmp)\n",
    "        tmp.columns = EEGdata.columns[0:8]\n",
    "\n",
    "        epochs_norm.append(tmp)\n",
    "        epochs.append(epoch)\n",
    "\n",
    "    return epochs, epochs_norm\n",
    "\n",
    "def OrganizeTrials(behavioralData, hasBaseline):\n",
    "    \"\"\"\n",
    "    Organizes trials\n",
    "    \"\"\"\n",
    "    \n",
    "    # When the target is to the left\n",
    "    trialL = np.where(behavioralData['target_x'] < 1000)\n",
    "    \n",
    "    # When target was to the right\n",
    "    trialR = np.where(behavioralData['target_x'] > 1000)\n",
    "    \n",
    "    # Create a single list that includes which movement is which (L = 0, R = 1)\n",
    "    trial_type = np.zeros([1,len(behavioralData['score'])])\n",
    "    trial_type[0][trialL] = 0\n",
    "    trial_type[0][trialR] = 1\n",
    "\n",
    "    trial_type = np.round(trial_type[0])\n",
    "    \n",
    "    # Remove trials if no baseline\n",
    "    for movement in range(0,len(hasBaseline)):\n",
    "        if hasBaseline[movement] is False:\n",
    "            trial_type = np.delete(trial_type, movement)\n",
    "            \n",
    "    return trial_type\n",
    "\n",
    "def ExtractFeaturesBCI(epochs, num_of_movements, channelsToUse, ds_factor):\n",
    "    \"\"\"\n",
    "    Extract signal features of interest\n",
    "    \"\"\"\n",
    "    \n",
    "    # Get the summed delta power for each trial\n",
    "    alpha_power = dict.fromkeys(channelsToUse)\n",
    "    beta_power = dict.fromkeys(channelsToUse)\n",
    "    ds_f = ds_factor # downsampling factor\n",
    "\n",
    "    for chanOfInt in channelsToUse:\n",
    "        tmp_alpha = list()\n",
    "        tmp_beta = list()\n",
    "\n",
    "        for movement in range(0, num_of_movements):\n",
    "            f, Pxx_den = signal.welch(signal.decimate(epochs[movement][chanOfInt],ds_f), fs/ds_f, scaling='spectrum')\n",
    "            alpha_idx = np.where(np.logical_and(np.round(f) >= 8, np.round(f) <= 12))\n",
    "            tmp_alpha.append(np.sum(Pxx_den[alpha_idx]))\n",
    "\n",
    "            beta_idx = np.where(np.logical_and(np.round(f) >= 13, np.round(f) <= 30))\n",
    "            tmp_beta.append(np.sum(Pxx_den[beta_idx]))\n",
    "\n",
    "        alpha_power[chanOfInt] = tmp_alpha\n",
    "        beta_power[chanOfInt] = tmp_beta\n",
    "    \n",
    "    return alpha_power, beta_power\n",
    "\n",
    "def LoadModel_MI(subjID, model_type, run_number=0, session_number=1, adaptationType='CS'):\n",
    "    \"\"\"\n",
    "    This function loads the most recent motor imagery classifier\n",
    "    for this subject by default. Current run minus 1.\n",
    "    \n",
    "    You may also select which number model (from original to most recent)\n",
    "    by using a value from 0 (original) to 4 (most recent)\n",
    "    \"\"\"\n",
    "    runOfInt = run_number\n",
    "    run_number = runOfInt - 1\n",
    "    # Load latest model and its associated data\n",
    "    if runOfInt == 1:\n",
    "        models = glob.glob('Models/' + subjID + '/' + model_type + '/Session' + str(session_number) + '/' + subjID + '_MI_classifier_*')\n",
    "        models_data_list = glob.glob('Models/' + subjID + '/' + model_type + '/Session' + str(session_number) + '/' + subjID + '_data_for_MI_classifier_*')\n",
    "    else:\n",
    "        if adaptationType == 'CS' or adaptationType == 'None':\n",
    "            models = glob.glob('Models/' + subjID + '/' + model_type + '/Session' + str(session_number) + '/' + subjID + '_MI_classifier_*')\n",
    "            models_data_list = glob.glob('Models/' + subjID + '/' + model_type + '/Session' + str(session_number) + '/' + subjID + '_data_for_MI_classifier_*')\n",
    "        elif adaptationType == 'TL':\n",
    "            models = glob.glob('Models/' + subjID + '/' + model_type + '/Session' + str(session_number) + '/' + subjID + '_MI_classifier_TL_*')\n",
    "            models_data_list = glob.glob('Models/' + subjID + '/' + model_type + '/Session' + str(session_number) + '/' + subjID + '_data_for_MI_classifier_TL_*')\n",
    "    \n",
    "    # Throw exception if model number is outside range of existing models\n",
    "    if run_number > len(models):\n",
    "        raise ValueError('Please select a valid model number')\n",
    "    if adaptationType == 'TL':\n",
    "        run_number = run_number -1\n",
    "    model_file = models[run_number] # load the most recent model\n",
    "    print('Selecting model: ' + model_file)\n",
    "    clf = pickle.load(open(model_file, 'rb'))\n",
    "\n",
    "    models_data = models_data_list[run_number] # load the most recent model\n",
    "    MI_data = np.load(models_data)\n",
    "    X_loaded = MI_data['X_not_scaled']\n",
    "    y_loaded = MI_data['y']\n",
    "    \n",
    "    return clf, X_loaded, y_loaded\n",
    "\n",
    "def GetBehavioralTL(runOfInt, behavioralData_all, hasBaseline_all):\n",
    "    # When the target is to the left\n",
    "    trialL = np.where(behavioralData_all[runOfInt]['target_x'] < 1000)\n",
    "    movementL = np.where(behavioralData_all[runOfInt]['direction_moved'] == 'left')\n",
    "\n",
    "    # When target was to the right\n",
    "    trialR = np.where(behavioralData_all[runOfInt]['target_x'] > 1000)\n",
    "    movementR = np.where(behavioralData_all[runOfInt]['direction_moved'] == 'right')\n",
    "\n",
    "    # Create a single list that includes which movement is which (L = 0, R = 1)\n",
    "    trial_type = np.zeros([1,len(behavioralData_all[runOfInt]['score'])])\n",
    "    trial_type[0][trialL] = 0\n",
    "    trial_type[0][trialR] = 1\n",
    "    trial_type = np.round(trial_type[0])\n",
    "\n",
    "    direction_moved = np.zeros([1,len(behavioralData_all[runOfInt]['score'])])\n",
    "    direction_moved[0][movementL] = 0\n",
    "    direction_moved[0][movementR] = 1\n",
    "    direction_moved = np.round(direction_moved[0])\n",
    "\n",
    "    # Remove trials if no baseline\n",
    "    for movement in range(0,len(hasBaseline_all[runOfInt])):\n",
    "        if hasBaseline_all[runOfInt][movement] is False:\n",
    "            trial_type = np.delete(trial_type, movement)\n",
    "            direction_moved = np.delete(direction_moved, movement)\n",
    "    \n",
    "    actual = direction_moved\n",
    "    TL = trial_type\n",
    "    return actual, TL"
   ]
  },
  {
   "cell_type": "markdown",
   "metadata": {},
   "source": [
    "## All Subjects\n",
    "Start out by getting the performance data for all the subjects"
   ]
  },
  {
   "cell_type": "code",
   "execution_count": 4,
   "metadata": {},
   "outputs": [
    {
     "data": {
      "text/html": [
       "<div>\n",
       "<style scoped>\n",
       "    .dataframe tbody tr th:only-of-type {\n",
       "        vertical-align: middle;\n",
       "    }\n",
       "\n",
       "    .dataframe tbody tr th {\n",
       "        vertical-align: top;\n",
       "    }\n",
       "\n",
       "    .dataframe thead th {\n",
       "        text-align: right;\n",
       "    }\n",
       "</style>\n",
       "<table border=\"1\" class=\"dataframe\">\n",
       "  <thead>\n",
       "    <tr style=\"text-align: right;\">\n",
       "      <th></th>\n",
       "      <th>Subject ID</th>\n",
       "      <th>Group Number</th>\n",
       "      <th>Moving MI</th>\n",
       "      <th>Session 1</th>\n",
       "      <th>Session 2</th>\n",
       "      <th>Session 3</th>\n",
       "      <th>Handedness</th>\n",
       "      <th>Sex</th>\n",
       "      <th>Age</th>\n",
       "      <th>History of Neurological Disorders</th>\n",
       "      <th>Cap Size</th>\n",
       "      <th>Study Number</th>\n",
       "    </tr>\n",
       "  </thead>\n",
       "  <tbody>\n",
       "    <tr>\n",
       "      <th>0</th>\n",
       "      <td>b12a46</td>\n",
       "      <td>1</td>\n",
       "      <td>No</td>\n",
       "      <td>0</td>\n",
       "      <td>8</td>\n",
       "      <td>15</td>\n",
       "      <td>R</td>\n",
       "      <td>M</td>\n",
       "      <td>21</td>\n",
       "      <td>No</td>\n",
       "      <td>M</td>\n",
       "      <td>1</td>\n",
       "    </tr>\n",
       "    <tr>\n",
       "      <th>1</th>\n",
       "      <td>41d8ff</td>\n",
       "      <td>1</td>\n",
       "      <td>No</td>\n",
       "      <td>0</td>\n",
       "      <td>5</td>\n",
       "      <td>12</td>\n",
       "      <td>R</td>\n",
       "      <td>F</td>\n",
       "      <td>21</td>\n",
       "      <td>No</td>\n",
       "      <td>M</td>\n",
       "      <td>1</td>\n",
       "    </tr>\n",
       "    <tr>\n",
       "      <th>2</th>\n",
       "      <td>1e8b34</td>\n",
       "      <td>1</td>\n",
       "      <td>No</td>\n",
       "      <td>0</td>\n",
       "      <td>3</td>\n",
       "      <td>14</td>\n",
       "      <td>R</td>\n",
       "      <td>M</td>\n",
       "      <td>29</td>\n",
       "      <td>No</td>\n",
       "      <td>L</td>\n",
       "      <td>1</td>\n",
       "    </tr>\n",
       "    <tr>\n",
       "      <th>3</th>\n",
       "      <td>ad11cf</td>\n",
       "      <td>1</td>\n",
       "      <td>No</td>\n",
       "      <td>0</td>\n",
       "      <td>7</td>\n",
       "      <td>12</td>\n",
       "      <td>R</td>\n",
       "      <td>F</td>\n",
       "      <td>20</td>\n",
       "      <td>Yes</td>\n",
       "      <td>M</td>\n",
       "      <td>1</td>\n",
       "    </tr>\n",
       "    <tr>\n",
       "      <th>4</th>\n",
       "      <td>b7ff16</td>\n",
       "      <td>2</td>\n",
       "      <td>No</td>\n",
       "      <td>0</td>\n",
       "      <td>19</td>\n",
       "      <td>21</td>\n",
       "      <td>R</td>\n",
       "      <td>F</td>\n",
       "      <td>20</td>\n",
       "      <td>No</td>\n",
       "      <td>M</td>\n",
       "      <td>1</td>\n",
       "    </tr>\n",
       "  </tbody>\n",
       "</table>\n",
       "</div>"
      ],
      "text/plain": [
       "  Subject ID  Group Number Moving MI  Session 1  Session 2  Session 3  \\\n",
       "0     b12a46             1        No          0          8         15   \n",
       "1     41d8ff             1        No          0          5         12   \n",
       "2     1e8b34             1        No          0          3         14   \n",
       "3     ad11cf             1        No          0          7         12   \n",
       "4     b7ff16             2        No          0         19         21   \n",
       "\n",
       "  Handedness Sex  Age History of Neurological Disorders Cap Size  Study Number  \n",
       "0          R   M   21                                No        M             1  \n",
       "1          R   F   21                                No        M             1  \n",
       "2          R   M   29                                No        L             1  \n",
       "3          R   F   20                               Yes        M             1  \n",
       "4          R   F   20                                No        M             1  "
      ]
     },
     "execution_count": 4,
     "metadata": {},
     "output_type": "execute_result"
    }
   ],
   "source": [
    "demographics_all = pd.read_csv('subject_demographics.csv')\n",
    "\n",
    "# Drop the sleeping subject\n",
    "demographics_all = demographics_all.drop(demographics_all.loc[demographics_all['Subject ID'] == '97e442'].index[0])\n",
    "\n",
    "# Store some data\n",
    "subjID_all = list(demographics_all['Subject ID'])\n",
    "subject_group_all = list(demographics_all['Group Number'])\n",
    "studyNumber_all = np.asarray(demographics_all['Study Number'])\n",
    "handedness_all = list(demographics_all['Handedness'])\n",
    "age_all = np.asarray(demographics_all['Age'])\n",
    "\n",
    "demographics_all.head()"
   ]
  },
  {
   "cell_type": "code",
   "execution_count": 5,
   "metadata": {},
   "outputs": [],
   "source": [
    "useBehavioral_all = list()\n",
    "for i in range(0,len(studyNumber_all)):\n",
    "    if isSVM is False:\n",
    "        if studyNumber_all[i] == 1:\n",
    "            useBehavioral_all.append(False)\n",
    "        else:\n",
    "            useBehavioral_all.append(True)\n",
    "    else:\n",
    "        useBehavioral_all.append(False)\n",
    "\n",
    "useBehavioral = useBehavioral_all"
   ]
  },
  {
   "cell_type": "markdown",
   "metadata": {},
   "source": [
    "Models"
   ]
  },
  {
   "cell_type": "code",
   "execution_count": 6,
   "metadata": {},
   "outputs": [
    {
     "name": "stdout",
     "output_type": "stream",
     "text": [
      "Selecting BCI EEG file: SaveData/b12a46/Session1\\20190206095241_b12a46_BCI.easy\n",
      "Selecting BCI behavioral file: SaveData/b12a46/Session1\\BCI_b12a46_R1.csv\n",
      "Skipping N/A\n"
     ]
    },
    {
     "name": "stderr",
     "output_type": "stream",
     "text": [
      "C:\\Users\\nile\\Anaconda3\\envs\\eeg\\lib\\site-packages\\scipy\\signal\\_arraytools.py:45: FutureWarning: Using a non-tuple sequence for multidimensional indexing is deprecated; use `arr[tuple(seq)]` instead of `arr[seq]`. In the future this will be interpreted as an array index, `arr[np.array(seq)]`, which will result either in an error or a different result.\n",
      "  b = a[a_slice]\n",
      "C:\\Users\\nile\\Anaconda3\\envs\\eeg\\lib\\site-packages\\scipy\\signal\\signaltools.py:3463: FutureWarning: Using a non-tuple sequence for multidimensional indexing is deprecated; use `arr[tuple(seq)]` instead of `arr[seq]`. In the future this will be interpreted as an array index, `arr[np.array(seq)]`, which will result either in an error or a different result.\n",
      "  return y[sl]\n"
     ]
    },
    {
     "name": "stdout",
     "output_type": "stream",
     "text": [
      "Selecting model: Models/b12a46/experimental/Session1\\b12a46_MI_classifier_2019-03-06-15-30-54.sav\n",
      "Selecting model: Models/b12a46/experimental/Session1\\b12a46_MI_classifier_2019-03-06-15-30-54.sav\n",
      "Selecting model: Models/b12a46/experimental/Session1\\b12a46_MI_classifier_2019-03-06-15-30-54.sav\n",
      "Selecting BCI EEG file: SaveData/b12a46/Session1\\20190206095756_b12a46_BCI.easy\n",
      "Selecting BCI behavioral file: SaveData/b12a46/Session1\\BCI_b12a46_R2.csv\n",
      "Skipping N/A\n"
     ]
    },
    {
     "name": "stderr",
     "output_type": "stream",
     "text": [
      "C:\\Users\\nile\\Anaconda3\\envs\\eeg\\lib\\site-packages\\scipy\\signal\\_arraytools.py:45: FutureWarning: Using a non-tuple sequence for multidimensional indexing is deprecated; use `arr[tuple(seq)]` instead of `arr[seq]`. In the future this will be interpreted as an array index, `arr[np.array(seq)]`, which will result either in an error or a different result.\n",
      "  b = a[a_slice]\n",
      "C:\\Users\\nile\\Anaconda3\\envs\\eeg\\lib\\site-packages\\scipy\\signal\\signaltools.py:3463: FutureWarning: Using a non-tuple sequence for multidimensional indexing is deprecated; use `arr[tuple(seq)]` instead of `arr[seq]`. In the future this will be interpreted as an array index, `arr[np.array(seq)]`, which will result either in an error or a different result.\n",
      "  return y[sl]\n"
     ]
    },
    {
     "name": "stdout",
     "output_type": "stream",
     "text": [
      "Selecting model: Models/b12a46/experimental/Session1\\b12a46_MI_classifier_2019-03-06-15-30-54.sav\n",
      "Selecting model: Models/b12a46/experimental/Session1\\b12a46_MI_classifier_2019-03-06-15-30-57.sav\n",
      "Selecting model: Models/b12a46/experimental/Session1\\b12a46_MI_classifier_TL_2019-03-06-15-30-58.sav\n",
      "Selecting BCI EEG file: SaveData/b12a46/Session1\\20190206100259_b12a46_BCI.easy\n",
      "Selecting BCI behavioral file: SaveData/b12a46/Session1\\BCI_b12a46_R3.csv\n",
      "Skipping N/A\n"
     ]
    },
    {
     "name": "stderr",
     "output_type": "stream",
     "text": [
      "C:\\Users\\nile\\Anaconda3\\envs\\eeg\\lib\\site-packages\\scipy\\signal\\_arraytools.py:45: FutureWarning: Using a non-tuple sequence for multidimensional indexing is deprecated; use `arr[tuple(seq)]` instead of `arr[seq]`. In the future this will be interpreted as an array index, `arr[np.array(seq)]`, which will result either in an error or a different result.\n",
      "  b = a[a_slice]\n",
      "C:\\Users\\nile\\Anaconda3\\envs\\eeg\\lib\\site-packages\\scipy\\signal\\signaltools.py:3463: FutureWarning: Using a non-tuple sequence for multidimensional indexing is deprecated; use `arr[tuple(seq)]` instead of `arr[seq]`. In the future this will be interpreted as an array index, `arr[np.array(seq)]`, which will result either in an error or a different result.\n",
      "  return y[sl]\n"
     ]
    },
    {
     "name": "stdout",
     "output_type": "stream",
     "text": [
      "Selecting model: Models/b12a46/experimental/Session1\\b12a46_MI_classifier_2019-03-06-15-30-54.sav\n",
      "Selecting model: Models/b12a46/experimental/Session1\\b12a46_MI_classifier_2019-03-06-15-31-01.sav\n",
      "Selecting model: Models/b12a46/experimental/Session1\\b12a46_MI_classifier_TL_2019-03-06-15-31-02.sav\n",
      "Selecting BCI EEG file: SaveData/b12a46/Session1\\20190206100731_b12a46_BCI.easy\n",
      "Selecting BCI behavioral file: SaveData/b12a46/Session1\\BCI_b12a46_R4.csv\n",
      "Skipping N/A\n"
     ]
    },
    {
     "name": "stderr",
     "output_type": "stream",
     "text": [
      "C:\\Users\\nile\\Anaconda3\\envs\\eeg\\lib\\site-packages\\scipy\\signal\\_arraytools.py:45: FutureWarning: Using a non-tuple sequence for multidimensional indexing is deprecated; use `arr[tuple(seq)]` instead of `arr[seq]`. In the future this will be interpreted as an array index, `arr[np.array(seq)]`, which will result either in an error or a different result.\n",
      "  b = a[a_slice]\n",
      "C:\\Users\\nile\\Anaconda3\\envs\\eeg\\lib\\site-packages\\scipy\\signal\\signaltools.py:3463: FutureWarning: Using a non-tuple sequence for multidimensional indexing is deprecated; use `arr[tuple(seq)]` instead of `arr[seq]`. In the future this will be interpreted as an array index, `arr[np.array(seq)]`, which will result either in an error or a different result.\n",
      "  return y[sl]\n"
     ]
    },
    {
     "name": "stdout",
     "output_type": "stream",
     "text": [
      "Selecting model: Models/b12a46/experimental/Session1\\b12a46_MI_classifier_2019-03-06-15-30-54.sav\n",
      "Selecting model: Models/b12a46/experimental/Session1\\b12a46_MI_classifier_2019-03-06-15-31-05.sav\n",
      "Selecting model: Models/b12a46/experimental/Session1\\b12a46_MI_classifier_TL_2019-03-06-15-31-06.sav\n",
      "Selecting BCI EEG file: SaveData/b12a46/Session1\\20190206101239_b12a46_BCI.easy\n",
      "Selecting BCI behavioral file: SaveData/b12a46/Session1\\BCI_b12a46_R5.csv\n",
      "Skipping N/A\n"
     ]
    },
    {
     "name": "stderr",
     "output_type": "stream",
     "text": [
      "C:\\Users\\nile\\Anaconda3\\envs\\eeg\\lib\\site-packages\\scipy\\signal\\_arraytools.py:45: FutureWarning: Using a non-tuple sequence for multidimensional indexing is deprecated; use `arr[tuple(seq)]` instead of `arr[seq]`. In the future this will be interpreted as an array index, `arr[np.array(seq)]`, which will result either in an error or a different result.\n",
      "  b = a[a_slice]\n",
      "C:\\Users\\nile\\Anaconda3\\envs\\eeg\\lib\\site-packages\\scipy\\signal\\signaltools.py:3463: FutureWarning: Using a non-tuple sequence for multidimensional indexing is deprecated; use `arr[tuple(seq)]` instead of `arr[seq]`. In the future this will be interpreted as an array index, `arr[np.array(seq)]`, which will result either in an error or a different result.\n",
      "  return y[sl]\n"
     ]
    },
    {
     "name": "stdout",
     "output_type": "stream",
     "text": [
      "Selecting model: Models/b12a46/experimental/Session1\\b12a46_MI_classifier_2019-03-06-15-30-54.sav\n",
      "Selecting model: Models/b12a46/experimental/Session1\\b12a46_MI_classifier_2019-03-06-15-31-08.sav\n",
      "Selecting model: Models/b12a46/experimental/Session1\\b12a46_MI_classifier_TL_2019-03-06-15-31-10.sav\n",
      "Selecting BCI EEG file: SaveData/b12a46/Session2\\20190214161532_b12a46_BCI.easy\n",
      "Selecting BCI behavioral file: SaveData/b12a46/Session2\\BCI_b12a46_R1.csv\n",
      "Skipping N/A\n"
     ]
    },
    {
     "name": "stderr",
     "output_type": "stream",
     "text": [
      "C:\\Users\\nile\\Anaconda3\\envs\\eeg\\lib\\site-packages\\scipy\\signal\\_arraytools.py:45: FutureWarning: Using a non-tuple sequence for multidimensional indexing is deprecated; use `arr[tuple(seq)]` instead of `arr[seq]`. In the future this will be interpreted as an array index, `arr[np.array(seq)]`, which will result either in an error or a different result.\n",
      "  b = a[a_slice]\n",
      "C:\\Users\\nile\\Anaconda3\\envs\\eeg\\lib\\site-packages\\scipy\\signal\\signaltools.py:3463: FutureWarning: Using a non-tuple sequence for multidimensional indexing is deprecated; use `arr[tuple(seq)]` instead of `arr[seq]`. In the future this will be interpreted as an array index, `arr[np.array(seq)]`, which will result either in an error or a different result.\n",
      "  return y[sl]\n"
     ]
    },
    {
     "name": "stdout",
     "output_type": "stream",
     "text": [
      "Selecting model: Models/b12a46/experimental/Session2\\b12a46_MI_classifier_2019-03-06-15-36-13.sav\n",
      "Selecting model: Models/b12a46/experimental/Session2\\b12a46_MI_classifier_2019-03-06-15-36-13.sav\n",
      "Selecting model: Models/b12a46/experimental/Session2\\b12a46_MI_classifier_2019-03-06-15-36-13.sav\n",
      "Selecting BCI EEG file: SaveData/b12a46/Session2\\20190214162030_b12a46_BCI.easy\n",
      "Selecting BCI behavioral file: SaveData/b12a46/Session2\\BCI_b12a46_R2.csv\n",
      "Skipping N/A\n"
     ]
    },
    {
     "name": "stderr",
     "output_type": "stream",
     "text": [
      "C:\\Users\\nile\\Anaconda3\\envs\\eeg\\lib\\site-packages\\scipy\\signal\\_arraytools.py:45: FutureWarning: Using a non-tuple sequence for multidimensional indexing is deprecated; use `arr[tuple(seq)]` instead of `arr[seq]`. In the future this will be interpreted as an array index, `arr[np.array(seq)]`, which will result either in an error or a different result.\n",
      "  b = a[a_slice]\n",
      "C:\\Users\\nile\\Anaconda3\\envs\\eeg\\lib\\site-packages\\scipy\\signal\\signaltools.py:3463: FutureWarning: Using a non-tuple sequence for multidimensional indexing is deprecated; use `arr[tuple(seq)]` instead of `arr[seq]`. In the future this will be interpreted as an array index, `arr[np.array(seq)]`, which will result either in an error or a different result.\n",
      "  return y[sl]\n"
     ]
    },
    {
     "name": "stdout",
     "output_type": "stream",
     "text": [
      "Selecting model: Models/b12a46/experimental/Session2\\b12a46_MI_classifier_2019-03-06-15-36-13.sav\n",
      "Selecting model: Models/b12a46/experimental/Session2\\b12a46_MI_classifier_2019-03-06-15-36-17.sav\n",
      "Selecting model: Models/b12a46/experimental/Session2\\b12a46_MI_classifier_TL_2019-03-06-15-36-17.sav\n",
      "Selecting BCI EEG file: SaveData/b12a46/Session2\\20190214162551_b12a46_BCI.easy\n",
      "Selecting BCI behavioral file: SaveData/b12a46/Session2\\BCI_b12a46_R3.csv\n",
      "Skipping N/A\n"
     ]
    },
    {
     "name": "stderr",
     "output_type": "stream",
     "text": [
      "C:\\Users\\nile\\Anaconda3\\envs\\eeg\\lib\\site-packages\\scipy\\signal\\_arraytools.py:45: FutureWarning: Using a non-tuple sequence for multidimensional indexing is deprecated; use `arr[tuple(seq)]` instead of `arr[seq]`. In the future this will be interpreted as an array index, `arr[np.array(seq)]`, which will result either in an error or a different result.\n",
      "  b = a[a_slice]\n",
      "C:\\Users\\nile\\Anaconda3\\envs\\eeg\\lib\\site-packages\\scipy\\signal\\signaltools.py:3463: FutureWarning: Using a non-tuple sequence for multidimensional indexing is deprecated; use `arr[tuple(seq)]` instead of `arr[seq]`. In the future this will be interpreted as an array index, `arr[np.array(seq)]`, which will result either in an error or a different result.\n",
      "  return y[sl]\n"
     ]
    },
    {
     "name": "stdout",
     "output_type": "stream",
     "text": [
      "Selecting model: Models/b12a46/experimental/Session2\\b12a46_MI_classifier_2019-03-06-15-36-13.sav\n",
      "Selecting model: Models/b12a46/experimental/Session2\\b12a46_MI_classifier_2019-03-06-15-36-20.sav\n",
      "Selecting model: Models/b12a46/experimental/Session2\\b12a46_MI_classifier_TL_2019-03-06-15-36-21.sav\n",
      "Selecting BCI EEG file: SaveData/b12a46/Session2\\20190214163053_b12a46_BCI.easy\n",
      "Selecting BCI behavioral file: SaveData/b12a46/Session2\\BCI_b12a46_R4.csv\n",
      "Skipping N/A\n"
     ]
    },
    {
     "name": "stderr",
     "output_type": "stream",
     "text": [
      "C:\\Users\\nile\\Anaconda3\\envs\\eeg\\lib\\site-packages\\scipy\\signal\\_arraytools.py:45: FutureWarning: Using a non-tuple sequence for multidimensional indexing is deprecated; use `arr[tuple(seq)]` instead of `arr[seq]`. In the future this will be interpreted as an array index, `arr[np.array(seq)]`, which will result either in an error or a different result.\n",
      "  b = a[a_slice]\n",
      "C:\\Users\\nile\\Anaconda3\\envs\\eeg\\lib\\site-packages\\scipy\\signal\\signaltools.py:3463: FutureWarning: Using a non-tuple sequence for multidimensional indexing is deprecated; use `arr[tuple(seq)]` instead of `arr[seq]`. In the future this will be interpreted as an array index, `arr[np.array(seq)]`, which will result either in an error or a different result.\n",
      "  return y[sl]\n"
     ]
    },
    {
     "name": "stdout",
     "output_type": "stream",
     "text": [
      "Selecting model: Models/b12a46/experimental/Session2\\b12a46_MI_classifier_2019-03-06-15-36-13.sav\n",
      "Selecting model: Models/b12a46/experimental/Session2\\b12a46_MI_classifier_2019-03-06-15-36-24.sav\n",
      "Selecting model: Models/b12a46/experimental/Session2\\b12a46_MI_classifier_TL_2019-03-06-15-36-26.sav\n",
      "Selecting BCI EEG file: SaveData/b12a46/Session2\\20190214163546_b12a46_BCI.easy\n",
      "Selecting BCI behavioral file: SaveData/b12a46/Session2\\BCI_b12a46_R5.csv\n",
      "Skipping N/A\n"
     ]
    },
    {
     "name": "stderr",
     "output_type": "stream",
     "text": [
      "C:\\Users\\nile\\Anaconda3\\envs\\eeg\\lib\\site-packages\\scipy\\signal\\_arraytools.py:45: FutureWarning: Using a non-tuple sequence for multidimensional indexing is deprecated; use `arr[tuple(seq)]` instead of `arr[seq]`. In the future this will be interpreted as an array index, `arr[np.array(seq)]`, which will result either in an error or a different result.\n",
      "  b = a[a_slice]\n",
      "C:\\Users\\nile\\Anaconda3\\envs\\eeg\\lib\\site-packages\\scipy\\signal\\signaltools.py:3463: FutureWarning: Using a non-tuple sequence for multidimensional indexing is deprecated; use `arr[tuple(seq)]` instead of `arr[seq]`. In the future this will be interpreted as an array index, `arr[np.array(seq)]`, which will result either in an error or a different result.\n",
      "  return y[sl]\n"
     ]
    },
    {
     "name": "stdout",
     "output_type": "stream",
     "text": [
      "Selecting model: Models/b12a46/experimental/Session2\\b12a46_MI_classifier_2019-03-06-15-36-13.sav\n",
      "Selecting model: Models/b12a46/experimental/Session2\\b12a46_MI_classifier_2019-03-06-15-36-29.sav\n",
      "Selecting model: Models/b12a46/experimental/Session2\\b12a46_MI_classifier_TL_2019-03-06-15-36-30.sav\n",
      "Selecting BCI EEG file: SaveData/b12a46/Session3\\20190221131719_b12a46_BCI.easy\n",
      "Selecting BCI behavioral file: SaveData/b12a46/Session3\\BCI_b12a46_R1.csv\n",
      "Skipping N/A\n"
     ]
    },
    {
     "name": "stderr",
     "output_type": "stream",
     "text": [
      "C:\\Users\\nile\\Anaconda3\\envs\\eeg\\lib\\site-packages\\scipy\\signal\\_arraytools.py:45: FutureWarning: Using a non-tuple sequence for multidimensional indexing is deprecated; use `arr[tuple(seq)]` instead of `arr[seq]`. In the future this will be interpreted as an array index, `arr[np.array(seq)]`, which will result either in an error or a different result.\n",
      "  b = a[a_slice]\n",
      "C:\\Users\\nile\\Anaconda3\\envs\\eeg\\lib\\site-packages\\scipy\\signal\\signaltools.py:3463: FutureWarning: Using a non-tuple sequence for multidimensional indexing is deprecated; use `arr[tuple(seq)]` instead of `arr[seq]`. In the future this will be interpreted as an array index, `arr[np.array(seq)]`, which will result either in an error or a different result.\n",
      "  return y[sl]\n"
     ]
    },
    {
     "name": "stdout",
     "output_type": "stream",
     "text": [
      "Selecting model: Models/b12a46/experimental/Session3\\b12a46_MI_classifier_2019-03-06-15-38-39.sav\n",
      "Selecting model: Models/b12a46/experimental/Session3\\b12a46_MI_classifier_2019-03-06-15-38-39.sav\n",
      "Selecting model: Models/b12a46/experimental/Session3\\b12a46_MI_classifier_2019-03-06-15-38-39.sav\n",
      "Selecting BCI EEG file: SaveData/b12a46/Session3\\20190221132158_b12a46_BCI.easy\n",
      "Selecting BCI behavioral file: SaveData/b12a46/Session3\\BCI_b12a46_R2.csv\n",
      "Skipping N/A\n"
     ]
    },
    {
     "name": "stderr",
     "output_type": "stream",
     "text": [
      "C:\\Users\\nile\\Anaconda3\\envs\\eeg\\lib\\site-packages\\scipy\\signal\\_arraytools.py:45: FutureWarning: Using a non-tuple sequence for multidimensional indexing is deprecated; use `arr[tuple(seq)]` instead of `arr[seq]`. In the future this will be interpreted as an array index, `arr[np.array(seq)]`, which will result either in an error or a different result.\n",
      "  b = a[a_slice]\n",
      "C:\\Users\\nile\\Anaconda3\\envs\\eeg\\lib\\site-packages\\scipy\\signal\\signaltools.py:3463: FutureWarning: Using a non-tuple sequence for multidimensional indexing is deprecated; use `arr[tuple(seq)]` instead of `arr[seq]`. In the future this will be interpreted as an array index, `arr[np.array(seq)]`, which will result either in an error or a different result.\n",
      "  return y[sl]\n"
     ]
    },
    {
     "name": "stdout",
     "output_type": "stream",
     "text": [
      "Selecting model: Models/b12a46/experimental/Session3\\b12a46_MI_classifier_2019-03-06-15-38-39.sav\n",
      "Selecting model: Models/b12a46/experimental/Session3\\b12a46_MI_classifier_2019-03-06-15-38-43.sav\n",
      "Selecting model: Models/b12a46/experimental/Session3\\b12a46_MI_classifier_TL_2019-03-06-15-38-43.sav\n",
      "Selecting BCI EEG file: SaveData/b12a46/Session3\\20190221132631_b12a46_BCI.easy\n",
      "Selecting BCI behavioral file: SaveData/b12a46/Session3\\BCI_b12a46_R3.csv\n",
      "Skipping N/A\n"
     ]
    },
    {
     "name": "stderr",
     "output_type": "stream",
     "text": [
      "C:\\Users\\nile\\Anaconda3\\envs\\eeg\\lib\\site-packages\\scipy\\signal\\_arraytools.py:45: FutureWarning: Using a non-tuple sequence for multidimensional indexing is deprecated; use `arr[tuple(seq)]` instead of `arr[seq]`. In the future this will be interpreted as an array index, `arr[np.array(seq)]`, which will result either in an error or a different result.\n",
      "  b = a[a_slice]\n",
      "C:\\Users\\nile\\Anaconda3\\envs\\eeg\\lib\\site-packages\\scipy\\signal\\signaltools.py:3463: FutureWarning: Using a non-tuple sequence for multidimensional indexing is deprecated; use `arr[tuple(seq)]` instead of `arr[seq]`. In the future this will be interpreted as an array index, `arr[np.array(seq)]`, which will result either in an error or a different result.\n",
      "  return y[sl]\n"
     ]
    },
    {
     "name": "stdout",
     "output_type": "stream",
     "text": [
      "Selecting model: Models/b12a46/experimental/Session3\\b12a46_MI_classifier_2019-03-06-15-38-39.sav\n",
      "Selecting model: Models/b12a46/experimental/Session3\\b12a46_MI_classifier_2019-03-06-15-38-45.sav\n",
      "Selecting model: Models/b12a46/experimental/Session3\\b12a46_MI_classifier_TL_2019-03-06-15-38-47.sav\n",
      "Selecting BCI EEG file: SaveData/b12a46/Session3\\20190221133107_b12a46_BCI.easy\n",
      "Selecting BCI behavioral file: SaveData/b12a46/Session3\\BCI_b12a46_R4.csv\n",
      "Skipping N/A\n"
     ]
    },
    {
     "name": "stderr",
     "output_type": "stream",
     "text": [
      "C:\\Users\\nile\\Anaconda3\\envs\\eeg\\lib\\site-packages\\scipy\\signal\\_arraytools.py:45: FutureWarning: Using a non-tuple sequence for multidimensional indexing is deprecated; use `arr[tuple(seq)]` instead of `arr[seq]`. In the future this will be interpreted as an array index, `arr[np.array(seq)]`, which will result either in an error or a different result.\n",
      "  b = a[a_slice]\n",
      "C:\\Users\\nile\\Anaconda3\\envs\\eeg\\lib\\site-packages\\scipy\\signal\\signaltools.py:3463: FutureWarning: Using a non-tuple sequence for multidimensional indexing is deprecated; use `arr[tuple(seq)]` instead of `arr[seq]`. In the future this will be interpreted as an array index, `arr[np.array(seq)]`, which will result either in an error or a different result.\n",
      "  return y[sl]\n"
     ]
    },
    {
     "name": "stdout",
     "output_type": "stream",
     "text": [
      "Selecting model: Models/b12a46/experimental/Session3\\b12a46_MI_classifier_2019-03-06-15-38-39.sav\n",
      "Selecting model: Models/b12a46/experimental/Session3\\b12a46_MI_classifier_2019-03-06-15-38-49.sav\n",
      "Selecting model: Models/b12a46/experimental/Session3\\b12a46_MI_classifier_TL_2019-03-06-15-38-51.sav\n",
      "Selecting BCI EEG file: SaveData/b12a46/Session3\\20190221133532_b12a46_BCI.easy\n",
      "Selecting BCI behavioral file: SaveData/b12a46/Session3\\BCI_b12a46_R5.csv\n",
      "Skipping N/A\n"
     ]
    },
    {
     "name": "stderr",
     "output_type": "stream",
     "text": [
      "C:\\Users\\nile\\Anaconda3\\envs\\eeg\\lib\\site-packages\\scipy\\signal\\_arraytools.py:45: FutureWarning: Using a non-tuple sequence for multidimensional indexing is deprecated; use `arr[tuple(seq)]` instead of `arr[seq]`. In the future this will be interpreted as an array index, `arr[np.array(seq)]`, which will result either in an error or a different result.\n",
      "  b = a[a_slice]\n",
      "C:\\Users\\nile\\Anaconda3\\envs\\eeg\\lib\\site-packages\\scipy\\signal\\signaltools.py:3463: FutureWarning: Using a non-tuple sequence for multidimensional indexing is deprecated; use `arr[tuple(seq)]` instead of `arr[seq]`. In the future this will be interpreted as an array index, `arr[np.array(seq)]`, which will result either in an error or a different result.\n",
      "  return y[sl]\n"
     ]
    },
    {
     "name": "stdout",
     "output_type": "stream",
     "text": [
      "Selecting model: Models/b12a46/experimental/Session3\\b12a46_MI_classifier_2019-03-06-15-38-39.sav\n",
      "Selecting model: Models/b12a46/experimental/Session3\\b12a46_MI_classifier_2019-03-06-15-38-53.sav\n",
      "Selecting model: Models/b12a46/experimental/Session3\\b12a46_MI_classifier_TL_2019-03-06-15-38-54.sav\n",
      "----------------------------------------------------\n",
      "Done storing values for b12a46\n",
      "----------------------------------------------------\n",
      "Selecting BCI EEG file: SaveData/41d8ff/Session1\\20190208110521_41d8ff_BCI.easy\n",
      "Selecting BCI behavioral file: SaveData/41d8ff/Session1\\BCI_41d8ff_R1.csv\n",
      "Skipping N/A\n"
     ]
    },
    {
     "name": "stderr",
     "output_type": "stream",
     "text": [
      "C:\\Users\\nile\\Anaconda3\\envs\\eeg\\lib\\site-packages\\scipy\\signal\\_arraytools.py:45: FutureWarning: Using a non-tuple sequence for multidimensional indexing is deprecated; use `arr[tuple(seq)]` instead of `arr[seq]`. In the future this will be interpreted as an array index, `arr[np.array(seq)]`, which will result either in an error or a different result.\n",
      "  b = a[a_slice]\n",
      "C:\\Users\\nile\\Anaconda3\\envs\\eeg\\lib\\site-packages\\scipy\\signal\\signaltools.py:3463: FutureWarning: Using a non-tuple sequence for multidimensional indexing is deprecated; use `arr[tuple(seq)]` instead of `arr[seq]`. In the future this will be interpreted as an array index, `arr[np.array(seq)]`, which will result either in an error or a different result.\n",
      "  return y[sl]\n"
     ]
    },
    {
     "name": "stdout",
     "output_type": "stream",
     "text": [
      "Selecting model: Models/41d8ff/experimental/Session1\\41d8ff_MI_classifier_2019-03-06-15-47-30.sav\n",
      "Selecting model: Models/41d8ff/experimental/Session1\\41d8ff_MI_classifier_2019-03-06-15-47-30.sav\n",
      "Selecting model: Models/41d8ff/experimental/Session1\\41d8ff_MI_classifier_2019-03-06-15-47-30.sav\n",
      "Selecting BCI EEG file: SaveData/41d8ff/Session1\\20190208111006_41d8ff_BCI.easy\n",
      "Selecting BCI behavioral file: SaveData/41d8ff/Session1\\BCI_41d8ff_R2.csv\n",
      "Skipping N/A\n"
     ]
    },
    {
     "name": "stderr",
     "output_type": "stream",
     "text": [
      "C:\\Users\\nile\\Anaconda3\\envs\\eeg\\lib\\site-packages\\scipy\\signal\\_arraytools.py:45: FutureWarning: Using a non-tuple sequence for multidimensional indexing is deprecated; use `arr[tuple(seq)]` instead of `arr[seq]`. In the future this will be interpreted as an array index, `arr[np.array(seq)]`, which will result either in an error or a different result.\n",
      "  b = a[a_slice]\n",
      "C:\\Users\\nile\\Anaconda3\\envs\\eeg\\lib\\site-packages\\scipy\\signal\\signaltools.py:3463: FutureWarning: Using a non-tuple sequence for multidimensional indexing is deprecated; use `arr[tuple(seq)]` instead of `arr[seq]`. In the future this will be interpreted as an array index, `arr[np.array(seq)]`, which will result either in an error or a different result.\n",
      "  return y[sl]\n"
     ]
    },
    {
     "name": "stdout",
     "output_type": "stream",
     "text": [
      "Selecting model: Models/41d8ff/experimental/Session1\\41d8ff_MI_classifier_2019-03-06-15-47-30.sav\n",
      "Selecting model: Models/41d8ff/experimental/Session1\\41d8ff_MI_classifier_2019-03-06-15-47-34.sav\n",
      "Selecting model: Models/41d8ff/experimental/Session1\\41d8ff_MI_classifier_TL_2019-03-06-15-47-34.sav\n",
      "Selecting BCI EEG file: SaveData/41d8ff/Session1\\20190208111516_41d8ff_BCI.easy\n",
      "Selecting BCI behavioral file: SaveData/41d8ff/Session1\\BCI_41d8ff_R3.csv\n",
      "Skipping N/A\n"
     ]
    },
    {
     "name": "stderr",
     "output_type": "stream",
     "text": [
      "C:\\Users\\nile\\Anaconda3\\envs\\eeg\\lib\\site-packages\\scipy\\signal\\_arraytools.py:45: FutureWarning: Using a non-tuple sequence for multidimensional indexing is deprecated; use `arr[tuple(seq)]` instead of `arr[seq]`. In the future this will be interpreted as an array index, `arr[np.array(seq)]`, which will result either in an error or a different result.\n",
      "  b = a[a_slice]\n",
      "C:\\Users\\nile\\Anaconda3\\envs\\eeg\\lib\\site-packages\\scipy\\signal\\signaltools.py:3463: FutureWarning: Using a non-tuple sequence for multidimensional indexing is deprecated; use `arr[tuple(seq)]` instead of `arr[seq]`. In the future this will be interpreted as an array index, `arr[np.array(seq)]`, which will result either in an error or a different result.\n",
      "  return y[sl]\n"
     ]
    },
    {
     "name": "stdout",
     "output_type": "stream",
     "text": [
      "Selecting model: Models/41d8ff/experimental/Session1\\41d8ff_MI_classifier_2019-03-06-15-47-30.sav\n",
      "Selecting model: Models/41d8ff/experimental/Session1\\41d8ff_MI_classifier_2019-03-06-15-47-37.sav\n",
      "Selecting model: Models/41d8ff/experimental/Session1\\41d8ff_MI_classifier_TL_2019-03-06-15-47-38.sav\n",
      "Selecting BCI EEG file: SaveData/41d8ff/Session1\\20190208112000_41d8ff_BCI.easy\n",
      "Selecting BCI behavioral file: SaveData/41d8ff/Session1\\BCI_41d8ff_R4.csv\n",
      "Skipping N/A\n"
     ]
    },
    {
     "name": "stderr",
     "output_type": "stream",
     "text": [
      "C:\\Users\\nile\\Anaconda3\\envs\\eeg\\lib\\site-packages\\scipy\\signal\\_arraytools.py:45: FutureWarning: Using a non-tuple sequence for multidimensional indexing is deprecated; use `arr[tuple(seq)]` instead of `arr[seq]`. In the future this will be interpreted as an array index, `arr[np.array(seq)]`, which will result either in an error or a different result.\n",
      "  b = a[a_slice]\n",
      "C:\\Users\\nile\\Anaconda3\\envs\\eeg\\lib\\site-packages\\scipy\\signal\\signaltools.py:3463: FutureWarning: Using a non-tuple sequence for multidimensional indexing is deprecated; use `arr[tuple(seq)]` instead of `arr[seq]`. In the future this will be interpreted as an array index, `arr[np.array(seq)]`, which will result either in an error or a different result.\n",
      "  return y[sl]\n"
     ]
    },
    {
     "name": "stdout",
     "output_type": "stream",
     "text": [
      "Selecting model: Models/41d8ff/experimental/Session1\\41d8ff_MI_classifier_2019-03-06-15-47-30.sav\n",
      "Selecting model: Models/41d8ff/experimental/Session1\\41d8ff_MI_classifier_2019-03-06-15-47-41.sav\n",
      "Selecting model: Models/41d8ff/experimental/Session1\\41d8ff_MI_classifier_TL_2019-03-06-15-47-42.sav\n",
      "Selecting BCI EEG file: SaveData/41d8ff/Session1\\20190208112500_41d8ff_BCI.easy\n",
      "Selecting BCI behavioral file: SaveData/41d8ff/Session1\\BCI_41d8ff_R5.csv\n",
      "Skipping N/A\n"
     ]
    },
    {
     "name": "stderr",
     "output_type": "stream",
     "text": [
      "C:\\Users\\nile\\Anaconda3\\envs\\eeg\\lib\\site-packages\\scipy\\signal\\_arraytools.py:45: FutureWarning: Using a non-tuple sequence for multidimensional indexing is deprecated; use `arr[tuple(seq)]` instead of `arr[seq]`. In the future this will be interpreted as an array index, `arr[np.array(seq)]`, which will result either in an error or a different result.\n",
      "  b = a[a_slice]\n",
      "C:\\Users\\nile\\Anaconda3\\envs\\eeg\\lib\\site-packages\\scipy\\signal\\signaltools.py:3463: FutureWarning: Using a non-tuple sequence for multidimensional indexing is deprecated; use `arr[tuple(seq)]` instead of `arr[seq]`. In the future this will be interpreted as an array index, `arr[np.array(seq)]`, which will result either in an error or a different result.\n",
      "  return y[sl]\n"
     ]
    },
    {
     "name": "stdout",
     "output_type": "stream",
     "text": [
      "Selecting model: Models/41d8ff/experimental/Session1\\41d8ff_MI_classifier_2019-03-06-15-47-30.sav\n",
      "Selecting model: Models/41d8ff/experimental/Session1\\41d8ff_MI_classifier_2019-03-06-15-47-45.sav\n",
      "Selecting model: Models/41d8ff/experimental/Session1\\41d8ff_MI_classifier_TL_2019-03-06-15-47-46.sav\n",
      "Selecting BCI EEG file: SaveData/41d8ff/Session2\\20190213162736_41d8ff_BCI.easy\n",
      "Selecting BCI behavioral file: SaveData/41d8ff/Session2\\BCI_41d8ff_R1.csv\n",
      "Skipping N/A\n"
     ]
    },
    {
     "name": "stderr",
     "output_type": "stream",
     "text": [
      "C:\\Users\\nile\\Anaconda3\\envs\\eeg\\lib\\site-packages\\scipy\\signal\\_arraytools.py:45: FutureWarning: Using a non-tuple sequence for multidimensional indexing is deprecated; use `arr[tuple(seq)]` instead of `arr[seq]`. In the future this will be interpreted as an array index, `arr[np.array(seq)]`, which will result either in an error or a different result.\n",
      "  b = a[a_slice]\n",
      "C:\\Users\\nile\\Anaconda3\\envs\\eeg\\lib\\site-packages\\scipy\\signal\\signaltools.py:3463: FutureWarning: Using a non-tuple sequence for multidimensional indexing is deprecated; use `arr[tuple(seq)]` instead of `arr[seq]`. In the future this will be interpreted as an array index, `arr[np.array(seq)]`, which will result either in an error or a different result.\n",
      "  return y[sl]\n"
     ]
    },
    {
     "name": "stdout",
     "output_type": "stream",
     "text": [
      "Selecting model: Models/41d8ff/experimental/Session2\\41d8ff_MI_classifier_2019-03-06-15-49-22.sav\n",
      "Selecting model: Models/41d8ff/experimental/Session2\\41d8ff_MI_classifier_2019-03-06-15-49-22.sav\n",
      "Selecting model: Models/41d8ff/experimental/Session2\\41d8ff_MI_classifier_2019-03-06-15-49-22.sav\n",
      "Selecting BCI EEG file: SaveData/41d8ff/Session2\\20190213163354_41d8ff_BCI.easy\n",
      "Selecting BCI behavioral file: SaveData/41d8ff/Session2\\BCI_41d8ff_R2.csv\n",
      "Skipping N/A\n"
     ]
    },
    {
     "name": "stderr",
     "output_type": "stream",
     "text": [
      "C:\\Users\\nile\\Anaconda3\\envs\\eeg\\lib\\site-packages\\scipy\\signal\\_arraytools.py:45: FutureWarning: Using a non-tuple sequence for multidimensional indexing is deprecated; use `arr[tuple(seq)]` instead of `arr[seq]`. In the future this will be interpreted as an array index, `arr[np.array(seq)]`, which will result either in an error or a different result.\n",
      "  b = a[a_slice]\n",
      "C:\\Users\\nile\\Anaconda3\\envs\\eeg\\lib\\site-packages\\scipy\\signal\\signaltools.py:3463: FutureWarning: Using a non-tuple sequence for multidimensional indexing is deprecated; use `arr[tuple(seq)]` instead of `arr[seq]`. In the future this will be interpreted as an array index, `arr[np.array(seq)]`, which will result either in an error or a different result.\n",
      "  return y[sl]\n"
     ]
    },
    {
     "name": "stdout",
     "output_type": "stream",
     "text": [
      "Selecting model: Models/41d8ff/experimental/Session2\\41d8ff_MI_classifier_2019-03-06-15-49-22.sav\n",
      "Selecting model: Models/41d8ff/experimental/Session2\\41d8ff_MI_classifier_2019-03-06-15-49-26.sav\n",
      "Selecting model: Models/41d8ff/experimental/Session2\\41d8ff_MI_classifier_TL_2019-03-06-15-49-26.sav\n",
      "Selecting BCI EEG file: SaveData/41d8ff/Session2\\20190213163925_41d8ff_BCI.easy\n",
      "Selecting BCI behavioral file: SaveData/41d8ff/Session2\\BCI_41d8ff_R3.csv\n",
      "Skipping N/A\n"
     ]
    },
    {
     "name": "stderr",
     "output_type": "stream",
     "text": [
      "C:\\Users\\nile\\Anaconda3\\envs\\eeg\\lib\\site-packages\\scipy\\signal\\_arraytools.py:45: FutureWarning: Using a non-tuple sequence for multidimensional indexing is deprecated; use `arr[tuple(seq)]` instead of `arr[seq]`. In the future this will be interpreted as an array index, `arr[np.array(seq)]`, which will result either in an error or a different result.\n",
      "  b = a[a_slice]\n",
      "C:\\Users\\nile\\Anaconda3\\envs\\eeg\\lib\\site-packages\\scipy\\signal\\signaltools.py:3463: FutureWarning: Using a non-tuple sequence for multidimensional indexing is deprecated; use `arr[tuple(seq)]` instead of `arr[seq]`. In the future this will be interpreted as an array index, `arr[np.array(seq)]`, which will result either in an error or a different result.\n",
      "  return y[sl]\n"
     ]
    },
    {
     "name": "stdout",
     "output_type": "stream",
     "text": [
      "Selecting model: Models/41d8ff/experimental/Session2\\41d8ff_MI_classifier_2019-03-06-15-49-22.sav\n",
      "Selecting model: Models/41d8ff/experimental/Session2\\41d8ff_MI_classifier_2019-03-06-15-49-29.sav\n",
      "Selecting model: Models/41d8ff/experimental/Session2\\41d8ff_MI_classifier_TL_2019-03-06-15-49-30.sav\n",
      "Selecting BCI EEG file: SaveData/41d8ff/Session2\\20190213164437_41d8ff_BCI.easy\n",
      "Selecting BCI behavioral file: SaveData/41d8ff/Session2\\BCI_41d8ff_R4.csv\n",
      "Skipping N/A\n"
     ]
    },
    {
     "name": "stderr",
     "output_type": "stream",
     "text": [
      "C:\\Users\\nile\\Anaconda3\\envs\\eeg\\lib\\site-packages\\scipy\\signal\\_arraytools.py:45: FutureWarning: Using a non-tuple sequence for multidimensional indexing is deprecated; use `arr[tuple(seq)]` instead of `arr[seq]`. In the future this will be interpreted as an array index, `arr[np.array(seq)]`, which will result either in an error or a different result.\n",
      "  b = a[a_slice]\n",
      "C:\\Users\\nile\\Anaconda3\\envs\\eeg\\lib\\site-packages\\scipy\\signal\\signaltools.py:3463: FutureWarning: Using a non-tuple sequence for multidimensional indexing is deprecated; use `arr[tuple(seq)]` instead of `arr[seq]`. In the future this will be interpreted as an array index, `arr[np.array(seq)]`, which will result either in an error or a different result.\n",
      "  return y[sl]\n"
     ]
    },
    {
     "name": "stdout",
     "output_type": "stream",
     "text": [
      "Selecting model: Models/41d8ff/experimental/Session2\\41d8ff_MI_classifier_2019-03-06-15-49-22.sav\n",
      "Selecting model: Models/41d8ff/experimental/Session2\\41d8ff_MI_classifier_2019-03-06-15-49-33.sav\n",
      "Selecting model: Models/41d8ff/experimental/Session2\\41d8ff_MI_classifier_TL_2019-03-06-15-49-34.sav\n",
      "Selecting BCI EEG file: SaveData/41d8ff/Session2\\20190213164952_41d8ff_BCI.easy\n",
      "Selecting BCI behavioral file: SaveData/41d8ff/Session2\\BCI_41d8ff_R5.csv\n",
      "Skipping N/A\n"
     ]
    },
    {
     "name": "stderr",
     "output_type": "stream",
     "text": [
      "C:\\Users\\nile\\Anaconda3\\envs\\eeg\\lib\\site-packages\\scipy\\signal\\_arraytools.py:45: FutureWarning: Using a non-tuple sequence for multidimensional indexing is deprecated; use `arr[tuple(seq)]` instead of `arr[seq]`. In the future this will be interpreted as an array index, `arr[np.array(seq)]`, which will result either in an error or a different result.\n",
      "  b = a[a_slice]\n",
      "C:\\Users\\nile\\Anaconda3\\envs\\eeg\\lib\\site-packages\\scipy\\signal\\signaltools.py:3463: FutureWarning: Using a non-tuple sequence for multidimensional indexing is deprecated; use `arr[tuple(seq)]` instead of `arr[seq]`. In the future this will be interpreted as an array index, `arr[np.array(seq)]`, which will result either in an error or a different result.\n",
      "  return y[sl]\n"
     ]
    },
    {
     "name": "stdout",
     "output_type": "stream",
     "text": [
      "Selecting model: Models/41d8ff/experimental/Session2\\41d8ff_MI_classifier_2019-03-06-15-49-22.sav\n",
      "Selecting model: Models/41d8ff/experimental/Session2\\41d8ff_MI_classifier_2019-03-06-15-49-37.sav\n",
      "Selecting model: Models/41d8ff/experimental/Session2\\41d8ff_MI_classifier_TL_2019-03-06-15-49-38.sav\n",
      "Selecting BCI EEG file: SaveData/41d8ff/Session3\\20190220162544_41d8ff_BCI.easy\n",
      "Selecting BCI behavioral file: SaveData/41d8ff/Session3\\BCI_41d8ff_R1.csv\n",
      "Skipping N/A\n"
     ]
    },
    {
     "name": "stderr",
     "output_type": "stream",
     "text": [
      "C:\\Users\\nile\\Anaconda3\\envs\\eeg\\lib\\site-packages\\scipy\\signal\\_arraytools.py:45: FutureWarning: Using a non-tuple sequence for multidimensional indexing is deprecated; use `arr[tuple(seq)]` instead of `arr[seq]`. In the future this will be interpreted as an array index, `arr[np.array(seq)]`, which will result either in an error or a different result.\n",
      "  b = a[a_slice]\n",
      "C:\\Users\\nile\\Anaconda3\\envs\\eeg\\lib\\site-packages\\scipy\\signal\\signaltools.py:3463: FutureWarning: Using a non-tuple sequence for multidimensional indexing is deprecated; use `arr[tuple(seq)]` instead of `arr[seq]`. In the future this will be interpreted as an array index, `arr[np.array(seq)]`, which will result either in an error or a different result.\n",
      "  return y[sl]\n"
     ]
    },
    {
     "name": "stdout",
     "output_type": "stream",
     "text": [
      "Selecting model: Models/41d8ff/experimental/Session3\\41d8ff_MI_classifier_2019-03-06-15-51-16.sav\n",
      "Selecting model: Models/41d8ff/experimental/Session3\\41d8ff_MI_classifier_2019-03-06-15-51-16.sav\n",
      "Selecting model: Models/41d8ff/experimental/Session3\\41d8ff_MI_classifier_2019-03-06-15-51-16.sav\n",
      "Selecting BCI EEG file: SaveData/41d8ff/Session3\\20190220163138_41d8ff_BCI.easy\n",
      "Selecting BCI behavioral file: SaveData/41d8ff/Session3\\BCI_41d8ff_R2.csv\n",
      "Skipping N/A\n"
     ]
    },
    {
     "name": "stderr",
     "output_type": "stream",
     "text": [
      "C:\\Users\\nile\\Anaconda3\\envs\\eeg\\lib\\site-packages\\scipy\\signal\\_arraytools.py:45: FutureWarning: Using a non-tuple sequence for multidimensional indexing is deprecated; use `arr[tuple(seq)]` instead of `arr[seq]`. In the future this will be interpreted as an array index, `arr[np.array(seq)]`, which will result either in an error or a different result.\n",
      "  b = a[a_slice]\n",
      "C:\\Users\\nile\\Anaconda3\\envs\\eeg\\lib\\site-packages\\scipy\\signal\\signaltools.py:3463: FutureWarning: Using a non-tuple sequence for multidimensional indexing is deprecated; use `arr[tuple(seq)]` instead of `arr[seq]`. In the future this will be interpreted as an array index, `arr[np.array(seq)]`, which will result either in an error or a different result.\n",
      "  return y[sl]\n"
     ]
    },
    {
     "name": "stdout",
     "output_type": "stream",
     "text": [
      "Selecting model: Models/41d8ff/experimental/Session3\\41d8ff_MI_classifier_2019-03-06-15-51-16.sav\n",
      "Selecting model: Models/41d8ff/experimental/Session3\\41d8ff_MI_classifier_2019-03-06-15-51-20.sav\n",
      "Selecting model: Models/41d8ff/experimental/Session3\\41d8ff_MI_classifier_TL_2019-03-06-15-51-20.sav\n",
      "Selecting BCI EEG file: SaveData/41d8ff/Session3\\20190220163743_41d8ff_BCI.easy\n",
      "Selecting BCI behavioral file: SaveData/41d8ff/Session3\\BCI_41d8ff_R3.csv\n",
      "Skipping N/A\n"
     ]
    },
    {
     "name": "stderr",
     "output_type": "stream",
     "text": [
      "C:\\Users\\nile\\Anaconda3\\envs\\eeg\\lib\\site-packages\\scipy\\signal\\_arraytools.py:45: FutureWarning: Using a non-tuple sequence for multidimensional indexing is deprecated; use `arr[tuple(seq)]` instead of `arr[seq]`. In the future this will be interpreted as an array index, `arr[np.array(seq)]`, which will result either in an error or a different result.\n",
      "  b = a[a_slice]\n",
      "C:\\Users\\nile\\Anaconda3\\envs\\eeg\\lib\\site-packages\\scipy\\signal\\signaltools.py:3463: FutureWarning: Using a non-tuple sequence for multidimensional indexing is deprecated; use `arr[tuple(seq)]` instead of `arr[seq]`. In the future this will be interpreted as an array index, `arr[np.array(seq)]`, which will result either in an error or a different result.\n",
      "  return y[sl]\n"
     ]
    },
    {
     "name": "stdout",
     "output_type": "stream",
     "text": [
      "Selecting model: Models/41d8ff/experimental/Session3\\41d8ff_MI_classifier_2019-03-06-15-51-16.sav\n",
      "Selecting model: Models/41d8ff/experimental/Session3\\41d8ff_MI_classifier_2019-03-06-15-51-23.sav\n",
      "Selecting model: Models/41d8ff/experimental/Session3\\41d8ff_MI_classifier_TL_2019-03-06-15-51-24.sav\n",
      "Selecting BCI EEG file: SaveData/41d8ff/Session3\\20190220164326_41d8ff_BCI.easy\n",
      "Selecting BCI behavioral file: SaveData/41d8ff/Session3\\BCI_41d8ff_R4.csv\n",
      "Skipping N/A\n"
     ]
    },
    {
     "name": "stderr",
     "output_type": "stream",
     "text": [
      "C:\\Users\\nile\\Anaconda3\\envs\\eeg\\lib\\site-packages\\scipy\\signal\\_arraytools.py:45: FutureWarning: Using a non-tuple sequence for multidimensional indexing is deprecated; use `arr[tuple(seq)]` instead of `arr[seq]`. In the future this will be interpreted as an array index, `arr[np.array(seq)]`, which will result either in an error or a different result.\n",
      "  b = a[a_slice]\n",
      "C:\\Users\\nile\\Anaconda3\\envs\\eeg\\lib\\site-packages\\scipy\\signal\\signaltools.py:3463: FutureWarning: Using a non-tuple sequence for multidimensional indexing is deprecated; use `arr[tuple(seq)]` instead of `arr[seq]`. In the future this will be interpreted as an array index, `arr[np.array(seq)]`, which will result either in an error or a different result.\n",
      "  return y[sl]\n"
     ]
    },
    {
     "name": "stdout",
     "output_type": "stream",
     "text": [
      "Selecting model: Models/41d8ff/experimental/Session3\\41d8ff_MI_classifier_2019-03-06-15-51-16.sav\n",
      "Selecting model: Models/41d8ff/experimental/Session3\\41d8ff_MI_classifier_2019-03-06-15-51-27.sav\n",
      "Selecting model: Models/41d8ff/experimental/Session3\\41d8ff_MI_classifier_TL_2019-03-06-15-51-29.sav\n",
      "Selecting BCI EEG file: SaveData/41d8ff/Session3\\20190220164846_41d8ff_BCI.easy\n",
      "Selecting BCI behavioral file: SaveData/41d8ff/Session3\\BCI_41d8ff_R5.csv\n",
      "Skipping N/A\n"
     ]
    },
    {
     "name": "stderr",
     "output_type": "stream",
     "text": [
      "C:\\Users\\nile\\Anaconda3\\envs\\eeg\\lib\\site-packages\\scipy\\signal\\_arraytools.py:45: FutureWarning: Using a non-tuple sequence for multidimensional indexing is deprecated; use `arr[tuple(seq)]` instead of `arr[seq]`. In the future this will be interpreted as an array index, `arr[np.array(seq)]`, which will result either in an error or a different result.\n",
      "  b = a[a_slice]\n",
      "C:\\Users\\nile\\Anaconda3\\envs\\eeg\\lib\\site-packages\\scipy\\signal\\signaltools.py:3463: FutureWarning: Using a non-tuple sequence for multidimensional indexing is deprecated; use `arr[tuple(seq)]` instead of `arr[seq]`. In the future this will be interpreted as an array index, `arr[np.array(seq)]`, which will result either in an error or a different result.\n",
      "  return y[sl]\n"
     ]
    },
    {
     "name": "stdout",
     "output_type": "stream",
     "text": [
      "Selecting model: Models/41d8ff/experimental/Session3\\41d8ff_MI_classifier_2019-03-06-15-51-16.sav\n",
      "Selecting model: Models/41d8ff/experimental/Session3\\41d8ff_MI_classifier_2019-03-06-15-51-31.sav\n",
      "Selecting model: Models/41d8ff/experimental/Session3\\41d8ff_MI_classifier_TL_2019-03-06-15-51-33.sav\n",
      "----------------------------------------------------\n",
      "Done storing values for 41d8ff\n",
      "----------------------------------------------------\n",
      "Selecting BCI EEG file: SaveData/1e8b34/Session1\\20190219105435_1e8b34_BCI.easy\n",
      "Selecting BCI behavioral file: SaveData/1e8b34/Session1\\BCI_1e8b34_R1.csv\n",
      "Skipping N/A\n"
     ]
    },
    {
     "name": "stderr",
     "output_type": "stream",
     "text": [
      "C:\\Users\\nile\\Anaconda3\\envs\\eeg\\lib\\site-packages\\scipy\\signal\\_arraytools.py:45: FutureWarning: Using a non-tuple sequence for multidimensional indexing is deprecated; use `arr[tuple(seq)]` instead of `arr[seq]`. In the future this will be interpreted as an array index, `arr[np.array(seq)]`, which will result either in an error or a different result.\n",
      "  b = a[a_slice]\n",
      "C:\\Users\\nile\\Anaconda3\\envs\\eeg\\lib\\site-packages\\scipy\\signal\\signaltools.py:3463: FutureWarning: Using a non-tuple sequence for multidimensional indexing is deprecated; use `arr[tuple(seq)]` instead of `arr[seq]`. In the future this will be interpreted as an array index, `arr[np.array(seq)]`, which will result either in an error or a different result.\n",
      "  return y[sl]\n"
     ]
    },
    {
     "name": "stdout",
     "output_type": "stream",
     "text": [
      "Selecting model: Models/1e8b34/experimental/Session1\\1e8b34_MI_classifier_2019-03-06-14-26-31.sav\n",
      "Selecting model: Models/1e8b34/experimental/Session1\\1e8b34_MI_classifier_2019-03-06-14-26-31.sav\n",
      "Selecting model: Models/1e8b34/experimental/Session1\\1e8b34_MI_classifier_2019-03-06-14-26-31.sav\n",
      "Selecting BCI EEG file: SaveData/1e8b34/Session1\\20190219105935_1e8b34_BCI.easy\n",
      "Selecting BCI behavioral file: SaveData/1e8b34/Session1\\BCI_1e8b34_R2.csv\n",
      "Skipping N/A\n"
     ]
    },
    {
     "name": "stderr",
     "output_type": "stream",
     "text": [
      "C:\\Users\\nile\\Anaconda3\\envs\\eeg\\lib\\site-packages\\scipy\\signal\\_arraytools.py:45: FutureWarning: Using a non-tuple sequence for multidimensional indexing is deprecated; use `arr[tuple(seq)]` instead of `arr[seq]`. In the future this will be interpreted as an array index, `arr[np.array(seq)]`, which will result either in an error or a different result.\n",
      "  b = a[a_slice]\n",
      "C:\\Users\\nile\\Anaconda3\\envs\\eeg\\lib\\site-packages\\scipy\\signal\\signaltools.py:3463: FutureWarning: Using a non-tuple sequence for multidimensional indexing is deprecated; use `arr[tuple(seq)]` instead of `arr[seq]`. In the future this will be interpreted as an array index, `arr[np.array(seq)]`, which will result either in an error or a different result.\n",
      "  return y[sl]\n"
     ]
    },
    {
     "name": "stdout",
     "output_type": "stream",
     "text": [
      "Selecting model: Models/1e8b34/experimental/Session1\\1e8b34_MI_classifier_2019-03-06-14-26-31.sav\n",
      "Selecting model: Models/1e8b34/experimental/Session1\\1e8b34_MI_classifier_2019-03-06-14-26-49.sav\n",
      "Selecting model: Models/1e8b34/experimental/Session1\\1e8b34_MI_classifier_TL_2019-03-06-14-26-49.sav\n",
      "Selecting BCI EEG file: SaveData/1e8b34/Session1\\20190219110440_1e8b34_BCI.easy\n",
      "Selecting BCI behavioral file: SaveData/1e8b34/Session1\\BCI_1e8b34_R3.csv\n",
      "Skipping N/A\n"
     ]
    },
    {
     "name": "stderr",
     "output_type": "stream",
     "text": [
      "C:\\Users\\nile\\Anaconda3\\envs\\eeg\\lib\\site-packages\\scipy\\signal\\_arraytools.py:45: FutureWarning: Using a non-tuple sequence for multidimensional indexing is deprecated; use `arr[tuple(seq)]` instead of `arr[seq]`. In the future this will be interpreted as an array index, `arr[np.array(seq)]`, which will result either in an error or a different result.\n",
      "  b = a[a_slice]\n",
      "C:\\Users\\nile\\Anaconda3\\envs\\eeg\\lib\\site-packages\\scipy\\signal\\signaltools.py:3463: FutureWarning: Using a non-tuple sequence for multidimensional indexing is deprecated; use `arr[tuple(seq)]` instead of `arr[seq]`. In the future this will be interpreted as an array index, `arr[np.array(seq)]`, which will result either in an error or a different result.\n",
      "  return y[sl]\n"
     ]
    },
    {
     "name": "stdout",
     "output_type": "stream",
     "text": [
      "Selecting model: Models/1e8b34/experimental/Session1\\1e8b34_MI_classifier_2019-03-06-14-26-31.sav\n",
      "Selecting model: Models/1e8b34/experimental/Session1\\1e8b34_MI_classifier_2019-03-06-14-26-52.sav\n",
      "Selecting model: Models/1e8b34/experimental/Session1\\1e8b34_MI_classifier_TL_2019-03-06-14-26-53.sav\n",
      "Selecting BCI EEG file: SaveData/1e8b34/Session1\\20190219110951_1e8b34_BCI.easy\n",
      "Selecting BCI behavioral file: SaveData/1e8b34/Session1\\BCI_1e8b34_R4.csv\n",
      "Skipping N/A\n"
     ]
    },
    {
     "name": "stderr",
     "output_type": "stream",
     "text": [
      "C:\\Users\\nile\\Anaconda3\\envs\\eeg\\lib\\site-packages\\scipy\\signal\\_arraytools.py:45: FutureWarning: Using a non-tuple sequence for multidimensional indexing is deprecated; use `arr[tuple(seq)]` instead of `arr[seq]`. In the future this will be interpreted as an array index, `arr[np.array(seq)]`, which will result either in an error or a different result.\n",
      "  b = a[a_slice]\n",
      "C:\\Users\\nile\\Anaconda3\\envs\\eeg\\lib\\site-packages\\scipy\\signal\\signaltools.py:3463: FutureWarning: Using a non-tuple sequence for multidimensional indexing is deprecated; use `arr[tuple(seq)]` instead of `arr[seq]`. In the future this will be interpreted as an array index, `arr[np.array(seq)]`, which will result either in an error or a different result.\n",
      "  return y[sl]\n"
     ]
    },
    {
     "name": "stdout",
     "output_type": "stream",
     "text": [
      "Selecting model: Models/1e8b34/experimental/Session1\\1e8b34_MI_classifier_2019-03-06-14-26-31.sav\n",
      "Selecting model: Models/1e8b34/experimental/Session1\\1e8b34_MI_classifier_2019-03-06-14-26-56.sav\n",
      "Selecting model: Models/1e8b34/experimental/Session1\\1e8b34_MI_classifier_TL_2019-03-06-14-26-58.sav\n",
      "Selecting BCI EEG file: SaveData/1e8b34/Session1\\20190219111454_1e8b34_BCI.easy\n",
      "Selecting BCI behavioral file: SaveData/1e8b34/Session1\\BCI_1e8b34_R5.csv\n",
      "Skipping N/A\n"
     ]
    },
    {
     "name": "stderr",
     "output_type": "stream",
     "text": [
      "C:\\Users\\nile\\Anaconda3\\envs\\eeg\\lib\\site-packages\\scipy\\signal\\_arraytools.py:45: FutureWarning: Using a non-tuple sequence for multidimensional indexing is deprecated; use `arr[tuple(seq)]` instead of `arr[seq]`. In the future this will be interpreted as an array index, `arr[np.array(seq)]`, which will result either in an error or a different result.\n",
      "  b = a[a_slice]\n",
      "C:\\Users\\nile\\Anaconda3\\envs\\eeg\\lib\\site-packages\\scipy\\signal\\signaltools.py:3463: FutureWarning: Using a non-tuple sequence for multidimensional indexing is deprecated; use `arr[tuple(seq)]` instead of `arr[seq]`. In the future this will be interpreted as an array index, `arr[np.array(seq)]`, which will result either in an error or a different result.\n",
      "  return y[sl]\n"
     ]
    },
    {
     "name": "stdout",
     "output_type": "stream",
     "text": [
      "Selecting model: Models/1e8b34/experimental/Session1\\1e8b34_MI_classifier_2019-03-06-14-26-31.sav\n",
      "Selecting model: Models/1e8b34/experimental/Session1\\1e8b34_MI_classifier_2019-03-06-14-27-01.sav\n",
      "Selecting model: Models/1e8b34/experimental/Session1\\1e8b34_MI_classifier_TL_2019-03-06-14-27-03.sav\n",
      "Selecting BCI EEG file: SaveData/1e8b34/Session2\\20190222091035_1e8b34_BCI.easy\n",
      "Selecting BCI behavioral file: SaveData/1e8b34/Session2\\BCI_1e8b34_R1.csv\n",
      "Skipping N/A\n"
     ]
    },
    {
     "name": "stderr",
     "output_type": "stream",
     "text": [
      "C:\\Users\\nile\\Anaconda3\\envs\\eeg\\lib\\site-packages\\scipy\\signal\\_arraytools.py:45: FutureWarning: Using a non-tuple sequence for multidimensional indexing is deprecated; use `arr[tuple(seq)]` instead of `arr[seq]`. In the future this will be interpreted as an array index, `arr[np.array(seq)]`, which will result either in an error or a different result.\n",
      "  b = a[a_slice]\n",
      "C:\\Users\\nile\\Anaconda3\\envs\\eeg\\lib\\site-packages\\scipy\\signal\\signaltools.py:3463: FutureWarning: Using a non-tuple sequence for multidimensional indexing is deprecated; use `arr[tuple(seq)]` instead of `arr[seq]`. In the future this will be interpreted as an array index, `arr[np.array(seq)]`, which will result either in an error or a different result.\n",
      "  return y[sl]\n"
     ]
    },
    {
     "name": "stdout",
     "output_type": "stream",
     "text": [
      "Selecting model: Models/1e8b34/experimental/Session2\\1e8b34_MI_classifier_2019-03-06-14-31-51.sav\n",
      "Selecting model: Models/1e8b34/experimental/Session2\\1e8b34_MI_classifier_2019-03-06-14-31-51.sav\n",
      "Selecting model: Models/1e8b34/experimental/Session2\\1e8b34_MI_classifier_2019-03-06-14-31-51.sav\n",
      "Selecting BCI EEG file: SaveData/1e8b34/Session2\\20190222091511_1e8b34_BCI.easy\n",
      "Selecting BCI behavioral file: SaveData/1e8b34/Session2\\BCI_1e8b34_R2.csv\n",
      "Skipping N/A\n"
     ]
    },
    {
     "name": "stderr",
     "output_type": "stream",
     "text": [
      "C:\\Users\\nile\\Anaconda3\\envs\\eeg\\lib\\site-packages\\scipy\\signal\\_arraytools.py:45: FutureWarning: Using a non-tuple sequence for multidimensional indexing is deprecated; use `arr[tuple(seq)]` instead of `arr[seq]`. In the future this will be interpreted as an array index, `arr[np.array(seq)]`, which will result either in an error or a different result.\n",
      "  b = a[a_slice]\n",
      "C:\\Users\\nile\\Anaconda3\\envs\\eeg\\lib\\site-packages\\scipy\\signal\\signaltools.py:3463: FutureWarning: Using a non-tuple sequence for multidimensional indexing is deprecated; use `arr[tuple(seq)]` instead of `arr[seq]`. In the future this will be interpreted as an array index, `arr[np.array(seq)]`, which will result either in an error or a different result.\n",
      "  return y[sl]\n"
     ]
    },
    {
     "name": "stdout",
     "output_type": "stream",
     "text": [
      "Selecting model: Models/1e8b34/experimental/Session2\\1e8b34_MI_classifier_2019-03-06-14-31-51.sav\n",
      "Selecting model: Models/1e8b34/experimental/Session2\\1e8b34_MI_classifier_2019-03-06-14-32-04.sav\n",
      "Selecting model: Models/1e8b34/experimental/Session2\\1e8b34_MI_classifier_TL_2019-03-06-14-32-04.sav\n",
      "Selecting BCI EEG file: SaveData/1e8b34/Session2\\20190222091957_1e8b34_BCI.easy\n",
      "Selecting BCI behavioral file: SaveData/1e8b34/Session2\\BCI_1e8b34_R3.csv\n",
      "Skipping N/A\n"
     ]
    },
    {
     "name": "stderr",
     "output_type": "stream",
     "text": [
      "C:\\Users\\nile\\Anaconda3\\envs\\eeg\\lib\\site-packages\\scipy\\signal\\_arraytools.py:45: FutureWarning: Using a non-tuple sequence for multidimensional indexing is deprecated; use `arr[tuple(seq)]` instead of `arr[seq]`. In the future this will be interpreted as an array index, `arr[np.array(seq)]`, which will result either in an error or a different result.\n",
      "  b = a[a_slice]\n",
      "C:\\Users\\nile\\Anaconda3\\envs\\eeg\\lib\\site-packages\\scipy\\signal\\signaltools.py:3463: FutureWarning: Using a non-tuple sequence for multidimensional indexing is deprecated; use `arr[tuple(seq)]` instead of `arr[seq]`. In the future this will be interpreted as an array index, `arr[np.array(seq)]`, which will result either in an error or a different result.\n",
      "  return y[sl]\n"
     ]
    },
    {
     "name": "stdout",
     "output_type": "stream",
     "text": [
      "Selecting model: Models/1e8b34/experimental/Session2\\1e8b34_MI_classifier_2019-03-06-14-31-51.sav\n",
      "Selecting model: Models/1e8b34/experimental/Session2\\1e8b34_MI_classifier_2019-03-06-14-32-07.sav\n",
      "Selecting model: Models/1e8b34/experimental/Session2\\1e8b34_MI_classifier_TL_2019-03-06-14-32-08.sav\n",
      "Selecting BCI EEG file: SaveData/1e8b34/Session2\\20190222092458_1e8b34_BCI.easy\n",
      "Selecting BCI behavioral file: SaveData/1e8b34/Session2\\BCI_1e8b34_R4.csv\n",
      "Skipping N/A\n"
     ]
    },
    {
     "name": "stderr",
     "output_type": "stream",
     "text": [
      "C:\\Users\\nile\\Anaconda3\\envs\\eeg\\lib\\site-packages\\scipy\\signal\\_arraytools.py:45: FutureWarning: Using a non-tuple sequence for multidimensional indexing is deprecated; use `arr[tuple(seq)]` instead of `arr[seq]`. In the future this will be interpreted as an array index, `arr[np.array(seq)]`, which will result either in an error or a different result.\n",
      "  b = a[a_slice]\n",
      "C:\\Users\\nile\\Anaconda3\\envs\\eeg\\lib\\site-packages\\scipy\\signal\\signaltools.py:3463: FutureWarning: Using a non-tuple sequence for multidimensional indexing is deprecated; use `arr[tuple(seq)]` instead of `arr[seq]`. In the future this will be interpreted as an array index, `arr[np.array(seq)]`, which will result either in an error or a different result.\n",
      "  return y[sl]\n"
     ]
    },
    {
     "name": "stdout",
     "output_type": "stream",
     "text": [
      "Selecting model: Models/1e8b34/experimental/Session2\\1e8b34_MI_classifier_2019-03-06-14-31-51.sav\n",
      "Selecting model: Models/1e8b34/experimental/Session2\\1e8b34_MI_classifier_2019-03-06-14-32-11.sav\n",
      "Selecting model: Models/1e8b34/experimental/Session2\\1e8b34_MI_classifier_TL_2019-03-06-14-32-12.sav\n",
      "Selecting BCI EEG file: SaveData/1e8b34/Session2\\20190222092951_1e8b34_BCI.easy\n",
      "Selecting BCI behavioral file: SaveData/1e8b34/Session2\\BCI_1e8b34_R5.csv\n",
      "Skipping N/A\n"
     ]
    },
    {
     "name": "stderr",
     "output_type": "stream",
     "text": [
      "C:\\Users\\nile\\Anaconda3\\envs\\eeg\\lib\\site-packages\\scipy\\signal\\_arraytools.py:45: FutureWarning: Using a non-tuple sequence for multidimensional indexing is deprecated; use `arr[tuple(seq)]` instead of `arr[seq]`. In the future this will be interpreted as an array index, `arr[np.array(seq)]`, which will result either in an error or a different result.\n",
      "  b = a[a_slice]\n",
      "C:\\Users\\nile\\Anaconda3\\envs\\eeg\\lib\\site-packages\\scipy\\signal\\signaltools.py:3463: FutureWarning: Using a non-tuple sequence for multidimensional indexing is deprecated; use `arr[tuple(seq)]` instead of `arr[seq]`. In the future this will be interpreted as an array index, `arr[np.array(seq)]`, which will result either in an error or a different result.\n",
      "  return y[sl]\n"
     ]
    },
    {
     "name": "stdout",
     "output_type": "stream",
     "text": [
      "Selecting model: Models/1e8b34/experimental/Session2\\1e8b34_MI_classifier_2019-03-06-14-31-51.sav\n",
      "Selecting model: Models/1e8b34/experimental/Session2\\1e8b34_MI_classifier_2019-03-06-14-32-15.sav\n",
      "Selecting model: Models/1e8b34/experimental/Session2\\1e8b34_MI_classifier_TL_2019-03-06-14-32-16.sav\n",
      "Selecting BCI EEG file: SaveData/1e8b34/Session3\\20190305091455_1e8b34_BCI.easy\n",
      "Selecting BCI behavioral file: SaveData/1e8b34/Session3\\BCI_1e8b34_R1.csv\n",
      "Skipping N/A\n"
     ]
    },
    {
     "name": "stderr",
     "output_type": "stream",
     "text": [
      "C:\\Users\\nile\\Anaconda3\\envs\\eeg\\lib\\site-packages\\scipy\\signal\\_arraytools.py:45: FutureWarning: Using a non-tuple sequence for multidimensional indexing is deprecated; use `arr[tuple(seq)]` instead of `arr[seq]`. In the future this will be interpreted as an array index, `arr[np.array(seq)]`, which will result either in an error or a different result.\n",
      "  b = a[a_slice]\n",
      "C:\\Users\\nile\\Anaconda3\\envs\\eeg\\lib\\site-packages\\scipy\\signal\\signaltools.py:3463: FutureWarning: Using a non-tuple sequence for multidimensional indexing is deprecated; use `arr[tuple(seq)]` instead of `arr[seq]`. In the future this will be interpreted as an array index, `arr[np.array(seq)]`, which will result either in an error or a different result.\n",
      "  return y[sl]\n"
     ]
    },
    {
     "name": "stdout",
     "output_type": "stream",
     "text": [
      "Selecting model: Models/1e8b34/experimental/Session3\\1e8b34_MI_classifier_2019-03-06-14-35-34.sav\n",
      "Selecting model: Models/1e8b34/experimental/Session3\\1e8b34_MI_classifier_2019-03-06-14-35-34.sav\n",
      "Selecting model: Models/1e8b34/experimental/Session3\\1e8b34_MI_classifier_2019-03-06-14-35-34.sav\n",
      "Selecting BCI EEG file: SaveData/1e8b34/Session3\\20190305092025_1e8b34_BCI.easy\n",
      "Selecting BCI behavioral file: SaveData/1e8b34/Session3\\BCI_1e8b34_R2.csv\n",
      "Skipping N/A\n"
     ]
    },
    {
     "name": "stderr",
     "output_type": "stream",
     "text": [
      "C:\\Users\\nile\\Anaconda3\\envs\\eeg\\lib\\site-packages\\scipy\\signal\\_arraytools.py:45: FutureWarning: Using a non-tuple sequence for multidimensional indexing is deprecated; use `arr[tuple(seq)]` instead of `arr[seq]`. In the future this will be interpreted as an array index, `arr[np.array(seq)]`, which will result either in an error or a different result.\n",
      "  b = a[a_slice]\n",
      "C:\\Users\\nile\\Anaconda3\\envs\\eeg\\lib\\site-packages\\scipy\\signal\\signaltools.py:3463: FutureWarning: Using a non-tuple sequence for multidimensional indexing is deprecated; use `arr[tuple(seq)]` instead of `arr[seq]`. In the future this will be interpreted as an array index, `arr[np.array(seq)]`, which will result either in an error or a different result.\n",
      "  return y[sl]\n"
     ]
    },
    {
     "name": "stdout",
     "output_type": "stream",
     "text": [
      "Selecting model: Models/1e8b34/experimental/Session3\\1e8b34_MI_classifier_2019-03-06-14-35-34.sav\n",
      "Selecting model: Models/1e8b34/experimental/Session3\\1e8b34_MI_classifier_2019-03-06-14-35-46.sav\n",
      "Selecting model: Models/1e8b34/experimental/Session3\\1e8b34_MI_classifier_TL_2019-03-06-14-35-47.sav\n",
      "Selecting BCI EEG file: SaveData/1e8b34/Session3\\20190305092514_1e8b34_BCI.easy\n",
      "Selecting BCI behavioral file: SaveData/1e8b34/Session3\\BCI_1e8b34_R3.csv\n",
      "Skipping N/A\n"
     ]
    },
    {
     "name": "stderr",
     "output_type": "stream",
     "text": [
      "C:\\Users\\nile\\Anaconda3\\envs\\eeg\\lib\\site-packages\\scipy\\signal\\_arraytools.py:45: FutureWarning: Using a non-tuple sequence for multidimensional indexing is deprecated; use `arr[tuple(seq)]` instead of `arr[seq]`. In the future this will be interpreted as an array index, `arr[np.array(seq)]`, which will result either in an error or a different result.\n",
      "  b = a[a_slice]\n",
      "C:\\Users\\nile\\Anaconda3\\envs\\eeg\\lib\\site-packages\\scipy\\signal\\signaltools.py:3463: FutureWarning: Using a non-tuple sequence for multidimensional indexing is deprecated; use `arr[tuple(seq)]` instead of `arr[seq]`. In the future this will be interpreted as an array index, `arr[np.array(seq)]`, which will result either in an error or a different result.\n",
      "  return y[sl]\n"
     ]
    },
    {
     "name": "stdout",
     "output_type": "stream",
     "text": [
      "Selecting model: Models/1e8b34/experimental/Session3\\1e8b34_MI_classifier_2019-03-06-14-35-34.sav\n",
      "Selecting model: Models/1e8b34/experimental/Session3\\1e8b34_MI_classifier_2019-03-06-14-35-49.sav\n",
      "Selecting model: Models/1e8b34/experimental/Session3\\1e8b34_MI_classifier_TL_2019-03-06-14-35-50.sav\n",
      "Selecting BCI EEG file: SaveData/1e8b34/Session3\\20190305092953_1e8b34_BCI.easy\n",
      "Selecting BCI behavioral file: SaveData/1e8b34/Session3\\BCI_1e8b34_R4.csv\n",
      "Skipping N/A\n"
     ]
    },
    {
     "name": "stderr",
     "output_type": "stream",
     "text": [
      "C:\\Users\\nile\\Anaconda3\\envs\\eeg\\lib\\site-packages\\scipy\\signal\\_arraytools.py:45: FutureWarning: Using a non-tuple sequence for multidimensional indexing is deprecated; use `arr[tuple(seq)]` instead of `arr[seq]`. In the future this will be interpreted as an array index, `arr[np.array(seq)]`, which will result either in an error or a different result.\n",
      "  b = a[a_slice]\n",
      "C:\\Users\\nile\\Anaconda3\\envs\\eeg\\lib\\site-packages\\scipy\\signal\\signaltools.py:3463: FutureWarning: Using a non-tuple sequence for multidimensional indexing is deprecated; use `arr[tuple(seq)]` instead of `arr[seq]`. In the future this will be interpreted as an array index, `arr[np.array(seq)]`, which will result either in an error or a different result.\n",
      "  return y[sl]\n"
     ]
    },
    {
     "name": "stdout",
     "output_type": "stream",
     "text": [
      "Selecting model: Models/1e8b34/experimental/Session3\\1e8b34_MI_classifier_2019-03-06-14-35-34.sav\n",
      "Selecting model: Models/1e8b34/experimental/Session3\\1e8b34_MI_classifier_2019-03-06-14-35-53.sav\n",
      "Selecting model: Models/1e8b34/experimental/Session3\\1e8b34_MI_classifier_TL_2019-03-06-14-35-54.sav\n",
      "Selecting BCI EEG file: SaveData/1e8b34/Session3\\20190305093437_1e8b34_BCI.easy\n",
      "Selecting BCI behavioral file: SaveData/1e8b34/Session3\\BCI_1e8b34_R5.csv\n",
      "Skipping N/A\n"
     ]
    },
    {
     "name": "stderr",
     "output_type": "stream",
     "text": [
      "C:\\Users\\nile\\Anaconda3\\envs\\eeg\\lib\\site-packages\\scipy\\signal\\_arraytools.py:45: FutureWarning: Using a non-tuple sequence for multidimensional indexing is deprecated; use `arr[tuple(seq)]` instead of `arr[seq]`. In the future this will be interpreted as an array index, `arr[np.array(seq)]`, which will result either in an error or a different result.\n",
      "  b = a[a_slice]\n",
      "C:\\Users\\nile\\Anaconda3\\envs\\eeg\\lib\\site-packages\\scipy\\signal\\signaltools.py:3463: FutureWarning: Using a non-tuple sequence for multidimensional indexing is deprecated; use `arr[tuple(seq)]` instead of `arr[seq]`. In the future this will be interpreted as an array index, `arr[np.array(seq)]`, which will result either in an error or a different result.\n",
      "  return y[sl]\n"
     ]
    },
    {
     "name": "stdout",
     "output_type": "stream",
     "text": [
      "Selecting model: Models/1e8b34/experimental/Session3\\1e8b34_MI_classifier_2019-03-06-14-35-34.sav\n",
      "Selecting model: Models/1e8b34/experimental/Session3\\1e8b34_MI_classifier_2019-03-06-14-35-56.sav\n",
      "Selecting model: Models/1e8b34/experimental/Session3\\1e8b34_MI_classifier_TL_2019-03-06-14-35-58.sav\n",
      "----------------------------------------------------\n",
      "Done storing values for 1e8b34\n",
      "----------------------------------------------------\n",
      "Selecting BCI EEG file: SaveData/ad11cf/Session1\\20190215163750_ad11cf_BCI.easy\n",
      "Selecting BCI behavioral file: SaveData/ad11cf/Session1\\BCI_ad11cf_R1.csv\n",
      "Skipping N/A\n"
     ]
    },
    {
     "name": "stderr",
     "output_type": "stream",
     "text": [
      "C:\\Users\\nile\\Anaconda3\\envs\\eeg\\lib\\site-packages\\scipy\\signal\\_arraytools.py:45: FutureWarning: Using a non-tuple sequence for multidimensional indexing is deprecated; use `arr[tuple(seq)]` instead of `arr[seq]`. In the future this will be interpreted as an array index, `arr[np.array(seq)]`, which will result either in an error or a different result.\n",
      "  b = a[a_slice]\n",
      "C:\\Users\\nile\\Anaconda3\\envs\\eeg\\lib\\site-packages\\scipy\\signal\\signaltools.py:3463: FutureWarning: Using a non-tuple sequence for multidimensional indexing is deprecated; use `arr[tuple(seq)]` instead of `arr[seq]`. In the future this will be interpreted as an array index, `arr[np.array(seq)]`, which will result either in an error or a different result.\n",
      "  return y[sl]\n"
     ]
    },
    {
     "name": "stdout",
     "output_type": "stream",
     "text": [
      "Selecting model: Models/ad11cf/experimental/Session1\\ad11cf_MI_classifier_2019-03-06-16-01-25.sav\n",
      "Selecting model: Models/ad11cf/experimental/Session1\\ad11cf_MI_classifier_2019-03-06-16-01-25.sav\n",
      "Selecting model: Models/ad11cf/experimental/Session1\\ad11cf_MI_classifier_2019-03-06-16-01-25.sav\n",
      "Selecting BCI EEG file: SaveData/ad11cf/Session1\\20190215164229_ad11cf_BCI.easy\n",
      "Selecting BCI behavioral file: SaveData/ad11cf/Session1\\BCI_ad11cf_R2.csv\n",
      "Skipping N/A\n"
     ]
    },
    {
     "name": "stderr",
     "output_type": "stream",
     "text": [
      "C:\\Users\\nile\\Anaconda3\\envs\\eeg\\lib\\site-packages\\scipy\\signal\\_arraytools.py:45: FutureWarning: Using a non-tuple sequence for multidimensional indexing is deprecated; use `arr[tuple(seq)]` instead of `arr[seq]`. In the future this will be interpreted as an array index, `arr[np.array(seq)]`, which will result either in an error or a different result.\n",
      "  b = a[a_slice]\n",
      "C:\\Users\\nile\\Anaconda3\\envs\\eeg\\lib\\site-packages\\scipy\\signal\\signaltools.py:3463: FutureWarning: Using a non-tuple sequence for multidimensional indexing is deprecated; use `arr[tuple(seq)]` instead of `arr[seq]`. In the future this will be interpreted as an array index, `arr[np.array(seq)]`, which will result either in an error or a different result.\n",
      "  return y[sl]\n"
     ]
    },
    {
     "name": "stdout",
     "output_type": "stream",
     "text": [
      "Selecting model: Models/ad11cf/experimental/Session1\\ad11cf_MI_classifier_2019-03-06-16-01-25.sav\n",
      "Selecting model: Models/ad11cf/experimental/Session1\\ad11cf_MI_classifier_2019-03-06-16-01-29.sav\n",
      "Selecting model: Models/ad11cf/experimental/Session1\\ad11cf_MI_classifier_TL_2019-03-06-16-01-29.sav\n",
      "Selecting BCI EEG file: SaveData/ad11cf/Session1\\20190215164725_ad11cf_BCI.easy\n",
      "Selecting BCI behavioral file: SaveData/ad11cf/Session1\\BCI_ad11cf_R3.csv\n",
      "Skipping N/A\n"
     ]
    },
    {
     "name": "stderr",
     "output_type": "stream",
     "text": [
      "C:\\Users\\nile\\Anaconda3\\envs\\eeg\\lib\\site-packages\\scipy\\signal\\_arraytools.py:45: FutureWarning: Using a non-tuple sequence for multidimensional indexing is deprecated; use `arr[tuple(seq)]` instead of `arr[seq]`. In the future this will be interpreted as an array index, `arr[np.array(seq)]`, which will result either in an error or a different result.\n",
      "  b = a[a_slice]\n",
      "C:\\Users\\nile\\Anaconda3\\envs\\eeg\\lib\\site-packages\\scipy\\signal\\signaltools.py:3463: FutureWarning: Using a non-tuple sequence for multidimensional indexing is deprecated; use `arr[tuple(seq)]` instead of `arr[seq]`. In the future this will be interpreted as an array index, `arr[np.array(seq)]`, which will result either in an error or a different result.\n",
      "  return y[sl]\n"
     ]
    },
    {
     "name": "stdout",
     "output_type": "stream",
     "text": [
      "Selecting model: Models/ad11cf/experimental/Session1\\ad11cf_MI_classifier_2019-03-06-16-01-25.sav\n",
      "Selecting model: Models/ad11cf/experimental/Session1\\ad11cf_MI_classifier_2019-03-06-16-01-32.sav\n",
      "Selecting model: Models/ad11cf/experimental/Session1\\ad11cf_MI_classifier_TL_2019-03-06-16-01-34.sav\n",
      "Selecting BCI EEG file: SaveData/ad11cf/Session1\\20190215165214_ad11cf_BCI.easy\n",
      "Selecting BCI behavioral file: SaveData/ad11cf/Session1\\BCI_ad11cf_R4.csv\n",
      "Skipping N/A\n"
     ]
    },
    {
     "name": "stderr",
     "output_type": "stream",
     "text": [
      "C:\\Users\\nile\\Anaconda3\\envs\\eeg\\lib\\site-packages\\scipy\\signal\\_arraytools.py:45: FutureWarning: Using a non-tuple sequence for multidimensional indexing is deprecated; use `arr[tuple(seq)]` instead of `arr[seq]`. In the future this will be interpreted as an array index, `arr[np.array(seq)]`, which will result either in an error or a different result.\n",
      "  b = a[a_slice]\n",
      "C:\\Users\\nile\\Anaconda3\\envs\\eeg\\lib\\site-packages\\scipy\\signal\\signaltools.py:3463: FutureWarning: Using a non-tuple sequence for multidimensional indexing is deprecated; use `arr[tuple(seq)]` instead of `arr[seq]`. In the future this will be interpreted as an array index, `arr[np.array(seq)]`, which will result either in an error or a different result.\n",
      "  return y[sl]\n"
     ]
    },
    {
     "name": "stdout",
     "output_type": "stream",
     "text": [
      "Selecting model: Models/ad11cf/experimental/Session1\\ad11cf_MI_classifier_2019-03-06-16-01-25.sav\n",
      "Selecting model: Models/ad11cf/experimental/Session1\\ad11cf_MI_classifier_2019-03-06-16-01-36.sav\n",
      "Selecting model: Models/ad11cf/experimental/Session1\\ad11cf_MI_classifier_TL_2019-03-06-16-01-38.sav\n",
      "Selecting BCI EEG file: SaveData/ad11cf/Session1\\20190215165729_ad11cf_BCI.easy\n",
      "Selecting BCI behavioral file: SaveData/ad11cf/Session1\\BCI_ad11cf_R5.csv\n",
      "Skipping N/A\n"
     ]
    },
    {
     "name": "stderr",
     "output_type": "stream",
     "text": [
      "C:\\Users\\nile\\Anaconda3\\envs\\eeg\\lib\\site-packages\\scipy\\signal\\_arraytools.py:45: FutureWarning: Using a non-tuple sequence for multidimensional indexing is deprecated; use `arr[tuple(seq)]` instead of `arr[seq]`. In the future this will be interpreted as an array index, `arr[np.array(seq)]`, which will result either in an error or a different result.\n",
      "  b = a[a_slice]\n",
      "C:\\Users\\nile\\Anaconda3\\envs\\eeg\\lib\\site-packages\\scipy\\signal\\signaltools.py:3463: FutureWarning: Using a non-tuple sequence for multidimensional indexing is deprecated; use `arr[tuple(seq)]` instead of `arr[seq]`. In the future this will be interpreted as an array index, `arr[np.array(seq)]`, which will result either in an error or a different result.\n",
      "  return y[sl]\n"
     ]
    },
    {
     "name": "stdout",
     "output_type": "stream",
     "text": [
      "Selecting model: Models/ad11cf/experimental/Session1\\ad11cf_MI_classifier_2019-03-06-16-01-25.sav\n",
      "Selecting model: Models/ad11cf/experimental/Session1\\ad11cf_MI_classifier_2019-03-06-16-01-40.sav\n",
      "Selecting model: Models/ad11cf/experimental/Session1\\ad11cf_MI_classifier_TL_2019-03-06-16-01-42.sav\n",
      "Selecting BCI EEG file: SaveData/ad11cf/Session2\\20190222161801_ad11cf_BCI.easy\n",
      "Selecting BCI behavioral file: SaveData/ad11cf/Session2\\BCI_ad11cf_R1.csv\n",
      "Skipping N/A\n"
     ]
    },
    {
     "name": "stderr",
     "output_type": "stream",
     "text": [
      "C:\\Users\\nile\\Anaconda3\\envs\\eeg\\lib\\site-packages\\scipy\\signal\\_arraytools.py:45: FutureWarning: Using a non-tuple sequence for multidimensional indexing is deprecated; use `arr[tuple(seq)]` instead of `arr[seq]`. In the future this will be interpreted as an array index, `arr[np.array(seq)]`, which will result either in an error or a different result.\n",
      "  b = a[a_slice]\n",
      "C:\\Users\\nile\\Anaconda3\\envs\\eeg\\lib\\site-packages\\scipy\\signal\\signaltools.py:3463: FutureWarning: Using a non-tuple sequence for multidimensional indexing is deprecated; use `arr[tuple(seq)]` instead of `arr[seq]`. In the future this will be interpreted as an array index, `arr[np.array(seq)]`, which will result either in an error or a different result.\n",
      "  return y[sl]\n"
     ]
    },
    {
     "name": "stdout",
     "output_type": "stream",
     "text": [
      "Selecting model: Models/ad11cf/experimental/Session2\\ad11cf_MI_classifier_2019-03-06-16-03-08.sav\n",
      "Selecting model: Models/ad11cf/experimental/Session2\\ad11cf_MI_classifier_2019-03-06-16-03-08.sav\n",
      "Selecting model: Models/ad11cf/experimental/Session2\\ad11cf_MI_classifier_2019-03-06-16-03-08.sav\n",
      "Selecting BCI EEG file: SaveData/ad11cf/Session2\\20190222162254_ad11cf_BCI.easy\n",
      "Selecting BCI behavioral file: SaveData/ad11cf/Session2\\BCI_ad11cf_R2.csv\n",
      "Skipping N/A\n"
     ]
    },
    {
     "name": "stderr",
     "output_type": "stream",
     "text": [
      "C:\\Users\\nile\\Anaconda3\\envs\\eeg\\lib\\site-packages\\scipy\\signal\\_arraytools.py:45: FutureWarning: Using a non-tuple sequence for multidimensional indexing is deprecated; use `arr[tuple(seq)]` instead of `arr[seq]`. In the future this will be interpreted as an array index, `arr[np.array(seq)]`, which will result either in an error or a different result.\n",
      "  b = a[a_slice]\n",
      "C:\\Users\\nile\\Anaconda3\\envs\\eeg\\lib\\site-packages\\scipy\\signal\\signaltools.py:3463: FutureWarning: Using a non-tuple sequence for multidimensional indexing is deprecated; use `arr[tuple(seq)]` instead of `arr[seq]`. In the future this will be interpreted as an array index, `arr[np.array(seq)]`, which will result either in an error or a different result.\n",
      "  return y[sl]\n"
     ]
    },
    {
     "name": "stdout",
     "output_type": "stream",
     "text": [
      "Selecting model: Models/ad11cf/experimental/Session2\\ad11cf_MI_classifier_2019-03-06-16-03-08.sav\n",
      "Selecting model: Models/ad11cf/experimental/Session2\\ad11cf_MI_classifier_2019-03-06-16-03-12.sav\n",
      "Selecting model: Models/ad11cf/experimental/Session2\\ad11cf_MI_classifier_TL_2019-03-06-16-03-13.sav\n",
      "Selecting BCI EEG file: SaveData/ad11cf/Session2\\20190222162742_ad11cf_BCI.easy\n",
      "Selecting BCI behavioral file: SaveData/ad11cf/Session2\\BCI_ad11cf_R3.csv\n",
      "Skipping N/A\n"
     ]
    },
    {
     "name": "stderr",
     "output_type": "stream",
     "text": [
      "C:\\Users\\nile\\Anaconda3\\envs\\eeg\\lib\\site-packages\\scipy\\signal\\_arraytools.py:45: FutureWarning: Using a non-tuple sequence for multidimensional indexing is deprecated; use `arr[tuple(seq)]` instead of `arr[seq]`. In the future this will be interpreted as an array index, `arr[np.array(seq)]`, which will result either in an error or a different result.\n",
      "  b = a[a_slice]\n",
      "C:\\Users\\nile\\Anaconda3\\envs\\eeg\\lib\\site-packages\\scipy\\signal\\signaltools.py:3463: FutureWarning: Using a non-tuple sequence for multidimensional indexing is deprecated; use `arr[tuple(seq)]` instead of `arr[seq]`. In the future this will be interpreted as an array index, `arr[np.array(seq)]`, which will result either in an error or a different result.\n",
      "  return y[sl]\n"
     ]
    },
    {
     "name": "stdout",
     "output_type": "stream",
     "text": [
      "Selecting model: Models/ad11cf/experimental/Session2\\ad11cf_MI_classifier_2019-03-06-16-03-08.sav\n",
      "Selecting model: Models/ad11cf/experimental/Session2\\ad11cf_MI_classifier_2019-03-06-16-03-15.sav\n",
      "Selecting model: Models/ad11cf/experimental/Session2\\ad11cf_MI_classifier_TL_2019-03-06-16-03-17.sav\n",
      "Selecting BCI EEG file: SaveData/ad11cf/Session2\\20190222163217_ad11cf_BCI.easy\n",
      "Selecting BCI behavioral file: SaveData/ad11cf/Session2\\BCI_ad11cf_R4.csv\n",
      "Skipping N/A\n"
     ]
    },
    {
     "name": "stderr",
     "output_type": "stream",
     "text": [
      "C:\\Users\\nile\\Anaconda3\\envs\\eeg\\lib\\site-packages\\scipy\\signal\\_arraytools.py:45: FutureWarning: Using a non-tuple sequence for multidimensional indexing is deprecated; use `arr[tuple(seq)]` instead of `arr[seq]`. In the future this will be interpreted as an array index, `arr[np.array(seq)]`, which will result either in an error or a different result.\n",
      "  b = a[a_slice]\n",
      "C:\\Users\\nile\\Anaconda3\\envs\\eeg\\lib\\site-packages\\scipy\\signal\\signaltools.py:3463: FutureWarning: Using a non-tuple sequence for multidimensional indexing is deprecated; use `arr[tuple(seq)]` instead of `arr[seq]`. In the future this will be interpreted as an array index, `arr[np.array(seq)]`, which will result either in an error or a different result.\n",
      "  return y[sl]\n"
     ]
    },
    {
     "name": "stdout",
     "output_type": "stream",
     "text": [
      "Selecting model: Models/ad11cf/experimental/Session2\\ad11cf_MI_classifier_2019-03-06-16-03-08.sav\n",
      "Selecting model: Models/ad11cf/experimental/Session2\\ad11cf_MI_classifier_2019-03-06-16-03-19.sav\n",
      "Selecting model: Models/ad11cf/experimental/Session2\\ad11cf_MI_classifier_TL_2019-03-06-16-03-20.sav\n",
      "Selecting BCI EEG file: SaveData/ad11cf/Session2\\20190222163652_ad11cf_BCI.easy\n",
      "Selecting BCI behavioral file: SaveData/ad11cf/Session2\\BCI_ad11cf_R5.csv\n",
      "Skipping N/A\n"
     ]
    },
    {
     "name": "stderr",
     "output_type": "stream",
     "text": [
      "C:\\Users\\nile\\Anaconda3\\envs\\eeg\\lib\\site-packages\\scipy\\signal\\_arraytools.py:45: FutureWarning: Using a non-tuple sequence for multidimensional indexing is deprecated; use `arr[tuple(seq)]` instead of `arr[seq]`. In the future this will be interpreted as an array index, `arr[np.array(seq)]`, which will result either in an error or a different result.\n",
      "  b = a[a_slice]\n",
      "C:\\Users\\nile\\Anaconda3\\envs\\eeg\\lib\\site-packages\\scipy\\signal\\signaltools.py:3463: FutureWarning: Using a non-tuple sequence for multidimensional indexing is deprecated; use `arr[tuple(seq)]` instead of `arr[seq]`. In the future this will be interpreted as an array index, `arr[np.array(seq)]`, which will result either in an error or a different result.\n",
      "  return y[sl]\n"
     ]
    },
    {
     "name": "stdout",
     "output_type": "stream",
     "text": [
      "Selecting model: Models/ad11cf/experimental/Session2\\ad11cf_MI_classifier_2019-03-06-16-03-08.sav\n",
      "Selecting model: Models/ad11cf/experimental/Session2\\ad11cf_MI_classifier_2019-03-06-16-03-23.sav\n",
      "Selecting model: Models/ad11cf/experimental/Session2\\ad11cf_MI_classifier_TL_2019-03-06-16-03-24.sav\n",
      "Selecting BCI EEG file: SaveData/ad11cf/Session3\\20190227091743_ad11cf_BCI.easy\n",
      "Selecting BCI behavioral file: SaveData/ad11cf/Session3\\BCI_ad11cf_R1.csv\n",
      "Skipping N/A\n"
     ]
    },
    {
     "name": "stderr",
     "output_type": "stream",
     "text": [
      "C:\\Users\\nile\\Anaconda3\\envs\\eeg\\lib\\site-packages\\scipy\\signal\\_arraytools.py:45: FutureWarning: Using a non-tuple sequence for multidimensional indexing is deprecated; use `arr[tuple(seq)]` instead of `arr[seq]`. In the future this will be interpreted as an array index, `arr[np.array(seq)]`, which will result either in an error or a different result.\n",
      "  b = a[a_slice]\n",
      "C:\\Users\\nile\\Anaconda3\\envs\\eeg\\lib\\site-packages\\scipy\\signal\\signaltools.py:3463: FutureWarning: Using a non-tuple sequence for multidimensional indexing is deprecated; use `arr[tuple(seq)]` instead of `arr[seq]`. In the future this will be interpreted as an array index, `arr[np.array(seq)]`, which will result either in an error or a different result.\n",
      "  return y[sl]\n"
     ]
    },
    {
     "name": "stdout",
     "output_type": "stream",
     "text": [
      "Selecting model: Models/ad11cf/experimental/Session3\\ad11cf_MI_classifier_2019-03-06-16-05-09.sav\n",
      "Selecting model: Models/ad11cf/experimental/Session3\\ad11cf_MI_classifier_2019-03-06-16-05-09.sav\n",
      "Selecting model: Models/ad11cf/experimental/Session3\\ad11cf_MI_classifier_2019-03-06-16-05-09.sav\n",
      "Selecting BCI EEG file: SaveData/ad11cf/Session3\\20190227092229_ad11cf_BCI.easy\n",
      "Selecting BCI behavioral file: SaveData/ad11cf/Session3\\BCI_ad11cf_R2.csv\n",
      "Skipping N/A\n"
     ]
    },
    {
     "name": "stderr",
     "output_type": "stream",
     "text": [
      "C:\\Users\\nile\\Anaconda3\\envs\\eeg\\lib\\site-packages\\scipy\\signal\\_arraytools.py:45: FutureWarning: Using a non-tuple sequence for multidimensional indexing is deprecated; use `arr[tuple(seq)]` instead of `arr[seq]`. In the future this will be interpreted as an array index, `arr[np.array(seq)]`, which will result either in an error or a different result.\n",
      "  b = a[a_slice]\n",
      "C:\\Users\\nile\\Anaconda3\\envs\\eeg\\lib\\site-packages\\scipy\\signal\\signaltools.py:3463: FutureWarning: Using a non-tuple sequence for multidimensional indexing is deprecated; use `arr[tuple(seq)]` instead of `arr[seq]`. In the future this will be interpreted as an array index, `arr[np.array(seq)]`, which will result either in an error or a different result.\n",
      "  return y[sl]\n"
     ]
    },
    {
     "name": "stdout",
     "output_type": "stream",
     "text": [
      "Selecting model: Models/ad11cf/experimental/Session3\\ad11cf_MI_classifier_2019-03-06-16-05-09.sav\n",
      "Selecting model: Models/ad11cf/experimental/Session3\\ad11cf_MI_classifier_2019-03-06-16-05-13.sav\n",
      "Selecting model: Models/ad11cf/experimental/Session3\\ad11cf_MI_classifier_TL_2019-03-06-16-05-13.sav\n",
      "Selecting BCI EEG file: SaveData/ad11cf/Session3\\20190227092713_ad11cf_BCI.easy\n",
      "Selecting BCI behavioral file: SaveData/ad11cf/Session3\\BCI_ad11cf_R3.csv\n",
      "Skipping N/A\n"
     ]
    },
    {
     "name": "stderr",
     "output_type": "stream",
     "text": [
      "C:\\Users\\nile\\Anaconda3\\envs\\eeg\\lib\\site-packages\\scipy\\signal\\_arraytools.py:45: FutureWarning: Using a non-tuple sequence for multidimensional indexing is deprecated; use `arr[tuple(seq)]` instead of `arr[seq]`. In the future this will be interpreted as an array index, `arr[np.array(seq)]`, which will result either in an error or a different result.\n",
      "  b = a[a_slice]\n",
      "C:\\Users\\nile\\Anaconda3\\envs\\eeg\\lib\\site-packages\\scipy\\signal\\signaltools.py:3463: FutureWarning: Using a non-tuple sequence for multidimensional indexing is deprecated; use `arr[tuple(seq)]` instead of `arr[seq]`. In the future this will be interpreted as an array index, `arr[np.array(seq)]`, which will result either in an error or a different result.\n",
      "  return y[sl]\n"
     ]
    },
    {
     "name": "stdout",
     "output_type": "stream",
     "text": [
      "Selecting model: Models/ad11cf/experimental/Session3\\ad11cf_MI_classifier_2019-03-06-16-05-09.sav\n",
      "Selecting model: Models/ad11cf/experimental/Session3\\ad11cf_MI_classifier_2019-03-06-16-05-16.sav\n",
      "Selecting model: Models/ad11cf/experimental/Session3\\ad11cf_MI_classifier_TL_2019-03-06-16-05-17.sav\n",
      "Selecting BCI EEG file: SaveData/ad11cf/Session3\\20190227093159_ad11cf_BCI.easy\n",
      "Selecting BCI behavioral file: SaveData/ad11cf/Session3\\BCI_ad11cf_R4.csv\n",
      "Skipping N/A\n"
     ]
    },
    {
     "name": "stderr",
     "output_type": "stream",
     "text": [
      "C:\\Users\\nile\\Anaconda3\\envs\\eeg\\lib\\site-packages\\scipy\\signal\\_arraytools.py:45: FutureWarning: Using a non-tuple sequence for multidimensional indexing is deprecated; use `arr[tuple(seq)]` instead of `arr[seq]`. In the future this will be interpreted as an array index, `arr[np.array(seq)]`, which will result either in an error or a different result.\n",
      "  b = a[a_slice]\n",
      "C:\\Users\\nile\\Anaconda3\\envs\\eeg\\lib\\site-packages\\scipy\\signal\\signaltools.py:3463: FutureWarning: Using a non-tuple sequence for multidimensional indexing is deprecated; use `arr[tuple(seq)]` instead of `arr[seq]`. In the future this will be interpreted as an array index, `arr[np.array(seq)]`, which will result either in an error or a different result.\n",
      "  return y[sl]\n"
     ]
    },
    {
     "name": "stdout",
     "output_type": "stream",
     "text": [
      "Selecting model: Models/ad11cf/experimental/Session3\\ad11cf_MI_classifier_2019-03-06-16-05-09.sav\n",
      "Selecting model: Models/ad11cf/experimental/Session3\\ad11cf_MI_classifier_2019-03-06-16-05-20.sav\n",
      "Selecting model: Models/ad11cf/experimental/Session3\\ad11cf_MI_classifier_TL_2019-03-06-16-05-21.sav\n",
      "Selecting BCI EEG file: SaveData/ad11cf/Session3\\20190227093708_ad11cf_BCI.easy\n",
      "Selecting BCI behavioral file: SaveData/ad11cf/Session3\\BCI_ad11cf_R5.csv\n",
      "Skipping N/A\n"
     ]
    },
    {
     "name": "stderr",
     "output_type": "stream",
     "text": [
      "C:\\Users\\nile\\Anaconda3\\envs\\eeg\\lib\\site-packages\\scipy\\signal\\_arraytools.py:45: FutureWarning: Using a non-tuple sequence for multidimensional indexing is deprecated; use `arr[tuple(seq)]` instead of `arr[seq]`. In the future this will be interpreted as an array index, `arr[np.array(seq)]`, which will result either in an error or a different result.\n",
      "  b = a[a_slice]\n",
      "C:\\Users\\nile\\Anaconda3\\envs\\eeg\\lib\\site-packages\\scipy\\signal\\signaltools.py:3463: FutureWarning: Using a non-tuple sequence for multidimensional indexing is deprecated; use `arr[tuple(seq)]` instead of `arr[seq]`. In the future this will be interpreted as an array index, `arr[np.array(seq)]`, which will result either in an error or a different result.\n",
      "  return y[sl]\n"
     ]
    },
    {
     "name": "stdout",
     "output_type": "stream",
     "text": [
      "Selecting model: Models/ad11cf/experimental/Session3\\ad11cf_MI_classifier_2019-03-06-16-05-09.sav\n",
      "Selecting model: Models/ad11cf/experimental/Session3\\ad11cf_MI_classifier_2019-03-06-16-05-24.sav\n",
      "Selecting model: Models/ad11cf/experimental/Session3\\ad11cf_MI_classifier_TL_2019-03-06-16-05-25.sav\n",
      "----------------------------------------------------\n",
      "Done storing values for ad11cf\n",
      "----------------------------------------------------\n",
      "Selecting BCI EEG file: SaveData/b7ff16/Session1\\20190207163753_b7ff16_BCI.easy\n",
      "Selecting BCI behavioral file: SaveData/b7ff16/Session1\\BCI_b7ff16_R1.csv\n",
      "Skipping N/A\n"
     ]
    },
    {
     "name": "stderr",
     "output_type": "stream",
     "text": [
      "C:\\Users\\nile\\Anaconda3\\envs\\eeg\\lib\\site-packages\\scipy\\signal\\_arraytools.py:45: FutureWarning: Using a non-tuple sequence for multidimensional indexing is deprecated; use `arr[tuple(seq)]` instead of `arr[seq]`. In the future this will be interpreted as an array index, `arr[np.array(seq)]`, which will result either in an error or a different result.\n",
      "  b = a[a_slice]\n",
      "C:\\Users\\nile\\Anaconda3\\envs\\eeg\\lib\\site-packages\\scipy\\signal\\signaltools.py:3463: FutureWarning: Using a non-tuple sequence for multidimensional indexing is deprecated; use `arr[tuple(seq)]` instead of `arr[seq]`. In the future this will be interpreted as an array index, `arr[np.array(seq)]`, which will result either in an error or a different result.\n",
      "  return y[sl]\n"
     ]
    },
    {
     "name": "stdout",
     "output_type": "stream",
     "text": [
      "Selecting model: Models/b7ff16/experimental/Session1\\b7ff16_MI_classifier_2019-03-07-09-35-47.sav\n",
      "Selecting model: Models/b7ff16/experimental/Session1\\b7ff16_MI_classifier_2019-03-07-09-35-47.sav\n",
      "Selecting model: Models/b7ff16/experimental/Session1\\b7ff16_MI_classifier_2019-03-07-09-35-47.sav\n",
      "Selecting BCI EEG file: SaveData/b7ff16/Session1\\20190207164347_b7ff16_BCI.easy\n",
      "Selecting BCI behavioral file: SaveData/b7ff16/Session1\\BCI_b7ff16_R2.csv\n",
      "Skipping N/A\n"
     ]
    },
    {
     "name": "stderr",
     "output_type": "stream",
     "text": [
      "C:\\Users\\nile\\Anaconda3\\envs\\eeg\\lib\\site-packages\\scipy\\signal\\_arraytools.py:45: FutureWarning: Using a non-tuple sequence for multidimensional indexing is deprecated; use `arr[tuple(seq)]` instead of `arr[seq]`. In the future this will be interpreted as an array index, `arr[np.array(seq)]`, which will result either in an error or a different result.\n",
      "  b = a[a_slice]\n",
      "C:\\Users\\nile\\Anaconda3\\envs\\eeg\\lib\\site-packages\\scipy\\signal\\signaltools.py:3463: FutureWarning: Using a non-tuple sequence for multidimensional indexing is deprecated; use `arr[tuple(seq)]` instead of `arr[seq]`. In the future this will be interpreted as an array index, `arr[np.array(seq)]`, which will result either in an error or a different result.\n",
      "  return y[sl]\n"
     ]
    },
    {
     "name": "stdout",
     "output_type": "stream",
     "text": [
      "Selecting model: Models/b7ff16/experimental/Session1\\b7ff16_MI_classifier_2019-03-07-09-35-51.sav\n",
      "Selecting model: Models/b7ff16/experimental/Session1\\b7ff16_MI_classifier_2019-03-07-09-35-47.sav\n",
      "Selecting model: Models/b7ff16/experimental/Session1\\b7ff16_MI_classifier_TL_2019-03-07-09-35-51.sav\n",
      "Selecting BCI EEG file: SaveData/b7ff16/Session1\\20190207164859_b7ff16_BCI.easy\n",
      "Selecting BCI behavioral file: SaveData/b7ff16/Session1\\BCI_b7ff16_R3.csv\n",
      "Skipping N/A\n"
     ]
    },
    {
     "name": "stderr",
     "output_type": "stream",
     "text": [
      "C:\\Users\\nile\\Anaconda3\\envs\\eeg\\lib\\site-packages\\scipy\\signal\\_arraytools.py:45: FutureWarning: Using a non-tuple sequence for multidimensional indexing is deprecated; use `arr[tuple(seq)]` instead of `arr[seq]`. In the future this will be interpreted as an array index, `arr[np.array(seq)]`, which will result either in an error or a different result.\n",
      "  b = a[a_slice]\n",
      "C:\\Users\\nile\\Anaconda3\\envs\\eeg\\lib\\site-packages\\scipy\\signal\\signaltools.py:3463: FutureWarning: Using a non-tuple sequence for multidimensional indexing is deprecated; use `arr[tuple(seq)]` instead of `arr[seq]`. In the future this will be interpreted as an array index, `arr[np.array(seq)]`, which will result either in an error or a different result.\n",
      "  return y[sl]\n"
     ]
    },
    {
     "name": "stdout",
     "output_type": "stream",
     "text": [
      "Selecting model: Models/b7ff16/experimental/Session1\\b7ff16_MI_classifier_2019-03-07-09-35-54.sav\n",
      "Selecting model: Models/b7ff16/experimental/Session1\\b7ff16_MI_classifier_2019-03-07-09-35-47.sav\n",
      "Selecting model: Models/b7ff16/experimental/Session1\\b7ff16_MI_classifier_TL_2019-03-07-09-35-56.sav\n",
      "Selecting BCI EEG file: SaveData/b7ff16/Session1\\20190207165403_b7ff16_BCI.easy\n",
      "Selecting BCI behavioral file: SaveData/b7ff16/Session1\\BCI_b7ff16_R4.csv\n",
      "Skipping N/A\n"
     ]
    },
    {
     "name": "stderr",
     "output_type": "stream",
     "text": [
      "C:\\Users\\nile\\Anaconda3\\envs\\eeg\\lib\\site-packages\\scipy\\signal\\_arraytools.py:45: FutureWarning: Using a non-tuple sequence for multidimensional indexing is deprecated; use `arr[tuple(seq)]` instead of `arr[seq]`. In the future this will be interpreted as an array index, `arr[np.array(seq)]`, which will result either in an error or a different result.\n",
      "  b = a[a_slice]\n",
      "C:\\Users\\nile\\Anaconda3\\envs\\eeg\\lib\\site-packages\\scipy\\signal\\signaltools.py:3463: FutureWarning: Using a non-tuple sequence for multidimensional indexing is deprecated; use `arr[tuple(seq)]` instead of `arr[seq]`. In the future this will be interpreted as an array index, `arr[np.array(seq)]`, which will result either in an error or a different result.\n",
      "  return y[sl]\n"
     ]
    },
    {
     "name": "stdout",
     "output_type": "stream",
     "text": [
      "Selecting model: Models/b7ff16/experimental/Session1\\b7ff16_MI_classifier_2019-03-07-09-35-58.sav\n",
      "Selecting model: Models/b7ff16/experimental/Session1\\b7ff16_MI_classifier_2019-03-07-09-35-47.sav\n",
      "Selecting model: Models/b7ff16/experimental/Session1\\b7ff16_MI_classifier_TL_2019-03-07-09-36-00.sav\n",
      "Selecting BCI EEG file: SaveData/b7ff16/Session1\\20190207165849_b7ff16_BCI.easy\n",
      "Selecting BCI behavioral file: SaveData/b7ff16/Session1\\BCI_b7ff16_R5.csv\n",
      "Skipping N/A\n"
     ]
    },
    {
     "name": "stderr",
     "output_type": "stream",
     "text": [
      "C:\\Users\\nile\\Anaconda3\\envs\\eeg\\lib\\site-packages\\scipy\\signal\\_arraytools.py:45: FutureWarning: Using a non-tuple sequence for multidimensional indexing is deprecated; use `arr[tuple(seq)]` instead of `arr[seq]`. In the future this will be interpreted as an array index, `arr[np.array(seq)]`, which will result either in an error or a different result.\n",
      "  b = a[a_slice]\n",
      "C:\\Users\\nile\\Anaconda3\\envs\\eeg\\lib\\site-packages\\scipy\\signal\\signaltools.py:3463: FutureWarning: Using a non-tuple sequence for multidimensional indexing is deprecated; use `arr[tuple(seq)]` instead of `arr[seq]`. In the future this will be interpreted as an array index, `arr[np.array(seq)]`, which will result either in an error or a different result.\n",
      "  return y[sl]\n"
     ]
    },
    {
     "name": "stdout",
     "output_type": "stream",
     "text": [
      "Selecting model: Models/b7ff16/experimental/Session1\\b7ff16_MI_classifier_2019-03-07-09-36-03.sav\n",
      "Selecting model: Models/b7ff16/experimental/Session1\\b7ff16_MI_classifier_2019-03-07-09-35-47.sav\n",
      "Selecting model: Models/b7ff16/experimental/Session1\\b7ff16_MI_classifier_TL_2019-03-07-09-36-04.sav\n",
      "Selecting BCI EEG file: SaveData/b7ff16/Session2\\20190226144836_b7ff16_BCI.easy\n",
      "Selecting BCI behavioral file: SaveData/b7ff16/Session2\\BCI_b7ff16_R1.csv\n",
      "Skipping N/A\n"
     ]
    },
    {
     "name": "stderr",
     "output_type": "stream",
     "text": [
      "C:\\Users\\nile\\Anaconda3\\envs\\eeg\\lib\\site-packages\\scipy\\signal\\_arraytools.py:45: FutureWarning: Using a non-tuple sequence for multidimensional indexing is deprecated; use `arr[tuple(seq)]` instead of `arr[seq]`. In the future this will be interpreted as an array index, `arr[np.array(seq)]`, which will result either in an error or a different result.\n",
      "  b = a[a_slice]\n",
      "C:\\Users\\nile\\Anaconda3\\envs\\eeg\\lib\\site-packages\\scipy\\signal\\signaltools.py:3463: FutureWarning: Using a non-tuple sequence for multidimensional indexing is deprecated; use `arr[tuple(seq)]` instead of `arr[seq]`. In the future this will be interpreted as an array index, `arr[np.array(seq)]`, which will result either in an error or a different result.\n",
      "  return y[sl]\n"
     ]
    },
    {
     "name": "stdout",
     "output_type": "stream",
     "text": [
      "Selecting model: Models/b7ff16/experimental/Session2\\b7ff16_MI_classifier_2019-03-07-09-37-54.sav\n",
      "Selecting model: Models/b7ff16/experimental/Session2\\b7ff16_MI_classifier_2019-03-07-09-37-54.sav\n",
      "Selecting model: Models/b7ff16/experimental/Session2\\b7ff16_MI_classifier_2019-03-07-09-37-54.sav\n",
      "Selecting BCI EEG file: SaveData/b7ff16/Session2\\20190226145330_b7ff16_BCI.easy\n",
      "Selecting BCI behavioral file: SaveData/b7ff16/Session2\\BCI_b7ff16_R2.csv\n",
      "Skipping N/A\n"
     ]
    },
    {
     "name": "stderr",
     "output_type": "stream",
     "text": [
      "C:\\Users\\nile\\Anaconda3\\envs\\eeg\\lib\\site-packages\\scipy\\signal\\_arraytools.py:45: FutureWarning: Using a non-tuple sequence for multidimensional indexing is deprecated; use `arr[tuple(seq)]` instead of `arr[seq]`. In the future this will be interpreted as an array index, `arr[np.array(seq)]`, which will result either in an error or a different result.\n",
      "  b = a[a_slice]\n",
      "C:\\Users\\nile\\Anaconda3\\envs\\eeg\\lib\\site-packages\\scipy\\signal\\signaltools.py:3463: FutureWarning: Using a non-tuple sequence for multidimensional indexing is deprecated; use `arr[tuple(seq)]` instead of `arr[seq]`. In the future this will be interpreted as an array index, `arr[np.array(seq)]`, which will result either in an error or a different result.\n",
      "  return y[sl]\n"
     ]
    },
    {
     "name": "stdout",
     "output_type": "stream",
     "text": [
      "Selecting model: Models/b7ff16/experimental/Session2\\b7ff16_MI_classifier_2019-03-07-09-37-58.sav\n",
      "Selecting model: Models/b7ff16/experimental/Session2\\b7ff16_MI_classifier_2019-03-07-09-37-54.sav\n",
      "Selecting model: Models/b7ff16/experimental/Session2\\b7ff16_MI_classifier_TL_2019-03-07-09-37-58.sav\n",
      "Selecting BCI EEG file: SaveData/b7ff16/Session2\\20190226145850_b7ff16_BCI.easy\n",
      "Selecting BCI behavioral file: SaveData/b7ff16/Session2\\BCI_b7ff16_R3.csv\n",
      "Skipping N/A\n"
     ]
    },
    {
     "name": "stderr",
     "output_type": "stream",
     "text": [
      "C:\\Users\\nile\\Anaconda3\\envs\\eeg\\lib\\site-packages\\scipy\\signal\\_arraytools.py:45: FutureWarning: Using a non-tuple sequence for multidimensional indexing is deprecated; use `arr[tuple(seq)]` instead of `arr[seq]`. In the future this will be interpreted as an array index, `arr[np.array(seq)]`, which will result either in an error or a different result.\n",
      "  b = a[a_slice]\n",
      "C:\\Users\\nile\\Anaconda3\\envs\\eeg\\lib\\site-packages\\scipy\\signal\\signaltools.py:3463: FutureWarning: Using a non-tuple sequence for multidimensional indexing is deprecated; use `arr[tuple(seq)]` instead of `arr[seq]`. In the future this will be interpreted as an array index, `arr[np.array(seq)]`, which will result either in an error or a different result.\n",
      "  return y[sl]\n"
     ]
    },
    {
     "name": "stdout",
     "output_type": "stream",
     "text": [
      "Selecting model: Models/b7ff16/experimental/Session2\\b7ff16_MI_classifier_2019-03-07-09-38-01.sav\n",
      "Selecting model: Models/b7ff16/experimental/Session2\\b7ff16_MI_classifier_2019-03-07-09-37-54.sav\n",
      "Selecting model: Models/b7ff16/experimental/Session2\\b7ff16_MI_classifier_TL_2019-03-07-09-38-03.sav\n",
      "Selecting BCI EEG file: SaveData/b7ff16/Session2\\20190226150409_b7ff16_BCI.easy\n",
      "Selecting BCI behavioral file: SaveData/b7ff16/Session2\\BCI_b7ff16_R4.csv\n",
      "Skipping N/A\n"
     ]
    },
    {
     "name": "stderr",
     "output_type": "stream",
     "text": [
      "C:\\Users\\nile\\Anaconda3\\envs\\eeg\\lib\\site-packages\\scipy\\signal\\_arraytools.py:45: FutureWarning: Using a non-tuple sequence for multidimensional indexing is deprecated; use `arr[tuple(seq)]` instead of `arr[seq]`. In the future this will be interpreted as an array index, `arr[np.array(seq)]`, which will result either in an error or a different result.\n",
      "  b = a[a_slice]\n",
      "C:\\Users\\nile\\Anaconda3\\envs\\eeg\\lib\\site-packages\\scipy\\signal\\signaltools.py:3463: FutureWarning: Using a non-tuple sequence for multidimensional indexing is deprecated; use `arr[tuple(seq)]` instead of `arr[seq]`. In the future this will be interpreted as an array index, `arr[np.array(seq)]`, which will result either in an error or a different result.\n",
      "  return y[sl]\n"
     ]
    },
    {
     "name": "stdout",
     "output_type": "stream",
     "text": [
      "Selecting model: Models/b7ff16/experimental/Session2\\b7ff16_MI_classifier_2019-03-07-09-38-06.sav\n",
      "Selecting model: Models/b7ff16/experimental/Session2\\b7ff16_MI_classifier_2019-03-07-09-37-54.sav\n",
      "Selecting model: Models/b7ff16/experimental/Session2\\b7ff16_MI_classifier_TL_2019-03-07-09-38-07.sav\n",
      "Selecting BCI EEG file: SaveData/b7ff16/Session2\\20190226150923_b7ff16_BCI.easy\n",
      "Selecting BCI behavioral file: SaveData/b7ff16/Session2\\BCI_b7ff16_R5.csv\n",
      "Skipping N/A\n"
     ]
    },
    {
     "name": "stderr",
     "output_type": "stream",
     "text": [
      "C:\\Users\\nile\\Anaconda3\\envs\\eeg\\lib\\site-packages\\scipy\\signal\\_arraytools.py:45: FutureWarning: Using a non-tuple sequence for multidimensional indexing is deprecated; use `arr[tuple(seq)]` instead of `arr[seq]`. In the future this will be interpreted as an array index, `arr[np.array(seq)]`, which will result either in an error or a different result.\n",
      "  b = a[a_slice]\n",
      "C:\\Users\\nile\\Anaconda3\\envs\\eeg\\lib\\site-packages\\scipy\\signal\\signaltools.py:3463: FutureWarning: Using a non-tuple sequence for multidimensional indexing is deprecated; use `arr[tuple(seq)]` instead of `arr[seq]`. In the future this will be interpreted as an array index, `arr[np.array(seq)]`, which will result either in an error or a different result.\n",
      "  return y[sl]\n"
     ]
    },
    {
     "name": "stdout",
     "output_type": "stream",
     "text": [
      "Selecting model: Models/b7ff16/experimental/Session2\\b7ff16_MI_classifier_2019-03-07-09-38-11.sav\n",
      "Selecting model: Models/b7ff16/experimental/Session2\\b7ff16_MI_classifier_2019-03-07-09-37-54.sav\n",
      "Selecting model: Models/b7ff16/experimental/Session2\\b7ff16_MI_classifier_TL_2019-03-07-09-38-12.sav\n",
      "Selecting BCI EEG file: SaveData/b7ff16/Session3\\20190228091607_b7ff16_BCI.easy\n",
      "Selecting BCI behavioral file: SaveData/b7ff16/Session3\\BCI_b7ff16_R1.csv\n",
      "Skipping N/A\n"
     ]
    },
    {
     "name": "stderr",
     "output_type": "stream",
     "text": [
      "C:\\Users\\nile\\Anaconda3\\envs\\eeg\\lib\\site-packages\\scipy\\signal\\_arraytools.py:45: FutureWarning: Using a non-tuple sequence for multidimensional indexing is deprecated; use `arr[tuple(seq)]` instead of `arr[seq]`. In the future this will be interpreted as an array index, `arr[np.array(seq)]`, which will result either in an error or a different result.\n",
      "  b = a[a_slice]\n",
      "C:\\Users\\nile\\Anaconda3\\envs\\eeg\\lib\\site-packages\\scipy\\signal\\signaltools.py:3463: FutureWarning: Using a non-tuple sequence for multidimensional indexing is deprecated; use `arr[tuple(seq)]` instead of `arr[seq]`. In the future this will be interpreted as an array index, `arr[np.array(seq)]`, which will result either in an error or a different result.\n",
      "  return y[sl]\n"
     ]
    },
    {
     "name": "stdout",
     "output_type": "stream",
     "text": [
      "Selecting model: Models/b7ff16/experimental/Session3\\b7ff16_MI_classifier_2019-03-07-09-40-02.sav\n",
      "Selecting model: Models/b7ff16/experimental/Session3\\b7ff16_MI_classifier_2019-03-07-09-40-02.sav\n",
      "Selecting model: Models/b7ff16/experimental/Session3\\b7ff16_MI_classifier_2019-03-07-09-40-02.sav\n",
      "Selecting BCI EEG file: SaveData/b7ff16/Session3\\20190228092046_b7ff16_BCI.easy\n",
      "Selecting BCI behavioral file: SaveData/b7ff16/Session3\\BCI_b7ff16_R2.csv\n",
      "Skipping N/A\n"
     ]
    },
    {
     "name": "stderr",
     "output_type": "stream",
     "text": [
      "C:\\Users\\nile\\Anaconda3\\envs\\eeg\\lib\\site-packages\\scipy\\signal\\_arraytools.py:45: FutureWarning: Using a non-tuple sequence for multidimensional indexing is deprecated; use `arr[tuple(seq)]` instead of `arr[seq]`. In the future this will be interpreted as an array index, `arr[np.array(seq)]`, which will result either in an error or a different result.\n",
      "  b = a[a_slice]\n",
      "C:\\Users\\nile\\Anaconda3\\envs\\eeg\\lib\\site-packages\\scipy\\signal\\signaltools.py:3463: FutureWarning: Using a non-tuple sequence for multidimensional indexing is deprecated; use `arr[tuple(seq)]` instead of `arr[seq]`. In the future this will be interpreted as an array index, `arr[np.array(seq)]`, which will result either in an error or a different result.\n",
      "  return y[sl]\n"
     ]
    },
    {
     "name": "stdout",
     "output_type": "stream",
     "text": [
      "Selecting model: Models/b7ff16/experimental/Session3\\b7ff16_MI_classifier_2019-03-07-09-40-06.sav\n",
      "Selecting model: Models/b7ff16/experimental/Session3\\b7ff16_MI_classifier_2019-03-07-09-40-02.sav\n",
      "Selecting model: Models/b7ff16/experimental/Session3\\b7ff16_MI_classifier_TL_2019-03-07-09-40-06.sav\n",
      "Selecting BCI EEG file: SaveData/b7ff16/Session3\\20190228092535_b7ff16_BCI.easy\n",
      "Selecting BCI behavioral file: SaveData/b7ff16/Session3\\BCI_b7ff16_R3.csv\n",
      "Skipping N/A\n"
     ]
    },
    {
     "name": "stderr",
     "output_type": "stream",
     "text": [
      "C:\\Users\\nile\\Anaconda3\\envs\\eeg\\lib\\site-packages\\scipy\\signal\\_arraytools.py:45: FutureWarning: Using a non-tuple sequence for multidimensional indexing is deprecated; use `arr[tuple(seq)]` instead of `arr[seq]`. In the future this will be interpreted as an array index, `arr[np.array(seq)]`, which will result either in an error or a different result.\n",
      "  b = a[a_slice]\n",
      "C:\\Users\\nile\\Anaconda3\\envs\\eeg\\lib\\site-packages\\scipy\\signal\\signaltools.py:3463: FutureWarning: Using a non-tuple sequence for multidimensional indexing is deprecated; use `arr[tuple(seq)]` instead of `arr[seq]`. In the future this will be interpreted as an array index, `arr[np.array(seq)]`, which will result either in an error or a different result.\n",
      "  return y[sl]\n"
     ]
    },
    {
     "name": "stdout",
     "output_type": "stream",
     "text": [
      "Selecting model: Models/b7ff16/experimental/Session3\\b7ff16_MI_classifier_2019-03-07-09-40-09.sav\n",
      "Selecting model: Models/b7ff16/experimental/Session3\\b7ff16_MI_classifier_2019-03-07-09-40-02.sav\n",
      "Selecting model: Models/b7ff16/experimental/Session3\\b7ff16_MI_classifier_TL_2019-03-07-09-40-11.sav\n",
      "Selecting BCI EEG file: SaveData/b7ff16/Session3\\20190228093024_b7ff16_BCI.easy\n",
      "Selecting BCI behavioral file: SaveData/b7ff16/Session3\\BCI_b7ff16_R4.csv\n",
      "Skipping N/A\n"
     ]
    },
    {
     "name": "stderr",
     "output_type": "stream",
     "text": [
      "C:\\Users\\nile\\Anaconda3\\envs\\eeg\\lib\\site-packages\\scipy\\signal\\_arraytools.py:45: FutureWarning: Using a non-tuple sequence for multidimensional indexing is deprecated; use `arr[tuple(seq)]` instead of `arr[seq]`. In the future this will be interpreted as an array index, `arr[np.array(seq)]`, which will result either in an error or a different result.\n",
      "  b = a[a_slice]\n",
      "C:\\Users\\nile\\Anaconda3\\envs\\eeg\\lib\\site-packages\\scipy\\signal\\signaltools.py:3463: FutureWarning: Using a non-tuple sequence for multidimensional indexing is deprecated; use `arr[tuple(seq)]` instead of `arr[seq]`. In the future this will be interpreted as an array index, `arr[np.array(seq)]`, which will result either in an error or a different result.\n",
      "  return y[sl]\n"
     ]
    },
    {
     "name": "stdout",
     "output_type": "stream",
     "text": [
      "Selecting model: Models/b7ff16/experimental/Session3\\b7ff16_MI_classifier_2019-03-07-09-40-13.sav\n",
      "Selecting model: Models/b7ff16/experimental/Session3\\b7ff16_MI_classifier_2019-03-07-09-40-02.sav\n",
      "Selecting model: Models/b7ff16/experimental/Session3\\b7ff16_MI_classifier_TL_2019-03-07-09-40-15.sav\n",
      "Selecting BCI EEG file: SaveData/b7ff16/Session3\\20190228093513_b7ff16_BCI.easy\n",
      "Selecting BCI behavioral file: SaveData/b7ff16/Session3\\BCI_b7ff16_R5.csv\n",
      "Skipping N/A\n"
     ]
    },
    {
     "name": "stderr",
     "output_type": "stream",
     "text": [
      "C:\\Users\\nile\\Anaconda3\\envs\\eeg\\lib\\site-packages\\scipy\\signal\\_arraytools.py:45: FutureWarning: Using a non-tuple sequence for multidimensional indexing is deprecated; use `arr[tuple(seq)]` instead of `arr[seq]`. In the future this will be interpreted as an array index, `arr[np.array(seq)]`, which will result either in an error or a different result.\n",
      "  b = a[a_slice]\n",
      "C:\\Users\\nile\\Anaconda3\\envs\\eeg\\lib\\site-packages\\scipy\\signal\\signaltools.py:3463: FutureWarning: Using a non-tuple sequence for multidimensional indexing is deprecated; use `arr[tuple(seq)]` instead of `arr[seq]`. In the future this will be interpreted as an array index, `arr[np.array(seq)]`, which will result either in an error or a different result.\n",
      "  return y[sl]\n"
     ]
    },
    {
     "name": "stdout",
     "output_type": "stream",
     "text": [
      "Selecting model: Models/b7ff16/experimental/Session3\\b7ff16_MI_classifier_2019-03-07-09-40-17.sav\n",
      "Selecting model: Models/b7ff16/experimental/Session3\\b7ff16_MI_classifier_2019-03-07-09-40-02.sav\n",
      "Selecting model: Models/b7ff16/experimental/Session3\\b7ff16_MI_classifier_TL_2019-03-07-09-40-19.sav\n",
      "----------------------------------------------------\n",
      "Done storing values for b7ff16\n",
      "----------------------------------------------------\n",
      "Selecting BCI EEG file: SaveData/42feb7/Session1\\20190305133127_42feb7_BCI.easy\n",
      "Selecting BCI behavioral file: SaveData/42feb7/Session1\\BCI_42feb7_R1.csv\n",
      "Skipping N/A\n"
     ]
    },
    {
     "name": "stderr",
     "output_type": "stream",
     "text": [
      "C:\\Users\\nile\\Anaconda3\\envs\\eeg\\lib\\site-packages\\scipy\\signal\\_arraytools.py:45: FutureWarning: Using a non-tuple sequence for multidimensional indexing is deprecated; use `arr[tuple(seq)]` instead of `arr[seq]`. In the future this will be interpreted as an array index, `arr[np.array(seq)]`, which will result either in an error or a different result.\n",
      "  b = a[a_slice]\n",
      "C:\\Users\\nile\\Anaconda3\\envs\\eeg\\lib\\site-packages\\scipy\\signal\\signaltools.py:3463: FutureWarning: Using a non-tuple sequence for multidimensional indexing is deprecated; use `arr[tuple(seq)]` instead of `arr[seq]`. In the future this will be interpreted as an array index, `arr[np.array(seq)]`, which will result either in an error or a different result.\n",
      "  return y[sl]\n"
     ]
    },
    {
     "name": "stdout",
     "output_type": "stream",
     "text": [
      "Selecting model: Models/42feb7/experimental/Session1\\42feb7_MI_classifier_2019-03-15-10-25-19.sav\n",
      "Selecting model: Models/42feb7/experimental/Session1\\42feb7_MI_classifier_2019-03-15-10-25-19.sav\n",
      "Selecting model: Models/42feb7/experimental/Session1\\42feb7_MI_classifier_2019-03-15-10-25-19.sav\n",
      "Selecting BCI EEG file: SaveData/42feb7/Session1\\20190305133646_42feb7_BCI.easy\n",
      "Selecting BCI behavioral file: SaveData/42feb7/Session1\\BCI_42feb7_R2.csv\n",
      "Skipping N/A\n"
     ]
    },
    {
     "name": "stderr",
     "output_type": "stream",
     "text": [
      "C:\\Users\\nile\\Anaconda3\\envs\\eeg\\lib\\site-packages\\scipy\\signal\\_arraytools.py:45: FutureWarning: Using a non-tuple sequence for multidimensional indexing is deprecated; use `arr[tuple(seq)]` instead of `arr[seq]`. In the future this will be interpreted as an array index, `arr[np.array(seq)]`, which will result either in an error or a different result.\n",
      "  b = a[a_slice]\n",
      "C:\\Users\\nile\\Anaconda3\\envs\\eeg\\lib\\site-packages\\scipy\\signal\\signaltools.py:3463: FutureWarning: Using a non-tuple sequence for multidimensional indexing is deprecated; use `arr[tuple(seq)]` instead of `arr[seq]`. In the future this will be interpreted as an array index, `arr[np.array(seq)]`, which will result either in an error or a different result.\n",
      "  return y[sl]\n"
     ]
    },
    {
     "name": "stdout",
     "output_type": "stream",
     "text": [
      "Selecting model: Models/42feb7/experimental/Session1\\42feb7_MI_classifier_2019-03-15-10-25-23.sav\n",
      "Selecting model: Models/42feb7/experimental/Session1\\42feb7_MI_classifier_2019-03-15-10-25-19.sav\n",
      "Selecting model: Models/42feb7/experimental/Session1\\42feb7_MI_classifier_TL_2019-03-15-10-25-24.sav\n",
      "Selecting BCI EEG file: SaveData/42feb7/Session1\\20190305134224_42feb7_BCI.easy\n",
      "Selecting BCI behavioral file: SaveData/42feb7/Session1\\BCI_42feb7_R3.csv\n",
      "Skipping N/A\n"
     ]
    },
    {
     "name": "stderr",
     "output_type": "stream",
     "text": [
      "C:\\Users\\nile\\Anaconda3\\envs\\eeg\\lib\\site-packages\\scipy\\signal\\_arraytools.py:45: FutureWarning: Using a non-tuple sequence for multidimensional indexing is deprecated; use `arr[tuple(seq)]` instead of `arr[seq]`. In the future this will be interpreted as an array index, `arr[np.array(seq)]`, which will result either in an error or a different result.\n",
      "  b = a[a_slice]\n",
      "C:\\Users\\nile\\Anaconda3\\envs\\eeg\\lib\\site-packages\\scipy\\signal\\signaltools.py:3463: FutureWarning: Using a non-tuple sequence for multidimensional indexing is deprecated; use `arr[tuple(seq)]` instead of `arr[seq]`. In the future this will be interpreted as an array index, `arr[np.array(seq)]`, which will result either in an error or a different result.\n",
      "  return y[sl]\n"
     ]
    },
    {
     "name": "stdout",
     "output_type": "stream",
     "text": [
      "Selecting model: Models/42feb7/experimental/Session1\\42feb7_MI_classifier_2019-03-15-10-25-26.sav\n",
      "Selecting model: Models/42feb7/experimental/Session1\\42feb7_MI_classifier_2019-03-15-10-25-19.sav\n",
      "Selecting model: Models/42feb7/experimental/Session1\\42feb7_MI_classifier_TL_2019-03-15-10-25-28.sav\n",
      "Selecting BCI EEG file: SaveData/42feb7/Session1\\20190305134736_42feb7_BCI.easy\n",
      "Selecting BCI behavioral file: SaveData/42feb7/Session1\\BCI_42feb7_R4.csv\n",
      "Skipping N/A\n"
     ]
    },
    {
     "name": "stderr",
     "output_type": "stream",
     "text": [
      "C:\\Users\\nile\\Anaconda3\\envs\\eeg\\lib\\site-packages\\scipy\\signal\\_arraytools.py:45: FutureWarning: Using a non-tuple sequence for multidimensional indexing is deprecated; use `arr[tuple(seq)]` instead of `arr[seq]`. In the future this will be interpreted as an array index, `arr[np.array(seq)]`, which will result either in an error or a different result.\n",
      "  b = a[a_slice]\n",
      "C:\\Users\\nile\\Anaconda3\\envs\\eeg\\lib\\site-packages\\scipy\\signal\\signaltools.py:3463: FutureWarning: Using a non-tuple sequence for multidimensional indexing is deprecated; use `arr[tuple(seq)]` instead of `arr[seq]`. In the future this will be interpreted as an array index, `arr[np.array(seq)]`, which will result either in an error or a different result.\n",
      "  return y[sl]\n"
     ]
    },
    {
     "name": "stdout",
     "output_type": "stream",
     "text": [
      "Selecting model: Models/42feb7/experimental/Session1\\42feb7_MI_classifier_2019-03-15-10-25-31.sav\n",
      "Selecting model: Models/42feb7/experimental/Session1\\42feb7_MI_classifier_2019-03-15-10-25-19.sav\n",
      "Selecting model: Models/42feb7/experimental/Session1\\42feb7_MI_classifier_TL_2019-03-15-10-25-32.sav\n",
      "Selecting BCI EEG file: SaveData/42feb7/Session1\\20190305135304_42feb7_BCI.easy\n",
      "Selecting BCI behavioral file: SaveData/42feb7/Session1\\BCI_42feb7_R5.csv\n",
      "Skipping N/A\n"
     ]
    },
    {
     "name": "stderr",
     "output_type": "stream",
     "text": [
      "C:\\Users\\nile\\Anaconda3\\envs\\eeg\\lib\\site-packages\\scipy\\signal\\_arraytools.py:45: FutureWarning: Using a non-tuple sequence for multidimensional indexing is deprecated; use `arr[tuple(seq)]` instead of `arr[seq]`. In the future this will be interpreted as an array index, `arr[np.array(seq)]`, which will result either in an error or a different result.\n",
      "  b = a[a_slice]\n",
      "C:\\Users\\nile\\Anaconda3\\envs\\eeg\\lib\\site-packages\\scipy\\signal\\signaltools.py:3463: FutureWarning: Using a non-tuple sequence for multidimensional indexing is deprecated; use `arr[tuple(seq)]` instead of `arr[seq]`. In the future this will be interpreted as an array index, `arr[np.array(seq)]`, which will result either in an error or a different result.\n",
      "  return y[sl]\n"
     ]
    },
    {
     "name": "stdout",
     "output_type": "stream",
     "text": [
      "Selecting model: Models/42feb7/experimental/Session1\\42feb7_MI_classifier_2019-03-15-10-25-35.sav\n",
      "Selecting model: Models/42feb7/experimental/Session1\\42feb7_MI_classifier_2019-03-15-10-25-19.sav\n",
      "Selecting model: Models/42feb7/experimental/Session1\\42feb7_MI_classifier_TL_2019-03-15-10-25-36.sav\n",
      "Selecting BCI EEG file: SaveData/42feb7/Session2\\20190308104520_42feb7_BCI.easy\n",
      "Selecting BCI behavioral file: SaveData/42feb7/Session2\\BCI_42feb7_R1.csv\n",
      "Skipping N/A\n"
     ]
    },
    {
     "name": "stderr",
     "output_type": "stream",
     "text": [
      "C:\\Users\\nile\\Anaconda3\\envs\\eeg\\lib\\site-packages\\scipy\\signal\\_arraytools.py:45: FutureWarning: Using a non-tuple sequence for multidimensional indexing is deprecated; use `arr[tuple(seq)]` instead of `arr[seq]`. In the future this will be interpreted as an array index, `arr[np.array(seq)]`, which will result either in an error or a different result.\n",
      "  b = a[a_slice]\n",
      "C:\\Users\\nile\\Anaconda3\\envs\\eeg\\lib\\site-packages\\scipy\\signal\\signaltools.py:3463: FutureWarning: Using a non-tuple sequence for multidimensional indexing is deprecated; use `arr[tuple(seq)]` instead of `arr[seq]`. In the future this will be interpreted as an array index, `arr[np.array(seq)]`, which will result either in an error or a different result.\n",
      "  return y[sl]\n"
     ]
    },
    {
     "name": "stdout",
     "output_type": "stream",
     "text": [
      "Selecting model: Models/42feb7/experimental/Session2\\42feb7_MI_classifier_2019-03-15-10-27-18.sav\n",
      "Selecting model: Models/42feb7/experimental/Session2\\42feb7_MI_classifier_2019-03-15-10-27-18.sav\n",
      "Selecting model: Models/42feb7/experimental/Session2\\42feb7_MI_classifier_2019-03-15-10-27-18.sav\n",
      "Selecting BCI EEG file: SaveData/42feb7/Session2\\20190308105038_42feb7_BCI.easy\n",
      "Selecting BCI behavioral file: SaveData/42feb7/Session2\\BCI_42feb7_R2.csv\n",
      "Skipping N/A\n"
     ]
    },
    {
     "name": "stderr",
     "output_type": "stream",
     "text": [
      "C:\\Users\\nile\\Anaconda3\\envs\\eeg\\lib\\site-packages\\scipy\\signal\\_arraytools.py:45: FutureWarning: Using a non-tuple sequence for multidimensional indexing is deprecated; use `arr[tuple(seq)]` instead of `arr[seq]`. In the future this will be interpreted as an array index, `arr[np.array(seq)]`, which will result either in an error or a different result.\n",
      "  b = a[a_slice]\n",
      "C:\\Users\\nile\\Anaconda3\\envs\\eeg\\lib\\site-packages\\scipy\\signal\\signaltools.py:3463: FutureWarning: Using a non-tuple sequence for multidimensional indexing is deprecated; use `arr[tuple(seq)]` instead of `arr[seq]`. In the future this will be interpreted as an array index, `arr[np.array(seq)]`, which will result either in an error or a different result.\n",
      "  return y[sl]\n"
     ]
    },
    {
     "name": "stdout",
     "output_type": "stream",
     "text": [
      "Selecting model: Models/42feb7/experimental/Session2\\42feb7_MI_classifier_2019-03-15-10-27-22.sav\n",
      "Selecting model: Models/42feb7/experimental/Session2\\42feb7_MI_classifier_2019-03-15-10-27-18.sav\n",
      "Selecting model: Models/42feb7/experimental/Session2\\42feb7_MI_classifier_TL_2019-03-15-10-27-22.sav\n",
      "Selecting BCI EEG file: SaveData/42feb7/Session2\\20190308105545_42feb7_BCI.easy\n",
      "Selecting BCI behavioral file: SaveData/42feb7/Session2\\BCI_42feb7_R3.csv\n",
      "Skipping N/A\n"
     ]
    },
    {
     "name": "stderr",
     "output_type": "stream",
     "text": [
      "C:\\Users\\nile\\Anaconda3\\envs\\eeg\\lib\\site-packages\\scipy\\signal\\_arraytools.py:45: FutureWarning: Using a non-tuple sequence for multidimensional indexing is deprecated; use `arr[tuple(seq)]` instead of `arr[seq]`. In the future this will be interpreted as an array index, `arr[np.array(seq)]`, which will result either in an error or a different result.\n",
      "  b = a[a_slice]\n",
      "C:\\Users\\nile\\Anaconda3\\envs\\eeg\\lib\\site-packages\\scipy\\signal\\signaltools.py:3463: FutureWarning: Using a non-tuple sequence for multidimensional indexing is deprecated; use `arr[tuple(seq)]` instead of `arr[seq]`. In the future this will be interpreted as an array index, `arr[np.array(seq)]`, which will result either in an error or a different result.\n",
      "  return y[sl]\n"
     ]
    },
    {
     "name": "stdout",
     "output_type": "stream",
     "text": [
      "Selecting model: Models/42feb7/experimental/Session2\\42feb7_MI_classifier_2019-03-15-10-27-25.sav\n",
      "Selecting model: Models/42feb7/experimental/Session2\\42feb7_MI_classifier_2019-03-15-10-27-18.sav\n",
      "Selecting model: Models/42feb7/experimental/Session2\\42feb7_MI_classifier_TL_2019-03-15-10-27-26.sav\n",
      "Selecting BCI EEG file: SaveData/42feb7/Session2\\20190308110050_42feb7_BCI.easy\n",
      "Selecting BCI behavioral file: SaveData/42feb7/Session2\\BCI_42feb7_R4.csv\n",
      "Skipping N/A\n"
     ]
    },
    {
     "name": "stderr",
     "output_type": "stream",
     "text": [
      "C:\\Users\\nile\\Anaconda3\\envs\\eeg\\lib\\site-packages\\scipy\\signal\\_arraytools.py:45: FutureWarning: Using a non-tuple sequence for multidimensional indexing is deprecated; use `arr[tuple(seq)]` instead of `arr[seq]`. In the future this will be interpreted as an array index, `arr[np.array(seq)]`, which will result either in an error or a different result.\n",
      "  b = a[a_slice]\n",
      "C:\\Users\\nile\\Anaconda3\\envs\\eeg\\lib\\site-packages\\scipy\\signal\\signaltools.py:3463: FutureWarning: Using a non-tuple sequence for multidimensional indexing is deprecated; use `arr[tuple(seq)]` instead of `arr[seq]`. In the future this will be interpreted as an array index, `arr[np.array(seq)]`, which will result either in an error or a different result.\n",
      "  return y[sl]\n"
     ]
    },
    {
     "name": "stdout",
     "output_type": "stream",
     "text": [
      "Selecting model: Models/42feb7/experimental/Session2\\42feb7_MI_classifier_2019-03-15-10-27-29.sav\n",
      "Selecting model: Models/42feb7/experimental/Session2\\42feb7_MI_classifier_2019-03-15-10-27-18.sav\n",
      "Selecting model: Models/42feb7/experimental/Session2\\42feb7_MI_classifier_TL_2019-03-15-10-27-31.sav\n",
      "Selecting BCI EEG file: SaveData/42feb7/Session2\\20190308110621_42feb7_BCI.easy\n",
      "Selecting BCI behavioral file: SaveData/42feb7/Session2\\BCI_42feb7_R5.csv\n",
      "Skipping N/A\n"
     ]
    },
    {
     "name": "stderr",
     "output_type": "stream",
     "text": [
      "C:\\Users\\nile\\Anaconda3\\envs\\eeg\\lib\\site-packages\\scipy\\signal\\_arraytools.py:45: FutureWarning: Using a non-tuple sequence for multidimensional indexing is deprecated; use `arr[tuple(seq)]` instead of `arr[seq]`. In the future this will be interpreted as an array index, `arr[np.array(seq)]`, which will result either in an error or a different result.\n",
      "  b = a[a_slice]\n",
      "C:\\Users\\nile\\Anaconda3\\envs\\eeg\\lib\\site-packages\\scipy\\signal\\signaltools.py:3463: FutureWarning: Using a non-tuple sequence for multidimensional indexing is deprecated; use `arr[tuple(seq)]` instead of `arr[seq]`. In the future this will be interpreted as an array index, `arr[np.array(seq)]`, which will result either in an error or a different result.\n",
      "  return y[sl]\n"
     ]
    },
    {
     "name": "stdout",
     "output_type": "stream",
     "text": [
      "Selecting model: Models/42feb7/experimental/Session2\\42feb7_MI_classifier_2019-03-15-10-27-34.sav\n",
      "Selecting model: Models/42feb7/experimental/Session2\\42feb7_MI_classifier_2019-03-15-10-27-18.sav\n",
      "Selecting model: Models/42feb7/experimental/Session2\\42feb7_MI_classifier_TL_2019-03-15-10-27-35.sav\n",
      "Selecting BCI EEG file: SaveData/42feb7/Session3\\20190312132405_42feb7_BCI.easy\n",
      "Selecting BCI behavioral file: SaveData/42feb7/Session3\\BCI_42feb7_R1.csv\n",
      "Skipping N/A\n"
     ]
    },
    {
     "name": "stderr",
     "output_type": "stream",
     "text": [
      "C:\\Users\\nile\\Anaconda3\\envs\\eeg\\lib\\site-packages\\scipy\\signal\\_arraytools.py:45: FutureWarning: Using a non-tuple sequence for multidimensional indexing is deprecated; use `arr[tuple(seq)]` instead of `arr[seq]`. In the future this will be interpreted as an array index, `arr[np.array(seq)]`, which will result either in an error or a different result.\n",
      "  b = a[a_slice]\n",
      "C:\\Users\\nile\\Anaconda3\\envs\\eeg\\lib\\site-packages\\scipy\\signal\\signaltools.py:3463: FutureWarning: Using a non-tuple sequence for multidimensional indexing is deprecated; use `arr[tuple(seq)]` instead of `arr[seq]`. In the future this will be interpreted as an array index, `arr[np.array(seq)]`, which will result either in an error or a different result.\n",
      "  return y[sl]\n"
     ]
    },
    {
     "name": "stdout",
     "output_type": "stream",
     "text": [
      "Selecting model: Models/42feb7/experimental/Session3\\42feb7_MI_classifier_2019-03-15-10-29-05.sav\n",
      "Selecting model: Models/42feb7/experimental/Session3\\42feb7_MI_classifier_2019-03-15-10-29-05.sav\n",
      "Selecting model: Models/42feb7/experimental/Session3\\42feb7_MI_classifier_2019-03-15-10-29-05.sav\n",
      "Selecting BCI EEG file: SaveData/42feb7/Session3\\20190312132857_42feb7_BCI.easy\n",
      "Selecting BCI behavioral file: SaveData/42feb7/Session3\\BCI_42feb7_R2.csv\n",
      "Skipping N/A\n"
     ]
    },
    {
     "name": "stderr",
     "output_type": "stream",
     "text": [
      "C:\\Users\\nile\\Anaconda3\\envs\\eeg\\lib\\site-packages\\scipy\\signal\\_arraytools.py:45: FutureWarning: Using a non-tuple sequence for multidimensional indexing is deprecated; use `arr[tuple(seq)]` instead of `arr[seq]`. In the future this will be interpreted as an array index, `arr[np.array(seq)]`, which will result either in an error or a different result.\n",
      "  b = a[a_slice]\n",
      "C:\\Users\\nile\\Anaconda3\\envs\\eeg\\lib\\site-packages\\scipy\\signal\\signaltools.py:3463: FutureWarning: Using a non-tuple sequence for multidimensional indexing is deprecated; use `arr[tuple(seq)]` instead of `arr[seq]`. In the future this will be interpreted as an array index, `arr[np.array(seq)]`, which will result either in an error or a different result.\n",
      "  return y[sl]\n"
     ]
    },
    {
     "name": "stdout",
     "output_type": "stream",
     "text": [
      "Selecting model: Models/42feb7/experimental/Session3\\42feb7_MI_classifier_2019-03-15-10-29-08.sav\n",
      "Selecting model: Models/42feb7/experimental/Session3\\42feb7_MI_classifier_2019-03-15-10-29-05.sav\n",
      "Selecting model: Models/42feb7/experimental/Session3\\42feb7_MI_classifier_TL_2019-03-15-10-29-09.sav\n",
      "Selecting BCI EEG file: SaveData/42feb7/Session3\\20190312133352_42feb7_BCI.easy\n",
      "Selecting BCI behavioral file: SaveData/42feb7/Session3\\BCI_42feb7_R3.csv\n",
      "Skipping N/A\n"
     ]
    },
    {
     "name": "stderr",
     "output_type": "stream",
     "text": [
      "C:\\Users\\nile\\Anaconda3\\envs\\eeg\\lib\\site-packages\\scipy\\signal\\_arraytools.py:45: FutureWarning: Using a non-tuple sequence for multidimensional indexing is deprecated; use `arr[tuple(seq)]` instead of `arr[seq]`. In the future this will be interpreted as an array index, `arr[np.array(seq)]`, which will result either in an error or a different result.\n",
      "  b = a[a_slice]\n",
      "C:\\Users\\nile\\Anaconda3\\envs\\eeg\\lib\\site-packages\\scipy\\signal\\signaltools.py:3463: FutureWarning: Using a non-tuple sequence for multidimensional indexing is deprecated; use `arr[tuple(seq)]` instead of `arr[seq]`. In the future this will be interpreted as an array index, `arr[np.array(seq)]`, which will result either in an error or a different result.\n",
      "  return y[sl]\n"
     ]
    },
    {
     "name": "stdout",
     "output_type": "stream",
     "text": [
      "Selecting model: Models/42feb7/experimental/Session3\\42feb7_MI_classifier_2019-03-15-10-29-11.sav\n",
      "Selecting model: Models/42feb7/experimental/Session3\\42feb7_MI_classifier_2019-03-15-10-29-05.sav\n",
      "Selecting model: Models/42feb7/experimental/Session3\\42feb7_MI_classifier_TL_2019-03-15-10-29-13.sav\n",
      "Selecting BCI EEG file: SaveData/42feb7/Session3\\20190312133859_42feb7_BCI.easy\n",
      "Selecting BCI behavioral file: SaveData/42feb7/Session3\\BCI_42feb7_R4.csv\n",
      "Skipping N/A\n"
     ]
    },
    {
     "name": "stderr",
     "output_type": "stream",
     "text": [
      "C:\\Users\\nile\\Anaconda3\\envs\\eeg\\lib\\site-packages\\scipy\\signal\\_arraytools.py:45: FutureWarning: Using a non-tuple sequence for multidimensional indexing is deprecated; use `arr[tuple(seq)]` instead of `arr[seq]`. In the future this will be interpreted as an array index, `arr[np.array(seq)]`, which will result either in an error or a different result.\n",
      "  b = a[a_slice]\n",
      "C:\\Users\\nile\\Anaconda3\\envs\\eeg\\lib\\site-packages\\scipy\\signal\\signaltools.py:3463: FutureWarning: Using a non-tuple sequence for multidimensional indexing is deprecated; use `arr[tuple(seq)]` instead of `arr[seq]`. In the future this will be interpreted as an array index, `arr[np.array(seq)]`, which will result either in an error or a different result.\n",
      "  return y[sl]\n"
     ]
    },
    {
     "name": "stdout",
     "output_type": "stream",
     "text": [
      "Selecting model: Models/42feb7/experimental/Session3\\42feb7_MI_classifier_2019-03-15-10-29-15.sav\n",
      "Selecting model: Models/42feb7/experimental/Session3\\42feb7_MI_classifier_2019-03-15-10-29-05.sav\n",
      "Selecting model: Models/42feb7/experimental/Session3\\42feb7_MI_classifier_TL_2019-03-15-10-29-17.sav\n",
      "Selecting BCI EEG file: SaveData/42feb7/Session3\\20190312134404_42feb7_BCI.easy\n",
      "Selecting BCI behavioral file: SaveData/42feb7/Session3\\BCI_42feb7_R5.csv\n",
      "Skipping N/A\n"
     ]
    },
    {
     "name": "stderr",
     "output_type": "stream",
     "text": [
      "C:\\Users\\nile\\Anaconda3\\envs\\eeg\\lib\\site-packages\\scipy\\signal\\_arraytools.py:45: FutureWarning: Using a non-tuple sequence for multidimensional indexing is deprecated; use `arr[tuple(seq)]` instead of `arr[seq]`. In the future this will be interpreted as an array index, `arr[np.array(seq)]`, which will result either in an error or a different result.\n",
      "  b = a[a_slice]\n",
      "C:\\Users\\nile\\Anaconda3\\envs\\eeg\\lib\\site-packages\\scipy\\signal\\signaltools.py:3463: FutureWarning: Using a non-tuple sequence for multidimensional indexing is deprecated; use `arr[tuple(seq)]` instead of `arr[seq]`. In the future this will be interpreted as an array index, `arr[np.array(seq)]`, which will result either in an error or a different result.\n",
      "  return y[sl]\n"
     ]
    },
    {
     "name": "stdout",
     "output_type": "stream",
     "text": [
      "Selecting model: Models/42feb7/experimental/Session3\\42feb7_MI_classifier_2019-03-15-10-29-20.sav\n",
      "Selecting model: Models/42feb7/experimental/Session3\\42feb7_MI_classifier_2019-03-15-10-29-05.sav\n",
      "Selecting model: Models/42feb7/experimental/Session3\\42feb7_MI_classifier_TL_2019-03-15-10-29-21.sav\n",
      "----------------------------------------------------\n",
      "Done storing values for 42feb7\n",
      "----------------------------------------------------\n",
      "Selecting BCI EEG file: SaveData/9d4921/Session1\\20190219150337_9d4921_BCI.easy\n",
      "Selecting BCI behavioral file: SaveData/9d4921/Session1\\BCI_9d4921_R1.csv\n",
      "Skipping N/A\n"
     ]
    },
    {
     "name": "stderr",
     "output_type": "stream",
     "text": [
      "C:\\Users\\nile\\Anaconda3\\envs\\eeg\\lib\\site-packages\\scipy\\signal\\_arraytools.py:45: FutureWarning: Using a non-tuple sequence for multidimensional indexing is deprecated; use `arr[tuple(seq)]` instead of `arr[seq]`. In the future this will be interpreted as an array index, `arr[np.array(seq)]`, which will result either in an error or a different result.\n",
      "  b = a[a_slice]\n",
      "C:\\Users\\nile\\Anaconda3\\envs\\eeg\\lib\\site-packages\\scipy\\signal\\signaltools.py:3463: FutureWarning: Using a non-tuple sequence for multidimensional indexing is deprecated; use `arr[tuple(seq)]` instead of `arr[seq]`. In the future this will be interpreted as an array index, `arr[np.array(seq)]`, which will result either in an error or a different result.\n",
      "  return y[sl]\n"
     ]
    },
    {
     "name": "stdout",
     "output_type": "stream",
     "text": [
      "Selecting model: Models/9d4921/experimental/Session1\\9d4921_MI_classifier_2019-03-22-12-27-44.sav\n",
      "Selecting model: Models/9d4921/experimental/Session1\\9d4921_MI_classifier_2019-03-22-12-27-44.sav\n",
      "Selecting model: Models/9d4921/experimental/Session1\\9d4921_MI_classifier_2019-03-22-12-27-44.sav\n",
      "Selecting BCI EEG file: SaveData/9d4921/Session1\\20190219150853_9d4921_BCI.easy\n",
      "Selecting BCI behavioral file: SaveData/9d4921/Session1\\BCI_9d4921_R2.csv\n",
      "Skipping N/A\n"
     ]
    },
    {
     "name": "stderr",
     "output_type": "stream",
     "text": [
      "C:\\Users\\nile\\Anaconda3\\envs\\eeg\\lib\\site-packages\\scipy\\signal\\_arraytools.py:45: FutureWarning: Using a non-tuple sequence for multidimensional indexing is deprecated; use `arr[tuple(seq)]` instead of `arr[seq]`. In the future this will be interpreted as an array index, `arr[np.array(seq)]`, which will result either in an error or a different result.\n",
      "  b = a[a_slice]\n",
      "C:\\Users\\nile\\Anaconda3\\envs\\eeg\\lib\\site-packages\\scipy\\signal\\signaltools.py:3463: FutureWarning: Using a non-tuple sequence for multidimensional indexing is deprecated; use `arr[tuple(seq)]` instead of `arr[seq]`. In the future this will be interpreted as an array index, `arr[np.array(seq)]`, which will result either in an error or a different result.\n",
      "  return y[sl]\n"
     ]
    },
    {
     "name": "stdout",
     "output_type": "stream",
     "text": [
      "Selecting model: Models/9d4921/experimental/Session1\\9d4921_MI_classifier_2019-03-22-12-27-48.sav\n",
      "Selecting model: Models/9d4921/experimental/Session1\\9d4921_MI_classifier_2019-03-22-12-27-44.sav\n",
      "Selecting model: Models/9d4921/experimental/Session1\\9d4921_MI_classifier_TL_2019-03-22-12-27-48.sav\n",
      "Selecting BCI EEG file: SaveData/9d4921/Session1\\20190219151351_9d4921_BCI.easy\n",
      "Selecting BCI behavioral file: SaveData/9d4921/Session1\\BCI_9d4921_R3.csv\n",
      "Skipping N/A\n"
     ]
    },
    {
     "name": "stderr",
     "output_type": "stream",
     "text": [
      "C:\\Users\\nile\\Anaconda3\\envs\\eeg\\lib\\site-packages\\scipy\\signal\\_arraytools.py:45: FutureWarning: Using a non-tuple sequence for multidimensional indexing is deprecated; use `arr[tuple(seq)]` instead of `arr[seq]`. In the future this will be interpreted as an array index, `arr[np.array(seq)]`, which will result either in an error or a different result.\n",
      "  b = a[a_slice]\n",
      "C:\\Users\\nile\\Anaconda3\\envs\\eeg\\lib\\site-packages\\scipy\\signal\\signaltools.py:3463: FutureWarning: Using a non-tuple sequence for multidimensional indexing is deprecated; use `arr[tuple(seq)]` instead of `arr[seq]`. In the future this will be interpreted as an array index, `arr[np.array(seq)]`, which will result either in an error or a different result.\n",
      "  return y[sl]\n"
     ]
    },
    {
     "name": "stdout",
     "output_type": "stream",
     "text": [
      "Selecting model: Models/9d4921/experimental/Session1\\9d4921_MI_classifier_2019-03-22-12-27-51.sav\n",
      "Selecting model: Models/9d4921/experimental/Session1\\9d4921_MI_classifier_2019-03-22-12-27-44.sav\n",
      "Selecting model: Models/9d4921/experimental/Session1\\9d4921_MI_classifier_TL_2019-03-22-12-27-52.sav\n",
      "Selecting BCI EEG file: SaveData/9d4921/Session1\\20190219151917_9d4921_BCI.easy\n",
      "Selecting BCI behavioral file: SaveData/9d4921/Session1\\BCI_9d4921_R4.csv\n",
      "Skipping N/A\n"
     ]
    },
    {
     "name": "stderr",
     "output_type": "stream",
     "text": [
      "C:\\Users\\nile\\Anaconda3\\envs\\eeg\\lib\\site-packages\\scipy\\signal\\_arraytools.py:45: FutureWarning: Using a non-tuple sequence for multidimensional indexing is deprecated; use `arr[tuple(seq)]` instead of `arr[seq]`. In the future this will be interpreted as an array index, `arr[np.array(seq)]`, which will result either in an error or a different result.\n",
      "  b = a[a_slice]\n",
      "C:\\Users\\nile\\Anaconda3\\envs\\eeg\\lib\\site-packages\\scipy\\signal\\signaltools.py:3463: FutureWarning: Using a non-tuple sequence for multidimensional indexing is deprecated; use `arr[tuple(seq)]` instead of `arr[seq]`. In the future this will be interpreted as an array index, `arr[np.array(seq)]`, which will result either in an error or a different result.\n",
      "  return y[sl]\n"
     ]
    },
    {
     "name": "stdout",
     "output_type": "stream",
     "text": [
      "Selecting model: Models/9d4921/experimental/Session1\\9d4921_MI_classifier_2019-03-22-12-27-55.sav\n",
      "Selecting model: Models/9d4921/experimental/Session1\\9d4921_MI_classifier_2019-03-22-12-27-44.sav\n",
      "Selecting model: Models/9d4921/experimental/Session1\\9d4921_MI_classifier_TL_2019-03-22-12-27-57.sav\n",
      "Selecting BCI EEG file: SaveData/9d4921/Session1\\20190219152428_9d4921_BCI.easy\n",
      "Selecting BCI behavioral file: SaveData/9d4921/Session1\\BCI_9d4921_R5.csv\n",
      "Skipping N/A\n"
     ]
    },
    {
     "name": "stderr",
     "output_type": "stream",
     "text": [
      "C:\\Users\\nile\\Anaconda3\\envs\\eeg\\lib\\site-packages\\scipy\\signal\\_arraytools.py:45: FutureWarning: Using a non-tuple sequence for multidimensional indexing is deprecated; use `arr[tuple(seq)]` instead of `arr[seq]`. In the future this will be interpreted as an array index, `arr[np.array(seq)]`, which will result either in an error or a different result.\n",
      "  b = a[a_slice]\n",
      "C:\\Users\\nile\\Anaconda3\\envs\\eeg\\lib\\site-packages\\scipy\\signal\\signaltools.py:3463: FutureWarning: Using a non-tuple sequence for multidimensional indexing is deprecated; use `arr[tuple(seq)]` instead of `arr[seq]`. In the future this will be interpreted as an array index, `arr[np.array(seq)]`, which will result either in an error or a different result.\n",
      "  return y[sl]\n"
     ]
    },
    {
     "name": "stdout",
     "output_type": "stream",
     "text": [
      "Selecting model: Models/9d4921/experimental/Session1\\9d4921_MI_classifier_2019-03-22-12-27-59.sav\n",
      "Selecting model: Models/9d4921/experimental/Session1\\9d4921_MI_classifier_2019-03-22-12-27-44.sav\n",
      "Selecting model: Models/9d4921/experimental/Session1\\9d4921_MI_classifier_TL_2019-03-22-12-28-01.sav\n",
      "Selecting BCI EEG file: SaveData/9d4921/Session2\\20190305144409_9d4921_BCI.easy\n",
      "Selecting BCI behavioral file: SaveData/9d4921/Session2\\BCI_9d4921_R1.csv\n",
      "Skipping N/A\n"
     ]
    },
    {
     "name": "stderr",
     "output_type": "stream",
     "text": [
      "C:\\Users\\nile\\Anaconda3\\envs\\eeg\\lib\\site-packages\\scipy\\signal\\_arraytools.py:45: FutureWarning: Using a non-tuple sequence for multidimensional indexing is deprecated; use `arr[tuple(seq)]` instead of `arr[seq]`. In the future this will be interpreted as an array index, `arr[np.array(seq)]`, which will result either in an error or a different result.\n",
      "  b = a[a_slice]\n",
      "C:\\Users\\nile\\Anaconda3\\envs\\eeg\\lib\\site-packages\\scipy\\signal\\signaltools.py:3463: FutureWarning: Using a non-tuple sequence for multidimensional indexing is deprecated; use `arr[tuple(seq)]` instead of `arr[seq]`. In the future this will be interpreted as an array index, `arr[np.array(seq)]`, which will result either in an error or a different result.\n",
      "  return y[sl]\n"
     ]
    },
    {
     "name": "stdout",
     "output_type": "stream",
     "text": [
      "Selecting model: Models/9d4921/experimental/Session2\\9d4921_MI_classifier_2019-03-06-13-43-24.sav\n",
      "Selecting model: Models/9d4921/experimental/Session2\\9d4921_MI_classifier_2019-03-06-13-43-24.sav\n",
      "Selecting model: Models/9d4921/experimental/Session2\\9d4921_MI_classifier_2019-03-06-13-43-24.sav\n",
      "Selecting BCI EEG file: SaveData/9d4921/Session2\\20190305145005_9d4921_BCI.easy\n",
      "Selecting BCI behavioral file: SaveData/9d4921/Session2\\BCI_9d4921_R2.csv\n",
      "Skipping N/A\n"
     ]
    },
    {
     "name": "stderr",
     "output_type": "stream",
     "text": [
      "C:\\Users\\nile\\Anaconda3\\envs\\eeg\\lib\\site-packages\\scipy\\signal\\_arraytools.py:45: FutureWarning: Using a non-tuple sequence for multidimensional indexing is deprecated; use `arr[tuple(seq)]` instead of `arr[seq]`. In the future this will be interpreted as an array index, `arr[np.array(seq)]`, which will result either in an error or a different result.\n",
      "  b = a[a_slice]\n",
      "C:\\Users\\nile\\Anaconda3\\envs\\eeg\\lib\\site-packages\\scipy\\signal\\signaltools.py:3463: FutureWarning: Using a non-tuple sequence for multidimensional indexing is deprecated; use `arr[tuple(seq)]` instead of `arr[seq]`. In the future this will be interpreted as an array index, `arr[np.array(seq)]`, which will result either in an error or a different result.\n",
      "  return y[sl]\n"
     ]
    },
    {
     "name": "stdout",
     "output_type": "stream",
     "text": [
      "Selecting model: Models/9d4921/experimental/Session2\\9d4921_MI_classifier_2019-03-06-13-50-29.sav\n",
      "Selecting model: Models/9d4921/experimental/Session2\\9d4921_MI_classifier_2019-03-06-13-43-24.sav\n",
      "Selecting model: Models/9d4921/experimental/Session2\\9d4921_MI_classifier_TL_2019-03-06-13-50-30.sav\n",
      "Selecting BCI EEG file: SaveData/9d4921/Session2\\20190305145534_9d4921_BCI.easy\n",
      "Selecting BCI behavioral file: SaveData/9d4921/Session2\\BCI_9d4921_R3.csv\n",
      "Skipping N/A\n"
     ]
    },
    {
     "name": "stderr",
     "output_type": "stream",
     "text": [
      "C:\\Users\\nile\\Anaconda3\\envs\\eeg\\lib\\site-packages\\scipy\\signal\\_arraytools.py:45: FutureWarning: Using a non-tuple sequence for multidimensional indexing is deprecated; use `arr[tuple(seq)]` instead of `arr[seq]`. In the future this will be interpreted as an array index, `arr[np.array(seq)]`, which will result either in an error or a different result.\n",
      "  b = a[a_slice]\n",
      "C:\\Users\\nile\\Anaconda3\\envs\\eeg\\lib\\site-packages\\scipy\\signal\\signaltools.py:3463: FutureWarning: Using a non-tuple sequence for multidimensional indexing is deprecated; use `arr[tuple(seq)]` instead of `arr[seq]`. In the future this will be interpreted as an array index, `arr[np.array(seq)]`, which will result either in an error or a different result.\n",
      "  return y[sl]\n"
     ]
    },
    {
     "name": "stdout",
     "output_type": "stream",
     "text": [
      "Selecting model: Models/9d4921/experimental/Session2\\9d4921_MI_classifier_2019-03-06-13-50-32.sav\n",
      "Selecting model: Models/9d4921/experimental/Session2\\9d4921_MI_classifier_2019-03-06-13-43-24.sav\n",
      "Selecting model: Models/9d4921/experimental/Session2\\9d4921_MI_classifier_TL_2019-03-06-13-50-33.sav\n",
      "Selecting BCI EEG file: SaveData/9d4921/Session2\\20190305150100_9d4921_BCI.easy\n",
      "Selecting BCI behavioral file: SaveData/9d4921/Session2\\BCI_9d4921_R4.csv\n",
      "Skipping N/A\n"
     ]
    },
    {
     "name": "stderr",
     "output_type": "stream",
     "text": [
      "C:\\Users\\nile\\Anaconda3\\envs\\eeg\\lib\\site-packages\\scipy\\signal\\_arraytools.py:45: FutureWarning: Using a non-tuple sequence for multidimensional indexing is deprecated; use `arr[tuple(seq)]` instead of `arr[seq]`. In the future this will be interpreted as an array index, `arr[np.array(seq)]`, which will result either in an error or a different result.\n",
      "  b = a[a_slice]\n",
      "C:\\Users\\nile\\Anaconda3\\envs\\eeg\\lib\\site-packages\\scipy\\signal\\signaltools.py:3463: FutureWarning: Using a non-tuple sequence for multidimensional indexing is deprecated; use `arr[tuple(seq)]` instead of `arr[seq]`. In the future this will be interpreted as an array index, `arr[np.array(seq)]`, which will result either in an error or a different result.\n",
      "  return y[sl]\n"
     ]
    },
    {
     "name": "stdout",
     "output_type": "stream",
     "text": [
      "Selecting model: Models/9d4921/experimental/Session2\\9d4921_MI_classifier_2019-03-06-13-50-36.sav\n",
      "Selecting model: Models/9d4921/experimental/Session2\\9d4921_MI_classifier_2019-03-06-13-43-24.sav\n",
      "Selecting model: Models/9d4921/experimental/Session2\\9d4921_MI_classifier_TL_2019-03-06-13-50-37.sav\n",
      "Selecting BCI EEG file: SaveData/9d4921/Session2\\20190305150623_9d4921_BCI.easy\n",
      "Selecting BCI behavioral file: SaveData/9d4921/Session2\\BCI_9d4921_R5.csv\n",
      "Skipping N/A\n"
     ]
    },
    {
     "name": "stderr",
     "output_type": "stream",
     "text": [
      "C:\\Users\\nile\\Anaconda3\\envs\\eeg\\lib\\site-packages\\scipy\\signal\\_arraytools.py:45: FutureWarning: Using a non-tuple sequence for multidimensional indexing is deprecated; use `arr[tuple(seq)]` instead of `arr[seq]`. In the future this will be interpreted as an array index, `arr[np.array(seq)]`, which will result either in an error or a different result.\n",
      "  b = a[a_slice]\n",
      "C:\\Users\\nile\\Anaconda3\\envs\\eeg\\lib\\site-packages\\scipy\\signal\\signaltools.py:3463: FutureWarning: Using a non-tuple sequence for multidimensional indexing is deprecated; use `arr[tuple(seq)]` instead of `arr[seq]`. In the future this will be interpreted as an array index, `arr[np.array(seq)]`, which will result either in an error or a different result.\n",
      "  return y[sl]\n"
     ]
    },
    {
     "name": "stdout",
     "output_type": "stream",
     "text": [
      "Selecting model: Models/9d4921/experimental/Session2\\9d4921_MI_classifier_2019-03-06-13-50-40.sav\n",
      "Selecting model: Models/9d4921/experimental/Session2\\9d4921_MI_classifier_2019-03-06-13-43-24.sav\n",
      "Selecting model: Models/9d4921/experimental/Session2\\9d4921_MI_classifier_TL_2019-03-06-13-50-42.sav\n",
      "Selecting BCI EEG file: SaveData/9d4921/Session3\\20190307144119_9d4921_BCI.easy\n",
      "Selecting BCI behavioral file: SaveData/9d4921/Session3\\BCI_9d4921_R1.csv\n",
      "Skipping N/A\n"
     ]
    },
    {
     "name": "stderr",
     "output_type": "stream",
     "text": [
      "C:\\Users\\nile\\Anaconda3\\envs\\eeg\\lib\\site-packages\\scipy\\signal\\_arraytools.py:45: FutureWarning: Using a non-tuple sequence for multidimensional indexing is deprecated; use `arr[tuple(seq)]` instead of `arr[seq]`. In the future this will be interpreted as an array index, `arr[np.array(seq)]`, which will result either in an error or a different result.\n",
      "  b = a[a_slice]\n",
      "C:\\Users\\nile\\Anaconda3\\envs\\eeg\\lib\\site-packages\\scipy\\signal\\signaltools.py:3463: FutureWarning: Using a non-tuple sequence for multidimensional indexing is deprecated; use `arr[tuple(seq)]` instead of `arr[seq]`. In the future this will be interpreted as an array index, `arr[np.array(seq)]`, which will result either in an error or a different result.\n",
      "  return y[sl]\n"
     ]
    },
    {
     "name": "stdout",
     "output_type": "stream",
     "text": [
      "Selecting model: Models/9d4921/experimental/Session3\\9d4921_MI_classifier_2019-03-22-12-31-11.sav\n",
      "Selecting model: Models/9d4921/experimental/Session3\\9d4921_MI_classifier_2019-03-22-12-31-11.sav\n",
      "Selecting model: Models/9d4921/experimental/Session3\\9d4921_MI_classifier_2019-03-22-12-31-11.sav\n",
      "Selecting BCI EEG file: SaveData/9d4921/Session3\\20190307144702_9d4921_BCI.easy\n",
      "Selecting BCI behavioral file: SaveData/9d4921/Session3\\BCI_9d4921_R2.csv\n",
      "Skipping N/A\n"
     ]
    },
    {
     "name": "stderr",
     "output_type": "stream",
     "text": [
      "C:\\Users\\nile\\Anaconda3\\envs\\eeg\\lib\\site-packages\\scipy\\signal\\_arraytools.py:45: FutureWarning: Using a non-tuple sequence for multidimensional indexing is deprecated; use `arr[tuple(seq)]` instead of `arr[seq]`. In the future this will be interpreted as an array index, `arr[np.array(seq)]`, which will result either in an error or a different result.\n",
      "  b = a[a_slice]\n",
      "C:\\Users\\nile\\Anaconda3\\envs\\eeg\\lib\\site-packages\\scipy\\signal\\signaltools.py:3463: FutureWarning: Using a non-tuple sequence for multidimensional indexing is deprecated; use `arr[tuple(seq)]` instead of `arr[seq]`. In the future this will be interpreted as an array index, `arr[np.array(seq)]`, which will result either in an error or a different result.\n",
      "  return y[sl]\n"
     ]
    },
    {
     "name": "stdout",
     "output_type": "stream",
     "text": [
      "Selecting model: Models/9d4921/experimental/Session3\\9d4921_MI_classifier_2019-03-22-12-31-15.sav\n",
      "Selecting model: Models/9d4921/experimental/Session3\\9d4921_MI_classifier_2019-03-22-12-31-11.sav\n",
      "Selecting model: Models/9d4921/experimental/Session3\\9d4921_MI_classifier_TL_2019-03-22-12-31-15.sav\n",
      "Selecting BCI EEG file: SaveData/9d4921/Session3\\20190307145323_9d4921_BCI.easy\n",
      "Selecting BCI behavioral file: SaveData/9d4921/Session3\\BCI_9d4921_R3.csv\n",
      "Skipping N/A\n"
     ]
    },
    {
     "name": "stderr",
     "output_type": "stream",
     "text": [
      "C:\\Users\\nile\\Anaconda3\\envs\\eeg\\lib\\site-packages\\scipy\\signal\\_arraytools.py:45: FutureWarning: Using a non-tuple sequence for multidimensional indexing is deprecated; use `arr[tuple(seq)]` instead of `arr[seq]`. In the future this will be interpreted as an array index, `arr[np.array(seq)]`, which will result either in an error or a different result.\n",
      "  b = a[a_slice]\n",
      "C:\\Users\\nile\\Anaconda3\\envs\\eeg\\lib\\site-packages\\scipy\\signal\\signaltools.py:3463: FutureWarning: Using a non-tuple sequence for multidimensional indexing is deprecated; use `arr[tuple(seq)]` instead of `arr[seq]`. In the future this will be interpreted as an array index, `arr[np.array(seq)]`, which will result either in an error or a different result.\n",
      "  return y[sl]\n"
     ]
    },
    {
     "name": "stdout",
     "output_type": "stream",
     "text": [
      "Selecting model: Models/9d4921/experimental/Session3\\9d4921_MI_classifier_2019-03-22-12-31-18.sav\n",
      "Selecting model: Models/9d4921/experimental/Session3\\9d4921_MI_classifier_2019-03-22-12-31-11.sav\n",
      "Selecting model: Models/9d4921/experimental/Session3\\9d4921_MI_classifier_TL_2019-03-22-12-31-19.sav\n",
      "Selecting BCI EEG file: SaveData/9d4921/Session3\\20190307145915_9d4921_BCI.easy\n",
      "Selecting BCI behavioral file: SaveData/9d4921/Session3\\BCI_9d4921_R4.csv\n",
      "Skipping N/A\n"
     ]
    },
    {
     "name": "stderr",
     "output_type": "stream",
     "text": [
      "C:\\Users\\nile\\Anaconda3\\envs\\eeg\\lib\\site-packages\\scipy\\signal\\_arraytools.py:45: FutureWarning: Using a non-tuple sequence for multidimensional indexing is deprecated; use `arr[tuple(seq)]` instead of `arr[seq]`. In the future this will be interpreted as an array index, `arr[np.array(seq)]`, which will result either in an error or a different result.\n",
      "  b = a[a_slice]\n",
      "C:\\Users\\nile\\Anaconda3\\envs\\eeg\\lib\\site-packages\\scipy\\signal\\signaltools.py:3463: FutureWarning: Using a non-tuple sequence for multidimensional indexing is deprecated; use `arr[tuple(seq)]` instead of `arr[seq]`. In the future this will be interpreted as an array index, `arr[np.array(seq)]`, which will result either in an error or a different result.\n",
      "  return y[sl]\n"
     ]
    },
    {
     "name": "stdout",
     "output_type": "stream",
     "text": [
      "Selecting model: Models/9d4921/experimental/Session3\\9d4921_MI_classifier_2019-03-22-12-31-22.sav\n",
      "Selecting model: Models/9d4921/experimental/Session3\\9d4921_MI_classifier_2019-03-22-12-31-11.sav\n",
      "Selecting model: Models/9d4921/experimental/Session3\\9d4921_MI_classifier_TL_2019-03-22-12-31-23.sav\n",
      "Selecting BCI EEG file: SaveData/9d4921/Session3\\20190307150447_9d4921_BCI.easy\n",
      "Selecting BCI behavioral file: SaveData/9d4921/Session3\\BCI_9d4921_R5.csv\n",
      "Skipping N/A\n"
     ]
    },
    {
     "name": "stderr",
     "output_type": "stream",
     "text": [
      "C:\\Users\\nile\\Anaconda3\\envs\\eeg\\lib\\site-packages\\scipy\\signal\\_arraytools.py:45: FutureWarning: Using a non-tuple sequence for multidimensional indexing is deprecated; use `arr[tuple(seq)]` instead of `arr[seq]`. In the future this will be interpreted as an array index, `arr[np.array(seq)]`, which will result either in an error or a different result.\n",
      "  b = a[a_slice]\n",
      "C:\\Users\\nile\\Anaconda3\\envs\\eeg\\lib\\site-packages\\scipy\\signal\\signaltools.py:3463: FutureWarning: Using a non-tuple sequence for multidimensional indexing is deprecated; use `arr[tuple(seq)]` instead of `arr[seq]`. In the future this will be interpreted as an array index, `arr[np.array(seq)]`, which will result either in an error or a different result.\n",
      "  return y[sl]\n"
     ]
    },
    {
     "name": "stdout",
     "output_type": "stream",
     "text": [
      "Selecting model: Models/9d4921/experimental/Session3\\9d4921_MI_classifier_2019-03-22-12-31-26.sav\n",
      "Selecting model: Models/9d4921/experimental/Session3\\9d4921_MI_classifier_2019-03-22-12-31-11.sav\n",
      "Selecting model: Models/9d4921/experimental/Session3\\9d4921_MI_classifier_TL_2019-03-22-12-31-27.sav\n",
      "----------------------------------------------------\n",
      "Done storing values for 9d4921\n",
      "----------------------------------------------------\n",
      "Selecting BCI EEG file: SaveData/05ecbc/Session1\\20190207130305_05ecbc_BCI.easy\n",
      "Selecting BCI behavioral file: SaveData/05ecbc/Session1\\BCI_05ecbc_R1.csv\n",
      "Skipping N/A\n"
     ]
    },
    {
     "name": "stderr",
     "output_type": "stream",
     "text": [
      "C:\\Users\\nile\\Anaconda3\\envs\\eeg\\lib\\site-packages\\scipy\\signal\\_arraytools.py:45: FutureWarning: Using a non-tuple sequence for multidimensional indexing is deprecated; use `arr[tuple(seq)]` instead of `arr[seq]`. In the future this will be interpreted as an array index, `arr[np.array(seq)]`, which will result either in an error or a different result.\n",
      "  b = a[a_slice]\n",
      "C:\\Users\\nile\\Anaconda3\\envs\\eeg\\lib\\site-packages\\scipy\\signal\\signaltools.py:3463: FutureWarning: Using a non-tuple sequence for multidimensional indexing is deprecated; use `arr[tuple(seq)]` instead of `arr[seq]`. In the future this will be interpreted as an array index, `arr[np.array(seq)]`, which will result either in an error or a different result.\n",
      "  return y[sl]\n"
     ]
    },
    {
     "name": "stdout",
     "output_type": "stream",
     "text": [
      "Selecting model: Models/05ecbc/experimental/Session1\\05ecbc_MI_classifier_2019-03-15-12-07-53.sav\n",
      "Selecting model: Models/05ecbc/experimental/Session1\\05ecbc_MI_classifier_2019-03-15-12-07-53.sav\n",
      "Selecting model: Models/05ecbc/experimental/Session1\\05ecbc_MI_classifier_2019-03-15-12-07-53.sav\n",
      "Selecting BCI EEG file: SaveData/05ecbc/Session1\\20190207130824_05ecbc_BCI.easy\n",
      "Selecting BCI behavioral file: SaveData/05ecbc/Session1\\BCI_05ecbc_R2.csv\n",
      "Skipping N/A\n"
     ]
    },
    {
     "name": "stderr",
     "output_type": "stream",
     "text": [
      "C:\\Users\\nile\\Anaconda3\\envs\\eeg\\lib\\site-packages\\scipy\\signal\\_arraytools.py:45: FutureWarning: Using a non-tuple sequence for multidimensional indexing is deprecated; use `arr[tuple(seq)]` instead of `arr[seq]`. In the future this will be interpreted as an array index, `arr[np.array(seq)]`, which will result either in an error or a different result.\n",
      "  b = a[a_slice]\n",
      "C:\\Users\\nile\\Anaconda3\\envs\\eeg\\lib\\site-packages\\scipy\\signal\\signaltools.py:3463: FutureWarning: Using a non-tuple sequence for multidimensional indexing is deprecated; use `arr[tuple(seq)]` instead of `arr[seq]`. In the future this will be interpreted as an array index, `arr[np.array(seq)]`, which will result either in an error or a different result.\n",
      "  return y[sl]\n"
     ]
    },
    {
     "name": "stdout",
     "output_type": "stream",
     "text": [
      "Selecting model: Models/05ecbc/experimental/Session1\\05ecbc_MI_classifier_2019-03-15-12-07-57.sav\n",
      "Selecting model: Models/05ecbc/experimental/Session1\\05ecbc_MI_classifier_2019-03-15-12-07-53.sav\n",
      "Selecting model: Models/05ecbc/experimental/Session1\\05ecbc_MI_classifier_TL_2019-03-15-12-07-57.sav\n",
      "Selecting BCI EEG file: SaveData/05ecbc/Session1\\20190207131329_05ecbc_BCI.easy\n",
      "Selecting BCI behavioral file: SaveData/05ecbc/Session1\\BCI_05ecbc_R3.csv\n",
      "Skipping N/A\n"
     ]
    },
    {
     "name": "stderr",
     "output_type": "stream",
     "text": [
      "C:\\Users\\nile\\Anaconda3\\envs\\eeg\\lib\\site-packages\\scipy\\signal\\_arraytools.py:45: FutureWarning: Using a non-tuple sequence for multidimensional indexing is deprecated; use `arr[tuple(seq)]` instead of `arr[seq]`. In the future this will be interpreted as an array index, `arr[np.array(seq)]`, which will result either in an error or a different result.\n",
      "  b = a[a_slice]\n",
      "C:\\Users\\nile\\Anaconda3\\envs\\eeg\\lib\\site-packages\\scipy\\signal\\signaltools.py:3463: FutureWarning: Using a non-tuple sequence for multidimensional indexing is deprecated; use `arr[tuple(seq)]` instead of `arr[seq]`. In the future this will be interpreted as an array index, `arr[np.array(seq)]`, which will result either in an error or a different result.\n",
      "  return y[sl]\n"
     ]
    },
    {
     "name": "stdout",
     "output_type": "stream",
     "text": [
      "Selecting model: Models/05ecbc/experimental/Session1\\05ecbc_MI_classifier_2019-03-15-12-07-59.sav\n",
      "Selecting model: Models/05ecbc/experimental/Session1\\05ecbc_MI_classifier_2019-03-15-12-07-53.sav\n",
      "Selecting model: Models/05ecbc/experimental/Session1\\05ecbc_MI_classifier_TL_2019-03-15-12-08-01.sav\n",
      "Selecting BCI EEG file: SaveData/05ecbc/Session1\\20190207131815_05ecbc_BCI.easy\n",
      "Selecting BCI behavioral file: SaveData/05ecbc/Session1\\BCI_05ecbc_R4.csv\n",
      "Skipping N/A\n"
     ]
    },
    {
     "name": "stderr",
     "output_type": "stream",
     "text": [
      "C:\\Users\\nile\\Anaconda3\\envs\\eeg\\lib\\site-packages\\scipy\\signal\\_arraytools.py:45: FutureWarning: Using a non-tuple sequence for multidimensional indexing is deprecated; use `arr[tuple(seq)]` instead of `arr[seq]`. In the future this will be interpreted as an array index, `arr[np.array(seq)]`, which will result either in an error or a different result.\n",
      "  b = a[a_slice]\n",
      "C:\\Users\\nile\\Anaconda3\\envs\\eeg\\lib\\site-packages\\scipy\\signal\\signaltools.py:3463: FutureWarning: Using a non-tuple sequence for multidimensional indexing is deprecated; use `arr[tuple(seq)]` instead of `arr[seq]`. In the future this will be interpreted as an array index, `arr[np.array(seq)]`, which will result either in an error or a different result.\n",
      "  return y[sl]\n"
     ]
    },
    {
     "name": "stdout",
     "output_type": "stream",
     "text": [
      "Selecting model: Models/05ecbc/experimental/Session1\\05ecbc_MI_classifier_2019-03-15-12-08-03.sav\n",
      "Selecting model: Models/05ecbc/experimental/Session1\\05ecbc_MI_classifier_2019-03-15-12-07-53.sav\n",
      "Selecting model: Models/05ecbc/experimental/Session1\\05ecbc_MI_classifier_TL_2019-03-15-12-08-04.sav\n",
      "Selecting BCI EEG file: SaveData/05ecbc/Session1\\20190207132321_05ecbc_BCI.easy\n",
      "Selecting BCI behavioral file: SaveData/05ecbc/Session1\\BCI_05ecbc_R5.csv\n",
      "Skipping N/A\n"
     ]
    },
    {
     "name": "stderr",
     "output_type": "stream",
     "text": [
      "C:\\Users\\nile\\Anaconda3\\envs\\eeg\\lib\\site-packages\\scipy\\signal\\_arraytools.py:45: FutureWarning: Using a non-tuple sequence for multidimensional indexing is deprecated; use `arr[tuple(seq)]` instead of `arr[seq]`. In the future this will be interpreted as an array index, `arr[np.array(seq)]`, which will result either in an error or a different result.\n",
      "  b = a[a_slice]\n",
      "C:\\Users\\nile\\Anaconda3\\envs\\eeg\\lib\\site-packages\\scipy\\signal\\signaltools.py:3463: FutureWarning: Using a non-tuple sequence for multidimensional indexing is deprecated; use `arr[tuple(seq)]` instead of `arr[seq]`. In the future this will be interpreted as an array index, `arr[np.array(seq)]`, which will result either in an error or a different result.\n",
      "  return y[sl]\n"
     ]
    },
    {
     "name": "stdout",
     "output_type": "stream",
     "text": [
      "Selecting model: Models/05ecbc/experimental/Session1\\05ecbc_MI_classifier_2019-03-15-12-08-07.sav\n",
      "Selecting model: Models/05ecbc/experimental/Session1\\05ecbc_MI_classifier_2019-03-15-12-07-53.sav\n",
      "Selecting model: Models/05ecbc/experimental/Session1\\05ecbc_MI_classifier_TL_2019-03-15-12-08-08.sav\n",
      "Selecting BCI EEG file: SaveData/05ecbc/Session2\\20190214144355_05ecbc_BCI.easy\n",
      "Selecting BCI behavioral file: SaveData/05ecbc/Session2\\BCI_05ecbc_R1.csv\n",
      "Skipping N/A\n"
     ]
    },
    {
     "name": "stderr",
     "output_type": "stream",
     "text": [
      "C:\\Users\\nile\\Anaconda3\\envs\\eeg\\lib\\site-packages\\scipy\\signal\\_arraytools.py:45: FutureWarning: Using a non-tuple sequence for multidimensional indexing is deprecated; use `arr[tuple(seq)]` instead of `arr[seq]`. In the future this will be interpreted as an array index, `arr[np.array(seq)]`, which will result either in an error or a different result.\n",
      "  b = a[a_slice]\n",
      "C:\\Users\\nile\\Anaconda3\\envs\\eeg\\lib\\site-packages\\scipy\\signal\\signaltools.py:3463: FutureWarning: Using a non-tuple sequence for multidimensional indexing is deprecated; use `arr[tuple(seq)]` instead of `arr[seq]`. In the future this will be interpreted as an array index, `arr[np.array(seq)]`, which will result either in an error or a different result.\n",
      "  return y[sl]\n"
     ]
    },
    {
     "name": "stdout",
     "output_type": "stream",
     "text": [
      "Selecting model: Models/05ecbc/experimental/Session2\\05ecbc_MI_classifier_2019-03-15-12-09-29.sav\n",
      "Selecting model: Models/05ecbc/experimental/Session2\\05ecbc_MI_classifier_2019-03-15-12-09-29.sav\n",
      "Selecting model: Models/05ecbc/experimental/Session2\\05ecbc_MI_classifier_2019-03-15-12-09-29.sav\n",
      "Selecting BCI EEG file: SaveData/05ecbc/Session2\\20190214145042_05ecbc_BCI.easy\n",
      "Selecting BCI behavioral file: SaveData/05ecbc/Session2\\BCI_05ecbc_R2.csv\n",
      "Skipping N/A\n"
     ]
    },
    {
     "name": "stderr",
     "output_type": "stream",
     "text": [
      "C:\\Users\\nile\\Anaconda3\\envs\\eeg\\lib\\site-packages\\scipy\\signal\\_arraytools.py:45: FutureWarning: Using a non-tuple sequence for multidimensional indexing is deprecated; use `arr[tuple(seq)]` instead of `arr[seq]`. In the future this will be interpreted as an array index, `arr[np.array(seq)]`, which will result either in an error or a different result.\n",
      "  b = a[a_slice]\n",
      "C:\\Users\\nile\\Anaconda3\\envs\\eeg\\lib\\site-packages\\scipy\\signal\\signaltools.py:3463: FutureWarning: Using a non-tuple sequence for multidimensional indexing is deprecated; use `arr[tuple(seq)]` instead of `arr[seq]`. In the future this will be interpreted as an array index, `arr[np.array(seq)]`, which will result either in an error or a different result.\n",
      "  return y[sl]\n"
     ]
    },
    {
     "name": "stdout",
     "output_type": "stream",
     "text": [
      "Selecting model: Models/05ecbc/experimental/Session2\\05ecbc_MI_classifier_2019-03-15-12-09-33.sav\n",
      "Selecting model: Models/05ecbc/experimental/Session2\\05ecbc_MI_classifier_2019-03-15-12-09-29.sav\n",
      "Selecting model: Models/05ecbc/experimental/Session2\\05ecbc_MI_classifier_TL_2019-03-15-12-09-33.sav\n",
      "Selecting BCI EEG file: SaveData/05ecbc/Session2\\20190214145559_05ecbc_BCI.easy\n",
      "Selecting BCI behavioral file: SaveData/05ecbc/Session2\\BCI_05ecbc_R3.csv\n",
      "Skipping N/A\n"
     ]
    },
    {
     "name": "stderr",
     "output_type": "stream",
     "text": [
      "C:\\Users\\nile\\Anaconda3\\envs\\eeg\\lib\\site-packages\\scipy\\signal\\_arraytools.py:45: FutureWarning: Using a non-tuple sequence for multidimensional indexing is deprecated; use `arr[tuple(seq)]` instead of `arr[seq]`. In the future this will be interpreted as an array index, `arr[np.array(seq)]`, which will result either in an error or a different result.\n",
      "  b = a[a_slice]\n",
      "C:\\Users\\nile\\Anaconda3\\envs\\eeg\\lib\\site-packages\\scipy\\signal\\signaltools.py:3463: FutureWarning: Using a non-tuple sequence for multidimensional indexing is deprecated; use `arr[tuple(seq)]` instead of `arr[seq]`. In the future this will be interpreted as an array index, `arr[np.array(seq)]`, which will result either in an error or a different result.\n",
      "  return y[sl]\n"
     ]
    },
    {
     "name": "stdout",
     "output_type": "stream",
     "text": [
      "Selecting model: Models/05ecbc/experimental/Session2\\05ecbc_MI_classifier_2019-03-15-12-09-35.sav\n",
      "Selecting model: Models/05ecbc/experimental/Session2\\05ecbc_MI_classifier_2019-03-15-12-09-29.sav\n",
      "Selecting model: Models/05ecbc/experimental/Session2\\05ecbc_MI_classifier_TL_2019-03-15-12-09-37.sav\n",
      "Selecting BCI EEG file: SaveData/05ecbc/Session2\\20190214150108_05ecbc_BCI.easy\n",
      "Selecting BCI behavioral file: SaveData/05ecbc/Session2\\BCI_05ecbc_R4.csv\n",
      "Skipping N/A\n"
     ]
    },
    {
     "name": "stderr",
     "output_type": "stream",
     "text": [
      "C:\\Users\\nile\\Anaconda3\\envs\\eeg\\lib\\site-packages\\scipy\\signal\\_arraytools.py:45: FutureWarning: Using a non-tuple sequence for multidimensional indexing is deprecated; use `arr[tuple(seq)]` instead of `arr[seq]`. In the future this will be interpreted as an array index, `arr[np.array(seq)]`, which will result either in an error or a different result.\n",
      "  b = a[a_slice]\n",
      "C:\\Users\\nile\\Anaconda3\\envs\\eeg\\lib\\site-packages\\scipy\\signal\\signaltools.py:3463: FutureWarning: Using a non-tuple sequence for multidimensional indexing is deprecated; use `arr[tuple(seq)]` instead of `arr[seq]`. In the future this will be interpreted as an array index, `arr[np.array(seq)]`, which will result either in an error or a different result.\n",
      "  return y[sl]\n"
     ]
    },
    {
     "name": "stdout",
     "output_type": "stream",
     "text": [
      "Selecting model: Models/05ecbc/experimental/Session2\\05ecbc_MI_classifier_2019-03-15-12-09-39.sav\n",
      "Selecting model: Models/05ecbc/experimental/Session2\\05ecbc_MI_classifier_2019-03-15-12-09-29.sav\n",
      "Selecting model: Models/05ecbc/experimental/Session2\\05ecbc_MI_classifier_TL_2019-03-15-12-09-41.sav\n",
      "Selecting BCI EEG file: SaveData/05ecbc/Session2\\20190214150623_05ecbc_BCI.easy\n",
      "Selecting BCI behavioral file: SaveData/05ecbc/Session2\\BCI_05ecbc_R5.csv\n",
      "Skipping N/A\n"
     ]
    },
    {
     "name": "stderr",
     "output_type": "stream",
     "text": [
      "C:\\Users\\nile\\Anaconda3\\envs\\eeg\\lib\\site-packages\\scipy\\signal\\_arraytools.py:45: FutureWarning: Using a non-tuple sequence for multidimensional indexing is deprecated; use `arr[tuple(seq)]` instead of `arr[seq]`. In the future this will be interpreted as an array index, `arr[np.array(seq)]`, which will result either in an error or a different result.\n",
      "  b = a[a_slice]\n",
      "C:\\Users\\nile\\Anaconda3\\envs\\eeg\\lib\\site-packages\\scipy\\signal\\signaltools.py:3463: FutureWarning: Using a non-tuple sequence for multidimensional indexing is deprecated; use `arr[tuple(seq)]` instead of `arr[seq]`. In the future this will be interpreted as an array index, `arr[np.array(seq)]`, which will result either in an error or a different result.\n",
      "  return y[sl]\n"
     ]
    },
    {
     "name": "stdout",
     "output_type": "stream",
     "text": [
      "Selecting model: Models/05ecbc/experimental/Session2\\05ecbc_MI_classifier_2019-03-15-12-09-43.sav\n",
      "Selecting model: Models/05ecbc/experimental/Session2\\05ecbc_MI_classifier_2019-03-15-12-09-29.sav\n",
      "Selecting model: Models/05ecbc/experimental/Session2\\05ecbc_MI_classifier_TL_2019-03-15-12-09-44.sav\n",
      "Selecting BCI EEG file: SaveData/05ecbc/Session3\\20190301104803_05ecbc_BCI.easy\n",
      "Selecting BCI behavioral file: SaveData/05ecbc/Session3\\BCI_05ecbc_R1.csv\n",
      "Skipping N/A\n"
     ]
    },
    {
     "name": "stderr",
     "output_type": "stream",
     "text": [
      "C:\\Users\\nile\\Anaconda3\\envs\\eeg\\lib\\site-packages\\scipy\\signal\\_arraytools.py:45: FutureWarning: Using a non-tuple sequence for multidimensional indexing is deprecated; use `arr[tuple(seq)]` instead of `arr[seq]`. In the future this will be interpreted as an array index, `arr[np.array(seq)]`, which will result either in an error or a different result.\n",
      "  b = a[a_slice]\n",
      "C:\\Users\\nile\\Anaconda3\\envs\\eeg\\lib\\site-packages\\scipy\\signal\\signaltools.py:3463: FutureWarning: Using a non-tuple sequence for multidimensional indexing is deprecated; use `arr[tuple(seq)]` instead of `arr[seq]`. In the future this will be interpreted as an array index, `arr[np.array(seq)]`, which will result either in an error or a different result.\n",
      "  return y[sl]\n"
     ]
    },
    {
     "name": "stdout",
     "output_type": "stream",
     "text": [
      "Selecting model: Models/05ecbc/experimental/Session3\\05ecbc_MI_classifier_2019-03-15-12-11-29.sav\n",
      "Selecting model: Models/05ecbc/experimental/Session3\\05ecbc_MI_classifier_2019-03-15-12-11-29.sav\n",
      "Selecting model: Models/05ecbc/experimental/Session3\\05ecbc_MI_classifier_2019-03-15-12-11-29.sav\n",
      "Selecting BCI EEG file: SaveData/05ecbc/Session3\\20190301105356_05ecbc_BCI.easy\n",
      "Selecting BCI behavioral file: SaveData/05ecbc/Session3\\BCI_05ecbc_R2.csv\n",
      "Skipping N/A\n"
     ]
    },
    {
     "name": "stderr",
     "output_type": "stream",
     "text": [
      "C:\\Users\\nile\\Anaconda3\\envs\\eeg\\lib\\site-packages\\scipy\\signal\\_arraytools.py:45: FutureWarning: Using a non-tuple sequence for multidimensional indexing is deprecated; use `arr[tuple(seq)]` instead of `arr[seq]`. In the future this will be interpreted as an array index, `arr[np.array(seq)]`, which will result either in an error or a different result.\n",
      "  b = a[a_slice]\n",
      "C:\\Users\\nile\\Anaconda3\\envs\\eeg\\lib\\site-packages\\scipy\\signal\\signaltools.py:3463: FutureWarning: Using a non-tuple sequence for multidimensional indexing is deprecated; use `arr[tuple(seq)]` instead of `arr[seq]`. In the future this will be interpreted as an array index, `arr[np.array(seq)]`, which will result either in an error or a different result.\n",
      "  return y[sl]\n"
     ]
    },
    {
     "name": "stdout",
     "output_type": "stream",
     "text": [
      "Selecting model: Models/05ecbc/experimental/Session3\\05ecbc_MI_classifier_2019-03-15-12-11-34.sav\n",
      "Selecting model: Models/05ecbc/experimental/Session3\\05ecbc_MI_classifier_2019-03-15-12-11-29.sav\n",
      "Selecting model: Models/05ecbc/experimental/Session3\\05ecbc_MI_classifier_TL_2019-03-15-12-11-34.sav\n",
      "Selecting BCI EEG file: SaveData/05ecbc/Session3\\20190301105932_05ecbc_BCI.easy\n",
      "Selecting BCI behavioral file: SaveData/05ecbc/Session3\\BCI_05ecbc_R3.csv\n",
      "Skipping N/A\n"
     ]
    },
    {
     "name": "stderr",
     "output_type": "stream",
     "text": [
      "C:\\Users\\nile\\Anaconda3\\envs\\eeg\\lib\\site-packages\\scipy\\signal\\_arraytools.py:45: FutureWarning: Using a non-tuple sequence for multidimensional indexing is deprecated; use `arr[tuple(seq)]` instead of `arr[seq]`. In the future this will be interpreted as an array index, `arr[np.array(seq)]`, which will result either in an error or a different result.\n",
      "  b = a[a_slice]\n",
      "C:\\Users\\nile\\Anaconda3\\envs\\eeg\\lib\\site-packages\\scipy\\signal\\signaltools.py:3463: FutureWarning: Using a non-tuple sequence for multidimensional indexing is deprecated; use `arr[tuple(seq)]` instead of `arr[seq]`. In the future this will be interpreted as an array index, `arr[np.array(seq)]`, which will result either in an error or a different result.\n",
      "  return y[sl]\n"
     ]
    },
    {
     "name": "stdout",
     "output_type": "stream",
     "text": [
      "Selecting model: Models/05ecbc/experimental/Session3\\05ecbc_MI_classifier_2019-03-15-12-11-36.sav\n",
      "Selecting model: Models/05ecbc/experimental/Session3\\05ecbc_MI_classifier_2019-03-15-12-11-29.sav\n",
      "Selecting model: Models/05ecbc/experimental/Session3\\05ecbc_MI_classifier_TL_2019-03-15-12-11-38.sav\n",
      "Selecting BCI EEG file: SaveData/05ecbc/Session3\\20190301110530_05ecbc_BCI.easy\n",
      "Selecting BCI behavioral file: SaveData/05ecbc/Session3\\BCI_05ecbc_R4.csv\n",
      "Skipping N/A\n"
     ]
    },
    {
     "name": "stderr",
     "output_type": "stream",
     "text": [
      "C:\\Users\\nile\\Anaconda3\\envs\\eeg\\lib\\site-packages\\scipy\\signal\\_arraytools.py:45: FutureWarning: Using a non-tuple sequence for multidimensional indexing is deprecated; use `arr[tuple(seq)]` instead of `arr[seq]`. In the future this will be interpreted as an array index, `arr[np.array(seq)]`, which will result either in an error or a different result.\n",
      "  b = a[a_slice]\n",
      "C:\\Users\\nile\\Anaconda3\\envs\\eeg\\lib\\site-packages\\scipy\\signal\\signaltools.py:3463: FutureWarning: Using a non-tuple sequence for multidimensional indexing is deprecated; use `arr[tuple(seq)]` instead of `arr[seq]`. In the future this will be interpreted as an array index, `arr[np.array(seq)]`, which will result either in an error or a different result.\n",
      "  return y[sl]\n"
     ]
    },
    {
     "name": "stdout",
     "output_type": "stream",
     "text": [
      "Selecting model: Models/05ecbc/experimental/Session3\\05ecbc_MI_classifier_2019-03-15-12-11-40.sav\n",
      "Selecting model: Models/05ecbc/experimental/Session3\\05ecbc_MI_classifier_2019-03-15-12-11-29.sav\n",
      "Selecting model: Models/05ecbc/experimental/Session3\\05ecbc_MI_classifier_TL_2019-03-15-12-11-42.sav\n",
      "Selecting BCI EEG file: SaveData/05ecbc/Session3\\20190301111056_05ecbc_BCI.easy\n",
      "Selecting BCI behavioral file: SaveData/05ecbc/Session3\\BCI_05ecbc_R5.csv\n",
      "Skipping N/A\n"
     ]
    },
    {
     "name": "stderr",
     "output_type": "stream",
     "text": [
      "C:\\Users\\nile\\Anaconda3\\envs\\eeg\\lib\\site-packages\\scipy\\signal\\_arraytools.py:45: FutureWarning: Using a non-tuple sequence for multidimensional indexing is deprecated; use `arr[tuple(seq)]` instead of `arr[seq]`. In the future this will be interpreted as an array index, `arr[np.array(seq)]`, which will result either in an error or a different result.\n",
      "  b = a[a_slice]\n",
      "C:\\Users\\nile\\Anaconda3\\envs\\eeg\\lib\\site-packages\\scipy\\signal\\signaltools.py:3463: FutureWarning: Using a non-tuple sequence for multidimensional indexing is deprecated; use `arr[tuple(seq)]` instead of `arr[seq]`. In the future this will be interpreted as an array index, `arr[np.array(seq)]`, which will result either in an error or a different result.\n",
      "  return y[sl]\n"
     ]
    },
    {
     "name": "stdout",
     "output_type": "stream",
     "text": [
      "Selecting model: Models/05ecbc/experimental/Session3\\05ecbc_MI_classifier_2019-03-15-12-11-44.sav\n",
      "Selecting model: Models/05ecbc/experimental/Session3\\05ecbc_MI_classifier_2019-03-15-12-11-29.sav\n",
      "Selecting model: Models/05ecbc/experimental/Session3\\05ecbc_MI_classifier_TL_2019-03-15-12-11-45.sav\n",
      "----------------------------------------------------\n",
      "Done storing values for 05ecbc\n",
      "----------------------------------------------------\n",
      "Selecting BCI EEG file: SaveData/af9af3/Session1\\20190222133609_af9af3_BCI.easy\n",
      "Selecting BCI behavioral file: SaveData/af9af3/Session1\\BCI_af9af3_R1.csv\n",
      "Skipping N/A\n"
     ]
    },
    {
     "name": "stderr",
     "output_type": "stream",
     "text": [
      "C:\\Users\\nile\\Anaconda3\\envs\\eeg\\lib\\site-packages\\scipy\\signal\\_arraytools.py:45: FutureWarning: Using a non-tuple sequence for multidimensional indexing is deprecated; use `arr[tuple(seq)]` instead of `arr[seq]`. In the future this will be interpreted as an array index, `arr[np.array(seq)]`, which will result either in an error or a different result.\n",
      "  b = a[a_slice]\n",
      "C:\\Users\\nile\\Anaconda3\\envs\\eeg\\lib\\site-packages\\scipy\\signal\\signaltools.py:3463: FutureWarning: Using a non-tuple sequence for multidimensional indexing is deprecated; use `arr[tuple(seq)]` instead of `arr[seq]`. In the future this will be interpreted as an array index, `arr[np.array(seq)]`, which will result either in an error or a different result.\n",
      "  return y[sl]\n"
     ]
    },
    {
     "name": "stdout",
     "output_type": "stream",
     "text": [
      "Selecting model: Models/af9af3/experimental/Session1\\af9af3_MI_classifier_2019-03-22-11-59-26.sav\n",
      "Selecting model: Models/af9af3/experimental/Session1\\af9af3_MI_classifier_2019-03-22-11-59-26.sav\n",
      "Selecting model: Models/af9af3/experimental/Session1\\af9af3_MI_classifier_2019-03-22-11-59-26.sav\n",
      "Selecting BCI EEG file: SaveData/af9af3/Session1\\20190222134114_af9af3_BCI.easy\n",
      "Selecting BCI behavioral file: SaveData/af9af3/Session1\\BCI_af9af3_R2.csv\n",
      "Skipping N/A\n"
     ]
    },
    {
     "name": "stderr",
     "output_type": "stream",
     "text": [
      "C:\\Users\\nile\\Anaconda3\\envs\\eeg\\lib\\site-packages\\scipy\\signal\\_arraytools.py:45: FutureWarning: Using a non-tuple sequence for multidimensional indexing is deprecated; use `arr[tuple(seq)]` instead of `arr[seq]`. In the future this will be interpreted as an array index, `arr[np.array(seq)]`, which will result either in an error or a different result.\n",
      "  b = a[a_slice]\n",
      "C:\\Users\\nile\\Anaconda3\\envs\\eeg\\lib\\site-packages\\scipy\\signal\\signaltools.py:3463: FutureWarning: Using a non-tuple sequence for multidimensional indexing is deprecated; use `arr[tuple(seq)]` instead of `arr[seq]`. In the future this will be interpreted as an array index, `arr[np.array(seq)]`, which will result either in an error or a different result.\n",
      "  return y[sl]\n"
     ]
    },
    {
     "name": "stdout",
     "output_type": "stream",
     "text": [
      "Selecting model: Models/af9af3/experimental/Session1\\af9af3_MI_classifier_2019-03-22-11-59-26.sav\n",
      "Selecting model: Models/af9af3/experimental/Session1\\af9af3_MI_classifier_2019-03-22-11-59-30.sav\n",
      "Selecting model: Models/af9af3/experimental/Session1\\af9af3_MI_classifier_TL_2019-03-22-11-59-30.sav\n",
      "Selecting BCI EEG file: SaveData/af9af3/Session1\\20190222134617_af9af3_BCI.easy\n",
      "Selecting BCI behavioral file: SaveData/af9af3/Session1\\BCI_af9af3_R3.csv\n",
      "Skipping N/A\n"
     ]
    },
    {
     "name": "stderr",
     "output_type": "stream",
     "text": [
      "C:\\Users\\nile\\Anaconda3\\envs\\eeg\\lib\\site-packages\\scipy\\signal\\_arraytools.py:45: FutureWarning: Using a non-tuple sequence for multidimensional indexing is deprecated; use `arr[tuple(seq)]` instead of `arr[seq]`. In the future this will be interpreted as an array index, `arr[np.array(seq)]`, which will result either in an error or a different result.\n",
      "  b = a[a_slice]\n",
      "C:\\Users\\nile\\Anaconda3\\envs\\eeg\\lib\\site-packages\\scipy\\signal\\signaltools.py:3463: FutureWarning: Using a non-tuple sequence for multidimensional indexing is deprecated; use `arr[tuple(seq)]` instead of `arr[seq]`. In the future this will be interpreted as an array index, `arr[np.array(seq)]`, which will result either in an error or a different result.\n",
      "  return y[sl]\n"
     ]
    },
    {
     "name": "stdout",
     "output_type": "stream",
     "text": [
      "Selecting model: Models/af9af3/experimental/Session1\\af9af3_MI_classifier_2019-03-22-11-59-26.sav\n",
      "Selecting model: Models/af9af3/experimental/Session1\\af9af3_MI_classifier_2019-03-22-11-59-33.sav\n",
      "Selecting model: Models/af9af3/experimental/Session1\\af9af3_MI_classifier_TL_2019-03-22-11-59-34.sav\n",
      "Selecting BCI EEG file: SaveData/af9af3/Session1\\20190222135126_af9af3_BCI.easy\n",
      "Selecting BCI behavioral file: SaveData/af9af3/Session1\\BCI_af9af3_R4.csv\n",
      "Skipping N/A\n"
     ]
    },
    {
     "name": "stderr",
     "output_type": "stream",
     "text": [
      "C:\\Users\\nile\\Anaconda3\\envs\\eeg\\lib\\site-packages\\scipy\\signal\\_arraytools.py:45: FutureWarning: Using a non-tuple sequence for multidimensional indexing is deprecated; use `arr[tuple(seq)]` instead of `arr[seq]`. In the future this will be interpreted as an array index, `arr[np.array(seq)]`, which will result either in an error or a different result.\n",
      "  b = a[a_slice]\n",
      "C:\\Users\\nile\\Anaconda3\\envs\\eeg\\lib\\site-packages\\scipy\\signal\\signaltools.py:3463: FutureWarning: Using a non-tuple sequence for multidimensional indexing is deprecated; use `arr[tuple(seq)]` instead of `arr[seq]`. In the future this will be interpreted as an array index, `arr[np.array(seq)]`, which will result either in an error or a different result.\n",
      "  return y[sl]\n"
     ]
    },
    {
     "name": "stdout",
     "output_type": "stream",
     "text": [
      "Selecting model: Models/af9af3/experimental/Session1\\af9af3_MI_classifier_2019-03-22-11-59-26.sav\n",
      "Selecting model: Models/af9af3/experimental/Session1\\af9af3_MI_classifier_2019-03-22-11-59-37.sav\n",
      "Selecting model: Models/af9af3/experimental/Session1\\af9af3_MI_classifier_TL_2019-03-22-11-59-38.sav\n",
      "Selecting BCI EEG file: SaveData/af9af3/Session1\\20190222135621_af9af3_BCI.easy\n",
      "Selecting BCI behavioral file: SaveData/af9af3/Session1\\BCI_af9af3_R5.csv\n",
      "Skipping N/A\n"
     ]
    },
    {
     "name": "stderr",
     "output_type": "stream",
     "text": [
      "C:\\Users\\nile\\Anaconda3\\envs\\eeg\\lib\\site-packages\\scipy\\signal\\_arraytools.py:45: FutureWarning: Using a non-tuple sequence for multidimensional indexing is deprecated; use `arr[tuple(seq)]` instead of `arr[seq]`. In the future this will be interpreted as an array index, `arr[np.array(seq)]`, which will result either in an error or a different result.\n",
      "  b = a[a_slice]\n",
      "C:\\Users\\nile\\Anaconda3\\envs\\eeg\\lib\\site-packages\\scipy\\signal\\signaltools.py:3463: FutureWarning: Using a non-tuple sequence for multidimensional indexing is deprecated; use `arr[tuple(seq)]` instead of `arr[seq]`. In the future this will be interpreted as an array index, `arr[np.array(seq)]`, which will result either in an error or a different result.\n",
      "  return y[sl]\n"
     ]
    },
    {
     "name": "stdout",
     "output_type": "stream",
     "text": [
      "Selecting model: Models/af9af3/experimental/Session1\\af9af3_MI_classifier_2019-03-22-11-59-26.sav\n",
      "Selecting model: Models/af9af3/experimental/Session1\\af9af3_MI_classifier_2019-03-22-11-59-41.sav\n",
      "Selecting model: Models/af9af3/experimental/Session1\\af9af3_MI_classifier_TL_2019-03-22-11-59-42.sav\n",
      "Selecting BCI EEG file: SaveData/af9af3/Session2\\20190226161211_af9af3_BCI.easy\n",
      "Selecting BCI behavioral file: SaveData/af9af3/Session2\\BCI_af9af3_R1.csv\n",
      "Skipping N/A\n"
     ]
    },
    {
     "name": "stderr",
     "output_type": "stream",
     "text": [
      "C:\\Users\\nile\\Anaconda3\\envs\\eeg\\lib\\site-packages\\scipy\\signal\\_arraytools.py:45: FutureWarning: Using a non-tuple sequence for multidimensional indexing is deprecated; use `arr[tuple(seq)]` instead of `arr[seq]`. In the future this will be interpreted as an array index, `arr[np.array(seq)]`, which will result either in an error or a different result.\n",
      "  b = a[a_slice]\n",
      "C:\\Users\\nile\\Anaconda3\\envs\\eeg\\lib\\site-packages\\scipy\\signal\\signaltools.py:3463: FutureWarning: Using a non-tuple sequence for multidimensional indexing is deprecated; use `arr[tuple(seq)]` instead of `arr[seq]`. In the future this will be interpreted as an array index, `arr[np.array(seq)]`, which will result either in an error or a different result.\n",
      "  return y[sl]\n"
     ]
    },
    {
     "name": "stdout",
     "output_type": "stream",
     "text": [
      "Selecting model: Models/af9af3/experimental/Session2\\af9af3_MI_classifier_2019-03-22-12-01-17.sav\n",
      "Selecting model: Models/af9af3/experimental/Session2\\af9af3_MI_classifier_2019-03-22-12-01-17.sav\n",
      "Selecting model: Models/af9af3/experimental/Session2\\af9af3_MI_classifier_2019-03-22-12-01-17.sav\n",
      "Selecting BCI EEG file: SaveData/af9af3/Session2\\20190226161714_af9af3_BCI.easy\n",
      "Selecting BCI behavioral file: SaveData/af9af3/Session2\\BCI_af9af3_R2.csv\n",
      "Skipping N/A\n"
     ]
    },
    {
     "name": "stderr",
     "output_type": "stream",
     "text": [
      "C:\\Users\\nile\\Anaconda3\\envs\\eeg\\lib\\site-packages\\scipy\\signal\\_arraytools.py:45: FutureWarning: Using a non-tuple sequence for multidimensional indexing is deprecated; use `arr[tuple(seq)]` instead of `arr[seq]`. In the future this will be interpreted as an array index, `arr[np.array(seq)]`, which will result either in an error or a different result.\n",
      "  b = a[a_slice]\n",
      "C:\\Users\\nile\\Anaconda3\\envs\\eeg\\lib\\site-packages\\scipy\\signal\\signaltools.py:3463: FutureWarning: Using a non-tuple sequence for multidimensional indexing is deprecated; use `arr[tuple(seq)]` instead of `arr[seq]`. In the future this will be interpreted as an array index, `arr[np.array(seq)]`, which will result either in an error or a different result.\n",
      "  return y[sl]\n"
     ]
    },
    {
     "name": "stdout",
     "output_type": "stream",
     "text": [
      "Selecting model: Models/af9af3/experimental/Session2\\af9af3_MI_classifier_2019-03-22-12-01-17.sav\n",
      "Selecting model: Models/af9af3/experimental/Session2\\af9af3_MI_classifier_2019-03-22-12-01-21.sav\n",
      "Selecting model: Models/af9af3/experimental/Session2\\af9af3_MI_classifier_TL_2019-03-22-12-01-21.sav\n",
      "Selecting BCI EEG file: SaveData/af9af3/Session2\\20190226162231_af9af3_BCI.easy\n",
      "Selecting BCI behavioral file: SaveData/af9af3/Session2\\BCI_af9af3_R3.csv\n",
      "Skipping N/A\n"
     ]
    },
    {
     "name": "stderr",
     "output_type": "stream",
     "text": [
      "C:\\Users\\nile\\Anaconda3\\envs\\eeg\\lib\\site-packages\\scipy\\signal\\_arraytools.py:45: FutureWarning: Using a non-tuple sequence for multidimensional indexing is deprecated; use `arr[tuple(seq)]` instead of `arr[seq]`. In the future this will be interpreted as an array index, `arr[np.array(seq)]`, which will result either in an error or a different result.\n",
      "  b = a[a_slice]\n",
      "C:\\Users\\nile\\Anaconda3\\envs\\eeg\\lib\\site-packages\\scipy\\signal\\signaltools.py:3463: FutureWarning: Using a non-tuple sequence for multidimensional indexing is deprecated; use `arr[tuple(seq)]` instead of `arr[seq]`. In the future this will be interpreted as an array index, `arr[np.array(seq)]`, which will result either in an error or a different result.\n",
      "  return y[sl]\n"
     ]
    },
    {
     "name": "stdout",
     "output_type": "stream",
     "text": [
      "Selecting model: Models/af9af3/experimental/Session2\\af9af3_MI_classifier_2019-03-22-12-01-17.sav\n",
      "Selecting model: Models/af9af3/experimental/Session2\\af9af3_MI_classifier_2019-03-22-12-01-24.sav\n",
      "Selecting model: Models/af9af3/experimental/Session2\\af9af3_MI_classifier_TL_2019-03-22-12-01-26.sav\n",
      "Selecting BCI EEG file: SaveData/af9af3/Session2\\20190226162742_af9af3_BCI.easy\n",
      "Selecting BCI behavioral file: SaveData/af9af3/Session2\\BCI_af9af3_R4.csv\n",
      "Skipping N/A\n"
     ]
    },
    {
     "name": "stderr",
     "output_type": "stream",
     "text": [
      "C:\\Users\\nile\\Anaconda3\\envs\\eeg\\lib\\site-packages\\scipy\\signal\\_arraytools.py:45: FutureWarning: Using a non-tuple sequence for multidimensional indexing is deprecated; use `arr[tuple(seq)]` instead of `arr[seq]`. In the future this will be interpreted as an array index, `arr[np.array(seq)]`, which will result either in an error or a different result.\n",
      "  b = a[a_slice]\n",
      "C:\\Users\\nile\\Anaconda3\\envs\\eeg\\lib\\site-packages\\scipy\\signal\\signaltools.py:3463: FutureWarning: Using a non-tuple sequence for multidimensional indexing is deprecated; use `arr[tuple(seq)]` instead of `arr[seq]`. In the future this will be interpreted as an array index, `arr[np.array(seq)]`, which will result either in an error or a different result.\n",
      "  return y[sl]\n"
     ]
    },
    {
     "name": "stdout",
     "output_type": "stream",
     "text": [
      "Selecting model: Models/af9af3/experimental/Session2\\af9af3_MI_classifier_2019-03-22-12-01-17.sav\n",
      "Selecting model: Models/af9af3/experimental/Session2\\af9af3_MI_classifier_2019-03-22-12-01-29.sav\n",
      "Selecting model: Models/af9af3/experimental/Session2\\af9af3_MI_classifier_TL_2019-03-22-12-01-30.sav\n",
      "Selecting BCI EEG file: SaveData/af9af3/Session2\\20190226163254_af9af3_BCI.easy\n",
      "Selecting BCI behavioral file: SaveData/af9af3/Session2\\BCI_af9af3_R5.csv\n",
      "Skipping N/A\n"
     ]
    },
    {
     "name": "stderr",
     "output_type": "stream",
     "text": [
      "C:\\Users\\nile\\Anaconda3\\envs\\eeg\\lib\\site-packages\\scipy\\signal\\_arraytools.py:45: FutureWarning: Using a non-tuple sequence for multidimensional indexing is deprecated; use `arr[tuple(seq)]` instead of `arr[seq]`. In the future this will be interpreted as an array index, `arr[np.array(seq)]`, which will result either in an error or a different result.\n",
      "  b = a[a_slice]\n",
      "C:\\Users\\nile\\Anaconda3\\envs\\eeg\\lib\\site-packages\\scipy\\signal\\signaltools.py:3463: FutureWarning: Using a non-tuple sequence for multidimensional indexing is deprecated; use `arr[tuple(seq)]` instead of `arr[seq]`. In the future this will be interpreted as an array index, `arr[np.array(seq)]`, which will result either in an error or a different result.\n",
      "  return y[sl]\n"
     ]
    },
    {
     "name": "stdout",
     "output_type": "stream",
     "text": [
      "Selecting model: Models/af9af3/experimental/Session2\\af9af3_MI_classifier_2019-03-22-12-01-17.sav\n",
      "Selecting model: Models/af9af3/experimental/Session2\\af9af3_MI_classifier_2019-03-22-12-01-33.sav\n",
      "Selecting model: Models/af9af3/experimental/Session2\\af9af3_MI_classifier_TL_2019-03-22-12-01-34.sav\n",
      "Selecting BCI EEG file: SaveData/af9af3/Session3\\20190311144804_af9af3_BCI.easy\n",
      "Selecting BCI behavioral file: SaveData/af9af3/Session3\\BCI_af9af3_R1.csv\n",
      "Skipping N/A\n"
     ]
    },
    {
     "name": "stderr",
     "output_type": "stream",
     "text": [
      "C:\\Users\\nile\\Anaconda3\\envs\\eeg\\lib\\site-packages\\scipy\\signal\\_arraytools.py:45: FutureWarning: Using a non-tuple sequence for multidimensional indexing is deprecated; use `arr[tuple(seq)]` instead of `arr[seq]`. In the future this will be interpreted as an array index, `arr[np.array(seq)]`, which will result either in an error or a different result.\n",
      "  b = a[a_slice]\n",
      "C:\\Users\\nile\\Anaconda3\\envs\\eeg\\lib\\site-packages\\scipy\\signal\\signaltools.py:3463: FutureWarning: Using a non-tuple sequence for multidimensional indexing is deprecated; use `arr[tuple(seq)]` instead of `arr[seq]`. In the future this will be interpreted as an array index, `arr[np.array(seq)]`, which will result either in an error or a different result.\n",
      "  return y[sl]\n"
     ]
    },
    {
     "name": "stdout",
     "output_type": "stream",
     "text": [
      "Selecting model: Models/af9af3/experimental/Session3\\af9af3_MI_classifier_2019-03-22-12-03-31.sav\n",
      "Selecting model: Models/af9af3/experimental/Session3\\af9af3_MI_classifier_2019-03-22-12-03-31.sav\n",
      "Selecting model: Models/af9af3/experimental/Session3\\af9af3_MI_classifier_2019-03-22-12-03-31.sav\n",
      "Selecting BCI EEG file: SaveData/af9af3/Session3\\20190311145247_af9af3_BCI.easy\n",
      "Selecting BCI behavioral file: SaveData/af9af3/Session3\\BCI_af9af3_R2.csv\n",
      "Skipping N/A\n"
     ]
    },
    {
     "name": "stderr",
     "output_type": "stream",
     "text": [
      "C:\\Users\\nile\\Anaconda3\\envs\\eeg\\lib\\site-packages\\scipy\\signal\\_arraytools.py:45: FutureWarning: Using a non-tuple sequence for multidimensional indexing is deprecated; use `arr[tuple(seq)]` instead of `arr[seq]`. In the future this will be interpreted as an array index, `arr[np.array(seq)]`, which will result either in an error or a different result.\n",
      "  b = a[a_slice]\n",
      "C:\\Users\\nile\\Anaconda3\\envs\\eeg\\lib\\site-packages\\scipy\\signal\\signaltools.py:3463: FutureWarning: Using a non-tuple sequence for multidimensional indexing is deprecated; use `arr[tuple(seq)]` instead of `arr[seq]`. In the future this will be interpreted as an array index, `arr[np.array(seq)]`, which will result either in an error or a different result.\n",
      "  return y[sl]\n"
     ]
    },
    {
     "name": "stdout",
     "output_type": "stream",
     "text": [
      "Selecting model: Models/af9af3/experimental/Session3\\af9af3_MI_classifier_2019-03-22-12-03-31.sav\n",
      "Selecting model: Models/af9af3/experimental/Session3\\af9af3_MI_classifier_2019-03-22-12-03-35.sav\n",
      "Selecting model: Models/af9af3/experimental/Session3\\af9af3_MI_classifier_TL_2019-03-22-12-03-35.sav\n",
      "Selecting BCI EEG file: SaveData/af9af3/Session3\\20190311145737_af9af3_BCI.easy\n",
      "Selecting BCI behavioral file: SaveData/af9af3/Session3\\BCI_af9af3_R3.csv\n",
      "Skipping N/A\n"
     ]
    },
    {
     "name": "stderr",
     "output_type": "stream",
     "text": [
      "C:\\Users\\nile\\Anaconda3\\envs\\eeg\\lib\\site-packages\\scipy\\signal\\_arraytools.py:45: FutureWarning: Using a non-tuple sequence for multidimensional indexing is deprecated; use `arr[tuple(seq)]` instead of `arr[seq]`. In the future this will be interpreted as an array index, `arr[np.array(seq)]`, which will result either in an error or a different result.\n",
      "  b = a[a_slice]\n",
      "C:\\Users\\nile\\Anaconda3\\envs\\eeg\\lib\\site-packages\\scipy\\signal\\signaltools.py:3463: FutureWarning: Using a non-tuple sequence for multidimensional indexing is deprecated; use `arr[tuple(seq)]` instead of `arr[seq]`. In the future this will be interpreted as an array index, `arr[np.array(seq)]`, which will result either in an error or a different result.\n",
      "  return y[sl]\n"
     ]
    },
    {
     "name": "stdout",
     "output_type": "stream",
     "text": [
      "Selecting model: Models/af9af3/experimental/Session3\\af9af3_MI_classifier_2019-03-22-12-03-31.sav\n",
      "Selecting model: Models/af9af3/experimental/Session3\\af9af3_MI_classifier_2019-03-22-12-03-38.sav\n",
      "Selecting model: Models/af9af3/experimental/Session3\\af9af3_MI_classifier_TL_2019-03-22-12-03-39.sav\n",
      "Selecting BCI EEG file: SaveData/af9af3/Session3\\20190311150228_af9af3_BCI.easy\n",
      "Selecting BCI behavioral file: SaveData/af9af3/Session3\\BCI_af9af3_R4.csv\n",
      "Skipping N/A\n"
     ]
    },
    {
     "name": "stderr",
     "output_type": "stream",
     "text": [
      "C:\\Users\\nile\\Anaconda3\\envs\\eeg\\lib\\site-packages\\scipy\\signal\\_arraytools.py:45: FutureWarning: Using a non-tuple sequence for multidimensional indexing is deprecated; use `arr[tuple(seq)]` instead of `arr[seq]`. In the future this will be interpreted as an array index, `arr[np.array(seq)]`, which will result either in an error or a different result.\n",
      "  b = a[a_slice]\n",
      "C:\\Users\\nile\\Anaconda3\\envs\\eeg\\lib\\site-packages\\scipy\\signal\\signaltools.py:3463: FutureWarning: Using a non-tuple sequence for multidimensional indexing is deprecated; use `arr[tuple(seq)]` instead of `arr[seq]`. In the future this will be interpreted as an array index, `arr[np.array(seq)]`, which will result either in an error or a different result.\n",
      "  return y[sl]\n"
     ]
    },
    {
     "name": "stdout",
     "output_type": "stream",
     "text": [
      "Selecting model: Models/af9af3/experimental/Session3\\af9af3_MI_classifier_2019-03-22-12-03-31.sav\n",
      "Selecting model: Models/af9af3/experimental/Session3\\af9af3_MI_classifier_2019-03-22-12-03-42.sav\n",
      "Selecting model: Models/af9af3/experimental/Session3\\af9af3_MI_classifier_TL_2019-03-22-12-03-43.sav\n",
      "Selecting BCI EEG file: SaveData/af9af3/Session3\\20190311150719_af9af3_BCI.easy\n",
      "Selecting BCI behavioral file: SaveData/af9af3/Session3\\BCI_af9af3_R5.csv\n",
      "Skipping N/A\n"
     ]
    },
    {
     "name": "stderr",
     "output_type": "stream",
     "text": [
      "C:\\Users\\nile\\Anaconda3\\envs\\eeg\\lib\\site-packages\\scipy\\signal\\_arraytools.py:45: FutureWarning: Using a non-tuple sequence for multidimensional indexing is deprecated; use `arr[tuple(seq)]` instead of `arr[seq]`. In the future this will be interpreted as an array index, `arr[np.array(seq)]`, which will result either in an error or a different result.\n",
      "  b = a[a_slice]\n",
      "C:\\Users\\nile\\Anaconda3\\envs\\eeg\\lib\\site-packages\\scipy\\signal\\signaltools.py:3463: FutureWarning: Using a non-tuple sequence for multidimensional indexing is deprecated; use `arr[tuple(seq)]` instead of `arr[seq]`. In the future this will be interpreted as an array index, `arr[np.array(seq)]`, which will result either in an error or a different result.\n",
      "  return y[sl]\n"
     ]
    },
    {
     "name": "stdout",
     "output_type": "stream",
     "text": [
      "Selecting model: Models/af9af3/experimental/Session3\\af9af3_MI_classifier_2019-03-22-12-03-31.sav\n",
      "Selecting model: Models/af9af3/experimental/Session3\\af9af3_MI_classifier_2019-03-22-12-03-45.sav\n",
      "Selecting model: Models/af9af3/experimental/Session3\\af9af3_MI_classifier_TL_2019-03-22-12-03-47.sav\n",
      "----------------------------------------------------\n",
      "Done storing values for af9af3\n",
      "----------------------------------------------------\n",
      "Selecting BCI EEG file: SaveData/c795d2/Session1\\20190213112048_c795d2_BCI.easy\n",
      "Selecting BCI behavioral file: SaveData/c795d2/Session1\\BCI_c795d2_R1.csv\n",
      "Skipping N/A\n"
     ]
    },
    {
     "name": "stderr",
     "output_type": "stream",
     "text": [
      "C:\\Users\\nile\\Anaconda3\\envs\\eeg\\lib\\site-packages\\scipy\\signal\\_arraytools.py:45: FutureWarning: Using a non-tuple sequence for multidimensional indexing is deprecated; use `arr[tuple(seq)]` instead of `arr[seq]`. In the future this will be interpreted as an array index, `arr[np.array(seq)]`, which will result either in an error or a different result.\n",
      "  b = a[a_slice]\n",
      "C:\\Users\\nile\\Anaconda3\\envs\\eeg\\lib\\site-packages\\scipy\\signal\\signaltools.py:3463: FutureWarning: Using a non-tuple sequence for multidimensional indexing is deprecated; use `arr[tuple(seq)]` instead of `arr[seq]`. In the future this will be interpreted as an array index, `arr[np.array(seq)]`, which will result either in an error or a different result.\n",
      "  return y[sl]\n"
     ]
    },
    {
     "name": "stdout",
     "output_type": "stream",
     "text": [
      "Selecting model: Models/c795d2/experimental/Session1\\c795d2_MI_classifier_2019-03-15-11-06-07.sav\n",
      "Selecting model: Models/c795d2/experimental/Session1\\c795d2_MI_classifier_2019-03-15-11-06-07.sav\n",
      "Selecting model: Models/c795d2/experimental/Session1\\c795d2_MI_classifier_2019-03-15-11-06-07.sav\n",
      "Selecting BCI EEG file: SaveData/c795d2/Session1\\20190213112623_c795d2_BCI.easy\n",
      "Selecting BCI behavioral file: SaveData/c795d2/Session1\\BCI_c795d2_R2.csv\n",
      "Skipping N/A\n"
     ]
    },
    {
     "name": "stderr",
     "output_type": "stream",
     "text": [
      "C:\\Users\\nile\\Anaconda3\\envs\\eeg\\lib\\site-packages\\scipy\\signal\\_arraytools.py:45: FutureWarning: Using a non-tuple sequence for multidimensional indexing is deprecated; use `arr[tuple(seq)]` instead of `arr[seq]`. In the future this will be interpreted as an array index, `arr[np.array(seq)]`, which will result either in an error or a different result.\n",
      "  b = a[a_slice]\n",
      "C:\\Users\\nile\\Anaconda3\\envs\\eeg\\lib\\site-packages\\scipy\\signal\\signaltools.py:3463: FutureWarning: Using a non-tuple sequence for multidimensional indexing is deprecated; use `arr[tuple(seq)]` instead of `arr[seq]`. In the future this will be interpreted as an array index, `arr[np.array(seq)]`, which will result either in an error or a different result.\n",
      "  return y[sl]\n"
     ]
    },
    {
     "name": "stdout",
     "output_type": "stream",
     "text": [
      "Selecting model: Models/c795d2/experimental/Session1\\c795d2_MI_classifier_2019-03-15-11-06-07.sav\n",
      "Selecting model: Models/c795d2/experimental/Session1\\c795d2_MI_classifier_2019-03-15-11-06-11.sav\n",
      "Selecting model: Models/c795d2/experimental/Session1\\c795d2_MI_classifier_TL_2019-03-15-11-06-12.sav\n",
      "Selecting BCI EEG file: SaveData/c795d2/Session1\\20190213113145_c795d2_BCI.easy\n",
      "Selecting BCI behavioral file: SaveData/c795d2/Session1\\BCI_c795d2_R3.csv\n",
      "Skipping N/A\n"
     ]
    },
    {
     "name": "stderr",
     "output_type": "stream",
     "text": [
      "C:\\Users\\nile\\Anaconda3\\envs\\eeg\\lib\\site-packages\\scipy\\signal\\_arraytools.py:45: FutureWarning: Using a non-tuple sequence for multidimensional indexing is deprecated; use `arr[tuple(seq)]` instead of `arr[seq]`. In the future this will be interpreted as an array index, `arr[np.array(seq)]`, which will result either in an error or a different result.\n",
      "  b = a[a_slice]\n",
      "C:\\Users\\nile\\Anaconda3\\envs\\eeg\\lib\\site-packages\\scipy\\signal\\signaltools.py:3463: FutureWarning: Using a non-tuple sequence for multidimensional indexing is deprecated; use `arr[tuple(seq)]` instead of `arr[seq]`. In the future this will be interpreted as an array index, `arr[np.array(seq)]`, which will result either in an error or a different result.\n",
      "  return y[sl]\n"
     ]
    },
    {
     "name": "stdout",
     "output_type": "stream",
     "text": [
      "Selecting model: Models/c795d2/experimental/Session1\\c795d2_MI_classifier_2019-03-15-11-06-07.sav\n",
      "Selecting model: Models/c795d2/experimental/Session1\\c795d2_MI_classifier_2019-03-15-11-06-15.sav\n",
      "Selecting model: Models/c795d2/experimental/Session1\\c795d2_MI_classifier_TL_2019-03-15-11-06-16.sav\n",
      "Selecting BCI EEG file: SaveData/c795d2/Session1\\20190213113704_c795d2_BCI.easy\n",
      "Selecting BCI behavioral file: SaveData/c795d2/Session1\\BCI_c795d2_R4.csv\n",
      "Skipping N/A\n"
     ]
    },
    {
     "name": "stderr",
     "output_type": "stream",
     "text": [
      "C:\\Users\\nile\\Anaconda3\\envs\\eeg\\lib\\site-packages\\scipy\\signal\\_arraytools.py:45: FutureWarning: Using a non-tuple sequence for multidimensional indexing is deprecated; use `arr[tuple(seq)]` instead of `arr[seq]`. In the future this will be interpreted as an array index, `arr[np.array(seq)]`, which will result either in an error or a different result.\n",
      "  b = a[a_slice]\n",
      "C:\\Users\\nile\\Anaconda3\\envs\\eeg\\lib\\site-packages\\scipy\\signal\\signaltools.py:3463: FutureWarning: Using a non-tuple sequence for multidimensional indexing is deprecated; use `arr[tuple(seq)]` instead of `arr[seq]`. In the future this will be interpreted as an array index, `arr[np.array(seq)]`, which will result either in an error or a different result.\n",
      "  return y[sl]\n"
     ]
    },
    {
     "name": "stdout",
     "output_type": "stream",
     "text": [
      "Selecting model: Models/c795d2/experimental/Session1\\c795d2_MI_classifier_2019-03-15-11-06-07.sav\n",
      "Selecting model: Models/c795d2/experimental/Session1\\c795d2_MI_classifier_2019-03-15-11-06-19.sav\n",
      "Selecting model: Models/c795d2/experimental/Session1\\c795d2_MI_classifier_TL_2019-03-15-11-06-20.sav\n",
      "Selecting BCI EEG file: SaveData/c795d2/Session1\\20190213114201_c795d2_BCI.easy\n",
      "Selecting BCI behavioral file: SaveData/c795d2/Session1\\BCI_c795d2_R5.csv\n",
      "Skipping N/A\n"
     ]
    },
    {
     "name": "stderr",
     "output_type": "stream",
     "text": [
      "C:\\Users\\nile\\Anaconda3\\envs\\eeg\\lib\\site-packages\\scipy\\signal\\_arraytools.py:45: FutureWarning: Using a non-tuple sequence for multidimensional indexing is deprecated; use `arr[tuple(seq)]` instead of `arr[seq]`. In the future this will be interpreted as an array index, `arr[np.array(seq)]`, which will result either in an error or a different result.\n",
      "  b = a[a_slice]\n",
      "C:\\Users\\nile\\Anaconda3\\envs\\eeg\\lib\\site-packages\\scipy\\signal\\signaltools.py:3463: FutureWarning: Using a non-tuple sequence for multidimensional indexing is deprecated; use `arr[tuple(seq)]` instead of `arr[seq]`. In the future this will be interpreted as an array index, `arr[np.array(seq)]`, which will result either in an error or a different result.\n",
      "  return y[sl]\n"
     ]
    },
    {
     "name": "stdout",
     "output_type": "stream",
     "text": [
      "Selecting model: Models/c795d2/experimental/Session1\\c795d2_MI_classifier_2019-03-15-11-06-07.sav\n",
      "Selecting model: Models/c795d2/experimental/Session1\\c795d2_MI_classifier_2019-03-15-11-06-23.sav\n",
      "Selecting model: Models/c795d2/experimental/Session1\\c795d2_MI_classifier_TL_2019-03-15-11-06-24.sav\n",
      "Selecting BCI EEG file: SaveData/c795d2/Session2\\20190214131712_c795d2_BCI.easy\n",
      "Selecting BCI behavioral file: SaveData/c795d2/Session2\\BCI_c795d2_R1.csv\n",
      "Skipping N/A\n"
     ]
    },
    {
     "name": "stderr",
     "output_type": "stream",
     "text": [
      "C:\\Users\\nile\\Anaconda3\\envs\\eeg\\lib\\site-packages\\scipy\\signal\\_arraytools.py:45: FutureWarning: Using a non-tuple sequence for multidimensional indexing is deprecated; use `arr[tuple(seq)]` instead of `arr[seq]`. In the future this will be interpreted as an array index, `arr[np.array(seq)]`, which will result either in an error or a different result.\n",
      "  b = a[a_slice]\n",
      "C:\\Users\\nile\\Anaconda3\\envs\\eeg\\lib\\site-packages\\scipy\\signal\\signaltools.py:3463: FutureWarning: Using a non-tuple sequence for multidimensional indexing is deprecated; use `arr[tuple(seq)]` instead of `arr[seq]`. In the future this will be interpreted as an array index, `arr[np.array(seq)]`, which will result either in an error or a different result.\n",
      "  return y[sl]\n"
     ]
    },
    {
     "name": "stdout",
     "output_type": "stream",
     "text": [
      "Selecting model: Models/c795d2/experimental/Session2\\c795d2_MI_classifier_2019-03-15-11-08-08.sav\n",
      "Selecting model: Models/c795d2/experimental/Session2\\c795d2_MI_classifier_2019-03-15-11-08-08.sav\n",
      "Selecting model: Models/c795d2/experimental/Session2\\c795d2_MI_classifier_2019-03-15-11-08-08.sav\n",
      "Selecting BCI EEG file: SaveData/c795d2/Session2\\20190214132220_c795d2_BCI.easy\n",
      "Selecting BCI behavioral file: SaveData/c795d2/Session2\\BCI_c795d2_R2.csv\n",
      "Skipping N/A\n"
     ]
    },
    {
     "name": "stderr",
     "output_type": "stream",
     "text": [
      "C:\\Users\\nile\\Anaconda3\\envs\\eeg\\lib\\site-packages\\scipy\\signal\\_arraytools.py:45: FutureWarning: Using a non-tuple sequence for multidimensional indexing is deprecated; use `arr[tuple(seq)]` instead of `arr[seq]`. In the future this will be interpreted as an array index, `arr[np.array(seq)]`, which will result either in an error or a different result.\n",
      "  b = a[a_slice]\n",
      "C:\\Users\\nile\\Anaconda3\\envs\\eeg\\lib\\site-packages\\scipy\\signal\\signaltools.py:3463: FutureWarning: Using a non-tuple sequence for multidimensional indexing is deprecated; use `arr[tuple(seq)]` instead of `arr[seq]`. In the future this will be interpreted as an array index, `arr[np.array(seq)]`, which will result either in an error or a different result.\n",
      "  return y[sl]\n"
     ]
    },
    {
     "name": "stdout",
     "output_type": "stream",
     "text": [
      "Selecting model: Models/c795d2/experimental/Session2\\c795d2_MI_classifier_2019-03-15-11-08-08.sav\n",
      "Selecting model: Models/c795d2/experimental/Session2\\c795d2_MI_classifier_2019-03-15-11-08-20.sav\n",
      "Selecting model: Models/c795d2/experimental/Session2\\c795d2_MI_classifier_TL_2019-03-15-11-08-21.sav\n",
      "Selecting BCI EEG file: SaveData/c795d2/Session2\\20190214132732_c795d2_BCI.easy\n",
      "Selecting BCI behavioral file: SaveData/c795d2/Session2\\BCI_c795d2_R3.csv\n",
      "Skipping N/A\n"
     ]
    },
    {
     "name": "stderr",
     "output_type": "stream",
     "text": [
      "C:\\Users\\nile\\Anaconda3\\envs\\eeg\\lib\\site-packages\\scipy\\signal\\_arraytools.py:45: FutureWarning: Using a non-tuple sequence for multidimensional indexing is deprecated; use `arr[tuple(seq)]` instead of `arr[seq]`. In the future this will be interpreted as an array index, `arr[np.array(seq)]`, which will result either in an error or a different result.\n",
      "  b = a[a_slice]\n",
      "C:\\Users\\nile\\Anaconda3\\envs\\eeg\\lib\\site-packages\\scipy\\signal\\signaltools.py:3463: FutureWarning: Using a non-tuple sequence for multidimensional indexing is deprecated; use `arr[tuple(seq)]` instead of `arr[seq]`. In the future this will be interpreted as an array index, `arr[np.array(seq)]`, which will result either in an error or a different result.\n",
      "  return y[sl]\n"
     ]
    },
    {
     "name": "stdout",
     "output_type": "stream",
     "text": [
      "Selecting model: Models/c795d2/experimental/Session2\\c795d2_MI_classifier_2019-03-15-11-08-08.sav\n",
      "Selecting model: Models/c795d2/experimental/Session2\\c795d2_MI_classifier_2019-03-15-11-08-28.sav\n",
      "Selecting model: Models/c795d2/experimental/Session2\\c795d2_MI_classifier_TL_2019-03-15-11-08-32.sav\n",
      "Selecting BCI EEG file: SaveData/c795d2/Session2\\20190214133251_c795d2_BCI.easy\n",
      "Selecting BCI behavioral file: SaveData/c795d2/Session2\\BCI_c795d2_R4.csv\n",
      "Skipping N/A\n"
     ]
    },
    {
     "name": "stderr",
     "output_type": "stream",
     "text": [
      "C:\\Users\\nile\\Anaconda3\\envs\\eeg\\lib\\site-packages\\scipy\\signal\\_arraytools.py:45: FutureWarning: Using a non-tuple sequence for multidimensional indexing is deprecated; use `arr[tuple(seq)]` instead of `arr[seq]`. In the future this will be interpreted as an array index, `arr[np.array(seq)]`, which will result either in an error or a different result.\n",
      "  b = a[a_slice]\n",
      "C:\\Users\\nile\\Anaconda3\\envs\\eeg\\lib\\site-packages\\scipy\\signal\\signaltools.py:3463: FutureWarning: Using a non-tuple sequence for multidimensional indexing is deprecated; use `arr[tuple(seq)]` instead of `arr[seq]`. In the future this will be interpreted as an array index, `arr[np.array(seq)]`, which will result either in an error or a different result.\n",
      "  return y[sl]\n"
     ]
    },
    {
     "name": "stdout",
     "output_type": "stream",
     "text": [
      "Selecting model: Models/c795d2/experimental/Session2\\c795d2_MI_classifier_2019-03-15-11-08-08.sav\n",
      "Selecting model: Models/c795d2/experimental/Session2\\c795d2_MI_classifier_2019-03-15-11-08-39.sav\n",
      "Selecting model: Models/c795d2/experimental/Session2\\c795d2_MI_classifier_TL_2019-03-15-11-08-42.sav\n",
      "Selecting BCI EEG file: SaveData/c795d2/Session2\\20190214133808_c795d2_BCI.easy\n",
      "Selecting BCI behavioral file: SaveData/c795d2/Session2\\BCI_c795d2_R5.csv\n",
      "Skipping N/A\n"
     ]
    },
    {
     "name": "stderr",
     "output_type": "stream",
     "text": [
      "C:\\Users\\nile\\Anaconda3\\envs\\eeg\\lib\\site-packages\\scipy\\signal\\_arraytools.py:45: FutureWarning: Using a non-tuple sequence for multidimensional indexing is deprecated; use `arr[tuple(seq)]` instead of `arr[seq]`. In the future this will be interpreted as an array index, `arr[np.array(seq)]`, which will result either in an error or a different result.\n",
      "  b = a[a_slice]\n",
      "C:\\Users\\nile\\Anaconda3\\envs\\eeg\\lib\\site-packages\\scipy\\signal\\signaltools.py:3463: FutureWarning: Using a non-tuple sequence for multidimensional indexing is deprecated; use `arr[tuple(seq)]` instead of `arr[seq]`. In the future this will be interpreted as an array index, `arr[np.array(seq)]`, which will result either in an error or a different result.\n",
      "  return y[sl]\n"
     ]
    },
    {
     "name": "stdout",
     "output_type": "stream",
     "text": [
      "Selecting model: Models/c795d2/experimental/Session2\\c795d2_MI_classifier_2019-03-15-11-08-08.sav\n",
      "Selecting model: Models/c795d2/experimental/Session2\\c795d2_MI_classifier_2019-03-15-11-08-50.sav\n",
      "Selecting model: Models/c795d2/experimental/Session2\\c795d2_MI_classifier_TL_2019-03-15-11-08-54.sav\n",
      "Selecting BCI EEG file: SaveData/c795d2/Session3\\20190305161656_c795d2_BCI.easy\n",
      "Selecting BCI behavioral file: SaveData/c795d2/Session3\\BCI_c795d2_R1.csv\n",
      "Skipping N/A\n"
     ]
    },
    {
     "name": "stderr",
     "output_type": "stream",
     "text": [
      "C:\\Users\\nile\\Anaconda3\\envs\\eeg\\lib\\site-packages\\scipy\\signal\\_arraytools.py:45: FutureWarning: Using a non-tuple sequence for multidimensional indexing is deprecated; use `arr[tuple(seq)]` instead of `arr[seq]`. In the future this will be interpreted as an array index, `arr[np.array(seq)]`, which will result either in an error or a different result.\n",
      "  b = a[a_slice]\n",
      "C:\\Users\\nile\\Anaconda3\\envs\\eeg\\lib\\site-packages\\scipy\\signal\\signaltools.py:3463: FutureWarning: Using a non-tuple sequence for multidimensional indexing is deprecated; use `arr[tuple(seq)]` instead of `arr[seq]`. In the future this will be interpreted as an array index, `arr[np.array(seq)]`, which will result either in an error or a different result.\n",
      "  return y[sl]\n"
     ]
    },
    {
     "name": "stdout",
     "output_type": "stream",
     "text": [
      "Selecting model: Models/c795d2/experimental/Session3\\c795d2_MI_classifier_2019-03-15-11-12-33.sav\n",
      "Selecting model: Models/c795d2/experimental/Session3\\c795d2_MI_classifier_2019-03-15-11-12-33.sav\n",
      "Selecting model: Models/c795d2/experimental/Session3\\c795d2_MI_classifier_2019-03-15-11-12-33.sav\n",
      "Selecting BCI EEG file: SaveData/c795d2/Session3\\20190305162152_c795d2_BCI.easy\n",
      "Selecting BCI behavioral file: SaveData/c795d2/Session3\\BCI_c795d2_R2.csv\n",
      "Skipping N/A\n"
     ]
    },
    {
     "name": "stderr",
     "output_type": "stream",
     "text": [
      "C:\\Users\\nile\\Anaconda3\\envs\\eeg\\lib\\site-packages\\scipy\\signal\\_arraytools.py:45: FutureWarning: Using a non-tuple sequence for multidimensional indexing is deprecated; use `arr[tuple(seq)]` instead of `arr[seq]`. In the future this will be interpreted as an array index, `arr[np.array(seq)]`, which will result either in an error or a different result.\n",
      "  b = a[a_slice]\n",
      "C:\\Users\\nile\\Anaconda3\\envs\\eeg\\lib\\site-packages\\scipy\\signal\\signaltools.py:3463: FutureWarning: Using a non-tuple sequence for multidimensional indexing is deprecated; use `arr[tuple(seq)]` instead of `arr[seq]`. In the future this will be interpreted as an array index, `arr[np.array(seq)]`, which will result either in an error or a different result.\n",
      "  return y[sl]\n"
     ]
    },
    {
     "name": "stdout",
     "output_type": "stream",
     "text": [
      "Selecting model: Models/c795d2/experimental/Session3\\c795d2_MI_classifier_2019-03-15-11-12-33.sav\n",
      "Selecting model: Models/c795d2/experimental/Session3\\c795d2_MI_classifier_2019-03-15-11-12-44.sav\n",
      "Selecting model: Models/c795d2/experimental/Session3\\c795d2_MI_classifier_TL_2019-03-15-11-12-45.sav\n",
      "Selecting BCI EEG file: SaveData/c795d2/Session3\\20190305162722_c795d2_BCI.easy\n",
      "Selecting BCI behavioral file: SaveData/c795d2/Session3\\BCI_c795d2_R3.csv\n",
      "Skipping N/A\n"
     ]
    },
    {
     "name": "stderr",
     "output_type": "stream",
     "text": [
      "C:\\Users\\nile\\Anaconda3\\envs\\eeg\\lib\\site-packages\\scipy\\signal\\_arraytools.py:45: FutureWarning: Using a non-tuple sequence for multidimensional indexing is deprecated; use `arr[tuple(seq)]` instead of `arr[seq]`. In the future this will be interpreted as an array index, `arr[np.array(seq)]`, which will result either in an error or a different result.\n",
      "  b = a[a_slice]\n",
      "C:\\Users\\nile\\Anaconda3\\envs\\eeg\\lib\\site-packages\\scipy\\signal\\signaltools.py:3463: FutureWarning: Using a non-tuple sequence for multidimensional indexing is deprecated; use `arr[tuple(seq)]` instead of `arr[seq]`. In the future this will be interpreted as an array index, `arr[np.array(seq)]`, which will result either in an error or a different result.\n",
      "  return y[sl]\n"
     ]
    },
    {
     "name": "stdout",
     "output_type": "stream",
     "text": [
      "Selecting model: Models/c795d2/experimental/Session3\\c795d2_MI_classifier_2019-03-15-11-12-33.sav\n",
      "Selecting model: Models/c795d2/experimental/Session3\\c795d2_MI_classifier_2019-03-15-11-12-51.sav\n",
      "Selecting model: Models/c795d2/experimental/Session3\\c795d2_MI_classifier_TL_2019-03-15-11-12-54.sav\n",
      "Selecting BCI EEG file: SaveData/c795d2/Session3\\20190305163234_c795d2_BCI.easy\n",
      "Selecting BCI behavioral file: SaveData/c795d2/Session3\\BCI_c795d2_R4.csv\n",
      "Skipping N/A\n"
     ]
    },
    {
     "name": "stderr",
     "output_type": "stream",
     "text": [
      "C:\\Users\\nile\\Anaconda3\\envs\\eeg\\lib\\site-packages\\scipy\\signal\\_arraytools.py:45: FutureWarning: Using a non-tuple sequence for multidimensional indexing is deprecated; use `arr[tuple(seq)]` instead of `arr[seq]`. In the future this will be interpreted as an array index, `arr[np.array(seq)]`, which will result either in an error or a different result.\n",
      "  b = a[a_slice]\n",
      "C:\\Users\\nile\\Anaconda3\\envs\\eeg\\lib\\site-packages\\scipy\\signal\\signaltools.py:3463: FutureWarning: Using a non-tuple sequence for multidimensional indexing is deprecated; use `arr[tuple(seq)]` instead of `arr[seq]`. In the future this will be interpreted as an array index, `arr[np.array(seq)]`, which will result either in an error or a different result.\n",
      "  return y[sl]\n"
     ]
    },
    {
     "name": "stdout",
     "output_type": "stream",
     "text": [
      "Selecting model: Models/c795d2/experimental/Session3\\c795d2_MI_classifier_2019-03-15-11-12-33.sav\n",
      "Selecting model: Models/c795d2/experimental/Session3\\c795d2_MI_classifier_2019-03-15-11-13-01.sav\n",
      "Selecting model: Models/c795d2/experimental/Session3\\c795d2_MI_classifier_TL_2019-03-15-11-13-04.sav\n",
      "Selecting BCI EEG file: SaveData/c795d2/Session3\\20190305163828_c795d2_BCI.easy\n",
      "Selecting BCI behavioral file: SaveData/c795d2/Session3\\BCI_c795d2_R5.csv\n",
      "Skipping N/A\n"
     ]
    },
    {
     "name": "stderr",
     "output_type": "stream",
     "text": [
      "C:\\Users\\nile\\Anaconda3\\envs\\eeg\\lib\\site-packages\\scipy\\signal\\_arraytools.py:45: FutureWarning: Using a non-tuple sequence for multidimensional indexing is deprecated; use `arr[tuple(seq)]` instead of `arr[seq]`. In the future this will be interpreted as an array index, `arr[np.array(seq)]`, which will result either in an error or a different result.\n",
      "  b = a[a_slice]\n",
      "C:\\Users\\nile\\Anaconda3\\envs\\eeg\\lib\\site-packages\\scipy\\signal\\signaltools.py:3463: FutureWarning: Using a non-tuple sequence for multidimensional indexing is deprecated; use `arr[tuple(seq)]` instead of `arr[seq]`. In the future this will be interpreted as an array index, `arr[np.array(seq)]`, which will result either in an error or a different result.\n",
      "  return y[sl]\n"
     ]
    },
    {
     "name": "stdout",
     "output_type": "stream",
     "text": [
      "Selecting model: Models/c795d2/experimental/Session3\\c795d2_MI_classifier_2019-03-15-11-12-33.sav\n",
      "Selecting model: Models/c795d2/experimental/Session3\\c795d2_MI_classifier_2019-03-15-11-13-12.sav\n",
      "Selecting model: Models/c795d2/experimental/Session3\\c795d2_MI_classifier_TL_2019-03-15-11-13-16.sav\n",
      "----------------------------------------------------\n",
      "Done storing values for c795d2\n",
      "----------------------------------------------------\n",
      "Selecting BCI EEG file: SaveData/5ea9e5/Session1\\20190207150346_5ea9e5_BCI.easy\n",
      "Selecting BCI behavioral file: SaveData/5ea9e5/Session1\\BCI_5ea9e5_R1.csv\n",
      "Skipping N/A\n"
     ]
    },
    {
     "name": "stderr",
     "output_type": "stream",
     "text": [
      "C:\\Users\\nile\\Anaconda3\\envs\\eeg\\lib\\site-packages\\scipy\\signal\\_arraytools.py:45: FutureWarning: Using a non-tuple sequence for multidimensional indexing is deprecated; use `arr[tuple(seq)]` instead of `arr[seq]`. In the future this will be interpreted as an array index, `arr[np.array(seq)]`, which will result either in an error or a different result.\n",
      "  b = a[a_slice]\n",
      "C:\\Users\\nile\\Anaconda3\\envs\\eeg\\lib\\site-packages\\scipy\\signal\\signaltools.py:3463: FutureWarning: Using a non-tuple sequence for multidimensional indexing is deprecated; use `arr[tuple(seq)]` instead of `arr[seq]`. In the future this will be interpreted as an array index, `arr[np.array(seq)]`, which will result either in an error or a different result.\n",
      "  return y[sl]\n"
     ]
    },
    {
     "name": "stdout",
     "output_type": "stream",
     "text": [
      "Selecting model: Models/5ea9e5/experimental/Session1\\5ea9e5_MI_classifier_2019-03-07-09-21-07.sav\n",
      "Selecting model: Models/5ea9e5/experimental/Session1\\5ea9e5_MI_classifier_2019-03-07-09-21-07.sav\n",
      "Selecting model: Models/5ea9e5/experimental/Session1\\5ea9e5_MI_classifier_2019-03-07-09-21-07.sav\n",
      "Selecting BCI EEG file: SaveData/5ea9e5/Session1\\20190207150949_5ea9e5_BCI.easy\n",
      "Selecting BCI behavioral file: SaveData/5ea9e5/Session1\\BCI_5ea9e5_R2.csv\n",
      "Skipping N/A\n"
     ]
    },
    {
     "name": "stderr",
     "output_type": "stream",
     "text": [
      "C:\\Users\\nile\\Anaconda3\\envs\\eeg\\lib\\site-packages\\scipy\\signal\\_arraytools.py:45: FutureWarning: Using a non-tuple sequence for multidimensional indexing is deprecated; use `arr[tuple(seq)]` instead of `arr[seq]`. In the future this will be interpreted as an array index, `arr[np.array(seq)]`, which will result either in an error or a different result.\n",
      "  b = a[a_slice]\n",
      "C:\\Users\\nile\\Anaconda3\\envs\\eeg\\lib\\site-packages\\scipy\\signal\\signaltools.py:3463: FutureWarning: Using a non-tuple sequence for multidimensional indexing is deprecated; use `arr[tuple(seq)]` instead of `arr[seq]`. In the future this will be interpreted as an array index, `arr[np.array(seq)]`, which will result either in an error or a different result.\n",
      "  return y[sl]\n"
     ]
    },
    {
     "name": "stdout",
     "output_type": "stream",
     "text": [
      "Selecting model: Models/5ea9e5/experimental/Session1\\5ea9e5_MI_classifier_2019-03-07-09-21-07.sav\n",
      "Selecting model: Models/5ea9e5/experimental/Session1\\5ea9e5_MI_classifier_2019-03-07-09-21-11.sav\n",
      "Selecting model: Models/5ea9e5/experimental/Session1\\5ea9e5_MI_classifier_TL_2019-03-07-09-21-12.sav\n",
      "Selecting BCI EEG file: SaveData/5ea9e5/Session1\\20190207151430_5ea9e5_BCI.easy\n",
      "Selecting BCI behavioral file: SaveData/5ea9e5/Session1\\BCI_5ea9e5_R3.csv\n",
      "Skipping N/A\n"
     ]
    },
    {
     "name": "stderr",
     "output_type": "stream",
     "text": [
      "C:\\Users\\nile\\Anaconda3\\envs\\eeg\\lib\\site-packages\\scipy\\signal\\_arraytools.py:45: FutureWarning: Using a non-tuple sequence for multidimensional indexing is deprecated; use `arr[tuple(seq)]` instead of `arr[seq]`. In the future this will be interpreted as an array index, `arr[np.array(seq)]`, which will result either in an error or a different result.\n",
      "  b = a[a_slice]\n",
      "C:\\Users\\nile\\Anaconda3\\envs\\eeg\\lib\\site-packages\\scipy\\signal\\signaltools.py:3463: FutureWarning: Using a non-tuple sequence for multidimensional indexing is deprecated; use `arr[tuple(seq)]` instead of `arr[seq]`. In the future this will be interpreted as an array index, `arr[np.array(seq)]`, which will result either in an error or a different result.\n",
      "  return y[sl]\n"
     ]
    },
    {
     "name": "stdout",
     "output_type": "stream",
     "text": [
      "Selecting model: Models/5ea9e5/experimental/Session1\\5ea9e5_MI_classifier_2019-03-07-09-21-07.sav\n",
      "Selecting model: Models/5ea9e5/experimental/Session1\\5ea9e5_MI_classifier_2019-03-07-09-21-15.sav\n",
      "Selecting model: Models/5ea9e5/experimental/Session1\\5ea9e5_MI_classifier_TL_2019-03-07-09-21-16.sav\n",
      "Selecting BCI EEG file: SaveData/5ea9e5/Session1\\20190207151856_5ea9e5_BCI.easy\n",
      "Selecting BCI behavioral file: SaveData/5ea9e5/Session1\\BCI_5ea9e5_R4.csv\n",
      "Skipping N/A\n"
     ]
    },
    {
     "name": "stderr",
     "output_type": "stream",
     "text": [
      "C:\\Users\\nile\\Anaconda3\\envs\\eeg\\lib\\site-packages\\scipy\\signal\\_arraytools.py:45: FutureWarning: Using a non-tuple sequence for multidimensional indexing is deprecated; use `arr[tuple(seq)]` instead of `arr[seq]`. In the future this will be interpreted as an array index, `arr[np.array(seq)]`, which will result either in an error or a different result.\n",
      "  b = a[a_slice]\n",
      "C:\\Users\\nile\\Anaconda3\\envs\\eeg\\lib\\site-packages\\scipy\\signal\\signaltools.py:3463: FutureWarning: Using a non-tuple sequence for multidimensional indexing is deprecated; use `arr[tuple(seq)]` instead of `arr[seq]`. In the future this will be interpreted as an array index, `arr[np.array(seq)]`, which will result either in an error or a different result.\n",
      "  return y[sl]\n"
     ]
    },
    {
     "name": "stdout",
     "output_type": "stream",
     "text": [
      "Selecting model: Models/5ea9e5/experimental/Session1\\5ea9e5_MI_classifier_2019-03-07-09-21-07.sav\n",
      "Selecting model: Models/5ea9e5/experimental/Session1\\5ea9e5_MI_classifier_2019-03-07-09-21-19.sav\n",
      "Selecting model: Models/5ea9e5/experimental/Session1\\5ea9e5_MI_classifier_TL_2019-03-07-09-21-20.sav\n",
      "Selecting BCI EEG file: SaveData/5ea9e5/Session1\\20190207152318_5ea9e5_BCI.easy\n",
      "Selecting BCI behavioral file: SaveData/5ea9e5/Session1\\BCI_5ea9e5_R5.csv\n",
      "Skipping N/A\n"
     ]
    },
    {
     "name": "stderr",
     "output_type": "stream",
     "text": [
      "C:\\Users\\nile\\Anaconda3\\envs\\eeg\\lib\\site-packages\\scipy\\signal\\_arraytools.py:45: FutureWarning: Using a non-tuple sequence for multidimensional indexing is deprecated; use `arr[tuple(seq)]` instead of `arr[seq]`. In the future this will be interpreted as an array index, `arr[np.array(seq)]`, which will result either in an error or a different result.\n",
      "  b = a[a_slice]\n",
      "C:\\Users\\nile\\Anaconda3\\envs\\eeg\\lib\\site-packages\\scipy\\signal\\signaltools.py:3463: FutureWarning: Using a non-tuple sequence for multidimensional indexing is deprecated; use `arr[tuple(seq)]` instead of `arr[seq]`. In the future this will be interpreted as an array index, `arr[np.array(seq)]`, which will result either in an error or a different result.\n",
      "  return y[sl]\n"
     ]
    },
    {
     "name": "stdout",
     "output_type": "stream",
     "text": [
      "Selecting model: Models/5ea9e5/experimental/Session1\\5ea9e5_MI_classifier_2019-03-07-09-21-07.sav\n",
      "Selecting model: Models/5ea9e5/experimental/Session1\\5ea9e5_MI_classifier_2019-03-07-09-21-23.sav\n",
      "Selecting model: Models/5ea9e5/experimental/Session1\\5ea9e5_MI_classifier_TL_2019-03-07-09-21-25.sav\n",
      "Selecting BCI EEG file: SaveData/5ea9e5/Session2\\20190219131829_5ea9e5_BCI.easy\n",
      "Selecting BCI behavioral file: SaveData/5ea9e5/Session2\\BCI_5ea9e5_R1.csv\n",
      "Skipping N/A\n"
     ]
    },
    {
     "name": "stderr",
     "output_type": "stream",
     "text": [
      "C:\\Users\\nile\\Anaconda3\\envs\\eeg\\lib\\site-packages\\scipy\\signal\\_arraytools.py:45: FutureWarning: Using a non-tuple sequence for multidimensional indexing is deprecated; use `arr[tuple(seq)]` instead of `arr[seq]`. In the future this will be interpreted as an array index, `arr[np.array(seq)]`, which will result either in an error or a different result.\n",
      "  b = a[a_slice]\n",
      "C:\\Users\\nile\\Anaconda3\\envs\\eeg\\lib\\site-packages\\scipy\\signal\\signaltools.py:3463: FutureWarning: Using a non-tuple sequence for multidimensional indexing is deprecated; use `arr[tuple(seq)]` instead of `arr[seq]`. In the future this will be interpreted as an array index, `arr[np.array(seq)]`, which will result either in an error or a different result.\n",
      "  return y[sl]\n"
     ]
    },
    {
     "name": "stdout",
     "output_type": "stream",
     "text": [
      "Selecting model: Models/5ea9e5/experimental/Session2\\5ea9e5_MI_classifier_2019-03-07-09-23-04.sav\n",
      "Selecting model: Models/5ea9e5/experimental/Session2\\5ea9e5_MI_classifier_2019-03-07-09-23-04.sav\n",
      "Selecting model: Models/5ea9e5/experimental/Session2\\5ea9e5_MI_classifier_2019-03-07-09-23-04.sav\n",
      "Selecting BCI EEG file: SaveData/5ea9e5/Session2\\20190219132310_5ea9e5_BCI.easy\n",
      "Selecting BCI behavioral file: SaveData/5ea9e5/Session2\\BCI_5ea9e5_R2.csv\n",
      "Skipping N/A\n"
     ]
    },
    {
     "name": "stderr",
     "output_type": "stream",
     "text": [
      "C:\\Users\\nile\\Anaconda3\\envs\\eeg\\lib\\site-packages\\scipy\\signal\\_arraytools.py:45: FutureWarning: Using a non-tuple sequence for multidimensional indexing is deprecated; use `arr[tuple(seq)]` instead of `arr[seq]`. In the future this will be interpreted as an array index, `arr[np.array(seq)]`, which will result either in an error or a different result.\n",
      "  b = a[a_slice]\n",
      "C:\\Users\\nile\\Anaconda3\\envs\\eeg\\lib\\site-packages\\scipy\\signal\\signaltools.py:3463: FutureWarning: Using a non-tuple sequence for multidimensional indexing is deprecated; use `arr[tuple(seq)]` instead of `arr[seq]`. In the future this will be interpreted as an array index, `arr[np.array(seq)]`, which will result either in an error or a different result.\n",
      "  return y[sl]\n"
     ]
    },
    {
     "name": "stdout",
     "output_type": "stream",
     "text": [
      "Selecting model: Models/5ea9e5/experimental/Session2\\5ea9e5_MI_classifier_2019-03-07-09-23-04.sav\n",
      "Selecting model: Models/5ea9e5/experimental/Session2\\5ea9e5_MI_classifier_2019-03-07-09-23-08.sav\n",
      "Selecting model: Models/5ea9e5/experimental/Session2\\5ea9e5_MI_classifier_TL_2019-03-07-09-23-08.sav\n",
      "Selecting BCI EEG file: SaveData/5ea9e5/Session2\\20190219132741_5ea9e5_BCI.easy\n",
      "Selecting BCI behavioral file: SaveData/5ea9e5/Session2\\BCI_5ea9e5_R3.csv\n",
      "Skipping N/A\n"
     ]
    },
    {
     "name": "stderr",
     "output_type": "stream",
     "text": [
      "C:\\Users\\nile\\Anaconda3\\envs\\eeg\\lib\\site-packages\\scipy\\signal\\_arraytools.py:45: FutureWarning: Using a non-tuple sequence for multidimensional indexing is deprecated; use `arr[tuple(seq)]` instead of `arr[seq]`. In the future this will be interpreted as an array index, `arr[np.array(seq)]`, which will result either in an error or a different result.\n",
      "  b = a[a_slice]\n",
      "C:\\Users\\nile\\Anaconda3\\envs\\eeg\\lib\\site-packages\\scipy\\signal\\signaltools.py:3463: FutureWarning: Using a non-tuple sequence for multidimensional indexing is deprecated; use `arr[tuple(seq)]` instead of `arr[seq]`. In the future this will be interpreted as an array index, `arr[np.array(seq)]`, which will result either in an error or a different result.\n",
      "  return y[sl]\n"
     ]
    },
    {
     "name": "stdout",
     "output_type": "stream",
     "text": [
      "Selecting model: Models/5ea9e5/experimental/Session2\\5ea9e5_MI_classifier_2019-03-07-09-23-04.sav\n",
      "Selecting model: Models/5ea9e5/experimental/Session2\\5ea9e5_MI_classifier_2019-03-07-09-23-11.sav\n",
      "Selecting model: Models/5ea9e5/experimental/Session2\\5ea9e5_MI_classifier_TL_2019-03-07-09-23-12.sav\n",
      "Selecting BCI EEG file: SaveData/5ea9e5/Session2\\20190219133231_5ea9e5_BCI.easy\n",
      "Selecting BCI behavioral file: SaveData/5ea9e5/Session2\\BCI_5ea9e5_R4.csv\n",
      "Skipping N/A\n"
     ]
    },
    {
     "name": "stderr",
     "output_type": "stream",
     "text": [
      "C:\\Users\\nile\\Anaconda3\\envs\\eeg\\lib\\site-packages\\scipy\\signal\\_arraytools.py:45: FutureWarning: Using a non-tuple sequence for multidimensional indexing is deprecated; use `arr[tuple(seq)]` instead of `arr[seq]`. In the future this will be interpreted as an array index, `arr[np.array(seq)]`, which will result either in an error or a different result.\n",
      "  b = a[a_slice]\n",
      "C:\\Users\\nile\\Anaconda3\\envs\\eeg\\lib\\site-packages\\scipy\\signal\\signaltools.py:3463: FutureWarning: Using a non-tuple sequence for multidimensional indexing is deprecated; use `arr[tuple(seq)]` instead of `arr[seq]`. In the future this will be interpreted as an array index, `arr[np.array(seq)]`, which will result either in an error or a different result.\n",
      "  return y[sl]\n"
     ]
    },
    {
     "name": "stdout",
     "output_type": "stream",
     "text": [
      "Selecting model: Models/5ea9e5/experimental/Session2\\5ea9e5_MI_classifier_2019-03-07-09-23-04.sav\n",
      "Selecting model: Models/5ea9e5/experimental/Session2\\5ea9e5_MI_classifier_2019-03-07-09-23-15.sav\n",
      "Selecting model: Models/5ea9e5/experimental/Session2\\5ea9e5_MI_classifier_TL_2019-03-07-09-23-16.sav\n",
      "Selecting BCI EEG file: SaveData/5ea9e5/Session2\\20190219133714_5ea9e5_BCI.easy\n",
      "Selecting BCI behavioral file: SaveData/5ea9e5/Session2\\BCI_5ea9e5_R5.csv\n",
      "Skipping N/A\n"
     ]
    },
    {
     "name": "stderr",
     "output_type": "stream",
     "text": [
      "C:\\Users\\nile\\Anaconda3\\envs\\eeg\\lib\\site-packages\\scipy\\signal\\_arraytools.py:45: FutureWarning: Using a non-tuple sequence for multidimensional indexing is deprecated; use `arr[tuple(seq)]` instead of `arr[seq]`. In the future this will be interpreted as an array index, `arr[np.array(seq)]`, which will result either in an error or a different result.\n",
      "  b = a[a_slice]\n",
      "C:\\Users\\nile\\Anaconda3\\envs\\eeg\\lib\\site-packages\\scipy\\signal\\signaltools.py:3463: FutureWarning: Using a non-tuple sequence for multidimensional indexing is deprecated; use `arr[tuple(seq)]` instead of `arr[seq]`. In the future this will be interpreted as an array index, `arr[np.array(seq)]`, which will result either in an error or a different result.\n",
      "  return y[sl]\n"
     ]
    },
    {
     "name": "stdout",
     "output_type": "stream",
     "text": [
      "Selecting model: Models/5ea9e5/experimental/Session2\\5ea9e5_MI_classifier_2019-03-07-09-23-04.sav\n",
      "Selecting model: Models/5ea9e5/experimental/Session2\\5ea9e5_MI_classifier_2019-03-07-09-23-20.sav\n",
      "Selecting model: Models/5ea9e5/experimental/Session2\\5ea9e5_MI_classifier_TL_2019-03-07-09-23-21.sav\n",
      "Selecting BCI EEG file: SaveData/5ea9e5/Session3\\20190304162150_5ea9e5_BCI.easy\n",
      "Selecting BCI behavioral file: SaveData/5ea9e5/Session3\\BCI_5ea9e5_R1.csv\n",
      "Skipping N/A\n"
     ]
    },
    {
     "name": "stderr",
     "output_type": "stream",
     "text": [
      "C:\\Users\\nile\\Anaconda3\\envs\\eeg\\lib\\site-packages\\scipy\\signal\\_arraytools.py:45: FutureWarning: Using a non-tuple sequence for multidimensional indexing is deprecated; use `arr[tuple(seq)]` instead of `arr[seq]`. In the future this will be interpreted as an array index, `arr[np.array(seq)]`, which will result either in an error or a different result.\n",
      "  b = a[a_slice]\n",
      "C:\\Users\\nile\\Anaconda3\\envs\\eeg\\lib\\site-packages\\scipy\\signal\\signaltools.py:3463: FutureWarning: Using a non-tuple sequence for multidimensional indexing is deprecated; use `arr[tuple(seq)]` instead of `arr[seq]`. In the future this will be interpreted as an array index, `arr[np.array(seq)]`, which will result either in an error or a different result.\n",
      "  return y[sl]\n"
     ]
    },
    {
     "name": "stdout",
     "output_type": "stream",
     "text": [
      "Selecting model: Models/5ea9e5/experimental/Session3\\5ea9e5_MI_classifier_2019-03-07-09-25-00.sav\n",
      "Selecting model: Models/5ea9e5/experimental/Session3\\5ea9e5_MI_classifier_2019-03-07-09-25-00.sav\n",
      "Selecting model: Models/5ea9e5/experimental/Session3\\5ea9e5_MI_classifier_2019-03-07-09-25-00.sav\n",
      "Selecting BCI EEG file: SaveData/5ea9e5/Session3\\20190304162705_5ea9e5_BCI.easy\n",
      "Selecting BCI behavioral file: SaveData/5ea9e5/Session3\\BCI_5ea9e5_R2.csv\n",
      "Skipping N/A\n"
     ]
    },
    {
     "name": "stderr",
     "output_type": "stream",
     "text": [
      "C:\\Users\\nile\\Anaconda3\\envs\\eeg\\lib\\site-packages\\scipy\\signal\\_arraytools.py:45: FutureWarning: Using a non-tuple sequence for multidimensional indexing is deprecated; use `arr[tuple(seq)]` instead of `arr[seq]`. In the future this will be interpreted as an array index, `arr[np.array(seq)]`, which will result either in an error or a different result.\n",
      "  b = a[a_slice]\n",
      "C:\\Users\\nile\\Anaconda3\\envs\\eeg\\lib\\site-packages\\scipy\\signal\\signaltools.py:3463: FutureWarning: Using a non-tuple sequence for multidimensional indexing is deprecated; use `arr[tuple(seq)]` instead of `arr[seq]`. In the future this will be interpreted as an array index, `arr[np.array(seq)]`, which will result either in an error or a different result.\n",
      "  return y[sl]\n"
     ]
    },
    {
     "name": "stdout",
     "output_type": "stream",
     "text": [
      "Selecting model: Models/5ea9e5/experimental/Session3\\5ea9e5_MI_classifier_2019-03-07-09-25-00.sav\n",
      "Selecting model: Models/5ea9e5/experimental/Session3\\5ea9e5_MI_classifier_2019-03-07-09-25-04.sav\n",
      "Selecting model: Models/5ea9e5/experimental/Session3\\5ea9e5_MI_classifier_TL_2019-03-07-09-25-05.sav\n",
      "Selecting BCI EEG file: SaveData/5ea9e5/Session3\\20190304163202_5ea9e5_BCI.easy\n",
      "Selecting BCI behavioral file: SaveData/5ea9e5/Session3\\BCI_5ea9e5_R3.csv\n",
      "Skipping N/A\n"
     ]
    },
    {
     "name": "stderr",
     "output_type": "stream",
     "text": [
      "C:\\Users\\nile\\Anaconda3\\envs\\eeg\\lib\\site-packages\\scipy\\signal\\_arraytools.py:45: FutureWarning: Using a non-tuple sequence for multidimensional indexing is deprecated; use `arr[tuple(seq)]` instead of `arr[seq]`. In the future this will be interpreted as an array index, `arr[np.array(seq)]`, which will result either in an error or a different result.\n",
      "  b = a[a_slice]\n",
      "C:\\Users\\nile\\Anaconda3\\envs\\eeg\\lib\\site-packages\\scipy\\signal\\signaltools.py:3463: FutureWarning: Using a non-tuple sequence for multidimensional indexing is deprecated; use `arr[tuple(seq)]` instead of `arr[seq]`. In the future this will be interpreted as an array index, `arr[np.array(seq)]`, which will result either in an error or a different result.\n",
      "  return y[sl]\n"
     ]
    },
    {
     "name": "stdout",
     "output_type": "stream",
     "text": [
      "Selecting model: Models/5ea9e5/experimental/Session3\\5ea9e5_MI_classifier_2019-03-07-09-25-00.sav\n",
      "Selecting model: Models/5ea9e5/experimental/Session3\\5ea9e5_MI_classifier_2019-03-07-09-25-07.sav\n",
      "Selecting model: Models/5ea9e5/experimental/Session3\\5ea9e5_MI_classifier_TL_2019-03-07-09-25-09.sav\n",
      "Selecting BCI EEG file: SaveData/5ea9e5/Session3\\20190304163740_5ea9e5_BCI.easy\n",
      "Selecting BCI behavioral file: SaveData/5ea9e5/Session3\\BCI_5ea9e5_R4.csv\n",
      "Skipping N/A\n"
     ]
    },
    {
     "name": "stderr",
     "output_type": "stream",
     "text": [
      "C:\\Users\\nile\\Anaconda3\\envs\\eeg\\lib\\site-packages\\scipy\\signal\\_arraytools.py:45: FutureWarning: Using a non-tuple sequence for multidimensional indexing is deprecated; use `arr[tuple(seq)]` instead of `arr[seq]`. In the future this will be interpreted as an array index, `arr[np.array(seq)]`, which will result either in an error or a different result.\n",
      "  b = a[a_slice]\n",
      "C:\\Users\\nile\\Anaconda3\\envs\\eeg\\lib\\site-packages\\scipy\\signal\\signaltools.py:3463: FutureWarning: Using a non-tuple sequence for multidimensional indexing is deprecated; use `arr[tuple(seq)]` instead of `arr[seq]`. In the future this will be interpreted as an array index, `arr[np.array(seq)]`, which will result either in an error or a different result.\n",
      "  return y[sl]\n"
     ]
    },
    {
     "name": "stdout",
     "output_type": "stream",
     "text": [
      "Selecting model: Models/5ea9e5/experimental/Session3\\5ea9e5_MI_classifier_2019-03-07-09-25-00.sav\n",
      "Selecting model: Models/5ea9e5/experimental/Session3\\5ea9e5_MI_classifier_2019-03-07-09-25-11.sav\n",
      "Selecting model: Models/5ea9e5/experimental/Session3\\5ea9e5_MI_classifier_TL_2019-03-07-09-25-13.sav\n",
      "Selecting BCI EEG file: SaveData/5ea9e5/Session3\\20190304164233_5ea9e5_BCI.easy\n",
      "Selecting BCI behavioral file: SaveData/5ea9e5/Session3\\BCI_5ea9e5_R5.csv\n",
      "Skipping N/A\n"
     ]
    },
    {
     "name": "stderr",
     "output_type": "stream",
     "text": [
      "C:\\Users\\nile\\Anaconda3\\envs\\eeg\\lib\\site-packages\\scipy\\signal\\_arraytools.py:45: FutureWarning: Using a non-tuple sequence for multidimensional indexing is deprecated; use `arr[tuple(seq)]` instead of `arr[seq]`. In the future this will be interpreted as an array index, `arr[np.array(seq)]`, which will result either in an error or a different result.\n",
      "  b = a[a_slice]\n",
      "C:\\Users\\nile\\Anaconda3\\envs\\eeg\\lib\\site-packages\\scipy\\signal\\signaltools.py:3463: FutureWarning: Using a non-tuple sequence for multidimensional indexing is deprecated; use `arr[tuple(seq)]` instead of `arr[seq]`. In the future this will be interpreted as an array index, `arr[np.array(seq)]`, which will result either in an error or a different result.\n",
      "  return y[sl]\n"
     ]
    },
    {
     "name": "stdout",
     "output_type": "stream",
     "text": [
      "Selecting model: Models/5ea9e5/experimental/Session3\\5ea9e5_MI_classifier_2019-03-07-09-25-00.sav\n",
      "Selecting model: Models/5ea9e5/experimental/Session3\\5ea9e5_MI_classifier_2019-03-07-09-25-16.sav\n",
      "Selecting model: Models/5ea9e5/experimental/Session3\\5ea9e5_MI_classifier_TL_2019-03-07-09-25-17.sav\n",
      "----------------------------------------------------\n",
      "Done storing values for 5ea9e5\n",
      "----------------------------------------------------\n",
      "Selecting BCI EEG file: SaveData/912433/Session1\\20190215150536_912433_BCI.easy\n",
      "Selecting BCI behavioral file: SaveData/912433/Session1\\BCI_912433_R1.csv\n",
      "Skipping N/A\n"
     ]
    },
    {
     "name": "stderr",
     "output_type": "stream",
     "text": [
      "C:\\Users\\nile\\Anaconda3\\envs\\eeg\\lib\\site-packages\\scipy\\signal\\_arraytools.py:45: FutureWarning: Using a non-tuple sequence for multidimensional indexing is deprecated; use `arr[tuple(seq)]` instead of `arr[seq]`. In the future this will be interpreted as an array index, `arr[np.array(seq)]`, which will result either in an error or a different result.\n",
      "  b = a[a_slice]\n",
      "C:\\Users\\nile\\Anaconda3\\envs\\eeg\\lib\\site-packages\\scipy\\signal\\signaltools.py:3463: FutureWarning: Using a non-tuple sequence for multidimensional indexing is deprecated; use `arr[tuple(seq)]` instead of `arr[seq]`. In the future this will be interpreted as an array index, `arr[np.array(seq)]`, which will result either in an error or a different result.\n",
      "  return y[sl]\n"
     ]
    },
    {
     "name": "stdout",
     "output_type": "stream",
     "text": [
      "Selecting model: Models/912433/experimental/Session1\\912433_MI_classifier_2019-03-15-12-30-27.sav\n",
      "Selecting model: Models/912433/experimental/Session1\\912433_MI_classifier_2019-03-15-12-30-27.sav\n",
      "Selecting model: Models/912433/experimental/Session1\\912433_MI_classifier_2019-03-15-12-30-27.sav\n",
      "Selecting BCI EEG file: SaveData/912433/Session1\\20190215151025_912433_BCI.easy\n",
      "Selecting BCI behavioral file: SaveData/912433/Session1\\BCI_912433_R2.csv\n",
      "Skipping N/A\n"
     ]
    },
    {
     "name": "stderr",
     "output_type": "stream",
     "text": [
      "C:\\Users\\nile\\Anaconda3\\envs\\eeg\\lib\\site-packages\\scipy\\signal\\_arraytools.py:45: FutureWarning: Using a non-tuple sequence for multidimensional indexing is deprecated; use `arr[tuple(seq)]` instead of `arr[seq]`. In the future this will be interpreted as an array index, `arr[np.array(seq)]`, which will result either in an error or a different result.\n",
      "  b = a[a_slice]\n",
      "C:\\Users\\nile\\Anaconda3\\envs\\eeg\\lib\\site-packages\\scipy\\signal\\signaltools.py:3463: FutureWarning: Using a non-tuple sequence for multidimensional indexing is deprecated; use `arr[tuple(seq)]` instead of `arr[seq]`. In the future this will be interpreted as an array index, `arr[np.array(seq)]`, which will result either in an error or a different result.\n",
      "  return y[sl]\n"
     ]
    },
    {
     "name": "stdout",
     "output_type": "stream",
     "text": [
      "Selecting model: Models/912433/experimental/Session1\\912433_MI_classifier_2019-03-15-12-30-31.sav\n",
      "Selecting model: Models/912433/experimental/Session1\\912433_MI_classifier_2019-03-15-12-30-27.sav\n",
      "Selecting model: Models/912433/experimental/Session1\\912433_MI_classifier_TL_2019-03-15-12-30-31.sav\n",
      "Selecting BCI EEG file: SaveData/912433/Session1\\20190215151514_912433_BCI.easy\n",
      "Selecting BCI behavioral file: SaveData/912433/Session1\\BCI_912433_R3.csv\n",
      "Skipping N/A\n"
     ]
    },
    {
     "name": "stderr",
     "output_type": "stream",
     "text": [
      "C:\\Users\\nile\\Anaconda3\\envs\\eeg\\lib\\site-packages\\scipy\\signal\\_arraytools.py:45: FutureWarning: Using a non-tuple sequence for multidimensional indexing is deprecated; use `arr[tuple(seq)]` instead of `arr[seq]`. In the future this will be interpreted as an array index, `arr[np.array(seq)]`, which will result either in an error or a different result.\n",
      "  b = a[a_slice]\n",
      "C:\\Users\\nile\\Anaconda3\\envs\\eeg\\lib\\site-packages\\scipy\\signal\\signaltools.py:3463: FutureWarning: Using a non-tuple sequence for multidimensional indexing is deprecated; use `arr[tuple(seq)]` instead of `arr[seq]`. In the future this will be interpreted as an array index, `arr[np.array(seq)]`, which will result either in an error or a different result.\n",
      "  return y[sl]\n"
     ]
    },
    {
     "name": "stdout",
     "output_type": "stream",
     "text": [
      "Selecting model: Models/912433/experimental/Session1\\912433_MI_classifier_2019-03-15-12-30-34.sav\n",
      "Selecting model: Models/912433/experimental/Session1\\912433_MI_classifier_2019-03-15-12-30-27.sav\n",
      "Selecting model: Models/912433/experimental/Session1\\912433_MI_classifier_TL_2019-03-15-12-30-35.sav\n",
      "Selecting BCI EEG file: SaveData/912433/Session1\\20190215152028_912433_BCI.easy\n",
      "Selecting BCI behavioral file: SaveData/912433/Session1\\BCI_912433_R4.csv\n",
      "Skipping N/A\n"
     ]
    },
    {
     "name": "stderr",
     "output_type": "stream",
     "text": [
      "C:\\Users\\nile\\Anaconda3\\envs\\eeg\\lib\\site-packages\\scipy\\signal\\_arraytools.py:45: FutureWarning: Using a non-tuple sequence for multidimensional indexing is deprecated; use `arr[tuple(seq)]` instead of `arr[seq]`. In the future this will be interpreted as an array index, `arr[np.array(seq)]`, which will result either in an error or a different result.\n",
      "  b = a[a_slice]\n",
      "C:\\Users\\nile\\Anaconda3\\envs\\eeg\\lib\\site-packages\\scipy\\signal\\signaltools.py:3463: FutureWarning: Using a non-tuple sequence for multidimensional indexing is deprecated; use `arr[tuple(seq)]` instead of `arr[seq]`. In the future this will be interpreted as an array index, `arr[np.array(seq)]`, which will result either in an error or a different result.\n",
      "  return y[sl]\n"
     ]
    },
    {
     "name": "stdout",
     "output_type": "stream",
     "text": [
      "Selecting model: Models/912433/experimental/Session1\\912433_MI_classifier_2019-03-15-12-30-37.sav\n",
      "Selecting model: Models/912433/experimental/Session1\\912433_MI_classifier_2019-03-15-12-30-27.sav\n",
      "Selecting model: Models/912433/experimental/Session1\\912433_MI_classifier_TL_2019-03-15-12-30-39.sav\n",
      "Selecting BCI EEG file: SaveData/912433/Session1\\20190215152535_912433_BCI.easy\n",
      "Selecting BCI behavioral file: SaveData/912433/Session1\\BCI_912433_R5.csv\n",
      "Skipping N/A\n"
     ]
    },
    {
     "name": "stderr",
     "output_type": "stream",
     "text": [
      "C:\\Users\\nile\\Anaconda3\\envs\\eeg\\lib\\site-packages\\scipy\\signal\\_arraytools.py:45: FutureWarning: Using a non-tuple sequence for multidimensional indexing is deprecated; use `arr[tuple(seq)]` instead of `arr[seq]`. In the future this will be interpreted as an array index, `arr[np.array(seq)]`, which will result either in an error or a different result.\n",
      "  b = a[a_slice]\n",
      "C:\\Users\\nile\\Anaconda3\\envs\\eeg\\lib\\site-packages\\scipy\\signal\\signaltools.py:3463: FutureWarning: Using a non-tuple sequence for multidimensional indexing is deprecated; use `arr[tuple(seq)]` instead of `arr[seq]`. In the future this will be interpreted as an array index, `arr[np.array(seq)]`, which will result either in an error or a different result.\n",
      "  return y[sl]\n"
     ]
    },
    {
     "name": "stdout",
     "output_type": "stream",
     "text": [
      "Selecting model: Models/912433/experimental/Session1\\912433_MI_classifier_2019-03-15-12-30-41.sav\n",
      "Selecting model: Models/912433/experimental/Session1\\912433_MI_classifier_2019-03-15-12-30-27.sav\n",
      "Selecting model: Models/912433/experimental/Session1\\912433_MI_classifier_TL_2019-03-15-12-30-43.sav\n",
      "Selecting BCI EEG file: SaveData/912433/Session2\\20190220131453_912433_BCI.easy\n",
      "Selecting BCI behavioral file: SaveData/912433/Session2\\BCI_912433_R1.csv\n",
      "Skipping N/A\n"
     ]
    },
    {
     "name": "stderr",
     "output_type": "stream",
     "text": [
      "C:\\Users\\nile\\Anaconda3\\envs\\eeg\\lib\\site-packages\\scipy\\signal\\_arraytools.py:45: FutureWarning: Using a non-tuple sequence for multidimensional indexing is deprecated; use `arr[tuple(seq)]` instead of `arr[seq]`. In the future this will be interpreted as an array index, `arr[np.array(seq)]`, which will result either in an error or a different result.\n",
      "  b = a[a_slice]\n",
      "C:\\Users\\nile\\Anaconda3\\envs\\eeg\\lib\\site-packages\\scipy\\signal\\signaltools.py:3463: FutureWarning: Using a non-tuple sequence for multidimensional indexing is deprecated; use `arr[tuple(seq)]` instead of `arr[seq]`. In the future this will be interpreted as an array index, `arr[np.array(seq)]`, which will result either in an error or a different result.\n",
      "  return y[sl]\n"
     ]
    },
    {
     "name": "stdout",
     "output_type": "stream",
     "text": [
      "Selecting model: Models/912433/experimental/Session2\\912433_MI_classifier_2019-03-15-12-32-25.sav\n",
      "Selecting model: Models/912433/experimental/Session2\\912433_MI_classifier_2019-03-15-12-32-25.sav\n",
      "Selecting model: Models/912433/experimental/Session2\\912433_MI_classifier_2019-03-15-12-32-25.sav\n",
      "Selecting BCI EEG file: SaveData/912433/Session2\\20190220132001_912433_BCI.easy\n",
      "Selecting BCI behavioral file: SaveData/912433/Session2\\BCI_912433_R2.csv\n",
      "Skipping N/A\n"
     ]
    },
    {
     "name": "stderr",
     "output_type": "stream",
     "text": [
      "C:\\Users\\nile\\Anaconda3\\envs\\eeg\\lib\\site-packages\\scipy\\signal\\_arraytools.py:45: FutureWarning: Using a non-tuple sequence for multidimensional indexing is deprecated; use `arr[tuple(seq)]` instead of `arr[seq]`. In the future this will be interpreted as an array index, `arr[np.array(seq)]`, which will result either in an error or a different result.\n",
      "  b = a[a_slice]\n",
      "C:\\Users\\nile\\Anaconda3\\envs\\eeg\\lib\\site-packages\\scipy\\signal\\signaltools.py:3463: FutureWarning: Using a non-tuple sequence for multidimensional indexing is deprecated; use `arr[tuple(seq)]` instead of `arr[seq]`. In the future this will be interpreted as an array index, `arr[np.array(seq)]`, which will result either in an error or a different result.\n",
      "  return y[sl]\n"
     ]
    },
    {
     "name": "stdout",
     "output_type": "stream",
     "text": [
      "Selecting model: Models/912433/experimental/Session2\\912433_MI_classifier_2019-03-15-12-32-29.sav\n",
      "Selecting model: Models/912433/experimental/Session2\\912433_MI_classifier_2019-03-15-12-32-25.sav\n",
      "Selecting model: Models/912433/experimental/Session2\\912433_MI_classifier_TL_2019-03-15-12-32-29.sav\n",
      "Selecting BCI EEG file: SaveData/912433/Session2\\20190220132518_912433_BCI.easy\n",
      "Selecting BCI behavioral file: SaveData/912433/Session2\\BCI_912433_R3.csv\n",
      "Skipping N/A\n"
     ]
    },
    {
     "name": "stderr",
     "output_type": "stream",
     "text": [
      "C:\\Users\\nile\\Anaconda3\\envs\\eeg\\lib\\site-packages\\scipy\\signal\\_arraytools.py:45: FutureWarning: Using a non-tuple sequence for multidimensional indexing is deprecated; use `arr[tuple(seq)]` instead of `arr[seq]`. In the future this will be interpreted as an array index, `arr[np.array(seq)]`, which will result either in an error or a different result.\n",
      "  b = a[a_slice]\n",
      "C:\\Users\\nile\\Anaconda3\\envs\\eeg\\lib\\site-packages\\scipy\\signal\\signaltools.py:3463: FutureWarning: Using a non-tuple sequence for multidimensional indexing is deprecated; use `arr[tuple(seq)]` instead of `arr[seq]`. In the future this will be interpreted as an array index, `arr[np.array(seq)]`, which will result either in an error or a different result.\n",
      "  return y[sl]\n"
     ]
    },
    {
     "name": "stdout",
     "output_type": "stream",
     "text": [
      "Selecting model: Models/912433/experimental/Session2\\912433_MI_classifier_2019-03-15-12-32-32.sav\n",
      "Selecting model: Models/912433/experimental/Session2\\912433_MI_classifier_2019-03-15-12-32-25.sav\n",
      "Selecting model: Models/912433/experimental/Session2\\912433_MI_classifier_TL_2019-03-15-12-32-34.sav\n",
      "Selecting BCI EEG file: SaveData/912433/Session2\\20190220133024_912433_BCI.easy\n",
      "Selecting BCI behavioral file: SaveData/912433/Session2\\BCI_912433_R4.csv\n",
      "Skipping N/A\n"
     ]
    },
    {
     "name": "stderr",
     "output_type": "stream",
     "text": [
      "C:\\Users\\nile\\Anaconda3\\envs\\eeg\\lib\\site-packages\\scipy\\signal\\_arraytools.py:45: FutureWarning: Using a non-tuple sequence for multidimensional indexing is deprecated; use `arr[tuple(seq)]` instead of `arr[seq]`. In the future this will be interpreted as an array index, `arr[np.array(seq)]`, which will result either in an error or a different result.\n",
      "  b = a[a_slice]\n",
      "C:\\Users\\nile\\Anaconda3\\envs\\eeg\\lib\\site-packages\\scipy\\signal\\signaltools.py:3463: FutureWarning: Using a non-tuple sequence for multidimensional indexing is deprecated; use `arr[tuple(seq)]` instead of `arr[seq]`. In the future this will be interpreted as an array index, `arr[np.array(seq)]`, which will result either in an error or a different result.\n",
      "  return y[sl]\n"
     ]
    },
    {
     "name": "stdout",
     "output_type": "stream",
     "text": [
      "Selecting model: Models/912433/experimental/Session2\\912433_MI_classifier_2019-03-15-12-32-36.sav\n",
      "Selecting model: Models/912433/experimental/Session2\\912433_MI_classifier_2019-03-15-12-32-25.sav\n",
      "Selecting model: Models/912433/experimental/Session2\\912433_MI_classifier_TL_2019-03-15-12-32-38.sav\n",
      "Selecting BCI EEG file: SaveData/912433/Session2\\20190220133518_912433_BCI.easy\n",
      "Selecting BCI behavioral file: SaveData/912433/Session2\\BCI_912433_R5.csv\n",
      "Skipping N/A\n"
     ]
    },
    {
     "name": "stderr",
     "output_type": "stream",
     "text": [
      "C:\\Users\\nile\\Anaconda3\\envs\\eeg\\lib\\site-packages\\scipy\\signal\\_arraytools.py:45: FutureWarning: Using a non-tuple sequence for multidimensional indexing is deprecated; use `arr[tuple(seq)]` instead of `arr[seq]`. In the future this will be interpreted as an array index, `arr[np.array(seq)]`, which will result either in an error or a different result.\n",
      "  b = a[a_slice]\n",
      "C:\\Users\\nile\\Anaconda3\\envs\\eeg\\lib\\site-packages\\scipy\\signal\\signaltools.py:3463: FutureWarning: Using a non-tuple sequence for multidimensional indexing is deprecated; use `arr[tuple(seq)]` instead of `arr[seq]`. In the future this will be interpreted as an array index, `arr[np.array(seq)]`, which will result either in an error or a different result.\n",
      "  return y[sl]\n"
     ]
    },
    {
     "name": "stdout",
     "output_type": "stream",
     "text": [
      "Selecting model: Models/912433/experimental/Session2\\912433_MI_classifier_2019-03-15-12-32-40.sav\n",
      "Selecting model: Models/912433/experimental/Session2\\912433_MI_classifier_2019-03-15-12-32-25.sav\n",
      "Selecting model: Models/912433/experimental/Session2\\912433_MI_classifier_TL_2019-03-15-12-32-42.sav\n",
      "Selecting BCI EEG file: SaveData/912433/Session3\\20190221161538_912433_BCI.easy\n",
      "Selecting BCI behavioral file: SaveData/912433/Session3\\BCI_912433_R1.csv\n",
      "Skipping N/A\n"
     ]
    },
    {
     "name": "stderr",
     "output_type": "stream",
     "text": [
      "C:\\Users\\nile\\Anaconda3\\envs\\eeg\\lib\\site-packages\\scipy\\signal\\_arraytools.py:45: FutureWarning: Using a non-tuple sequence for multidimensional indexing is deprecated; use `arr[tuple(seq)]` instead of `arr[seq]`. In the future this will be interpreted as an array index, `arr[np.array(seq)]`, which will result either in an error or a different result.\n",
      "  b = a[a_slice]\n",
      "C:\\Users\\nile\\Anaconda3\\envs\\eeg\\lib\\site-packages\\scipy\\signal\\signaltools.py:3463: FutureWarning: Using a non-tuple sequence for multidimensional indexing is deprecated; use `arr[tuple(seq)]` instead of `arr[seq]`. In the future this will be interpreted as an array index, `arr[np.array(seq)]`, which will result either in an error or a different result.\n",
      "  return y[sl]\n"
     ]
    },
    {
     "name": "stdout",
     "output_type": "stream",
     "text": [
      "Selecting model: Models/912433/experimental/Session3\\912433_MI_classifier_2019-03-15-12-34-21.sav\n",
      "Selecting model: Models/912433/experimental/Session3\\912433_MI_classifier_2019-03-15-12-34-21.sav\n",
      "Selecting model: Models/912433/experimental/Session3\\912433_MI_classifier_2019-03-15-12-34-21.sav\n",
      "Selecting BCI EEG file: SaveData/912433/Session3\\20190221162100_912433_BCI.easy\n",
      "Selecting BCI behavioral file: SaveData/912433/Session3\\BCI_912433_R2.csv\n",
      "Skipping N/A\n"
     ]
    },
    {
     "name": "stderr",
     "output_type": "stream",
     "text": [
      "C:\\Users\\nile\\Anaconda3\\envs\\eeg\\lib\\site-packages\\scipy\\signal\\_arraytools.py:45: FutureWarning: Using a non-tuple sequence for multidimensional indexing is deprecated; use `arr[tuple(seq)]` instead of `arr[seq]`. In the future this will be interpreted as an array index, `arr[np.array(seq)]`, which will result either in an error or a different result.\n",
      "  b = a[a_slice]\n",
      "C:\\Users\\nile\\Anaconda3\\envs\\eeg\\lib\\site-packages\\scipy\\signal\\signaltools.py:3463: FutureWarning: Using a non-tuple sequence for multidimensional indexing is deprecated; use `arr[tuple(seq)]` instead of `arr[seq]`. In the future this will be interpreted as an array index, `arr[np.array(seq)]`, which will result either in an error or a different result.\n",
      "  return y[sl]\n"
     ]
    },
    {
     "name": "stdout",
     "output_type": "stream",
     "text": [
      "Selecting model: Models/912433/experimental/Session3\\912433_MI_classifier_2019-03-15-12-34-25.sav\n",
      "Selecting model: Models/912433/experimental/Session3\\912433_MI_classifier_2019-03-15-12-34-21.sav\n",
      "Selecting model: Models/912433/experimental/Session3\\912433_MI_classifier_TL_2019-03-15-12-34-26.sav\n",
      "Selecting BCI EEG file: SaveData/912433/Session3\\20190221162605_912433_BCI.easy\n",
      "Selecting BCI behavioral file: SaveData/912433/Session3\\BCI_912433_R3.csv\n",
      "Skipping N/A\n"
     ]
    },
    {
     "name": "stderr",
     "output_type": "stream",
     "text": [
      "C:\\Users\\nile\\Anaconda3\\envs\\eeg\\lib\\site-packages\\scipy\\signal\\_arraytools.py:45: FutureWarning: Using a non-tuple sequence for multidimensional indexing is deprecated; use `arr[tuple(seq)]` instead of `arr[seq]`. In the future this will be interpreted as an array index, `arr[np.array(seq)]`, which will result either in an error or a different result.\n",
      "  b = a[a_slice]\n",
      "C:\\Users\\nile\\Anaconda3\\envs\\eeg\\lib\\site-packages\\scipy\\signal\\signaltools.py:3463: FutureWarning: Using a non-tuple sequence for multidimensional indexing is deprecated; use `arr[tuple(seq)]` instead of `arr[seq]`. In the future this will be interpreted as an array index, `arr[np.array(seq)]`, which will result either in an error or a different result.\n",
      "  return y[sl]\n"
     ]
    },
    {
     "name": "stdout",
     "output_type": "stream",
     "text": [
      "Selecting model: Models/912433/experimental/Session3\\912433_MI_classifier_2019-03-15-12-34-28.sav\n",
      "Selecting model: Models/912433/experimental/Session3\\912433_MI_classifier_2019-03-15-12-34-21.sav\n",
      "Selecting model: Models/912433/experimental/Session3\\912433_MI_classifier_TL_2019-03-15-12-34-30.sav\n",
      "Selecting BCI EEG file: SaveData/912433/Session3\\20190221163121_912433_BCI.easy\n",
      "Selecting BCI behavioral file: SaveData/912433/Session3\\BCI_912433_R4.csv\n",
      "Skipping N/A\n"
     ]
    },
    {
     "name": "stderr",
     "output_type": "stream",
     "text": [
      "C:\\Users\\nile\\Anaconda3\\envs\\eeg\\lib\\site-packages\\scipy\\signal\\_arraytools.py:45: FutureWarning: Using a non-tuple sequence for multidimensional indexing is deprecated; use `arr[tuple(seq)]` instead of `arr[seq]`. In the future this will be interpreted as an array index, `arr[np.array(seq)]`, which will result either in an error or a different result.\n",
      "  b = a[a_slice]\n",
      "C:\\Users\\nile\\Anaconda3\\envs\\eeg\\lib\\site-packages\\scipy\\signal\\signaltools.py:3463: FutureWarning: Using a non-tuple sequence for multidimensional indexing is deprecated; use `arr[tuple(seq)]` instead of `arr[seq]`. In the future this will be interpreted as an array index, `arr[np.array(seq)]`, which will result either in an error or a different result.\n",
      "  return y[sl]\n"
     ]
    },
    {
     "name": "stdout",
     "output_type": "stream",
     "text": [
      "Selecting model: Models/912433/experimental/Session3\\912433_MI_classifier_2019-03-15-12-34-32.sav\n",
      "Selecting model: Models/912433/experimental/Session3\\912433_MI_classifier_2019-03-15-12-34-21.sav\n",
      "Selecting model: Models/912433/experimental/Session3\\912433_MI_classifier_TL_2019-03-15-12-34-34.sav\n",
      "Selecting BCI EEG file: SaveData/912433/Session3\\20190221163614_912433_BCI.easy\n",
      "Selecting BCI behavioral file: SaveData/912433/Session3\\BCI_912433_R5.csv\n",
      "Skipping N/A\n"
     ]
    },
    {
     "name": "stderr",
     "output_type": "stream",
     "text": [
      "C:\\Users\\nile\\Anaconda3\\envs\\eeg\\lib\\site-packages\\scipy\\signal\\_arraytools.py:45: FutureWarning: Using a non-tuple sequence for multidimensional indexing is deprecated; use `arr[tuple(seq)]` instead of `arr[seq]`. In the future this will be interpreted as an array index, `arr[np.array(seq)]`, which will result either in an error or a different result.\n",
      "  b = a[a_slice]\n",
      "C:\\Users\\nile\\Anaconda3\\envs\\eeg\\lib\\site-packages\\scipy\\signal\\signaltools.py:3463: FutureWarning: Using a non-tuple sequence for multidimensional indexing is deprecated; use `arr[tuple(seq)]` instead of `arr[seq]`. In the future this will be interpreted as an array index, `arr[np.array(seq)]`, which will result either in an error or a different result.\n",
      "  return y[sl]\n"
     ]
    },
    {
     "name": "stdout",
     "output_type": "stream",
     "text": [
      "Selecting model: Models/912433/experimental/Session3\\912433_MI_classifier_2019-03-15-12-34-36.sav\n",
      "Selecting model: Models/912433/experimental/Session3\\912433_MI_classifier_2019-03-15-12-34-21.sav\n",
      "Selecting model: Models/912433/experimental/Session3\\912433_MI_classifier_TL_2019-03-15-12-34-37.sav\n",
      "----------------------------------------------------\n",
      "Done storing values for 912433\n",
      "----------------------------------------------------\n",
      "Selecting BCI EEG file: SaveData/6f6b76/Session1\\20190219092959_6f6b76_BCI.easy\n",
      "Selecting BCI behavioral file: SaveData/6f6b76/Session1\\BCI_6f6b76_R1.csv\n",
      "Skipping N/A\n"
     ]
    },
    {
     "name": "stderr",
     "output_type": "stream",
     "text": [
      "C:\\Users\\nile\\Anaconda3\\envs\\eeg\\lib\\site-packages\\scipy\\signal\\_arraytools.py:45: FutureWarning: Using a non-tuple sequence for multidimensional indexing is deprecated; use `arr[tuple(seq)]` instead of `arr[seq]`. In the future this will be interpreted as an array index, `arr[np.array(seq)]`, which will result either in an error or a different result.\n",
      "  b = a[a_slice]\n",
      "C:\\Users\\nile\\Anaconda3\\envs\\eeg\\lib\\site-packages\\scipy\\signal\\signaltools.py:3463: FutureWarning: Using a non-tuple sequence for multidimensional indexing is deprecated; use `arr[tuple(seq)]` instead of `arr[seq]`. In the future this will be interpreted as an array index, `arr[np.array(seq)]`, which will result either in an error or a different result.\n",
      "  return y[sl]\n"
     ]
    },
    {
     "name": "stdout",
     "output_type": "stream",
     "text": [
      "Selecting model: Models/6f6b76/experimental/Session1\\6f6b76_MI_classifier_2019-03-15-12-43-04.sav\n",
      "Selecting model: Models/6f6b76/experimental/Session1\\6f6b76_MI_classifier_2019-03-15-12-43-04.sav\n",
      "Selecting model: Models/6f6b76/experimental/Session1\\6f6b76_MI_classifier_2019-03-15-12-43-04.sav\n",
      "Selecting BCI EEG file: SaveData/6f6b76/Session1\\20190219093511_6f6b76_BCI.easy\n",
      "Selecting BCI behavioral file: SaveData/6f6b76/Session1\\BCI_6f6b76_R2.csv\n",
      "Skipping N/A\n"
     ]
    },
    {
     "name": "stderr",
     "output_type": "stream",
     "text": [
      "C:\\Users\\nile\\Anaconda3\\envs\\eeg\\lib\\site-packages\\scipy\\signal\\_arraytools.py:45: FutureWarning: Using a non-tuple sequence for multidimensional indexing is deprecated; use `arr[tuple(seq)]` instead of `arr[seq]`. In the future this will be interpreted as an array index, `arr[np.array(seq)]`, which will result either in an error or a different result.\n",
      "  b = a[a_slice]\n",
      "C:\\Users\\nile\\Anaconda3\\envs\\eeg\\lib\\site-packages\\scipy\\signal\\signaltools.py:3463: FutureWarning: Using a non-tuple sequence for multidimensional indexing is deprecated; use `arr[tuple(seq)]` instead of `arr[seq]`. In the future this will be interpreted as an array index, `arr[np.array(seq)]`, which will result either in an error or a different result.\n",
      "  return y[sl]\n"
     ]
    },
    {
     "name": "stdout",
     "output_type": "stream",
     "text": [
      "Selecting model: Models/6f6b76/experimental/Session1\\6f6b76_MI_classifier_2019-03-15-12-43-08.sav\n",
      "Selecting model: Models/6f6b76/experimental/Session1\\6f6b76_MI_classifier_2019-03-15-12-43-04.sav\n",
      "Selecting model: Models/6f6b76/experimental/Session1\\6f6b76_MI_classifier_TL_2019-03-15-12-43-09.sav\n",
      "Selecting BCI EEG file: SaveData/6f6b76/Session1\\20190219094046_6f6b76_BCI.easy\n",
      "Selecting BCI behavioral file: SaveData/6f6b76/Session1\\BCI_6f6b76_R3.csv\n",
      "Skipping N/A\n"
     ]
    },
    {
     "name": "stderr",
     "output_type": "stream",
     "text": [
      "C:\\Users\\nile\\Anaconda3\\envs\\eeg\\lib\\site-packages\\scipy\\signal\\_arraytools.py:45: FutureWarning: Using a non-tuple sequence for multidimensional indexing is deprecated; use `arr[tuple(seq)]` instead of `arr[seq]`. In the future this will be interpreted as an array index, `arr[np.array(seq)]`, which will result either in an error or a different result.\n",
      "  b = a[a_slice]\n",
      "C:\\Users\\nile\\Anaconda3\\envs\\eeg\\lib\\site-packages\\scipy\\signal\\signaltools.py:3463: FutureWarning: Using a non-tuple sequence for multidimensional indexing is deprecated; use `arr[tuple(seq)]` instead of `arr[seq]`. In the future this will be interpreted as an array index, `arr[np.array(seq)]`, which will result either in an error or a different result.\n",
      "  return y[sl]\n"
     ]
    },
    {
     "name": "stdout",
     "output_type": "stream",
     "text": [
      "Selecting model: Models/6f6b76/experimental/Session1\\6f6b76_MI_classifier_2019-03-15-12-43-12.sav\n",
      "Selecting model: Models/6f6b76/experimental/Session1\\6f6b76_MI_classifier_2019-03-15-12-43-04.sav\n",
      "Selecting model: Models/6f6b76/experimental/Session1\\6f6b76_MI_classifier_TL_2019-03-15-12-43-13.sav\n",
      "Selecting BCI EEG file: SaveData/6f6b76/Session1\\20190219094542_6f6b76_BCI.easy\n",
      "Selecting BCI behavioral file: SaveData/6f6b76/Session1\\BCI_6f6b76_R4.csv\n",
      "Skipping N/A\n"
     ]
    },
    {
     "name": "stderr",
     "output_type": "stream",
     "text": [
      "C:\\Users\\nile\\Anaconda3\\envs\\eeg\\lib\\site-packages\\scipy\\signal\\_arraytools.py:45: FutureWarning: Using a non-tuple sequence for multidimensional indexing is deprecated; use `arr[tuple(seq)]` instead of `arr[seq]`. In the future this will be interpreted as an array index, `arr[np.array(seq)]`, which will result either in an error or a different result.\n",
      "  b = a[a_slice]\n",
      "C:\\Users\\nile\\Anaconda3\\envs\\eeg\\lib\\site-packages\\scipy\\signal\\signaltools.py:3463: FutureWarning: Using a non-tuple sequence for multidimensional indexing is deprecated; use `arr[tuple(seq)]` instead of `arr[seq]`. In the future this will be interpreted as an array index, `arr[np.array(seq)]`, which will result either in an error or a different result.\n",
      "  return y[sl]\n"
     ]
    },
    {
     "name": "stdout",
     "output_type": "stream",
     "text": [
      "Selecting model: Models/6f6b76/experimental/Session1\\6f6b76_MI_classifier_2019-03-15-12-43-15.sav\n",
      "Selecting model: Models/6f6b76/experimental/Session1\\6f6b76_MI_classifier_2019-03-15-12-43-04.sav\n",
      "Selecting model: Models/6f6b76/experimental/Session1\\6f6b76_MI_classifier_TL_2019-03-15-12-43-17.sav\n",
      "Selecting BCI EEG file: SaveData/6f6b76/Session1\\20190219095102_6f6b76_BCI.easy\n",
      "Selecting BCI behavioral file: SaveData/6f6b76/Session1\\BCI_6f6b76_R5.csv\n",
      "Skipping N/A\n"
     ]
    },
    {
     "name": "stderr",
     "output_type": "stream",
     "text": [
      "C:\\Users\\nile\\Anaconda3\\envs\\eeg\\lib\\site-packages\\scipy\\signal\\_arraytools.py:45: FutureWarning: Using a non-tuple sequence for multidimensional indexing is deprecated; use `arr[tuple(seq)]` instead of `arr[seq]`. In the future this will be interpreted as an array index, `arr[np.array(seq)]`, which will result either in an error or a different result.\n",
      "  b = a[a_slice]\n",
      "C:\\Users\\nile\\Anaconda3\\envs\\eeg\\lib\\site-packages\\scipy\\signal\\signaltools.py:3463: FutureWarning: Using a non-tuple sequence for multidimensional indexing is deprecated; use `arr[tuple(seq)]` instead of `arr[seq]`. In the future this will be interpreted as an array index, `arr[np.array(seq)]`, which will result either in an error or a different result.\n",
      "  return y[sl]\n"
     ]
    },
    {
     "name": "stdout",
     "output_type": "stream",
     "text": [
      "Selecting model: Models/6f6b76/experimental/Session1\\6f6b76_MI_classifier_2019-03-15-12-43-19.sav\n",
      "Selecting model: Models/6f6b76/experimental/Session1\\6f6b76_MI_classifier_2019-03-15-12-43-04.sav\n",
      "Selecting model: Models/6f6b76/experimental/Session1\\6f6b76_MI_classifier_TL_2019-03-15-12-43-20.sav\n",
      "Selecting BCI EEG file: SaveData/6f6b76/Session2\\20190220090651_6f6b76_BCI.easy\n",
      "Selecting BCI behavioral file: SaveData/6f6b76/Session2\\BCI_6f6b76_R1.csv\n",
      "Skipping N/A\n"
     ]
    },
    {
     "name": "stderr",
     "output_type": "stream",
     "text": [
      "C:\\Users\\nile\\Anaconda3\\envs\\eeg\\lib\\site-packages\\scipy\\signal\\_arraytools.py:45: FutureWarning: Using a non-tuple sequence for multidimensional indexing is deprecated; use `arr[tuple(seq)]` instead of `arr[seq]`. In the future this will be interpreted as an array index, `arr[np.array(seq)]`, which will result either in an error or a different result.\n",
      "  b = a[a_slice]\n",
      "C:\\Users\\nile\\Anaconda3\\envs\\eeg\\lib\\site-packages\\scipy\\signal\\signaltools.py:3463: FutureWarning: Using a non-tuple sequence for multidimensional indexing is deprecated; use `arr[tuple(seq)]` instead of `arr[seq]`. In the future this will be interpreted as an array index, `arr[np.array(seq)]`, which will result either in an error or a different result.\n",
      "  return y[sl]\n"
     ]
    },
    {
     "name": "stdout",
     "output_type": "stream",
     "text": [
      "Selecting model: Models/6f6b76/experimental/Session2\\6f6b76_MI_classifier_2019-03-15-12-49-46.sav\n",
      "Selecting model: Models/6f6b76/experimental/Session2\\6f6b76_MI_classifier_2019-03-15-12-49-46.sav\n",
      "Selecting model: Models/6f6b76/experimental/Session2\\6f6b76_MI_classifier_2019-03-15-12-49-46.sav\n",
      "Selecting BCI EEG file: SaveData/6f6b76/Session2\\20190220091141_6f6b76_BCI.easy\n",
      "Selecting BCI behavioral file: SaveData/6f6b76/Session2\\BCI_6f6b76_R2.csv\n",
      "Skipping N/A\n"
     ]
    },
    {
     "name": "stderr",
     "output_type": "stream",
     "text": [
      "C:\\Users\\nile\\Anaconda3\\envs\\eeg\\lib\\site-packages\\scipy\\signal\\_arraytools.py:45: FutureWarning: Using a non-tuple sequence for multidimensional indexing is deprecated; use `arr[tuple(seq)]` instead of `arr[seq]`. In the future this will be interpreted as an array index, `arr[np.array(seq)]`, which will result either in an error or a different result.\n",
      "  b = a[a_slice]\n",
      "C:\\Users\\nile\\Anaconda3\\envs\\eeg\\lib\\site-packages\\scipy\\signal\\signaltools.py:3463: FutureWarning: Using a non-tuple sequence for multidimensional indexing is deprecated; use `arr[tuple(seq)]` instead of `arr[seq]`. In the future this will be interpreted as an array index, `arr[np.array(seq)]`, which will result either in an error or a different result.\n",
      "  return y[sl]\n"
     ]
    },
    {
     "name": "stdout",
     "output_type": "stream",
     "text": [
      "Selecting model: Models/6f6b76/experimental/Session2\\6f6b76_MI_classifier_2019-03-15-12-49-50.sav\n",
      "Selecting model: Models/6f6b76/experimental/Session2\\6f6b76_MI_classifier_2019-03-15-12-49-46.sav\n",
      "Selecting model: Models/6f6b76/experimental/Session2\\6f6b76_MI_classifier_TL_2019-03-15-12-49-50.sav\n",
      "Selecting BCI EEG file: SaveData/6f6b76/Session2\\20190220091639_6f6b76_BCI.easy\n",
      "Selecting BCI behavioral file: SaveData/6f6b76/Session2\\BCI_6f6b76_R3.csv\n",
      "Skipping N/A\n"
     ]
    },
    {
     "name": "stderr",
     "output_type": "stream",
     "text": [
      "C:\\Users\\nile\\Anaconda3\\envs\\eeg\\lib\\site-packages\\scipy\\signal\\_arraytools.py:45: FutureWarning: Using a non-tuple sequence for multidimensional indexing is deprecated; use `arr[tuple(seq)]` instead of `arr[seq]`. In the future this will be interpreted as an array index, `arr[np.array(seq)]`, which will result either in an error or a different result.\n",
      "  b = a[a_slice]\n",
      "C:\\Users\\nile\\Anaconda3\\envs\\eeg\\lib\\site-packages\\scipy\\signal\\signaltools.py:3463: FutureWarning: Using a non-tuple sequence for multidimensional indexing is deprecated; use `arr[tuple(seq)]` instead of `arr[seq]`. In the future this will be interpreted as an array index, `arr[np.array(seq)]`, which will result either in an error or a different result.\n",
      "  return y[sl]\n"
     ]
    },
    {
     "name": "stdout",
     "output_type": "stream",
     "text": [
      "Selecting model: Models/6f6b76/experimental/Session2\\6f6b76_MI_classifier_2019-03-15-12-49-53.sav\n",
      "Selecting model: Models/6f6b76/experimental/Session2\\6f6b76_MI_classifier_2019-03-15-12-49-46.sav\n",
      "Selecting model: Models/6f6b76/experimental/Session2\\6f6b76_MI_classifier_TL_2019-03-15-12-49-54.sav\n",
      "Selecting BCI EEG file: SaveData/6f6b76/Session2\\20190220092131_6f6b76_BCI.easy\n",
      "Selecting BCI behavioral file: SaveData/6f6b76/Session2\\BCI_6f6b76_R4.csv\n",
      "Skipping N/A\n"
     ]
    },
    {
     "name": "stderr",
     "output_type": "stream",
     "text": [
      "C:\\Users\\nile\\Anaconda3\\envs\\eeg\\lib\\site-packages\\scipy\\signal\\_arraytools.py:45: FutureWarning: Using a non-tuple sequence for multidimensional indexing is deprecated; use `arr[tuple(seq)]` instead of `arr[seq]`. In the future this will be interpreted as an array index, `arr[np.array(seq)]`, which will result either in an error or a different result.\n",
      "  b = a[a_slice]\n",
      "C:\\Users\\nile\\Anaconda3\\envs\\eeg\\lib\\site-packages\\scipy\\signal\\signaltools.py:3463: FutureWarning: Using a non-tuple sequence for multidimensional indexing is deprecated; use `arr[tuple(seq)]` instead of `arr[seq]`. In the future this will be interpreted as an array index, `arr[np.array(seq)]`, which will result either in an error or a different result.\n",
      "  return y[sl]\n"
     ]
    },
    {
     "name": "stdout",
     "output_type": "stream",
     "text": [
      "Selecting model: Models/6f6b76/experimental/Session2\\6f6b76_MI_classifier_2019-03-15-12-49-57.sav\n",
      "Selecting model: Models/6f6b76/experimental/Session2\\6f6b76_MI_classifier_2019-03-15-12-49-46.sav\n",
      "Selecting model: Models/6f6b76/experimental/Session2\\6f6b76_MI_classifier_TL_2019-03-15-12-49-58.sav\n",
      "Selecting BCI EEG file: SaveData/6f6b76/Session2\\20190220092622_6f6b76_BCI.easy\n",
      "Selecting BCI behavioral file: SaveData/6f6b76/Session2\\BCI_6f6b76_R5.csv\n",
      "Skipping N/A\n"
     ]
    },
    {
     "name": "stderr",
     "output_type": "stream",
     "text": [
      "C:\\Users\\nile\\Anaconda3\\envs\\eeg\\lib\\site-packages\\scipy\\signal\\_arraytools.py:45: FutureWarning: Using a non-tuple sequence for multidimensional indexing is deprecated; use `arr[tuple(seq)]` instead of `arr[seq]`. In the future this will be interpreted as an array index, `arr[np.array(seq)]`, which will result either in an error or a different result.\n",
      "  b = a[a_slice]\n",
      "C:\\Users\\nile\\Anaconda3\\envs\\eeg\\lib\\site-packages\\scipy\\signal\\signaltools.py:3463: FutureWarning: Using a non-tuple sequence for multidimensional indexing is deprecated; use `arr[tuple(seq)]` instead of `arr[seq]`. In the future this will be interpreted as an array index, `arr[np.array(seq)]`, which will result either in an error or a different result.\n",
      "  return y[sl]\n"
     ]
    },
    {
     "name": "stdout",
     "output_type": "stream",
     "text": [
      "Selecting model: Models/6f6b76/experimental/Session2\\6f6b76_MI_classifier_2019-03-15-12-50-01.sav\n",
      "Selecting model: Models/6f6b76/experimental/Session2\\6f6b76_MI_classifier_2019-03-15-12-49-46.sav\n",
      "Selecting model: Models/6f6b76/experimental/Session2\\6f6b76_MI_classifier_TL_2019-03-15-12-50-02.sav\n",
      "Selecting BCI EEG file: SaveData/6f6b76/Session3\\20190221090606_6f6b76_BCI.easy\n",
      "Selecting BCI behavioral file: SaveData/6f6b76/Session3\\BCI_6f6b76_R1.csv\n",
      "Skipping N/A\n"
     ]
    },
    {
     "name": "stderr",
     "output_type": "stream",
     "text": [
      "C:\\Users\\nile\\Anaconda3\\envs\\eeg\\lib\\site-packages\\scipy\\signal\\_arraytools.py:45: FutureWarning: Using a non-tuple sequence for multidimensional indexing is deprecated; use `arr[tuple(seq)]` instead of `arr[seq]`. In the future this will be interpreted as an array index, `arr[np.array(seq)]`, which will result either in an error or a different result.\n",
      "  b = a[a_slice]\n",
      "C:\\Users\\nile\\Anaconda3\\envs\\eeg\\lib\\site-packages\\scipy\\signal\\signaltools.py:3463: FutureWarning: Using a non-tuple sequence for multidimensional indexing is deprecated; use `arr[tuple(seq)]` instead of `arr[seq]`. In the future this will be interpreted as an array index, `arr[np.array(seq)]`, which will result either in an error or a different result.\n",
      "  return y[sl]\n"
     ]
    },
    {
     "name": "stdout",
     "output_type": "stream",
     "text": [
      "Selecting model: Models/6f6b76/experimental/Session3\\6f6b76_MI_classifier_2019-03-15-12-51-40.sav\n",
      "Selecting model: Models/6f6b76/experimental/Session3\\6f6b76_MI_classifier_2019-03-15-12-51-40.sav\n",
      "Selecting model: Models/6f6b76/experimental/Session3\\6f6b76_MI_classifier_2019-03-15-12-51-40.sav\n",
      "Selecting BCI EEG file: SaveData/6f6b76/Session3\\20190221091209_6f6b76_BCI.easy\n",
      "Selecting BCI behavioral file: SaveData/6f6b76/Session3\\BCI_6f6b76_R2.csv\n",
      "Skipping N/A\n"
     ]
    },
    {
     "name": "stderr",
     "output_type": "stream",
     "text": [
      "C:\\Users\\nile\\Anaconda3\\envs\\eeg\\lib\\site-packages\\scipy\\signal\\_arraytools.py:45: FutureWarning: Using a non-tuple sequence for multidimensional indexing is deprecated; use `arr[tuple(seq)]` instead of `arr[seq]`. In the future this will be interpreted as an array index, `arr[np.array(seq)]`, which will result either in an error or a different result.\n",
      "  b = a[a_slice]\n",
      "C:\\Users\\nile\\Anaconda3\\envs\\eeg\\lib\\site-packages\\scipy\\signal\\signaltools.py:3463: FutureWarning: Using a non-tuple sequence for multidimensional indexing is deprecated; use `arr[tuple(seq)]` instead of `arr[seq]`. In the future this will be interpreted as an array index, `arr[np.array(seq)]`, which will result either in an error or a different result.\n",
      "  return y[sl]\n"
     ]
    },
    {
     "name": "stdout",
     "output_type": "stream",
     "text": [
      "Selecting model: Models/6f6b76/experimental/Session3\\6f6b76_MI_classifier_2019-03-15-12-51-44.sav\n",
      "Selecting model: Models/6f6b76/experimental/Session3\\6f6b76_MI_classifier_2019-03-15-12-51-40.sav\n",
      "Selecting model: Models/6f6b76/experimental/Session3\\6f6b76_MI_classifier_TL_2019-03-15-12-51-45.sav\n",
      "Selecting BCI EEG file: SaveData/6f6b76/Session3\\20190221091731_6f6b76_BCI.easy\n",
      "Selecting BCI behavioral file: SaveData/6f6b76/Session3\\BCI_6f6b76_R3.csv\n",
      "Skipping N/A\n"
     ]
    },
    {
     "name": "stderr",
     "output_type": "stream",
     "text": [
      "C:\\Users\\nile\\Anaconda3\\envs\\eeg\\lib\\site-packages\\scipy\\signal\\_arraytools.py:45: FutureWarning: Using a non-tuple sequence for multidimensional indexing is deprecated; use `arr[tuple(seq)]` instead of `arr[seq]`. In the future this will be interpreted as an array index, `arr[np.array(seq)]`, which will result either in an error or a different result.\n",
      "  b = a[a_slice]\n",
      "C:\\Users\\nile\\Anaconda3\\envs\\eeg\\lib\\site-packages\\scipy\\signal\\signaltools.py:3463: FutureWarning: Using a non-tuple sequence for multidimensional indexing is deprecated; use `arr[tuple(seq)]` instead of `arr[seq]`. In the future this will be interpreted as an array index, `arr[np.array(seq)]`, which will result either in an error or a different result.\n",
      "  return y[sl]\n"
     ]
    },
    {
     "name": "stdout",
     "output_type": "stream",
     "text": [
      "Selecting model: Models/6f6b76/experimental/Session3\\6f6b76_MI_classifier_2019-03-15-12-51-47.sav\n",
      "Selecting model: Models/6f6b76/experimental/Session3\\6f6b76_MI_classifier_2019-03-15-12-51-40.sav\n",
      "Selecting model: Models/6f6b76/experimental/Session3\\6f6b76_MI_classifier_TL_2019-03-15-12-51-49.sav\n",
      "Selecting BCI EEG file: SaveData/6f6b76/Session3\\20190221092248_6f6b76_BCI.easy\n",
      "Selecting BCI behavioral file: SaveData/6f6b76/Session3\\BCI_6f6b76_R4.csv\n",
      "Skipping N/A\n"
     ]
    },
    {
     "name": "stderr",
     "output_type": "stream",
     "text": [
      "C:\\Users\\nile\\Anaconda3\\envs\\eeg\\lib\\site-packages\\scipy\\signal\\_arraytools.py:45: FutureWarning: Using a non-tuple sequence for multidimensional indexing is deprecated; use `arr[tuple(seq)]` instead of `arr[seq]`. In the future this will be interpreted as an array index, `arr[np.array(seq)]`, which will result either in an error or a different result.\n",
      "  b = a[a_slice]\n",
      "C:\\Users\\nile\\Anaconda3\\envs\\eeg\\lib\\site-packages\\scipy\\signal\\signaltools.py:3463: FutureWarning: Using a non-tuple sequence for multidimensional indexing is deprecated; use `arr[tuple(seq)]` instead of `arr[seq]`. In the future this will be interpreted as an array index, `arr[np.array(seq)]`, which will result either in an error or a different result.\n",
      "  return y[sl]\n"
     ]
    },
    {
     "name": "stdout",
     "output_type": "stream",
     "text": [
      "Selecting model: Models/6f6b76/experimental/Session3\\6f6b76_MI_classifier_2019-03-15-12-51-52.sav\n",
      "Selecting model: Models/6f6b76/experimental/Session3\\6f6b76_MI_classifier_2019-03-15-12-51-40.sav\n",
      "Selecting model: Models/6f6b76/experimental/Session3\\6f6b76_MI_classifier_TL_2019-03-15-12-51-53.sav\n",
      "Selecting BCI EEG file: SaveData/6f6b76/Session3\\20190221092802_6f6b76_BCI.easy\n",
      "Selecting BCI behavioral file: SaveData/6f6b76/Session3\\BCI_6f6b76_R5.csv\n",
      "Skipping N/A\n"
     ]
    },
    {
     "name": "stderr",
     "output_type": "stream",
     "text": [
      "C:\\Users\\nile\\Anaconda3\\envs\\eeg\\lib\\site-packages\\scipy\\signal\\_arraytools.py:45: FutureWarning: Using a non-tuple sequence for multidimensional indexing is deprecated; use `arr[tuple(seq)]` instead of `arr[seq]`. In the future this will be interpreted as an array index, `arr[np.array(seq)]`, which will result either in an error or a different result.\n",
      "  b = a[a_slice]\n",
      "C:\\Users\\nile\\Anaconda3\\envs\\eeg\\lib\\site-packages\\scipy\\signal\\signaltools.py:3463: FutureWarning: Using a non-tuple sequence for multidimensional indexing is deprecated; use `arr[tuple(seq)]` instead of `arr[seq]`. In the future this will be interpreted as an array index, `arr[np.array(seq)]`, which will result either in an error or a different result.\n",
      "  return y[sl]\n"
     ]
    },
    {
     "name": "stdout",
     "output_type": "stream",
     "text": [
      "Selecting model: Models/6f6b76/experimental/Session3\\6f6b76_MI_classifier_2019-03-15-12-51-56.sav\n",
      "Selecting model: Models/6f6b76/experimental/Session3\\6f6b76_MI_classifier_2019-03-15-12-51-40.sav\n",
      "Selecting model: Models/6f6b76/experimental/Session3\\6f6b76_MI_classifier_TL_2019-03-15-12-51-57.sav\n",
      "----------------------------------------------------\n",
      "Done storing values for 6f6b76\n",
      "----------------------------------------------------\n",
      "Selecting BCI EEG file: SaveData/dcdb48/Session1\\20190213152007_dcdb48_BCI.easy\n",
      "Selecting BCI behavioral file: SaveData/dcdb48/Session1\\BCI_dcdb48_R1.csv\n",
      "Skipping N/A\n"
     ]
    },
    {
     "name": "stderr",
     "output_type": "stream",
     "text": [
      "C:\\Users\\nile\\Anaconda3\\envs\\eeg\\lib\\site-packages\\scipy\\signal\\_arraytools.py:45: FutureWarning: Using a non-tuple sequence for multidimensional indexing is deprecated; use `arr[tuple(seq)]` instead of `arr[seq]`. In the future this will be interpreted as an array index, `arr[np.array(seq)]`, which will result either in an error or a different result.\n",
      "  b = a[a_slice]\n",
      "C:\\Users\\nile\\Anaconda3\\envs\\eeg\\lib\\site-packages\\scipy\\signal\\signaltools.py:3463: FutureWarning: Using a non-tuple sequence for multidimensional indexing is deprecated; use `arr[tuple(seq)]` instead of `arr[seq]`. In the future this will be interpreted as an array index, `arr[np.array(seq)]`, which will result either in an error or a different result.\n",
      "  return y[sl]\n"
     ]
    },
    {
     "name": "stdout",
     "output_type": "stream",
     "text": [
      "Selecting model: Models/dcdb48/experimental/Session1\\dcdb48_MI_classifier_2019-03-15-13-02-45.sav\n",
      "Selecting model: Models/dcdb48/experimental/Session1\\dcdb48_MI_classifier_2019-03-15-13-02-45.sav\n",
      "Selecting model: Models/dcdb48/experimental/Session1\\dcdb48_MI_classifier_2019-03-15-13-02-45.sav\n",
      "Selecting BCI EEG file: SaveData/dcdb48/Session1\\20190213152545_dcdb48_BCI.easy\n",
      "Selecting BCI behavioral file: SaveData/dcdb48/Session1\\BCI_dcdb48_R2.csv\n",
      "Skipping N/A\n"
     ]
    },
    {
     "name": "stderr",
     "output_type": "stream",
     "text": [
      "C:\\Users\\nile\\Anaconda3\\envs\\eeg\\lib\\site-packages\\scipy\\signal\\_arraytools.py:45: FutureWarning: Using a non-tuple sequence for multidimensional indexing is deprecated; use `arr[tuple(seq)]` instead of `arr[seq]`. In the future this will be interpreted as an array index, `arr[np.array(seq)]`, which will result either in an error or a different result.\n",
      "  b = a[a_slice]\n",
      "C:\\Users\\nile\\Anaconda3\\envs\\eeg\\lib\\site-packages\\scipy\\signal\\signaltools.py:3463: FutureWarning: Using a non-tuple sequence for multidimensional indexing is deprecated; use `arr[tuple(seq)]` instead of `arr[seq]`. In the future this will be interpreted as an array index, `arr[np.array(seq)]`, which will result either in an error or a different result.\n",
      "  return y[sl]\n"
     ]
    },
    {
     "name": "stdout",
     "output_type": "stream",
     "text": [
      "Selecting model: Models/dcdb48/experimental/Session1\\dcdb48_MI_classifier_2019-03-15-13-02-49.sav\n",
      "Selecting model: Models/dcdb48/experimental/Session1\\dcdb48_MI_classifier_2019-03-15-13-02-45.sav\n",
      "Selecting model: Models/dcdb48/experimental/Session1\\dcdb48_MI_classifier_TL_2019-03-15-13-02-50.sav\n",
      "Selecting BCI EEG file: SaveData/dcdb48/Session1\\20190213153037_dcdb48_BCI.easy\n",
      "Selecting BCI behavioral file: SaveData/dcdb48/Session1\\BCI_dcdb48_R3.csv\n",
      "Skipping N/A\n"
     ]
    },
    {
     "name": "stderr",
     "output_type": "stream",
     "text": [
      "C:\\Users\\nile\\Anaconda3\\envs\\eeg\\lib\\site-packages\\scipy\\signal\\_arraytools.py:45: FutureWarning: Using a non-tuple sequence for multidimensional indexing is deprecated; use `arr[tuple(seq)]` instead of `arr[seq]`. In the future this will be interpreted as an array index, `arr[np.array(seq)]`, which will result either in an error or a different result.\n",
      "  b = a[a_slice]\n",
      "C:\\Users\\nile\\Anaconda3\\envs\\eeg\\lib\\site-packages\\scipy\\signal\\signaltools.py:3463: FutureWarning: Using a non-tuple sequence for multidimensional indexing is deprecated; use `arr[tuple(seq)]` instead of `arr[seq]`. In the future this will be interpreted as an array index, `arr[np.array(seq)]`, which will result either in an error or a different result.\n",
      "  return y[sl]\n"
     ]
    },
    {
     "name": "stdout",
     "output_type": "stream",
     "text": [
      "Selecting model: Models/dcdb48/experimental/Session1\\dcdb48_MI_classifier_2019-03-15-13-02-52.sav\n",
      "Selecting model: Models/dcdb48/experimental/Session1\\dcdb48_MI_classifier_2019-03-15-13-02-45.sav\n",
      "Selecting model: Models/dcdb48/experimental/Session1\\dcdb48_MI_classifier_TL_2019-03-15-13-02-53.sav\n",
      "Selecting BCI EEG file: SaveData/dcdb48/Session1\\20190213153654_dcdb48_BCI.easy\n",
      "Selecting BCI behavioral file: SaveData/dcdb48/Session1\\BCI_dcdb48_R4.csv\n",
      "Skipping N/A\n"
     ]
    },
    {
     "name": "stderr",
     "output_type": "stream",
     "text": [
      "C:\\Users\\nile\\Anaconda3\\envs\\eeg\\lib\\site-packages\\scipy\\signal\\_arraytools.py:45: FutureWarning: Using a non-tuple sequence for multidimensional indexing is deprecated; use `arr[tuple(seq)]` instead of `arr[seq]`. In the future this will be interpreted as an array index, `arr[np.array(seq)]`, which will result either in an error or a different result.\n",
      "  b = a[a_slice]\n",
      "C:\\Users\\nile\\Anaconda3\\envs\\eeg\\lib\\site-packages\\scipy\\signal\\signaltools.py:3463: FutureWarning: Using a non-tuple sequence for multidimensional indexing is deprecated; use `arr[tuple(seq)]` instead of `arr[seq]`. In the future this will be interpreted as an array index, `arr[np.array(seq)]`, which will result either in an error or a different result.\n",
      "  return y[sl]\n"
     ]
    },
    {
     "name": "stdout",
     "output_type": "stream",
     "text": [
      "Selecting model: Models/dcdb48/experimental/Session1\\dcdb48_MI_classifier_2019-03-15-13-02-56.sav\n",
      "Selecting model: Models/dcdb48/experimental/Session1\\dcdb48_MI_classifier_2019-03-15-13-02-45.sav\n",
      "Selecting model: Models/dcdb48/experimental/Session1\\dcdb48_MI_classifier_TL_2019-03-15-13-02-57.sav\n",
      "Selecting BCI EEG file: SaveData/dcdb48/Session1\\20190213154217_dcdb48_BCI.easy\n",
      "Selecting BCI behavioral file: SaveData/dcdb48/Session1\\BCI_dcdb48_R5.csv\n",
      "Skipping N/A\n"
     ]
    },
    {
     "name": "stderr",
     "output_type": "stream",
     "text": [
      "C:\\Users\\nile\\Anaconda3\\envs\\eeg\\lib\\site-packages\\scipy\\signal\\_arraytools.py:45: FutureWarning: Using a non-tuple sequence for multidimensional indexing is deprecated; use `arr[tuple(seq)]` instead of `arr[seq]`. In the future this will be interpreted as an array index, `arr[np.array(seq)]`, which will result either in an error or a different result.\n",
      "  b = a[a_slice]\n",
      "C:\\Users\\nile\\Anaconda3\\envs\\eeg\\lib\\site-packages\\scipy\\signal\\signaltools.py:3463: FutureWarning: Using a non-tuple sequence for multidimensional indexing is deprecated; use `arr[tuple(seq)]` instead of `arr[seq]`. In the future this will be interpreted as an array index, `arr[np.array(seq)]`, which will result either in an error or a different result.\n",
      "  return y[sl]\n"
     ]
    },
    {
     "name": "stdout",
     "output_type": "stream",
     "text": [
      "Selecting model: Models/dcdb48/experimental/Session1\\dcdb48_MI_classifier_2019-03-15-13-03-00.sav\n",
      "Selecting model: Models/dcdb48/experimental/Session1\\dcdb48_MI_classifier_2019-03-15-13-02-45.sav\n",
      "Selecting model: Models/dcdb48/experimental/Session1\\dcdb48_MI_classifier_TL_2019-03-15-13-03-01.sav\n",
      "Selecting BCI EEG file: SaveData/dcdb48/Session2\\20190214091623_dcdb48_BCI.easy\n",
      "Selecting BCI behavioral file: SaveData/dcdb48/Session2\\BCI_dcdb48_R1.csv\n",
      "Skipping N/A\n"
     ]
    },
    {
     "name": "stderr",
     "output_type": "stream",
     "text": [
      "C:\\Users\\nile\\Anaconda3\\envs\\eeg\\lib\\site-packages\\scipy\\signal\\_arraytools.py:45: FutureWarning: Using a non-tuple sequence for multidimensional indexing is deprecated; use `arr[tuple(seq)]` instead of `arr[seq]`. In the future this will be interpreted as an array index, `arr[np.array(seq)]`, which will result either in an error or a different result.\n",
      "  b = a[a_slice]\n",
      "C:\\Users\\nile\\Anaconda3\\envs\\eeg\\lib\\site-packages\\scipy\\signal\\signaltools.py:3463: FutureWarning: Using a non-tuple sequence for multidimensional indexing is deprecated; use `arr[tuple(seq)]` instead of `arr[seq]`. In the future this will be interpreted as an array index, `arr[np.array(seq)]`, which will result either in an error or a different result.\n",
      "  return y[sl]\n"
     ]
    },
    {
     "name": "stdout",
     "output_type": "stream",
     "text": [
      "Selecting model: Models/dcdb48/experimental/Session2\\dcdb48_MI_classifier_2019-03-15-13-04-56.sav\n",
      "Selecting model: Models/dcdb48/experimental/Session2\\dcdb48_MI_classifier_2019-03-15-13-04-56.sav\n",
      "Selecting model: Models/dcdb48/experimental/Session2\\dcdb48_MI_classifier_2019-03-15-13-04-56.sav\n",
      "Selecting BCI EEG file: SaveData/dcdb48/Session2\\20190214092158_dcdb48_BCI.easy\n",
      "Selecting BCI behavioral file: SaveData/dcdb48/Session2\\BCI_dcdb48_R2.csv\n",
      "Skipping N/A\n"
     ]
    },
    {
     "name": "stderr",
     "output_type": "stream",
     "text": [
      "C:\\Users\\nile\\Anaconda3\\envs\\eeg\\lib\\site-packages\\scipy\\signal\\_arraytools.py:45: FutureWarning: Using a non-tuple sequence for multidimensional indexing is deprecated; use `arr[tuple(seq)]` instead of `arr[seq]`. In the future this will be interpreted as an array index, `arr[np.array(seq)]`, which will result either in an error or a different result.\n",
      "  b = a[a_slice]\n",
      "C:\\Users\\nile\\Anaconda3\\envs\\eeg\\lib\\site-packages\\scipy\\signal\\signaltools.py:3463: FutureWarning: Using a non-tuple sequence for multidimensional indexing is deprecated; use `arr[tuple(seq)]` instead of `arr[seq]`. In the future this will be interpreted as an array index, `arr[np.array(seq)]`, which will result either in an error or a different result.\n",
      "  return y[sl]\n"
     ]
    },
    {
     "name": "stdout",
     "output_type": "stream",
     "text": [
      "Selecting model: Models/dcdb48/experimental/Session2\\dcdb48_MI_classifier_2019-03-15-13-05-00.sav\n",
      "Selecting model: Models/dcdb48/experimental/Session2\\dcdb48_MI_classifier_2019-03-15-13-04-56.sav\n",
      "Selecting model: Models/dcdb48/experimental/Session2\\dcdb48_MI_classifier_TL_2019-03-15-13-05-00.sav\n",
      "Selecting BCI EEG file: SaveData/dcdb48/Session2\\20190214092723_dcdb48_BCI.easy\n",
      "Selecting BCI behavioral file: SaveData/dcdb48/Session2\\BCI_dcdb48_R3.csv\n",
      "Skipping N/A\n"
     ]
    },
    {
     "name": "stderr",
     "output_type": "stream",
     "text": [
      "C:\\Users\\nile\\Anaconda3\\envs\\eeg\\lib\\site-packages\\scipy\\signal\\_arraytools.py:45: FutureWarning: Using a non-tuple sequence for multidimensional indexing is deprecated; use `arr[tuple(seq)]` instead of `arr[seq]`. In the future this will be interpreted as an array index, `arr[np.array(seq)]`, which will result either in an error or a different result.\n",
      "  b = a[a_slice]\n",
      "C:\\Users\\nile\\Anaconda3\\envs\\eeg\\lib\\site-packages\\scipy\\signal\\signaltools.py:3463: FutureWarning: Using a non-tuple sequence for multidimensional indexing is deprecated; use `arr[tuple(seq)]` instead of `arr[seq]`. In the future this will be interpreted as an array index, `arr[np.array(seq)]`, which will result either in an error or a different result.\n",
      "  return y[sl]\n"
     ]
    },
    {
     "name": "stdout",
     "output_type": "stream",
     "text": [
      "Selecting model: Models/dcdb48/experimental/Session2\\dcdb48_MI_classifier_2019-03-15-13-05-03.sav\n",
      "Selecting model: Models/dcdb48/experimental/Session2\\dcdb48_MI_classifier_2019-03-15-13-04-56.sav\n",
      "Selecting model: Models/dcdb48/experimental/Session2\\dcdb48_MI_classifier_TL_2019-03-15-13-05-04.sav\n",
      "Selecting BCI EEG file: SaveData/dcdb48/Session2\\20190214093308_dcdb48_BCI.easy\n",
      "Selecting BCI behavioral file: SaveData/dcdb48/Session2\\BCI_dcdb48_R4.csv\n",
      "Skipping N/A\n"
     ]
    },
    {
     "name": "stderr",
     "output_type": "stream",
     "text": [
      "C:\\Users\\nile\\Anaconda3\\envs\\eeg\\lib\\site-packages\\scipy\\signal\\_arraytools.py:45: FutureWarning: Using a non-tuple sequence for multidimensional indexing is deprecated; use `arr[tuple(seq)]` instead of `arr[seq]`. In the future this will be interpreted as an array index, `arr[np.array(seq)]`, which will result either in an error or a different result.\n",
      "  b = a[a_slice]\n",
      "C:\\Users\\nile\\Anaconda3\\envs\\eeg\\lib\\site-packages\\scipy\\signal\\signaltools.py:3463: FutureWarning: Using a non-tuple sequence for multidimensional indexing is deprecated; use `arr[tuple(seq)]` instead of `arr[seq]`. In the future this will be interpreted as an array index, `arr[np.array(seq)]`, which will result either in an error or a different result.\n",
      "  return y[sl]\n"
     ]
    },
    {
     "name": "stdout",
     "output_type": "stream",
     "text": [
      "Selecting model: Models/dcdb48/experimental/Session2\\dcdb48_MI_classifier_2019-03-15-13-05-07.sav\n",
      "Selecting model: Models/dcdb48/experimental/Session2\\dcdb48_MI_classifier_2019-03-15-13-04-56.sav\n",
      "Selecting model: Models/dcdb48/experimental/Session2\\dcdb48_MI_classifier_TL_2019-03-15-13-05-08.sav\n",
      "Selecting BCI EEG file: SaveData/dcdb48/Session2\\20190214093828_dcdb48_BCI.easy\n",
      "Selecting BCI behavioral file: SaveData/dcdb48/Session2\\BCI_dcdb48_R5.csv\n",
      "Skipping N/A\n"
     ]
    },
    {
     "name": "stderr",
     "output_type": "stream",
     "text": [
      "C:\\Users\\nile\\Anaconda3\\envs\\eeg\\lib\\site-packages\\scipy\\signal\\_arraytools.py:45: FutureWarning: Using a non-tuple sequence for multidimensional indexing is deprecated; use `arr[tuple(seq)]` instead of `arr[seq]`. In the future this will be interpreted as an array index, `arr[np.array(seq)]`, which will result either in an error or a different result.\n",
      "  b = a[a_slice]\n",
      "C:\\Users\\nile\\Anaconda3\\envs\\eeg\\lib\\site-packages\\scipy\\signal\\signaltools.py:3463: FutureWarning: Using a non-tuple sequence for multidimensional indexing is deprecated; use `arr[tuple(seq)]` instead of `arr[seq]`. In the future this will be interpreted as an array index, `arr[np.array(seq)]`, which will result either in an error or a different result.\n",
      "  return y[sl]\n"
     ]
    },
    {
     "name": "stdout",
     "output_type": "stream",
     "text": [
      "Selecting model: Models/dcdb48/experimental/Session2\\dcdb48_MI_classifier_2019-03-15-13-05-11.sav\n",
      "Selecting model: Models/dcdb48/experimental/Session2\\dcdb48_MI_classifier_2019-03-15-13-04-56.sav\n",
      "Selecting model: Models/dcdb48/experimental/Session2\\dcdb48_MI_classifier_TL_2019-03-15-13-05-13.sav\n",
      "Selecting BCI EEG file: SaveData/dcdb48/Session3\\20190215132239_dcdb48_BCI.easy\n",
      "Selecting BCI behavioral file: SaveData/dcdb48/Session3\\BCI_dcdb48_R1.csv\n",
      "Skipping N/A\n"
     ]
    },
    {
     "name": "stderr",
     "output_type": "stream",
     "text": [
      "C:\\Users\\nile\\Anaconda3\\envs\\eeg\\lib\\site-packages\\scipy\\signal\\_arraytools.py:45: FutureWarning: Using a non-tuple sequence for multidimensional indexing is deprecated; use `arr[tuple(seq)]` instead of `arr[seq]`. In the future this will be interpreted as an array index, `arr[np.array(seq)]`, which will result either in an error or a different result.\n",
      "  b = a[a_slice]\n",
      "C:\\Users\\nile\\Anaconda3\\envs\\eeg\\lib\\site-packages\\scipy\\signal\\signaltools.py:3463: FutureWarning: Using a non-tuple sequence for multidimensional indexing is deprecated; use `arr[tuple(seq)]` instead of `arr[seq]`. In the future this will be interpreted as an array index, `arr[np.array(seq)]`, which will result either in an error or a different result.\n",
      "  return y[sl]\n"
     ]
    },
    {
     "name": "stdout",
     "output_type": "stream",
     "text": [
      "Selecting model: Models/dcdb48/experimental/Session3\\dcdb48_MI_classifier_2019-03-15-13-06-38.sav\n",
      "Selecting model: Models/dcdb48/experimental/Session3\\dcdb48_MI_classifier_2019-03-15-13-06-38.sav\n",
      "Selecting model: Models/dcdb48/experimental/Session3\\dcdb48_MI_classifier_2019-03-15-13-06-38.sav\n",
      "Selecting BCI EEG file: SaveData/dcdb48/Session3\\20190215132756_dcdb48_BCI.easy\n",
      "Selecting BCI behavioral file: SaveData/dcdb48/Session3\\BCI_dcdb48_R2.csv\n",
      "Skipping N/A\n"
     ]
    },
    {
     "name": "stderr",
     "output_type": "stream",
     "text": [
      "C:\\Users\\nile\\Anaconda3\\envs\\eeg\\lib\\site-packages\\scipy\\signal\\_arraytools.py:45: FutureWarning: Using a non-tuple sequence for multidimensional indexing is deprecated; use `arr[tuple(seq)]` instead of `arr[seq]`. In the future this will be interpreted as an array index, `arr[np.array(seq)]`, which will result either in an error or a different result.\n",
      "  b = a[a_slice]\n",
      "C:\\Users\\nile\\Anaconda3\\envs\\eeg\\lib\\site-packages\\scipy\\signal\\signaltools.py:3463: FutureWarning: Using a non-tuple sequence for multidimensional indexing is deprecated; use `arr[tuple(seq)]` instead of `arr[seq]`. In the future this will be interpreted as an array index, `arr[np.array(seq)]`, which will result either in an error or a different result.\n",
      "  return y[sl]\n"
     ]
    },
    {
     "name": "stdout",
     "output_type": "stream",
     "text": [
      "Selecting model: Models/dcdb48/experimental/Session3\\dcdb48_MI_classifier_2019-03-15-13-06-41.sav\n",
      "Selecting model: Models/dcdb48/experimental/Session3\\dcdb48_MI_classifier_2019-03-15-13-06-38.sav\n",
      "Selecting model: Models/dcdb48/experimental/Session3\\dcdb48_MI_classifier_TL_2019-03-15-13-06-42.sav\n",
      "Selecting BCI EEG file: SaveData/dcdb48/Session3\\20190215133312_dcdb48_BCI.easy\n",
      "Selecting BCI behavioral file: SaveData/dcdb48/Session3\\BCI_dcdb48_R3.csv\n",
      "Skipping N/A\n"
     ]
    },
    {
     "name": "stderr",
     "output_type": "stream",
     "text": [
      "C:\\Users\\nile\\Anaconda3\\envs\\eeg\\lib\\site-packages\\scipy\\signal\\_arraytools.py:45: FutureWarning: Using a non-tuple sequence for multidimensional indexing is deprecated; use `arr[tuple(seq)]` instead of `arr[seq]`. In the future this will be interpreted as an array index, `arr[np.array(seq)]`, which will result either in an error or a different result.\n",
      "  b = a[a_slice]\n",
      "C:\\Users\\nile\\Anaconda3\\envs\\eeg\\lib\\site-packages\\scipy\\signal\\signaltools.py:3463: FutureWarning: Using a non-tuple sequence for multidimensional indexing is deprecated; use `arr[tuple(seq)]` instead of `arr[seq]`. In the future this will be interpreted as an array index, `arr[np.array(seq)]`, which will result either in an error or a different result.\n",
      "  return y[sl]\n"
     ]
    },
    {
     "name": "stdout",
     "output_type": "stream",
     "text": [
      "Selecting model: Models/dcdb48/experimental/Session3\\dcdb48_MI_classifier_2019-03-15-13-06-44.sav\n",
      "Selecting model: Models/dcdb48/experimental/Session3\\dcdb48_MI_classifier_2019-03-15-13-06-38.sav\n",
      "Selecting model: Models/dcdb48/experimental/Session3\\dcdb48_MI_classifier_TL_2019-03-15-13-06-46.sav\n",
      "Selecting BCI EEG file: SaveData/dcdb48/Session3\\20190215133828_dcdb48_BCI.easy\n",
      "Selecting BCI behavioral file: SaveData/dcdb48/Session3\\BCI_dcdb48_R4.csv\n",
      "Skipping N/A\n"
     ]
    },
    {
     "name": "stderr",
     "output_type": "stream",
     "text": [
      "C:\\Users\\nile\\Anaconda3\\envs\\eeg\\lib\\site-packages\\scipy\\signal\\_arraytools.py:45: FutureWarning: Using a non-tuple sequence for multidimensional indexing is deprecated; use `arr[tuple(seq)]` instead of `arr[seq]`. In the future this will be interpreted as an array index, `arr[np.array(seq)]`, which will result either in an error or a different result.\n",
      "  b = a[a_slice]\n",
      "C:\\Users\\nile\\Anaconda3\\envs\\eeg\\lib\\site-packages\\scipy\\signal\\signaltools.py:3463: FutureWarning: Using a non-tuple sequence for multidimensional indexing is deprecated; use `arr[tuple(seq)]` instead of `arr[seq]`. In the future this will be interpreted as an array index, `arr[np.array(seq)]`, which will result either in an error or a different result.\n",
      "  return y[sl]\n"
     ]
    },
    {
     "name": "stdout",
     "output_type": "stream",
     "text": [
      "Selecting model: Models/dcdb48/experimental/Session3\\dcdb48_MI_classifier_2019-03-15-13-06-48.sav\n",
      "Selecting model: Models/dcdb48/experimental/Session3\\dcdb48_MI_classifier_2019-03-15-13-06-38.sav\n",
      "Selecting model: Models/dcdb48/experimental/Session3\\dcdb48_MI_classifier_TL_2019-03-15-13-06-50.sav\n",
      "Selecting BCI EEG file: SaveData/dcdb48/Session3\\20190215134409_dcdb48_BCI.easy\n",
      "Selecting BCI behavioral file: SaveData/dcdb48/Session3\\BCI_dcdb48_R5.csv\n",
      "Skipping N/A\n"
     ]
    },
    {
     "name": "stderr",
     "output_type": "stream",
     "text": [
      "C:\\Users\\nile\\Anaconda3\\envs\\eeg\\lib\\site-packages\\scipy\\signal\\_arraytools.py:45: FutureWarning: Using a non-tuple sequence for multidimensional indexing is deprecated; use `arr[tuple(seq)]` instead of `arr[seq]`. In the future this will be interpreted as an array index, `arr[np.array(seq)]`, which will result either in an error or a different result.\n",
      "  b = a[a_slice]\n",
      "C:\\Users\\nile\\Anaconda3\\envs\\eeg\\lib\\site-packages\\scipy\\signal\\signaltools.py:3463: FutureWarning: Using a non-tuple sequence for multidimensional indexing is deprecated; use `arr[tuple(seq)]` instead of `arr[seq]`. In the future this will be interpreted as an array index, `arr[np.array(seq)]`, which will result either in an error or a different result.\n",
      "  return y[sl]\n"
     ]
    },
    {
     "name": "stdout",
     "output_type": "stream",
     "text": [
      "Selecting model: Models/dcdb48/experimental/Session3\\dcdb48_MI_classifier_2019-03-15-13-06-52.sav\n",
      "Selecting model: Models/dcdb48/experimental/Session3\\dcdb48_MI_classifier_2019-03-15-13-06-38.sav\n",
      "Selecting model: Models/dcdb48/experimental/Session3\\dcdb48_MI_classifier_TL_2019-03-15-13-06-53.sav\n",
      "----------------------------------------------------\n",
      "Done storing values for dcdb48\n",
      "----------------------------------------------------\n",
      "Selecting BCI EEG file: SaveData/d4aee6/Session1\\20190220150741_d4aee6_BCI.easy\n",
      "Selecting BCI behavioral file: SaveData/d4aee6/Session1\\BCI_d4aee6_R1.csv\n",
      "Skipping N/A\n"
     ]
    },
    {
     "name": "stderr",
     "output_type": "stream",
     "text": [
      "C:\\Users\\nile\\Anaconda3\\envs\\eeg\\lib\\site-packages\\scipy\\signal\\_arraytools.py:45: FutureWarning: Using a non-tuple sequence for multidimensional indexing is deprecated; use `arr[tuple(seq)]` instead of `arr[seq]`. In the future this will be interpreted as an array index, `arr[np.array(seq)]`, which will result either in an error or a different result.\n",
      "  b = a[a_slice]\n",
      "C:\\Users\\nile\\Anaconda3\\envs\\eeg\\lib\\site-packages\\scipy\\signal\\signaltools.py:3463: FutureWarning: Using a non-tuple sequence for multidimensional indexing is deprecated; use `arr[tuple(seq)]` instead of `arr[seq]`. In the future this will be interpreted as an array index, `arr[np.array(seq)]`, which will result either in an error or a different result.\n",
      "  return y[sl]\n"
     ]
    },
    {
     "name": "stdout",
     "output_type": "stream",
     "text": [
      "Selecting model: Models/d4aee6/experimental/Session1\\d4aee6_MI_classifier_2019-03-15-13-15-41.sav\n",
      "Selecting model: Models/d4aee6/experimental/Session1\\d4aee6_MI_classifier_2019-03-15-13-15-41.sav\n",
      "Selecting model: Models/d4aee6/experimental/Session1\\d4aee6_MI_classifier_2019-03-15-13-15-41.sav\n",
      "Selecting BCI EEG file: SaveData/d4aee6/Session1\\20190220151344_d4aee6_BCI.easy\n",
      "Selecting BCI behavioral file: SaveData/d4aee6/Session1\\BCI_d4aee6_R2.csv\n",
      "Skipping N/A\n"
     ]
    },
    {
     "name": "stderr",
     "output_type": "stream",
     "text": [
      "C:\\Users\\nile\\Anaconda3\\envs\\eeg\\lib\\site-packages\\scipy\\signal\\_arraytools.py:45: FutureWarning: Using a non-tuple sequence for multidimensional indexing is deprecated; use `arr[tuple(seq)]` instead of `arr[seq]`. In the future this will be interpreted as an array index, `arr[np.array(seq)]`, which will result either in an error or a different result.\n",
      "  b = a[a_slice]\n",
      "C:\\Users\\nile\\Anaconda3\\envs\\eeg\\lib\\site-packages\\scipy\\signal\\signaltools.py:3463: FutureWarning: Using a non-tuple sequence for multidimensional indexing is deprecated; use `arr[tuple(seq)]` instead of `arr[seq]`. In the future this will be interpreted as an array index, `arr[np.array(seq)]`, which will result either in an error or a different result.\n",
      "  return y[sl]\n"
     ]
    },
    {
     "name": "stdout",
     "output_type": "stream",
     "text": [
      "Selecting model: Models/d4aee6/experimental/Session1\\d4aee6_MI_classifier_2019-03-15-13-15-45.sav\n",
      "Selecting model: Models/d4aee6/experimental/Session1\\d4aee6_MI_classifier_2019-03-15-13-15-41.sav\n",
      "Selecting model: Models/d4aee6/experimental/Session1\\d4aee6_MI_classifier_TL_2019-03-15-13-15-45.sav\n",
      "Selecting BCI EEG file: SaveData/d4aee6/Session1\\20190220151952_d4aee6_BCI.easy\n",
      "Selecting BCI behavioral file: SaveData/d4aee6/Session1\\BCI_d4aee6_R3.csv\n",
      "Skipping N/A\n"
     ]
    },
    {
     "name": "stderr",
     "output_type": "stream",
     "text": [
      "C:\\Users\\nile\\Anaconda3\\envs\\eeg\\lib\\site-packages\\scipy\\signal\\_arraytools.py:45: FutureWarning: Using a non-tuple sequence for multidimensional indexing is deprecated; use `arr[tuple(seq)]` instead of `arr[seq]`. In the future this will be interpreted as an array index, `arr[np.array(seq)]`, which will result either in an error or a different result.\n",
      "  b = a[a_slice]\n",
      "C:\\Users\\nile\\Anaconda3\\envs\\eeg\\lib\\site-packages\\scipy\\signal\\signaltools.py:3463: FutureWarning: Using a non-tuple sequence for multidimensional indexing is deprecated; use `arr[tuple(seq)]` instead of `arr[seq]`. In the future this will be interpreted as an array index, `arr[np.array(seq)]`, which will result either in an error or a different result.\n",
      "  return y[sl]\n"
     ]
    },
    {
     "name": "stdout",
     "output_type": "stream",
     "text": [
      "Selecting model: Models/d4aee6/experimental/Session1\\d4aee6_MI_classifier_2019-03-15-13-15-48.sav\n",
      "Selecting model: Models/d4aee6/experimental/Session1\\d4aee6_MI_classifier_2019-03-15-13-15-41.sav\n",
      "Selecting model: Models/d4aee6/experimental/Session1\\d4aee6_MI_classifier_TL_2019-03-15-13-15-49.sav\n",
      "Selecting BCI EEG file: SaveData/d4aee6/Session1\\20190220152541_d4aee6_BCI.easy\n",
      "Selecting BCI behavioral file: SaveData/d4aee6/Session1\\BCI_d4aee6_R4.csv\n",
      "Skipping N/A\n"
     ]
    },
    {
     "name": "stderr",
     "output_type": "stream",
     "text": [
      "C:\\Users\\nile\\Anaconda3\\envs\\eeg\\lib\\site-packages\\scipy\\signal\\_arraytools.py:45: FutureWarning: Using a non-tuple sequence for multidimensional indexing is deprecated; use `arr[tuple(seq)]` instead of `arr[seq]`. In the future this will be interpreted as an array index, `arr[np.array(seq)]`, which will result either in an error or a different result.\n",
      "  b = a[a_slice]\n",
      "C:\\Users\\nile\\Anaconda3\\envs\\eeg\\lib\\site-packages\\scipy\\signal\\signaltools.py:3463: FutureWarning: Using a non-tuple sequence for multidimensional indexing is deprecated; use `arr[tuple(seq)]` instead of `arr[seq]`. In the future this will be interpreted as an array index, `arr[np.array(seq)]`, which will result either in an error or a different result.\n",
      "  return y[sl]\n"
     ]
    },
    {
     "name": "stdout",
     "output_type": "stream",
     "text": [
      "Selecting model: Models/d4aee6/experimental/Session1\\d4aee6_MI_classifier_2019-03-15-13-15-52.sav\n",
      "Selecting model: Models/d4aee6/experimental/Session1\\d4aee6_MI_classifier_2019-03-15-13-15-41.sav\n",
      "Selecting model: Models/d4aee6/experimental/Session1\\d4aee6_MI_classifier_TL_2019-03-15-13-15-54.sav\n",
      "Selecting BCI EEG file: SaveData/d4aee6/Session1\\20190220153103_d4aee6_BCI.easy\n",
      "Selecting BCI behavioral file: SaveData/d4aee6/Session1\\BCI_d4aee6_R5.csv\n",
      "Skipping N/A\n"
     ]
    },
    {
     "name": "stderr",
     "output_type": "stream",
     "text": [
      "C:\\Users\\nile\\Anaconda3\\envs\\eeg\\lib\\site-packages\\scipy\\signal\\_arraytools.py:45: FutureWarning: Using a non-tuple sequence for multidimensional indexing is deprecated; use `arr[tuple(seq)]` instead of `arr[seq]`. In the future this will be interpreted as an array index, `arr[np.array(seq)]`, which will result either in an error or a different result.\n",
      "  b = a[a_slice]\n",
      "C:\\Users\\nile\\Anaconda3\\envs\\eeg\\lib\\site-packages\\scipy\\signal\\signaltools.py:3463: FutureWarning: Using a non-tuple sequence for multidimensional indexing is deprecated; use `arr[tuple(seq)]` instead of `arr[seq]`. In the future this will be interpreted as an array index, `arr[np.array(seq)]`, which will result either in an error or a different result.\n",
      "  return y[sl]\n"
     ]
    },
    {
     "name": "stdout",
     "output_type": "stream",
     "text": [
      "Selecting model: Models/d4aee6/experimental/Session1\\d4aee6_MI_classifier_2019-03-15-13-15-56.sav\n",
      "Selecting model: Models/d4aee6/experimental/Session1\\d4aee6_MI_classifier_2019-03-15-13-15-41.sav\n",
      "Selecting model: Models/d4aee6/experimental/Session1\\d4aee6_MI_classifier_TL_2019-03-15-13-15-58.sav\n",
      "Selecting BCI EEG file: SaveData/d4aee6/Session2\\20190221145427_d4aee6_BCI.easy\n",
      "Selecting BCI behavioral file: SaveData/d4aee6/Session2\\BCI_d4aee6_R1.csv\n",
      "Skipping N/A\n"
     ]
    },
    {
     "name": "stderr",
     "output_type": "stream",
     "text": [
      "C:\\Users\\nile\\Anaconda3\\envs\\eeg\\lib\\site-packages\\scipy\\signal\\_arraytools.py:45: FutureWarning: Using a non-tuple sequence for multidimensional indexing is deprecated; use `arr[tuple(seq)]` instead of `arr[seq]`. In the future this will be interpreted as an array index, `arr[np.array(seq)]`, which will result either in an error or a different result.\n",
      "  b = a[a_slice]\n",
      "C:\\Users\\nile\\Anaconda3\\envs\\eeg\\lib\\site-packages\\scipy\\signal\\signaltools.py:3463: FutureWarning: Using a non-tuple sequence for multidimensional indexing is deprecated; use `arr[tuple(seq)]` instead of `arr[seq]`. In the future this will be interpreted as an array index, `arr[np.array(seq)]`, which will result either in an error or a different result.\n",
      "  return y[sl]\n"
     ]
    },
    {
     "name": "stdout",
     "output_type": "stream",
     "text": [
      "Selecting model: Models/d4aee6/experimental/Session2\\d4aee6_MI_classifier_2019-03-15-13-17-44.sav\n",
      "Selecting model: Models/d4aee6/experimental/Session2\\d4aee6_MI_classifier_2019-03-15-13-17-44.sav\n",
      "Selecting model: Models/d4aee6/experimental/Session2\\d4aee6_MI_classifier_2019-03-15-13-17-44.sav\n",
      "Selecting BCI EEG file: SaveData/d4aee6/Session2\\20190221145952_d4aee6_BCI.easy\n",
      "Selecting BCI behavioral file: SaveData/d4aee6/Session2\\BCI_d4aee6_R2.csv\n",
      "Skipping N/A\n"
     ]
    },
    {
     "name": "stderr",
     "output_type": "stream",
     "text": [
      "C:\\Users\\nile\\Anaconda3\\envs\\eeg\\lib\\site-packages\\scipy\\signal\\_arraytools.py:45: FutureWarning: Using a non-tuple sequence for multidimensional indexing is deprecated; use `arr[tuple(seq)]` instead of `arr[seq]`. In the future this will be interpreted as an array index, `arr[np.array(seq)]`, which will result either in an error or a different result.\n",
      "  b = a[a_slice]\n",
      "C:\\Users\\nile\\Anaconda3\\envs\\eeg\\lib\\site-packages\\scipy\\signal\\signaltools.py:3463: FutureWarning: Using a non-tuple sequence for multidimensional indexing is deprecated; use `arr[tuple(seq)]` instead of `arr[seq]`. In the future this will be interpreted as an array index, `arr[np.array(seq)]`, which will result either in an error or a different result.\n",
      "  return y[sl]\n"
     ]
    },
    {
     "name": "stdout",
     "output_type": "stream",
     "text": [
      "Selecting model: Models/d4aee6/experimental/Session2\\d4aee6_MI_classifier_2019-03-15-13-17-49.sav\n",
      "Selecting model: Models/d4aee6/experimental/Session2\\d4aee6_MI_classifier_2019-03-15-13-17-44.sav\n",
      "Selecting model: Models/d4aee6/experimental/Session2\\d4aee6_MI_classifier_TL_2019-03-15-13-17-49.sav\n",
      "Selecting BCI EEG file: SaveData/d4aee6/Session2\\20190221150558_d4aee6_BCI.easy\n",
      "Selecting BCI behavioral file: SaveData/d4aee6/Session2\\BCI_d4aee6_R3.csv\n",
      "Skipping N/A\n"
     ]
    },
    {
     "name": "stderr",
     "output_type": "stream",
     "text": [
      "C:\\Users\\nile\\Anaconda3\\envs\\eeg\\lib\\site-packages\\scipy\\signal\\_arraytools.py:45: FutureWarning: Using a non-tuple sequence for multidimensional indexing is deprecated; use `arr[tuple(seq)]` instead of `arr[seq]`. In the future this will be interpreted as an array index, `arr[np.array(seq)]`, which will result either in an error or a different result.\n",
      "  b = a[a_slice]\n",
      "C:\\Users\\nile\\Anaconda3\\envs\\eeg\\lib\\site-packages\\scipy\\signal\\signaltools.py:3463: FutureWarning: Using a non-tuple sequence for multidimensional indexing is deprecated; use `arr[tuple(seq)]` instead of `arr[seq]`. In the future this will be interpreted as an array index, `arr[np.array(seq)]`, which will result either in an error or a different result.\n",
      "  return y[sl]\n"
     ]
    },
    {
     "name": "stdout",
     "output_type": "stream",
     "text": [
      "Selecting model: Models/d4aee6/experimental/Session2\\d4aee6_MI_classifier_2019-03-15-13-17-52.sav\n",
      "Selecting model: Models/d4aee6/experimental/Session2\\d4aee6_MI_classifier_2019-03-15-13-17-44.sav\n",
      "Selecting model: Models/d4aee6/experimental/Session2\\d4aee6_MI_classifier_TL_2019-03-15-13-17-54.sav\n",
      "Selecting BCI EEG file: SaveData/d4aee6/Session2\\20190221151131_d4aee6_BCI.easy\n",
      "Selecting BCI behavioral file: SaveData/d4aee6/Session2\\BCI_d4aee6_R4.csv\n",
      "Skipping N/A\n"
     ]
    },
    {
     "name": "stderr",
     "output_type": "stream",
     "text": [
      "C:\\Users\\nile\\Anaconda3\\envs\\eeg\\lib\\site-packages\\scipy\\signal\\_arraytools.py:45: FutureWarning: Using a non-tuple sequence for multidimensional indexing is deprecated; use `arr[tuple(seq)]` instead of `arr[seq]`. In the future this will be interpreted as an array index, `arr[np.array(seq)]`, which will result either in an error or a different result.\n",
      "  b = a[a_slice]\n",
      "C:\\Users\\nile\\Anaconda3\\envs\\eeg\\lib\\site-packages\\scipy\\signal\\signaltools.py:3463: FutureWarning: Using a non-tuple sequence for multidimensional indexing is deprecated; use `arr[tuple(seq)]` instead of `arr[seq]`. In the future this will be interpreted as an array index, `arr[np.array(seq)]`, which will result either in an error or a different result.\n",
      "  return y[sl]\n"
     ]
    },
    {
     "name": "stdout",
     "output_type": "stream",
     "text": [
      "Selecting model: Models/d4aee6/experimental/Session2\\d4aee6_MI_classifier_2019-03-15-13-17-56.sav\n",
      "Selecting model: Models/d4aee6/experimental/Session2\\d4aee6_MI_classifier_2019-03-15-13-17-44.sav\n",
      "Selecting model: Models/d4aee6/experimental/Session2\\d4aee6_MI_classifier_TL_2019-03-15-13-17-58.sav\n",
      "Selecting BCI EEG file: SaveData/d4aee6/Session2\\20190221151712_d4aee6_BCI.easy\n",
      "Selecting BCI behavioral file: SaveData/d4aee6/Session2\\BCI_d4aee6_R5.csv\n",
      "Skipping N/A\n"
     ]
    },
    {
     "name": "stderr",
     "output_type": "stream",
     "text": [
      "C:\\Users\\nile\\Anaconda3\\envs\\eeg\\lib\\site-packages\\scipy\\signal\\_arraytools.py:45: FutureWarning: Using a non-tuple sequence for multidimensional indexing is deprecated; use `arr[tuple(seq)]` instead of `arr[seq]`. In the future this will be interpreted as an array index, `arr[np.array(seq)]`, which will result either in an error or a different result.\n",
      "  b = a[a_slice]\n",
      "C:\\Users\\nile\\Anaconda3\\envs\\eeg\\lib\\site-packages\\scipy\\signal\\signaltools.py:3463: FutureWarning: Using a non-tuple sequence for multidimensional indexing is deprecated; use `arr[tuple(seq)]` instead of `arr[seq]`. In the future this will be interpreted as an array index, `arr[np.array(seq)]`, which will result either in an error or a different result.\n",
      "  return y[sl]\n"
     ]
    },
    {
     "name": "stdout",
     "output_type": "stream",
     "text": [
      "Selecting model: Models/d4aee6/experimental/Session2\\d4aee6_MI_classifier_2019-03-15-13-18-01.sav\n",
      "Selecting model: Models/d4aee6/experimental/Session2\\d4aee6_MI_classifier_2019-03-15-13-17-44.sav\n",
      "Selecting model: Models/d4aee6/experimental/Session2\\d4aee6_MI_classifier_TL_2019-03-15-13-18-02.sav\n",
      "Selecting BCI EEG file: SaveData/d4aee6/Session3\\20190222144540_d4aee6_BCI.easy\n",
      "Selecting BCI behavioral file: SaveData/d4aee6/Session3\\BCI_d4aee6_R1.csv\n",
      "Skipping N/A\n"
     ]
    },
    {
     "name": "stderr",
     "output_type": "stream",
     "text": [
      "C:\\Users\\nile\\Anaconda3\\envs\\eeg\\lib\\site-packages\\scipy\\signal\\_arraytools.py:45: FutureWarning: Using a non-tuple sequence for multidimensional indexing is deprecated; use `arr[tuple(seq)]` instead of `arr[seq]`. In the future this will be interpreted as an array index, `arr[np.array(seq)]`, which will result either in an error or a different result.\n",
      "  b = a[a_slice]\n",
      "C:\\Users\\nile\\Anaconda3\\envs\\eeg\\lib\\site-packages\\scipy\\signal\\signaltools.py:3463: FutureWarning: Using a non-tuple sequence for multidimensional indexing is deprecated; use `arr[tuple(seq)]` instead of `arr[seq]`. In the future this will be interpreted as an array index, `arr[np.array(seq)]`, which will result either in an error or a different result.\n",
      "  return y[sl]\n"
     ]
    },
    {
     "name": "stdout",
     "output_type": "stream",
     "text": [
      "Selecting model: Models/d4aee6/experimental/Session3\\d4aee6_MI_classifier_2019-03-15-13-19-55.sav\n",
      "Selecting model: Models/d4aee6/experimental/Session3\\d4aee6_MI_classifier_2019-03-15-13-19-55.sav\n",
      "Selecting model: Models/d4aee6/experimental/Session3\\d4aee6_MI_classifier_2019-03-15-13-19-55.sav\n",
      "Selecting BCI EEG file: SaveData/d4aee6/Session3\\20190222145048_d4aee6_BCI.easy\n",
      "Selecting BCI behavioral file: SaveData/d4aee6/Session3\\BCI_d4aee6_R2.csv\n",
      "Skipping N/A\n"
     ]
    },
    {
     "name": "stderr",
     "output_type": "stream",
     "text": [
      "C:\\Users\\nile\\Anaconda3\\envs\\eeg\\lib\\site-packages\\scipy\\signal\\_arraytools.py:45: FutureWarning: Using a non-tuple sequence for multidimensional indexing is deprecated; use `arr[tuple(seq)]` instead of `arr[seq]`. In the future this will be interpreted as an array index, `arr[np.array(seq)]`, which will result either in an error or a different result.\n",
      "  b = a[a_slice]\n",
      "C:\\Users\\nile\\Anaconda3\\envs\\eeg\\lib\\site-packages\\scipy\\signal\\signaltools.py:3463: FutureWarning: Using a non-tuple sequence for multidimensional indexing is deprecated; use `arr[tuple(seq)]` instead of `arr[seq]`. In the future this will be interpreted as an array index, `arr[np.array(seq)]`, which will result either in an error or a different result.\n",
      "  return y[sl]\n"
     ]
    },
    {
     "name": "stdout",
     "output_type": "stream",
     "text": [
      "Selecting model: Models/d4aee6/experimental/Session3\\d4aee6_MI_classifier_2019-03-15-13-19-59.sav\n",
      "Selecting model: Models/d4aee6/experimental/Session3\\d4aee6_MI_classifier_2019-03-15-13-19-55.sav\n",
      "Selecting model: Models/d4aee6/experimental/Session3\\d4aee6_MI_classifier_TL_2019-03-15-13-19-59.sav\n",
      "Selecting BCI EEG file: SaveData/d4aee6/Session3\\20190222145608_d4aee6_BCI.easy\n",
      "Selecting BCI behavioral file: SaveData/d4aee6/Session3\\BCI_d4aee6_R3.csv\n",
      "Skipping N/A\n"
     ]
    },
    {
     "name": "stderr",
     "output_type": "stream",
     "text": [
      "C:\\Users\\nile\\Anaconda3\\envs\\eeg\\lib\\site-packages\\scipy\\signal\\_arraytools.py:45: FutureWarning: Using a non-tuple sequence for multidimensional indexing is deprecated; use `arr[tuple(seq)]` instead of `arr[seq]`. In the future this will be interpreted as an array index, `arr[np.array(seq)]`, which will result either in an error or a different result.\n",
      "  b = a[a_slice]\n",
      "C:\\Users\\nile\\Anaconda3\\envs\\eeg\\lib\\site-packages\\scipy\\signal\\signaltools.py:3463: FutureWarning: Using a non-tuple sequence for multidimensional indexing is deprecated; use `arr[tuple(seq)]` instead of `arr[seq]`. In the future this will be interpreted as an array index, `arr[np.array(seq)]`, which will result either in an error or a different result.\n",
      "  return y[sl]\n"
     ]
    },
    {
     "name": "stdout",
     "output_type": "stream",
     "text": [
      "Selecting model: Models/d4aee6/experimental/Session3\\d4aee6_MI_classifier_2019-03-15-13-20-02.sav\n",
      "Selecting model: Models/d4aee6/experimental/Session3\\d4aee6_MI_classifier_2019-03-15-13-19-55.sav\n",
      "Selecting model: Models/d4aee6/experimental/Session3\\d4aee6_MI_classifier_TL_2019-03-15-13-20-03.sav\n",
      "Selecting BCI EEG file: SaveData/d4aee6/Session3\\20190222150152_d4aee6_BCI.easy\n",
      "Selecting BCI behavioral file: SaveData/d4aee6/Session3\\BCI_d4aee6_R4.csv\n",
      "Skipping N/A\n"
     ]
    },
    {
     "name": "stderr",
     "output_type": "stream",
     "text": [
      "C:\\Users\\nile\\Anaconda3\\envs\\eeg\\lib\\site-packages\\scipy\\signal\\_arraytools.py:45: FutureWarning: Using a non-tuple sequence for multidimensional indexing is deprecated; use `arr[tuple(seq)]` instead of `arr[seq]`. In the future this will be interpreted as an array index, `arr[np.array(seq)]`, which will result either in an error or a different result.\n",
      "  b = a[a_slice]\n",
      "C:\\Users\\nile\\Anaconda3\\envs\\eeg\\lib\\site-packages\\scipy\\signal\\signaltools.py:3463: FutureWarning: Using a non-tuple sequence for multidimensional indexing is deprecated; use `arr[tuple(seq)]` instead of `arr[seq]`. In the future this will be interpreted as an array index, `arr[np.array(seq)]`, which will result either in an error or a different result.\n",
      "  return y[sl]\n"
     ]
    },
    {
     "name": "stdout",
     "output_type": "stream",
     "text": [
      "Selecting model: Models/d4aee6/experimental/Session3\\d4aee6_MI_classifier_2019-03-15-13-20-06.sav\n",
      "Selecting model: Models/d4aee6/experimental/Session3\\d4aee6_MI_classifier_2019-03-15-13-19-55.sav\n",
      "Selecting model: Models/d4aee6/experimental/Session3\\d4aee6_MI_classifier_TL_2019-03-15-13-20-07.sav\n",
      "Selecting BCI EEG file: SaveData/d4aee6/Session3\\20190222150714_d4aee6_BCI.easy\n",
      "Selecting BCI behavioral file: SaveData/d4aee6/Session3\\BCI_d4aee6_R5.csv\n",
      "Skipping N/A\n"
     ]
    },
    {
     "name": "stderr",
     "output_type": "stream",
     "text": [
      "C:\\Users\\nile\\Anaconda3\\envs\\eeg\\lib\\site-packages\\scipy\\signal\\_arraytools.py:45: FutureWarning: Using a non-tuple sequence for multidimensional indexing is deprecated; use `arr[tuple(seq)]` instead of `arr[seq]`. In the future this will be interpreted as an array index, `arr[np.array(seq)]`, which will result either in an error or a different result.\n",
      "  b = a[a_slice]\n",
      "C:\\Users\\nile\\Anaconda3\\envs\\eeg\\lib\\site-packages\\scipy\\signal\\signaltools.py:3463: FutureWarning: Using a non-tuple sequence for multidimensional indexing is deprecated; use `arr[tuple(seq)]` instead of `arr[seq]`. In the future this will be interpreted as an array index, `arr[np.array(seq)]`, which will result either in an error or a different result.\n",
      "  return y[sl]\n"
     ]
    },
    {
     "name": "stdout",
     "output_type": "stream",
     "text": [
      "Selecting model: Models/d4aee6/experimental/Session3\\d4aee6_MI_classifier_2019-03-15-13-20-10.sav\n",
      "Selecting model: Models/d4aee6/experimental/Session3\\d4aee6_MI_classifier_2019-03-15-13-19-55.sav\n",
      "Selecting model: Models/d4aee6/experimental/Session3\\d4aee6_MI_classifier_TL_2019-03-15-13-20-11.sav\n",
      "----------------------------------------------------\n",
      "Done storing values for d4aee6\n",
      "----------------------------------------------------\n",
      "Selecting BCI EEG file: SaveData/994dba/Session1\\20190222110528_994dba_BCI.easy\n",
      "Selecting BCI behavioral file: SaveData/994dba/Session1\\BCI_994dba_R1.csv\n",
      "Skipping N/A\n"
     ]
    },
    {
     "name": "stderr",
     "output_type": "stream",
     "text": [
      "C:\\Users\\nile\\Anaconda3\\envs\\eeg\\lib\\site-packages\\scipy\\signal\\_arraytools.py:45: FutureWarning: Using a non-tuple sequence for multidimensional indexing is deprecated; use `arr[tuple(seq)]` instead of `arr[seq]`. In the future this will be interpreted as an array index, `arr[np.array(seq)]`, which will result either in an error or a different result.\n",
      "  b = a[a_slice]\n",
      "C:\\Users\\nile\\Anaconda3\\envs\\eeg\\lib\\site-packages\\scipy\\signal\\signaltools.py:3463: FutureWarning: Using a non-tuple sequence for multidimensional indexing is deprecated; use `arr[tuple(seq)]` instead of `arr[seq]`. In the future this will be interpreted as an array index, `arr[np.array(seq)]`, which will result either in an error or a different result.\n",
      "  return y[sl]\n"
     ]
    },
    {
     "name": "stdout",
     "output_type": "stream",
     "text": [
      "Selecting model: Models/994dba/experimental/Session1\\994dba_MI_classifier_2019-03-15-13-29-45.sav\n",
      "Selecting model: Models/994dba/experimental/Session1\\994dba_MI_classifier_2019-03-15-13-29-45.sav\n",
      "Selecting model: Models/994dba/experimental/Session1\\994dba_MI_classifier_2019-03-15-13-29-45.sav\n",
      "Selecting BCI EEG file: SaveData/994dba/Session1\\20190222111104_994dba_BCI.easy\n",
      "Selecting BCI behavioral file: SaveData/994dba/Session1\\BCI_994dba_R2.csv\n",
      "Skipping N/A\n"
     ]
    },
    {
     "name": "stderr",
     "output_type": "stream",
     "text": [
      "C:\\Users\\nile\\Anaconda3\\envs\\eeg\\lib\\site-packages\\scipy\\signal\\_arraytools.py:45: FutureWarning: Using a non-tuple sequence for multidimensional indexing is deprecated; use `arr[tuple(seq)]` instead of `arr[seq]`. In the future this will be interpreted as an array index, `arr[np.array(seq)]`, which will result either in an error or a different result.\n",
      "  b = a[a_slice]\n",
      "C:\\Users\\nile\\Anaconda3\\envs\\eeg\\lib\\site-packages\\scipy\\signal\\signaltools.py:3463: FutureWarning: Using a non-tuple sequence for multidimensional indexing is deprecated; use `arr[tuple(seq)]` instead of `arr[seq]`. In the future this will be interpreted as an array index, `arr[np.array(seq)]`, which will result either in an error or a different result.\n",
      "  return y[sl]\n"
     ]
    },
    {
     "name": "stdout",
     "output_type": "stream",
     "text": [
      "Selecting model: Models/994dba/experimental/Session1\\994dba_MI_classifier_2019-03-15-13-29-49.sav\n",
      "Selecting model: Models/994dba/experimental/Session1\\994dba_MI_classifier_2019-03-15-13-29-45.sav\n",
      "Selecting model: Models/994dba/experimental/Session1\\994dba_MI_classifier_TL_2019-03-15-13-29-49.sav\n",
      "Selecting BCI EEG file: SaveData/994dba/Session1\\20190222111637_994dba_BCI.easy\n",
      "Selecting BCI behavioral file: SaveData/994dba/Session1\\BCI_994dba_R3.csv\n",
      "Skipping N/A\n"
     ]
    },
    {
     "name": "stderr",
     "output_type": "stream",
     "text": [
      "C:\\Users\\nile\\Anaconda3\\envs\\eeg\\lib\\site-packages\\scipy\\signal\\_arraytools.py:45: FutureWarning: Using a non-tuple sequence for multidimensional indexing is deprecated; use `arr[tuple(seq)]` instead of `arr[seq]`. In the future this will be interpreted as an array index, `arr[np.array(seq)]`, which will result either in an error or a different result.\n",
      "  b = a[a_slice]\n",
      "C:\\Users\\nile\\Anaconda3\\envs\\eeg\\lib\\site-packages\\scipy\\signal\\signaltools.py:3463: FutureWarning: Using a non-tuple sequence for multidimensional indexing is deprecated; use `arr[tuple(seq)]` instead of `arr[seq]`. In the future this will be interpreted as an array index, `arr[np.array(seq)]`, which will result either in an error or a different result.\n",
      "  return y[sl]\n"
     ]
    },
    {
     "name": "stdout",
     "output_type": "stream",
     "text": [
      "Selecting model: Models/994dba/experimental/Session1\\994dba_MI_classifier_2019-03-15-13-29-52.sav\n",
      "Selecting model: Models/994dba/experimental/Session1\\994dba_MI_classifier_2019-03-15-13-29-45.sav\n",
      "Selecting model: Models/994dba/experimental/Session1\\994dba_MI_classifier_TL_2019-03-15-13-29-53.sav\n",
      "Selecting BCI EEG file: SaveData/994dba/Session1\\20190222112202_994dba_BCI.easy\n",
      "Selecting BCI behavioral file: SaveData/994dba/Session1\\BCI_994dba_R4.csv\n",
      "Skipping N/A\n"
     ]
    },
    {
     "name": "stderr",
     "output_type": "stream",
     "text": [
      "C:\\Users\\nile\\Anaconda3\\envs\\eeg\\lib\\site-packages\\scipy\\signal\\_arraytools.py:45: FutureWarning: Using a non-tuple sequence for multidimensional indexing is deprecated; use `arr[tuple(seq)]` instead of `arr[seq]`. In the future this will be interpreted as an array index, `arr[np.array(seq)]`, which will result either in an error or a different result.\n",
      "  b = a[a_slice]\n",
      "C:\\Users\\nile\\Anaconda3\\envs\\eeg\\lib\\site-packages\\scipy\\signal\\signaltools.py:3463: FutureWarning: Using a non-tuple sequence for multidimensional indexing is deprecated; use `arr[tuple(seq)]` instead of `arr[seq]`. In the future this will be interpreted as an array index, `arr[np.array(seq)]`, which will result either in an error or a different result.\n",
      "  return y[sl]\n"
     ]
    },
    {
     "name": "stdout",
     "output_type": "stream",
     "text": [
      "Selecting model: Models/994dba/experimental/Session1\\994dba_MI_classifier_2019-03-15-13-29-57.sav\n",
      "Selecting model: Models/994dba/experimental/Session1\\994dba_MI_classifier_2019-03-15-13-29-45.sav\n",
      "Selecting model: Models/994dba/experimental/Session1\\994dba_MI_classifier_TL_2019-03-15-13-29-58.sav\n",
      "Selecting BCI EEG file: SaveData/994dba/Session1\\20190222112712_994dba_BCI.easy\n",
      "Selecting BCI behavioral file: SaveData/994dba/Session1\\BCI_994dba_R5.csv\n",
      "Skipping N/A\n"
     ]
    },
    {
     "name": "stderr",
     "output_type": "stream",
     "text": [
      "C:\\Users\\nile\\Anaconda3\\envs\\eeg\\lib\\site-packages\\scipy\\signal\\_arraytools.py:45: FutureWarning: Using a non-tuple sequence for multidimensional indexing is deprecated; use `arr[tuple(seq)]` instead of `arr[seq]`. In the future this will be interpreted as an array index, `arr[np.array(seq)]`, which will result either in an error or a different result.\n",
      "  b = a[a_slice]\n",
      "C:\\Users\\nile\\Anaconda3\\envs\\eeg\\lib\\site-packages\\scipy\\signal\\signaltools.py:3463: FutureWarning: Using a non-tuple sequence for multidimensional indexing is deprecated; use `arr[tuple(seq)]` instead of `arr[seq]`. In the future this will be interpreted as an array index, `arr[np.array(seq)]`, which will result either in an error or a different result.\n",
      "  return y[sl]\n"
     ]
    },
    {
     "name": "stdout",
     "output_type": "stream",
     "text": [
      "Selecting model: Models/994dba/experimental/Session1\\994dba_MI_classifier_2019-03-15-13-30-01.sav\n",
      "Selecting model: Models/994dba/experimental/Session1\\994dba_MI_classifier_2019-03-15-13-29-45.sav\n",
      "Selecting model: Models/994dba/experimental/Session1\\994dba_MI_classifier_TL_2019-03-15-13-30-02.sav\n",
      "Selecting BCI EEG file: SaveData/994dba/Session2\\20190225104943_994dba_BCI.easy\n",
      "Selecting BCI behavioral file: SaveData/994dba/Session2\\BCI_994dba_R1.csv\n",
      "Skipping N/A\n"
     ]
    },
    {
     "name": "stderr",
     "output_type": "stream",
     "text": [
      "C:\\Users\\nile\\Anaconda3\\envs\\eeg\\lib\\site-packages\\scipy\\signal\\_arraytools.py:45: FutureWarning: Using a non-tuple sequence for multidimensional indexing is deprecated; use `arr[tuple(seq)]` instead of `arr[seq]`. In the future this will be interpreted as an array index, `arr[np.array(seq)]`, which will result either in an error or a different result.\n",
      "  b = a[a_slice]\n",
      "C:\\Users\\nile\\Anaconda3\\envs\\eeg\\lib\\site-packages\\scipy\\signal\\signaltools.py:3463: FutureWarning: Using a non-tuple sequence for multidimensional indexing is deprecated; use `arr[tuple(seq)]` instead of `arr[seq]`. In the future this will be interpreted as an array index, `arr[np.array(seq)]`, which will result either in an error or a different result.\n",
      "  return y[sl]\n"
     ]
    },
    {
     "name": "stdout",
     "output_type": "stream",
     "text": [
      "Selecting model: Models/994dba/experimental/Session2\\994dba_MI_classifier_2019-03-15-13-31-59.sav\n",
      "Selecting model: Models/994dba/experimental/Session2\\994dba_MI_classifier_2019-03-15-13-31-59.sav\n",
      "Selecting model: Models/994dba/experimental/Session2\\994dba_MI_classifier_2019-03-15-13-31-59.sav\n",
      "Selecting BCI EEG file: SaveData/994dba/Session2\\20190225105515_994dba_BCI.easy\n",
      "Selecting BCI behavioral file: SaveData/994dba/Session2\\BCI_994dba_R2.csv\n",
      "Skipping N/A\n"
     ]
    },
    {
     "name": "stderr",
     "output_type": "stream",
     "text": [
      "C:\\Users\\nile\\Anaconda3\\envs\\eeg\\lib\\site-packages\\scipy\\signal\\_arraytools.py:45: FutureWarning: Using a non-tuple sequence for multidimensional indexing is deprecated; use `arr[tuple(seq)]` instead of `arr[seq]`. In the future this will be interpreted as an array index, `arr[np.array(seq)]`, which will result either in an error or a different result.\n",
      "  b = a[a_slice]\n",
      "C:\\Users\\nile\\Anaconda3\\envs\\eeg\\lib\\site-packages\\scipy\\signal\\signaltools.py:3463: FutureWarning: Using a non-tuple sequence for multidimensional indexing is deprecated; use `arr[tuple(seq)]` instead of `arr[seq]`. In the future this will be interpreted as an array index, `arr[np.array(seq)]`, which will result either in an error or a different result.\n",
      "  return y[sl]\n"
     ]
    },
    {
     "name": "stdout",
     "output_type": "stream",
     "text": [
      "Selecting model: Models/994dba/experimental/Session2\\994dba_MI_classifier_2019-03-15-13-32-03.sav\n",
      "Selecting model: Models/994dba/experimental/Session2\\994dba_MI_classifier_2019-03-15-13-31-59.sav\n",
      "Selecting model: Models/994dba/experimental/Session2\\994dba_MI_classifier_TL_2019-03-15-13-32-03.sav\n",
      "Selecting BCI EEG file: SaveData/994dba/Session2\\20190225110048_994dba_BCI.easy\n",
      "Selecting BCI behavioral file: SaveData/994dba/Session2\\BCI_994dba_R3.csv\n",
      "Skipping N/A\n"
     ]
    },
    {
     "name": "stderr",
     "output_type": "stream",
     "text": [
      "C:\\Users\\nile\\Anaconda3\\envs\\eeg\\lib\\site-packages\\scipy\\signal\\_arraytools.py:45: FutureWarning: Using a non-tuple sequence for multidimensional indexing is deprecated; use `arr[tuple(seq)]` instead of `arr[seq]`. In the future this will be interpreted as an array index, `arr[np.array(seq)]`, which will result either in an error or a different result.\n",
      "  b = a[a_slice]\n",
      "C:\\Users\\nile\\Anaconda3\\envs\\eeg\\lib\\site-packages\\scipy\\signal\\signaltools.py:3463: FutureWarning: Using a non-tuple sequence for multidimensional indexing is deprecated; use `arr[tuple(seq)]` instead of `arr[seq]`. In the future this will be interpreted as an array index, `arr[np.array(seq)]`, which will result either in an error or a different result.\n",
      "  return y[sl]\n"
     ]
    },
    {
     "name": "stdout",
     "output_type": "stream",
     "text": [
      "Selecting model: Models/994dba/experimental/Session2\\994dba_MI_classifier_2019-03-15-13-32-06.sav\n",
      "Selecting model: Models/994dba/experimental/Session2\\994dba_MI_classifier_2019-03-15-13-31-59.sav\n",
      "Selecting model: Models/994dba/experimental/Session2\\994dba_MI_classifier_TL_2019-03-15-13-32-08.sav\n",
      "Selecting BCI EEG file: SaveData/994dba/Session2\\20190225110605_994dba_BCI.easy\n",
      "Selecting BCI behavioral file: SaveData/994dba/Session2\\BCI_994dba_R4.csv\n",
      "Skipping N/A\n"
     ]
    },
    {
     "name": "stderr",
     "output_type": "stream",
     "text": [
      "C:\\Users\\nile\\Anaconda3\\envs\\eeg\\lib\\site-packages\\scipy\\signal\\_arraytools.py:45: FutureWarning: Using a non-tuple sequence for multidimensional indexing is deprecated; use `arr[tuple(seq)]` instead of `arr[seq]`. In the future this will be interpreted as an array index, `arr[np.array(seq)]`, which will result either in an error or a different result.\n",
      "  b = a[a_slice]\n",
      "C:\\Users\\nile\\Anaconda3\\envs\\eeg\\lib\\site-packages\\scipy\\signal\\signaltools.py:3463: FutureWarning: Using a non-tuple sequence for multidimensional indexing is deprecated; use `arr[tuple(seq)]` instead of `arr[seq]`. In the future this will be interpreted as an array index, `arr[np.array(seq)]`, which will result either in an error or a different result.\n",
      "  return y[sl]\n"
     ]
    },
    {
     "name": "stdout",
     "output_type": "stream",
     "text": [
      "Selecting model: Models/994dba/experimental/Session2\\994dba_MI_classifier_2019-03-15-13-32-10.sav\n",
      "Selecting model: Models/994dba/experimental/Session2\\994dba_MI_classifier_2019-03-15-13-31-59.sav\n",
      "Selecting model: Models/994dba/experimental/Session2\\994dba_MI_classifier_TL_2019-03-15-13-32-12.sav\n",
      "Selecting BCI EEG file: SaveData/994dba/Session2\\20190225111125_994dba_BCI.easy\n",
      "Selecting BCI behavioral file: SaveData/994dba/Session2\\BCI_994dba_R5.csv\n",
      "Skipping N/A\n"
     ]
    },
    {
     "name": "stderr",
     "output_type": "stream",
     "text": [
      "C:\\Users\\nile\\Anaconda3\\envs\\eeg\\lib\\site-packages\\scipy\\signal\\_arraytools.py:45: FutureWarning: Using a non-tuple sequence for multidimensional indexing is deprecated; use `arr[tuple(seq)]` instead of `arr[seq]`. In the future this will be interpreted as an array index, `arr[np.array(seq)]`, which will result either in an error or a different result.\n",
      "  b = a[a_slice]\n",
      "C:\\Users\\nile\\Anaconda3\\envs\\eeg\\lib\\site-packages\\scipy\\signal\\signaltools.py:3463: FutureWarning: Using a non-tuple sequence for multidimensional indexing is deprecated; use `arr[tuple(seq)]` instead of `arr[seq]`. In the future this will be interpreted as an array index, `arr[np.array(seq)]`, which will result either in an error or a different result.\n",
      "  return y[sl]\n"
     ]
    },
    {
     "name": "stdout",
     "output_type": "stream",
     "text": [
      "Selecting model: Models/994dba/experimental/Session2\\994dba_MI_classifier_2019-03-15-13-32-14.sav\n",
      "Selecting model: Models/994dba/experimental/Session2\\994dba_MI_classifier_2019-03-15-13-31-59.sav\n",
      "Selecting model: Models/994dba/experimental/Session2\\994dba_MI_classifier_TL_2019-03-15-13-32-16.sav\n",
      "Selecting BCI EEG file: SaveData/994dba/Session3\\20190227104136_994dba_BCI.easy\n",
      "Selecting BCI behavioral file: SaveData/994dba/Session3\\BCI_994dba_R1.csv\n",
      "Skipping N/A\n"
     ]
    },
    {
     "name": "stderr",
     "output_type": "stream",
     "text": [
      "C:\\Users\\nile\\Anaconda3\\envs\\eeg\\lib\\site-packages\\scipy\\signal\\_arraytools.py:45: FutureWarning: Using a non-tuple sequence for multidimensional indexing is deprecated; use `arr[tuple(seq)]` instead of `arr[seq]`. In the future this will be interpreted as an array index, `arr[np.array(seq)]`, which will result either in an error or a different result.\n",
      "  b = a[a_slice]\n",
      "C:\\Users\\nile\\Anaconda3\\envs\\eeg\\lib\\site-packages\\scipy\\signal\\signaltools.py:3463: FutureWarning: Using a non-tuple sequence for multidimensional indexing is deprecated; use `arr[tuple(seq)]` instead of `arr[seq]`. In the future this will be interpreted as an array index, `arr[np.array(seq)]`, which will result either in an error or a different result.\n",
      "  return y[sl]\n"
     ]
    },
    {
     "name": "stdout",
     "output_type": "stream",
     "text": [
      "Selecting model: Models/994dba/experimental/Session3\\994dba_MI_classifier_2019-03-15-13-33-55.sav\n",
      "Selecting model: Models/994dba/experimental/Session3\\994dba_MI_classifier_2019-03-15-13-33-55.sav\n",
      "Selecting model: Models/994dba/experimental/Session3\\994dba_MI_classifier_2019-03-15-13-33-55.sav\n",
      "Selecting BCI EEG file: SaveData/994dba/Session3\\20190227104621_994dba_BCI.easy\n",
      "Selecting BCI behavioral file: SaveData/994dba/Session3\\BCI_994dba_R2.csv\n",
      "Skipping N/A\n"
     ]
    },
    {
     "name": "stderr",
     "output_type": "stream",
     "text": [
      "C:\\Users\\nile\\Anaconda3\\envs\\eeg\\lib\\site-packages\\scipy\\signal\\_arraytools.py:45: FutureWarning: Using a non-tuple sequence for multidimensional indexing is deprecated; use `arr[tuple(seq)]` instead of `arr[seq]`. In the future this will be interpreted as an array index, `arr[np.array(seq)]`, which will result either in an error or a different result.\n",
      "  b = a[a_slice]\n",
      "C:\\Users\\nile\\Anaconda3\\envs\\eeg\\lib\\site-packages\\scipy\\signal\\signaltools.py:3463: FutureWarning: Using a non-tuple sequence for multidimensional indexing is deprecated; use `arr[tuple(seq)]` instead of `arr[seq]`. In the future this will be interpreted as an array index, `arr[np.array(seq)]`, which will result either in an error or a different result.\n",
      "  return y[sl]\n"
     ]
    },
    {
     "name": "stdout",
     "output_type": "stream",
     "text": [
      "Selecting model: Models/994dba/experimental/Session3\\994dba_MI_classifier_2019-03-15-13-33-58.sav\n",
      "Selecting model: Models/994dba/experimental/Session3\\994dba_MI_classifier_2019-03-15-13-33-55.sav\n",
      "Selecting model: Models/994dba/experimental/Session3\\994dba_MI_classifier_TL_2019-03-15-13-33-59.sav\n",
      "Selecting BCI EEG file: SaveData/994dba/Session3\\20190227105135_994dba_BCI.easy\n",
      "Selecting BCI behavioral file: SaveData/994dba/Session3\\BCI_994dba_R3.csv\n",
      "Skipping N/A\n"
     ]
    },
    {
     "name": "stderr",
     "output_type": "stream",
     "text": [
      "C:\\Users\\nile\\Anaconda3\\envs\\eeg\\lib\\site-packages\\scipy\\signal\\_arraytools.py:45: FutureWarning: Using a non-tuple sequence for multidimensional indexing is deprecated; use `arr[tuple(seq)]` instead of `arr[seq]`. In the future this will be interpreted as an array index, `arr[np.array(seq)]`, which will result either in an error or a different result.\n",
      "  b = a[a_slice]\n",
      "C:\\Users\\nile\\Anaconda3\\envs\\eeg\\lib\\site-packages\\scipy\\signal\\signaltools.py:3463: FutureWarning: Using a non-tuple sequence for multidimensional indexing is deprecated; use `arr[tuple(seq)]` instead of `arr[seq]`. In the future this will be interpreted as an array index, `arr[np.array(seq)]`, which will result either in an error or a different result.\n",
      "  return y[sl]\n"
     ]
    },
    {
     "name": "stdout",
     "output_type": "stream",
     "text": [
      "Selecting model: Models/994dba/experimental/Session3\\994dba_MI_classifier_2019-03-15-13-34-01.sav\n",
      "Selecting model: Models/994dba/experimental/Session3\\994dba_MI_classifier_2019-03-15-13-33-55.sav\n",
      "Selecting model: Models/994dba/experimental/Session3\\994dba_MI_classifier_TL_2019-03-15-13-34-02.sav\n",
      "Selecting BCI EEG file: SaveData/994dba/Session3\\20190227105638_994dba_BCI.easy\n",
      "Selecting BCI behavioral file: SaveData/994dba/Session3\\BCI_994dba_R4.csv\n",
      "Skipping N/A\n"
     ]
    },
    {
     "name": "stderr",
     "output_type": "stream",
     "text": [
      "C:\\Users\\nile\\Anaconda3\\envs\\eeg\\lib\\site-packages\\scipy\\signal\\_arraytools.py:45: FutureWarning: Using a non-tuple sequence for multidimensional indexing is deprecated; use `arr[tuple(seq)]` instead of `arr[seq]`. In the future this will be interpreted as an array index, `arr[np.array(seq)]`, which will result either in an error or a different result.\n",
      "  b = a[a_slice]\n",
      "C:\\Users\\nile\\Anaconda3\\envs\\eeg\\lib\\site-packages\\scipy\\signal\\signaltools.py:3463: FutureWarning: Using a non-tuple sequence for multidimensional indexing is deprecated; use `arr[tuple(seq)]` instead of `arr[seq]`. In the future this will be interpreted as an array index, `arr[np.array(seq)]`, which will result either in an error or a different result.\n",
      "  return y[sl]\n"
     ]
    },
    {
     "name": "stdout",
     "output_type": "stream",
     "text": [
      "Selecting model: Models/994dba/experimental/Session3\\994dba_MI_classifier_2019-03-15-13-34-05.sav\n",
      "Selecting model: Models/994dba/experimental/Session3\\994dba_MI_classifier_2019-03-15-13-33-55.sav\n",
      "Selecting model: Models/994dba/experimental/Session3\\994dba_MI_classifier_TL_2019-03-15-13-34-06.sav\n",
      "Selecting BCI EEG file: SaveData/994dba/Session3\\20190227110151_994dba_BCI.easy\n",
      "Selecting BCI behavioral file: SaveData/994dba/Session3\\BCI_994dba_R5.csv\n",
      "Skipping N/A\n"
     ]
    },
    {
     "name": "stderr",
     "output_type": "stream",
     "text": [
      "C:\\Users\\nile\\Anaconda3\\envs\\eeg\\lib\\site-packages\\scipy\\signal\\_arraytools.py:45: FutureWarning: Using a non-tuple sequence for multidimensional indexing is deprecated; use `arr[tuple(seq)]` instead of `arr[seq]`. In the future this will be interpreted as an array index, `arr[np.array(seq)]`, which will result either in an error or a different result.\n",
      "  b = a[a_slice]\n",
      "C:\\Users\\nile\\Anaconda3\\envs\\eeg\\lib\\site-packages\\scipy\\signal\\signaltools.py:3463: FutureWarning: Using a non-tuple sequence for multidimensional indexing is deprecated; use `arr[tuple(seq)]` instead of `arr[seq]`. In the future this will be interpreted as an array index, `arr[np.array(seq)]`, which will result either in an error or a different result.\n",
      "  return y[sl]\n"
     ]
    },
    {
     "name": "stdout",
     "output_type": "stream",
     "text": [
      "Selecting model: Models/994dba/experimental/Session3\\994dba_MI_classifier_2019-03-15-13-34-09.sav\n",
      "Selecting model: Models/994dba/experimental/Session3\\994dba_MI_classifier_2019-03-15-13-33-55.sav\n",
      "Selecting model: Models/994dba/experimental/Session3\\994dba_MI_classifier_TL_2019-03-15-13-34-10.sav\n",
      "----------------------------------------------------\n",
      "Done storing values for 994dba\n",
      "----------------------------------------------------\n",
      "Selecting BCI EEG file: SaveData/303d01/Session1\\20190226134648_303d01_BCI.easy\n",
      "Selecting BCI behavioral file: SaveData/303d01/Session1\\BCI_303d01_R1.csv\n",
      "Skipping N/A\n"
     ]
    },
    {
     "name": "stderr",
     "output_type": "stream",
     "text": [
      "C:\\Users\\nile\\Anaconda3\\envs\\eeg\\lib\\site-packages\\scipy\\signal\\_arraytools.py:45: FutureWarning: Using a non-tuple sequence for multidimensional indexing is deprecated; use `arr[tuple(seq)]` instead of `arr[seq]`. In the future this will be interpreted as an array index, `arr[np.array(seq)]`, which will result either in an error or a different result.\n",
      "  b = a[a_slice]\n",
      "C:\\Users\\nile\\Anaconda3\\envs\\eeg\\lib\\site-packages\\scipy\\signal\\signaltools.py:3463: FutureWarning: Using a non-tuple sequence for multidimensional indexing is deprecated; use `arr[tuple(seq)]` instead of `arr[seq]`. In the future this will be interpreted as an array index, `arr[np.array(seq)]`, which will result either in an error or a different result.\n",
      "  return y[sl]\n"
     ]
    },
    {
     "name": "stdout",
     "output_type": "stream",
     "text": [
      "Selecting model: Models/303d01/experimental/Session1\\303d01_MI_classifier_2019-03-15-10-05-09.sav\n",
      "Selecting model: Models/303d01/experimental/Session1\\303d01_MI_classifier_2019-03-15-10-05-09.sav\n",
      "Selecting model: Models/303d01/experimental/Session1\\303d01_MI_classifier_2019-03-15-10-05-09.sav\n",
      "Selecting BCI EEG file: SaveData/303d01/Session1\\20190226135241_303d01_BCI.easy\n",
      "Selecting BCI behavioral file: SaveData/303d01/Session1\\BCI_303d01_R2.csv\n",
      "Skipping N/A\n"
     ]
    },
    {
     "name": "stderr",
     "output_type": "stream",
     "text": [
      "C:\\Users\\nile\\Anaconda3\\envs\\eeg\\lib\\site-packages\\scipy\\signal\\_arraytools.py:45: FutureWarning: Using a non-tuple sequence for multidimensional indexing is deprecated; use `arr[tuple(seq)]` instead of `arr[seq]`. In the future this will be interpreted as an array index, `arr[np.array(seq)]`, which will result either in an error or a different result.\n",
      "  b = a[a_slice]\n",
      "C:\\Users\\nile\\Anaconda3\\envs\\eeg\\lib\\site-packages\\scipy\\signal\\signaltools.py:3463: FutureWarning: Using a non-tuple sequence for multidimensional indexing is deprecated; use `arr[tuple(seq)]` instead of `arr[seq]`. In the future this will be interpreted as an array index, `arr[np.array(seq)]`, which will result either in an error or a different result.\n",
      "  return y[sl]\n"
     ]
    },
    {
     "name": "stdout",
     "output_type": "stream",
     "text": [
      "Selecting model: Models/303d01/experimental/Session1\\303d01_MI_classifier_2019-03-15-10-05-35.sav\n",
      "Selecting model: Models/303d01/experimental/Session1\\303d01_MI_classifier_2019-03-15-10-05-09.sav\n",
      "Selecting model: Models/303d01/experimental/Session1\\303d01_MI_classifier_TL_2019-03-15-10-05-35.sav\n",
      "Selecting BCI EEG file: SaveData/303d01/Session1\\20190226135821_303d01_BCI.easy\n",
      "Selecting BCI behavioral file: SaveData/303d01/Session1\\BCI_303d01_R3.csv\n",
      "Skipping N/A\n"
     ]
    },
    {
     "name": "stderr",
     "output_type": "stream",
     "text": [
      "C:\\Users\\nile\\Anaconda3\\envs\\eeg\\lib\\site-packages\\scipy\\signal\\_arraytools.py:45: FutureWarning: Using a non-tuple sequence for multidimensional indexing is deprecated; use `arr[tuple(seq)]` instead of `arr[seq]`. In the future this will be interpreted as an array index, `arr[np.array(seq)]`, which will result either in an error or a different result.\n",
      "  b = a[a_slice]\n",
      "C:\\Users\\nile\\Anaconda3\\envs\\eeg\\lib\\site-packages\\scipy\\signal\\signaltools.py:3463: FutureWarning: Using a non-tuple sequence for multidimensional indexing is deprecated; use `arr[tuple(seq)]` instead of `arr[seq]`. In the future this will be interpreted as an array index, `arr[np.array(seq)]`, which will result either in an error or a different result.\n",
      "  return y[sl]\n"
     ]
    },
    {
     "name": "stdout",
     "output_type": "stream",
     "text": [
      "Selecting model: Models/303d01/experimental/Session1\\303d01_MI_classifier_2019-03-15-10-05-38.sav\n",
      "Selecting model: Models/303d01/experimental/Session1\\303d01_MI_classifier_2019-03-15-10-05-09.sav\n",
      "Selecting model: Models/303d01/experimental/Session1\\303d01_MI_classifier_TL_2019-03-15-10-05-40.sav\n",
      "Selecting BCI EEG file: SaveData/303d01/Session1\\20190226140401_303d01_BCI.easy\n",
      "Selecting BCI behavioral file: SaveData/303d01/Session1\\BCI_303d01_R4.csv\n",
      "Skipping N/A\n"
     ]
    },
    {
     "name": "stderr",
     "output_type": "stream",
     "text": [
      "C:\\Users\\nile\\Anaconda3\\envs\\eeg\\lib\\site-packages\\scipy\\signal\\_arraytools.py:45: FutureWarning: Using a non-tuple sequence for multidimensional indexing is deprecated; use `arr[tuple(seq)]` instead of `arr[seq]`. In the future this will be interpreted as an array index, `arr[np.array(seq)]`, which will result either in an error or a different result.\n",
      "  b = a[a_slice]\n",
      "C:\\Users\\nile\\Anaconda3\\envs\\eeg\\lib\\site-packages\\scipy\\signal\\signaltools.py:3463: FutureWarning: Using a non-tuple sequence for multidimensional indexing is deprecated; use `arr[tuple(seq)]` instead of `arr[seq]`. In the future this will be interpreted as an array index, `arr[np.array(seq)]`, which will result either in an error or a different result.\n",
      "  return y[sl]\n"
     ]
    },
    {
     "name": "stdout",
     "output_type": "stream",
     "text": [
      "Selecting model: Models/303d01/experimental/Session1\\303d01_MI_classifier_2019-03-15-10-05-44.sav\n",
      "Selecting model: Models/303d01/experimental/Session1\\303d01_MI_classifier_2019-03-15-10-05-09.sav\n",
      "Selecting model: Models/303d01/experimental/Session1\\303d01_MI_classifier_TL_2019-03-15-10-05-46.sav\n",
      "Selecting BCI EEG file: SaveData/303d01/Session1\\20190226140945_303d01_BCI.easy\n",
      "Selecting BCI behavioral file: SaveData/303d01/Session1\\BCI_303d01_R5.csv\n",
      "Skipping N/A\n"
     ]
    },
    {
     "name": "stderr",
     "output_type": "stream",
     "text": [
      "C:\\Users\\nile\\Anaconda3\\envs\\eeg\\lib\\site-packages\\scipy\\signal\\_arraytools.py:45: FutureWarning: Using a non-tuple sequence for multidimensional indexing is deprecated; use `arr[tuple(seq)]` instead of `arr[seq]`. In the future this will be interpreted as an array index, `arr[np.array(seq)]`, which will result either in an error or a different result.\n",
      "  b = a[a_slice]\n",
      "C:\\Users\\nile\\Anaconda3\\envs\\eeg\\lib\\site-packages\\scipy\\signal\\signaltools.py:3463: FutureWarning: Using a non-tuple sequence for multidimensional indexing is deprecated; use `arr[tuple(seq)]` instead of `arr[seq]`. In the future this will be interpreted as an array index, `arr[np.array(seq)]`, which will result either in an error or a different result.\n",
      "  return y[sl]\n"
     ]
    },
    {
     "name": "stdout",
     "output_type": "stream",
     "text": [
      "Selecting model: Models/303d01/experimental/Session1\\303d01_MI_classifier_2019-03-15-10-05-50.sav\n",
      "Selecting model: Models/303d01/experimental/Session1\\303d01_MI_classifier_2019-03-15-10-05-09.sav\n",
      "Selecting model: Models/303d01/experimental/Session1\\303d01_MI_classifier_TL_2019-03-15-10-05-52.sav\n",
      "Selecting BCI EEG file: SaveData/303d01/Session2\\20190227145047_303d01_BCI.easy\n",
      "Selecting BCI behavioral file: SaveData/303d01/Session2\\BCI_303d01_R1.csv\n",
      "Skipping N/A\n"
     ]
    },
    {
     "name": "stderr",
     "output_type": "stream",
     "text": [
      "C:\\Users\\nile\\Anaconda3\\envs\\eeg\\lib\\site-packages\\scipy\\signal\\_arraytools.py:45: FutureWarning: Using a non-tuple sequence for multidimensional indexing is deprecated; use `arr[tuple(seq)]` instead of `arr[seq]`. In the future this will be interpreted as an array index, `arr[np.array(seq)]`, which will result either in an error or a different result.\n",
      "  b = a[a_slice]\n",
      "C:\\Users\\nile\\Anaconda3\\envs\\eeg\\lib\\site-packages\\scipy\\signal\\signaltools.py:3463: FutureWarning: Using a non-tuple sequence for multidimensional indexing is deprecated; use `arr[tuple(seq)]` instead of `arr[seq]`. In the future this will be interpreted as an array index, `arr[np.array(seq)]`, which will result either in an error or a different result.\n",
      "  return y[sl]\n"
     ]
    },
    {
     "name": "stdout",
     "output_type": "stream",
     "text": [
      "Selecting model: Models/303d01/experimental/Session2\\303d01_MI_classifier_2019-03-15-10-08-03.sav\n",
      "Selecting model: Models/303d01/experimental/Session2\\303d01_MI_classifier_2019-03-15-10-08-03.sav\n",
      "Selecting model: Models/303d01/experimental/Session2\\303d01_MI_classifier_2019-03-15-10-08-03.sav\n",
      "Selecting BCI EEG file: SaveData/303d01/Session2\\20190227145637_303d01_BCI.easy\n",
      "Selecting BCI behavioral file: SaveData/303d01/Session2\\BCI_303d01_R2.csv\n",
      "Skipping N/A\n"
     ]
    },
    {
     "name": "stderr",
     "output_type": "stream",
     "text": [
      "C:\\Users\\nile\\Anaconda3\\envs\\eeg\\lib\\site-packages\\scipy\\signal\\_arraytools.py:45: FutureWarning: Using a non-tuple sequence for multidimensional indexing is deprecated; use `arr[tuple(seq)]` instead of `arr[seq]`. In the future this will be interpreted as an array index, `arr[np.array(seq)]`, which will result either in an error or a different result.\n",
      "  b = a[a_slice]\n",
      "C:\\Users\\nile\\Anaconda3\\envs\\eeg\\lib\\site-packages\\scipy\\signal\\signaltools.py:3463: FutureWarning: Using a non-tuple sequence for multidimensional indexing is deprecated; use `arr[tuple(seq)]` instead of `arr[seq]`. In the future this will be interpreted as an array index, `arr[np.array(seq)]`, which will result either in an error or a different result.\n",
      "  return y[sl]\n"
     ]
    },
    {
     "name": "stdout",
     "output_type": "stream",
     "text": [
      "Selecting model: Models/303d01/experimental/Session2\\303d01_MI_classifier_2019-03-15-10-08-09.sav\n",
      "Selecting model: Models/303d01/experimental/Session2\\303d01_MI_classifier_2019-03-15-10-08-03.sav\n",
      "Selecting model: Models/303d01/experimental/Session2\\303d01_MI_classifier_TL_2019-03-15-10-08-09.sav\n",
      "Selecting BCI EEG file: SaveData/303d01/Session2\\20190227150215_303d01_BCI.easy\n",
      "Selecting BCI behavioral file: SaveData/303d01/Session2\\BCI_303d01_R3.csv\n",
      "Skipping N/A\n"
     ]
    },
    {
     "name": "stderr",
     "output_type": "stream",
     "text": [
      "C:\\Users\\nile\\Anaconda3\\envs\\eeg\\lib\\site-packages\\scipy\\signal\\_arraytools.py:45: FutureWarning: Using a non-tuple sequence for multidimensional indexing is deprecated; use `arr[tuple(seq)]` instead of `arr[seq]`. In the future this will be interpreted as an array index, `arr[np.array(seq)]`, which will result either in an error or a different result.\n",
      "  b = a[a_slice]\n",
      "C:\\Users\\nile\\Anaconda3\\envs\\eeg\\lib\\site-packages\\scipy\\signal\\signaltools.py:3463: FutureWarning: Using a non-tuple sequence for multidimensional indexing is deprecated; use `arr[tuple(seq)]` instead of `arr[seq]`. In the future this will be interpreted as an array index, `arr[np.array(seq)]`, which will result either in an error or a different result.\n",
      "  return y[sl]\n"
     ]
    },
    {
     "name": "stdout",
     "output_type": "stream",
     "text": [
      "Selecting model: Models/303d01/experimental/Session2\\303d01_MI_classifier_2019-03-15-10-08-13.sav\n",
      "Selecting model: Models/303d01/experimental/Session2\\303d01_MI_classifier_2019-03-15-10-08-03.sav\n",
      "Selecting model: Models/303d01/experimental/Session2\\303d01_MI_classifier_TL_2019-03-15-10-08-15.sav\n",
      "Selecting BCI EEG file: SaveData/303d01/Session2\\20190227150741_303d01_BCI.easy\n",
      "Selecting BCI behavioral file: SaveData/303d01/Session2\\BCI_303d01_R4.csv\n",
      "Skipping N/A\n"
     ]
    },
    {
     "name": "stderr",
     "output_type": "stream",
     "text": [
      "C:\\Users\\nile\\Anaconda3\\envs\\eeg\\lib\\site-packages\\scipy\\signal\\_arraytools.py:45: FutureWarning: Using a non-tuple sequence for multidimensional indexing is deprecated; use `arr[tuple(seq)]` instead of `arr[seq]`. In the future this will be interpreted as an array index, `arr[np.array(seq)]`, which will result either in an error or a different result.\n",
      "  b = a[a_slice]\n",
      "C:\\Users\\nile\\Anaconda3\\envs\\eeg\\lib\\site-packages\\scipy\\signal\\signaltools.py:3463: FutureWarning: Using a non-tuple sequence for multidimensional indexing is deprecated; use `arr[tuple(seq)]` instead of `arr[seq]`. In the future this will be interpreted as an array index, `arr[np.array(seq)]`, which will result either in an error or a different result.\n",
      "  return y[sl]\n"
     ]
    },
    {
     "name": "stdout",
     "output_type": "stream",
     "text": [
      "Selecting model: Models/303d01/experimental/Session2\\303d01_MI_classifier_2019-03-15-10-08-18.sav\n",
      "Selecting model: Models/303d01/experimental/Session2\\303d01_MI_classifier_2019-03-15-10-08-03.sav\n",
      "Selecting model: Models/303d01/experimental/Session2\\303d01_MI_classifier_TL_2019-03-15-10-08-20.sav\n",
      "Selecting BCI EEG file: SaveData/303d01/Session2\\20190227151306_303d01_BCI.easy\n",
      "Selecting BCI behavioral file: SaveData/303d01/Session2\\BCI_303d01_R5.csv\n",
      "Skipping N/A\n"
     ]
    },
    {
     "name": "stderr",
     "output_type": "stream",
     "text": [
      "C:\\Users\\nile\\Anaconda3\\envs\\eeg\\lib\\site-packages\\scipy\\signal\\_arraytools.py:45: FutureWarning: Using a non-tuple sequence for multidimensional indexing is deprecated; use `arr[tuple(seq)]` instead of `arr[seq]`. In the future this will be interpreted as an array index, `arr[np.array(seq)]`, which will result either in an error or a different result.\n",
      "  b = a[a_slice]\n",
      "C:\\Users\\nile\\Anaconda3\\envs\\eeg\\lib\\site-packages\\scipy\\signal\\signaltools.py:3463: FutureWarning: Using a non-tuple sequence for multidimensional indexing is deprecated; use `arr[tuple(seq)]` instead of `arr[seq]`. In the future this will be interpreted as an array index, `arr[np.array(seq)]`, which will result either in an error or a different result.\n",
      "  return y[sl]\n"
     ]
    },
    {
     "name": "stdout",
     "output_type": "stream",
     "text": [
      "Selecting model: Models/303d01/experimental/Session2\\303d01_MI_classifier_2019-03-15-10-08-23.sav\n",
      "Selecting model: Models/303d01/experimental/Session2\\303d01_MI_classifier_2019-03-15-10-08-03.sav\n",
      "Selecting model: Models/303d01/experimental/Session2\\303d01_MI_classifier_TL_2019-03-15-10-08-25.sav\n",
      "Selecting BCI EEG file: SaveData/303d01/Session3\\20190312144906_303d01_BCI.easy\n",
      "Selecting BCI behavioral file: SaveData/303d01/Session3\\BCI_303d01_R1.csv\n",
      "Skipping N/A\n"
     ]
    },
    {
     "name": "stderr",
     "output_type": "stream",
     "text": [
      "C:\\Users\\nile\\Anaconda3\\envs\\eeg\\lib\\site-packages\\scipy\\signal\\_arraytools.py:45: FutureWarning: Using a non-tuple sequence for multidimensional indexing is deprecated; use `arr[tuple(seq)]` instead of `arr[seq]`. In the future this will be interpreted as an array index, `arr[np.array(seq)]`, which will result either in an error or a different result.\n",
      "  b = a[a_slice]\n",
      "C:\\Users\\nile\\Anaconda3\\envs\\eeg\\lib\\site-packages\\scipy\\signal\\signaltools.py:3463: FutureWarning: Using a non-tuple sequence for multidimensional indexing is deprecated; use `arr[tuple(seq)]` instead of `arr[seq]`. In the future this will be interpreted as an array index, `arr[np.array(seq)]`, which will result either in an error or a different result.\n",
      "  return y[sl]\n"
     ]
    },
    {
     "name": "stdout",
     "output_type": "stream",
     "text": [
      "Selecting model: Models/303d01/experimental/Session3\\303d01_MI_classifier_2019-03-15-10-10-32.sav\n",
      "Selecting model: Models/303d01/experimental/Session3\\303d01_MI_classifier_2019-03-15-10-10-32.sav\n",
      "Selecting model: Models/303d01/experimental/Session3\\303d01_MI_classifier_2019-03-15-10-10-32.sav\n",
      "Selecting BCI EEG file: SaveData/303d01/Session3\\20190312145443_303d01_BCI.easy\n",
      "Selecting BCI behavioral file: SaveData/303d01/Session3\\BCI_303d01_R2.csv\n",
      "Skipping N/A\n"
     ]
    },
    {
     "name": "stderr",
     "output_type": "stream",
     "text": [
      "C:\\Users\\nile\\Anaconda3\\envs\\eeg\\lib\\site-packages\\scipy\\signal\\_arraytools.py:45: FutureWarning: Using a non-tuple sequence for multidimensional indexing is deprecated; use `arr[tuple(seq)]` instead of `arr[seq]`. In the future this will be interpreted as an array index, `arr[np.array(seq)]`, which will result either in an error or a different result.\n",
      "  b = a[a_slice]\n",
      "C:\\Users\\nile\\Anaconda3\\envs\\eeg\\lib\\site-packages\\scipy\\signal\\signaltools.py:3463: FutureWarning: Using a non-tuple sequence for multidimensional indexing is deprecated; use `arr[tuple(seq)]` instead of `arr[seq]`. In the future this will be interpreted as an array index, `arr[np.array(seq)]`, which will result either in an error or a different result.\n",
      "  return y[sl]\n"
     ]
    },
    {
     "name": "stdout",
     "output_type": "stream",
     "text": [
      "Selecting model: Models/303d01/experimental/Session3\\303d01_MI_classifier_2019-03-15-10-10-38.sav\n",
      "Selecting model: Models/303d01/experimental/Session3\\303d01_MI_classifier_2019-03-15-10-10-32.sav\n",
      "Selecting model: Models/303d01/experimental/Session3\\303d01_MI_classifier_TL_2019-03-15-10-10-38.sav\n",
      "Selecting BCI EEG file: SaveData/303d01/Session3\\20190312145946_303d01_BCI.easy\n",
      "Selecting BCI behavioral file: SaveData/303d01/Session3\\BCI_303d01_R3.csv\n",
      "Skipping N/A\n"
     ]
    },
    {
     "name": "stderr",
     "output_type": "stream",
     "text": [
      "C:\\Users\\nile\\Anaconda3\\envs\\eeg\\lib\\site-packages\\scipy\\signal\\_arraytools.py:45: FutureWarning: Using a non-tuple sequence for multidimensional indexing is deprecated; use `arr[tuple(seq)]` instead of `arr[seq]`. In the future this will be interpreted as an array index, `arr[np.array(seq)]`, which will result either in an error or a different result.\n",
      "  b = a[a_slice]\n",
      "C:\\Users\\nile\\Anaconda3\\envs\\eeg\\lib\\site-packages\\scipy\\signal\\signaltools.py:3463: FutureWarning: Using a non-tuple sequence for multidimensional indexing is deprecated; use `arr[tuple(seq)]` instead of `arr[seq]`. In the future this will be interpreted as an array index, `arr[np.array(seq)]`, which will result either in an error or a different result.\n",
      "  return y[sl]\n"
     ]
    },
    {
     "name": "stdout",
     "output_type": "stream",
     "text": [
      "Selecting model: Models/303d01/experimental/Session3\\303d01_MI_classifier_2019-03-15-10-10-42.sav\n",
      "Selecting model: Models/303d01/experimental/Session3\\303d01_MI_classifier_2019-03-15-10-10-32.sav\n",
      "Selecting model: Models/303d01/experimental/Session3\\303d01_MI_classifier_TL_2019-03-15-10-10-43.sav\n",
      "Selecting BCI EEG file: SaveData/303d01/Session3\\20190312150555_303d01_BCI.easy\n",
      "Selecting BCI behavioral file: SaveData/303d01/Session3\\BCI_303d01_R4.csv\n",
      "Skipping N/A\n"
     ]
    },
    {
     "name": "stderr",
     "output_type": "stream",
     "text": [
      "C:\\Users\\nile\\Anaconda3\\envs\\eeg\\lib\\site-packages\\scipy\\signal\\_arraytools.py:45: FutureWarning: Using a non-tuple sequence for multidimensional indexing is deprecated; use `arr[tuple(seq)]` instead of `arr[seq]`. In the future this will be interpreted as an array index, `arr[np.array(seq)]`, which will result either in an error or a different result.\n",
      "  b = a[a_slice]\n",
      "C:\\Users\\nile\\Anaconda3\\envs\\eeg\\lib\\site-packages\\scipy\\signal\\signaltools.py:3463: FutureWarning: Using a non-tuple sequence for multidimensional indexing is deprecated; use `arr[tuple(seq)]` instead of `arr[seq]`. In the future this will be interpreted as an array index, `arr[np.array(seq)]`, which will result either in an error or a different result.\n",
      "  return y[sl]\n"
     ]
    },
    {
     "name": "stdout",
     "output_type": "stream",
     "text": [
      "Selecting model: Models/303d01/experimental/Session3\\303d01_MI_classifier_2019-03-15-10-10-47.sav\n",
      "Selecting model: Models/303d01/experimental/Session3\\303d01_MI_classifier_2019-03-15-10-10-32.sav\n",
      "Selecting model: Models/303d01/experimental/Session3\\303d01_MI_classifier_TL_2019-03-15-10-10-49.sav\n",
      "Selecting BCI EEG file: SaveData/303d01/Session3\\20190312151157_303d01_BCI.easy\n",
      "Selecting BCI behavioral file: SaveData/303d01/Session3\\BCI_303d01_R5.csv\n",
      "Skipping N/A\n"
     ]
    },
    {
     "name": "stderr",
     "output_type": "stream",
     "text": [
      "C:\\Users\\nile\\Anaconda3\\envs\\eeg\\lib\\site-packages\\scipy\\signal\\_arraytools.py:45: FutureWarning: Using a non-tuple sequence for multidimensional indexing is deprecated; use `arr[tuple(seq)]` instead of `arr[seq]`. In the future this will be interpreted as an array index, `arr[np.array(seq)]`, which will result either in an error or a different result.\n",
      "  b = a[a_slice]\n",
      "C:\\Users\\nile\\Anaconda3\\envs\\eeg\\lib\\site-packages\\scipy\\signal\\signaltools.py:3463: FutureWarning: Using a non-tuple sequence for multidimensional indexing is deprecated; use `arr[tuple(seq)]` instead of `arr[seq]`. In the future this will be interpreted as an array index, `arr[np.array(seq)]`, which will result either in an error or a different result.\n",
      "  return y[sl]\n"
     ]
    },
    {
     "name": "stdout",
     "output_type": "stream",
     "text": [
      "Selecting model: Models/303d01/experimental/Session3\\303d01_MI_classifier_2019-03-15-10-10-52.sav\n",
      "Selecting model: Models/303d01/experimental/Session3\\303d01_MI_classifier_2019-03-15-10-10-32.sav\n",
      "Selecting model: Models/303d01/experimental/Session3\\303d01_MI_classifier_TL_2019-03-15-10-10-54.sav\n",
      "----------------------------------------------------\n",
      "Done storing values for 303d01\n",
      "----------------------------------------------------\n",
      "Selecting BCI EEG file: SaveData/e2cbc4/Session1\\20190301133119_e2cbc4_BCI.easy\n",
      "Selecting BCI behavioral file: SaveData/e2cbc4/Session1\\BCI_e2cbc4_R1.csv\n",
      "Skipping N/A\n"
     ]
    },
    {
     "name": "stderr",
     "output_type": "stream",
     "text": [
      "C:\\Users\\nile\\Anaconda3\\envs\\eeg\\lib\\site-packages\\scipy\\signal\\_arraytools.py:45: FutureWarning: Using a non-tuple sequence for multidimensional indexing is deprecated; use `arr[tuple(seq)]` instead of `arr[seq]`. In the future this will be interpreted as an array index, `arr[np.array(seq)]`, which will result either in an error or a different result.\n",
      "  b = a[a_slice]\n",
      "C:\\Users\\nile\\Anaconda3\\envs\\eeg\\lib\\site-packages\\scipy\\signal\\signaltools.py:3463: FutureWarning: Using a non-tuple sequence for multidimensional indexing is deprecated; use `arr[tuple(seq)]` instead of `arr[seq]`. In the future this will be interpreted as an array index, `arr[np.array(seq)]`, which will result either in an error or a different result.\n",
      "  return y[sl]\n"
     ]
    },
    {
     "name": "stdout",
     "output_type": "stream",
     "text": [
      "Selecting model: Models/e2cbc4/experimental/Session1\\e2cbc4_MI_classifier_2019-03-22-12-14-57.sav\n",
      "Selecting model: Models/e2cbc4/experimental/Session1\\e2cbc4_MI_classifier_2019-03-22-12-14-57.sav\n",
      "Selecting model: Models/e2cbc4/experimental/Session1\\e2cbc4_MI_classifier_2019-03-22-12-14-57.sav\n",
      "Selecting BCI EEG file: SaveData/e2cbc4/Session1\\20190301133623_e2cbc4_BCI.easy\n",
      "Selecting BCI behavioral file: SaveData/e2cbc4/Session1\\BCI_e2cbc4_R2.csv\n",
      "Skipping N/A\n"
     ]
    },
    {
     "name": "stderr",
     "output_type": "stream",
     "text": [
      "C:\\Users\\nile\\Anaconda3\\envs\\eeg\\lib\\site-packages\\scipy\\signal\\_arraytools.py:45: FutureWarning: Using a non-tuple sequence for multidimensional indexing is deprecated; use `arr[tuple(seq)]` instead of `arr[seq]`. In the future this will be interpreted as an array index, `arr[np.array(seq)]`, which will result either in an error or a different result.\n",
      "  b = a[a_slice]\n",
      "C:\\Users\\nile\\Anaconda3\\envs\\eeg\\lib\\site-packages\\scipy\\signal\\signaltools.py:3463: FutureWarning: Using a non-tuple sequence for multidimensional indexing is deprecated; use `arr[tuple(seq)]` instead of `arr[seq]`. In the future this will be interpreted as an array index, `arr[np.array(seq)]`, which will result either in an error or a different result.\n",
      "  return y[sl]\n"
     ]
    },
    {
     "name": "stdout",
     "output_type": "stream",
     "text": [
      "Selecting model: Models/e2cbc4/experimental/Session1\\e2cbc4_MI_classifier_2019-03-22-12-14-57.sav\n",
      "Selecting model: Models/e2cbc4/experimental/Session1\\e2cbc4_MI_classifier_2019-03-22-12-15-00.sav\n",
      "Selecting model: Models/e2cbc4/experimental/Session1\\e2cbc4_MI_classifier_TL_2019-03-22-12-15-01.sav\n",
      "Selecting BCI EEG file: SaveData/e2cbc4/Session1\\20190301134108_e2cbc4_BCI.easy\n",
      "Selecting BCI behavioral file: SaveData/e2cbc4/Session1\\BCI_e2cbc4_R3.csv\n",
      "Skipping N/A\n"
     ]
    },
    {
     "name": "stderr",
     "output_type": "stream",
     "text": [
      "C:\\Users\\nile\\Anaconda3\\envs\\eeg\\lib\\site-packages\\scipy\\signal\\_arraytools.py:45: FutureWarning: Using a non-tuple sequence for multidimensional indexing is deprecated; use `arr[tuple(seq)]` instead of `arr[seq]`. In the future this will be interpreted as an array index, `arr[np.array(seq)]`, which will result either in an error or a different result.\n",
      "  b = a[a_slice]\n",
      "C:\\Users\\nile\\Anaconda3\\envs\\eeg\\lib\\site-packages\\scipy\\signal\\signaltools.py:3463: FutureWarning: Using a non-tuple sequence for multidimensional indexing is deprecated; use `arr[tuple(seq)]` instead of `arr[seq]`. In the future this will be interpreted as an array index, `arr[np.array(seq)]`, which will result either in an error or a different result.\n",
      "  return y[sl]\n"
     ]
    },
    {
     "name": "stdout",
     "output_type": "stream",
     "text": [
      "Selecting model: Models/e2cbc4/experimental/Session1\\e2cbc4_MI_classifier_2019-03-22-12-14-57.sav\n",
      "Selecting model: Models/e2cbc4/experimental/Session1\\e2cbc4_MI_classifier_2019-03-22-12-15-03.sav\n",
      "Selecting model: Models/e2cbc4/experimental/Session1\\e2cbc4_MI_classifier_TL_2019-03-22-12-15-04.sav\n",
      "Selecting BCI EEG file: SaveData/e2cbc4/Session1\\20190301134618_e2cbc4_BCI.easy\n",
      "Selecting BCI behavioral file: SaveData/e2cbc4/Session1\\BCI_e2cbc4_R4.csv\n",
      "Skipping N/A\n"
     ]
    },
    {
     "name": "stderr",
     "output_type": "stream",
     "text": [
      "C:\\Users\\nile\\Anaconda3\\envs\\eeg\\lib\\site-packages\\scipy\\signal\\_arraytools.py:45: FutureWarning: Using a non-tuple sequence for multidimensional indexing is deprecated; use `arr[tuple(seq)]` instead of `arr[seq]`. In the future this will be interpreted as an array index, `arr[np.array(seq)]`, which will result either in an error or a different result.\n",
      "  b = a[a_slice]\n",
      "C:\\Users\\nile\\Anaconda3\\envs\\eeg\\lib\\site-packages\\scipy\\signal\\signaltools.py:3463: FutureWarning: Using a non-tuple sequence for multidimensional indexing is deprecated; use `arr[tuple(seq)]` instead of `arr[seq]`. In the future this will be interpreted as an array index, `arr[np.array(seq)]`, which will result either in an error or a different result.\n",
      "  return y[sl]\n"
     ]
    },
    {
     "name": "stdout",
     "output_type": "stream",
     "text": [
      "Selecting model: Models/e2cbc4/experimental/Session1\\e2cbc4_MI_classifier_2019-03-22-12-14-57.sav\n",
      "Selecting model: Models/e2cbc4/experimental/Session1\\e2cbc4_MI_classifier_2019-03-22-12-15-07.sav\n",
      "Selecting model: Models/e2cbc4/experimental/Session1\\e2cbc4_MI_classifier_TL_2019-03-22-12-15-08.sav\n",
      "Selecting BCI EEG file: SaveData/e2cbc4/Session1\\20190301135102_e2cbc4_BCI.easy\n",
      "Selecting BCI behavioral file: SaveData/e2cbc4/Session1\\BCI_e2cbc4_R5.csv\n",
      "Skipping N/A\n"
     ]
    },
    {
     "name": "stderr",
     "output_type": "stream",
     "text": [
      "C:\\Users\\nile\\Anaconda3\\envs\\eeg\\lib\\site-packages\\scipy\\signal\\_arraytools.py:45: FutureWarning: Using a non-tuple sequence for multidimensional indexing is deprecated; use `arr[tuple(seq)]` instead of `arr[seq]`. In the future this will be interpreted as an array index, `arr[np.array(seq)]`, which will result either in an error or a different result.\n",
      "  b = a[a_slice]\n",
      "C:\\Users\\nile\\Anaconda3\\envs\\eeg\\lib\\site-packages\\scipy\\signal\\signaltools.py:3463: FutureWarning: Using a non-tuple sequence for multidimensional indexing is deprecated; use `arr[tuple(seq)]` instead of `arr[seq]`. In the future this will be interpreted as an array index, `arr[np.array(seq)]`, which will result either in an error or a different result.\n",
      "  return y[sl]\n"
     ]
    },
    {
     "name": "stdout",
     "output_type": "stream",
     "text": [
      "Selecting model: Models/e2cbc4/experimental/Session1\\e2cbc4_MI_classifier_2019-03-22-12-14-57.sav\n",
      "Selecting model: Models/e2cbc4/experimental/Session1\\e2cbc4_MI_classifier_2019-03-22-12-15-10.sav\n",
      "Selecting model: Models/e2cbc4/experimental/Session1\\e2cbc4_MI_classifier_TL_2019-03-22-12-15-12.sav\n",
      "Selecting BCI EEG file: SaveData/e2cbc4/Session2\\20190308131227_e2cbc4_BCI.easy\n",
      "Selecting BCI behavioral file: SaveData/e2cbc4/Session2\\BCI_e2cbc4_R1.csv\n",
      "Skipping N/A\n"
     ]
    },
    {
     "name": "stderr",
     "output_type": "stream",
     "text": [
      "C:\\Users\\nile\\Anaconda3\\envs\\eeg\\lib\\site-packages\\scipy\\signal\\_arraytools.py:45: FutureWarning: Using a non-tuple sequence for multidimensional indexing is deprecated; use `arr[tuple(seq)]` instead of `arr[seq]`. In the future this will be interpreted as an array index, `arr[np.array(seq)]`, which will result either in an error or a different result.\n",
      "  b = a[a_slice]\n",
      "C:\\Users\\nile\\Anaconda3\\envs\\eeg\\lib\\site-packages\\scipy\\signal\\signaltools.py:3463: FutureWarning: Using a non-tuple sequence for multidimensional indexing is deprecated; use `arr[tuple(seq)]` instead of `arr[seq]`. In the future this will be interpreted as an array index, `arr[np.array(seq)]`, which will result either in an error or a different result.\n",
      "  return y[sl]\n"
     ]
    },
    {
     "name": "stdout",
     "output_type": "stream",
     "text": [
      "Selecting model: Models/e2cbc4/experimental/Session2\\e2cbc4_MI_classifier_2019-03-22-12-16-31.sav\n",
      "Selecting model: Models/e2cbc4/experimental/Session2\\e2cbc4_MI_classifier_2019-03-22-12-16-31.sav\n",
      "Selecting model: Models/e2cbc4/experimental/Session2\\e2cbc4_MI_classifier_2019-03-22-12-16-31.sav\n",
      "Selecting BCI EEG file: SaveData/e2cbc4/Session2\\20190308131733_e2cbc4_BCI.easy\n",
      "Selecting BCI behavioral file: SaveData/e2cbc4/Session2\\BCI_e2cbc4_R2.csv\n",
      "Skipping N/A\n"
     ]
    },
    {
     "name": "stderr",
     "output_type": "stream",
     "text": [
      "C:\\Users\\nile\\Anaconda3\\envs\\eeg\\lib\\site-packages\\scipy\\signal\\_arraytools.py:45: FutureWarning: Using a non-tuple sequence for multidimensional indexing is deprecated; use `arr[tuple(seq)]` instead of `arr[seq]`. In the future this will be interpreted as an array index, `arr[np.array(seq)]`, which will result either in an error or a different result.\n",
      "  b = a[a_slice]\n",
      "C:\\Users\\nile\\Anaconda3\\envs\\eeg\\lib\\site-packages\\scipy\\signal\\signaltools.py:3463: FutureWarning: Using a non-tuple sequence for multidimensional indexing is deprecated; use `arr[tuple(seq)]` instead of `arr[seq]`. In the future this will be interpreted as an array index, `arr[np.array(seq)]`, which will result either in an error or a different result.\n",
      "  return y[sl]\n"
     ]
    },
    {
     "name": "stdout",
     "output_type": "stream",
     "text": [
      "Selecting model: Models/e2cbc4/experimental/Session2\\e2cbc4_MI_classifier_2019-03-22-12-16-31.sav\n",
      "Selecting model: Models/e2cbc4/experimental/Session2\\e2cbc4_MI_classifier_2019-03-22-12-16-35.sav\n",
      "Selecting model: Models/e2cbc4/experimental/Session2\\e2cbc4_MI_classifier_TL_2019-03-22-12-16-35.sav\n",
      "Selecting BCI EEG file: SaveData/e2cbc4/Session2\\20190308132325_e2cbc4_BCI.easy\n",
      "Selecting BCI behavioral file: SaveData/e2cbc4/Session2\\BCI_e2cbc4_R3.csv\n",
      "Skipping N/A\n"
     ]
    },
    {
     "name": "stderr",
     "output_type": "stream",
     "text": [
      "C:\\Users\\nile\\Anaconda3\\envs\\eeg\\lib\\site-packages\\scipy\\signal\\_arraytools.py:45: FutureWarning: Using a non-tuple sequence for multidimensional indexing is deprecated; use `arr[tuple(seq)]` instead of `arr[seq]`. In the future this will be interpreted as an array index, `arr[np.array(seq)]`, which will result either in an error or a different result.\n",
      "  b = a[a_slice]\n",
      "C:\\Users\\nile\\Anaconda3\\envs\\eeg\\lib\\site-packages\\scipy\\signal\\signaltools.py:3463: FutureWarning: Using a non-tuple sequence for multidimensional indexing is deprecated; use `arr[tuple(seq)]` instead of `arr[seq]`. In the future this will be interpreted as an array index, `arr[np.array(seq)]`, which will result either in an error or a different result.\n",
      "  return y[sl]\n"
     ]
    },
    {
     "name": "stdout",
     "output_type": "stream",
     "text": [
      "Selecting model: Models/e2cbc4/experimental/Session2\\e2cbc4_MI_classifier_2019-03-22-12-16-31.sav\n",
      "Selecting model: Models/e2cbc4/experimental/Session2\\e2cbc4_MI_classifier_2019-03-22-12-16-38.sav\n",
      "Selecting model: Models/e2cbc4/experimental/Session2\\e2cbc4_MI_classifier_TL_2019-03-22-12-16-39.sav\n",
      "Selecting BCI EEG file: SaveData/e2cbc4/Session2\\20190308132926_e2cbc4_BCI.easy\n",
      "Selecting BCI behavioral file: SaveData/e2cbc4/Session2\\BCI_e2cbc4_R4.csv\n",
      "Skipping N/A\n"
     ]
    },
    {
     "name": "stderr",
     "output_type": "stream",
     "text": [
      "C:\\Users\\nile\\Anaconda3\\envs\\eeg\\lib\\site-packages\\scipy\\signal\\_arraytools.py:45: FutureWarning: Using a non-tuple sequence for multidimensional indexing is deprecated; use `arr[tuple(seq)]` instead of `arr[seq]`. In the future this will be interpreted as an array index, `arr[np.array(seq)]`, which will result either in an error or a different result.\n",
      "  b = a[a_slice]\n",
      "C:\\Users\\nile\\Anaconda3\\envs\\eeg\\lib\\site-packages\\scipy\\signal\\signaltools.py:3463: FutureWarning: Using a non-tuple sequence for multidimensional indexing is deprecated; use `arr[tuple(seq)]` instead of `arr[seq]`. In the future this will be interpreted as an array index, `arr[np.array(seq)]`, which will result either in an error or a different result.\n",
      "  return y[sl]\n"
     ]
    },
    {
     "name": "stdout",
     "output_type": "stream",
     "text": [
      "Selecting model: Models/e2cbc4/experimental/Session2\\e2cbc4_MI_classifier_2019-03-22-12-16-31.sav\n",
      "Selecting model: Models/e2cbc4/experimental/Session2\\e2cbc4_MI_classifier_2019-03-22-12-16-42.sav\n",
      "Selecting model: Models/e2cbc4/experimental/Session2\\e2cbc4_MI_classifier_TL_2019-03-22-12-16-44.sav\n",
      "Selecting BCI EEG file: SaveData/e2cbc4/Session2\\20190308133449_e2cbc4_BCI.easy\n",
      "Selecting BCI behavioral file: SaveData/e2cbc4/Session2\\BCI_e2cbc4_R5.csv\n",
      "Skipping N/A\n"
     ]
    },
    {
     "name": "stderr",
     "output_type": "stream",
     "text": [
      "C:\\Users\\nile\\Anaconda3\\envs\\eeg\\lib\\site-packages\\scipy\\signal\\_arraytools.py:45: FutureWarning: Using a non-tuple sequence for multidimensional indexing is deprecated; use `arr[tuple(seq)]` instead of `arr[seq]`. In the future this will be interpreted as an array index, `arr[np.array(seq)]`, which will result either in an error or a different result.\n",
      "  b = a[a_slice]\n",
      "C:\\Users\\nile\\Anaconda3\\envs\\eeg\\lib\\site-packages\\scipy\\signal\\signaltools.py:3463: FutureWarning: Using a non-tuple sequence for multidimensional indexing is deprecated; use `arr[tuple(seq)]` instead of `arr[seq]`. In the future this will be interpreted as an array index, `arr[np.array(seq)]`, which will result either in an error or a different result.\n",
      "  return y[sl]\n"
     ]
    },
    {
     "name": "stdout",
     "output_type": "stream",
     "text": [
      "Selecting model: Models/e2cbc4/experimental/Session2\\e2cbc4_MI_classifier_2019-03-22-12-16-31.sav\n",
      "Selecting model: Models/e2cbc4/experimental/Session2\\e2cbc4_MI_classifier_2019-03-22-12-16-47.sav\n",
      "Selecting model: Models/e2cbc4/experimental/Session2\\e2cbc4_MI_classifier_TL_2019-03-22-12-16-48.sav\n",
      "Selecting BCI EEG file: SaveData/e2cbc4/Session3\\20190315161258_e2cbc4_BCI.easy\n",
      "Selecting BCI behavioral file: SaveData/e2cbc4/Session3\\BCI_e2cbc4_R1.csv\n",
      "Skipping N/A\n"
     ]
    },
    {
     "name": "stderr",
     "output_type": "stream",
     "text": [
      "C:\\Users\\nile\\Anaconda3\\envs\\eeg\\lib\\site-packages\\scipy\\signal\\_arraytools.py:45: FutureWarning: Using a non-tuple sequence for multidimensional indexing is deprecated; use `arr[tuple(seq)]` instead of `arr[seq]`. In the future this will be interpreted as an array index, `arr[np.array(seq)]`, which will result either in an error or a different result.\n",
      "  b = a[a_slice]\n",
      "C:\\Users\\nile\\Anaconda3\\envs\\eeg\\lib\\site-packages\\scipy\\signal\\signaltools.py:3463: FutureWarning: Using a non-tuple sequence for multidimensional indexing is deprecated; use `arr[tuple(seq)]` instead of `arr[seq]`. In the future this will be interpreted as an array index, `arr[np.array(seq)]`, which will result either in an error or a different result.\n",
      "  return y[sl]\n"
     ]
    },
    {
     "name": "stdout",
     "output_type": "stream",
     "text": [
      "Selecting model: Models/e2cbc4/experimental/Session3\\e2cbc4_MI_classifier_2019-03-22-12-18-25.sav\n",
      "Selecting model: Models/e2cbc4/experimental/Session3\\e2cbc4_MI_classifier_2019-03-22-12-18-25.sav\n",
      "Selecting model: Models/e2cbc4/experimental/Session3\\e2cbc4_MI_classifier_2019-03-22-12-18-25.sav\n",
      "Selecting BCI EEG file: SaveData/e2cbc4/Session3\\20190315161736_e2cbc4_BCI.easy\n",
      "Selecting BCI behavioral file: SaveData/e2cbc4/Session3\\BCI_e2cbc4_R2.csv\n",
      "Skipping N/A\n"
     ]
    },
    {
     "name": "stderr",
     "output_type": "stream",
     "text": [
      "C:\\Users\\nile\\Anaconda3\\envs\\eeg\\lib\\site-packages\\scipy\\signal\\_arraytools.py:45: FutureWarning: Using a non-tuple sequence for multidimensional indexing is deprecated; use `arr[tuple(seq)]` instead of `arr[seq]`. In the future this will be interpreted as an array index, `arr[np.array(seq)]`, which will result either in an error or a different result.\n",
      "  b = a[a_slice]\n",
      "C:\\Users\\nile\\Anaconda3\\envs\\eeg\\lib\\site-packages\\scipy\\signal\\signaltools.py:3463: FutureWarning: Using a non-tuple sequence for multidimensional indexing is deprecated; use `arr[tuple(seq)]` instead of `arr[seq]`. In the future this will be interpreted as an array index, `arr[np.array(seq)]`, which will result either in an error or a different result.\n",
      "  return y[sl]\n"
     ]
    },
    {
     "name": "stdout",
     "output_type": "stream",
     "text": [
      "Selecting model: Models/e2cbc4/experimental/Session3\\e2cbc4_MI_classifier_2019-03-22-12-18-25.sav\n",
      "Selecting model: Models/e2cbc4/experimental/Session3\\e2cbc4_MI_classifier_2019-03-22-12-18-29.sav\n",
      "Selecting model: Models/e2cbc4/experimental/Session3\\e2cbc4_MI_classifier_TL_2019-03-22-12-18-30.sav\n",
      "Selecting BCI EEG file: SaveData/e2cbc4/Session3\\20190315162232_e2cbc4_BCI.easy\n",
      "Selecting BCI behavioral file: SaveData/e2cbc4/Session3\\BCI_e2cbc4_R3.csv\n",
      "Skipping N/A\n"
     ]
    },
    {
     "name": "stderr",
     "output_type": "stream",
     "text": [
      "C:\\Users\\nile\\Anaconda3\\envs\\eeg\\lib\\site-packages\\scipy\\signal\\_arraytools.py:45: FutureWarning: Using a non-tuple sequence for multidimensional indexing is deprecated; use `arr[tuple(seq)]` instead of `arr[seq]`. In the future this will be interpreted as an array index, `arr[np.array(seq)]`, which will result either in an error or a different result.\n",
      "  b = a[a_slice]\n",
      "C:\\Users\\nile\\Anaconda3\\envs\\eeg\\lib\\site-packages\\scipy\\signal\\signaltools.py:3463: FutureWarning: Using a non-tuple sequence for multidimensional indexing is deprecated; use `arr[tuple(seq)]` instead of `arr[seq]`. In the future this will be interpreted as an array index, `arr[np.array(seq)]`, which will result either in an error or a different result.\n",
      "  return y[sl]\n"
     ]
    },
    {
     "name": "stdout",
     "output_type": "stream",
     "text": [
      "Selecting model: Models/e2cbc4/experimental/Session3\\e2cbc4_MI_classifier_2019-03-22-12-18-25.sav\n",
      "Selecting model: Models/e2cbc4/experimental/Session3\\e2cbc4_MI_classifier_2019-03-22-12-18-32.sav\n",
      "Selecting model: Models/e2cbc4/experimental/Session3\\e2cbc4_MI_classifier_TL_2019-03-22-12-18-33.sav\n",
      "Selecting BCI EEG file: SaveData/e2cbc4/Session3\\20190315162741_e2cbc4_BCI.easy\n",
      "Selecting BCI behavioral file: SaveData/e2cbc4/Session3\\BCI_e2cbc4_R4.csv\n",
      "Skipping N/A\n"
     ]
    },
    {
     "name": "stderr",
     "output_type": "stream",
     "text": [
      "C:\\Users\\nile\\Anaconda3\\envs\\eeg\\lib\\site-packages\\scipy\\signal\\_arraytools.py:45: FutureWarning: Using a non-tuple sequence for multidimensional indexing is deprecated; use `arr[tuple(seq)]` instead of `arr[seq]`. In the future this will be interpreted as an array index, `arr[np.array(seq)]`, which will result either in an error or a different result.\n",
      "  b = a[a_slice]\n",
      "C:\\Users\\nile\\Anaconda3\\envs\\eeg\\lib\\site-packages\\scipy\\signal\\signaltools.py:3463: FutureWarning: Using a non-tuple sequence for multidimensional indexing is deprecated; use `arr[tuple(seq)]` instead of `arr[seq]`. In the future this will be interpreted as an array index, `arr[np.array(seq)]`, which will result either in an error or a different result.\n",
      "  return y[sl]\n"
     ]
    },
    {
     "name": "stdout",
     "output_type": "stream",
     "text": [
      "Selecting model: Models/e2cbc4/experimental/Session3\\e2cbc4_MI_classifier_2019-03-22-12-18-25.sav\n",
      "Selecting model: Models/e2cbc4/experimental/Session3\\e2cbc4_MI_classifier_2019-03-22-12-18-36.sav\n",
      "Selecting model: Models/e2cbc4/experimental/Session3\\e2cbc4_MI_classifier_TL_2019-03-22-12-18-37.sav\n",
      "Selecting BCI EEG file: SaveData/e2cbc4/Session3\\20190315163219_e2cbc4_BCI.easy\n",
      "Selecting BCI behavioral file: SaveData/e2cbc4/Session3\\BCI_e2cbc4_R5.csv\n",
      "Skipping N/A\n"
     ]
    },
    {
     "name": "stderr",
     "output_type": "stream",
     "text": [
      "C:\\Users\\nile\\Anaconda3\\envs\\eeg\\lib\\site-packages\\scipy\\signal\\_arraytools.py:45: FutureWarning: Using a non-tuple sequence for multidimensional indexing is deprecated; use `arr[tuple(seq)]` instead of `arr[seq]`. In the future this will be interpreted as an array index, `arr[np.array(seq)]`, which will result either in an error or a different result.\n",
      "  b = a[a_slice]\n",
      "C:\\Users\\nile\\Anaconda3\\envs\\eeg\\lib\\site-packages\\scipy\\signal\\signaltools.py:3463: FutureWarning: Using a non-tuple sequence for multidimensional indexing is deprecated; use `arr[tuple(seq)]` instead of `arr[seq]`. In the future this will be interpreted as an array index, `arr[np.array(seq)]`, which will result either in an error or a different result.\n",
      "  return y[sl]\n"
     ]
    },
    {
     "name": "stdout",
     "output_type": "stream",
     "text": [
      "Selecting model: Models/e2cbc4/experimental/Session3\\e2cbc4_MI_classifier_2019-03-22-12-18-25.sav\n",
      "Selecting model: Models/e2cbc4/experimental/Session3\\e2cbc4_MI_classifier_2019-03-22-12-18-40.sav\n",
      "Selecting model: Models/e2cbc4/experimental/Session3\\e2cbc4_MI_classifier_TL_2019-03-22-12-18-41.sav\n",
      "----------------------------------------------------\n",
      "Done storing values for e2cbc4\n",
      "----------------------------------------------------\n",
      "Selecting BCI EEG file: SaveData/a1e6c0/Session1\\20190319133926_a1e6c0_BCI.easy\n",
      "Selecting BCI behavioral file: SaveData/a1e6c0/Session1\\BCI_a1e6c0_R1.csv\n",
      "Skipping N/A\n"
     ]
    },
    {
     "name": "stderr",
     "output_type": "stream",
     "text": [
      "C:\\Users\\nile\\Anaconda3\\envs\\eeg\\lib\\site-packages\\scipy\\signal\\_arraytools.py:45: FutureWarning: Using a non-tuple sequence for multidimensional indexing is deprecated; use `arr[tuple(seq)]` instead of `arr[seq]`. In the future this will be interpreted as an array index, `arr[np.array(seq)]`, which will result either in an error or a different result.\n",
      "  b = a[a_slice]\n",
      "C:\\Users\\nile\\Anaconda3\\envs\\eeg\\lib\\site-packages\\scipy\\signal\\signaltools.py:3463: FutureWarning: Using a non-tuple sequence for multidimensional indexing is deprecated; use `arr[tuple(seq)]` instead of `arr[seq]`. In the future this will be interpreted as an array index, `arr[np.array(seq)]`, which will result either in an error or a different result.\n",
      "  return y[sl]\n"
     ]
    },
    {
     "name": "stdout",
     "output_type": "stream",
     "text": [
      "Selecting model: Models/a1e6c0/experimental/Session1\\a1e6c0_MI_classifier_2019-03-26-13-52-29.sav\n",
      "Selecting model: Models/a1e6c0/experimental/Session1\\a1e6c0_MI_classifier_2019-03-26-13-52-29.sav\n",
      "Selecting model: Models/a1e6c0/experimental/Session1\\a1e6c0_MI_classifier_2019-03-26-13-52-29.sav\n",
      "Selecting BCI EEG file: SaveData/a1e6c0/Session1\\20190319134508_a1e6c0_BCI.easy\n",
      "Selecting BCI behavioral file: SaveData/a1e6c0/Session1\\BCI_a1e6c0_R2.csv\n",
      "Skipping N/A\n"
     ]
    },
    {
     "name": "stderr",
     "output_type": "stream",
     "text": [
      "C:\\Users\\nile\\Anaconda3\\envs\\eeg\\lib\\site-packages\\scipy\\signal\\_arraytools.py:45: FutureWarning: Using a non-tuple sequence for multidimensional indexing is deprecated; use `arr[tuple(seq)]` instead of `arr[seq]`. In the future this will be interpreted as an array index, `arr[np.array(seq)]`, which will result either in an error or a different result.\n",
      "  b = a[a_slice]\n",
      "C:\\Users\\nile\\Anaconda3\\envs\\eeg\\lib\\site-packages\\scipy\\signal\\signaltools.py:3463: FutureWarning: Using a non-tuple sequence for multidimensional indexing is deprecated; use `arr[tuple(seq)]` instead of `arr[seq]`. In the future this will be interpreted as an array index, `arr[np.array(seq)]`, which will result either in an error or a different result.\n",
      "  return y[sl]\n"
     ]
    },
    {
     "name": "stdout",
     "output_type": "stream",
     "text": [
      "Selecting model: Models/a1e6c0/experimental/Session1\\a1e6c0_MI_classifier_2019-03-26-13-52-29.sav\n",
      "Selecting model: Models/a1e6c0/experimental/Session1\\a1e6c0_MI_classifier_2019-03-26-13-52-34.sav\n",
      "Selecting model: Models/a1e6c0/experimental/Session1\\a1e6c0_MI_classifier_TL_2019-03-26-13-52-34.sav\n",
      "Selecting BCI EEG file: SaveData/a1e6c0/Session1\\20190319135043_a1e6c0_BCI.easy\n",
      "Selecting BCI behavioral file: SaveData/a1e6c0/Session1\\BCI_a1e6c0_R3.csv\n",
      "Skipping N/A\n"
     ]
    },
    {
     "name": "stderr",
     "output_type": "stream",
     "text": [
      "C:\\Users\\nile\\Anaconda3\\envs\\eeg\\lib\\site-packages\\scipy\\signal\\_arraytools.py:45: FutureWarning: Using a non-tuple sequence for multidimensional indexing is deprecated; use `arr[tuple(seq)]` instead of `arr[seq]`. In the future this will be interpreted as an array index, `arr[np.array(seq)]`, which will result either in an error or a different result.\n",
      "  b = a[a_slice]\n",
      "C:\\Users\\nile\\Anaconda3\\envs\\eeg\\lib\\site-packages\\scipy\\signal\\signaltools.py:3463: FutureWarning: Using a non-tuple sequence for multidimensional indexing is deprecated; use `arr[tuple(seq)]` instead of `arr[seq]`. In the future this will be interpreted as an array index, `arr[np.array(seq)]`, which will result either in an error or a different result.\n",
      "  return y[sl]\n"
     ]
    },
    {
     "name": "stdout",
     "output_type": "stream",
     "text": [
      "Selecting model: Models/a1e6c0/experimental/Session1\\a1e6c0_MI_classifier_2019-03-26-13-52-29.sav\n",
      "Selecting model: Models/a1e6c0/experimental/Session1\\a1e6c0_MI_classifier_2019-03-26-13-52-37.sav\n",
      "Selecting model: Models/a1e6c0/experimental/Session1\\a1e6c0_MI_classifier_TL_2019-03-26-13-52-38.sav\n",
      "Selecting BCI EEG file: SaveData/a1e6c0/Session1\\20190319135618_a1e6c0_BCI.easy\n",
      "Selecting BCI behavioral file: SaveData/a1e6c0/Session1\\BCI_a1e6c0_R4.csv\n",
      "Skipping N/A\n"
     ]
    },
    {
     "name": "stderr",
     "output_type": "stream",
     "text": [
      "C:\\Users\\nile\\Anaconda3\\envs\\eeg\\lib\\site-packages\\scipy\\signal\\_arraytools.py:45: FutureWarning: Using a non-tuple sequence for multidimensional indexing is deprecated; use `arr[tuple(seq)]` instead of `arr[seq]`. In the future this will be interpreted as an array index, `arr[np.array(seq)]`, which will result either in an error or a different result.\n",
      "  b = a[a_slice]\n",
      "C:\\Users\\nile\\Anaconda3\\envs\\eeg\\lib\\site-packages\\scipy\\signal\\signaltools.py:3463: FutureWarning: Using a non-tuple sequence for multidimensional indexing is deprecated; use `arr[tuple(seq)]` instead of `arr[seq]`. In the future this will be interpreted as an array index, `arr[np.array(seq)]`, which will result either in an error or a different result.\n",
      "  return y[sl]\n"
     ]
    },
    {
     "name": "stdout",
     "output_type": "stream",
     "text": [
      "Selecting model: Models/a1e6c0/experimental/Session1\\a1e6c0_MI_classifier_2019-03-26-13-52-29.sav\n",
      "Selecting model: Models/a1e6c0/experimental/Session1\\a1e6c0_MI_classifier_2019-03-26-13-52-40.sav\n",
      "Selecting model: Models/a1e6c0/experimental/Session1\\a1e6c0_MI_classifier_TL_2019-03-26-13-52-42.sav\n",
      "Selecting BCI EEG file: SaveData/a1e6c0/Session1\\20190319140149_a1e6c0_BCI.easy\n",
      "Selecting BCI behavioral file: SaveData/a1e6c0/Session1\\BCI_a1e6c0_R5.csv\n",
      "Skipping N/A\n"
     ]
    },
    {
     "name": "stderr",
     "output_type": "stream",
     "text": [
      "C:\\Users\\nile\\Anaconda3\\envs\\eeg\\lib\\site-packages\\scipy\\signal\\_arraytools.py:45: FutureWarning: Using a non-tuple sequence for multidimensional indexing is deprecated; use `arr[tuple(seq)]` instead of `arr[seq]`. In the future this will be interpreted as an array index, `arr[np.array(seq)]`, which will result either in an error or a different result.\n",
      "  b = a[a_slice]\n",
      "C:\\Users\\nile\\Anaconda3\\envs\\eeg\\lib\\site-packages\\scipy\\signal\\signaltools.py:3463: FutureWarning: Using a non-tuple sequence for multidimensional indexing is deprecated; use `arr[tuple(seq)]` instead of `arr[seq]`. In the future this will be interpreted as an array index, `arr[np.array(seq)]`, which will result either in an error or a different result.\n",
      "  return y[sl]\n"
     ]
    },
    {
     "name": "stdout",
     "output_type": "stream",
     "text": [
      "Selecting model: Models/a1e6c0/experimental/Session1\\a1e6c0_MI_classifier_2019-03-26-13-52-29.sav\n",
      "Selecting model: Models/a1e6c0/experimental/Session1\\a1e6c0_MI_classifier_2019-03-26-13-52-44.sav\n",
      "Selecting model: Models/a1e6c0/experimental/Session1\\a1e6c0_MI_classifier_TL_2019-03-26-13-52-45.sav\n",
      "Selecting BCI EEG file: SaveData/a1e6c0/Session2\\20190322161737_a1e6c0_BCI.easy\n",
      "Selecting BCI behavioral file: SaveData/a1e6c0/Session2\\BCI_a1e6c0_R1.csv\n",
      "Skipping N/A\n"
     ]
    },
    {
     "name": "stderr",
     "output_type": "stream",
     "text": [
      "C:\\Users\\nile\\Anaconda3\\envs\\eeg\\lib\\site-packages\\scipy\\signal\\_arraytools.py:45: FutureWarning: Using a non-tuple sequence for multidimensional indexing is deprecated; use `arr[tuple(seq)]` instead of `arr[seq]`. In the future this will be interpreted as an array index, `arr[np.array(seq)]`, which will result either in an error or a different result.\n",
      "  b = a[a_slice]\n",
      "C:\\Users\\nile\\Anaconda3\\envs\\eeg\\lib\\site-packages\\scipy\\signal\\signaltools.py:3463: FutureWarning: Using a non-tuple sequence for multidimensional indexing is deprecated; use `arr[tuple(seq)]` instead of `arr[seq]`. In the future this will be interpreted as an array index, `arr[np.array(seq)]`, which will result either in an error or a different result.\n",
      "  return y[sl]\n"
     ]
    },
    {
     "name": "stdout",
     "output_type": "stream",
     "text": [
      "Selecting model: Models/a1e6c0/experimental/Session2\\a1e6c0_MI_classifier_2019-03-26-13-54-27.sav\n",
      "Selecting model: Models/a1e6c0/experimental/Session2\\a1e6c0_MI_classifier_2019-03-26-13-54-27.sav\n",
      "Selecting model: Models/a1e6c0/experimental/Session2\\a1e6c0_MI_classifier_2019-03-26-13-54-27.sav\n",
      "Selecting BCI EEG file: SaveData/a1e6c0/Session2\\20190322162238_a1e6c0_BCI.easy\n",
      "Selecting BCI behavioral file: SaveData/a1e6c0/Session2\\BCI_a1e6c0_R2.csv\n",
      "Skipping N/A\n"
     ]
    },
    {
     "name": "stderr",
     "output_type": "stream",
     "text": [
      "C:\\Users\\nile\\Anaconda3\\envs\\eeg\\lib\\site-packages\\scipy\\signal\\_arraytools.py:45: FutureWarning: Using a non-tuple sequence for multidimensional indexing is deprecated; use `arr[tuple(seq)]` instead of `arr[seq]`. In the future this will be interpreted as an array index, `arr[np.array(seq)]`, which will result either in an error or a different result.\n",
      "  b = a[a_slice]\n",
      "C:\\Users\\nile\\Anaconda3\\envs\\eeg\\lib\\site-packages\\scipy\\signal\\signaltools.py:3463: FutureWarning: Using a non-tuple sequence for multidimensional indexing is deprecated; use `arr[tuple(seq)]` instead of `arr[seq]`. In the future this will be interpreted as an array index, `arr[np.array(seq)]`, which will result either in an error or a different result.\n",
      "  return y[sl]\n"
     ]
    },
    {
     "name": "stdout",
     "output_type": "stream",
     "text": [
      "Selecting model: Models/a1e6c0/experimental/Session2\\a1e6c0_MI_classifier_2019-03-26-13-54-27.sav\n",
      "Selecting model: Models/a1e6c0/experimental/Session2\\a1e6c0_MI_classifier_2019-03-26-13-54-31.sav\n",
      "Selecting model: Models/a1e6c0/experimental/Session2\\a1e6c0_MI_classifier_TL_2019-03-26-13-54-31.sav\n",
      "Selecting BCI EEG file: SaveData/a1e6c0/Session2\\20190322162757_a1e6c0_BCI.easy\n",
      "Selecting BCI behavioral file: SaveData/a1e6c0/Session2\\BCI_a1e6c0_R3.csv\n",
      "Skipping N/A\n"
     ]
    },
    {
     "name": "stderr",
     "output_type": "stream",
     "text": [
      "C:\\Users\\nile\\Anaconda3\\envs\\eeg\\lib\\site-packages\\scipy\\signal\\_arraytools.py:45: FutureWarning: Using a non-tuple sequence for multidimensional indexing is deprecated; use `arr[tuple(seq)]` instead of `arr[seq]`. In the future this will be interpreted as an array index, `arr[np.array(seq)]`, which will result either in an error or a different result.\n",
      "  b = a[a_slice]\n",
      "C:\\Users\\nile\\Anaconda3\\envs\\eeg\\lib\\site-packages\\scipy\\signal\\signaltools.py:3463: FutureWarning: Using a non-tuple sequence for multidimensional indexing is deprecated; use `arr[tuple(seq)]` instead of `arr[seq]`. In the future this will be interpreted as an array index, `arr[np.array(seq)]`, which will result either in an error or a different result.\n",
      "  return y[sl]\n"
     ]
    },
    {
     "name": "stdout",
     "output_type": "stream",
     "text": [
      "Selecting model: Models/a1e6c0/experimental/Session2\\a1e6c0_MI_classifier_2019-03-26-13-54-27.sav\n",
      "Selecting model: Models/a1e6c0/experimental/Session2\\a1e6c0_MI_classifier_2019-03-26-13-54-34.sav\n",
      "Selecting model: Models/a1e6c0/experimental/Session2\\a1e6c0_MI_classifier_TL_2019-03-26-13-54-35.sav\n",
      "Selecting BCI EEG file: SaveData/a1e6c0/Session2\\20190322163319_a1e6c0_BCI.easy\n",
      "Selecting BCI behavioral file: SaveData/a1e6c0/Session2\\BCI_a1e6c0_R4.csv\n",
      "Skipping N/A\n"
     ]
    },
    {
     "name": "stderr",
     "output_type": "stream",
     "text": [
      "C:\\Users\\nile\\Anaconda3\\envs\\eeg\\lib\\site-packages\\scipy\\signal\\_arraytools.py:45: FutureWarning: Using a non-tuple sequence for multidimensional indexing is deprecated; use `arr[tuple(seq)]` instead of `arr[seq]`. In the future this will be interpreted as an array index, `arr[np.array(seq)]`, which will result either in an error or a different result.\n",
      "  b = a[a_slice]\n",
      "C:\\Users\\nile\\Anaconda3\\envs\\eeg\\lib\\site-packages\\scipy\\signal\\signaltools.py:3463: FutureWarning: Using a non-tuple sequence for multidimensional indexing is deprecated; use `arr[tuple(seq)]` instead of `arr[seq]`. In the future this will be interpreted as an array index, `arr[np.array(seq)]`, which will result either in an error or a different result.\n",
      "  return y[sl]\n"
     ]
    },
    {
     "name": "stdout",
     "output_type": "stream",
     "text": [
      "Selecting model: Models/a1e6c0/experimental/Session2\\a1e6c0_MI_classifier_2019-03-26-13-54-27.sav\n",
      "Selecting model: Models/a1e6c0/experimental/Session2\\a1e6c0_MI_classifier_2019-03-26-13-54-38.sav\n",
      "Selecting model: Models/a1e6c0/experimental/Session2\\a1e6c0_MI_classifier_TL_2019-03-26-13-54-39.sav\n",
      "Selecting BCI EEG file: SaveData/a1e6c0/Session2\\20190322163829_a1e6c0_BCI.easy\n",
      "Selecting BCI behavioral file: SaveData/a1e6c0/Session2\\BCI_a1e6c0_R5.csv\n",
      "Skipping N/A\n"
     ]
    },
    {
     "name": "stderr",
     "output_type": "stream",
     "text": [
      "C:\\Users\\nile\\Anaconda3\\envs\\eeg\\lib\\site-packages\\scipy\\signal\\_arraytools.py:45: FutureWarning: Using a non-tuple sequence for multidimensional indexing is deprecated; use `arr[tuple(seq)]` instead of `arr[seq]`. In the future this will be interpreted as an array index, `arr[np.array(seq)]`, which will result either in an error or a different result.\n",
      "  b = a[a_slice]\n",
      "C:\\Users\\nile\\Anaconda3\\envs\\eeg\\lib\\site-packages\\scipy\\signal\\signaltools.py:3463: FutureWarning: Using a non-tuple sequence for multidimensional indexing is deprecated; use `arr[tuple(seq)]` instead of `arr[seq]`. In the future this will be interpreted as an array index, `arr[np.array(seq)]`, which will result either in an error or a different result.\n",
      "  return y[sl]\n"
     ]
    },
    {
     "name": "stdout",
     "output_type": "stream",
     "text": [
      "Selecting model: Models/a1e6c0/experimental/Session2\\a1e6c0_MI_classifier_2019-03-26-13-54-27.sav\n",
      "Selecting model: Models/a1e6c0/experimental/Session2\\a1e6c0_MI_classifier_2019-03-26-13-54-42.sav\n",
      "Selecting model: Models/a1e6c0/experimental/Session2\\a1e6c0_MI_classifier_TL_2019-03-26-13-54-44.sav\n",
      "Selecting BCI EEG file: SaveData/a1e6c0/Session3\\20190326131936_a1e6c0_BCI.easy\n",
      "Selecting BCI behavioral file: SaveData/a1e6c0/Session3\\BCI_a1e6c0_R1.csv\n",
      "Skipping N/A\n"
     ]
    },
    {
     "name": "stderr",
     "output_type": "stream",
     "text": [
      "C:\\Users\\nile\\Anaconda3\\envs\\eeg\\lib\\site-packages\\scipy\\signal\\_arraytools.py:45: FutureWarning: Using a non-tuple sequence for multidimensional indexing is deprecated; use `arr[tuple(seq)]` instead of `arr[seq]`. In the future this will be interpreted as an array index, `arr[np.array(seq)]`, which will result either in an error or a different result.\n",
      "  b = a[a_slice]\n",
      "C:\\Users\\nile\\Anaconda3\\envs\\eeg\\lib\\site-packages\\scipy\\signal\\signaltools.py:3463: FutureWarning: Using a non-tuple sequence for multidimensional indexing is deprecated; use `arr[tuple(seq)]` instead of `arr[seq]`. In the future this will be interpreted as an array index, `arr[np.array(seq)]`, which will result either in an error or a different result.\n",
      "  return y[sl]\n"
     ]
    },
    {
     "name": "stdout",
     "output_type": "stream",
     "text": [
      "Selecting model: Models/a1e6c0/experimental/Session3\\a1e6c0_MI_classifier_2019-03-26-13-56-23.sav\n",
      "Selecting model: Models/a1e6c0/experimental/Session3\\a1e6c0_MI_classifier_2019-03-26-13-56-23.sav\n",
      "Selecting model: Models/a1e6c0/experimental/Session3\\a1e6c0_MI_classifier_2019-03-26-13-56-23.sav\n",
      "Selecting BCI EEG file: SaveData/a1e6c0/Session3\\20190326132443_a1e6c0_BCI.easy\n",
      "Selecting BCI behavioral file: SaveData/a1e6c0/Session3\\BCI_a1e6c0_R2.csv\n",
      "Skipping N/A\n"
     ]
    },
    {
     "name": "stderr",
     "output_type": "stream",
     "text": [
      "C:\\Users\\nile\\Anaconda3\\envs\\eeg\\lib\\site-packages\\scipy\\signal\\_arraytools.py:45: FutureWarning: Using a non-tuple sequence for multidimensional indexing is deprecated; use `arr[tuple(seq)]` instead of `arr[seq]`. In the future this will be interpreted as an array index, `arr[np.array(seq)]`, which will result either in an error or a different result.\n",
      "  b = a[a_slice]\n",
      "C:\\Users\\nile\\Anaconda3\\envs\\eeg\\lib\\site-packages\\scipy\\signal\\signaltools.py:3463: FutureWarning: Using a non-tuple sequence for multidimensional indexing is deprecated; use `arr[tuple(seq)]` instead of `arr[seq]`. In the future this will be interpreted as an array index, `arr[np.array(seq)]`, which will result either in an error or a different result.\n",
      "  return y[sl]\n"
     ]
    },
    {
     "name": "stdout",
     "output_type": "stream",
     "text": [
      "Selecting model: Models/a1e6c0/experimental/Session3\\a1e6c0_MI_classifier_2019-03-26-13-56-23.sav\n",
      "Selecting model: Models/a1e6c0/experimental/Session3\\a1e6c0_MI_classifier_2019-03-26-13-56-28.sav\n",
      "Selecting model: Models/a1e6c0/experimental/Session3\\a1e6c0_MI_classifier_TL_2019-03-26-13-56-28.sav\n",
      "Selecting BCI EEG file: SaveData/a1e6c0/Session3\\20190326133022_a1e6c0_BCI.easy\n",
      "Selecting BCI behavioral file: SaveData/a1e6c0/Session3\\BCI_a1e6c0_R3.csv\n",
      "Skipping N/A\n"
     ]
    },
    {
     "name": "stderr",
     "output_type": "stream",
     "text": [
      "C:\\Users\\nile\\Anaconda3\\envs\\eeg\\lib\\site-packages\\scipy\\signal\\_arraytools.py:45: FutureWarning: Using a non-tuple sequence for multidimensional indexing is deprecated; use `arr[tuple(seq)]` instead of `arr[seq]`. In the future this will be interpreted as an array index, `arr[np.array(seq)]`, which will result either in an error or a different result.\n",
      "  b = a[a_slice]\n",
      "C:\\Users\\nile\\Anaconda3\\envs\\eeg\\lib\\site-packages\\scipy\\signal\\signaltools.py:3463: FutureWarning: Using a non-tuple sequence for multidimensional indexing is deprecated; use `arr[tuple(seq)]` instead of `arr[seq]`. In the future this will be interpreted as an array index, `arr[np.array(seq)]`, which will result either in an error or a different result.\n",
      "  return y[sl]\n"
     ]
    },
    {
     "name": "stdout",
     "output_type": "stream",
     "text": [
      "Selecting model: Models/a1e6c0/experimental/Session3\\a1e6c0_MI_classifier_2019-03-26-13-56-23.sav\n",
      "Selecting model: Models/a1e6c0/experimental/Session3\\a1e6c0_MI_classifier_2019-03-26-13-56-31.sav\n",
      "Selecting model: Models/a1e6c0/experimental/Session3\\a1e6c0_MI_classifier_TL_2019-03-26-13-56-32.sav\n",
      "Selecting BCI EEG file: SaveData/a1e6c0/Session3\\20190326133526_a1e6c0_BCI.easy\n",
      "Selecting BCI behavioral file: SaveData/a1e6c0/Session3\\BCI_a1e6c0_R4.csv\n",
      "Skipping N/A\n"
     ]
    },
    {
     "name": "stderr",
     "output_type": "stream",
     "text": [
      "C:\\Users\\nile\\Anaconda3\\envs\\eeg\\lib\\site-packages\\scipy\\signal\\_arraytools.py:45: FutureWarning: Using a non-tuple sequence for multidimensional indexing is deprecated; use `arr[tuple(seq)]` instead of `arr[seq]`. In the future this will be interpreted as an array index, `arr[np.array(seq)]`, which will result either in an error or a different result.\n",
      "  b = a[a_slice]\n",
      "C:\\Users\\nile\\Anaconda3\\envs\\eeg\\lib\\site-packages\\scipy\\signal\\signaltools.py:3463: FutureWarning: Using a non-tuple sequence for multidimensional indexing is deprecated; use `arr[tuple(seq)]` instead of `arr[seq]`. In the future this will be interpreted as an array index, `arr[np.array(seq)]`, which will result either in an error or a different result.\n",
      "  return y[sl]\n"
     ]
    },
    {
     "name": "stdout",
     "output_type": "stream",
     "text": [
      "Selecting model: Models/a1e6c0/experimental/Session3\\a1e6c0_MI_classifier_2019-03-26-13-56-23.sav\n",
      "Selecting model: Models/a1e6c0/experimental/Session3\\a1e6c0_MI_classifier_2019-03-26-13-56-35.sav\n",
      "Selecting model: Models/a1e6c0/experimental/Session3\\a1e6c0_MI_classifier_TL_2019-03-26-13-56-36.sav\n",
      "Selecting BCI EEG file: SaveData/a1e6c0/Session3\\20190326134009_a1e6c0_BCI.easy\n",
      "Selecting BCI behavioral file: SaveData/a1e6c0/Session3\\BCI_a1e6c0_R5.csv\n",
      "Skipping N/A\n"
     ]
    },
    {
     "name": "stderr",
     "output_type": "stream",
     "text": [
      "C:\\Users\\nile\\Anaconda3\\envs\\eeg\\lib\\site-packages\\scipy\\signal\\_arraytools.py:45: FutureWarning: Using a non-tuple sequence for multidimensional indexing is deprecated; use `arr[tuple(seq)]` instead of `arr[seq]`. In the future this will be interpreted as an array index, `arr[np.array(seq)]`, which will result either in an error or a different result.\n",
      "  b = a[a_slice]\n",
      "C:\\Users\\nile\\Anaconda3\\envs\\eeg\\lib\\site-packages\\scipy\\signal\\signaltools.py:3463: FutureWarning: Using a non-tuple sequence for multidimensional indexing is deprecated; use `arr[tuple(seq)]` instead of `arr[seq]`. In the future this will be interpreted as an array index, `arr[np.array(seq)]`, which will result either in an error or a different result.\n",
      "  return y[sl]\n"
     ]
    },
    {
     "name": "stdout",
     "output_type": "stream",
     "text": [
      "Selecting model: Models/a1e6c0/experimental/Session3\\a1e6c0_MI_classifier_2019-03-26-13-56-23.sav\n",
      "Selecting model: Models/a1e6c0/experimental/Session3\\a1e6c0_MI_classifier_2019-03-26-13-56-39.sav\n",
      "Selecting model: Models/a1e6c0/experimental/Session3\\a1e6c0_MI_classifier_TL_2019-03-26-13-56-40.sav\n",
      "----------------------------------------------------\n",
      "Done storing values for a1e6c0\n",
      "----------------------------------------------------\n",
      "Selecting BCI EEG file: SaveData/972a6f/Session1\\20190318150552_972a6f_BCI.easy\n",
      "Selecting BCI behavioral file: SaveData/972a6f/Session1\\BCI_972a6f_R1.csv\n",
      "Skipping N/A\n"
     ]
    },
    {
     "name": "stderr",
     "output_type": "stream",
     "text": [
      "C:\\Users\\nile\\Anaconda3\\envs\\eeg\\lib\\site-packages\\scipy\\signal\\_arraytools.py:45: FutureWarning: Using a non-tuple sequence for multidimensional indexing is deprecated; use `arr[tuple(seq)]` instead of `arr[seq]`. In the future this will be interpreted as an array index, `arr[np.array(seq)]`, which will result either in an error or a different result.\n",
      "  b = a[a_slice]\n",
      "C:\\Users\\nile\\Anaconda3\\envs\\eeg\\lib\\site-packages\\scipy\\signal\\signaltools.py:3463: FutureWarning: Using a non-tuple sequence for multidimensional indexing is deprecated; use `arr[tuple(seq)]` instead of `arr[seq]`. In the future this will be interpreted as an array index, `arr[np.array(seq)]`, which will result either in an error or a different result.\n",
      "  return y[sl]\n"
     ]
    },
    {
     "name": "stdout",
     "output_type": "stream",
     "text": [
      "Selecting model: Models/972a6f/experimental/Session1\\972a6f_MI_classifier_2019-04-05-15-17-26.sav\n",
      "Selecting model: Models/972a6f/experimental/Session1\\972a6f_MI_classifier_2019-04-05-15-17-26.sav\n",
      "Selecting model: Models/972a6f/experimental/Session1\\972a6f_MI_classifier_2019-04-05-15-17-26.sav\n",
      "Selecting BCI EEG file: SaveData/972a6f/Session1\\20190318151051_972a6f_BCI.easy\n",
      "Selecting BCI behavioral file: SaveData/972a6f/Session1\\BCI_972a6f_R2.csv\n",
      "Skipping N/A\n"
     ]
    },
    {
     "name": "stderr",
     "output_type": "stream",
     "text": [
      "C:\\Users\\nile\\Anaconda3\\envs\\eeg\\lib\\site-packages\\scipy\\signal\\_arraytools.py:45: FutureWarning: Using a non-tuple sequence for multidimensional indexing is deprecated; use `arr[tuple(seq)]` instead of `arr[seq]`. In the future this will be interpreted as an array index, `arr[np.array(seq)]`, which will result either in an error or a different result.\n",
      "  b = a[a_slice]\n",
      "C:\\Users\\nile\\Anaconda3\\envs\\eeg\\lib\\site-packages\\scipy\\signal\\signaltools.py:3463: FutureWarning: Using a non-tuple sequence for multidimensional indexing is deprecated; use `arr[tuple(seq)]` instead of `arr[seq]`. In the future this will be interpreted as an array index, `arr[np.array(seq)]`, which will result either in an error or a different result.\n",
      "  return y[sl]\n"
     ]
    },
    {
     "name": "stdout",
     "output_type": "stream",
     "text": [
      "Selecting model: Models/972a6f/experimental/Session1\\972a6f_MI_classifier_2019-04-05-15-17-30.sav\n",
      "Selecting model: Models/972a6f/experimental/Session1\\972a6f_MI_classifier_2019-04-05-15-17-26.sav\n",
      "Selecting model: Models/972a6f/experimental/Session1\\972a6f_MI_classifier_TL_2019-04-05-15-17-30.sav\n",
      "Selecting BCI EEG file: SaveData/972a6f/Session1\\20190318151616_972a6f_BCI.easy\n",
      "Selecting BCI behavioral file: SaveData/972a6f/Session1\\BCI_972a6f_R3.csv\n",
      "Skipping N/A\n"
     ]
    },
    {
     "name": "stderr",
     "output_type": "stream",
     "text": [
      "C:\\Users\\nile\\Anaconda3\\envs\\eeg\\lib\\site-packages\\scipy\\signal\\_arraytools.py:45: FutureWarning: Using a non-tuple sequence for multidimensional indexing is deprecated; use `arr[tuple(seq)]` instead of `arr[seq]`. In the future this will be interpreted as an array index, `arr[np.array(seq)]`, which will result either in an error or a different result.\n",
      "  b = a[a_slice]\n",
      "C:\\Users\\nile\\Anaconda3\\envs\\eeg\\lib\\site-packages\\scipy\\signal\\signaltools.py:3463: FutureWarning: Using a non-tuple sequence for multidimensional indexing is deprecated; use `arr[tuple(seq)]` instead of `arr[seq]`. In the future this will be interpreted as an array index, `arr[np.array(seq)]`, which will result either in an error or a different result.\n",
      "  return y[sl]\n"
     ]
    },
    {
     "name": "stdout",
     "output_type": "stream",
     "text": [
      "Selecting model: Models/972a6f/experimental/Session1\\972a6f_MI_classifier_2019-04-05-15-17-33.sav\n",
      "Selecting model: Models/972a6f/experimental/Session1\\972a6f_MI_classifier_2019-04-05-15-17-26.sav\n",
      "Selecting model: Models/972a6f/experimental/Session1\\972a6f_MI_classifier_TL_2019-04-05-15-17-34.sav\n",
      "Selecting BCI EEG file: SaveData/972a6f/Session1\\20190318152150_972a6f_BCI.easy\n",
      "Selecting BCI behavioral file: SaveData/972a6f/Session1\\BCI_972a6f_R4.csv\n",
      "Skipping N/A\n"
     ]
    },
    {
     "name": "stderr",
     "output_type": "stream",
     "text": [
      "C:\\Users\\nile\\Anaconda3\\envs\\eeg\\lib\\site-packages\\scipy\\signal\\_arraytools.py:45: FutureWarning: Using a non-tuple sequence for multidimensional indexing is deprecated; use `arr[tuple(seq)]` instead of `arr[seq]`. In the future this will be interpreted as an array index, `arr[np.array(seq)]`, which will result either in an error or a different result.\n",
      "  b = a[a_slice]\n",
      "C:\\Users\\nile\\Anaconda3\\envs\\eeg\\lib\\site-packages\\scipy\\signal\\signaltools.py:3463: FutureWarning: Using a non-tuple sequence for multidimensional indexing is deprecated; use `arr[tuple(seq)]` instead of `arr[seq]`. In the future this will be interpreted as an array index, `arr[np.array(seq)]`, which will result either in an error or a different result.\n",
      "  return y[sl]\n"
     ]
    },
    {
     "name": "stdout",
     "output_type": "stream",
     "text": [
      "Selecting model: Models/972a6f/experimental/Session1\\972a6f_MI_classifier_2019-04-05-15-17-37.sav\n",
      "Selecting model: Models/972a6f/experimental/Session1\\972a6f_MI_classifier_2019-04-05-15-17-26.sav\n",
      "Selecting model: Models/972a6f/experimental/Session1\\972a6f_MI_classifier_TL_2019-04-05-15-17-38.sav\n",
      "Selecting BCI EEG file: SaveData/972a6f/Session1\\20190318152712_972a6f_BCI.easy\n",
      "Selecting BCI behavioral file: SaveData/972a6f/Session1\\BCI_972a6f_R5.csv\n",
      "Skipping N/A\n"
     ]
    },
    {
     "name": "stderr",
     "output_type": "stream",
     "text": [
      "C:\\Users\\nile\\Anaconda3\\envs\\eeg\\lib\\site-packages\\scipy\\signal\\_arraytools.py:45: FutureWarning: Using a non-tuple sequence for multidimensional indexing is deprecated; use `arr[tuple(seq)]` instead of `arr[seq]`. In the future this will be interpreted as an array index, `arr[np.array(seq)]`, which will result either in an error or a different result.\n",
      "  b = a[a_slice]\n",
      "C:\\Users\\nile\\Anaconda3\\envs\\eeg\\lib\\site-packages\\scipy\\signal\\signaltools.py:3463: FutureWarning: Using a non-tuple sequence for multidimensional indexing is deprecated; use `arr[tuple(seq)]` instead of `arr[seq]`. In the future this will be interpreted as an array index, `arr[np.array(seq)]`, which will result either in an error or a different result.\n",
      "  return y[sl]\n"
     ]
    },
    {
     "name": "stdout",
     "output_type": "stream",
     "text": [
      "Selecting model: Models/972a6f/experimental/Session1\\972a6f_MI_classifier_2019-04-05-15-17-40.sav\n",
      "Selecting model: Models/972a6f/experimental/Session1\\972a6f_MI_classifier_2019-04-05-15-17-26.sav\n",
      "Selecting model: Models/972a6f/experimental/Session1\\972a6f_MI_classifier_TL_2019-04-05-15-17-42.sav\n",
      "Selecting BCI EEG file: SaveData/972a6f/Session2\\20190402144420_972a6f_BCI.easy\n",
      "Selecting BCI behavioral file: SaveData/972a6f/Session2\\BCI_972a6f_R1.csv\n",
      "Skipping N/A\n"
     ]
    },
    {
     "name": "stderr",
     "output_type": "stream",
     "text": [
      "C:\\Users\\nile\\Anaconda3\\envs\\eeg\\lib\\site-packages\\scipy\\signal\\_arraytools.py:45: FutureWarning: Using a non-tuple sequence for multidimensional indexing is deprecated; use `arr[tuple(seq)]` instead of `arr[seq]`. In the future this will be interpreted as an array index, `arr[np.array(seq)]`, which will result either in an error or a different result.\n",
      "  b = a[a_slice]\n",
      "C:\\Users\\nile\\Anaconda3\\envs\\eeg\\lib\\site-packages\\scipy\\signal\\signaltools.py:3463: FutureWarning: Using a non-tuple sequence for multidimensional indexing is deprecated; use `arr[tuple(seq)]` instead of `arr[seq]`. In the future this will be interpreted as an array index, `arr[np.array(seq)]`, which will result either in an error or a different result.\n",
      "  return y[sl]\n"
     ]
    },
    {
     "name": "stdout",
     "output_type": "stream",
     "text": [
      "Selecting model: Models/972a6f/experimental/Session2\\972a6f_MI_classifier_2019-04-05-15-19-24.sav\n",
      "Selecting model: Models/972a6f/experimental/Session2\\972a6f_MI_classifier_2019-04-05-15-19-24.sav\n",
      "Selecting model: Models/972a6f/experimental/Session2\\972a6f_MI_classifier_2019-04-05-15-19-24.sav\n",
      "Selecting BCI EEG file: SaveData/972a6f/Session2\\20190402144933_972a6f_BCI.easy\n",
      "Selecting BCI behavioral file: SaveData/972a6f/Session2\\BCI_972a6f_R2.csv\n",
      "Skipping N/A\n"
     ]
    },
    {
     "name": "stderr",
     "output_type": "stream",
     "text": [
      "C:\\Users\\nile\\Anaconda3\\envs\\eeg\\lib\\site-packages\\scipy\\signal\\_arraytools.py:45: FutureWarning: Using a non-tuple sequence for multidimensional indexing is deprecated; use `arr[tuple(seq)]` instead of `arr[seq]`. In the future this will be interpreted as an array index, `arr[np.array(seq)]`, which will result either in an error or a different result.\n",
      "  b = a[a_slice]\n",
      "C:\\Users\\nile\\Anaconda3\\envs\\eeg\\lib\\site-packages\\scipy\\signal\\signaltools.py:3463: FutureWarning: Using a non-tuple sequence for multidimensional indexing is deprecated; use `arr[tuple(seq)]` instead of `arr[seq]`. In the future this will be interpreted as an array index, `arr[np.array(seq)]`, which will result either in an error or a different result.\n",
      "  return y[sl]\n"
     ]
    },
    {
     "name": "stdout",
     "output_type": "stream",
     "text": [
      "Selecting model: Models/972a6f/experimental/Session2\\972a6f_MI_classifier_2019-04-05-15-19-28.sav\n",
      "Selecting model: Models/972a6f/experimental/Session2\\972a6f_MI_classifier_2019-04-05-15-19-24.sav\n",
      "Selecting model: Models/972a6f/experimental/Session2\\972a6f_MI_classifier_TL_2019-04-05-15-19-28.sav\n",
      "Selecting BCI EEG file: SaveData/972a6f/Session2\\20190402145431_972a6f_BCI.easy\n",
      "Selecting BCI behavioral file: SaveData/972a6f/Session2\\BCI_972a6f_R3.csv\n",
      "Skipping N/A\n"
     ]
    },
    {
     "name": "stderr",
     "output_type": "stream",
     "text": [
      "C:\\Users\\nile\\Anaconda3\\envs\\eeg\\lib\\site-packages\\scipy\\signal\\_arraytools.py:45: FutureWarning: Using a non-tuple sequence for multidimensional indexing is deprecated; use `arr[tuple(seq)]` instead of `arr[seq]`. In the future this will be interpreted as an array index, `arr[np.array(seq)]`, which will result either in an error or a different result.\n",
      "  b = a[a_slice]\n",
      "C:\\Users\\nile\\Anaconda3\\envs\\eeg\\lib\\site-packages\\scipy\\signal\\signaltools.py:3463: FutureWarning: Using a non-tuple sequence for multidimensional indexing is deprecated; use `arr[tuple(seq)]` instead of `arr[seq]`. In the future this will be interpreted as an array index, `arr[np.array(seq)]`, which will result either in an error or a different result.\n",
      "  return y[sl]\n"
     ]
    },
    {
     "name": "stdout",
     "output_type": "stream",
     "text": [
      "Selecting model: Models/972a6f/experimental/Session2\\972a6f_MI_classifier_2019-04-05-15-19-31.sav\n",
      "Selecting model: Models/972a6f/experimental/Session2\\972a6f_MI_classifier_2019-04-05-15-19-24.sav\n",
      "Selecting model: Models/972a6f/experimental/Session2\\972a6f_MI_classifier_TL_2019-04-05-15-19-32.sav\n",
      "Selecting BCI EEG file: SaveData/972a6f/Session2\\20190402145943_972a6f_BCI.easy\n",
      "Selecting BCI behavioral file: SaveData/972a6f/Session2\\BCI_972a6f_R4.csv\n",
      "Skipping N/A\n"
     ]
    },
    {
     "name": "stderr",
     "output_type": "stream",
     "text": [
      "C:\\Users\\nile\\Anaconda3\\envs\\eeg\\lib\\site-packages\\scipy\\signal\\_arraytools.py:45: FutureWarning: Using a non-tuple sequence for multidimensional indexing is deprecated; use `arr[tuple(seq)]` instead of `arr[seq]`. In the future this will be interpreted as an array index, `arr[np.array(seq)]`, which will result either in an error or a different result.\n",
      "  b = a[a_slice]\n",
      "C:\\Users\\nile\\Anaconda3\\envs\\eeg\\lib\\site-packages\\scipy\\signal\\signaltools.py:3463: FutureWarning: Using a non-tuple sequence for multidimensional indexing is deprecated; use `arr[tuple(seq)]` instead of `arr[seq]`. In the future this will be interpreted as an array index, `arr[np.array(seq)]`, which will result either in an error or a different result.\n",
      "  return y[sl]\n"
     ]
    },
    {
     "name": "stdout",
     "output_type": "stream",
     "text": [
      "Selecting model: Models/972a6f/experimental/Session2\\972a6f_MI_classifier_2019-04-05-15-19-35.sav\n",
      "Selecting model: Models/972a6f/experimental/Session2\\972a6f_MI_classifier_2019-04-05-15-19-24.sav\n",
      "Selecting model: Models/972a6f/experimental/Session2\\972a6f_MI_classifier_TL_2019-04-05-15-19-37.sav\n",
      "Selecting BCI EEG file: SaveData/972a6f/Session2\\20190402150500_972a6f_BCI.easy\n",
      "Selecting BCI behavioral file: SaveData/972a6f/Session2\\BCI_972a6f_R5.csv\n",
      "Skipping N/A\n"
     ]
    },
    {
     "name": "stderr",
     "output_type": "stream",
     "text": [
      "C:\\Users\\nile\\Anaconda3\\envs\\eeg\\lib\\site-packages\\scipy\\signal\\_arraytools.py:45: FutureWarning: Using a non-tuple sequence for multidimensional indexing is deprecated; use `arr[tuple(seq)]` instead of `arr[seq]`. In the future this will be interpreted as an array index, `arr[np.array(seq)]`, which will result either in an error or a different result.\n",
      "  b = a[a_slice]\n",
      "C:\\Users\\nile\\Anaconda3\\envs\\eeg\\lib\\site-packages\\scipy\\signal\\signaltools.py:3463: FutureWarning: Using a non-tuple sequence for multidimensional indexing is deprecated; use `arr[tuple(seq)]` instead of `arr[seq]`. In the future this will be interpreted as an array index, `arr[np.array(seq)]`, which will result either in an error or a different result.\n",
      "  return y[sl]\n"
     ]
    },
    {
     "name": "stdout",
     "output_type": "stream",
     "text": [
      "Selecting model: Models/972a6f/experimental/Session2\\972a6f_MI_classifier_2019-04-05-15-19-39.sav\n",
      "Selecting model: Models/972a6f/experimental/Session2\\972a6f_MI_classifier_2019-04-05-15-19-24.sav\n",
      "Selecting model: Models/972a6f/experimental/Session2\\972a6f_MI_classifier_TL_2019-04-05-15-19-41.sav\n",
      "Selecting BCI EEG file: SaveData/972a6f/Session3\\20190405144609_972a6f_BCI.easy\n",
      "Selecting BCI behavioral file: SaveData/972a6f/Session3\\BCI_972a6f_R1.csv\n",
      "Skipping N/A\n"
     ]
    },
    {
     "name": "stderr",
     "output_type": "stream",
     "text": [
      "C:\\Users\\nile\\Anaconda3\\envs\\eeg\\lib\\site-packages\\scipy\\signal\\_arraytools.py:45: FutureWarning: Using a non-tuple sequence for multidimensional indexing is deprecated; use `arr[tuple(seq)]` instead of `arr[seq]`. In the future this will be interpreted as an array index, `arr[np.array(seq)]`, which will result either in an error or a different result.\n",
      "  b = a[a_slice]\n",
      "C:\\Users\\nile\\Anaconda3\\envs\\eeg\\lib\\site-packages\\scipy\\signal\\signaltools.py:3463: FutureWarning: Using a non-tuple sequence for multidimensional indexing is deprecated; use `arr[tuple(seq)]` instead of `arr[seq]`. In the future this will be interpreted as an array index, `arr[np.array(seq)]`, which will result either in an error or a different result.\n",
      "  return y[sl]\n"
     ]
    },
    {
     "name": "stdout",
     "output_type": "stream",
     "text": [
      "Selecting model: Models/972a6f/experimental/Session3\\972a6f_MI_classifier_2019-04-05-15-21-38.sav\n",
      "Selecting model: Models/972a6f/experimental/Session3\\972a6f_MI_classifier_2019-04-05-15-21-38.sav\n",
      "Selecting model: Models/972a6f/experimental/Session3\\972a6f_MI_classifier_2019-04-05-15-21-38.sav\n",
      "Selecting BCI EEG file: SaveData/972a6f/Session3\\20190405145123_972a6f_BCI.easy\n",
      "Selecting BCI behavioral file: SaveData/972a6f/Session3\\BCI_972a6f_R2.csv\n",
      "Skipping N/A\n"
     ]
    },
    {
     "name": "stderr",
     "output_type": "stream",
     "text": [
      "C:\\Users\\nile\\Anaconda3\\envs\\eeg\\lib\\site-packages\\scipy\\signal\\_arraytools.py:45: FutureWarning: Using a non-tuple sequence for multidimensional indexing is deprecated; use `arr[tuple(seq)]` instead of `arr[seq]`. In the future this will be interpreted as an array index, `arr[np.array(seq)]`, which will result either in an error or a different result.\n",
      "  b = a[a_slice]\n",
      "C:\\Users\\nile\\Anaconda3\\envs\\eeg\\lib\\site-packages\\scipy\\signal\\signaltools.py:3463: FutureWarning: Using a non-tuple sequence for multidimensional indexing is deprecated; use `arr[tuple(seq)]` instead of `arr[seq]`. In the future this will be interpreted as an array index, `arr[np.array(seq)]`, which will result either in an error or a different result.\n",
      "  return y[sl]\n"
     ]
    },
    {
     "name": "stdout",
     "output_type": "stream",
     "text": [
      "Selecting model: Models/972a6f/experimental/Session3\\972a6f_MI_classifier_2019-04-05-15-21-42.sav\n",
      "Selecting model: Models/972a6f/experimental/Session3\\972a6f_MI_classifier_2019-04-05-15-21-38.sav\n",
      "Selecting model: Models/972a6f/experimental/Session3\\972a6f_MI_classifier_TL_2019-04-05-15-21-43.sav\n",
      "Selecting BCI EEG file: SaveData/972a6f/Session3\\20190405145621_972a6f_BCI.easy\n",
      "Selecting BCI behavioral file: SaveData/972a6f/Session3\\BCI_972a6f_R3.csv\n",
      "Skipping N/A\n"
     ]
    },
    {
     "name": "stderr",
     "output_type": "stream",
     "text": [
      "C:\\Users\\nile\\Anaconda3\\envs\\eeg\\lib\\site-packages\\scipy\\signal\\_arraytools.py:45: FutureWarning: Using a non-tuple sequence for multidimensional indexing is deprecated; use `arr[tuple(seq)]` instead of `arr[seq]`. In the future this will be interpreted as an array index, `arr[np.array(seq)]`, which will result either in an error or a different result.\n",
      "  b = a[a_slice]\n",
      "C:\\Users\\nile\\Anaconda3\\envs\\eeg\\lib\\site-packages\\scipy\\signal\\signaltools.py:3463: FutureWarning: Using a non-tuple sequence for multidimensional indexing is deprecated; use `arr[tuple(seq)]` instead of `arr[seq]`. In the future this will be interpreted as an array index, `arr[np.array(seq)]`, which will result either in an error or a different result.\n",
      "  return y[sl]\n"
     ]
    },
    {
     "name": "stdout",
     "output_type": "stream",
     "text": [
      "Selecting model: Models/972a6f/experimental/Session3\\972a6f_MI_classifier_2019-04-05-15-21-45.sav\n",
      "Selecting model: Models/972a6f/experimental/Session3\\972a6f_MI_classifier_2019-04-05-15-21-38.sav\n",
      "Selecting model: Models/972a6f/experimental/Session3\\972a6f_MI_classifier_TL_2019-04-05-15-21-47.sav\n",
      "Selecting BCI EEG file: SaveData/972a6f/Session3\\20190405150141_972a6f_BCI.easy\n",
      "Selecting BCI behavioral file: SaveData/972a6f/Session3\\BCI_972a6f_R4.csv\n",
      "Skipping N/A\n"
     ]
    },
    {
     "name": "stderr",
     "output_type": "stream",
     "text": [
      "C:\\Users\\nile\\Anaconda3\\envs\\eeg\\lib\\site-packages\\scipy\\signal\\_arraytools.py:45: FutureWarning: Using a non-tuple sequence for multidimensional indexing is deprecated; use `arr[tuple(seq)]` instead of `arr[seq]`. In the future this will be interpreted as an array index, `arr[np.array(seq)]`, which will result either in an error or a different result.\n",
      "  b = a[a_slice]\n",
      "C:\\Users\\nile\\Anaconda3\\envs\\eeg\\lib\\site-packages\\scipy\\signal\\signaltools.py:3463: FutureWarning: Using a non-tuple sequence for multidimensional indexing is deprecated; use `arr[tuple(seq)]` instead of `arr[seq]`. In the future this will be interpreted as an array index, `arr[np.array(seq)]`, which will result either in an error or a different result.\n",
      "  return y[sl]\n"
     ]
    },
    {
     "name": "stdout",
     "output_type": "stream",
     "text": [
      "Selecting model: Models/972a6f/experimental/Session3\\972a6f_MI_classifier_2019-04-05-15-21-49.sav\n",
      "Selecting model: Models/972a6f/experimental/Session3\\972a6f_MI_classifier_2019-04-05-15-21-38.sav\n",
      "Selecting model: Models/972a6f/experimental/Session3\\972a6f_MI_classifier_TL_2019-04-05-15-21-51.sav\n",
      "Selecting BCI EEG file: SaveData/972a6f/Session3\\20190405150651_972a6f_BCI.easy\n",
      "Selecting BCI behavioral file: SaveData/972a6f/Session3\\BCI_972a6f_R5.csv\n",
      "Skipping N/A\n"
     ]
    },
    {
     "name": "stderr",
     "output_type": "stream",
     "text": [
      "C:\\Users\\nile\\Anaconda3\\envs\\eeg\\lib\\site-packages\\scipy\\signal\\_arraytools.py:45: FutureWarning: Using a non-tuple sequence for multidimensional indexing is deprecated; use `arr[tuple(seq)]` instead of `arr[seq]`. In the future this will be interpreted as an array index, `arr[np.array(seq)]`, which will result either in an error or a different result.\n",
      "  b = a[a_slice]\n",
      "C:\\Users\\nile\\Anaconda3\\envs\\eeg\\lib\\site-packages\\scipy\\signal\\signaltools.py:3463: FutureWarning: Using a non-tuple sequence for multidimensional indexing is deprecated; use `arr[tuple(seq)]` instead of `arr[seq]`. In the future this will be interpreted as an array index, `arr[np.array(seq)]`, which will result either in an error or a different result.\n",
      "  return y[sl]\n"
     ]
    },
    {
     "name": "stdout",
     "output_type": "stream",
     "text": [
      "Selecting model: Models/972a6f/experimental/Session3\\972a6f_MI_classifier_2019-04-05-15-21-54.sav\n",
      "Selecting model: Models/972a6f/experimental/Session3\\972a6f_MI_classifier_2019-04-05-15-21-38.sav\n",
      "Selecting model: Models/972a6f/experimental/Session3\\972a6f_MI_classifier_TL_2019-04-05-15-21-55.sav\n",
      "----------------------------------------------------\n",
      "Done storing values for 972a6f\n",
      "----------------------------------------------------\n",
      "Selecting BCI EEG file: SaveData/851238/Session1\\20190401150511_851238_BCI.easy\n",
      "Selecting BCI behavioral file: SaveData/851238/Session1\\BCI_851238_R1.csv\n",
      "Skipping N/A\n"
     ]
    },
    {
     "name": "stderr",
     "output_type": "stream",
     "text": [
      "C:\\Users\\nile\\Anaconda3\\envs\\eeg\\lib\\site-packages\\scipy\\signal\\_arraytools.py:45: FutureWarning: Using a non-tuple sequence for multidimensional indexing is deprecated; use `arr[tuple(seq)]` instead of `arr[seq]`. In the future this will be interpreted as an array index, `arr[np.array(seq)]`, which will result either in an error or a different result.\n",
      "  b = a[a_slice]\n",
      "C:\\Users\\nile\\Anaconda3\\envs\\eeg\\lib\\site-packages\\scipy\\signal\\signaltools.py:3463: FutureWarning: Using a non-tuple sequence for multidimensional indexing is deprecated; use `arr[tuple(seq)]` instead of `arr[seq]`. In the future this will be interpreted as an array index, `arr[np.array(seq)]`, which will result either in an error or a different result.\n",
      "  return y[sl]\n"
     ]
    },
    {
     "name": "stdout",
     "output_type": "stream",
     "text": [
      "Selecting model: Models/851238/experimental/Session1\\851238_MI_classifier_2019-04-05-16-49-04.sav\n",
      "Selecting model: Models/851238/experimental/Session1\\851238_MI_classifier_2019-04-05-16-49-04.sav\n",
      "Selecting model: Models/851238/experimental/Session1\\851238_MI_classifier_2019-04-05-16-49-04.sav\n",
      "Selecting BCI EEG file: SaveData/851238/Session1\\20190401150958_851238_BCI.easy\n",
      "Selecting BCI behavioral file: SaveData/851238/Session1\\BCI_851238_R2.csv\n",
      "Skipping N/A\n"
     ]
    },
    {
     "name": "stderr",
     "output_type": "stream",
     "text": [
      "C:\\Users\\nile\\Anaconda3\\envs\\eeg\\lib\\site-packages\\scipy\\signal\\_arraytools.py:45: FutureWarning: Using a non-tuple sequence for multidimensional indexing is deprecated; use `arr[tuple(seq)]` instead of `arr[seq]`. In the future this will be interpreted as an array index, `arr[np.array(seq)]`, which will result either in an error or a different result.\n",
      "  b = a[a_slice]\n",
      "C:\\Users\\nile\\Anaconda3\\envs\\eeg\\lib\\site-packages\\scipy\\signal\\signaltools.py:3463: FutureWarning: Using a non-tuple sequence for multidimensional indexing is deprecated; use `arr[tuple(seq)]` instead of `arr[seq]`. In the future this will be interpreted as an array index, `arr[np.array(seq)]`, which will result either in an error or a different result.\n",
      "  return y[sl]\n"
     ]
    },
    {
     "name": "stdout",
     "output_type": "stream",
     "text": [
      "Selecting model: Models/851238/experimental/Session1\\851238_MI_classifier_2019-04-05-16-49-04.sav\n",
      "Selecting model: Models/851238/experimental/Session1\\851238_MI_classifier_2019-04-05-16-49-08.sav\n",
      "Selecting model: Models/851238/experimental/Session1\\851238_MI_classifier_TL_2019-04-05-16-49-08.sav\n",
      "Selecting BCI EEG file: SaveData/851238/Session1\\20190401151511_851238_BCI.easy\n",
      "Selecting BCI behavioral file: SaveData/851238/Session1\\BCI_851238_R3.csv\n",
      "Skipping N/A\n"
     ]
    },
    {
     "name": "stderr",
     "output_type": "stream",
     "text": [
      "C:\\Users\\nile\\Anaconda3\\envs\\eeg\\lib\\site-packages\\scipy\\signal\\_arraytools.py:45: FutureWarning: Using a non-tuple sequence for multidimensional indexing is deprecated; use `arr[tuple(seq)]` instead of `arr[seq]`. In the future this will be interpreted as an array index, `arr[np.array(seq)]`, which will result either in an error or a different result.\n",
      "  b = a[a_slice]\n",
      "C:\\Users\\nile\\Anaconda3\\envs\\eeg\\lib\\site-packages\\scipy\\signal\\signaltools.py:3463: FutureWarning: Using a non-tuple sequence for multidimensional indexing is deprecated; use `arr[tuple(seq)]` instead of `arr[seq]`. In the future this will be interpreted as an array index, `arr[np.array(seq)]`, which will result either in an error or a different result.\n",
      "  return y[sl]\n"
     ]
    },
    {
     "name": "stdout",
     "output_type": "stream",
     "text": [
      "Selecting model: Models/851238/experimental/Session1\\851238_MI_classifier_2019-04-05-16-49-04.sav\n",
      "Selecting model: Models/851238/experimental/Session1\\851238_MI_classifier_2019-04-05-16-49-11.sav\n",
      "Selecting model: Models/851238/experimental/Session1\\851238_MI_classifier_TL_2019-04-05-16-49-12.sav\n",
      "Selecting BCI EEG file: SaveData/851238/Session1\\20190401152017_851238_BCI.easy\n",
      "Selecting BCI behavioral file: SaveData/851238/Session1\\BCI_851238_R4.csv\n",
      "Skipping N/A\n"
     ]
    },
    {
     "name": "stderr",
     "output_type": "stream",
     "text": [
      "C:\\Users\\nile\\Anaconda3\\envs\\eeg\\lib\\site-packages\\scipy\\signal\\_arraytools.py:45: FutureWarning: Using a non-tuple sequence for multidimensional indexing is deprecated; use `arr[tuple(seq)]` instead of `arr[seq]`. In the future this will be interpreted as an array index, `arr[np.array(seq)]`, which will result either in an error or a different result.\n",
      "  b = a[a_slice]\n",
      "C:\\Users\\nile\\Anaconda3\\envs\\eeg\\lib\\site-packages\\scipy\\signal\\signaltools.py:3463: FutureWarning: Using a non-tuple sequence for multidimensional indexing is deprecated; use `arr[tuple(seq)]` instead of `arr[seq]`. In the future this will be interpreted as an array index, `arr[np.array(seq)]`, which will result either in an error or a different result.\n",
      "  return y[sl]\n"
     ]
    },
    {
     "name": "stdout",
     "output_type": "stream",
     "text": [
      "Selecting model: Models/851238/experimental/Session1\\851238_MI_classifier_2019-04-05-16-49-04.sav\n",
      "Selecting model: Models/851238/experimental/Session1\\851238_MI_classifier_2019-04-05-16-49-15.sav\n",
      "Selecting model: Models/851238/experimental/Session1\\851238_MI_classifier_TL_2019-04-05-16-49-16.sav\n",
      "Selecting BCI EEG file: SaveData/851238/Session1\\20190401152508_851238_BCI.easy\n",
      "Selecting BCI behavioral file: SaveData/851238/Session1\\BCI_851238_R5.csv\n",
      "Skipping N/A\n"
     ]
    },
    {
     "name": "stderr",
     "output_type": "stream",
     "text": [
      "C:\\Users\\nile\\Anaconda3\\envs\\eeg\\lib\\site-packages\\scipy\\signal\\_arraytools.py:45: FutureWarning: Using a non-tuple sequence for multidimensional indexing is deprecated; use `arr[tuple(seq)]` instead of `arr[seq]`. In the future this will be interpreted as an array index, `arr[np.array(seq)]`, which will result either in an error or a different result.\n",
      "  b = a[a_slice]\n",
      "C:\\Users\\nile\\Anaconda3\\envs\\eeg\\lib\\site-packages\\scipy\\signal\\signaltools.py:3463: FutureWarning: Using a non-tuple sequence for multidimensional indexing is deprecated; use `arr[tuple(seq)]` instead of `arr[seq]`. In the future this will be interpreted as an array index, `arr[np.array(seq)]`, which will result either in an error or a different result.\n",
      "  return y[sl]\n"
     ]
    },
    {
     "name": "stdout",
     "output_type": "stream",
     "text": [
      "Selecting model: Models/851238/experimental/Session1\\851238_MI_classifier_2019-04-05-16-49-04.sav\n",
      "Selecting model: Models/851238/experimental/Session1\\851238_MI_classifier_2019-04-05-16-49-19.sav\n",
      "Selecting model: Models/851238/experimental/Session1\\851238_MI_classifier_TL_2019-04-05-16-49-20.sav\n",
      "Selecting BCI EEG file: SaveData/851238/Session2\\20190404134320_851238_BCI.easy\n",
      "Selecting BCI behavioral file: SaveData/851238/Session2\\BCI_851238_R1.csv\n",
      "Skipping N/A\n"
     ]
    },
    {
     "name": "stderr",
     "output_type": "stream",
     "text": [
      "C:\\Users\\nile\\Anaconda3\\envs\\eeg\\lib\\site-packages\\scipy\\signal\\_arraytools.py:45: FutureWarning: Using a non-tuple sequence for multidimensional indexing is deprecated; use `arr[tuple(seq)]` instead of `arr[seq]`. In the future this will be interpreted as an array index, `arr[np.array(seq)]`, which will result either in an error or a different result.\n",
      "  b = a[a_slice]\n",
      "C:\\Users\\nile\\Anaconda3\\envs\\eeg\\lib\\site-packages\\scipy\\signal\\signaltools.py:3463: FutureWarning: Using a non-tuple sequence for multidimensional indexing is deprecated; use `arr[tuple(seq)]` instead of `arr[seq]`. In the future this will be interpreted as an array index, `arr[np.array(seq)]`, which will result either in an error or a different result.\n",
      "  return y[sl]\n"
     ]
    },
    {
     "name": "stdout",
     "output_type": "stream",
     "text": [
      "Selecting model: Models/851238/experimental/Session2\\851238_MI_classifier_2019-04-05-16-50-53.sav\n",
      "Selecting model: Models/851238/experimental/Session2\\851238_MI_classifier_2019-04-05-16-50-53.sav\n",
      "Selecting model: Models/851238/experimental/Session2\\851238_MI_classifier_2019-04-05-16-50-53.sav\n",
      "Selecting BCI EEG file: SaveData/851238/Session2\\20190404134839_851238_BCI.easy\n",
      "Selecting BCI behavioral file: SaveData/851238/Session2\\BCI_851238_R2.csv\n",
      "Skipping N/A\n"
     ]
    },
    {
     "name": "stderr",
     "output_type": "stream",
     "text": [
      "C:\\Users\\nile\\Anaconda3\\envs\\eeg\\lib\\site-packages\\scipy\\signal\\_arraytools.py:45: FutureWarning: Using a non-tuple sequence for multidimensional indexing is deprecated; use `arr[tuple(seq)]` instead of `arr[seq]`. In the future this will be interpreted as an array index, `arr[np.array(seq)]`, which will result either in an error or a different result.\n",
      "  b = a[a_slice]\n",
      "C:\\Users\\nile\\Anaconda3\\envs\\eeg\\lib\\site-packages\\scipy\\signal\\signaltools.py:3463: FutureWarning: Using a non-tuple sequence for multidimensional indexing is deprecated; use `arr[tuple(seq)]` instead of `arr[seq]`. In the future this will be interpreted as an array index, `arr[np.array(seq)]`, which will result either in an error or a different result.\n",
      "  return y[sl]\n"
     ]
    },
    {
     "name": "stdout",
     "output_type": "stream",
     "text": [
      "Selecting model: Models/851238/experimental/Session2\\851238_MI_classifier_2019-04-05-16-50-53.sav\n",
      "Selecting model: Models/851238/experimental/Session2\\851238_MI_classifier_2019-04-05-16-50-57.sav\n",
      "Selecting model: Models/851238/experimental/Session2\\851238_MI_classifier_TL_2019-04-05-16-50-58.sav\n",
      "Selecting BCI EEG file: SaveData/851238/Session2\\20190404135329_851238_BCI.easy\n",
      "Selecting BCI behavioral file: SaveData/851238/Session2\\BCI_851238_R3.csv\n",
      "Skipping N/A\n"
     ]
    },
    {
     "name": "stderr",
     "output_type": "stream",
     "text": [
      "C:\\Users\\nile\\Anaconda3\\envs\\eeg\\lib\\site-packages\\scipy\\signal\\_arraytools.py:45: FutureWarning: Using a non-tuple sequence for multidimensional indexing is deprecated; use `arr[tuple(seq)]` instead of `arr[seq]`. In the future this will be interpreted as an array index, `arr[np.array(seq)]`, which will result either in an error or a different result.\n",
      "  b = a[a_slice]\n",
      "C:\\Users\\nile\\Anaconda3\\envs\\eeg\\lib\\site-packages\\scipy\\signal\\signaltools.py:3463: FutureWarning: Using a non-tuple sequence for multidimensional indexing is deprecated; use `arr[tuple(seq)]` instead of `arr[seq]`. In the future this will be interpreted as an array index, `arr[np.array(seq)]`, which will result either in an error or a different result.\n",
      "  return y[sl]\n"
     ]
    },
    {
     "name": "stdout",
     "output_type": "stream",
     "text": [
      "Selecting model: Models/851238/experimental/Session2\\851238_MI_classifier_2019-04-05-16-50-53.sav\n",
      "Selecting model: Models/851238/experimental/Session2\\851238_MI_classifier_2019-04-05-16-51-00.sav\n",
      "Selecting model: Models/851238/experimental/Session2\\851238_MI_classifier_TL_2019-04-05-16-51-02.sav\n",
      "Selecting BCI EEG file: SaveData/851238/Session2\\20190404135831_851238_BCI.easy\n",
      "Selecting BCI behavioral file: SaveData/851238/Session2\\BCI_851238_R4.csv\n",
      "Skipping N/A\n"
     ]
    },
    {
     "name": "stderr",
     "output_type": "stream",
     "text": [
      "C:\\Users\\nile\\Anaconda3\\envs\\eeg\\lib\\site-packages\\scipy\\signal\\_arraytools.py:45: FutureWarning: Using a non-tuple sequence for multidimensional indexing is deprecated; use `arr[tuple(seq)]` instead of `arr[seq]`. In the future this will be interpreted as an array index, `arr[np.array(seq)]`, which will result either in an error or a different result.\n",
      "  b = a[a_slice]\n",
      "C:\\Users\\nile\\Anaconda3\\envs\\eeg\\lib\\site-packages\\scipy\\signal\\signaltools.py:3463: FutureWarning: Using a non-tuple sequence for multidimensional indexing is deprecated; use `arr[tuple(seq)]` instead of `arr[seq]`. In the future this will be interpreted as an array index, `arr[np.array(seq)]`, which will result either in an error or a different result.\n",
      "  return y[sl]\n"
     ]
    },
    {
     "name": "stdout",
     "output_type": "stream",
     "text": [
      "Selecting model: Models/851238/experimental/Session2\\851238_MI_classifier_2019-04-05-16-50-53.sav\n",
      "Selecting model: Models/851238/experimental/Session2\\851238_MI_classifier_2019-04-05-16-51-04.sav\n",
      "Selecting model: Models/851238/experimental/Session2\\851238_MI_classifier_TL_2019-04-05-16-51-06.sav\n",
      "Selecting BCI EEG file: SaveData/851238/Session2\\20190404140340_851238_BCI.easy\n",
      "Selecting BCI behavioral file: SaveData/851238/Session2\\BCI_851238_R5.csv\n",
      "Skipping N/A\n"
     ]
    },
    {
     "name": "stderr",
     "output_type": "stream",
     "text": [
      "C:\\Users\\nile\\Anaconda3\\envs\\eeg\\lib\\site-packages\\scipy\\signal\\_arraytools.py:45: FutureWarning: Using a non-tuple sequence for multidimensional indexing is deprecated; use `arr[tuple(seq)]` instead of `arr[seq]`. In the future this will be interpreted as an array index, `arr[np.array(seq)]`, which will result either in an error or a different result.\n",
      "  b = a[a_slice]\n",
      "C:\\Users\\nile\\Anaconda3\\envs\\eeg\\lib\\site-packages\\scipy\\signal\\signaltools.py:3463: FutureWarning: Using a non-tuple sequence for multidimensional indexing is deprecated; use `arr[tuple(seq)]` instead of `arr[seq]`. In the future this will be interpreted as an array index, `arr[np.array(seq)]`, which will result either in an error or a different result.\n",
      "  return y[sl]\n"
     ]
    },
    {
     "name": "stdout",
     "output_type": "stream",
     "text": [
      "Selecting model: Models/851238/experimental/Session2\\851238_MI_classifier_2019-04-05-16-50-53.sav\n",
      "Selecting model: Models/851238/experimental/Session2\\851238_MI_classifier_2019-04-05-16-51-08.sav\n",
      "Selecting model: Models/851238/experimental/Session2\\851238_MI_classifier_TL_2019-04-05-16-51-09.sav\n",
      "Selecting BCI EEG file: SaveData/851238/Session3\\20190405161700_851238_BCI.easy\n",
      "Selecting BCI behavioral file: SaveData/851238/Session3\\BCI_851238_R1.csv\n",
      "Skipping N/A\n"
     ]
    },
    {
     "name": "stderr",
     "output_type": "stream",
     "text": [
      "C:\\Users\\nile\\Anaconda3\\envs\\eeg\\lib\\site-packages\\scipy\\signal\\_arraytools.py:45: FutureWarning: Using a non-tuple sequence for multidimensional indexing is deprecated; use `arr[tuple(seq)]` instead of `arr[seq]`. In the future this will be interpreted as an array index, `arr[np.array(seq)]`, which will result either in an error or a different result.\n",
      "  b = a[a_slice]\n",
      "C:\\Users\\nile\\Anaconda3\\envs\\eeg\\lib\\site-packages\\scipy\\signal\\signaltools.py:3463: FutureWarning: Using a non-tuple sequence for multidimensional indexing is deprecated; use `arr[tuple(seq)]` instead of `arr[seq]`. In the future this will be interpreted as an array index, `arr[np.array(seq)]`, which will result either in an error or a different result.\n",
      "  return y[sl]\n"
     ]
    },
    {
     "name": "stdout",
     "output_type": "stream",
     "text": [
      "Selecting model: Models/851238/experimental/Session3\\851238_MI_classifier_2019-04-05-16-52-44.sav\n",
      "Selecting model: Models/851238/experimental/Session3\\851238_MI_classifier_2019-04-05-16-52-44.sav\n",
      "Selecting model: Models/851238/experimental/Session3\\851238_MI_classifier_2019-04-05-16-52-44.sav\n",
      "Selecting BCI EEG file: SaveData/851238/Session3\\20190405162133_851238_BCI.easy\n",
      "Selecting BCI behavioral file: SaveData/851238/Session3\\BCI_851238_R2.csv\n",
      "Skipping N/A\n"
     ]
    },
    {
     "name": "stderr",
     "output_type": "stream",
     "text": [
      "C:\\Users\\nile\\Anaconda3\\envs\\eeg\\lib\\site-packages\\scipy\\signal\\_arraytools.py:45: FutureWarning: Using a non-tuple sequence for multidimensional indexing is deprecated; use `arr[tuple(seq)]` instead of `arr[seq]`. In the future this will be interpreted as an array index, `arr[np.array(seq)]`, which will result either in an error or a different result.\n",
      "  b = a[a_slice]\n",
      "C:\\Users\\nile\\Anaconda3\\envs\\eeg\\lib\\site-packages\\scipy\\signal\\signaltools.py:3463: FutureWarning: Using a non-tuple sequence for multidimensional indexing is deprecated; use `arr[tuple(seq)]` instead of `arr[seq]`. In the future this will be interpreted as an array index, `arr[np.array(seq)]`, which will result either in an error or a different result.\n",
      "  return y[sl]\n"
     ]
    },
    {
     "name": "stdout",
     "output_type": "stream",
     "text": [
      "Selecting model: Models/851238/experimental/Session3\\851238_MI_classifier_2019-04-05-16-52-44.sav\n",
      "Selecting model: Models/851238/experimental/Session3\\851238_MI_classifier_2019-04-05-16-52-48.sav\n",
      "Selecting model: Models/851238/experimental/Session3\\851238_MI_classifier_TL_2019-04-05-16-52-48.sav\n",
      "Selecting BCI EEG file: SaveData/851238/Session3\\20190405162614_851238_BCI.easy\n",
      "Selecting BCI behavioral file: SaveData/851238/Session3\\BCI_851238_R3.csv\n",
      "Skipping N/A\n"
     ]
    },
    {
     "name": "stderr",
     "output_type": "stream",
     "text": [
      "C:\\Users\\nile\\Anaconda3\\envs\\eeg\\lib\\site-packages\\scipy\\signal\\_arraytools.py:45: FutureWarning: Using a non-tuple sequence for multidimensional indexing is deprecated; use `arr[tuple(seq)]` instead of `arr[seq]`. In the future this will be interpreted as an array index, `arr[np.array(seq)]`, which will result either in an error or a different result.\n",
      "  b = a[a_slice]\n",
      "C:\\Users\\nile\\Anaconda3\\envs\\eeg\\lib\\site-packages\\scipy\\signal\\signaltools.py:3463: FutureWarning: Using a non-tuple sequence for multidimensional indexing is deprecated; use `arr[tuple(seq)]` instead of `arr[seq]`. In the future this will be interpreted as an array index, `arr[np.array(seq)]`, which will result either in an error or a different result.\n",
      "  return y[sl]\n"
     ]
    },
    {
     "name": "stdout",
     "output_type": "stream",
     "text": [
      "Selecting model: Models/851238/experimental/Session3\\851238_MI_classifier_2019-04-05-16-52-44.sav\n",
      "Selecting model: Models/851238/experimental/Session3\\851238_MI_classifier_2019-04-05-16-52-51.sav\n",
      "Selecting model: Models/851238/experimental/Session3\\851238_MI_classifier_TL_2019-04-05-16-52-52.sav\n",
      "Selecting BCI EEG file: SaveData/851238/Session3\\20190405163100_851238_BCI.easy\n",
      "Selecting BCI behavioral file: SaveData/851238/Session3\\BCI_851238_R4.csv\n",
      "Skipping N/A\n"
     ]
    },
    {
     "name": "stderr",
     "output_type": "stream",
     "text": [
      "C:\\Users\\nile\\Anaconda3\\envs\\eeg\\lib\\site-packages\\scipy\\signal\\_arraytools.py:45: FutureWarning: Using a non-tuple sequence for multidimensional indexing is deprecated; use `arr[tuple(seq)]` instead of `arr[seq]`. In the future this will be interpreted as an array index, `arr[np.array(seq)]`, which will result either in an error or a different result.\n",
      "  b = a[a_slice]\n",
      "C:\\Users\\nile\\Anaconda3\\envs\\eeg\\lib\\site-packages\\scipy\\signal\\signaltools.py:3463: FutureWarning: Using a non-tuple sequence for multidimensional indexing is deprecated; use `arr[tuple(seq)]` instead of `arr[seq]`. In the future this will be interpreted as an array index, `arr[np.array(seq)]`, which will result either in an error or a different result.\n",
      "  return y[sl]\n"
     ]
    },
    {
     "name": "stdout",
     "output_type": "stream",
     "text": [
      "Selecting model: Models/851238/experimental/Session3\\851238_MI_classifier_2019-04-05-16-52-44.sav\n",
      "Selecting model: Models/851238/experimental/Session3\\851238_MI_classifier_2019-04-05-16-52-55.sav\n",
      "Selecting model: Models/851238/experimental/Session3\\851238_MI_classifier_TL_2019-04-05-16-52-56.sav\n",
      "Selecting BCI EEG file: SaveData/851238/Session3\\20190405163545_851238_BCI.easy\n",
      "Selecting BCI behavioral file: SaveData/851238/Session3\\BCI_851238_R5.csv\n",
      "Skipping N/A\n"
     ]
    },
    {
     "name": "stderr",
     "output_type": "stream",
     "text": [
      "C:\\Users\\nile\\Anaconda3\\envs\\eeg\\lib\\site-packages\\scipy\\signal\\_arraytools.py:45: FutureWarning: Using a non-tuple sequence for multidimensional indexing is deprecated; use `arr[tuple(seq)]` instead of `arr[seq]`. In the future this will be interpreted as an array index, `arr[np.array(seq)]`, which will result either in an error or a different result.\n",
      "  b = a[a_slice]\n",
      "C:\\Users\\nile\\Anaconda3\\envs\\eeg\\lib\\site-packages\\scipy\\signal\\signaltools.py:3463: FutureWarning: Using a non-tuple sequence for multidimensional indexing is deprecated; use `arr[tuple(seq)]` instead of `arr[seq]`. In the future this will be interpreted as an array index, `arr[np.array(seq)]`, which will result either in an error or a different result.\n",
      "  return y[sl]\n"
     ]
    },
    {
     "name": "stdout",
     "output_type": "stream",
     "text": [
      "Selecting model: Models/851238/experimental/Session3\\851238_MI_classifier_2019-04-05-16-52-44.sav\n",
      "Selecting model: Models/851238/experimental/Session3\\851238_MI_classifier_2019-04-05-16-52-58.sav\n",
      "Selecting model: Models/851238/experimental/Session3\\851238_MI_classifier_TL_2019-04-05-16-52-59.sav\n",
      "----------------------------------------------------\n",
      "Done storing values for 851238\n",
      "----------------------------------------------------\n",
      "Selecting BCI EEG file: SaveData/520f16/Session1\\20190318134017_520f16_BCI.easy\n",
      "Selecting BCI behavioral file: SaveData/520f16/Session1\\BCI_520f16_R1.csv\n",
      "Skipping N/A\n"
     ]
    },
    {
     "name": "stderr",
     "output_type": "stream",
     "text": [
      "C:\\Users\\nile\\Anaconda3\\envs\\eeg\\lib\\site-packages\\scipy\\signal\\_arraytools.py:45: FutureWarning: Using a non-tuple sequence for multidimensional indexing is deprecated; use `arr[tuple(seq)]` instead of `arr[seq]`. In the future this will be interpreted as an array index, `arr[np.array(seq)]`, which will result either in an error or a different result.\n",
      "  b = a[a_slice]\n",
      "C:\\Users\\nile\\Anaconda3\\envs\\eeg\\lib\\site-packages\\scipy\\signal\\signaltools.py:3463: FutureWarning: Using a non-tuple sequence for multidimensional indexing is deprecated; use `arr[tuple(seq)]` instead of `arr[seq]`. In the future this will be interpreted as an array index, `arr[np.array(seq)]`, which will result either in an error or a different result.\n",
      "  return y[sl]\n"
     ]
    },
    {
     "name": "stdout",
     "output_type": "stream",
     "text": [
      "Selecting model: Models/520f16/experimental/Session1\\520f16_MI_classifier_2019-03-20-10-05-34.sav\n",
      "Selecting model: Models/520f16/experimental/Session1\\520f16_MI_classifier_2019-03-20-10-05-34.sav\n",
      "Selecting model: Models/520f16/experimental/Session1\\520f16_MI_classifier_2019-03-20-10-05-34.sav\n",
      "Selecting BCI EEG file: SaveData/520f16/Session1\\20190318134707_520f16_BCI.easy\n",
      "Selecting BCI behavioral file: SaveData/520f16/Session1\\BCI_520f16_R2.csv\n",
      "Skipping N/A\n"
     ]
    },
    {
     "name": "stderr",
     "output_type": "stream",
     "text": [
      "C:\\Users\\nile\\Anaconda3\\envs\\eeg\\lib\\site-packages\\scipy\\signal\\_arraytools.py:45: FutureWarning: Using a non-tuple sequence for multidimensional indexing is deprecated; use `arr[tuple(seq)]` instead of `arr[seq]`. In the future this will be interpreted as an array index, `arr[np.array(seq)]`, which will result either in an error or a different result.\n",
      "  b = a[a_slice]\n",
      "C:\\Users\\nile\\Anaconda3\\envs\\eeg\\lib\\site-packages\\scipy\\signal\\signaltools.py:3463: FutureWarning: Using a non-tuple sequence for multidimensional indexing is deprecated; use `arr[tuple(seq)]` instead of `arr[seq]`. In the future this will be interpreted as an array index, `arr[np.array(seq)]`, which will result either in an error or a different result.\n",
      "  return y[sl]\n"
     ]
    },
    {
     "name": "stdout",
     "output_type": "stream",
     "text": [
      "Selecting model: Models/520f16/experimental/Session1\\520f16_MI_classifier_2019-03-20-10-05-38.sav\n",
      "Selecting model: Models/520f16/experimental/Session1\\520f16_MI_classifier_2019-03-20-10-05-34.sav\n",
      "Selecting model: Models/520f16/experimental/Session1\\520f16_MI_classifier_TL_2019-03-20-10-05-39.sav\n",
      "Selecting BCI EEG file: SaveData/520f16/Session1\\20190318135225_520f16_BCI.easy\n",
      "Selecting BCI behavioral file: SaveData/520f16/Session1\\BCI_520f16_R3.csv\n",
      "Skipping N/A\n"
     ]
    },
    {
     "name": "stderr",
     "output_type": "stream",
     "text": [
      "C:\\Users\\nile\\Anaconda3\\envs\\eeg\\lib\\site-packages\\scipy\\signal\\_arraytools.py:45: FutureWarning: Using a non-tuple sequence for multidimensional indexing is deprecated; use `arr[tuple(seq)]` instead of `arr[seq]`. In the future this will be interpreted as an array index, `arr[np.array(seq)]`, which will result either in an error or a different result.\n",
      "  b = a[a_slice]\n",
      "C:\\Users\\nile\\Anaconda3\\envs\\eeg\\lib\\site-packages\\scipy\\signal\\signaltools.py:3463: FutureWarning: Using a non-tuple sequence for multidimensional indexing is deprecated; use `arr[tuple(seq)]` instead of `arr[seq]`. In the future this will be interpreted as an array index, `arr[np.array(seq)]`, which will result either in an error or a different result.\n",
      "  return y[sl]\n"
     ]
    },
    {
     "name": "stdout",
     "output_type": "stream",
     "text": [
      "Selecting model: Models/520f16/experimental/Session1\\520f16_MI_classifier_2019-03-20-10-05-41.sav\n",
      "Selecting model: Models/520f16/experimental/Session1\\520f16_MI_classifier_2019-03-20-10-05-34.sav\n",
      "Selecting model: Models/520f16/experimental/Session1\\520f16_MI_classifier_TL_2019-03-20-10-05-43.sav\n",
      "Selecting BCI EEG file: SaveData/520f16/Session1\\20190318135758_520f16_BCI.easy\n",
      "Selecting BCI behavioral file: SaveData/520f16/Session1\\BCI_520f16_R4.csv\n",
      "Skipping N/A\n"
     ]
    },
    {
     "name": "stderr",
     "output_type": "stream",
     "text": [
      "C:\\Users\\nile\\Anaconda3\\envs\\eeg\\lib\\site-packages\\scipy\\signal\\_arraytools.py:45: FutureWarning: Using a non-tuple sequence for multidimensional indexing is deprecated; use `arr[tuple(seq)]` instead of `arr[seq]`. In the future this will be interpreted as an array index, `arr[np.array(seq)]`, which will result either in an error or a different result.\n",
      "  b = a[a_slice]\n",
      "C:\\Users\\nile\\Anaconda3\\envs\\eeg\\lib\\site-packages\\scipy\\signal\\signaltools.py:3463: FutureWarning: Using a non-tuple sequence for multidimensional indexing is deprecated; use `arr[tuple(seq)]` instead of `arr[seq]`. In the future this will be interpreted as an array index, `arr[np.array(seq)]`, which will result either in an error or a different result.\n",
      "  return y[sl]\n"
     ]
    },
    {
     "name": "stdout",
     "output_type": "stream",
     "text": [
      "Selecting model: Models/520f16/experimental/Session1\\520f16_MI_classifier_2019-03-20-10-05-45.sav\n",
      "Selecting model: Models/520f16/experimental/Session1\\520f16_MI_classifier_2019-03-20-10-05-34.sav\n",
      "Selecting model: Models/520f16/experimental/Session1\\520f16_MI_classifier_TL_2019-03-20-10-05-47.sav\n",
      "Selecting BCI EEG file: SaveData/520f16/Session1\\20190318140305_520f16_BCI.easy\n",
      "Selecting BCI behavioral file: SaveData/520f16/Session1\\BCI_520f16_R5.csv\n",
      "Skipping N/A\n"
     ]
    },
    {
     "name": "stderr",
     "output_type": "stream",
     "text": [
      "C:\\Users\\nile\\Anaconda3\\envs\\eeg\\lib\\site-packages\\scipy\\signal\\_arraytools.py:45: FutureWarning: Using a non-tuple sequence for multidimensional indexing is deprecated; use `arr[tuple(seq)]` instead of `arr[seq]`. In the future this will be interpreted as an array index, `arr[np.array(seq)]`, which will result either in an error or a different result.\n",
      "  b = a[a_slice]\n",
      "C:\\Users\\nile\\Anaconda3\\envs\\eeg\\lib\\site-packages\\scipy\\signal\\signaltools.py:3463: FutureWarning: Using a non-tuple sequence for multidimensional indexing is deprecated; use `arr[tuple(seq)]` instead of `arr[seq]`. In the future this will be interpreted as an array index, `arr[np.array(seq)]`, which will result either in an error or a different result.\n",
      "  return y[sl]\n"
     ]
    },
    {
     "name": "stdout",
     "output_type": "stream",
     "text": [
      "Selecting model: Models/520f16/experimental/Session1\\520f16_MI_classifier_2019-03-20-10-05-49.sav\n",
      "Selecting model: Models/520f16/experimental/Session1\\520f16_MI_classifier_2019-03-20-10-05-34.sav\n",
      "Selecting model: Models/520f16/experimental/Session1\\520f16_MI_classifier_TL_2019-03-20-10-05-51.sav\n",
      "Selecting BCI EEG file: SaveData/520f16/Session2\\20190319144302_520f16_BCI.easy\n",
      "Selecting BCI behavioral file: SaveData/520f16/Session2\\BCI_520f16_R1.csv\n",
      "Skipping N/A\n"
     ]
    },
    {
     "name": "stderr",
     "output_type": "stream",
     "text": [
      "C:\\Users\\nile\\Anaconda3\\envs\\eeg\\lib\\site-packages\\scipy\\signal\\_arraytools.py:45: FutureWarning: Using a non-tuple sequence for multidimensional indexing is deprecated; use `arr[tuple(seq)]` instead of `arr[seq]`. In the future this will be interpreted as an array index, `arr[np.array(seq)]`, which will result either in an error or a different result.\n",
      "  b = a[a_slice]\n",
      "C:\\Users\\nile\\Anaconda3\\envs\\eeg\\lib\\site-packages\\scipy\\signal\\signaltools.py:3463: FutureWarning: Using a non-tuple sequence for multidimensional indexing is deprecated; use `arr[tuple(seq)]` instead of `arr[seq]`. In the future this will be interpreted as an array index, `arr[np.array(seq)]`, which will result either in an error or a different result.\n",
      "  return y[sl]\n"
     ]
    },
    {
     "name": "stdout",
     "output_type": "stream",
     "text": [
      "Selecting model: Models/520f16/experimental/Session2\\520f16_MI_classifier_2019-03-20-10-19-19.sav\n",
      "Selecting model: Models/520f16/experimental/Session2\\520f16_MI_classifier_2019-03-20-10-19-19.sav\n",
      "Selecting model: Models/520f16/experimental/Session2\\520f16_MI_classifier_2019-03-20-10-19-19.sav\n",
      "Selecting BCI EEG file: SaveData/520f16/Session2\\20190319144803_520f16_BCI.easy\n",
      "Selecting BCI behavioral file: SaveData/520f16/Session2\\BCI_520f16_R2.csv\n",
      "Skipping N/A\n"
     ]
    },
    {
     "name": "stderr",
     "output_type": "stream",
     "text": [
      "C:\\Users\\nile\\Anaconda3\\envs\\eeg\\lib\\site-packages\\scipy\\signal\\_arraytools.py:45: FutureWarning: Using a non-tuple sequence for multidimensional indexing is deprecated; use `arr[tuple(seq)]` instead of `arr[seq]`. In the future this will be interpreted as an array index, `arr[np.array(seq)]`, which will result either in an error or a different result.\n",
      "  b = a[a_slice]\n",
      "C:\\Users\\nile\\Anaconda3\\envs\\eeg\\lib\\site-packages\\scipy\\signal\\signaltools.py:3463: FutureWarning: Using a non-tuple sequence for multidimensional indexing is deprecated; use `arr[tuple(seq)]` instead of `arr[seq]`. In the future this will be interpreted as an array index, `arr[np.array(seq)]`, which will result either in an error or a different result.\n",
      "  return y[sl]\n"
     ]
    },
    {
     "name": "stdout",
     "output_type": "stream",
     "text": [
      "Selecting model: Models/520f16/experimental/Session2\\520f16_MI_classifier_2019-03-20-10-19-23.sav\n",
      "Selecting model: Models/520f16/experimental/Session2\\520f16_MI_classifier_2019-03-20-10-19-19.sav\n",
      "Selecting model: Models/520f16/experimental/Session2\\520f16_MI_classifier_TL_2019-03-20-10-19-23.sav\n",
      "Selecting BCI EEG file: SaveData/520f16/Session2\\20190319145303_520f16_BCI.easy\n",
      "Selecting BCI behavioral file: SaveData/520f16/Session2\\BCI_520f16_R3.csv\n",
      "Skipping N/A\n"
     ]
    },
    {
     "name": "stderr",
     "output_type": "stream",
     "text": [
      "C:\\Users\\nile\\Anaconda3\\envs\\eeg\\lib\\site-packages\\scipy\\signal\\_arraytools.py:45: FutureWarning: Using a non-tuple sequence for multidimensional indexing is deprecated; use `arr[tuple(seq)]` instead of `arr[seq]`. In the future this will be interpreted as an array index, `arr[np.array(seq)]`, which will result either in an error or a different result.\n",
      "  b = a[a_slice]\n",
      "C:\\Users\\nile\\Anaconda3\\envs\\eeg\\lib\\site-packages\\scipy\\signal\\signaltools.py:3463: FutureWarning: Using a non-tuple sequence for multidimensional indexing is deprecated; use `arr[tuple(seq)]` instead of `arr[seq]`. In the future this will be interpreted as an array index, `arr[np.array(seq)]`, which will result either in an error or a different result.\n",
      "  return y[sl]\n"
     ]
    },
    {
     "name": "stdout",
     "output_type": "stream",
     "text": [
      "Selecting model: Models/520f16/experimental/Session2\\520f16_MI_classifier_2019-03-20-10-19-26.sav\n",
      "Selecting model: Models/520f16/experimental/Session2\\520f16_MI_classifier_2019-03-20-10-19-19.sav\n",
      "Selecting model: Models/520f16/experimental/Session2\\520f16_MI_classifier_TL_2019-03-20-10-19-27.sav\n",
      "Selecting BCI EEG file: SaveData/520f16/Session2\\20190319145856_520f16_BCI.easy\n",
      "Selecting BCI behavioral file: SaveData/520f16/Session2\\BCI_520f16_R4.csv\n",
      "Skipping N/A\n"
     ]
    },
    {
     "name": "stderr",
     "output_type": "stream",
     "text": [
      "C:\\Users\\nile\\Anaconda3\\envs\\eeg\\lib\\site-packages\\scipy\\signal\\_arraytools.py:45: FutureWarning: Using a non-tuple sequence for multidimensional indexing is deprecated; use `arr[tuple(seq)]` instead of `arr[seq]`. In the future this will be interpreted as an array index, `arr[np.array(seq)]`, which will result either in an error or a different result.\n",
      "  b = a[a_slice]\n",
      "C:\\Users\\nile\\Anaconda3\\envs\\eeg\\lib\\site-packages\\scipy\\signal\\signaltools.py:3463: FutureWarning: Using a non-tuple sequence for multidimensional indexing is deprecated; use `arr[tuple(seq)]` instead of `arr[seq]`. In the future this will be interpreted as an array index, `arr[np.array(seq)]`, which will result either in an error or a different result.\n",
      "  return y[sl]\n"
     ]
    },
    {
     "name": "stdout",
     "output_type": "stream",
     "text": [
      "Selecting model: Models/520f16/experimental/Session2\\520f16_MI_classifier_2019-03-20-10-19-30.sav\n",
      "Selecting model: Models/520f16/experimental/Session2\\520f16_MI_classifier_2019-03-20-10-19-19.sav\n",
      "Selecting model: Models/520f16/experimental/Session2\\520f16_MI_classifier_TL_2019-03-20-10-19-31.sav\n",
      "Selecting BCI EEG file: SaveData/520f16/Session2\\20190319150354_520f16_BCI.easy\n",
      "Selecting BCI behavioral file: SaveData/520f16/Session2\\BCI_520f16_R5.csv\n",
      "Skipping N/A\n"
     ]
    },
    {
     "name": "stderr",
     "output_type": "stream",
     "text": [
      "C:\\Users\\nile\\Anaconda3\\envs\\eeg\\lib\\site-packages\\scipy\\signal\\_arraytools.py:45: FutureWarning: Using a non-tuple sequence for multidimensional indexing is deprecated; use `arr[tuple(seq)]` instead of `arr[seq]`. In the future this will be interpreted as an array index, `arr[np.array(seq)]`, which will result either in an error or a different result.\n",
      "  b = a[a_slice]\n",
      "C:\\Users\\nile\\Anaconda3\\envs\\eeg\\lib\\site-packages\\scipy\\signal\\signaltools.py:3463: FutureWarning: Using a non-tuple sequence for multidimensional indexing is deprecated; use `arr[tuple(seq)]` instead of `arr[seq]`. In the future this will be interpreted as an array index, `arr[np.array(seq)]`, which will result either in an error or a different result.\n",
      "  return y[sl]\n"
     ]
    },
    {
     "name": "stdout",
     "output_type": "stream",
     "text": [
      "Selecting model: Models/520f16/experimental/Session2\\520f16_MI_classifier_2019-03-20-10-19-33.sav\n",
      "Selecting model: Models/520f16/experimental/Session2\\520f16_MI_classifier_2019-03-20-10-19-19.sav\n",
      "Selecting model: Models/520f16/experimental/Session2\\520f16_MI_classifier_TL_2019-03-20-10-19-35.sav\n",
      "Selecting BCI EEG file: SaveData/520f16/Session3\\20190320091131_520f16_BCI.easy\n",
      "Selecting BCI behavioral file: SaveData/520f16/Session3\\BCI_520f16_R1.csv\n",
      "Skipping N/A\n"
     ]
    },
    {
     "name": "stderr",
     "output_type": "stream",
     "text": [
      "C:\\Users\\nile\\Anaconda3\\envs\\eeg\\lib\\site-packages\\scipy\\signal\\_arraytools.py:45: FutureWarning: Using a non-tuple sequence for multidimensional indexing is deprecated; use `arr[tuple(seq)]` instead of `arr[seq]`. In the future this will be interpreted as an array index, `arr[np.array(seq)]`, which will result either in an error or a different result.\n",
      "  b = a[a_slice]\n",
      "C:\\Users\\nile\\Anaconda3\\envs\\eeg\\lib\\site-packages\\scipy\\signal\\signaltools.py:3463: FutureWarning: Using a non-tuple sequence for multidimensional indexing is deprecated; use `arr[tuple(seq)]` instead of `arr[seq]`. In the future this will be interpreted as an array index, `arr[np.array(seq)]`, which will result either in an error or a different result.\n",
      "  return y[sl]\n"
     ]
    },
    {
     "name": "stdout",
     "output_type": "stream",
     "text": [
      "Selecting model: Models/520f16/experimental/Session3\\520f16_MI_classifier_2019-03-20-10-20-56.sav\n",
      "Selecting model: Models/520f16/experimental/Session3\\520f16_MI_classifier_2019-03-20-10-20-56.sav\n",
      "Selecting model: Models/520f16/experimental/Session3\\520f16_MI_classifier_2019-03-20-10-20-56.sav\n",
      "Selecting BCI EEG file: SaveData/520f16/Session3\\20190320091652_520f16_BCI.easy\n",
      "Selecting BCI behavioral file: SaveData/520f16/Session3\\BCI_520f16_R2.csv\n",
      "Skipping N/A\n"
     ]
    },
    {
     "name": "stderr",
     "output_type": "stream",
     "text": [
      "C:\\Users\\nile\\Anaconda3\\envs\\eeg\\lib\\site-packages\\scipy\\signal\\_arraytools.py:45: FutureWarning: Using a non-tuple sequence for multidimensional indexing is deprecated; use `arr[tuple(seq)]` instead of `arr[seq]`. In the future this will be interpreted as an array index, `arr[np.array(seq)]`, which will result either in an error or a different result.\n",
      "  b = a[a_slice]\n",
      "C:\\Users\\nile\\Anaconda3\\envs\\eeg\\lib\\site-packages\\scipy\\signal\\signaltools.py:3463: FutureWarning: Using a non-tuple sequence for multidimensional indexing is deprecated; use `arr[tuple(seq)]` instead of `arr[seq]`. In the future this will be interpreted as an array index, `arr[np.array(seq)]`, which will result either in an error or a different result.\n",
      "  return y[sl]\n"
     ]
    },
    {
     "name": "stdout",
     "output_type": "stream",
     "text": [
      "Selecting model: Models/520f16/experimental/Session3\\520f16_MI_classifier_2019-03-20-10-21-00.sav\n",
      "Selecting model: Models/520f16/experimental/Session3\\520f16_MI_classifier_2019-03-20-10-20-56.sav\n",
      "Selecting model: Models/520f16/experimental/Session3\\520f16_MI_classifier_TL_2019-03-20-10-21-00.sav\n",
      "Selecting BCI EEG file: SaveData/520f16/Session3\\20190320092205_520f16_BCI.easy\n",
      "Selecting BCI behavioral file: SaveData/520f16/Session3\\BCI_520f16_R3.csv\n",
      "Skipping N/A\n"
     ]
    },
    {
     "name": "stderr",
     "output_type": "stream",
     "text": [
      "C:\\Users\\nile\\Anaconda3\\envs\\eeg\\lib\\site-packages\\scipy\\signal\\_arraytools.py:45: FutureWarning: Using a non-tuple sequence for multidimensional indexing is deprecated; use `arr[tuple(seq)]` instead of `arr[seq]`. In the future this will be interpreted as an array index, `arr[np.array(seq)]`, which will result either in an error or a different result.\n",
      "  b = a[a_slice]\n",
      "C:\\Users\\nile\\Anaconda3\\envs\\eeg\\lib\\site-packages\\scipy\\signal\\signaltools.py:3463: FutureWarning: Using a non-tuple sequence for multidimensional indexing is deprecated; use `arr[tuple(seq)]` instead of `arr[seq]`. In the future this will be interpreted as an array index, `arr[np.array(seq)]`, which will result either in an error or a different result.\n",
      "  return y[sl]\n"
     ]
    },
    {
     "name": "stdout",
     "output_type": "stream",
     "text": [
      "Selecting model: Models/520f16/experimental/Session3\\520f16_MI_classifier_2019-03-20-10-21-03.sav\n",
      "Selecting model: Models/520f16/experimental/Session3\\520f16_MI_classifier_2019-03-20-10-20-56.sav\n",
      "Selecting model: Models/520f16/experimental/Session3\\520f16_MI_classifier_TL_2019-03-20-10-21-04.sav\n",
      "Selecting BCI EEG file: SaveData/520f16/Session3\\20190320092735_520f16_BCI.easy\n",
      "Selecting BCI behavioral file: SaveData/520f16/Session3\\BCI_520f16_R4.csv\n",
      "Skipping N/A\n"
     ]
    },
    {
     "name": "stderr",
     "output_type": "stream",
     "text": [
      "C:\\Users\\nile\\Anaconda3\\envs\\eeg\\lib\\site-packages\\scipy\\signal\\_arraytools.py:45: FutureWarning: Using a non-tuple sequence for multidimensional indexing is deprecated; use `arr[tuple(seq)]` instead of `arr[seq]`. In the future this will be interpreted as an array index, `arr[np.array(seq)]`, which will result either in an error or a different result.\n",
      "  b = a[a_slice]\n",
      "C:\\Users\\nile\\Anaconda3\\envs\\eeg\\lib\\site-packages\\scipy\\signal\\signaltools.py:3463: FutureWarning: Using a non-tuple sequence for multidimensional indexing is deprecated; use `arr[tuple(seq)]` instead of `arr[seq]`. In the future this will be interpreted as an array index, `arr[np.array(seq)]`, which will result either in an error or a different result.\n",
      "  return y[sl]\n"
     ]
    },
    {
     "name": "stdout",
     "output_type": "stream",
     "text": [
      "Selecting model: Models/520f16/experimental/Session3\\520f16_MI_classifier_2019-03-20-10-21-07.sav\n",
      "Selecting model: Models/520f16/experimental/Session3\\520f16_MI_classifier_2019-03-20-10-20-56.sav\n",
      "Selecting model: Models/520f16/experimental/Session3\\520f16_MI_classifier_TL_2019-03-20-10-21-08.sav\n",
      "Selecting BCI EEG file: SaveData/520f16/Session3\\20190320093301_520f16_BCI.easy\n",
      "Selecting BCI behavioral file: SaveData/520f16/Session3\\BCI_520f16_R5.csv\n",
      "Skipping N/A\n"
     ]
    },
    {
     "name": "stderr",
     "output_type": "stream",
     "text": [
      "C:\\Users\\nile\\Anaconda3\\envs\\eeg\\lib\\site-packages\\scipy\\signal\\_arraytools.py:45: FutureWarning: Using a non-tuple sequence for multidimensional indexing is deprecated; use `arr[tuple(seq)]` instead of `arr[seq]`. In the future this will be interpreted as an array index, `arr[np.array(seq)]`, which will result either in an error or a different result.\n",
      "  b = a[a_slice]\n",
      "C:\\Users\\nile\\Anaconda3\\envs\\eeg\\lib\\site-packages\\scipy\\signal\\signaltools.py:3463: FutureWarning: Using a non-tuple sequence for multidimensional indexing is deprecated; use `arr[tuple(seq)]` instead of `arr[seq]`. In the future this will be interpreted as an array index, `arr[np.array(seq)]`, which will result either in an error or a different result.\n",
      "  return y[sl]\n"
     ]
    },
    {
     "name": "stdout",
     "output_type": "stream",
     "text": [
      "Selecting model: Models/520f16/experimental/Session3\\520f16_MI_classifier_2019-03-20-10-21-11.sav\n",
      "Selecting model: Models/520f16/experimental/Session3\\520f16_MI_classifier_2019-03-20-10-20-56.sav\n",
      "Selecting model: Models/520f16/experimental/Session3\\520f16_MI_classifier_TL_2019-03-20-10-21-12.sav\n",
      "----------------------------------------------------\n",
      "Done storing values for 520f16\n",
      "----------------------------------------------------\n",
      "Selecting BCI EEG file: SaveData/bd9e40/Session1\\20190328110532_bd9e40_BCI.easy\n",
      "Selecting BCI behavioral file: SaveData/bd9e40/Session1\\BCI_bd9e40_R1.csv\n",
      "Skipping N/A\n"
     ]
    },
    {
     "name": "stderr",
     "output_type": "stream",
     "text": [
      "C:\\Users\\nile\\Anaconda3\\envs\\eeg\\lib\\site-packages\\scipy\\signal\\_arraytools.py:45: FutureWarning: Using a non-tuple sequence for multidimensional indexing is deprecated; use `arr[tuple(seq)]` instead of `arr[seq]`. In the future this will be interpreted as an array index, `arr[np.array(seq)]`, which will result either in an error or a different result.\n",
      "  b = a[a_slice]\n",
      "C:\\Users\\nile\\Anaconda3\\envs\\eeg\\lib\\site-packages\\scipy\\signal\\signaltools.py:3463: FutureWarning: Using a non-tuple sequence for multidimensional indexing is deprecated; use `arr[tuple(seq)]` instead of `arr[seq]`. In the future this will be interpreted as an array index, `arr[np.array(seq)]`, which will result either in an error or a different result.\n",
      "  return y[sl]\n"
     ]
    },
    {
     "name": "stdout",
     "output_type": "stream",
     "text": [
      "Selecting model: Models/bd9e40/experimental/Session1\\bd9e40_MI_classifier_2019-04-01-16-53-00.sav\n",
      "Selecting model: Models/bd9e40/experimental/Session1\\bd9e40_MI_classifier_2019-04-01-16-53-00.sav\n",
      "Selecting model: Models/bd9e40/experimental/Session1\\bd9e40_MI_classifier_2019-04-01-16-53-00.sav\n",
      "Selecting BCI EEG file: SaveData/bd9e40/Session1\\20190328111043_bd9e40_BCI.easy\n",
      "Selecting BCI behavioral file: SaveData/bd9e40/Session1\\BCI_bd9e40_R2.csv\n",
      "Skipping N/A\n"
     ]
    },
    {
     "name": "stderr",
     "output_type": "stream",
     "text": [
      "C:\\Users\\nile\\Anaconda3\\envs\\eeg\\lib\\site-packages\\scipy\\signal\\_arraytools.py:45: FutureWarning: Using a non-tuple sequence for multidimensional indexing is deprecated; use `arr[tuple(seq)]` instead of `arr[seq]`. In the future this will be interpreted as an array index, `arr[np.array(seq)]`, which will result either in an error or a different result.\n",
      "  b = a[a_slice]\n",
      "C:\\Users\\nile\\Anaconda3\\envs\\eeg\\lib\\site-packages\\scipy\\signal\\signaltools.py:3463: FutureWarning: Using a non-tuple sequence for multidimensional indexing is deprecated; use `arr[tuple(seq)]` instead of `arr[seq]`. In the future this will be interpreted as an array index, `arr[np.array(seq)]`, which will result either in an error or a different result.\n",
      "  return y[sl]\n"
     ]
    },
    {
     "name": "stdout",
     "output_type": "stream",
     "text": [
      "Selecting model: Models/bd9e40/experimental/Session1\\bd9e40_MI_classifier_2019-04-01-16-53-04.sav\n",
      "Selecting model: Models/bd9e40/experimental/Session1\\bd9e40_MI_classifier_2019-04-01-16-53-00.sav\n",
      "Selecting model: Models/bd9e40/experimental/Session1\\bd9e40_MI_classifier_TL_2019-04-01-16-53-04.sav\n",
      "Selecting BCI EEG file: SaveData/bd9e40/Session1\\20190328111549_bd9e40_BCI.easy\n",
      "Selecting BCI behavioral file: SaveData/bd9e40/Session1\\BCI_bd9e40_R3.csv\n",
      "Skipping N/A\n"
     ]
    },
    {
     "name": "stderr",
     "output_type": "stream",
     "text": [
      "C:\\Users\\nile\\Anaconda3\\envs\\eeg\\lib\\site-packages\\scipy\\signal\\_arraytools.py:45: FutureWarning: Using a non-tuple sequence for multidimensional indexing is deprecated; use `arr[tuple(seq)]` instead of `arr[seq]`. In the future this will be interpreted as an array index, `arr[np.array(seq)]`, which will result either in an error or a different result.\n",
      "  b = a[a_slice]\n",
      "C:\\Users\\nile\\Anaconda3\\envs\\eeg\\lib\\site-packages\\scipy\\signal\\signaltools.py:3463: FutureWarning: Using a non-tuple sequence for multidimensional indexing is deprecated; use `arr[tuple(seq)]` instead of `arr[seq]`. In the future this will be interpreted as an array index, `arr[np.array(seq)]`, which will result either in an error or a different result.\n",
      "  return y[sl]\n"
     ]
    },
    {
     "name": "stdout",
     "output_type": "stream",
     "text": [
      "Selecting model: Models/bd9e40/experimental/Session1\\bd9e40_MI_classifier_2019-04-01-16-53-07.sav\n",
      "Selecting model: Models/bd9e40/experimental/Session1\\bd9e40_MI_classifier_2019-04-01-16-53-00.sav\n",
      "Selecting model: Models/bd9e40/experimental/Session1\\bd9e40_MI_classifier_TL_2019-04-01-16-53-08.sav\n",
      "Selecting BCI EEG file: SaveData/bd9e40/Session1\\20190328112123_bd9e40_BCI.easy\n",
      "Selecting BCI behavioral file: SaveData/bd9e40/Session1\\BCI_bd9e40_R4.csv\n",
      "Skipping N/A\n"
     ]
    },
    {
     "name": "stderr",
     "output_type": "stream",
     "text": [
      "C:\\Users\\nile\\Anaconda3\\envs\\eeg\\lib\\site-packages\\scipy\\signal\\_arraytools.py:45: FutureWarning: Using a non-tuple sequence for multidimensional indexing is deprecated; use `arr[tuple(seq)]` instead of `arr[seq]`. In the future this will be interpreted as an array index, `arr[np.array(seq)]`, which will result either in an error or a different result.\n",
      "  b = a[a_slice]\n",
      "C:\\Users\\nile\\Anaconda3\\envs\\eeg\\lib\\site-packages\\scipy\\signal\\signaltools.py:3463: FutureWarning: Using a non-tuple sequence for multidimensional indexing is deprecated; use `arr[tuple(seq)]` instead of `arr[seq]`. In the future this will be interpreted as an array index, `arr[np.array(seq)]`, which will result either in an error or a different result.\n",
      "  return y[sl]\n"
     ]
    },
    {
     "name": "stdout",
     "output_type": "stream",
     "text": [
      "Selecting model: Models/bd9e40/experimental/Session1\\bd9e40_MI_classifier_2019-04-01-16-53-11.sav\n",
      "Selecting model: Models/bd9e40/experimental/Session1\\bd9e40_MI_classifier_2019-04-01-16-53-00.sav\n",
      "Selecting model: Models/bd9e40/experimental/Session1\\bd9e40_MI_classifier_TL_2019-04-01-16-53-12.sav\n",
      "Selecting BCI EEG file: SaveData/bd9e40/Session1\\20190328112633_bd9e40_BCI.easy\n",
      "Selecting BCI behavioral file: SaveData/bd9e40/Session1\\BCI_bd9e40_R5.csv\n",
      "Skipping N/A\n"
     ]
    },
    {
     "name": "stderr",
     "output_type": "stream",
     "text": [
      "C:\\Users\\nile\\Anaconda3\\envs\\eeg\\lib\\site-packages\\scipy\\signal\\_arraytools.py:45: FutureWarning: Using a non-tuple sequence for multidimensional indexing is deprecated; use `arr[tuple(seq)]` instead of `arr[seq]`. In the future this will be interpreted as an array index, `arr[np.array(seq)]`, which will result either in an error or a different result.\n",
      "  b = a[a_slice]\n",
      "C:\\Users\\nile\\Anaconda3\\envs\\eeg\\lib\\site-packages\\scipy\\signal\\signaltools.py:3463: FutureWarning: Using a non-tuple sequence for multidimensional indexing is deprecated; use `arr[tuple(seq)]` instead of `arr[seq]`. In the future this will be interpreted as an array index, `arr[np.array(seq)]`, which will result either in an error or a different result.\n",
      "  return y[sl]\n"
     ]
    },
    {
     "name": "stdout",
     "output_type": "stream",
     "text": [
      "Selecting model: Models/bd9e40/experimental/Session1\\bd9e40_MI_classifier_2019-04-01-16-53-15.sav\n",
      "Selecting model: Models/bd9e40/experimental/Session1\\bd9e40_MI_classifier_2019-04-01-16-53-00.sav\n",
      "Selecting model: Models/bd9e40/experimental/Session1\\bd9e40_MI_classifier_TL_2019-04-01-16-53-17.sav\n",
      "Selecting BCI EEG file: SaveData/bd9e40/Session2\\20190329104248_bd9e40_BCI.easy\n",
      "Selecting BCI behavioral file: SaveData/bd9e40/Session2\\BCI_bd9e40_R1.csv\n",
      "Skipping N/A\n"
     ]
    },
    {
     "name": "stderr",
     "output_type": "stream",
     "text": [
      "C:\\Users\\nile\\Anaconda3\\envs\\eeg\\lib\\site-packages\\scipy\\signal\\_arraytools.py:45: FutureWarning: Using a non-tuple sequence for multidimensional indexing is deprecated; use `arr[tuple(seq)]` instead of `arr[seq]`. In the future this will be interpreted as an array index, `arr[np.array(seq)]`, which will result either in an error or a different result.\n",
      "  b = a[a_slice]\n",
      "C:\\Users\\nile\\Anaconda3\\envs\\eeg\\lib\\site-packages\\scipy\\signal\\signaltools.py:3463: FutureWarning: Using a non-tuple sequence for multidimensional indexing is deprecated; use `arr[tuple(seq)]` instead of `arr[seq]`. In the future this will be interpreted as an array index, `arr[np.array(seq)]`, which will result either in an error or a different result.\n",
      "  return y[sl]\n"
     ]
    },
    {
     "name": "stdout",
     "output_type": "stream",
     "text": [
      "Selecting model: Models/bd9e40/experimental/Session2\\bd9e40_MI_classifier_2019-04-01-16-54-45.sav\n",
      "Selecting model: Models/bd9e40/experimental/Session2\\bd9e40_MI_classifier_2019-04-01-16-54-45.sav\n",
      "Selecting model: Models/bd9e40/experimental/Session2\\bd9e40_MI_classifier_2019-04-01-16-54-45.sav\n",
      "Selecting BCI EEG file: SaveData/bd9e40/Session2\\20190329104810_bd9e40_BCI.easy\n",
      "Selecting BCI behavioral file: SaveData/bd9e40/Session2\\BCI_bd9e40_R2.csv\n",
      "Skipping N/A\n"
     ]
    },
    {
     "name": "stderr",
     "output_type": "stream",
     "text": [
      "C:\\Users\\nile\\Anaconda3\\envs\\eeg\\lib\\site-packages\\scipy\\signal\\_arraytools.py:45: FutureWarning: Using a non-tuple sequence for multidimensional indexing is deprecated; use `arr[tuple(seq)]` instead of `arr[seq]`. In the future this will be interpreted as an array index, `arr[np.array(seq)]`, which will result either in an error or a different result.\n",
      "  b = a[a_slice]\n",
      "C:\\Users\\nile\\Anaconda3\\envs\\eeg\\lib\\site-packages\\scipy\\signal\\signaltools.py:3463: FutureWarning: Using a non-tuple sequence for multidimensional indexing is deprecated; use `arr[tuple(seq)]` instead of `arr[seq]`. In the future this will be interpreted as an array index, `arr[np.array(seq)]`, which will result either in an error or a different result.\n",
      "  return y[sl]\n"
     ]
    },
    {
     "name": "stdout",
     "output_type": "stream",
     "text": [
      "Selecting model: Models/bd9e40/experimental/Session2\\bd9e40_MI_classifier_2019-04-01-16-54-50.sav\n",
      "Selecting model: Models/bd9e40/experimental/Session2\\bd9e40_MI_classifier_2019-04-01-16-54-45.sav\n",
      "Selecting model: Models/bd9e40/experimental/Session2\\bd9e40_MI_classifier_TL_2019-04-01-16-54-50.sav\n",
      "Selecting BCI EEG file: SaveData/bd9e40/Session2\\20190329105337_bd9e40_BCI.easy\n",
      "Selecting BCI behavioral file: SaveData/bd9e40/Session2\\BCI_bd9e40_R3.csv\n",
      "Skipping N/A\n"
     ]
    },
    {
     "name": "stderr",
     "output_type": "stream",
     "text": [
      "C:\\Users\\nile\\Anaconda3\\envs\\eeg\\lib\\site-packages\\scipy\\signal\\_arraytools.py:45: FutureWarning: Using a non-tuple sequence for multidimensional indexing is deprecated; use `arr[tuple(seq)]` instead of `arr[seq]`. In the future this will be interpreted as an array index, `arr[np.array(seq)]`, which will result either in an error or a different result.\n",
      "  b = a[a_slice]\n",
      "C:\\Users\\nile\\Anaconda3\\envs\\eeg\\lib\\site-packages\\scipy\\signal\\signaltools.py:3463: FutureWarning: Using a non-tuple sequence for multidimensional indexing is deprecated; use `arr[tuple(seq)]` instead of `arr[seq]`. In the future this will be interpreted as an array index, `arr[np.array(seq)]`, which will result either in an error or a different result.\n",
      "  return y[sl]\n"
     ]
    },
    {
     "name": "stdout",
     "output_type": "stream",
     "text": [
      "Selecting model: Models/bd9e40/experimental/Session2\\bd9e40_MI_classifier_2019-04-01-16-54-53.sav\n",
      "Selecting model: Models/bd9e40/experimental/Session2\\bd9e40_MI_classifier_2019-04-01-16-54-45.sav\n",
      "Selecting model: Models/bd9e40/experimental/Session2\\bd9e40_MI_classifier_TL_2019-04-01-16-54-54.sav\n",
      "Selecting BCI EEG file: SaveData/bd9e40/Session2\\20190329105920_bd9e40_BCI.easy\n",
      "Selecting BCI behavioral file: SaveData/bd9e40/Session2\\BCI_bd9e40_R4.csv\n",
      "Skipping N/A\n"
     ]
    },
    {
     "name": "stderr",
     "output_type": "stream",
     "text": [
      "C:\\Users\\nile\\Anaconda3\\envs\\eeg\\lib\\site-packages\\scipy\\signal\\_arraytools.py:45: FutureWarning: Using a non-tuple sequence for multidimensional indexing is deprecated; use `arr[tuple(seq)]` instead of `arr[seq]`. In the future this will be interpreted as an array index, `arr[np.array(seq)]`, which will result either in an error or a different result.\n",
      "  b = a[a_slice]\n",
      "C:\\Users\\nile\\Anaconda3\\envs\\eeg\\lib\\site-packages\\scipy\\signal\\signaltools.py:3463: FutureWarning: Using a non-tuple sequence for multidimensional indexing is deprecated; use `arr[tuple(seq)]` instead of `arr[seq]`. In the future this will be interpreted as an array index, `arr[np.array(seq)]`, which will result either in an error or a different result.\n",
      "  return y[sl]\n"
     ]
    },
    {
     "name": "stdout",
     "output_type": "stream",
     "text": [
      "Selecting model: Models/bd9e40/experimental/Session2\\bd9e40_MI_classifier_2019-04-01-16-54-57.sav\n",
      "Selecting model: Models/bd9e40/experimental/Session2\\bd9e40_MI_classifier_2019-04-01-16-54-45.sav\n",
      "Selecting model: Models/bd9e40/experimental/Session2\\bd9e40_MI_classifier_TL_2019-04-01-16-54-58.sav\n",
      "Selecting BCI EEG file: SaveData/bd9e40/Session2\\20190329110428_bd9e40_BCI.easy\n",
      "Selecting BCI behavioral file: SaveData/bd9e40/Session2\\BCI_bd9e40_R5.csv\n",
      "Skipping N/A\n"
     ]
    },
    {
     "name": "stderr",
     "output_type": "stream",
     "text": [
      "C:\\Users\\nile\\Anaconda3\\envs\\eeg\\lib\\site-packages\\scipy\\signal\\_arraytools.py:45: FutureWarning: Using a non-tuple sequence for multidimensional indexing is deprecated; use `arr[tuple(seq)]` instead of `arr[seq]`. In the future this will be interpreted as an array index, `arr[np.array(seq)]`, which will result either in an error or a different result.\n",
      "  b = a[a_slice]\n",
      "C:\\Users\\nile\\Anaconda3\\envs\\eeg\\lib\\site-packages\\scipy\\signal\\signaltools.py:3463: FutureWarning: Using a non-tuple sequence for multidimensional indexing is deprecated; use `arr[tuple(seq)]` instead of `arr[seq]`. In the future this will be interpreted as an array index, `arr[np.array(seq)]`, which will result either in an error or a different result.\n",
      "  return y[sl]\n"
     ]
    },
    {
     "name": "stdout",
     "output_type": "stream",
     "text": [
      "Selecting model: Models/bd9e40/experimental/Session2\\bd9e40_MI_classifier_2019-04-01-16-55-01.sav\n",
      "Selecting model: Models/bd9e40/experimental/Session2\\bd9e40_MI_classifier_2019-04-01-16-54-45.sav\n",
      "Selecting model: Models/bd9e40/experimental/Session2\\bd9e40_MI_classifier_TL_2019-04-01-16-55-03.sav\n",
      "Selecting BCI EEG file: SaveData/bd9e40/Session3\\20190401161742_bd9e40_BCI.easy\n",
      "Selecting BCI behavioral file: SaveData/bd9e40/Session3\\BCI_bd9e40_R1.csv\n",
      "Skipping N/A\n"
     ]
    },
    {
     "name": "stderr",
     "output_type": "stream",
     "text": [
      "C:\\Users\\nile\\Anaconda3\\envs\\eeg\\lib\\site-packages\\scipy\\signal\\_arraytools.py:45: FutureWarning: Using a non-tuple sequence for multidimensional indexing is deprecated; use `arr[tuple(seq)]` instead of `arr[seq]`. In the future this will be interpreted as an array index, `arr[np.array(seq)]`, which will result either in an error or a different result.\n",
      "  b = a[a_slice]\n",
      "C:\\Users\\nile\\Anaconda3\\envs\\eeg\\lib\\site-packages\\scipy\\signal\\signaltools.py:3463: FutureWarning: Using a non-tuple sequence for multidimensional indexing is deprecated; use `arr[tuple(seq)]` instead of `arr[seq]`. In the future this will be interpreted as an array index, `arr[np.array(seq)]`, which will result either in an error or a different result.\n",
      "  return y[sl]\n"
     ]
    },
    {
     "name": "stdout",
     "output_type": "stream",
     "text": [
      "Selecting model: Models/bd9e40/experimental/Session3\\bd9e40_MI_classifier_2019-04-01-16-56-43.sav\n",
      "Selecting model: Models/bd9e40/experimental/Session3\\bd9e40_MI_classifier_2019-04-01-16-56-43.sav\n",
      "Selecting model: Models/bd9e40/experimental/Session3\\bd9e40_MI_classifier_2019-04-01-16-56-43.sav\n",
      "Selecting BCI EEG file: SaveData/bd9e40/Session3\\20190401162311_bd9e40_BCI.easy\n",
      "Selecting BCI behavioral file: SaveData/bd9e40/Session3\\BCI_bd9e40_R2.csv\n",
      "Skipping N/A\n"
     ]
    },
    {
     "name": "stderr",
     "output_type": "stream",
     "text": [
      "C:\\Users\\nile\\Anaconda3\\envs\\eeg\\lib\\site-packages\\scipy\\signal\\_arraytools.py:45: FutureWarning: Using a non-tuple sequence for multidimensional indexing is deprecated; use `arr[tuple(seq)]` instead of `arr[seq]`. In the future this will be interpreted as an array index, `arr[np.array(seq)]`, which will result either in an error or a different result.\n",
      "  b = a[a_slice]\n",
      "C:\\Users\\nile\\Anaconda3\\envs\\eeg\\lib\\site-packages\\scipy\\signal\\signaltools.py:3463: FutureWarning: Using a non-tuple sequence for multidimensional indexing is deprecated; use `arr[tuple(seq)]` instead of `arr[seq]`. In the future this will be interpreted as an array index, `arr[np.array(seq)]`, which will result either in an error or a different result.\n",
      "  return y[sl]\n"
     ]
    },
    {
     "name": "stdout",
     "output_type": "stream",
     "text": [
      "Selecting model: Models/bd9e40/experimental/Session3\\bd9e40_MI_classifier_2019-04-01-16-56-47.sav\n",
      "Selecting model: Models/bd9e40/experimental/Session3\\bd9e40_MI_classifier_2019-04-01-16-56-43.sav\n",
      "Selecting model: Models/bd9e40/experimental/Session3\\bd9e40_MI_classifier_TL_2019-04-01-16-56-48.sav\n",
      "Selecting BCI EEG file: SaveData/bd9e40/Session3\\20190401162839_bd9e40_BCI.easy\n",
      "Selecting BCI behavioral file: SaveData/bd9e40/Session3\\BCI_bd9e40_R3.csv\n",
      "Skipping N/A\n"
     ]
    },
    {
     "name": "stderr",
     "output_type": "stream",
     "text": [
      "C:\\Users\\nile\\Anaconda3\\envs\\eeg\\lib\\site-packages\\scipy\\signal\\_arraytools.py:45: FutureWarning: Using a non-tuple sequence for multidimensional indexing is deprecated; use `arr[tuple(seq)]` instead of `arr[seq]`. In the future this will be interpreted as an array index, `arr[np.array(seq)]`, which will result either in an error or a different result.\n",
      "  b = a[a_slice]\n",
      "C:\\Users\\nile\\Anaconda3\\envs\\eeg\\lib\\site-packages\\scipy\\signal\\signaltools.py:3463: FutureWarning: Using a non-tuple sequence for multidimensional indexing is deprecated; use `arr[tuple(seq)]` instead of `arr[seq]`. In the future this will be interpreted as an array index, `arr[np.array(seq)]`, which will result either in an error or a different result.\n",
      "  return y[sl]\n"
     ]
    },
    {
     "name": "stdout",
     "output_type": "stream",
     "text": [
      "Selecting model: Models/bd9e40/experimental/Session3\\bd9e40_MI_classifier_2019-04-01-16-56-50.sav\n",
      "Selecting model: Models/bd9e40/experimental/Session3\\bd9e40_MI_classifier_2019-04-01-16-56-43.sav\n",
      "Selecting model: Models/bd9e40/experimental/Session3\\bd9e40_MI_classifier_TL_2019-04-01-16-56-52.sav\n",
      "Selecting BCI EEG file: SaveData/bd9e40/Session3\\20190401163358_bd9e40_BCI.easy\n",
      "Selecting BCI behavioral file: SaveData/bd9e40/Session3\\BCI_bd9e40_R4.csv\n",
      "Skipping N/A\n"
     ]
    },
    {
     "name": "stderr",
     "output_type": "stream",
     "text": [
      "C:\\Users\\nile\\Anaconda3\\envs\\eeg\\lib\\site-packages\\scipy\\signal\\_arraytools.py:45: FutureWarning: Using a non-tuple sequence for multidimensional indexing is deprecated; use `arr[tuple(seq)]` instead of `arr[seq]`. In the future this will be interpreted as an array index, `arr[np.array(seq)]`, which will result either in an error or a different result.\n",
      "  b = a[a_slice]\n",
      "C:\\Users\\nile\\Anaconda3\\envs\\eeg\\lib\\site-packages\\scipy\\signal\\signaltools.py:3463: FutureWarning: Using a non-tuple sequence for multidimensional indexing is deprecated; use `arr[tuple(seq)]` instead of `arr[seq]`. In the future this will be interpreted as an array index, `arr[np.array(seq)]`, which will result either in an error or a different result.\n",
      "  return y[sl]\n"
     ]
    },
    {
     "name": "stdout",
     "output_type": "stream",
     "text": [
      "Selecting model: Models/bd9e40/experimental/Session3\\bd9e40_MI_classifier_2019-04-01-16-56-55.sav\n",
      "Selecting model: Models/bd9e40/experimental/Session3\\bd9e40_MI_classifier_2019-04-01-16-56-43.sav\n",
      "Selecting model: Models/bd9e40/experimental/Session3\\bd9e40_MI_classifier_TL_2019-04-01-16-56-56.sav\n",
      "Selecting BCI EEG file: SaveData/bd9e40/Session3\\20190401163919_bd9e40_BCI.easy\n",
      "Selecting BCI behavioral file: SaveData/bd9e40/Session3\\BCI_bd9e40_R5.csv\n",
      "Skipping N/A\n"
     ]
    },
    {
     "name": "stderr",
     "output_type": "stream",
     "text": [
      "C:\\Users\\nile\\Anaconda3\\envs\\eeg\\lib\\site-packages\\scipy\\signal\\_arraytools.py:45: FutureWarning: Using a non-tuple sequence for multidimensional indexing is deprecated; use `arr[tuple(seq)]` instead of `arr[seq]`. In the future this will be interpreted as an array index, `arr[np.array(seq)]`, which will result either in an error or a different result.\n",
      "  b = a[a_slice]\n",
      "C:\\Users\\nile\\Anaconda3\\envs\\eeg\\lib\\site-packages\\scipy\\signal\\signaltools.py:3463: FutureWarning: Using a non-tuple sequence for multidimensional indexing is deprecated; use `arr[tuple(seq)]` instead of `arr[seq]`. In the future this will be interpreted as an array index, `arr[np.array(seq)]`, which will result either in an error or a different result.\n",
      "  return y[sl]\n"
     ]
    },
    {
     "name": "stdout",
     "output_type": "stream",
     "text": [
      "Selecting model: Models/bd9e40/experimental/Session3\\bd9e40_MI_classifier_2019-04-01-16-56-59.sav\n",
      "Selecting model: Models/bd9e40/experimental/Session3\\bd9e40_MI_classifier_2019-04-01-16-56-43.sav\n",
      "Selecting model: Models/bd9e40/experimental/Session3\\bd9e40_MI_classifier_TL_2019-04-01-16-57-00.sav\n",
      "----------------------------------------------------\n",
      "Done storing values for bd9e40\n",
      "----------------------------------------------------\n",
      "Selecting BCI EEG file: SaveData/c37099/Session1\\20190402134405_c37099_BCI.easy\n",
      "Selecting BCI behavioral file: SaveData/c37099/Session1\\BCI_c37099_R1.csv\n",
      "Skipping N/A\n"
     ]
    },
    {
     "name": "stderr",
     "output_type": "stream",
     "text": [
      "C:\\Users\\nile\\Anaconda3\\envs\\eeg\\lib\\site-packages\\scipy\\signal\\_arraytools.py:45: FutureWarning: Using a non-tuple sequence for multidimensional indexing is deprecated; use `arr[tuple(seq)]` instead of `arr[seq]`. In the future this will be interpreted as an array index, `arr[np.array(seq)]`, which will result either in an error or a different result.\n",
      "  b = a[a_slice]\n",
      "C:\\Users\\nile\\Anaconda3\\envs\\eeg\\lib\\site-packages\\scipy\\signal\\signaltools.py:3463: FutureWarning: Using a non-tuple sequence for multidimensional indexing is deprecated; use `arr[tuple(seq)]` instead of `arr[seq]`. In the future this will be interpreted as an array index, `arr[np.array(seq)]`, which will result either in an error or a different result.\n",
      "  return y[sl]\n"
     ]
    },
    {
     "name": "stdout",
     "output_type": "stream",
     "text": [
      "Selecting model: Models/c37099/experimental/Session1\\c37099_MI_classifier_2019-04-05-13-46-25.sav\n",
      "Selecting model: Models/c37099/experimental/Session1\\c37099_MI_classifier_2019-04-05-13-46-25.sav\n",
      "Selecting model: Models/c37099/experimental/Session1\\c37099_MI_classifier_2019-04-05-13-46-25.sav\n",
      "Selecting BCI EEG file: SaveData/c37099/Session1\\20190402134932_c37099_BCI.easy\n",
      "Selecting BCI behavioral file: SaveData/c37099/Session1\\BCI_c37099_R2.csv\n",
      "Skipping N/A\n"
     ]
    },
    {
     "name": "stderr",
     "output_type": "stream",
     "text": [
      "C:\\Users\\nile\\Anaconda3\\envs\\eeg\\lib\\site-packages\\scipy\\signal\\_arraytools.py:45: FutureWarning: Using a non-tuple sequence for multidimensional indexing is deprecated; use `arr[tuple(seq)]` instead of `arr[seq]`. In the future this will be interpreted as an array index, `arr[np.array(seq)]`, which will result either in an error or a different result.\n",
      "  b = a[a_slice]\n",
      "C:\\Users\\nile\\Anaconda3\\envs\\eeg\\lib\\site-packages\\scipy\\signal\\signaltools.py:3463: FutureWarning: Using a non-tuple sequence for multidimensional indexing is deprecated; use `arr[tuple(seq)]` instead of `arr[seq]`. In the future this will be interpreted as an array index, `arr[np.array(seq)]`, which will result either in an error or a different result.\n",
      "  return y[sl]\n"
     ]
    },
    {
     "name": "stdout",
     "output_type": "stream",
     "text": [
      "Selecting model: Models/c37099/experimental/Session1\\c37099_MI_classifier_2019-04-05-13-46-25.sav\n",
      "Selecting model: Models/c37099/experimental/Session1\\c37099_MI_classifier_2019-04-05-13-46-29.sav\n",
      "Selecting model: Models/c37099/experimental/Session1\\c37099_MI_classifier_TL_2019-04-05-13-46-30.sav\n",
      "Selecting BCI EEG file: SaveData/c37099/Session1\\20190402135441_c37099_BCI.easy\n",
      "Selecting BCI behavioral file: SaveData/c37099/Session1\\BCI_c37099_R3.csv\n",
      "Skipping N/A\n"
     ]
    },
    {
     "name": "stderr",
     "output_type": "stream",
     "text": [
      "C:\\Users\\nile\\Anaconda3\\envs\\eeg\\lib\\site-packages\\scipy\\signal\\_arraytools.py:45: FutureWarning: Using a non-tuple sequence for multidimensional indexing is deprecated; use `arr[tuple(seq)]` instead of `arr[seq]`. In the future this will be interpreted as an array index, `arr[np.array(seq)]`, which will result either in an error or a different result.\n",
      "  b = a[a_slice]\n",
      "C:\\Users\\nile\\Anaconda3\\envs\\eeg\\lib\\site-packages\\scipy\\signal\\signaltools.py:3463: FutureWarning: Using a non-tuple sequence for multidimensional indexing is deprecated; use `arr[tuple(seq)]` instead of `arr[seq]`. In the future this will be interpreted as an array index, `arr[np.array(seq)]`, which will result either in an error or a different result.\n",
      "  return y[sl]\n"
     ]
    },
    {
     "name": "stdout",
     "output_type": "stream",
     "text": [
      "Selecting model: Models/c37099/experimental/Session1\\c37099_MI_classifier_2019-04-05-13-46-25.sav\n",
      "Selecting model: Models/c37099/experimental/Session1\\c37099_MI_classifier_2019-04-05-13-46-32.sav\n",
      "Selecting model: Models/c37099/experimental/Session1\\c37099_MI_classifier_TL_2019-04-05-13-46-34.sav\n",
      "Selecting BCI EEG file: SaveData/c37099/Session1\\20190402135945_c37099_BCI.easy\n",
      "Selecting BCI behavioral file: SaveData/c37099/Session1\\BCI_c37099_R4.csv\n",
      "Skipping N/A\n"
     ]
    },
    {
     "name": "stderr",
     "output_type": "stream",
     "text": [
      "C:\\Users\\nile\\Anaconda3\\envs\\eeg\\lib\\site-packages\\scipy\\signal\\_arraytools.py:45: FutureWarning: Using a non-tuple sequence for multidimensional indexing is deprecated; use `arr[tuple(seq)]` instead of `arr[seq]`. In the future this will be interpreted as an array index, `arr[np.array(seq)]`, which will result either in an error or a different result.\n",
      "  b = a[a_slice]\n",
      "C:\\Users\\nile\\Anaconda3\\envs\\eeg\\lib\\site-packages\\scipy\\signal\\signaltools.py:3463: FutureWarning: Using a non-tuple sequence for multidimensional indexing is deprecated; use `arr[tuple(seq)]` instead of `arr[seq]`. In the future this will be interpreted as an array index, `arr[np.array(seq)]`, which will result either in an error or a different result.\n",
      "  return y[sl]\n"
     ]
    },
    {
     "name": "stdout",
     "output_type": "stream",
     "text": [
      "Selecting model: Models/c37099/experimental/Session1\\c37099_MI_classifier_2019-04-05-13-46-25.sav\n",
      "Selecting model: Models/c37099/experimental/Session1\\c37099_MI_classifier_2019-04-05-13-46-36.sav\n",
      "Selecting model: Models/c37099/experimental/Session1\\c37099_MI_classifier_TL_2019-04-05-13-46-37.sav\n",
      "Selecting BCI EEG file: SaveData/c37099/Session1\\20190402140431_c37099_BCI.easy\n",
      "Selecting BCI behavioral file: SaveData/c37099/Session1\\BCI_c37099_R5.csv\n",
      "Skipping N/A\n"
     ]
    },
    {
     "name": "stderr",
     "output_type": "stream",
     "text": [
      "C:\\Users\\nile\\Anaconda3\\envs\\eeg\\lib\\site-packages\\scipy\\signal\\_arraytools.py:45: FutureWarning: Using a non-tuple sequence for multidimensional indexing is deprecated; use `arr[tuple(seq)]` instead of `arr[seq]`. In the future this will be interpreted as an array index, `arr[np.array(seq)]`, which will result either in an error or a different result.\n",
      "  b = a[a_slice]\n",
      "C:\\Users\\nile\\Anaconda3\\envs\\eeg\\lib\\site-packages\\scipy\\signal\\signaltools.py:3463: FutureWarning: Using a non-tuple sequence for multidimensional indexing is deprecated; use `arr[tuple(seq)]` instead of `arr[seq]`. In the future this will be interpreted as an array index, `arr[np.array(seq)]`, which will result either in an error or a different result.\n",
      "  return y[sl]\n"
     ]
    },
    {
     "name": "stdout",
     "output_type": "stream",
     "text": [
      "Selecting model: Models/c37099/experimental/Session1\\c37099_MI_classifier_2019-04-05-13-46-25.sav\n",
      "Selecting model: Models/c37099/experimental/Session1\\c37099_MI_classifier_2019-04-05-13-46-40.sav\n",
      "Selecting model: Models/c37099/experimental/Session1\\c37099_MI_classifier_TL_2019-04-05-13-46-41.sav\n",
      "Selecting BCI EEG file: SaveData/c37099/Session2\\20190404091534_c37099_BCI.easy\n",
      "Selecting BCI behavioral file: SaveData/c37099/Session2\\BCI_c37099_R1.csv\n",
      "Skipping N/A\n"
     ]
    },
    {
     "name": "stderr",
     "output_type": "stream",
     "text": [
      "C:\\Users\\nile\\Anaconda3\\envs\\eeg\\lib\\site-packages\\scipy\\signal\\_arraytools.py:45: FutureWarning: Using a non-tuple sequence for multidimensional indexing is deprecated; use `arr[tuple(seq)]` instead of `arr[seq]`. In the future this will be interpreted as an array index, `arr[np.array(seq)]`, which will result either in an error or a different result.\n",
      "  b = a[a_slice]\n",
      "C:\\Users\\nile\\Anaconda3\\envs\\eeg\\lib\\site-packages\\scipy\\signal\\signaltools.py:3463: FutureWarning: Using a non-tuple sequence for multidimensional indexing is deprecated; use `arr[tuple(seq)]` instead of `arr[seq]`. In the future this will be interpreted as an array index, `arr[np.array(seq)]`, which will result either in an error or a different result.\n",
      "  return y[sl]\n"
     ]
    },
    {
     "name": "stdout",
     "output_type": "stream",
     "text": [
      "Selecting model: Models/c37099/experimental/Session2\\c37099_MI_classifier_2019-04-05-13-48-05.sav\n",
      "Selecting model: Models/c37099/experimental/Session2\\c37099_MI_classifier_2019-04-05-13-48-05.sav\n",
      "Selecting model: Models/c37099/experimental/Session2\\c37099_MI_classifier_2019-04-05-13-48-05.sav\n",
      "Selecting BCI EEG file: SaveData/c37099/Session2\\20190404092044_c37099_BCI.easy\n",
      "Selecting BCI behavioral file: SaveData/c37099/Session2\\BCI_c37099_R2.csv\n",
      "Skipping N/A\n"
     ]
    },
    {
     "name": "stderr",
     "output_type": "stream",
     "text": [
      "C:\\Users\\nile\\Anaconda3\\envs\\eeg\\lib\\site-packages\\scipy\\signal\\_arraytools.py:45: FutureWarning: Using a non-tuple sequence for multidimensional indexing is deprecated; use `arr[tuple(seq)]` instead of `arr[seq]`. In the future this will be interpreted as an array index, `arr[np.array(seq)]`, which will result either in an error or a different result.\n",
      "  b = a[a_slice]\n",
      "C:\\Users\\nile\\Anaconda3\\envs\\eeg\\lib\\site-packages\\scipy\\signal\\signaltools.py:3463: FutureWarning: Using a non-tuple sequence for multidimensional indexing is deprecated; use `arr[tuple(seq)]` instead of `arr[seq]`. In the future this will be interpreted as an array index, `arr[np.array(seq)]`, which will result either in an error or a different result.\n",
      "  return y[sl]\n"
     ]
    },
    {
     "name": "stdout",
     "output_type": "stream",
     "text": [
      "Selecting model: Models/c37099/experimental/Session2\\c37099_MI_classifier_2019-04-05-13-48-05.sav\n",
      "Selecting model: Models/c37099/experimental/Session2\\c37099_MI_classifier_2019-04-05-13-48-09.sav\n",
      "Selecting model: Models/c37099/experimental/Session2\\c37099_MI_classifier_TL_2019-04-05-13-48-09.sav\n",
      "Selecting BCI EEG file: SaveData/c37099/Session2\\20190404092558_c37099_BCI.easy\n",
      "Selecting BCI behavioral file: SaveData/c37099/Session2\\BCI_c37099_R3.csv\n",
      "Skipping N/A\n"
     ]
    },
    {
     "name": "stderr",
     "output_type": "stream",
     "text": [
      "C:\\Users\\nile\\Anaconda3\\envs\\eeg\\lib\\site-packages\\scipy\\signal\\_arraytools.py:45: FutureWarning: Using a non-tuple sequence for multidimensional indexing is deprecated; use `arr[tuple(seq)]` instead of `arr[seq]`. In the future this will be interpreted as an array index, `arr[np.array(seq)]`, which will result either in an error or a different result.\n",
      "  b = a[a_slice]\n",
      "C:\\Users\\nile\\Anaconda3\\envs\\eeg\\lib\\site-packages\\scipy\\signal\\signaltools.py:3463: FutureWarning: Using a non-tuple sequence for multidimensional indexing is deprecated; use `arr[tuple(seq)]` instead of `arr[seq]`. In the future this will be interpreted as an array index, `arr[np.array(seq)]`, which will result either in an error or a different result.\n",
      "  return y[sl]\n"
     ]
    },
    {
     "name": "stdout",
     "output_type": "stream",
     "text": [
      "Selecting model: Models/c37099/experimental/Session2\\c37099_MI_classifier_2019-04-05-13-48-05.sav\n",
      "Selecting model: Models/c37099/experimental/Session2\\c37099_MI_classifier_2019-04-05-13-48-12.sav\n",
      "Selecting model: Models/c37099/experimental/Session2\\c37099_MI_classifier_TL_2019-04-05-13-48-13.sav\n",
      "Selecting BCI EEG file: SaveData/c37099/Session2\\20190404093139_c37099_BCI.easy\n",
      "Selecting BCI behavioral file: SaveData/c37099/Session2\\BCI_c37099_R4.csv\n",
      "Skipping N/A\n"
     ]
    },
    {
     "name": "stderr",
     "output_type": "stream",
     "text": [
      "C:\\Users\\nile\\Anaconda3\\envs\\eeg\\lib\\site-packages\\scipy\\signal\\_arraytools.py:45: FutureWarning: Using a non-tuple sequence for multidimensional indexing is deprecated; use `arr[tuple(seq)]` instead of `arr[seq]`. In the future this will be interpreted as an array index, `arr[np.array(seq)]`, which will result either in an error or a different result.\n",
      "  b = a[a_slice]\n",
      "C:\\Users\\nile\\Anaconda3\\envs\\eeg\\lib\\site-packages\\scipy\\signal\\signaltools.py:3463: FutureWarning: Using a non-tuple sequence for multidimensional indexing is deprecated; use `arr[tuple(seq)]` instead of `arr[seq]`. In the future this will be interpreted as an array index, `arr[np.array(seq)]`, which will result either in an error or a different result.\n",
      "  return y[sl]\n"
     ]
    },
    {
     "name": "stdout",
     "output_type": "stream",
     "text": [
      "Selecting model: Models/c37099/experimental/Session2\\c37099_MI_classifier_2019-04-05-13-48-05.sav\n",
      "Selecting model: Models/c37099/experimental/Session2\\c37099_MI_classifier_2019-04-05-13-48-16.sav\n",
      "Selecting model: Models/c37099/experimental/Session2\\c37099_MI_classifier_TL_2019-04-05-13-48-17.sav\n",
      "Selecting BCI EEG file: SaveData/c37099/Session2\\20190404093635_c37099_BCI.easy\n",
      "Selecting BCI behavioral file: SaveData/c37099/Session2\\BCI_c37099_R5.csv\n",
      "Skipping N/A\n"
     ]
    },
    {
     "name": "stderr",
     "output_type": "stream",
     "text": [
      "C:\\Users\\nile\\Anaconda3\\envs\\eeg\\lib\\site-packages\\scipy\\signal\\_arraytools.py:45: FutureWarning: Using a non-tuple sequence for multidimensional indexing is deprecated; use `arr[tuple(seq)]` instead of `arr[seq]`. In the future this will be interpreted as an array index, `arr[np.array(seq)]`, which will result either in an error or a different result.\n",
      "  b = a[a_slice]\n",
      "C:\\Users\\nile\\Anaconda3\\envs\\eeg\\lib\\site-packages\\scipy\\signal\\signaltools.py:3463: FutureWarning: Using a non-tuple sequence for multidimensional indexing is deprecated; use `arr[tuple(seq)]` instead of `arr[seq]`. In the future this will be interpreted as an array index, `arr[np.array(seq)]`, which will result either in an error or a different result.\n",
      "  return y[sl]\n"
     ]
    },
    {
     "name": "stdout",
     "output_type": "stream",
     "text": [
      "Selecting model: Models/c37099/experimental/Session2\\c37099_MI_classifier_2019-04-05-13-48-05.sav\n",
      "Selecting model: Models/c37099/experimental/Session2\\c37099_MI_classifier_2019-04-05-13-48-20.sav\n",
      "Selecting model: Models/c37099/experimental/Session2\\c37099_MI_classifier_TL_2019-04-05-13-48-21.sav\n",
      "Selecting BCI EEG file: SaveData/c37099/Session3\\20190405131126_c37099_BCI.easy\n",
      "Selecting BCI behavioral file: SaveData/c37099/Session3\\BCI_c37099_R1.csv\n",
      "Skipping N/A\n"
     ]
    },
    {
     "name": "stderr",
     "output_type": "stream",
     "text": [
      "C:\\Users\\nile\\Anaconda3\\envs\\eeg\\lib\\site-packages\\scipy\\signal\\_arraytools.py:45: FutureWarning: Using a non-tuple sequence for multidimensional indexing is deprecated; use `arr[tuple(seq)]` instead of `arr[seq]`. In the future this will be interpreted as an array index, `arr[np.array(seq)]`, which will result either in an error or a different result.\n",
      "  b = a[a_slice]\n",
      "C:\\Users\\nile\\Anaconda3\\envs\\eeg\\lib\\site-packages\\scipy\\signal\\signaltools.py:3463: FutureWarning: Using a non-tuple sequence for multidimensional indexing is deprecated; use `arr[tuple(seq)]` instead of `arr[seq]`. In the future this will be interpreted as an array index, `arr[np.array(seq)]`, which will result either in an error or a different result.\n",
      "  return y[sl]\n"
     ]
    },
    {
     "name": "stdout",
     "output_type": "stream",
     "text": [
      "Selecting model: Models/c37099/experimental/Session3\\c37099_MI_classifier_2019-04-05-13-49-49.sav\n",
      "Selecting model: Models/c37099/experimental/Session3\\c37099_MI_classifier_2019-04-05-13-49-49.sav\n",
      "Selecting model: Models/c37099/experimental/Session3\\c37099_MI_classifier_2019-04-05-13-49-49.sav\n",
      "Selecting BCI EEG file: SaveData/c37099/Session3\\20190405131637_c37099_BCI.easy\n",
      "Selecting BCI behavioral file: SaveData/c37099/Session3\\BCI_c37099_R2.csv\n",
      "Skipping N/A\n"
     ]
    },
    {
     "name": "stderr",
     "output_type": "stream",
     "text": [
      "C:\\Users\\nile\\Anaconda3\\envs\\eeg\\lib\\site-packages\\scipy\\signal\\_arraytools.py:45: FutureWarning: Using a non-tuple sequence for multidimensional indexing is deprecated; use `arr[tuple(seq)]` instead of `arr[seq]`. In the future this will be interpreted as an array index, `arr[np.array(seq)]`, which will result either in an error or a different result.\n",
      "  b = a[a_slice]\n",
      "C:\\Users\\nile\\Anaconda3\\envs\\eeg\\lib\\site-packages\\scipy\\signal\\signaltools.py:3463: FutureWarning: Using a non-tuple sequence for multidimensional indexing is deprecated; use `arr[tuple(seq)]` instead of `arr[seq]`. In the future this will be interpreted as an array index, `arr[np.array(seq)]`, which will result either in an error or a different result.\n",
      "  return y[sl]\n"
     ]
    },
    {
     "name": "stdout",
     "output_type": "stream",
     "text": [
      "Selecting model: Models/c37099/experimental/Session3\\c37099_MI_classifier_2019-04-05-13-49-49.sav\n",
      "Selecting model: Models/c37099/experimental/Session3\\c37099_MI_classifier_2019-04-05-13-49-53.sav\n",
      "Selecting model: Models/c37099/experimental/Session3\\c37099_MI_classifier_TL_2019-04-05-13-49-53.sav\n",
      "Selecting BCI EEG file: SaveData/c37099/Session3\\20190405132148_c37099_BCI.easy\n",
      "Selecting BCI behavioral file: SaveData/c37099/Session3\\BCI_c37099_R3.csv\n",
      "Skipping N/A\n"
     ]
    },
    {
     "name": "stderr",
     "output_type": "stream",
     "text": [
      "C:\\Users\\nile\\Anaconda3\\envs\\eeg\\lib\\site-packages\\scipy\\signal\\_arraytools.py:45: FutureWarning: Using a non-tuple sequence for multidimensional indexing is deprecated; use `arr[tuple(seq)]` instead of `arr[seq]`. In the future this will be interpreted as an array index, `arr[np.array(seq)]`, which will result either in an error or a different result.\n",
      "  b = a[a_slice]\n",
      "C:\\Users\\nile\\Anaconda3\\envs\\eeg\\lib\\site-packages\\scipy\\signal\\signaltools.py:3463: FutureWarning: Using a non-tuple sequence for multidimensional indexing is deprecated; use `arr[tuple(seq)]` instead of `arr[seq]`. In the future this will be interpreted as an array index, `arr[np.array(seq)]`, which will result either in an error or a different result.\n",
      "  return y[sl]\n"
     ]
    },
    {
     "name": "stdout",
     "output_type": "stream",
     "text": [
      "Selecting model: Models/c37099/experimental/Session3\\c37099_MI_classifier_2019-04-05-13-49-49.sav\n",
      "Selecting model: Models/c37099/experimental/Session3\\c37099_MI_classifier_2019-04-05-13-49-56.sav\n",
      "Selecting model: Models/c37099/experimental/Session3\\c37099_MI_classifier_TL_2019-04-05-13-49-57.sav\n",
      "Selecting BCI EEG file: SaveData/c37099/Session3\\20190405132647_c37099_BCI.easy\n",
      "Selecting BCI behavioral file: SaveData/c37099/Session3\\BCI_c37099_R4.csv\n",
      "Skipping N/A\n"
     ]
    },
    {
     "name": "stderr",
     "output_type": "stream",
     "text": [
      "C:\\Users\\nile\\Anaconda3\\envs\\eeg\\lib\\site-packages\\scipy\\signal\\_arraytools.py:45: FutureWarning: Using a non-tuple sequence for multidimensional indexing is deprecated; use `arr[tuple(seq)]` instead of `arr[seq]`. In the future this will be interpreted as an array index, `arr[np.array(seq)]`, which will result either in an error or a different result.\n",
      "  b = a[a_slice]\n",
      "C:\\Users\\nile\\Anaconda3\\envs\\eeg\\lib\\site-packages\\scipy\\signal\\signaltools.py:3463: FutureWarning: Using a non-tuple sequence for multidimensional indexing is deprecated; use `arr[tuple(seq)]` instead of `arr[seq]`. In the future this will be interpreted as an array index, `arr[np.array(seq)]`, which will result either in an error or a different result.\n",
      "  return y[sl]\n"
     ]
    },
    {
     "name": "stdout",
     "output_type": "stream",
     "text": [
      "Selecting model: Models/c37099/experimental/Session3\\c37099_MI_classifier_2019-04-05-13-49-49.sav\n",
      "Selecting model: Models/c37099/experimental/Session3\\c37099_MI_classifier_2019-04-05-13-50-00.sav\n",
      "Selecting model: Models/c37099/experimental/Session3\\c37099_MI_classifier_TL_2019-04-05-13-50-02.sav\n",
      "Selecting BCI EEG file: SaveData/c37099/Session3\\20190405133153_c37099_BCI.easy\n",
      "Selecting BCI behavioral file: SaveData/c37099/Session3\\BCI_c37099_R5.csv\n",
      "Skipping N/A\n"
     ]
    },
    {
     "name": "stderr",
     "output_type": "stream",
     "text": [
      "C:\\Users\\nile\\Anaconda3\\envs\\eeg\\lib\\site-packages\\scipy\\signal\\_arraytools.py:45: FutureWarning: Using a non-tuple sequence for multidimensional indexing is deprecated; use `arr[tuple(seq)]` instead of `arr[seq]`. In the future this will be interpreted as an array index, `arr[np.array(seq)]`, which will result either in an error or a different result.\n",
      "  b = a[a_slice]\n",
      "C:\\Users\\nile\\Anaconda3\\envs\\eeg\\lib\\site-packages\\scipy\\signal\\signaltools.py:3463: FutureWarning: Using a non-tuple sequence for multidimensional indexing is deprecated; use `arr[tuple(seq)]` instead of `arr[seq]`. In the future this will be interpreted as an array index, `arr[np.array(seq)]`, which will result either in an error or a different result.\n",
      "  return y[sl]\n"
     ]
    },
    {
     "name": "stdout",
     "output_type": "stream",
     "text": [
      "Selecting model: Models/c37099/experimental/Session3\\c37099_MI_classifier_2019-04-05-13-49-49.sav\n",
      "Selecting model: Models/c37099/experimental/Session3\\c37099_MI_classifier_2019-04-05-13-50-04.sav\n",
      "Selecting model: Models/c37099/experimental/Session3\\c37099_MI_classifier_TL_2019-04-05-13-50-05.sav\n",
      "----------------------------------------------------\n",
      "Done storing values for c37099\n",
      "----------------------------------------------------\n"
     ]
    }
   ],
   "source": [
    "orig_scores_all = dict.fromkeys(subjID_all,[])\n",
    "sim_scores_all = dict.fromkeys(subjID_all,[])\n",
    "sim_TL_scores_all = dict.fromkeys(subjID_all,[])\n",
    "clf_orig_all = dict.fromkeys(subjID_all,[])\n",
    "clf_sim_all = dict.fromkeys(subjID_all,[])\n",
    "clf_sim_TL_all = dict.fromkeys(subjID_all,[]) # for simulated true-label adaptation\n",
    "behavioralData_all = dict.fromkeys(subjID_all,[])\n",
    "hasBaseline_all = dict.fromkeys(subjID_all,[])\n",
    "EEGdata_all = dict.fromkeys(subjID_all,[])\n",
    "\n",
    "subject_count = 0\n",
    "\n",
    "for subjID in subjID_all:\n",
    "\n",
    "    BCI_files = glob.glob('SaveData/' + subjID + '/Session1/*' + subjID + '_BCI.easy')\n",
    "    num_of_runs = len(BCI_files)\n",
    "\n",
    "    subject_group = subject_group_all[subject_count]\n",
    "    counter = 1 # keeps track of all runs (start from 1->15)\n",
    "    \n",
    "    orig_scores = list()\n",
    "    sim_scores = list()\n",
    "    sim_TL_scores = list()\n",
    "    X_orig_all = dict()\n",
    "    y_orig_all = dict()\n",
    "    X_sim_all = dict()\n",
    "    y_sim_all = dict()\n",
    "    X_sim_TL_all = dict()\n",
    "    y_sim_TL_all = dict()\n",
    "    clf_orig_one_subject = dict()\n",
    "    clf_sim_one_subject = dict()\n",
    "    clf_sim_TL_one_subject = dict()\n",
    "    behavioralData_one_subject = dict()\n",
    "    hasBaseline_one_subject = dict()\n",
    "    EEGdata_one_subject = dict()\n",
    "    \n",
    "    for session_number in range(1,3+1):\n",
    "        for runOfInt in range(1, num_of_runs+1):\n",
    "            # Find BCI file names\n",
    "            filename_eeg, filename_behavioral = FindBCIFiles(subjID, runOfInt, session_number, model_type)\n",
    "\n",
    "            # Load EEG data\n",
    "            EEGdata, fs, fs_accel = LoadEEGData(filename_eeg, EEGdevice)\n",
    "            EEGdata_one_subject[counter] = EEGdata\n",
    "\n",
    "            # Load behavioral data\n",
    "            behavioralData = LoadBehavioralDataBCI(filename_behavioral)\n",
    "            behavioralData_one_subject[counter] = behavioralData\n",
    "\n",
    "            # Sync up trigger pulses\n",
    "            num_of_trials, num_of_movements, move_starts, hasBaseline, rest_starts, rest_ends = SyncTriggerPulsesBCI(EEGdata, EEGdevice, fs, behavioralData)\n",
    "            hasBaseline_one_subject[counter] = hasBaseline\n",
    "\n",
    "            # Epoch the data\n",
    "            epochs, epochs_norm = EpochBCIData(EEGdata, fs, move_starts, rest_starts, rest_ends)\n",
    "\n",
    "            # Organize trial types\n",
    "            trial_type = OrganizeTrials(behavioralData, hasBaseline)\n",
    "\n",
    "            # Get signal features\n",
    "            alpha_power, beta_power = ExtractFeaturesBCI(epochs_norm, num_of_movements, ['C3','C4'], 1)\n",
    "            motor_features = [alpha_power['C3'], beta_power['C3'], alpha_power['C4'], beta_power['C4']]\n",
    "            motor_features = np.transpose(motor_features)\n",
    "\n",
    "            # Load a specific model (0 loads initial model trained on screening)\n",
    "            # If using run_number, it will load the model created just prior to\n",
    "            # this BCI run (simulated or created during the session)\n",
    "            if subject_group == 1:\n",
    "                clf_orig, X_loaded, y_loaded = LoadModel_MI(subjID, model_type, 1, session_number, 'None')\n",
    "            elif subject_group == 2:\n",
    "                clf_orig, X_loaded, y_loaded = LoadModel_MI(subjID, model_type, runOfInt, session_number, 'CS')\n",
    "\n",
    "            # Get the original score\n",
    "            X = (motor_features - np.mean(X_loaded,0))/np.std(X_loaded,0)\n",
    "            y = trial_type\n",
    "            orig_score = clf_orig.score(X, y)*100\n",
    "            X_orig_all[counter] = X\n",
    "            y_orig_all[counter] = y\n",
    "\n",
    "            # Get the simulated score (no adaptation or CS adaptation)\n",
    "            if subject_group == 1:\n",
    "                clf_sim, X_loaded, y_loaded = LoadModel_MI(subjID, model_type, runOfInt, session_number, 'CS')\n",
    "            elif subject_group == 2:\n",
    "                clf_sim, X_loaded, y_loaded = LoadModel_MI(subjID, model_type, 1, session_number, 'None')\n",
    "\n",
    "            X = (motor_features - np.mean(X_loaded,0))/np.std(X_loaded,0)\n",
    "            y = trial_type\n",
    "            sim_score = clf_sim.score(X, y)*100\n",
    "            X_sim_all[counter] = X\n",
    "            y_sim_all[counter] = y\n",
    "\n",
    "            # Get the true label simulation score\n",
    "            if runOfInt == 1:\n",
    "                clf_sim_TL, X_loaded, y_loaded = LoadModel_MI(subjID, model_type, 1, session_number, 'None')\n",
    "            else:\n",
    "                clf_sim_TL, X_loaded, y_loaded = LoadModel_MI(subjID, model_type, runOfInt, session_number, 'TL')\n",
    "            X = (motor_features - np.mean(X_loaded,0))/np.std(X_loaded,0)\n",
    "            y = trial_type\n",
    "            sim_TL_score = clf_sim_TL.score(X, y)*100\n",
    "            X_sim_TL_all[counter] = X\n",
    "            y_sim_TL_all[counter] = y\n",
    "\n",
    "            # Store values\n",
    "            orig_scores.append(orig_score)\n",
    "            sim_scores.append(sim_score)\n",
    "            sim_TL_scores.append(sim_TL_score)\n",
    "            clf_orig_one_subject[counter] = clf_orig\n",
    "            clf_sim_one_subject[counter] = clf_sim\n",
    "            clf_sim_TL_one_subject[counter] = clf_sim_TL\n",
    "            counter += 1\n",
    "    \n",
    "    orig_scores_all[subjID] = orig_scores\n",
    "    sim_scores_all[subjID] = sim_scores\n",
    "    sim_TL_scores_all[subjID] = sim_TL_scores\n",
    "    clf_orig_all[subjID] = clf_orig_one_subject\n",
    "    clf_sim_all[subjID] = clf_sim_one_subject\n",
    "    clf_sim_TL_all[subjID] = clf_sim_TL_one_subject\n",
    "    behavioralData_all[subjID] = behavioralData_one_subject\n",
    "    hasBaseline_all[subjID] = hasBaseline_one_subject\n",
    "    EEGdata_all[subjID] = EEGdata_one_subject\n",
    "    \n",
    "    print('----------------------------------------------------')\n",
    "    print('Done storing values for ' + subjID)\n",
    "    print('----------------------------------------------------')\n",
    "    subject_count += 1"
   ]
  },
  {
   "cell_type": "code",
   "execution_count": 7,
   "metadata": {},
   "outputs": [
    {
     "data": {
      "text/plain": [
       "'c37099'"
      ]
     },
     "execution_count": 7,
     "metadata": {},
     "output_type": "execute_result"
    }
   ],
   "source": [
    "subjID"
   ]
  },
  {
   "cell_type": "markdown",
   "metadata": {},
   "source": [
    "## Organize the data"
   ]
  },
  {
   "cell_type": "markdown",
   "metadata": {},
   "source": [
    "Store subject performance in one easy variable, where subjects with data collected in the first phase (where there was a bug in the experimental code) use simulated performance, and subjects with data collected in the second phase use actual performance."
   ]
  },
  {
   "cell_type": "code",
   "execution_count": 8,
   "metadata": {},
   "outputs": [],
   "source": [
    "subject_count = 0\n",
    "actual_scores = dict()\n",
    "\n",
    "for subjID in subjID_all:\n",
    "    subject_count = subjID_all.index(subjID)\n",
    "    actual_scores_tmp = list()\n",
    "    \n",
    "    # Use true behavioral data for collection 2 subjects\n",
    "    # Use 1,15+1 for when useBehavioral is True because the actual run numbers save\n",
    "    # Use 0, 15 for when useBehavioral is False because runs are just saved through append\n",
    "    if useBehavioral[subject_count] == True:\n",
    "        for runOfInt in range(1,15+1):\n",
    "            actual, TL = GetBehavioralTL(runOfInt, behavioralData_all[subjID], hasBaseline_all[subjID])\n",
    "            correct_all = len(np.where(TL==actual)[0])/len(TL)*100\n",
    "            actual_scores_tmp.append(correct_all)\n",
    "        actual_scores[subjID] = actual_scores_tmp\n",
    "    else:\n",
    "        # Use simulated behavior for collection 1 subjects\n",
    "        for runOfInt in range(0,15):\n",
    "            actual_scores_tmp.append(orig_scores_all[subjID][runOfInt])\n",
    "        actual_scores[subjID] = actual_scores_tmp"
   ]
  },
  {
   "cell_type": "markdown",
   "metadata": {},
   "source": [
    "Store all relevant data for ANOVA in convenient pandas dataframe"
   ]
  },
  {
   "cell_type": "code",
   "execution_count": 9,
   "metadata": {},
   "outputs": [],
   "source": [
    "all_scores = pd.DataFrame()"
   ]
  },
  {
   "cell_type": "code",
   "execution_count": 10,
   "metadata": {},
   "outputs": [],
   "source": [
    "# Split by group 1 or group 2\n",
    "actual_scores_no_adapt_flat = list()\n",
    "actual_scores_co_adapt_flat = list()\n",
    "simulated_no_adapt_scores_flat = list() # for group 2 (co-adaptation)\n",
    "simulated_CS_adapt_scores_flat = list() # for group 1 (no adaptation)\n",
    "simulated_TL_scores_flat = list()\n",
    "\n",
    "for i in range(0,len(actual_scores)):\n",
    "    for j in range(0,len(actual_scores[subjID_all[i]])):\n",
    "        if subject_group_all[i] == 1:\n",
    "            actual_scores_no_adapt_flat.append(actual_scores[subjID_all[i]][j])\n",
    "            simulated_CS_adapt_scores_flat.append(sim_scores_all[subjID_all[i]][j])\n",
    "        else:\n",
    "            actual_scores_co_adapt_flat.append(actual_scores[subjID_all[i]][j])\n",
    "            simulated_no_adapt_scores_flat.append(sim_scores_all[subjID_all[i]][j])\n",
    "        simulated_TL_scores_flat.append(sim_TL_scores_all[subjID_all[i]][j])"
   ]
  },
  {
   "cell_type": "code",
   "execution_count": 11,
   "metadata": {},
   "outputs": [
    {
     "data": {
      "text/plain": [
       "165"
      ]
     },
     "execution_count": 11,
     "metadata": {},
     "output_type": "execute_result"
    }
   ],
   "source": [
    "len(actual_scores_no_adapt_flat)"
   ]
  },
  {
   "cell_type": "code",
   "execution_count": 12,
   "metadata": {},
   "outputs": [
    {
     "data": {
      "text/plain": [
       "165"
      ]
     },
     "execution_count": 12,
     "metadata": {},
     "output_type": "execute_result"
    }
   ],
   "source": [
    "len(simulated_CS_adapt_scores_flat)"
   ]
  },
  {
   "cell_type": "code",
   "execution_count": 13,
   "metadata": {},
   "outputs": [
    {
     "data": {
      "text/plain": [
       "195"
      ]
     },
     "execution_count": 13,
     "metadata": {},
     "output_type": "execute_result"
    }
   ],
   "source": [
    "len(actual_scores_co_adapt_flat)"
   ]
  },
  {
   "cell_type": "code",
   "execution_count": 14,
   "metadata": {},
   "outputs": [
    {
     "data": {
      "text/plain": [
       "195"
      ]
     },
     "execution_count": 14,
     "metadata": {},
     "output_type": "execute_result"
    }
   ],
   "source": [
    "len(simulated_no_adapt_scores_flat)"
   ]
  },
  {
   "cell_type": "code",
   "execution_count": 15,
   "metadata": {},
   "outputs": [
    {
     "data": {
      "text/plain": [
       "360"
      ]
     },
     "execution_count": 15,
     "metadata": {},
     "output_type": "execute_result"
    }
   ],
   "source": [
    "len(simulated_TL_scores_flat)"
   ]
  },
  {
   "cell_type": "code",
   "execution_count": 16,
   "metadata": {},
   "outputs": [],
   "source": [
    "all_scores['no adaptation'] = pd.Series(actual_scores_no_adapt_flat)\n",
    "all_scores['co-adaptation'] = pd.Series(actual_scores_co_adapt_flat)\n",
    "all_scores['simulated TL adaptation'] = pd.Series(simulated_TL_scores_flat)\n",
    "all_scores['simulated CS adaptation'] = pd.Series(simulated_CS_adapt_scores_flat)\n",
    "all_scores['simulated no adaptation'] = pd.Series(simulated_no_adapt_scores_flat)"
   ]
  },
  {
   "cell_type": "code",
   "execution_count": 17,
   "metadata": {},
   "outputs": [
    {
     "data": {
      "text/html": [
       "<div>\n",
       "<style scoped>\n",
       "    .dataframe tbody tr th:only-of-type {\n",
       "        vertical-align: middle;\n",
       "    }\n",
       "\n",
       "    .dataframe tbody tr th {\n",
       "        vertical-align: top;\n",
       "    }\n",
       "\n",
       "    .dataframe thead th {\n",
       "        text-align: right;\n",
       "    }\n",
       "</style>\n",
       "<table border=\"1\" class=\"dataframe\">\n",
       "  <thead>\n",
       "    <tr style=\"text-align: right;\">\n",
       "      <th></th>\n",
       "      <th>no adaptation</th>\n",
       "      <th>co-adaptation</th>\n",
       "      <th>simulated TL adaptation</th>\n",
       "      <th>simulated CS adaptation</th>\n",
       "      <th>simulated no adaptation</th>\n",
       "    </tr>\n",
       "  </thead>\n",
       "  <tbody>\n",
       "    <tr>\n",
       "      <th>0</th>\n",
       "      <td>55.319149</td>\n",
       "      <td>56.521739</td>\n",
       "      <td>55.319149</td>\n",
       "      <td>55.319149</td>\n",
       "      <td>56.521739</td>\n",
       "    </tr>\n",
       "    <tr>\n",
       "      <th>1</th>\n",
       "      <td>47.706422</td>\n",
       "      <td>49.019608</td>\n",
       "      <td>51.376147</td>\n",
       "      <td>55.963303</td>\n",
       "      <td>47.058824</td>\n",
       "    </tr>\n",
       "    <tr>\n",
       "      <th>2</th>\n",
       "      <td>59.803922</td>\n",
       "      <td>55.882353</td>\n",
       "      <td>58.823529</td>\n",
       "      <td>61.764706</td>\n",
       "      <td>47.058824</td>\n",
       "    </tr>\n",
       "    <tr>\n",
       "      <th>3</th>\n",
       "      <td>55.789474</td>\n",
       "      <td>48.039216</td>\n",
       "      <td>47.368421</td>\n",
       "      <td>48.421053</td>\n",
       "      <td>50.000000</td>\n",
       "    </tr>\n",
       "    <tr>\n",
       "      <th>4</th>\n",
       "      <td>51.401869</td>\n",
       "      <td>43.119266</td>\n",
       "      <td>61.682243</td>\n",
       "      <td>65.420561</td>\n",
       "      <td>42.201835</td>\n",
       "    </tr>\n",
       "  </tbody>\n",
       "</table>\n",
       "</div>"
      ],
      "text/plain": [
       "   no adaptation  co-adaptation  simulated TL adaptation  \\\n",
       "0      55.319149      56.521739                55.319149   \n",
       "1      47.706422      49.019608                51.376147   \n",
       "2      59.803922      55.882353                58.823529   \n",
       "3      55.789474      48.039216                47.368421   \n",
       "4      51.401869      43.119266                61.682243   \n",
       "\n",
       "   simulated CS adaptation  simulated no adaptation  \n",
       "0                55.319149                56.521739  \n",
       "1                55.963303                47.058824  \n",
       "2                61.764706                47.058824  \n",
       "3                48.421053                50.000000  \n",
       "4                65.420561                42.201835  "
      ]
     },
     "execution_count": 17,
     "metadata": {},
     "output_type": "execute_result"
    }
   ],
   "source": [
    "all_scores.head()"
   ]
  },
  {
   "cell_type": "markdown",
   "metadata": {},
   "source": [
    "## Save the data\n",
    "Save the organized data for easy access later"
   ]
  },
  {
   "cell_type": "code",
   "execution_count": 32,
   "metadata": {},
   "outputs": [],
   "source": [
    "time_to_save = datetime.datetime.now().isoformat()\n",
    "time_to_save = time_to_save.replace('T','-')\n",
    "time_to_save = time_to_save.replace(':','-')\n",
    "    \n",
    "filepath = time_to_save[:19] + '_all_scores.sav'\n",
    "np.savez_compressed(filepath, subjID_all=subjID_all, all_scores=all_scores,\n",
    "                    actual_scores_no_adapt_flat=actual_scores_no_adapt_flat,\n",
    "                    actual_scores_co_adapt_flat=actual_scores_co_adapt_flat,\n",
    "                    simulated_TL_scores_flat=simulated_TL_scores_flat,\n",
    "                    simulated_CS_adapt_scores_flat=simulated_CS_adapt_scores_flat,\n",
    "                    simulated_no_adapt_scores_flat=simulated_no_adapt_scores_flat,\n",
    "                    subject_group_all=subject_group_all, model_type=model_type,\n",
    "                    useBehavioral=useBehavioral, EEGdevice=EEGdevice, handedness_all=handedness_all,\n",
    "                   age_all=age_all)"
   ]
  },
  {
   "cell_type": "markdown",
   "metadata": {},
   "source": [
    "## Run some ANOVAs\n",
    "Let's start out with a simple 1-way ANOVA comparing the different adaptation schemes. Refering to this https://vknight.org/unpeudemath/python/2016/08/13/Analysis-of-variance-with-different-sized-sample.html"
   ]
  },
  {
   "cell_type": "markdown",
   "metadata": {},
   "source": [
    "### 1-Way ANOVA\n",
    "ANOVA comparing the difference in performance between the following adaptation schemes\n",
    "1. No adaptation\n",
    "2. Co-adaptation\n",
    "3. Simulated True Label Adaptation"
   ]
  },
  {
   "cell_type": "code",
   "execution_count": 19,
   "metadata": {
    "scrolled": true
   },
   "outputs": [],
   "source": [
    "#len(all_scores['no adaptation'].dropna(axis=0))"
   ]
  },
  {
   "cell_type": "code",
   "execution_count": 20,
   "metadata": {},
   "outputs": [
    {
     "data": {
      "text/plain": [
       "0.006212365999107189"
      ]
     },
     "execution_count": 20,
     "metadata": {},
     "output_type": "execute_result"
    }
   ],
   "source": [
    "data = [actual_scores_no_adapt_flat,actual_scores_co_adapt_flat,simulated_TL_scores_flat]\n",
    "f_val, p_val = stats.f_oneway(*data)\n",
    "p_val"
   ]
  },
  {
   "cell_type": "code",
   "execution_count": 21,
   "metadata": {},
   "outputs": [
    {
     "data": {
      "image/png": "[encoded data removed]",
      "text/plain": [
       "<Figure size 720x288 with 1 Axes>"
      ]
     },
     "metadata": {
      "needs_background": "light"
     },
     "output_type": "display_data"
    }
   ],
   "source": [
    "# Fit line to median of distributions\n",
    "x = range(1, len(data) + 1)\n",
    "y = [np.median(sample) for sample in data]\n",
    "slope, intercept, r_val, p_val_plot, slope_std_error = stats.linregress(x, y)\n",
    "\n",
    "def line(x):\n",
    "    \"\"\"The regression line\"\"\"\n",
    "    return slope * x + intercept\n",
    "\n",
    "plt.figure(figsize=(10,4))\n",
    "plt.violinplot(data);\n",
    "x1, x2 = plt.xlim()\n",
    "plt.plot((x1, x2), (line(x1), line(x2)), '--',\n",
    "         label=\"$y = {0:.2f}x + {1:.2f}$ ($p={2:.2f}$)\".format(slope,\n",
    "                                                               intercept,\n",
    "                                                               p_val_plot))\n",
    "plt.ylabel('Performance')\n",
    "plt.xticks([1,2,3], ['No Adaptation','Co-adaptation','Simulated True Label Adaptation'])\n",
    "plt.title('1-way ANOVA, Group: Adaptation Schemes')\n",
    "plt.legend(loc=4);"
   ]
  },
  {
   "cell_type": "code",
   "execution_count": 22,
   "metadata": {},
   "outputs": [
    {
     "name": "stdout",
     "output_type": "stream",
     "text": [
      "F(?,?) = 5.117393575305466, p = 0.006212365999107189\n"
     ]
    }
   ],
   "source": [
    "print('F(?,?) = ' + str(f_val) + ', p = ' + str(p_val))"
   ]
  },
  {
   "cell_type": "markdown",
   "metadata": {},
   "source": [
    "### 2-Way ANOVA\n",
    "ANOVA comparing the difference in performance between the following adaptation schemes\n",
    "1. Adaptation Scheme (No adaptation, Co-adaptation, Simulated True Label Adaptation)\n",
    "2. Session Number (1, 2, or 3)\n",
    "3. Run Number (1, 2, 3, 4, or 5)\n",
    "4. Subject ID\n",
    "5. Handedness\n",
    "6. Age"
   ]
  },
  {
   "cell_type": "code",
   "execution_count": 34,
   "metadata": {},
   "outputs": [],
   "source": [
    "actual_scores_no_adapt_flat = dict()\n",
    "actual_scores_co_adapt_flat = dict()\n",
    "simulated_no_adapt_scores_flat = dict() # for group 2 (co-adaptation)\n",
    "simulated_CS_adapt_scores_flat = dict() # for group 1 (no adaptation)\n",
    "simulated_TL_scores_flat = dict()\n",
    "\n",
    "g1 = list() # adaptation scheme\n",
    "g2 = list() # session number\n",
    "g3 = list() # run number\n",
    "g4 = list() # subjID\n",
    "g5 = list() # handedness\n",
    "g6 = list() # age\n",
    "\n",
    "# Split by group 1 or group 2\n",
    "all_scores_flat = list()\n",
    "actual_scores_no_adapt_flat = list()\n",
    "actual_scores_co_adapt_flat = list()\n",
    "simulated_no_adapt_scores_flat = list() # for group 2 (co-adaptation)\n",
    "simulated_CS_adapt_scores_flat = list() # for group 1 (no adaptation)\n",
    "simulated_TL_scores_flat = list()\n",
    "\n",
    "for i in range(0,len(actual_scores)):\n",
    "    for j in range(0,15):\n",
    "        if subject_group_all[i] == 1:\n",
    "            all_scores_flat.append(actual_scores[subjID_all[i]][j])\n",
    "            actual_scores_no_adapt_flat.append(actual_scores[subjID_all[i]][j])\n",
    "            g1.append('no adaptation')\n",
    "            g4.append(subjID_all[i])\n",
    "            g5.append(handedness_all[i])\n",
    "            g6.append(age_all[i])\n",
    "            \n",
    "            if j < 5:\n",
    "                g2.append('Session 1')\n",
    "            if j >= 5:\n",
    "                if j < 10:\n",
    "                    g2.append('Session 2')\n",
    "                if j >= 10:\n",
    "                    g2.append('Session 3')\n",
    "            if j in [0,5,10]:\n",
    "                g3.append('Run 1')\n",
    "            if j in [1,6,11]:\n",
    "                g3.append('Run 2')\n",
    "            if j in [2,7,12]:\n",
    "                g3.append('Run 3')\n",
    "            if j in [3,8,13]:\n",
    "                g3.append('Run 4')\n",
    "            if j in [4,9,13]:\n",
    "                g3.append('Run 5')\n",
    "                    \n",
    "            all_scores_flat.append(sim_scores_all[subjID_all[i]][j])\n",
    "            simulated_CS_adapt_scores_flat.append(sim_scores_all[subjID_all[i]][j])\n",
    "            g1.append('simulated CS adaptation')\n",
    "            g4.append(subjID_all[i])\n",
    "            g5.append(handedness_all[i])\n",
    "            g6.append(age_all[i])\n",
    "            \n",
    "            if j < 5:\n",
    "                g2.append('Session 1')\n",
    "            if j >= 5:\n",
    "                if j < 10:\n",
    "                    g2.append('Session 2')\n",
    "                if j >= 10:\n",
    "                    g2.append('Session 3')\n",
    "            if j in [0,5,10]:\n",
    "                g3.append('Run 1')\n",
    "            if j in [1,6,11]:\n",
    "                g3.append('Run 2')\n",
    "            if j in [2,7,12]:\n",
    "                g3.append('Run 3')\n",
    "            if j in [3,8,13]:\n",
    "                g3.append('Run 4')\n",
    "            if j in [4,9,13]:\n",
    "                g3.append('Run 5')\n",
    "        else:\n",
    "            all_scores_flat.append(actual_scores[subjID_all[i]][j])\n",
    "            actual_scores_co_adapt_flat.append(actual_scores[subjID_all[i]][j])\n",
    "            g1.append('co-adaptation')\n",
    "            g4.append(subjID_all[i])\n",
    "            g5.append(handedness_all[i])\n",
    "            g6.append(age_all[i])\n",
    "            if j < 5:\n",
    "                g2.append('Session 1')\n",
    "            if j >= 5:\n",
    "                if j < 10:\n",
    "                    g2.append('Session 2')\n",
    "                if j >= 10:\n",
    "                    g2.append('Session 3')\n",
    "            if j in [0,5,10]:\n",
    "                g3.append('Run 1')\n",
    "            if j in [1,6,11]:\n",
    "                g3.append('Run 2')\n",
    "            if j in [2,7,12]:\n",
    "                g3.append('Run 3')\n",
    "            if j in [3,8,13]:\n",
    "                g3.append('Run 4')\n",
    "            if j in [4,9,13]:\n",
    "                g3.append('Run 5')\n",
    "            \n",
    "            all_scores_flat.append(sim_scores_all[subjID_all[i]][j])\n",
    "            simulated_no_adapt_scores_flat.append(sim_scores_all[subjID_all[i]][j])\n",
    "            g1.append('simulated no adaptation')\n",
    "            g4.append(subjID_all[i])\n",
    "            g5.append(handedness_all[i])\n",
    "            g6.append(age_all[i])\n",
    "            if j < 5:\n",
    "                g2.append('Session 1')\n",
    "            if j >= 5:\n",
    "                if j < 10:\n",
    "                    g2.append('Session 2')\n",
    "                if j >= 10:\n",
    "                    g2.append('Session 3')\n",
    "            if j in [0,5,10]:\n",
    "                g3.append('Run 1')\n",
    "            if j in [1,6,11]:\n",
    "                g3.append('Run 2')\n",
    "            if j in [2,7,12]:\n",
    "                g3.append('Run 3')\n",
    "            if j in [3,8,13]:\n",
    "                g3.append('Run 4')\n",
    "            if j in [4,9,13]:\n",
    "                g3.append('Run 5')\n",
    "\n",
    "        all_scores_flat.append(sim_TL_scores_all[subjID_all[i]][j])\n",
    "        simulated_TL_scores_flat.append(sim_TL_scores_all[subjID_all[i]][j])\n",
    "        g1.append('simulated TL adaptation')\n",
    "        g4.append(subjID_all[i])\n",
    "        g5.append(handedness_all[i])\n",
    "        g6.append(age_all[i])\n",
    "\n",
    "        if j < 5:\n",
    "            g2.append('Session 1')\n",
    "        if j >= 5:\n",
    "            if j < 10:\n",
    "                g2.append('Session 2')\n",
    "            if j >= 10:\n",
    "                g2.append('Session 3')\n",
    "        if j in [0,5,10]:\n",
    "            g3.append('Run 1')\n",
    "        if j in [1,6,11]:\n",
    "            g3.append('Run 2')\n",
    "        if j in [2,7,12]:\n",
    "            g3.append('Run 3')\n",
    "        if j in [3,8,13]:\n",
    "            g3.append('Run 4')\n",
    "        if j in [4,9,13]:\n",
    "            g3.append('Run 5')"
   ]
  },
  {
   "cell_type": "markdown",
   "metadata": {},
   "source": [
    "Refer to https://plot.ly/python/anova/"
   ]
  },
  {
   "cell_type": "markdown",
   "metadata": {},
   "source": [
    "Might be easier to export this as a .mat file and then do the 2-way ANOVA in MATLAB..."
   ]
  },
  {
   "cell_type": "code",
   "execution_count": 35,
   "metadata": {},
   "outputs": [],
   "source": [
    "# Flatten all to one long vector and then save group names\n",
    "all_scores_export = all_scores_flat"
   ]
  },
  {
   "cell_type": "code",
   "execution_count": 36,
   "metadata": {},
   "outputs": [
    {
     "data": {
      "text/plain": [
       "1080"
      ]
     },
     "execution_count": 36,
     "metadata": {},
     "output_type": "execute_result"
    }
   ],
   "source": [
    "len(all_scores_export)"
   ]
  },
  {
   "cell_type": "code",
   "execution_count": 37,
   "metadata": {},
   "outputs": [
    {
     "data": {
      "text/plain": [
       "1080"
      ]
     },
     "execution_count": 37,
     "metadata": {},
     "output_type": "execute_result"
    }
   ],
   "source": [
    "len(g1)"
   ]
  },
  {
   "cell_type": "code",
   "execution_count": 38,
   "metadata": {},
   "outputs": [
    {
     "data": {
      "text/plain": [
       "1080"
      ]
     },
     "execution_count": 38,
     "metadata": {},
     "output_type": "execute_result"
    }
   ],
   "source": [
    "len(g2)"
   ]
  },
  {
   "cell_type": "code",
   "execution_count": 39,
   "metadata": {},
   "outputs": [
    {
     "data": {
      "text/plain": [
       "1080"
      ]
     },
     "execution_count": 39,
     "metadata": {},
     "output_type": "execute_result"
    }
   ],
   "source": [
    "len(g3)"
   ]
  },
  {
   "cell_type": "code",
   "execution_count": 40,
   "metadata": {},
   "outputs": [
    {
     "data": {
      "text/plain": [
       "1080"
      ]
     },
     "execution_count": 40,
     "metadata": {},
     "output_type": "execute_result"
    }
   ],
   "source": [
    "len(g4)"
   ]
  },
  {
   "cell_type": "code",
   "execution_count": 41,
   "metadata": {},
   "outputs": [
    {
     "data": {
      "text/plain": [
       "1080"
      ]
     },
     "execution_count": 41,
     "metadata": {},
     "output_type": "execute_result"
    }
   ],
   "source": [
    "len(g5)"
   ]
  },
  {
   "cell_type": "code",
   "execution_count": 42,
   "metadata": {},
   "outputs": [
    {
     "data": {
      "text/plain": [
       "1080"
      ]
     },
     "execution_count": 42,
     "metadata": {},
     "output_type": "execute_result"
    }
   ],
   "source": [
    "len(g6)"
   ]
  },
  {
   "cell_type": "markdown",
   "metadata": {},
   "source": [
    "Note that we have more than 15 x 9 (285) scores because we are including the simulated TL stuff as well"
   ]
  },
  {
   "cell_type": "code",
   "execution_count": 43,
   "metadata": {},
   "outputs": [
    {
     "name": "stderr",
     "output_type": "stream",
     "text": [
      "C:\\Users\\nile\\Anaconda3\\envs\\eeg\\lib\\site-packages\\scipy\\io\\matlab\\miobase.py:414: FutureWarning: Using a non-tuple sequence for multidimensional indexing is deprecated; use `arr[tuple(seq)]` instead of `arr[seq]`. In the future this will be interpreted as an array index, `arr[np.array(seq)]`, which will result either in an error or a different result.\n",
      "  arr[empties] = ' '\n"
     ]
    }
   ],
   "source": [
    "# Save as .mat\n",
    "time_to_save = datetime.datetime.now().isoformat()\n",
    "time_to_save = time_to_save.replace('T','-')\n",
    "time_to_save = time_to_save.replace(':','-')\n",
    "    \n",
    "filepath = time_to_save[:19] + '_all_scores_for_2-way_ANOVA_sessions.sav'\n",
    "scipy.io.savemat(filepath, mdict={'all_scores_export': all_scores_export, 'AdaptationScheme':g1,\n",
    "                                  'SessionNumber':g2, 'RunNumber':g3, 'Subject':g4,\n",
    "                                 'Handedness':g5, 'Age':g6})"
   ]
  },
  {
   "cell_type": "markdown",
   "metadata": {},
   "source": [
    "# EXPLORING\n",
    "Let's see what happens when we restrict it to new subjects\n",
    "\n",
    "Also refer to this for post-hoc testing\n",
    "https://pythonfordatascience.org/anova-python/"
   ]
  },
  {
   "cell_type": "code",
   "execution_count": 59,
   "metadata": {},
   "outputs": [
    {
     "data": {
      "text/html": [
       "<div>\n",
       "<style scoped>\n",
       "    .dataframe tbody tr th:only-of-type {\n",
       "        vertical-align: middle;\n",
       "    }\n",
       "\n",
       "    .dataframe tbody tr th {\n",
       "        vertical-align: top;\n",
       "    }\n",
       "\n",
       "    .dataframe thead th {\n",
       "        text-align: right;\n",
       "    }\n",
       "</style>\n",
       "<table border=\"1\" class=\"dataframe\">\n",
       "  <thead>\n",
       "    <tr style=\"text-align: right;\">\n",
       "      <th></th>\n",
       "      <th>Subject ID</th>\n",
       "      <th>Group Number</th>\n",
       "      <th>Moving MI</th>\n",
       "      <th>Session 1</th>\n",
       "      <th>Session 2</th>\n",
       "      <th>Session 3</th>\n",
       "      <th>Handedness</th>\n",
       "      <th>Sex</th>\n",
       "      <th>Age</th>\n",
       "      <th>History of Neurological Disorders</th>\n",
       "      <th>Cap Size</th>\n",
       "      <th>Study Number</th>\n",
       "    </tr>\n",
       "  </thead>\n",
       "  <tbody>\n",
       "    <tr>\n",
       "      <th>19</th>\n",
       "      <td>a1e6c0</td>\n",
       "      <td>1</td>\n",
       "      <td>No</td>\n",
       "      <td>0</td>\n",
       "      <td>3</td>\n",
       "      <td>7</td>\n",
       "      <td>R</td>\n",
       "      <td>M</td>\n",
       "      <td>32</td>\n",
       "      <td>No</td>\n",
       "      <td>M</td>\n",
       "      <td>2</td>\n",
       "    </tr>\n",
       "    <tr>\n",
       "      <th>20</th>\n",
       "      <td>972a6f</td>\n",
       "      <td>2</td>\n",
       "      <td>No</td>\n",
       "      <td>0</td>\n",
       "      <td>15</td>\n",
       "      <td>18</td>\n",
       "      <td>R</td>\n",
       "      <td>F</td>\n",
       "      <td>18</td>\n",
       "      <td>No</td>\n",
       "      <td>M</td>\n",
       "      <td>2</td>\n",
       "    </tr>\n",
       "    <tr>\n",
       "      <th>21</th>\n",
       "      <td>851238</td>\n",
       "      <td>1</td>\n",
       "      <td>No</td>\n",
       "      <td>0</td>\n",
       "      <td>3</td>\n",
       "      <td>4</td>\n",
       "      <td>L</td>\n",
       "      <td>M</td>\n",
       "      <td>18</td>\n",
       "      <td>No</td>\n",
       "      <td>M</td>\n",
       "      <td>2</td>\n",
       "    </tr>\n",
       "    <tr>\n",
       "      <th>22</th>\n",
       "      <td>520f16</td>\n",
       "      <td>2</td>\n",
       "      <td>No</td>\n",
       "      <td>0</td>\n",
       "      <td>1</td>\n",
       "      <td>2</td>\n",
       "      <td>R</td>\n",
       "      <td>F</td>\n",
       "      <td>18</td>\n",
       "      <td>No</td>\n",
       "      <td>M</td>\n",
       "      <td>2</td>\n",
       "    </tr>\n",
       "    <tr>\n",
       "      <th>23</th>\n",
       "      <td>bd9e40</td>\n",
       "      <td>2</td>\n",
       "      <td>No</td>\n",
       "      <td>0</td>\n",
       "      <td>1</td>\n",
       "      <td>4</td>\n",
       "      <td>R</td>\n",
       "      <td>M</td>\n",
       "      <td>21</td>\n",
       "      <td>Yes</td>\n",
       "      <td>M</td>\n",
       "      <td>2</td>\n",
       "    </tr>\n",
       "    <tr>\n",
       "      <th>24</th>\n",
       "      <td>c37099</td>\n",
       "      <td>1</td>\n",
       "      <td>No</td>\n",
       "      <td>0</td>\n",
       "      <td>2</td>\n",
       "      <td>3</td>\n",
       "      <td>R</td>\n",
       "      <td>F</td>\n",
       "      <td>20</td>\n",
       "      <td>No</td>\n",
       "      <td>M</td>\n",
       "      <td>2</td>\n",
       "    </tr>\n",
       "  </tbody>\n",
       "</table>\n",
       "</div>"
      ],
      "text/plain": [
       "   Subject ID  Group Number Moving MI  Session 1  Session 2  Session 3  \\\n",
       "19     a1e6c0             1        No          0          3          7   \n",
       "20     972a6f             2        No          0         15         18   \n",
       "21     851238             1        No          0          3          4   \n",
       "22     520f16             2        No          0          1          2   \n",
       "23     bd9e40             2        No          0          1          4   \n",
       "24     c37099             1        No          0          2          3   \n",
       "\n",
       "   Handedness Sex  Age History of Neurological Disorders Cap Size  \\\n",
       "19          R   M   32                                No        M   \n",
       "20          R   F   18                                No        M   \n",
       "21          L   M   18                                No        M   \n",
       "22          R   F   18                                No        M   \n",
       "23          R   M   21                               Yes        M   \n",
       "24          R   F   20                                No        M   \n",
       "\n",
       "    Study Number  \n",
       "19             2  \n",
       "20             2  \n",
       "21             2  \n",
       "22             2  \n",
       "23             2  \n",
       "24             2  "
      ]
     },
     "execution_count": 59,
     "metadata": {},
     "output_type": "execute_result"
    }
   ],
   "source": [
    "study1drop = np.asarray(demographics_all.loc[demographics_all['Study Number'] == 1].index)\n",
    "\n",
    "# Drop the sleeping subject\n",
    "demographics_study2 = demographics_all.drop(study1drop)\n",
    "\n",
    "# Store some data\n",
    "subjID_study2 = list(demographics_study2['Subject ID'])\n",
    "subject_group_study2 = np.asarray(demographics_study2['Group Number'])\n",
    "\n",
    "# Preview\n",
    "demographics_study2"
   ]
  },
  {
   "cell_type": "code",
   "execution_count": 57,
   "metadata": {},
   "outputs": [],
   "source": [
    "useBehavioral_study2 = list()\n",
    "for i in range(0,len(studyNumber_all)):\n",
    "    if isSVM is False:\n",
    "        if studyNumber_all[i] == 1:\n",
    "            useBehavioral_study2.append(False)\n",
    "        else:\n",
    "            useBehavioral_study2.append(True)\n",
    "    else:\n",
    "        useBehavioral_study2.append(False)"
   ]
  },
  {
   "cell_type": "code",
   "execution_count": 61,
   "metadata": {},
   "outputs": [],
   "source": [
    "actual_scores = dict()\n",
    "\n",
    "for subjID in subjID_study2:\n",
    "    subject_count = subjID_study2.index(subjID)\n",
    "    actual_scores_tmp = list()\n",
    "    \n",
    "    # Use true behavioral data for collection 2 subjects\n",
    "    # Use 1,15+1 for when useBehavioral is True because the actual run numbers save\n",
    "    # Use 0, 15 for when useBehavioral is False because runs are just saved through append\n",
    "    if useBehavioral_study2[subject_count] == True:\n",
    "        for runOfInt in range(1,15+1):\n",
    "            actual, TL = GetBehavioralTL(runOfInt, behavioralData_all[subjID], hasBaseline_all[subjID])\n",
    "            correct_all = len(np.where(TL==actual)[0])/len(TL)*100\n",
    "            actual_scores_tmp.append(correct_all)\n",
    "        actual_scores[subjID] = actual_scores_tmp\n",
    "    else:\n",
    "        # Use simulated behavior for collection 1 subjects\n",
    "        for runOfInt in range(0,15):\n",
    "            actual_scores_tmp.append(orig_scores_all[subjID][runOfInt])\n",
    "        actual_scores[subjID] = actual_scores_tmp\n",
    "\n",
    "all_scores = pd.DataFrame()\n",
    "# Split by group 1 or group 2\n",
    "actual_scores_no_adapt_flat = list()\n",
    "actual_scores_co_adapt_flat = list()\n",
    "simulated_no_adapt_scores_flat = list() # for group 2 (co-adaptation)\n",
    "simulated_co_adapt_scores_flat = list() # for group 1 (no adaptation)\n",
    "simulated_TL_scores_flat = list()\n",
    "\n",
    "for i in range(0,len(actual_scores)):\n",
    "    for j in range(0,len(actual_scores[subjID_study2[i]])):\n",
    "        if subject_group_study2[i] == 1:\n",
    "            actual_scores_no_adapt_flat.append(actual_scores[subjID_study2[i]][j])\n",
    "            simulated_co_adapt_scores_flat.append(sim_scores_all[subjID_study2[i]][j])\n",
    "        else:\n",
    "            actual_scores_co_adapt_flat.append(actual_scores[subjID_study2[i]][j])\n",
    "            simulated_no_adapt_scores_flat.append(sim_scores_all[subjID_study2[i]][j])\n",
    "        simulated_TL_scores_flat.append(sim_TL_scores_all[subjID_study2[i]][j])\n",
    "\n",
    "all_scores['no adaptation'] = pd.Series(actual_scores_no_adapt_flat)\n",
    "all_scores['co-adaptation'] = pd.Series(actual_scores_co_adapt_flat)\n",
    "all_scores['simulated TL adaptation'] = pd.Series(simulated_TL_scores_flat)"
   ]
  },
  {
   "cell_type": "code",
   "execution_count": 62,
   "metadata": {},
   "outputs": [
    {
     "data": {
      "text/plain": [
       "0.10956324422556997"
      ]
     },
     "execution_count": 62,
     "metadata": {},
     "output_type": "execute_result"
    }
   ],
   "source": [
    "data = [actual_scores_no_adapt_flat,actual_scores_co_adapt_flat,simulated_TL_scores_flat]\n",
    "f_val, p_val = stats.f_oneway(*data)\n",
    "p_val"
   ]
  },
  {
   "cell_type": "code",
   "execution_count": 63,
   "metadata": {},
   "outputs": [
    {
     "data": {
      "image/png": "[encoded data removed]",
      "text/plain": [
       "<Figure size 720x288 with 1 Axes>"
      ]
     },
     "metadata": {
      "needs_background": "light"
     },
     "output_type": "display_data"
    }
   ],
   "source": [
    "# Fit line to median of distributions\n",
    "x = range(1, len(data) + 1)\n",
    "y = [np.median(sample) for sample in data]\n",
    "slope, intercept, r_val, p_val, slope_std_error = stats.linregress(x, y)\n",
    "\n",
    "def line(x):\n",
    "    \"\"\"The regression line\"\"\"\n",
    "    return slope * x + intercept\n",
    "\n",
    "plt.figure(figsize=(10,4))\n",
    "plt.violinplot(data);\n",
    "x1, x2 = plt.xlim()\n",
    "plt.plot((x1, x2), (line(x1), line(x2)), '--',\n",
    "         label=\"$y = {0:.2f}x + {1:.2f}$ ($p={2:.2f}$)\".format(slope,\n",
    "                                                               intercept,\n",
    "                                                               p_val))\n",
    "plt.ylabel('Performance')\n",
    "plt.xticks([1,2,3], ['No Adaptation','Co-adaptation','Simulated True Label Adaptation'])\n",
    "plt.title('1-way ANOVA, Group: Adaptation Schemes')\n",
    "plt.legend(loc=4);"
   ]
  },
  {
   "cell_type": "code",
   "execution_count": null,
   "metadata": {},
   "outputs": [],
   "source": []
  }
 ],
 "metadata": {
  "kernelspec": {
   "display_name": "Python 3",
   "language": "python",
   "name": "python3"
  },
  "language_info": {
   "codemirror_mode": {
    "name": "ipython",
    "version": 3
   },
   "file_extension": ".py",
   "mimetype": "text/x-python",
   "name": "python",
   "nbconvert_exporter": "python",
   "pygments_lexer": "ipython3",
   "version": "3.6.7"
  }
 },
 "nbformat": 4,
 "nbformat_minor": 2
}
