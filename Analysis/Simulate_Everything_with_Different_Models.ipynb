{
 "cells": [
  {
   "cell_type": "markdown",
   "metadata": {},
   "source": [
    "# Simulating Everything with Different Models\n",
    "Use this notebook to simulate everything from (1) creating the initial motor imagery and error models, to (2) simulating adaptation for these, and (3) visualizing the performance for different adaptation conditions.\n",
    "\n",
    "This was made primarily to allow us to easily ask \"how would the subjects perform if we had used an SVM, or some other type of model instead?\". One concern is that subject performance has been so low because the models being used to classify motor imagery could be overfit to the motor screening data.\n",
    "\n",
    "Nile Wilson, 2019.03.04"
   ]
  },
  {
   "cell_type": "code",
   "execution_count": 1,
   "metadata": {},
   "outputs": [],
   "source": [
    "from sklearn.preprocessing import StandardScaler\n",
    "from sklearn.model_selection import GridSearchCV\n",
    "from imblearn.over_sampling import SMOTE\n",
    "from sklearn.model_selection import KFold\n",
    "from sklearn.model_selection import train_test_split\n",
    "from sklearn.svm import SVC, LinearSVC\n",
    "from sklearn.metrics import confusion_matrix\n",
    "from sklearn.neural_network import MLPClassifier\n",
    "from matplotlib import pyplot as plt\n",
    "from scipy.fftpack import fft, ifft\n",
    "from scipy import signal\n",
    "from mne.filter import filter_data\n",
    "\n",
    "import scipy.signal as scisig\n",
    "import numpy as np\n",
    "import pandas as pd\n",
    "import datetime\n",
    "import pickle\n",
    "import glob\n",
    "import csv\n",
    "import mne\n",
    "import os"
   ]
  },
  {
   "cell_type": "markdown",
   "metadata": {},
   "source": [
    "# Set Your Variables\n",
    "Define which subject's data you are going to use to simulate performance (be sure to make sure the subject_group and session_number are correct)"
   ]
  },
  {
   "cell_type": "code",
   "execution_count": 2,
   "metadata": {},
   "outputs": [],
   "source": [
    "subjID = 'e2cbc4'\n",
    "subject_group = 1\n",
    "session_number = 1\n",
    "EEGdevice = 8\n",
    "\n",
    "# model_type will be used to name/organize all files associated with whatever you run here\n",
    "model_type = 'test'"
   ]
  },
  {
   "cell_type": "markdown",
   "metadata": {},
   "source": [
    "Create all the directories things might be saved in"
   ]
  },
  {
   "cell_type": "code",
   "execution_count": 3,
   "metadata": {},
   "outputs": [
    {
     "name": "stdout",
     "output_type": "stream",
     "text": [
      "Directories already exist\n"
     ]
    }
   ],
   "source": [
    "try:\n",
    "    os.makedirs('Models/' + subjID + '/' + model_type + '/Session1')\n",
    "    os.makedirs('Models/' + subjID + '/' + model_type + '/Session2')\n",
    "    os.makedirs('Models/' + subjID + '/' + model_type + '/Session3')\n",
    "    os.makedirs('Figures/' + subjID + '/' + model_type)\n",
    "except:\n",
    "    print('Directories already exist')"
   ]
  },
  {
   "cell_type": "markdown",
   "metadata": {},
   "source": [
    "# PART 1: Create the Initial Models\n",
    "This section allows us to play around with the initial motor imagery and error classifier models."
   ]
  },
  {
   "cell_type": "markdown",
   "metadata": {},
   "source": [
    "### Create the error classifier\n",
    "This should take less than 2 minutes to run. Check Models/subjID/Session1 to see if the error model and the data file are generated.\n",
    "\n",
    "Once they are generated, you may have to stop and restart the kernel, and run the notebook but skip the cell below."
   ]
  },
  {
   "cell_type": "code",
   "execution_count": 7,
   "metadata": {},
   "outputs": [],
   "source": [
    "arg_EEGdevice = str(EEGdevice)"
   ]
  },
  {
   "cell_type": "code",
   "execution_count": 8,
   "metadata": {},
   "outputs": [],
   "source": [
    "#!python Create_Error_classifier.py -s $subjID -e $arg_EEGdevice -f n -m $model_type"
   ]
  },
  {
   "cell_type": "markdown",
   "metadata": {},
   "source": [
    "The above cell for some reason doesn't allow the notebook's kernel to move on after it has finished, so just call it manually in your Anaconda prompt using the below lines (replace the variables with their values):"
   ]
  },
  {
   "cell_type": "code",
   "execution_count": 10,
   "metadata": {},
   "outputs": [
    {
     "name": "stdout",
     "output_type": "stream",
     "text": [
      "python Create_Error_classifier.py -s e2cbc4 -e 8 -f n -m test\n"
     ]
    }
   ],
   "source": [
    "print('python Create_Error_classifier.py -s ' + subjID + ' -e ' + arg_EEGdevice + ' -f n -m ' + model_type)"
   ]
  },
  {
   "cell_type": "markdown",
   "metadata": {},
   "source": [
    "### Create the motor imagery classifier"
   ]
  },
  {
   "cell_type": "markdown",
   "metadata": {},
   "source": [
    "#### Function Definitions"
   ]
  },
  {
   "cell_type": "code",
   "execution_count": 11,
   "metadata": {},
   "outputs": [],
   "source": [
    "def LoadEEGData(filename, EEGdevice):\n",
    "    \"\"\" This function converts a single .easy file (from NIC2) to an easy-to-use dataframe.\n",
    "    Uses both the .easy file and .info file (containing metadata)\n",
    "    \n",
    "    ---- Input ----\n",
    "    filename: string containing the .easy filepath\n",
    "    \n",
    "    ---- Output ----\n",
    "    df: dataframe containing all the EEG, accelerometer, and event marker data\n",
    "    fs: sampling rate for the EEG data (Hz)\n",
    "    fs_accel: sampling rate for the accelerometer data (Hz)\n",
    "    \n",
    "    \"\"\"\n",
    "    if EEGdevice == 7:\n",
    "        x = 1\n",
    "    elif EEGdevice == 8:\n",
    "        # Read in the .easy file\n",
    "        df = pd.read_csv(filename, delimiter='\\t', header=None)\n",
    "\n",
    "        # Get metadata from the .info file\n",
    "        fname = filename[:-5] + '.info'\n",
    "        with open(fname) as f:\n",
    "            content = f.readlines()\n",
    "        content = [x.strip() for x in content]\n",
    "\n",
    "        # Get the channel names\n",
    "        channel_info = [x for x in content if 'Channel ' in x]\n",
    "        channel_names = []\n",
    "        for ch in range(len(channel_info)):\n",
    "            channel_names.append(channel_info[ch].split(': ')[1])\n",
    "\n",
    "        channel_names.append('X')\n",
    "        channel_names.append('Y')\n",
    "        channel_names.append('Z')\n",
    "        channel_names.append('STI 014')\n",
    "        channel_names.append('DateTime')\n",
    "\n",
    "        # Get sampling rates\n",
    "        sampling_rates = [x for x in content if 'sampling rate: ' in x]\n",
    "        fs_all = []\n",
    "        for freq in range(len(sampling_rates)):\n",
    "            tmp = sampling_rates[freq].split(': ')[1].split(' ')[0]\n",
    "            if tmp in ['N/A']:\n",
    "                print('Skipping N/A')\n",
    "            else:\n",
    "                fs_all.append(float(sampling_rates[freq].split(': ')[1].split(' ')[0]))\n",
    "\n",
    "        # Store sampling rates\n",
    "        fs = fs_all[0]\n",
    "        fs_accel = fs_all[1]\n",
    "\n",
    "        # Assign the column names\n",
    "        df.columns = channel_names\n",
    "    \n",
    "    # Return dataframe and sampling rates\n",
    "    return df, fs, fs_accel\n",
    "\n",
    "def LoadBehavioralData(filename_behavioral):\n",
    "    \"\"\"\n",
    "    This function loads behavioral data for the motor screening task and formats it to use in this script\n",
    "    \"\"\"\n",
    "    behavioralData = pd.read_csv(filename_behavioral, ',')\n",
    "    behavioralData = behavioralData.transpose()\n",
    "    behavioralHeader = behavioralData.iloc[0]\n",
    "    behavioralData = behavioralData.iloc[2:]\n",
    "    behavioralData.columns = behavioralHeader\n",
    "    \n",
    "    return behavioralData\n",
    "\n",
    "def SyncTriggerPulses(EEGdata, EEGdevice, fs, behavioralData):\n",
    "    \"\"\"\n",
    "    This function returns the indices for events of interest\n",
    "    \"\"\"\n",
    "    \n",
    "    if EEGdevice == 7:\n",
    "        print('Put code here')\n",
    "    elif EEGdevice == 8:\n",
    "        # Store where the values in trigger are equal to 8 (the audio trigger input channel number)\n",
    "        index_trigger = np.where(EEGdata['STI 014']!=0)\n",
    "        index_trigger = index_trigger[0]\n",
    "        \n",
    "        # Check number of trials\n",
    "        num_of_trials = behavioralData.shape[0]\n",
    "        if num_of_trials > len(index_trigger):\n",
    "            num_of_trials = num_of_trials - 1\n",
    "            num_trials_removed = 1\n",
    "        else:\n",
    "            num_trials_removed = 0\n",
    "        \n",
    "        trialLength = int(behavioralData['trialLength'][1])\n",
    "\n",
    "        # Get trial timing\n",
    "        t_trial_start = list()\n",
    "        t_trial_end = list()\n",
    "\n",
    "        # Creating lists of all trigger start and end locations\n",
    "        for i in range(0,num_of_trials):\n",
    "            t_trial_start.append(index_trigger[i])\n",
    "            t_trial_end.append(index_trigger[i] + int(trialLength*fs))\n",
    "\n",
    "        # Save rest period epochs as well as trials for comparison\n",
    "        t_rest_start = list()\n",
    "        t_rest_end = list()\n",
    "\n",
    "        for i in range(num_of_trials-1):\n",
    "            t_rest_start.append(t_trial_end[i])\n",
    "            t_rest_end.append(t_trial_start[i+1])\n",
    "    \n",
    "    return num_of_trials, t_trial_start, t_trial_end, t_rest_start, t_rest_end\n",
    "\n",
    "def EpochData(EEGdata, t_trial_start, t_trial_end):\n",
    "    \"\"\"\n",
    "    This function epochs the data\n",
    "    \"\"\"\n",
    "    \n",
    "    if EEGdevice == 7:\n",
    "        channels = EEGdata.columns[1:8]\n",
    "    elif EEGdevice == 8:\n",
    "        channels = EEGdata.columns[0:8]\n",
    "    \n",
    "    epochs = []\n",
    "    epochs_norm = []\n",
    "\n",
    "    for trial in range(0,len(t_trial_start)):\n",
    "        t_start = t_trial_start[trial]\n",
    "        t_end = t_trial_end[trial]\n",
    "\n",
    "        # Baseline\n",
    "        if trial == 0:\n",
    "            tb_start = t_trial_start[trial] - np.round(1.5*fs)\n",
    "            tb_end = t_trial_start[trial]\n",
    "        else:\n",
    "            tb_start = t_trial_end[trial-1]\n",
    "            tb_end = t_trial_start[trial]\n",
    "            \n",
    "        baseline = EEGdata.loc[tb_start:tb_end][channels]\n",
    "        \n",
    "        # Store epoch\n",
    "        tmp = (EEGdata.loc[t_start:t_end][channels] - np.mean(baseline))/np.std(baseline)\n",
    "        epochs_norm.append(tmp)\n",
    "        epochs.append(EEGdata.loc[t_start:t_end][channels])\n",
    "    \n",
    "    return epochs, epochs_norm\n",
    "\n",
    "def CutEpochs(epochs, fs, trial_type):\n",
    "    epochs_cut = []\n",
    "    trial_type_cut = list()\n",
    "\n",
    "    num_of_epochs = len(epochs)\n",
    "    full_epoch_length = np.shape(epochs[0])[0]\n",
    "    cut_epoch_length = int(1.750*fs)\n",
    "\n",
    "    sliding_window_starts = np.floor(np.linspace(1*fs, full_epoch_length - cut_epoch_length, 10))\n",
    "\n",
    "    # For each epoch\n",
    "    for epochOfInt in range(0,num_of_epochs):\n",
    "        # Reset the index within each epoch temporarily\n",
    "        reset_index = epochs[epochOfInt].reset_index(drop=True)\n",
    "\n",
    "        # Sliding window of 750 ms\n",
    "        for new_start in sliding_window_starts:\n",
    "            tmp = reset_index.loc[new_start:new_start+cut_epoch_length]\n",
    "            epochs_cut.append(tmp)\n",
    "            trial_type_cut.append(trial_type[epochOfInt])\n",
    "    \n",
    "    num_of_trials_cut = len(trial_type_cut)\n",
    "    \n",
    "    return epochs_cut, trial_type_cut, num_of_trials_cut\n",
    "\n",
    "def OrganizeTrials(behavioralData):\n",
    "    \"\"\"\n",
    "    Organizes trials\n",
    "    \"\"\"\n",
    "    \n",
    "    # Create lists for each trial type\n",
    "    trialL = list()\n",
    "    trialR = list()\n",
    "    i = 0\n",
    "\n",
    "    for letter in behavioralData['trialType']:\n",
    "        if letter == 'L':\n",
    "            trialL.append(i)\n",
    "        elif letter == 'R':\n",
    "            trialR.append(i)\n",
    "        i += 1\n",
    "    \n",
    "    # Create a single list that includes which trial is which (L = 0, R = 1)\n",
    "    trial_type = list()\n",
    "    i = 0\n",
    "\n",
    "    for letter in behavioralData['trialType']:\n",
    "        if letter == 'L':\n",
    "            trial_type.append(0)\n",
    "        elif letter == 'R':\n",
    "            trial_type.append(1)\n",
    "        i += 1\n",
    "    \n",
    "    print('np.shape(trial_type): ' + str(np.shape(trial_type)))\n",
    "\n",
    "    return trial_type, trialL, trialR\n",
    "\n",
    "def ExtractFeatures(epochs, num_of_trials, channelsToUse, ds_factor):\n",
    "    \"\"\"\n",
    "    Extract signal features of interest\n",
    "    \"\"\"\n",
    "    \n",
    "    # Get the summed delta power for each trial\n",
    "    alpha_power = dict.fromkeys(channelsToUse)\n",
    "    beta_power = dict.fromkeys(channelsToUse)\n",
    "    ds_f = ds_factor # downsampling factor\n",
    "\n",
    "    for chanOfInt in channelsToUse:\n",
    "        tmp_alpha = list()\n",
    "        tmp_beta = list()\n",
    "\n",
    "        for trial in range(0, num_of_trials):\n",
    "            f, Pxx_den = signal.welch(signal.decimate(epochs[trial][chanOfInt],ds_f), fs/ds_f, scaling='spectrum')\n",
    "            alpha_idx = np.where(np.logical_and(np.round(f) > 8, np.round(f) <= 12))\n",
    "            tmp_alpha.append(np.sum(Pxx_den[alpha_idx]))\n",
    "\n",
    "            beta_idx = np.where(np.logical_and(np.round(f) > 13, np.round(f) <= 30))\n",
    "            tmp_beta.append(np.sum(Pxx_den[beta_idx]))\n",
    "\n",
    "        alpha_power[chanOfInt] = tmp_alpha\n",
    "        beta_power[chanOfInt] = tmp_beta\n",
    "    \n",
    "    return alpha_power, beta_power\n",
    "\n",
    "def SaveDecoderAndData(clf, X, X_not_scaled, y, subjID, session_number, model_type):\n",
    "    \"\"\"\n",
    "    Save the decoder and the data it was trained/tested on\n",
    "    \"\"\"\n",
    "    time_to_save = datetime.datetime.now().isoformat()\n",
    "    time_to_save = time_to_save.replace('T','-')\n",
    "    time_to_save = time_to_save.replace(':','-')\n",
    "    \n",
    "    model = clf\n",
    "    model_file = 'Models/' + subjID + '/' + model_type + '/Session' + str(session_number) + '/' + subjID + '_MI_classifier_' + time_to_save[:19] + '.sav'\n",
    "    pickle.dump(model, open(model_file, 'wb'))\n",
    "    \n",
    "    filepath_export_data = 'Models/' + subjID + '/' + model_type + '/Session' + str(session_number) + '/' + subjID + '_data_for_MI_classifier_' + time_to_save[:19] + '.npz'\n",
    "    np.savez_compressed(filepath_export_data, subjID=subjID, X=X, X_not_scaled=X_not_scaled, y=y)"
   ]
  },
  {
   "cell_type": "markdown",
   "metadata": {},
   "source": [
    "#### Run code"
   ]
  },
  {
   "cell_type": "markdown",
   "metadata": {},
   "source": [
    "**Edit this one to change what the initial decoder is like!**"
   ]
  },
  {
   "cell_type": "code",
   "execution_count": 12,
   "metadata": {},
   "outputs": [],
   "source": [
    "def TrainDecoder(X, y):\n",
    "    \"\"\"\n",
    "    Trains the decoder on ALL the data (does not split into test and train because this is all train)\n",
    "    \"\"\"\n",
    "    # preprocess dataset, split into training and test part\n",
    "    args = np.arange(len(X))\n",
    "    np.random.shuffle(args)\n",
    "    X = [X[i] for i in args]\n",
    "    y = [y[i] for i in args]\n",
    "    X_not_scaled = X\n",
    "    X = StandardScaler().fit_transform(X)\n",
    "\n",
    "    # Resample to account for imbalance\n",
    "    method = SMOTE(kind='regular')\n",
    "    X_balanced, y_balanced = method.fit_sample(X, y)\n",
    "\n",
    "    # Determine model parameters\n",
    "    activations = ['relu','tanh']\n",
    "    alphas = np.logspace(-6, 3, 10)\n",
    "    solvers = ['lbfgs','sgd']\n",
    "    hyper_params = {\"activation\":activations, \"alpha\":alphas, \"solver\":solvers}\n",
    "    grid = GridSearchCV(MLPClassifier(learning_rate='constant', random_state=1), param_grid=hyper_params, cv=KFold(n_splits=5), verbose=True)\n",
    "    grid.fit(X_balanced, y_balanced)\n",
    "\n",
    "    # Fit the model\n",
    "    clf = grid.best_estimator_\n",
    "    clf.fit(X_balanced,y_balanced)\n",
    "\n",
    "    \"\"\"\n",
    "    # Determine model parameters\n",
    "    activations = ['relu','tanh']\n",
    "    alphas = np.logspace(-6, 3, 10)\n",
    "    solvers = ['lbfgs','sgd']\n",
    "    hyper_params = {\"activation\":activations, \"alpha\":alphas, \"solver\":solvers}\n",
    "    grid = GridSearchCV(MLPClassifier(learning_rate='constant', random_state=1), param_grid=hyper_params, cv=KFold(n_splits=5), verbose=True)\n",
    "    grid.fit(X, y)\n",
    "\n",
    "    # Fit the model\n",
    "    clf = grid.best_estimator_\n",
    "    clf.fit(X,y)\n",
    "    \"\"\"\n",
    "    \n",
    "    return clf, X, X_not_scaled, y"
   ]
  },
  {
   "cell_type": "markdown",
   "metadata": {},
   "source": [
    "Run"
   ]
  },
  {
   "cell_type": "code",
   "execution_count": 13,
   "metadata": {},
   "outputs": [
    {
     "name": "stdout",
     "output_type": "stream",
     "text": [
      "SaveData/e2cbc4/Session1\\20190301131945_e2cbc4_Motor_Screening.easy\n",
      "SaveData/e2cbc4/Session1\\e2cbc4_Motor_Screening_R1.csv\n"
     ]
    }
   ],
   "source": [
    "# Automatically find the most recent files\n",
    "eeg_files = glob.glob('SaveData/' + subjID + '/Session' + str(session_number) + '/*' + subjID + '_Motor*.easy')\n",
    "filename_eeg = eeg_files[-1] # load the most recent eeg file\n",
    "print(filename_eeg)\n",
    "\n",
    "behav_files = glob.glob('SaveData/' + subjID + '/Session' + str(session_number) + '/' + subjID + '_Motor_Screening_*.csv')\n",
    "filename_behavioral = behav_files[-1] # load the most recent behavioral file\n",
    "print(filename_behavioral)"
   ]
  },
  {
   "cell_type": "code",
   "execution_count": 14,
   "metadata": {
    "scrolled": true
   },
   "outputs": [
    {
     "name": "stdout",
     "output_type": "stream",
     "text": [
      "Skipping N/A\n",
      "Setting up band-pass filter from 1 - 40 Hz\n",
      "l_trans_bandwidth chosen to be 1.0 Hz\n",
      "h_trans_bandwidth chosen to be 10.0 Hz\n",
      "Filter length of 1651 samples (3.302 sec) selected\n",
      "np.shape(trial_type): (100,)\n"
     ]
    },
    {
     "name": "stderr",
     "output_type": "stream",
     "text": [
      "C:\\Users\\nile\\Anaconda3\\envs\\eeg\\lib\\site-packages\\scipy\\signal\\_arraytools.py:45: FutureWarning: Using a non-tuple sequence for multidimensional indexing is deprecated; use `arr[tuple(seq)]` instead of `arr[seq]`. In the future this will be interpreted as an array index, `arr[np.array(seq)]`, which will result either in an error or a different result.\n",
      "  b = a[a_slice]\n",
      "C:\\Users\\nile\\Anaconda3\\envs\\eeg\\lib\\site-packages\\scipy\\signal\\signaltools.py:3463: FutureWarning: Using a non-tuple sequence for multidimensional indexing is deprecated; use `arr[tuple(seq)]` instead of `arr[seq]`. In the future this will be interpreted as an array index, `arr[np.array(seq)]`, which will result either in an error or a different result.\n",
      "  return y[sl]\n"
     ]
    },
    {
     "name": "stdout",
     "output_type": "stream",
     "text": [
      "(990, 4)\n",
      "(990,)\n",
      "99\n",
      "Fitting 5 folds for each of 40 candidates, totalling 200 fits\n"
     ]
    },
    {
     "name": "stderr",
     "output_type": "stream",
     "text": [
      "[Parallel(n_jobs=1)]: Using backend SequentialBackend with 1 concurrent workers.\n",
      "C:\\Users\\nile\\Anaconda3\\envs\\eeg\\lib\\site-packages\\sklearn\\neural_network\\multilayer_perceptron.py:562: ConvergenceWarning: Stochastic Optimizer: Maximum iterations (200) reached and the optimization hasn't converged yet.\n",
      "  % self.max_iter, ConvergenceWarning)\n",
      "C:\\Users\\nile\\Anaconda3\\envs\\eeg\\lib\\site-packages\\sklearn\\neural_network\\multilayer_perceptron.py:562: ConvergenceWarning: Stochastic Optimizer: Maximum iterations (200) reached and the optimization hasn't converged yet.\n",
      "  % self.max_iter, ConvergenceWarning)\n",
      "C:\\Users\\nile\\Anaconda3\\envs\\eeg\\lib\\site-packages\\sklearn\\neural_network\\multilayer_perceptron.py:562: ConvergenceWarning: Stochastic Optimizer: Maximum iterations (200) reached and the optimization hasn't converged yet.\n",
      "  % self.max_iter, ConvergenceWarning)\n",
      "C:\\Users\\nile\\Anaconda3\\envs\\eeg\\lib\\site-packages\\sklearn\\neural_network\\multilayer_perceptron.py:562: ConvergenceWarning: Stochastic Optimizer: Maximum iterations (200) reached and the optimization hasn't converged yet.\n",
      "  % self.max_iter, ConvergenceWarning)\n",
      "C:\\Users\\nile\\Anaconda3\\envs\\eeg\\lib\\site-packages\\sklearn\\neural_network\\multilayer_perceptron.py:562: ConvergenceWarning: Stochastic Optimizer: Maximum iterations (200) reached and the optimization hasn't converged yet.\n",
      "  % self.max_iter, ConvergenceWarning)\n",
      "C:\\Users\\nile\\Anaconda3\\envs\\eeg\\lib\\site-packages\\sklearn\\neural_network\\multilayer_perceptron.py:562: ConvergenceWarning: Stochastic Optimizer: Maximum iterations (200) reached and the optimization hasn't converged yet.\n",
      "  % self.max_iter, ConvergenceWarning)\n",
      "C:\\Users\\nile\\Anaconda3\\envs\\eeg\\lib\\site-packages\\sklearn\\neural_network\\multilayer_perceptron.py:562: ConvergenceWarning: Stochastic Optimizer: Maximum iterations (200) reached and the optimization hasn't converged yet.\n",
      "  % self.max_iter, ConvergenceWarning)\n",
      "C:\\Users\\nile\\Anaconda3\\envs\\eeg\\lib\\site-packages\\sklearn\\neural_network\\multilayer_perceptron.py:562: ConvergenceWarning: Stochastic Optimizer: Maximum iterations (200) reached and the optimization hasn't converged yet.\n",
      "  % self.max_iter, ConvergenceWarning)\n",
      "C:\\Users\\nile\\Anaconda3\\envs\\eeg\\lib\\site-packages\\sklearn\\neural_network\\multilayer_perceptron.py:562: ConvergenceWarning: Stochastic Optimizer: Maximum iterations (200) reached and the optimization hasn't converged yet.\n",
      "  % self.max_iter, ConvergenceWarning)\n",
      "C:\\Users\\nile\\Anaconda3\\envs\\eeg\\lib\\site-packages\\sklearn\\neural_network\\multilayer_perceptron.py:562: ConvergenceWarning: Stochastic Optimizer: Maximum iterations (200) reached and the optimization hasn't converged yet.\n",
      "  % self.max_iter, ConvergenceWarning)\n",
      "[Parallel(n_jobs=1)]: Done 200 out of 200 | elapsed:   46.0s finished\n"
     ]
    }
   ],
   "source": [
    "# Load EEG data\n",
    "EEGdata, fs, fs_accel = LoadEEGData(filename_eeg, EEGdevice)\n",
    "\n",
    "# Load behavioral data\n",
    "behavioralData = LoadBehavioralData(filename_behavioral)\n",
    "\n",
    "# Sync up trigger pulses\n",
    "num_of_trials, t_trial_start, t_trial_end, t_rest_start, t_rest_end = SyncTriggerPulses(EEGdata, EEGdevice, fs, behavioralData)\n",
    "\n",
    "# Filter the data\n",
    "if EEGdevice == 7:\n",
    "    channels = EEGdata.columns[1:8]\n",
    "elif EEGdevice == 8:\n",
    "    channels = EEGdata.columns[0:8]\n",
    "EEGdata_filt = EEGdata.copy()\n",
    "eeg_data = EEGdata[channels].values * 1.0 # multiply by 1.0 to convert int to float\n",
    "filtered = filter_data(eeg_data.T, sfreq=fs, l_freq=1, h_freq=40)\n",
    "EEGdata_filt[channels] = filtered.T\n",
    "\n",
    "# Epoch the data\n",
    "epochs, epochs_norm = EpochData(EEGdata_filt, t_trial_start, t_trial_end)\n",
    "\n",
    "# Organize trial types\n",
    "trial_type, trialL, trialR = OrganizeTrials(behavioralData)\n",
    "\n",
    "# Cut epochs\n",
    "epochs_cut, trial_type_cut, num_of_trials_cut = CutEpochs(epochs_norm, fs, trial_type)\n",
    "\n",
    "# Get signal features\n",
    "alpha_power, beta_power = ExtractFeatures(epochs_cut, num_of_trials_cut, ['C3','C4'], 1)\n",
    "motor_features = [alpha_power['C3'], alpha_power['C4'], beta_power['C3'], beta_power['C4']]\n",
    "motor_features = np.transpose(motor_features)\n",
    "\n",
    "# Train model\n",
    "print(np.shape(motor_features))\n",
    "print(np.shape(trial_type_cut))\n",
    "print(num_of_trials)\n",
    "clf, X, X_not_scaled, y = TrainDecoder(motor_features, trial_type_cut)\n",
    "\n",
    "# Save decoder and data it was trained/tested on\n",
    "SaveDecoderAndData(clf, X, X_not_scaled, y, subjID, session_number, model_type)"
   ]
  },
  {
   "cell_type": "markdown",
   "metadata": {},
   "source": [
    "# PART 2: Simulate Adaptation\n",
    "This section borrows code from `Adapt_MI_Decoder_Loop.ipnyb` but changes some of the paths to prevent overlap with the actual experimental data.\n",
    "\n",
    "If you've already run the below cell with the current subject and session number, skip it (otherwise the kernel will seem busy forever)."
   ]
  },
  {
   "cell_type": "code",
   "execution_count": 15,
   "metadata": {},
   "outputs": [],
   "source": [
    "arg_group = str(subject_group)\n",
    "arg_session = str(session_number)\n",
    "arg_EEGdevice = str(EEGdevice)"
   ]
  },
  {
   "cell_type": "code",
   "execution_count": 16,
   "metadata": {
    "scrolled": true
   },
   "outputs": [],
   "source": [
    "#!python Adapt_MI_Decoder_Loop.py -s $subjID -g $arg_group -n $arg_session -e $arg_EEGdevice -m $model_type"
   ]
  },
  {
   "cell_type": "markdown",
   "metadata": {},
   "source": [
    "The above cell for some reason doesn't allow `Adapt_MI_Decoder_Loop.py` to finish (get's stuck on run 5), so just call it manually in your Anaconda prompt using the below lines (replace the variables with their values):\n",
    "\n",
    "`python Adapt_MI_Decoder_Loop.py -s $subjID -g $arg_group -n $arg_session -e $arg_EEGdevice -m $model_type`"
   ]
  },
  {
   "cell_type": "code",
   "execution_count": 17,
   "metadata": {},
   "outputs": [
    {
     "name": "stdout",
     "output_type": "stream",
     "text": [
      "python Adapt_MI_Decoder_Loop.py -s e2cbc4 -g 1 -n 1 -e 8 -m test\n"
     ]
    }
   ],
   "source": [
    "print('python Adapt_MI_Decoder_Loop.py -s ' + subjID + ' -g ' + arg_group + ' -n ' + arg_session + ' -e ' + arg_EEGdevice + ' -m ' + model_type)"
   ]
  },
  {
   "cell_type": "markdown",
   "metadata": {},
   "source": [
    "# Part 3: Evaluate Performance\n",
    "This section outputs the plots that allow us to visualize all simulated performance."
   ]
  },
  {
   "cell_type": "code",
   "execution_count": 21,
   "metadata": {},
   "outputs": [],
   "source": [
    "# Load latest model and its associated data\n",
    "BCI_files = glob.glob('SaveData/' + subjID + '/Session' + str(session_number) + '/*' + subjID + '_BCI.easy')\n",
    "num_of_runs = len(BCI_files)"
   ]
  },
  {
   "cell_type": "code",
   "execution_count": 22,
   "metadata": {},
   "outputs": [
    {
     "name": "stdout",
     "output_type": "stream",
     "text": [
      "Detected number of BCI runs: 5\n"
     ]
    }
   ],
   "source": [
    "# Check that this is correct\n",
    "print('Detected number of BCI runs: ' + str(num_of_runs))"
   ]
  },
  {
   "cell_type": "markdown",
   "metadata": {},
   "source": [
    "### Function Definitions\n",
    "Functions for working with the BCI data"
   ]
  },
  {
   "cell_type": "code",
   "execution_count": 32,
   "metadata": {},
   "outputs": [],
   "source": [
    "def FindBCIFiles(subjID, run_number, session_number, model_type):\n",
    "    \"\"\"\n",
    "    Returns the file names for the BCI run of choice\n",
    "    \"\"\"\n",
    "    # Load latest model and its associated data\n",
    "    BCI_files = glob.glob('SaveData/' + subjID + '/Session' + str(session_number) + '/*' + subjID + '_BCI.easy')\n",
    "    \n",
    "    # Throw exception if model number is outside range of existing models\n",
    "    if run_number-1 > len(BCI_files):\n",
    "        raise ValueError('Please select a valid run number')\n",
    "    \n",
    "    filename_eeg = BCI_files[run_number-1]\n",
    "    print('Selecting BCI EEG file: ' + filename_eeg)\n",
    "\n",
    "    behavioral_files = glob.glob('SaveData/' + subjID + '/Session' + str(session_number) + '/BCI_' + subjID + '*.csv')\n",
    "    filename_behavioral = behavioral_files[run_number-1]\n",
    "    print('Selecting BCI behavioral file: ' + filename_behavioral)\n",
    "    \n",
    "    return filename_eeg, filename_behavioral"
   ]
  },
  {
   "cell_type": "code",
   "execution_count": 24,
   "metadata": {},
   "outputs": [],
   "source": [
    "def LoadEEGData(filename, EEGdevice):\n",
    "    \"\"\" This function converts a single .easy file (from NIC2) to an easy-to-use dataframe.\n",
    "    Uses both the .easy file and .info file (containing metadata)\n",
    "    \n",
    "    ---- Input ----\n",
    "    filename: string containing the .easy filepath\n",
    "    \n",
    "    ---- Output ----\n",
    "    df: dataframe containing all the EEG, accelerometer, and event marker data\n",
    "    fs: sampling rate for the EEG data (Hz)\n",
    "    fs_accel: sampling rate for the accelerometer data (Hz)\n",
    "    \n",
    "    \"\"\"\n",
    "    if EEGdevice == 7:\n",
    "        x = 1\n",
    "    elif EEGdevice == 8:\n",
    "        # Read in the .easy file\n",
    "        df = pd.read_csv(filename, delimiter='\\t', header=None)\n",
    "\n",
    "        # Get metadata from the .info file\n",
    "        fname = filename[:-5] + '.info'\n",
    "        with open(fname) as f:\n",
    "            content = f.readlines()\n",
    "        content = [x.strip() for x in content]\n",
    "\n",
    "        # Get the channel names\n",
    "        channel_info = [x for x in content if 'Channel ' in x]\n",
    "        channel_names = []\n",
    "        for ch in range(len(channel_info)):\n",
    "            channel_names.append(channel_info[ch].split(': ')[1])\n",
    "\n",
    "        channel_names.append('X')\n",
    "        channel_names.append('Y')\n",
    "        channel_names.append('Z')\n",
    "        channel_names.append('STI 014')\n",
    "        channel_names.append('DateTime')\n",
    "\n",
    "        # Get sampling rates\n",
    "        sampling_rates = [x for x in content if 'sampling rate: ' in x]\n",
    "        fs_all = []\n",
    "        for freq in range(len(sampling_rates)):\n",
    "            tmp = sampling_rates[freq].split(': ')[1].split(' ')[0]\n",
    "            if tmp in ['N/A']:\n",
    "                print('Skipping N/A')\n",
    "            else:\n",
    "                fs_all.append(float(sampling_rates[freq].split(': ')[1].split(' ')[0]))\n",
    "\n",
    "        # Store sampling rates\n",
    "        fs = fs_all[0]\n",
    "        fs_accel = fs_all[1]\n",
    "\n",
    "        # Assign the column names\n",
    "        df.columns = channel_names\n",
    "    \n",
    "    # Return dataframe and sampling rates\n",
    "    return df, fs, fs_accel"
   ]
  },
  {
   "cell_type": "code",
   "execution_count": 25,
   "metadata": {},
   "outputs": [],
   "source": [
    "def LoadBehavioralDataBCI(filename_behavioral):\n",
    "    \"\"\"\n",
    "    This function loads behavioral data for the motor screening task and formats it to use in this script\n",
    "    \"\"\"\n",
    "    behavioralData = pd.read_csv(filename_behavioral, ',')\n",
    "    \n",
    "    return behavioralData"
   ]
  },
  {
   "cell_type": "code",
   "execution_count": 26,
   "metadata": {},
   "outputs": [],
   "source": [
    "def SyncTriggerPulsesBCI(EEGdata, EEGdevice, fs, behavioralData):\n",
    "    \"\"\"\n",
    "    This function returns the indices for events of interest\n",
    "    \"\"\"\n",
    "    \n",
    "    if EEGdevice == 7:\n",
    "        print('Put code here')\n",
    "    elif EEGdevice == 8:\n",
    "        # Store where the values in trigger are equal to 8 (the audio trigger input channel number)\n",
    "        index_trigger = np.where(EEGdata['STI 014']!=0)\n",
    "        index_trigger = index_trigger[0]\n",
    "\n",
    "        # Number of trials is greater than number of total pulses sent\n",
    "        # 999 when the task ends\n",
    "        move_left_starts = np.where(EEGdata['STI 014'] == 1)[0]\n",
    "        move_right_starts = np.where(EEGdata['STI 014'] == 2)[0]\n",
    "        rest_starts = np.where(EEGdata['STI 014'] == 3)[0]\n",
    "        rest_ends = np.where(EEGdata['STI 014'] == 4)[0]\n",
    "        \n",
    "        # If the number of rest_starts and rest_ends don't match, drop the extra one\n",
    "        # there should, by default, only be 12 starts and 12 ends\n",
    "\n",
    "        if len(rest_ends) > len(rest_starts):\n",
    "            if rest_ends[0] < rest_starts[0]:\n",
    "                rest_ends = rest_ends[1:]\n",
    "        elif len(rest_ends) < len(rest_starts):\n",
    "            if rest_ends[0] > rest_starts[0]:\n",
    "                rest_starts = rest_starts[1:]\n",
    "        \n",
    "        move_starts = np.sort(np.concatenate((move_left_starts,move_right_starts),0))\n",
    "        total_movements = len(move_starts)\n",
    "\n",
    "        # exclude movements that occur without defined baseline (if you need to get rid of first rest)\n",
    "        hasBaseline = list()\n",
    "        for movement in range(0,len(move_starts)):\n",
    "            hasBaseline.append(True in (rest_starts < move_starts[movement]))\n",
    "\n",
    "        np.where(hasBaseline)\n",
    "        move_starts = move_starts[np.where(hasBaseline)]\n",
    "\n",
    "        # exclude the move lefts and move rights that were thrown out in move_starts\n",
    "        for movement in range(0,total_movements):\n",
    "            if hasBaseline[movement] is False:\n",
    "                # for the left movements\n",
    "                idx_left = np.where(move_left_starts == move_starts[movement])\n",
    "                idx_left = np.asarray(idx_left)\n",
    "                idx_right = np.where(move_right_starts == move_starts[movement])\n",
    "                idx_right = np.asarray(idx_right)\n",
    "\n",
    "                if idx_left.size > 0:\n",
    "                    move_left_starts = np.delete(move_left_starts, idx_left)\n",
    "                if idx_right.size > 0:\n",
    "                    move_right_starts = np.delete(move_right_starts, idx_right)\n",
    "                \n",
    "        num_of_trials = len(rest_starts)\n",
    "        num_of_movements = len(move_left_starts) + len(move_right_starts)\n",
    "    \n",
    "    return num_of_trials, num_of_movements, move_starts, hasBaseline, rest_starts, rest_ends"
   ]
  },
  {
   "cell_type": "code",
   "execution_count": 27,
   "metadata": {},
   "outputs": [],
   "source": [
    "def EpochBCIData(EEGdata, fs, move_starts, rest_starts, rest_ends):\n",
    "    \"\"\"\n",
    "    This function epochs the data\n",
    "    \"\"\"\n",
    "    \n",
    "    if EEGdevice == 7:\n",
    "        channels = EEGdata.columns[1:8]\n",
    "    elif EEGdevice == 8:\n",
    "        channels = EEGdata.columns[0:8]\n",
    "\n",
    "    epochs = []\n",
    "    epochs_norm = []\n",
    "\n",
    "    for movement in range(0,len(move_starts)):\n",
    "        # Data for this movement\n",
    "        t_start = move_starts[movement] - np.round(2.00*fs)\n",
    "        t_end = move_starts[movement] - np.round(0.250*fs)\n",
    "\n",
    "        # Baseline\n",
    "        restOfInt = np.max(np.where(rest_starts < move_starts[movement]))\n",
    "        tb_start = rest_starts[restOfInt]\n",
    "        tb_end = rest_ends[restOfInt]\n",
    "\n",
    "        # Note, baseline is filtered before it is used in the live script\n",
    "        baseline_pre_filt = np.asarray(EEGdata.loc[tb_start:tb_end][channels]) * 1.0\n",
    "        baseline_filt = filter_data(baseline_pre_filt.T, sfreq=fs, l_freq=7, h_freq=31, verbose='ERROR')\n",
    "        baseline = baseline_filt.T\n",
    "\n",
    "        # Filter per epoch, like you would in real-time\n",
    "        pre_filt = np.asarray(EEGdata.loc[t_start:t_end][channels]) * 1.0\n",
    "        filtered = filter_data(pre_filt.T, sfreq=fs, l_freq=7, h_freq=31, verbose='ERROR')\n",
    "        epoch = pd.DataFrame(filtered.T)\n",
    "        epoch.columns = EEGdata.columns[0:8]\n",
    "\n",
    "        # Store epoch\n",
    "        tmp = (epoch - np.mean(baseline))/np.std(baseline)\n",
    "        tmp = pd.DataFrame(tmp)\n",
    "        tmp.columns = EEGdata.columns[0:8]\n",
    "\n",
    "        epochs_norm.append(tmp)\n",
    "        epochs.append(epoch)\n",
    "\n",
    "    return epochs, epochs_norm"
   ]
  },
  {
   "cell_type": "code",
   "execution_count": 28,
   "metadata": {},
   "outputs": [],
   "source": [
    "def OrganizeTrials(behavioralData, hasBaseline):\n",
    "    \"\"\"\n",
    "    Organizes trials\n",
    "    \"\"\"\n",
    "    \n",
    "    # When the target is to the left\n",
    "    trialL = np.where(behavioralData['target_x'] < 1000)\n",
    "    \n",
    "    # When target was to the right\n",
    "    trialR = np.where(behavioralData['target_x'] > 1000)\n",
    "    \n",
    "    # Create a single list that includes which movement is which (L = 0, R = 1)\n",
    "    trial_type = np.zeros([1,len(behavioralData['score'])])\n",
    "    trial_type[0][trialL] = 0\n",
    "    trial_type[0][trialR] = 1\n",
    "\n",
    "    trial_type = np.round(trial_type[0])\n",
    "    \n",
    "    # Remove trials if no baseline\n",
    "    for movement in range(0,len(hasBaseline)):\n",
    "        if hasBaseline[movement] is False:\n",
    "            trial_type = np.delete(trial_type, movement)\n",
    "            \n",
    "    return trial_type"
   ]
  },
  {
   "cell_type": "code",
   "execution_count": 29,
   "metadata": {},
   "outputs": [],
   "source": [
    "def ExtractFeaturesBCI(epochs, num_of_movements, channelsToUse, ds_factor):\n",
    "    \"\"\"\n",
    "    Extract signal features of interest\n",
    "    \"\"\"\n",
    "    \n",
    "    # Get the summed delta power for each trial\n",
    "    alpha_power = dict.fromkeys(channelsToUse)\n",
    "    beta_power = dict.fromkeys(channelsToUse)\n",
    "    ds_f = ds_factor # downsampling factor\n",
    "\n",
    "    for chanOfInt in channelsToUse:\n",
    "        tmp_alpha = list()\n",
    "        tmp_beta = list()\n",
    "\n",
    "        for movement in range(0, num_of_movements):\n",
    "            f, Pxx_den = signal.welch(signal.decimate(epochs[movement][chanOfInt],ds_f), fs/ds_f, scaling='spectrum')\n",
    "            alpha_idx = np.where(np.logical_and(np.round(f) > 8, np.round(f) <= 12))\n",
    "            tmp_alpha.append(np.sum(Pxx_den[alpha_idx]))\n",
    "\n",
    "            beta_idx = np.where(np.logical_and(np.round(f) > 13, np.round(f) <= 30))\n",
    "            tmp_beta.append(np.sum(Pxx_den[beta_idx]))\n",
    "\n",
    "        alpha_power[chanOfInt] = tmp_alpha\n",
    "        beta_power[chanOfInt] = tmp_beta\n",
    "    \n",
    "    return alpha_power, beta_power"
   ]
  },
  {
   "cell_type": "code",
   "execution_count": 30,
   "metadata": {},
   "outputs": [],
   "source": [
    "def LoadModel_MI(subjID, model_type, run_number=0, session_number=1, adaptationType='CS'):\n",
    "    \"\"\"\n",
    "    This function loads the most recent motor imagery classifier\n",
    "    for this subject by default. Current run minus 1.\n",
    "    \n",
    "    You may also select which number model (from original to most recent)\n",
    "    by using a value from 0 (original) to 4 (most recent)\n",
    "    \"\"\"\n",
    "    runOfInt = run_number\n",
    "    run_number = runOfInt - 1\n",
    "    # Load latest model and its associated data\n",
    "    if runOfInt == 1:\n",
    "        models = glob.glob('Models/' + subjID + '/' + model_type + '/Session' + str(session_number) + '/' + subjID + '_MI_classifier_*')\n",
    "        models_data_list = glob.glob('Models/' + subjID + '/' + model_type + '/Session' + str(session_number) + '/' + subjID + '_data_for_MI_classifier_*')\n",
    "    else:\n",
    "        if adaptationType == 'CS' or adaptationType == 'None':\n",
    "            models = glob.glob('Models/' + subjID + '/' + model_type + '/Session' + str(session_number) + '/' + subjID + '_MI_classifier_*')\n",
    "            models_data_list = glob.glob('Models/' + subjID + '/' + model_type + '/Session' + str(session_number) + '/' + subjID + '_data_for_MI_classifier_*')\n",
    "        elif adaptationType == 'TL':\n",
    "            models = glob.glob('Models/' + subjID + '/' + model_type + '/Session' + str(session_number) + '/' + subjID + '_MI_classifier_TL_*')\n",
    "            models_data_list = glob.glob('Models/' + subjID + '/' + model_type + '/Session' + str(session_number) + '/' + subjID + '_data_for_MI_classifier_TL_*')\n",
    "    \n",
    "    # Throw exception if model number is outside range of existing models\n",
    "    if run_number > len(models):\n",
    "        raise ValueError('Please select a valid model number')\n",
    "    if adaptationType == 'TL':\n",
    "        run_number = run_number -1\n",
    "    model_file = models[run_number] # load the most recent model\n",
    "    print('Selecting model: ' + model_file)\n",
    "    clf = pickle.load(open(model_file, 'rb'))\n",
    "\n",
    "    models_data = models_data_list[run_number] # load the most recent model\n",
    "    MI_data = np.load(models_data)\n",
    "    X_loaded = MI_data['X_not_scaled']\n",
    "    y_loaded = MI_data['y']\n",
    "    \n",
    "    return clf, X_loaded, y_loaded"
   ]
  },
  {
   "cell_type": "markdown",
   "metadata": {},
   "source": [
    "## Code to Run"
   ]
  },
  {
   "cell_type": "markdown",
   "metadata": {},
   "source": [
    "Run in a loop"
   ]
  },
  {
   "cell_type": "code",
   "execution_count": 33,
   "metadata": {
    "scrolled": true
   },
   "outputs": [
    {
     "name": "stdout",
     "output_type": "stream",
     "text": [
      "Selecting BCI EEG file: SaveData/e2cbc4/Session1\\20190301133119_e2cbc4_BCI.easy\n",
      "Selecting BCI behavioral file: SaveData/e2cbc4/Session1\\BCI_e2cbc4_R1.csv\n",
      "Skipping N/A\n"
     ]
    },
    {
     "name": "stderr",
     "output_type": "stream",
     "text": [
      "C:\\Users\\nile\\Anaconda3\\envs\\eeg\\lib\\site-packages\\scipy\\signal\\_arraytools.py:45: FutureWarning: Using a non-tuple sequence for multidimensional indexing is deprecated; use `arr[tuple(seq)]` instead of `arr[seq]`. In the future this will be interpreted as an array index, `arr[np.array(seq)]`, which will result either in an error or a different result.\n",
      "  b = a[a_slice]\n",
      "C:\\Users\\nile\\Anaconda3\\envs\\eeg\\lib\\site-packages\\scipy\\signal\\signaltools.py:3463: FutureWarning: Using a non-tuple sequence for multidimensional indexing is deprecated; use `arr[tuple(seq)]` instead of `arr[seq]`. In the future this will be interpreted as an array index, `arr[np.array(seq)]`, which will result either in an error or a different result.\n",
      "  return y[sl]\n"
     ]
    },
    {
     "name": "stdout",
     "output_type": "stream",
     "text": [
      "Selecting model: Models/e2cbc4/test/Session1\\e2cbc4_MI_classifier_2019-03-04-14-07-08.sav\n",
      "Selecting model: Models/e2cbc4/test/Session1\\e2cbc4_MI_classifier_2019-03-04-14-07-08.sav\n",
      "Selecting model: Models/e2cbc4/test/Session1\\e2cbc4_MI_classifier_2019-03-04-14-07-08.sav\n",
      "Selecting BCI EEG file: SaveData/e2cbc4/Session1\\20190301133623_e2cbc4_BCI.easy\n",
      "Selecting BCI behavioral file: SaveData/e2cbc4/Session1\\BCI_e2cbc4_R2.csv\n",
      "Skipping N/A\n"
     ]
    },
    {
     "name": "stderr",
     "output_type": "stream",
     "text": [
      "C:\\Users\\nile\\Anaconda3\\envs\\eeg\\lib\\site-packages\\scipy\\signal\\_arraytools.py:45: FutureWarning: Using a non-tuple sequence for multidimensional indexing is deprecated; use `arr[tuple(seq)]` instead of `arr[seq]`. In the future this will be interpreted as an array index, `arr[np.array(seq)]`, which will result either in an error or a different result.\n",
      "  b = a[a_slice]\n",
      "C:\\Users\\nile\\Anaconda3\\envs\\eeg\\lib\\site-packages\\scipy\\signal\\signaltools.py:3463: FutureWarning: Using a non-tuple sequence for multidimensional indexing is deprecated; use `arr[tuple(seq)]` instead of `arr[seq]`. In the future this will be interpreted as an array index, `arr[np.array(seq)]`, which will result either in an error or a different result.\n",
      "  return y[sl]\n"
     ]
    },
    {
     "name": "stdout",
     "output_type": "stream",
     "text": [
      "Selecting model: Models/e2cbc4/test/Session1\\e2cbc4_MI_classifier_2019-03-04-14-07-08.sav\n",
      "Selecting model: Models/e2cbc4/test/Session1\\e2cbc4_MI_classifier_2019-03-04-14-08-55.sav\n",
      "Selecting model: Models/e2cbc4/test/Session1\\e2cbc4_MI_classifier_TL_2019-03-04-14-08-55.sav\n",
      "Selecting BCI EEG file: SaveData/e2cbc4/Session1\\20190301134108_e2cbc4_BCI.easy\n",
      "Selecting BCI behavioral file: SaveData/e2cbc4/Session1\\BCI_e2cbc4_R3.csv\n",
      "Skipping N/A\n"
     ]
    },
    {
     "name": "stderr",
     "output_type": "stream",
     "text": [
      "C:\\Users\\nile\\Anaconda3\\envs\\eeg\\lib\\site-packages\\scipy\\signal\\_arraytools.py:45: FutureWarning: Using a non-tuple sequence for multidimensional indexing is deprecated; use `arr[tuple(seq)]` instead of `arr[seq]`. In the future this will be interpreted as an array index, `arr[np.array(seq)]`, which will result either in an error or a different result.\n",
      "  b = a[a_slice]\n",
      "C:\\Users\\nile\\Anaconda3\\envs\\eeg\\lib\\site-packages\\scipy\\signal\\signaltools.py:3463: FutureWarning: Using a non-tuple sequence for multidimensional indexing is deprecated; use `arr[tuple(seq)]` instead of `arr[seq]`. In the future this will be interpreted as an array index, `arr[np.array(seq)]`, which will result either in an error or a different result.\n",
      "  return y[sl]\n"
     ]
    },
    {
     "name": "stdout",
     "output_type": "stream",
     "text": [
      "Selecting model: Models/e2cbc4/test/Session1\\e2cbc4_MI_classifier_2019-03-04-14-07-08.sav\n",
      "Selecting model: Models/e2cbc4/test/Session1\\e2cbc4_MI_classifier_2019-03-04-14-08-58.sav\n",
      "Selecting model: Models/e2cbc4/test/Session1\\e2cbc4_MI_classifier_TL_2019-03-04-14-08-59.sav\n",
      "Selecting BCI EEG file: SaveData/e2cbc4/Session1\\20190301134618_e2cbc4_BCI.easy\n",
      "Selecting BCI behavioral file: SaveData/e2cbc4/Session1\\BCI_e2cbc4_R4.csv\n",
      "Skipping N/A\n"
     ]
    },
    {
     "name": "stderr",
     "output_type": "stream",
     "text": [
      "C:\\Users\\nile\\Anaconda3\\envs\\eeg\\lib\\site-packages\\scipy\\signal\\_arraytools.py:45: FutureWarning: Using a non-tuple sequence for multidimensional indexing is deprecated; use `arr[tuple(seq)]` instead of `arr[seq]`. In the future this will be interpreted as an array index, `arr[np.array(seq)]`, which will result either in an error or a different result.\n",
      "  b = a[a_slice]\n",
      "C:\\Users\\nile\\Anaconda3\\envs\\eeg\\lib\\site-packages\\scipy\\signal\\signaltools.py:3463: FutureWarning: Using a non-tuple sequence for multidimensional indexing is deprecated; use `arr[tuple(seq)]` instead of `arr[seq]`. In the future this will be interpreted as an array index, `arr[np.array(seq)]`, which will result either in an error or a different result.\n",
      "  return y[sl]\n"
     ]
    },
    {
     "name": "stdout",
     "output_type": "stream",
     "text": [
      "Selecting model: Models/e2cbc4/test/Session1\\e2cbc4_MI_classifier_2019-03-04-14-07-08.sav\n",
      "Selecting model: Models/e2cbc4/test/Session1\\e2cbc4_MI_classifier_2019-03-04-14-09-02.sav\n",
      "Selecting model: Models/e2cbc4/test/Session1\\e2cbc4_MI_classifier_TL_2019-03-04-14-09-03.sav\n",
      "Selecting BCI EEG file: SaveData/e2cbc4/Session1\\20190301135102_e2cbc4_BCI.easy\n",
      "Selecting BCI behavioral file: SaveData/e2cbc4/Session1\\BCI_e2cbc4_R5.csv\n",
      "Skipping N/A\n"
     ]
    },
    {
     "name": "stderr",
     "output_type": "stream",
     "text": [
      "C:\\Users\\nile\\Anaconda3\\envs\\eeg\\lib\\site-packages\\scipy\\signal\\_arraytools.py:45: FutureWarning: Using a non-tuple sequence for multidimensional indexing is deprecated; use `arr[tuple(seq)]` instead of `arr[seq]`. In the future this will be interpreted as an array index, `arr[np.array(seq)]`, which will result either in an error or a different result.\n",
      "  b = a[a_slice]\n",
      "C:\\Users\\nile\\Anaconda3\\envs\\eeg\\lib\\site-packages\\scipy\\signal\\signaltools.py:3463: FutureWarning: Using a non-tuple sequence for multidimensional indexing is deprecated; use `arr[tuple(seq)]` instead of `arr[seq]`. In the future this will be interpreted as an array index, `arr[np.array(seq)]`, which will result either in an error or a different result.\n",
      "  return y[sl]\n"
     ]
    },
    {
     "name": "stdout",
     "output_type": "stream",
     "text": [
      "Selecting model: Models/e2cbc4/test/Session1\\e2cbc4_MI_classifier_2019-03-04-14-07-08.sav\n",
      "Selecting model: Models/e2cbc4/test/Session1\\e2cbc4_MI_classifier_2019-03-04-14-09-05.sav\n",
      "Selecting model: Models/e2cbc4/test/Session1\\e2cbc4_MI_classifier_TL_2019-03-04-14-09-07.sav\n"
     ]
    }
   ],
   "source": [
    "orig_scores = list()\n",
    "sim_scores = list()\n",
    "sim_TL_scores = list()\n",
    "X_orig_all = dict()\n",
    "y_orig_all = dict()\n",
    "X_sim_all = dict()\n",
    "y_sim_all = dict()\n",
    "X_sim_TL_all = dict()\n",
    "y_sim_TL_all = dict()\n",
    "clf_orig_all = dict()\n",
    "clf_sim_all = dict()\n",
    "clf_sim_TL_all = dict() # for simulated true-label adaptation\n",
    "\n",
    "for runOfInt in range(1, num_of_runs+1):\n",
    "    # Find BCI file names\n",
    "    filename_eeg, filename_behavioral = FindBCIFiles(subjID, runOfInt, session_number, model_type)\n",
    "    \n",
    "    # Load EEG data\n",
    "    EEGdata, fs, fs_accel = LoadEEGData(filename_eeg, EEGdevice)\n",
    "\n",
    "    # Load behavioral data\n",
    "    behavioralData = LoadBehavioralDataBCI(filename_behavioral)\n",
    "\n",
    "    # Sync up trigger pulses\n",
    "    num_of_trials, num_of_movements, move_starts, hasBaseline, rest_starts, rest_ends = SyncTriggerPulsesBCI(EEGdata, EEGdevice, fs, behavioralData)\n",
    "\n",
    "    # Epoch the data\n",
    "    epochs, epochs_norm = EpochBCIData(EEGdata, fs, move_starts, rest_starts, rest_ends)\n",
    "\n",
    "    # Organize trial types\n",
    "    trial_type = OrganizeTrials(behavioralData, hasBaseline)\n",
    "\n",
    "    # Get signal features\n",
    "    alpha_power, beta_power = ExtractFeaturesBCI(epochs_norm, num_of_movements, ['C3','C4'], 1)\n",
    "    motor_features = [alpha_power['C3'], alpha_power['C4'], beta_power['C3'], beta_power['C4']]\n",
    "    motor_features = np.transpose(motor_features)\n",
    "    \n",
    "    # Load a specific model (0 loads initial model trained on screening)\n",
    "    # If using run_number, it will load the model created just prior to\n",
    "    # this BCI run (simulated or created during the session)\n",
    "    if subject_group == 1:\n",
    "        clf_orig, X_loaded, y_loaded = LoadModel_MI(subjID, model_type, 1, session_number, 'None')\n",
    "    elif subject_group == 2:\n",
    "        clf_orig, X_loaded, y_loaded = LoadModel_MI(subjID, model_type, runOfInt, session_number, 'CS')\n",
    " \n",
    "    # Get the original score\n",
    "    X = (motor_features - np.mean(X_loaded,0))/np.std(X_loaded,0)\n",
    "    y = trial_type\n",
    "    orig_score = clf_orig.score(X, y)*100\n",
    "    X_orig_all[runOfInt] = X\n",
    "    y_orig_all[runOfInt] = y\n",
    "    \n",
    "    # Get the simulated score (no adaptation or CS adaptation)\n",
    "    if subject_group == 1:\n",
    "        clf_sim, X_loaded, y_loaded = LoadModel_MI(subjID, model_type, runOfInt, session_number, 'CS')\n",
    "    elif subject_group == 2:\n",
    "        clf_sim, X_loaded, y_loaded = LoadModel_MI(subjID, model_type, 1, session_number, 'None')\n",
    "    \n",
    "    X = (motor_features - np.mean(X_loaded,0))/np.std(X_loaded,0)\n",
    "    y = trial_type\n",
    "    sim_score = clf_sim.score(X, y)*100\n",
    "    X_sim_all[runOfInt] = X\n",
    "    y_sim_all[runOfInt] = y\n",
    "    \n",
    "    # Get the true label simulation score\n",
    "    if runOfInt == 1:\n",
    "        clf_sim_TL, X_loaded, y_loaded = LoadModel_MI(subjID, model_type, 1, session_number, 'None')\n",
    "    else:\n",
    "        clf_sim_TL, X_loaded, y_loaded = LoadModel_MI(subjID, model_type, runOfInt, session_number, 'TL')\n",
    "    X = (motor_features - np.mean(X_loaded,0))/np.std(X_loaded,0)\n",
    "    y = trial_type\n",
    "    sim_TL_score = clf_sim_TL.score(X, y)*100\n",
    "    X_sim_TL_all[runOfInt] = X\n",
    "    y_sim_TL_all[runOfInt] = y\n",
    "    \n",
    "    # Store values\n",
    "    orig_scores.append(orig_score)\n",
    "    sim_scores.append(sim_score)\n",
    "    sim_TL_scores.append(sim_TL_score)\n",
    "    clf_orig_all[runOfInt] = clf_orig\n",
    "    clf_sim_all[runOfInt] = clf_sim\n",
    "    clf_sim_TL_all[runOfInt] = clf_sim_TL"
   ]
  },
  {
   "cell_type": "markdown",
   "metadata": {},
   "source": [
    "Note that the overall simulated BCI performance may be better if you do a one-time filter on all the data prior to epoching, but to keep this a true simulation, we filter per epoch here."
   ]
  },
  {
   "cell_type": "code",
   "execution_count": 34,
   "metadata": {},
   "outputs": [
    {
     "data": {
      "image/png": "[encoded data removed]",
      "text/plain": [
       "<Figure size 432x288 with 1 Axes>"
      ]
     },
     "metadata": {
      "needs_background": "light"
     },
     "output_type": "display_data"
    }
   ],
   "source": [
    "fig = plt.figure()\n",
    "if subject_group == 1:\n",
    "    \n",
    "    plt.plot(orig_scores, color='green', marker='o', markersize=7,\n",
    "             linestyle='dashed', linewidth=2)\n",
    "    plt.plot(sim_scores, color='yellowgreen', marker='^', markersize=7,\n",
    "             linestyle='dashed', linewidth=2)\n",
    "    plt.plot(sim_TL_scores, color='orange', marker='P', markersize=7,\n",
    "             linestyle='dashed', linewidth=2)\n",
    "    plt.xticks([0, 1, 2, 3, 4],['Run 1','Run 2','Run 3','Run 4','Run 5'])\n",
    "    plt.ylabel('Performance (%)')\n",
    "    plt.hlines(y=50, xmin=0, xmax=4, color='gray', linestyles='dashed',\n",
    "               linewidth=1, alpha=0.5)\n",
    "    plt.ylim([0, 100])\n",
    "    plt.title(subjID + ', BCI performance, Session ' + str(session_number))\n",
    "    lgd = plt.legend(['No Adaptation','Simulated Adaptation (CS)','Simulated Adaptation (TL)','Chance'],\n",
    "              loc='upper center', bbox_to_anchor=(0.5, -0.10))\n",
    "    \n",
    "elif subject_group == 2:\n",
    "    plt.plot(sim_scores, color='green', marker='o', markersize=7,\n",
    "             linestyle='dashed', linewidth=2)\n",
    "    plt.plot(orig_scores, color='yellowgreen', marker='^', markersize=7,\n",
    "             linestyle='dashed', linewidth=2)\n",
    "    plt.plot(sim_TL_scores, color='orange', marker='P', markersize=7,\n",
    "             linestyle='dashed', linewidth=2)\n",
    "    plt.xticks([0, 1, 2, 3, 4],['Run 1','Run 2','Run 3','Run 4','Run 5'])\n",
    "    plt.ylabel('Performance (%)')\n",
    "    plt.hlines(y=50, xmin=0, xmax=4, color='gray', linestyles='dashed',\n",
    "               linewidth=1, alpha=0.5)\n",
    "    plt.ylim([0, 100])\n",
    "    plt.title(subjID + ', BCI performance, Session ' + str(session_number))\n",
    "    lgd = plt.legend(['Simulated No Adaptation','Co-Adaptation (CS)','Simulated Adaptation (TL)','Chance'],\n",
    "              loc='upper center', bbox_to_anchor=(0.5, -0.10))\n",
    "\n",
    "plt.show()\n",
    "fig.savefig('Figures/' + subjID + '/' + model_type + '/' + subjID + '_Performance_Session-' + str(session_number) + '.png',\n",
    "            bbox_extra_artists=(lgd,), bbox_inches='tight')"
   ]
  },
  {
   "cell_type": "markdown",
   "metadata": {},
   "source": [
    "### Plot left vs right movements\n",
    "Sometimes the movement is heavily biased towards one direction. Let's plot how often the box moves to the correct direction for each possible direction (left and right)."
   ]
  },
  {
   "cell_type": "code",
   "execution_count": 35,
   "metadata": {},
   "outputs": [
    {
     "data": {
      "image/png": "[encoded data removed]",
      "text/plain": [
       "<Figure size 1152x288 with 5 Axes>"
      ]
     },
     "metadata": {
      "needs_background": "light"
     },
     "output_type": "display_data"
    },
    {
     "data": {
      "image/png": "[encoded data removed]",
      "text/plain": [
       "<Figure size 1152x288 with 5 Axes>"
      ]
     },
     "metadata": {
      "needs_background": "light"
     },
     "output_type": "display_data"
    },
    {
     "data": {
      "image/png": "[encoded data removed]",
      "text/plain": [
       "<Figure size 1152x288 with 5 Axes>"
      ]
     },
     "metadata": {
      "needs_background": "light"
     },
     "output_type": "display_data"
    }
   ],
   "source": [
    "# Set adaptation type\n",
    "adaptation_type = 'No Adaptation'\n",
    "\n",
    "for adaptation_type in ['No Adaptation','Adaptation (CS)','Simulated Adaptation (TL)']:\n",
    "    fig = plt.figure(figsize=(16,4))\n",
    "    for runOfInt in range(1,5+1):\n",
    "        # Calculate\n",
    "        if subject_group == 1:\n",
    "            if adaptation_type == 'No Adaptation':\n",
    "                actual = clf_orig_all[runOfInt].predict(X_orig_all[runOfInt])\n",
    "                TL = y_orig_all[runOfInt] # true labels\n",
    "            elif adaptation_type == 'Adaptation (CS)':\n",
    "                actual = clf_sim_all[runOfInt].predict(X_sim_all[runOfInt])\n",
    "                TL = y_sim_all[runOfInt] # true labels\n",
    "            elif adaptation_type == 'Simulated Adaptation (TL)':\n",
    "                actual = clf_sim_TL_all[runOfInt].predict(X_sim_TL_all[runOfInt])\n",
    "                TL = y_sim_TL_all[runOfInt] # true labels\n",
    "        elif subject_group == 2:\n",
    "            if adaptation_type == 'No Adaptation':\n",
    "                actual = clf_sim_all[runOfInt].predict(X_sim_all[runOfInt])\n",
    "                TL = y_sim_all[runOfInt] # true labels\n",
    "            elif adaptation_type == 'Adaptation (CS)':\n",
    "                actual = clf_orig_all[runOfInt].predict(X_orig_all[runOfInt])\n",
    "                TL = y_orig_all[runOfInt] # true labels\n",
    "            elif adaptation_type == 'Simulated Adaptation (TL)':\n",
    "                actual = clf_sim_TL_all[runOfInt].predict(X_sim_TL_all[runOfInt])\n",
    "                TL = y_sim_TL_all[runOfInt] # true labels\n",
    "        trials_left = np.where(TL==0)[0]\n",
    "        trials_right = np.where(TL==1)[0]\n",
    "        left_correct = len(np.where(actual[trials_left]==0)[0])/len(actual[trials_left])*100\n",
    "        left_wrong = 100 - left_correct\n",
    "        right_correct = len(np.where(actual[trials_right]==1)[0])/len(actual[trials_right])*100\n",
    "        right_wrong = 100 - right_correct\n",
    "\n",
    "        # Organize data for bar plotting\n",
    "        r = [0,1]\n",
    "        raw_data = {'correctBars': [left_correct, right_correct], 'wrongBars': [left_wrong, right_wrong]}\n",
    "        df = pd.DataFrame(raw_data)\n",
    "\n",
    "        # From raw value to percentage\n",
    "        correctBars = df['correctBars']\n",
    "        wrongBars = df['wrongBars']\n",
    "\n",
    "        # plot\n",
    "        barWidth = 0.85\n",
    "        names = ('Left Trials','Right Trials')\n",
    "        plt.subplot(150+runOfInt)\n",
    "\n",
    "        # Create green Bars\n",
    "        plt.bar(r, correctBars, color='#b5ffb9', edgecolor='white', width=barWidth)\n",
    "        # Create orange Bars\n",
    "        plt.bar(r, wrongBars, bottom=correctBars, color='#f9bc86', edgecolor='white', width=barWidth)\n",
    "\n",
    "        # Custom x axis\n",
    "        plt.xticks(r, names)\n",
    "        plt.ylim([0,100])\n",
    "        if runOfInt == 1:\n",
    "            plt.ylabel('Percentage')\n",
    "        plt.title('Run ' + str(runOfInt))\n",
    "\n",
    "    # Add a legend\n",
    "    lgd = plt.legend(['Correct Movement','Incorrect Movement'], loc='upper left', bbox_to_anchor=(1,1), ncol=1)\n",
    "\n",
    "    # Add super title\n",
    "    if subject_group == 1:\n",
    "        if adaptation_type == 'No Adaptation':\n",
    "            fig.suptitle(subjID + ', Session ' + str(session_number) + ', No Adaptation')\n",
    "        elif adaptation_type == 'Adaptation (CS)':\n",
    "            fig.suptitle(subjID + ', Session ' + str(session_number) + ', Simulated Adaptation (CS)')\n",
    "        elif adaptation_type == 'Simulated Adaptation (TL)':\n",
    "            fig.suptitle(subjID + ', Session ' + str(session_number) + ', Simulated Adaptation (TL)')\n",
    "    elif subject_group == 2:\n",
    "        if adaptation_type == 'No Adaptation':\n",
    "            fig.suptitle(subjID + ', Session ' + str(session_number) + ', Simulated No Adaptation')\n",
    "        elif adaptation_type == 'Adaptation (CS)':\n",
    "            fig.suptitle(subjID + ', Session ' + str(session_number) + ', Co-Adaptation (CS)')\n",
    "        elif adaptation_type == 'Simulated Adaptation (TL)':\n",
    "            fig.suptitle(subjID + ', Session ' + str(session_number) + ', Simulated Adaptation (TL)')\n",
    "    fig.tight_layout()\n",
    "    fig.subplots_adjust(top=0.86)\n",
    "\n",
    "    # Show graphic\n",
    "    plt.show()\n",
    "    fig.savefig('Figures/' + subjID + '/' + model_type + '/' + subjID + '_LR_Session-' + str(session_number)\n",
    "                + '_' + adaptation_type + '.png', bbox_extra_artists=(lgd,))"
   ]
  },
  {
   "cell_type": "code",
   "execution_count": null,
   "metadata": {},
   "outputs": [],
   "source": []
  }
 ],
 "metadata": {
  "kernelspec": {
   "display_name": "Python 3",
   "language": "python",
   "name": "python3"
  },
  "language_info": {
   "codemirror_mode": {
    "name": "ipython",
    "version": 3
   },
   "file_extension": ".py",
   "mimetype": "text/x-python",
   "name": "python",
   "nbconvert_exporter": "python",
   "pygments_lexer": "ipython3",
   "version": "3.6.7"
  }
 },
 "nbformat": 4,
 "nbformat_minor": 2
}
