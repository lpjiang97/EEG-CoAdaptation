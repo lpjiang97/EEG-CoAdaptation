{
 "cells": [
  {
   "cell_type": "markdown",
   "metadata": {},
   "source": [
    "# Simulating Performance\n",
    "Use this notebook to load in BCI data and a model of your choice to simulate how well the subject would have performed using this specific model.\n",
    "\n",
    "Nile Wilson, 2019.02.01-04"
   ]
  },
  {
   "cell_type": "code",
   "execution_count": 1,
   "metadata": {},
   "outputs": [],
   "source": [
    "from sklearn.preprocessing import StandardScaler\n",
    "from sklearn.model_selection import GridSearchCV\n",
    "from sklearn.model_selection import KFold\n",
    "from sklearn.model_selection import train_test_split\n",
    "from sklearn.metrics import confusion_matrix\n",
    "from sklearn.neural_network import MLPClassifier\n",
    "from matplotlib import pyplot as plt\n",
    "from scipy.fftpack import fft, ifft\n",
    "from scipy import signal\n",
    "from mne.filter import filter_data\n",
    "\n",
    "import scipy.signal as scisig\n",
    "import numpy as np\n",
    "import pandas as pd\n",
    "import datetime\n",
    "import pickle\n",
    "import glob\n",
    "import csv\n",
    "import mne"
   ]
  },
  {
   "cell_type": "markdown",
   "metadata": {},
   "source": [
    "## Set Variables"
   ]
  },
  {
   "cell_type": "code",
   "execution_count": 2,
   "metadata": {},
   "outputs": [],
   "source": [
    "subjID = '9d4921'\n",
    "subject_group = 2\n",
    "session_number = 2\n",
    "EEGdevice = 8"
   ]
  },
  {
   "cell_type": "code",
   "execution_count": 3,
   "metadata": {},
   "outputs": [],
   "source": [
    "# Load latest model and its associated data\n",
    "BCI_files = glob.glob('SaveData/' + subjID + '/Session' + str(session_number) + '/*' + subjID + '_BCI.easy')\n",
    "num_of_runs = len(BCI_files)"
   ]
  },
  {
   "cell_type": "code",
   "execution_count": 4,
   "metadata": {},
   "outputs": [
    {
     "name": "stdout",
     "output_type": "stream",
     "text": [
      "Detected number of BCI runs: 5\n"
     ]
    }
   ],
   "source": [
    "# Check that this is correct\n",
    "print('Detected number of BCI runs: ' + str(num_of_runs))"
   ]
  },
  {
   "cell_type": "markdown",
   "metadata": {},
   "source": [
    "## Function Definitions\n",
    "Functions for working with the BCI data"
   ]
  },
  {
   "cell_type": "code",
   "execution_count": 243,
   "metadata": {},
   "outputs": [],
   "source": [
    "def FindBCIFiles(subjID, run_number, session_number):\n",
    "    \"\"\"\n",
    "    Returns the file names for the BCI run of choice\n",
    "    \"\"\"\n",
    "    # Load latest model and its associated data\n",
    "    BCI_files = glob.glob('SaveData/' + subjID + '/Session' + str(session_number) + '/*' + subjID + '_BCI.easy')\n",
    "    \n",
    "    # Throw exception if model number is outside range of existing models\n",
    "    if run_number-1 > len(BCI_files):\n",
    "        raise ValueError('Please select a valid run number')\n",
    "    \n",
    "    filename_eeg = BCI_files[run_number-1]\n",
    "    print('Selecting BCI EEG file: ' + filename_eeg)\n",
    "\n",
    "    behavioral_files = glob.glob('SaveData/' + subjID + '/Session' + str(session_number) + '/BCI_' + subjID + '*.csv')\n",
    "    filename_behavioral = behavioral_files[run_number-1]\n",
    "    print('Selecting BCI behavioral file: ' + filename_behavioral)\n",
    "    \n",
    "    return filename_eeg, filename_behavioral"
   ]
  },
  {
   "cell_type": "code",
   "execution_count": 244,
   "metadata": {},
   "outputs": [],
   "source": [
    "def LoadEEGData(filename, EEGdevice):\n",
    "    \"\"\" This function converts a single .easy file (from NIC2) to an easy-to-use dataframe.\n",
    "    Uses both the .easy file and .info file (containing metadata)\n",
    "    \n",
    "    ---- Input ----\n",
    "    filename: string containing the .easy filepath\n",
    "    \n",
    "    ---- Output ----\n",
    "    df: dataframe containing all the EEG, accelerometer, and event marker data\n",
    "    fs: sampling rate for the EEG data (Hz)\n",
    "    fs_accel: sampling rate for the accelerometer data (Hz)\n",
    "    \n",
    "    \"\"\"\n",
    "    if EEGdevice == 7:\n",
    "        x = 1\n",
    "    elif EEGdevice == 8:\n",
    "        # Read in the .easy file\n",
    "        df = pd.read_csv(filename, delimiter='\\t', header=None)\n",
    "\n",
    "        # Get metadata from the .info file\n",
    "        fname = filename[:-5] + '.info'\n",
    "        with open(fname) as f:\n",
    "            content = f.readlines()\n",
    "        content = [x.strip() for x in content]\n",
    "\n",
    "        # Get the channel names\n",
    "        channel_info = [x for x in content if 'Channel ' in x]\n",
    "        channel_names = []\n",
    "        for ch in range(len(channel_info)):\n",
    "            channel_names.append(channel_info[ch].split(': ')[1])\n",
    "\n",
    "        channel_names.append('X')\n",
    "        channel_names.append('Y')\n",
    "        channel_names.append('Z')\n",
    "        channel_names.append('STI 014')\n",
    "        channel_names.append('DateTime')\n",
    "\n",
    "        # Get sampling rates\n",
    "        sampling_rates = [x for x in content if 'sampling rate: ' in x]\n",
    "        fs_all = []\n",
    "        for freq in range(len(sampling_rates)):\n",
    "            tmp = sampling_rates[freq].split(': ')[1].split(' ')[0]\n",
    "            if tmp in ['N/A']:\n",
    "                print('Skipping N/A')\n",
    "            else:\n",
    "                fs_all.append(float(sampling_rates[freq].split(': ')[1].split(' ')[0]))\n",
    "\n",
    "        # Store sampling rates\n",
    "        fs = fs_all[0]\n",
    "        fs_accel = fs_all[1]\n",
    "\n",
    "        # Assign the column names\n",
    "        df.columns = channel_names\n",
    "    \n",
    "    # Return dataframe and sampling rates\n",
    "    return df, fs, fs_accel"
   ]
  },
  {
   "cell_type": "code",
   "execution_count": 245,
   "metadata": {},
   "outputs": [],
   "source": [
    "def LoadBehavioralDataBCI(filename_behavioral):\n",
    "    \"\"\"\n",
    "    This function loads behavioral data for the motor screening task and formats it to use in this script\n",
    "    \"\"\"\n",
    "    behavioralData = pd.read_csv(filename_behavioral, ',')\n",
    "    \n",
    "    return behavioralData"
   ]
  },
  {
   "cell_type": "code",
   "execution_count": 246,
   "metadata": {},
   "outputs": [],
   "source": [
    "def SyncTriggerPulsesBCI(EEGdata, EEGdevice, fs, behavioralData):\n",
    "    \"\"\"\n",
    "    This function returns the indices for events of interest\n",
    "    \"\"\"\n",
    "    \n",
    "    if EEGdevice == 7:\n",
    "        print('Put code here')\n",
    "    elif EEGdevice == 8:\n",
    "        # Store where the values in trigger are equal to 8 (the audio trigger input channel number)\n",
    "        index_trigger = np.where(EEGdata['STI 014']!=0)\n",
    "        index_trigger = index_trigger[0]\n",
    "\n",
    "        # Number of trials is greater than number of total pulses sent\n",
    "        # 999 when the task ends\n",
    "        move_left_starts = np.where(EEGdata['STI 014'] == 1)[0]\n",
    "        move_right_starts = np.where(EEGdata['STI 014'] == 2)[0]\n",
    "        rest_starts = np.where(EEGdata['STI 014'] == 3)[0]\n",
    "        rest_ends = np.where(EEGdata['STI 014'] == 4)[0]\n",
    "        \n",
    "        # If the number of rest_starts and rest_ends don't match, drop the extra one\n",
    "        # there should, by default, only be 12 starts and 12 ends\n",
    "\n",
    "        if len(rest_ends) > len(rest_starts):\n",
    "            if rest_ends[0] < rest_starts[0]:\n",
    "                rest_ends = rest_ends[1:]\n",
    "        elif len(rest_ends) < len(rest_starts):\n",
    "            if rest_ends[0] > rest_starts[0]:\n",
    "                rest_starts = rest_starts[1:]\n",
    "        \n",
    "        move_starts = np.sort(np.concatenate((move_left_starts,move_right_starts),0))\n",
    "        total_movements = len(move_starts)\n",
    "\n",
    "        # exclude movements that occur without defined baseline (if you need to get rid of first rest)\n",
    "        hasBaseline = list()\n",
    "        for movement in range(0,len(move_starts)):\n",
    "            hasBaseline.append(True in (rest_starts < move_starts[movement]))\n",
    "\n",
    "        np.where(hasBaseline)\n",
    "        move_starts = move_starts[np.where(hasBaseline)]\n",
    "\n",
    "        # exclude the move lefts and move rights that were thrown out in move_starts\n",
    "        for movement in range(0,total_movements):\n",
    "            if hasBaseline[movement] is False:\n",
    "                # for the left movements\n",
    "                idx_left = np.where(move_left_starts == move_starts[movement])\n",
    "                idx_left = np.asarray(idx_left)\n",
    "                idx_right = np.where(move_right_starts == move_starts[movement])\n",
    "                idx_right = np.asarray(idx_right)\n",
    "\n",
    "                if idx_left.size > 0:\n",
    "                    move_left_starts = np.delete(move_left_starts, idx_left)\n",
    "                if idx_right.size > 0:\n",
    "                    move_right_starts = np.delete(move_right_starts, idx_right)\n",
    "                \n",
    "        num_of_trials = len(rest_starts)\n",
    "        num_of_movements = len(move_left_starts) + len(move_right_starts)\n",
    "    \n",
    "    return num_of_trials, num_of_movements, move_starts, hasBaseline, rest_starts, rest_ends"
   ]
  },
  {
   "cell_type": "code",
   "execution_count": 247,
   "metadata": {},
   "outputs": [],
   "source": [
    "def EpochBCIData(EEGdata, fs, move_starts, rest_starts, rest_ends):\n",
    "    \"\"\"\n",
    "    This function epochs the data\n",
    "    \"\"\"\n",
    "    \n",
    "    if EEGdevice == 7:\n",
    "        channels = EEGdata.columns[1:8]\n",
    "    elif EEGdevice == 8:\n",
    "        channels = EEGdata.columns[0:8]\n",
    "\n",
    "    epochs = []\n",
    "    epochs_norm = []\n",
    "\n",
    "    for movement in range(0,len(move_starts)):\n",
    "        # Data for this movement\n",
    "        t_start = move_starts[movement] - np.round(2.00*fs)\n",
    "        t_end = move_starts[movement] - np.round(0.250*fs)\n",
    "\n",
    "        # Baseline\n",
    "        restOfInt = np.max(np.where(rest_starts < move_starts[movement]))\n",
    "        tb_start = rest_starts[restOfInt]\n",
    "        tb_end = rest_ends[restOfInt]\n",
    "\n",
    "        # Note, baseline is filtered before it is used in the live script\n",
    "        baseline_pre_filt = np.asarray(EEGdata.loc[tb_start:tb_end][channels]) * 1.0\n",
    "        baseline_filt = filter_data(baseline_pre_filt.T, sfreq=fs, l_freq=7, h_freq=31, verbose='ERROR')\n",
    "        baseline = baseline_filt.T\n",
    "\n",
    "        # Filter per epoch, like you would in real-time\n",
    "        pre_filt = np.asarray(EEGdata.loc[t_start:t_end][channels]) * 1.0\n",
    "        filtered = filter_data(pre_filt.T, sfreq=fs, l_freq=7, h_freq=31, verbose='ERROR')\n",
    "        epoch = pd.DataFrame(filtered.T)\n",
    "        epoch.columns = EEGdata.columns[0:8]\n",
    "\n",
    "        # Store epoch\n",
    "        tmp = (epoch - np.mean(baseline,0))/np.std(baseline,0)\n",
    "        tmp = pd.DataFrame(tmp)\n",
    "        tmp.columns = EEGdata.columns[0:8]\n",
    "\n",
    "        epochs_norm.append(tmp)\n",
    "        epochs.append(epoch)\n",
    "\n",
    "    return epochs, epochs_norm"
   ]
  },
  {
   "cell_type": "code",
   "execution_count": 248,
   "metadata": {},
   "outputs": [],
   "source": [
    "def OrganizeTrials(behavioralData, hasBaseline):\n",
    "    \"\"\"\n",
    "    Organizes trials\n",
    "    \"\"\"\n",
    "    \n",
    "    # When the target is to the left\n",
    "    trialL = np.where(behavioralData['target_x'] < 1000)\n",
    "    \n",
    "    # When target was to the right\n",
    "    trialR = np.where(behavioralData['target_x'] > 1000)\n",
    "    \n",
    "    # Create a single list that includes which movement is which (L = 0, R = 1)\n",
    "    trial_type = np.zeros([1,len(behavioralData['score'])])\n",
    "    trial_type[0][trialL] = 0\n",
    "    trial_type[0][trialR] = 1\n",
    "\n",
    "    trial_type = np.round(trial_type[0])\n",
    "    \n",
    "    # Remove trials if no baseline\n",
    "    for movement in range(0,len(hasBaseline)):\n",
    "        if hasBaseline[movement] is False:\n",
    "            trial_type = np.delete(trial_type, movement)\n",
    "            \n",
    "    return trial_type"
   ]
  },
  {
   "cell_type": "code",
   "execution_count": 249,
   "metadata": {},
   "outputs": [],
   "source": [
    "def ExtractFeaturesBCI(epochs, num_of_movements, channelsToUse, ds_factor):\n",
    "    \"\"\"\n",
    "    Extract signal features of interest\n",
    "    \"\"\"\n",
    "    \n",
    "    # Get the summed delta power for each trial\n",
    "    alpha_power = dict.fromkeys(channelsToUse)\n",
    "    beta_power = dict.fromkeys(channelsToUse)\n",
    "    ds_f = ds_factor # downsampling factor\n",
    "\n",
    "    for chanOfInt in channelsToUse:\n",
    "        tmp_alpha = list()\n",
    "        tmp_beta = list()\n",
    "\n",
    "        for movement in range(0, num_of_movements):\n",
    "            f, Pxx_den = signal.welch(signal.decimate(epochs[movement][chanOfInt],ds_f), fs/ds_f, scaling='spectrum')\n",
    "            alpha_idx = np.where(np.logical_and(np.round(f) >= 8, np.round(f) <= 12))\n",
    "            tmp_alpha.append(np.sum(Pxx_den[alpha_idx]))\n",
    "\n",
    "            beta_idx = np.where(np.logical_and(np.round(f) >= 13, np.round(f) <= 30))\n",
    "            tmp_beta.append(np.sum(Pxx_den[beta_idx]))\n",
    "\n",
    "        alpha_power[chanOfInt] = tmp_alpha\n",
    "        beta_power[chanOfInt] = tmp_beta\n",
    "    \n",
    "    return alpha_power, beta_power"
   ]
  },
  {
   "cell_type": "code",
   "execution_count": 250,
   "metadata": {},
   "outputs": [],
   "source": [
    "def LoadModel_MI(subjID, run_number=0, session_number=1, adaptationType='CS'):\n",
    "    \"\"\"\n",
    "    This function loads the most recent motor imagery classifier\n",
    "    for this subject by default. Current run minus 1.\n",
    "    \n",
    "    You may also select which number model (from original to most recent)\n",
    "    by using a value from 0 (original) to 4 (most recent)\n",
    "    \"\"\"\n",
    "    runOfInt = run_number\n",
    "    run_number = runOfInt - 1\n",
    "    # Load latest model and its associated data\n",
    "    if runOfInt == 1:\n",
    "        models = glob.glob('Models/' + subjID + '/Session' + str(session_number) + '/' + subjID + '_MI_classifier_*')\n",
    "        models_data_list = glob.glob('Models/' + subjID + '/Session' + str(session_number) + '/' + subjID + '_data_for_MI_classifier_*')\n",
    "    else:\n",
    "        if adaptationType == 'CS' or adaptationType == 'None':\n",
    "            models = glob.glob('Models/' + subjID + '/Session' + str(session_number) + '/' + subjID + '_MI_classifier_*')\n",
    "            models_data_list = glob.glob('Models/' + subjID + '/Session' + str(session_number) + '/' + subjID + '_data_for_MI_classifier_*')\n",
    "        elif adaptationType == 'TL':\n",
    "            models = glob.glob('Models/' + subjID + '/Session' + str(session_number) + '/' + subjID + '_MI_classifier_TL_*')\n",
    "            models_data_list = glob.glob('Models/' + subjID + '/Session' + str(session_number) + '/' + subjID + '_data_for_MI_classifier_TL_*')\n",
    "    \n",
    "    # Throw exception if model number is outside range of existing models\n",
    "    if run_number > len(models):\n",
    "        raise ValueError('Please select a valid model number')\n",
    "    if adaptationType == 'TL':\n",
    "        run_number = run_number -1\n",
    "    model_file = models[run_number] # load the most recent model\n",
    "    print('Selecting model: ' + model_file)\n",
    "    clf = pickle.load(open(model_file, 'rb'))\n",
    "\n",
    "    models_data = models_data_list[run_number] # load the most recent model\n",
    "    MI_data = np.load(models_data)\n",
    "    X_loaded = MI_data['X_not_scaled']\n",
    "    y_loaded = MI_data['y']\n",
    "    \n",
    "    return clf, X_loaded, y_loaded"
   ]
  },
  {
   "cell_type": "markdown",
   "metadata": {},
   "source": [
    "## Code to Run"
   ]
  },
  {
   "cell_type": "markdown",
   "metadata": {},
   "source": [
    "Run in a loop"
   ]
  },
  {
   "cell_type": "code",
   "execution_count": 251,
   "metadata": {
    "scrolled": true
   },
   "outputs": [
    {
     "name": "stdout",
     "output_type": "stream",
     "text": [
      "Selecting BCI EEG file: SaveData/9d4921/Session2\\20190305144409_9d4921_BCI.easy\n",
      "Selecting BCI behavioral file: SaveData/9d4921/Session2\\BCI_9d4921_R1.csv\n",
      "Skipping N/A\n"
     ]
    },
    {
     "name": "stderr",
     "output_type": "stream",
     "text": [
      "C:\\Users\\nile\\Anaconda3\\envs\\eeg\\lib\\site-packages\\scipy\\signal\\_arraytools.py:45: FutureWarning: Using a non-tuple sequence for multidimensional indexing is deprecated; use `arr[tuple(seq)]` instead of `arr[seq]`. In the future this will be interpreted as an array index, `arr[np.array(seq)]`, which will result either in an error or a different result.\n",
      "  b = a[a_slice]\n",
      "C:\\Users\\nile\\Anaconda3\\envs\\eeg\\lib\\site-packages\\scipy\\signal\\signaltools.py:3463: FutureWarning: Using a non-tuple sequence for multidimensional indexing is deprecated; use `arr[tuple(seq)]` instead of `arr[seq]`. In the future this will be interpreted as an array index, `arr[np.array(seq)]`, which will result either in an error or a different result.\n",
      "  return y[sl]\n"
     ]
    },
    {
     "name": "stdout",
     "output_type": "stream",
     "text": [
      "Selecting model: Models/9d4921/Session2\\9d4921_MI_classifier_2019-03-05-14-43-18.sav\n",
      "Selecting model: Models/9d4921/Session2\\9d4921_MI_classifier_2019-03-05-14-43-18.sav\n",
      "Selecting model: Models/9d4921/Session2\\9d4921_MI_classifier_2019-03-05-14-43-18.sav\n",
      "Selecting BCI EEG file: SaveData/9d4921/Session2\\20190305145005_9d4921_BCI.easy\n",
      "Selecting BCI behavioral file: SaveData/9d4921/Session2\\BCI_9d4921_R2.csv\n",
      "Skipping N/A\n"
     ]
    },
    {
     "name": "stderr",
     "output_type": "stream",
     "text": [
      "C:\\Users\\nile\\Anaconda3\\envs\\eeg\\lib\\site-packages\\scipy\\signal\\_arraytools.py:45: FutureWarning: Using a non-tuple sequence for multidimensional indexing is deprecated; use `arr[tuple(seq)]` instead of `arr[seq]`. In the future this will be interpreted as an array index, `arr[np.array(seq)]`, which will result either in an error or a different result.\n",
      "  b = a[a_slice]\n",
      "C:\\Users\\nile\\Anaconda3\\envs\\eeg\\lib\\site-packages\\scipy\\signal\\signaltools.py:3463: FutureWarning: Using a non-tuple sequence for multidimensional indexing is deprecated; use `arr[tuple(seq)]` instead of `arr[seq]`. In the future this will be interpreted as an array index, `arr[np.array(seq)]`, which will result either in an error or a different result.\n",
      "  return y[sl]\n"
     ]
    },
    {
     "name": "stdout",
     "output_type": "stream",
     "text": [
      "Selecting model: Models/9d4921/Session2\\9d4921_MI_classifier_2019-03-05-14-49-22.sav\n",
      "Selecting model: Models/9d4921/Session2\\9d4921_MI_classifier_2019-03-05-14-43-18.sav\n",
      "Selecting model: Models/9d4921/Session2\\9d4921_MI_classifier_TL_2019-03-05-15-15-43.sav\n",
      "Selecting BCI EEG file: SaveData/9d4921/Session2\\20190305145534_9d4921_BCI.easy\n",
      "Selecting BCI behavioral file: SaveData/9d4921/Session2\\BCI_9d4921_R3.csv\n",
      "Skipping N/A\n"
     ]
    },
    {
     "name": "stderr",
     "output_type": "stream",
     "text": [
      "C:\\Users\\nile\\Anaconda3\\envs\\eeg\\lib\\site-packages\\scipy\\signal\\_arraytools.py:45: FutureWarning: Using a non-tuple sequence for multidimensional indexing is deprecated; use `arr[tuple(seq)]` instead of `arr[seq]`. In the future this will be interpreted as an array index, `arr[np.array(seq)]`, which will result either in an error or a different result.\n",
      "  b = a[a_slice]\n",
      "C:\\Users\\nile\\Anaconda3\\envs\\eeg\\lib\\site-packages\\scipy\\signal\\signaltools.py:3463: FutureWarning: Using a non-tuple sequence for multidimensional indexing is deprecated; use `arr[tuple(seq)]` instead of `arr[seq]`. In the future this will be interpreted as an array index, `arr[np.array(seq)]`, which will result either in an error or a different result.\n",
      "  return y[sl]\n"
     ]
    },
    {
     "name": "stdout",
     "output_type": "stream",
     "text": [
      "Selecting model: Models/9d4921/Session2\\9d4921_MI_classifier_2019-03-05-14-55-11.sav\n",
      "Selecting model: Models/9d4921/Session2\\9d4921_MI_classifier_2019-03-05-14-43-18.sav\n",
      "Selecting model: Models/9d4921/Session2\\9d4921_MI_classifier_TL_2019-03-05-15-15-46.sav\n",
      "Selecting BCI EEG file: SaveData/9d4921/Session2\\20190305150100_9d4921_BCI.easy\n",
      "Selecting BCI behavioral file: SaveData/9d4921/Session2\\BCI_9d4921_R4.csv\n",
      "Skipping N/A\n"
     ]
    },
    {
     "name": "stderr",
     "output_type": "stream",
     "text": [
      "C:\\Users\\nile\\Anaconda3\\envs\\eeg\\lib\\site-packages\\scipy\\signal\\_arraytools.py:45: FutureWarning: Using a non-tuple sequence for multidimensional indexing is deprecated; use `arr[tuple(seq)]` instead of `arr[seq]`. In the future this will be interpreted as an array index, `arr[np.array(seq)]`, which will result either in an error or a different result.\n",
      "  b = a[a_slice]\n",
      "C:\\Users\\nile\\Anaconda3\\envs\\eeg\\lib\\site-packages\\scipy\\signal\\signaltools.py:3463: FutureWarning: Using a non-tuple sequence for multidimensional indexing is deprecated; use `arr[tuple(seq)]` instead of `arr[seq]`. In the future this will be interpreted as an array index, `arr[np.array(seq)]`, which will result either in an error or a different result.\n",
      "  return y[sl]\n"
     ]
    },
    {
     "name": "stdout",
     "output_type": "stream",
     "text": [
      "Selecting model: Models/9d4921/Session2\\9d4921_MI_classifier_2019-03-05-15-00-31.sav\n",
      "Selecting model: Models/9d4921/Session2\\9d4921_MI_classifier_2019-03-05-14-43-18.sav\n",
      "Selecting model: Models/9d4921/Session2\\9d4921_MI_classifier_TL_2019-03-05-15-15-50.sav\n",
      "Selecting BCI EEG file: SaveData/9d4921/Session2\\20190305150623_9d4921_BCI.easy\n",
      "Selecting BCI behavioral file: SaveData/9d4921/Session2\\BCI_9d4921_R5.csv\n",
      "Skipping N/A\n"
     ]
    },
    {
     "name": "stderr",
     "output_type": "stream",
     "text": [
      "C:\\Users\\nile\\Anaconda3\\envs\\eeg\\lib\\site-packages\\scipy\\signal\\_arraytools.py:45: FutureWarning: Using a non-tuple sequence for multidimensional indexing is deprecated; use `arr[tuple(seq)]` instead of `arr[seq]`. In the future this will be interpreted as an array index, `arr[np.array(seq)]`, which will result either in an error or a different result.\n",
      "  b = a[a_slice]\n",
      "C:\\Users\\nile\\Anaconda3\\envs\\eeg\\lib\\site-packages\\scipy\\signal\\signaltools.py:3463: FutureWarning: Using a non-tuple sequence for multidimensional indexing is deprecated; use `arr[tuple(seq)]` instead of `arr[seq]`. In the future this will be interpreted as an array index, `arr[np.array(seq)]`, which will result either in an error or a different result.\n",
      "  return y[sl]\n"
     ]
    },
    {
     "name": "stdout",
     "output_type": "stream",
     "text": [
      "Selecting model: Models/9d4921/Session2\\9d4921_MI_classifier_2019-03-05-15-05-56.sav\n",
      "Selecting model: Models/9d4921/Session2\\9d4921_MI_classifier_2019-03-05-14-43-18.sav\n",
      "Selecting model: Models/9d4921/Session2\\9d4921_MI_classifier_TL_2019-03-05-15-15-55.sav\n"
     ]
    }
   ],
   "source": [
    "orig_scores = list()\n",
    "sim_scores = list()\n",
    "sim_TL_scores = list()\n",
    "X_orig_all = dict()\n",
    "y_orig_all = dict()\n",
    "X_sim_all = dict()\n",
    "y_sim_all = dict()\n",
    "X_sim_TL_all = dict()\n",
    "y_sim_TL_all = dict()\n",
    "clf_orig_all = dict()\n",
    "clf_sim_all = dict()\n",
    "clf_sim_TL_all = dict() # for simulated true-label adaptation\n",
    "behavioralData_all = dict()\n",
    "hasBaseline_all = dict()\n",
    "EEGdata_all = dict()\n",
    "\n",
    "for runOfInt in range(1, num_of_runs+1):\n",
    "    # Find BCI file names\n",
    "    filename_eeg, filename_behavioral = FindBCIFiles(subjID, runOfInt, session_number)\n",
    "    \n",
    "    # Load EEG data\n",
    "    EEGdata, fs, fs_accel = LoadEEGData(filename_eeg, EEGdevice)\n",
    "    EEGdata_all[runOfInt] = EEGdata\n",
    "\n",
    "    # Load behavioral data\n",
    "    behavioralData = LoadBehavioralDataBCI(filename_behavioral)\n",
    "    behavioralData_all[runOfInt] = behavioralData\n",
    "\n",
    "    # Sync up trigger pulses\n",
    "    num_of_trials, num_of_movements, move_starts, hasBaseline, rest_starts, rest_ends = SyncTriggerPulsesBCI(EEGdata, EEGdevice, fs, behavioralData)\n",
    "    hasBaseline_all[runOfInt] = hasBaseline\n",
    "    \n",
    "    # Epoch the data\n",
    "    epochs, epochs_norm = EpochBCIData(EEGdata, fs, move_starts, rest_starts, rest_ends)\n",
    "\n",
    "    # Organize trial types\n",
    "    trial_type = OrganizeTrials(behavioralData, hasBaseline)\n",
    "\n",
    "    # Get signal features\n",
    "    alpha_power, beta_power = ExtractFeaturesBCI(epochs_norm, num_of_movements, ['C3','C4'], 1)\n",
    "    motor_features = [alpha_power['C3'], beta_power['C3'], alpha_power['C4'], beta_power['C4']]\n",
    "    motor_features = np.transpose(motor_features)\n",
    "    \n",
    "    # Load a specific model (0 loads initial model trained on screening)\n",
    "    # If using run_number, it will load the model created just prior to\n",
    "    # this BCI run (simulated or created during the session)\n",
    "    if subject_group == 1:\n",
    "        clf_orig, X_loaded, y_loaded = LoadModel_MI(subjID, 1, session_number, 'None')\n",
    "    elif subject_group == 2:\n",
    "        clf_orig, X_loaded, y_loaded = LoadModel_MI(subjID, runOfInt, session_number, 'CS')\n",
    " \n",
    "    # Get the original score\n",
    "    X = (motor_features - np.mean(X_loaded,0))/np.std(X_loaded,0)\n",
    "    y = trial_type\n",
    "    orig_score = clf_orig.score(X, y)*100\n",
    "    X_orig_all[runOfInt] = X\n",
    "    y_orig_all[runOfInt] = y\n",
    "    \n",
    "    # Get the simulated score (no adaptation or CS adaptation)\n",
    "    if subject_group == 1:\n",
    "        clf_sim, X_loaded, y_loaded = LoadModel_MI(subjID, runOfInt, session_number, 'CS')\n",
    "    elif subject_group == 2:\n",
    "        clf_sim, X_loaded, y_loaded = LoadModel_MI(subjID, 1, session_number, 'None')\n",
    "    \n",
    "    X = (motor_features - np.mean(X_loaded,0))/np.std(X_loaded,0)\n",
    "    y = trial_type\n",
    "    sim_score = clf_sim.score(X, y)*100\n",
    "    X_sim_all[runOfInt] = X\n",
    "    y_sim_all[runOfInt] = y\n",
    "    \n",
    "    # Get the true label simulation score\n",
    "    if runOfInt == 1:\n",
    "        clf_sim_TL, X_loaded, y_loaded = LoadModel_MI(subjID, 1, session_number, 'None')\n",
    "    else:\n",
    "        clf_sim_TL, X_loaded, y_loaded = LoadModel_MI(subjID, runOfInt, session_number, 'TL')\n",
    "    X = (motor_features - np.mean(X_loaded,0))/np.std(X_loaded,0)\n",
    "    y = trial_type\n",
    "    sim_TL_score = clf_sim_TL.score(X, y)*100\n",
    "    X_sim_TL_all[runOfInt] = X\n",
    "    y_sim_TL_all[runOfInt] = y\n",
    "    \n",
    "    # Store values\n",
    "    orig_scores.append(orig_score)\n",
    "    sim_scores.append(sim_score)\n",
    "    sim_TL_scores.append(sim_TL_score)\n",
    "    clf_orig_all[runOfInt] = clf_orig\n",
    "    clf_sim_all[runOfInt] = clf_sim\n",
    "    clf_sim_TL_all[runOfInt] = clf_sim_TL"
   ]
  },
  {
   "cell_type": "markdown",
   "metadata": {},
   "source": [
    "Note that the overall simulated BCI performance may be better if you do a one-time filter on all the data prior to epoching, but to keep this a true simulation, we filter per epoch here."
   ]
  },
  {
   "cell_type": "code",
   "execution_count": 252,
   "metadata": {
    "scrolled": true
   },
   "outputs": [
    {
     "data": {
      "image/png": "[encoded data removed]",
      "text/plain": [
       "<Figure size 432x288 with 1 Axes>"
      ]
     },
     "metadata": {
      "needs_background": "light"
     },
     "output_type": "display_data"
    }
   ],
   "source": [
    "fig = plt.figure()\n",
    "if subject_group == 1:\n",
    "    \n",
    "    plt.plot(orig_scores, color='green', marker='o', markersize=7,\n",
    "             linestyle='dashed', linewidth=2)\n",
    "    plt.plot(sim_scores, color='yellowgreen', marker='^', markersize=7,\n",
    "             linestyle='dashed', linewidth=2)\n",
    "    plt.plot(sim_TL_scores, color='orange', marker='P', markersize=7,\n",
    "             linestyle='dashed', linewidth=2)\n",
    "    plt.xticks([0, 1, 2, 3, 4],['Run 1','Run 2','Run 3','Run 4','Run 5'])\n",
    "    plt.ylabel('Performance (%)')\n",
    "    plt.hlines(y=50, xmin=0, xmax=4, color='gray', linestyles='dashed',\n",
    "               linewidth=1, alpha=0.5)\n",
    "    plt.ylim([0, 100])\n",
    "    plt.title(subjID + ', BCI performance, Session ' + str(session_number))\n",
    "    lgd = plt.legend(['No Adaptation','Simulated Adaptation (CS)','Simulated Adaptation (TL)','Chance'],\n",
    "              loc='upper center', bbox_to_anchor=(0.5, -0.10))\n",
    "    \n",
    "elif subject_group == 2:\n",
    "    plt.plot(sim_scores, color='green', marker='o', markersize=7,\n",
    "             linestyle='dashed', linewidth=2)\n",
    "    plt.plot(orig_scores, color='yellowgreen', marker='^', markersize=7,\n",
    "             linestyle='dashed', linewidth=2)\n",
    "    plt.plot(sim_TL_scores, color='orange', marker='P', markersize=7,\n",
    "             linestyle='dashed', linewidth=2)\n",
    "    plt.xticks([0, 1, 2, 3, 4],['Run 1','Run 2','Run 3','Run 4','Run 5'])\n",
    "    plt.ylabel('Performance (%)')\n",
    "    plt.hlines(y=50, xmin=0, xmax=4, color='gray', linestyles='dashed',\n",
    "               linewidth=1, alpha=0.5)\n",
    "    plt.ylim([0, 100])\n",
    "    plt.title(subjID + ', BCI performance, Session ' + str(session_number))\n",
    "    lgd = plt.legend(['Simulated No Adaptation','Co-Adaptation (CS)','Simulated Adaptation (TL)','Chance'],\n",
    "              loc='upper center', bbox_to_anchor=(0.5, -0.10))\n",
    "\n",
    "plt.show()\n",
    "fig.savefig('Figures/' + subjID + '_Performance_Session-' + str(session_number) + '.png',\n",
    "            bbox_extra_artists=(lgd,), bbox_inches='tight')"
   ]
  },
  {
   "cell_type": "markdown",
   "metadata": {},
   "source": [
    "Let's also plot using the actual behavioral data for the not simulated condition..."
   ]
  },
  {
   "cell_type": "code",
   "execution_count": 253,
   "metadata": {},
   "outputs": [],
   "source": [
    "def GetBehavioralTL(runOfInt):\n",
    "    # When the target is to the left\n",
    "    trialL = np.where(behavioralData_all[runOfInt]['target_x'] < 1000)\n",
    "    movementL = np.where(behavioralData_all[runOfInt]['direction_moved'] == 'left')\n",
    "\n",
    "    # When target was to the right\n",
    "    trialR = np.where(behavioralData_all[runOfInt]['target_x'] > 1000)\n",
    "    movementR = np.where(behavioralData_all[runOfInt]['direction_moved'] == 'right')\n",
    "\n",
    "    # Create a single list that includes which movement is which (L = 0, R = 1)\n",
    "    trial_type = np.zeros([1,len(behavioralData_all[runOfInt]['score'])])\n",
    "    trial_type[0][trialL] = 0\n",
    "    trial_type[0][trialR] = 1\n",
    "    trial_type = np.round(trial_type[0])\n",
    "\n",
    "    direction_moved = np.zeros([1,len(behavioralData_all[runOfInt]['score'])])\n",
    "    direction_moved[0][movementL] = 0\n",
    "    direction_moved[0][movementR] = 1\n",
    "    direction_moved = np.round(direction_moved[0])\n",
    "\n",
    "    # Remove trials if no baseline\n",
    "    for movement in range(0,len(hasBaseline_all[runOfInt])):\n",
    "        if hasBaseline_all[runOfInt][movement] is False:\n",
    "            trial_type = np.delete(trial_type, movement)\n",
    "            direction_moved = np.delete(direction_moved, movement)\n",
    "    \n",
    "    actual = direction_moved\n",
    "    TL = trial_type\n",
    "    return actual, TL"
   ]
  },
  {
   "cell_type": "code",
   "execution_count": 254,
   "metadata": {},
   "outputs": [],
   "source": [
    "actual_scores = list()\n",
    "for runOfInt in range(1,5+1):\n",
    "    actual, TL = GetBehavioralTL(runOfInt)\n",
    "    correct_all = len(np.where(TL==actual)[0])/len(TL)*100\n",
    "    actual_scores.append(correct_all)"
   ]
  },
  {
   "cell_type": "code",
   "execution_count": 255,
   "metadata": {
    "scrolled": true
   },
   "outputs": [
    {
     "data": {
      "image/png": "[encoded data removed]",
      "text/plain": [
       "<Figure size 432x288 with 1 Axes>"
      ]
     },
     "metadata": {
      "needs_background": "light"
     },
     "output_type": "display_data"
    }
   ],
   "source": [
    "fig = plt.figure()\n",
    "if subject_group == 1:\n",
    "    \n",
    "    plt.plot(actual_scores, color='green', marker='o', markersize=7,\n",
    "             linestyle='dashed', linewidth=2)\n",
    "    plt.plot(sim_scores, color='yellowgreen', marker='^', markersize=7,\n",
    "             linestyle='dashed', linewidth=2)\n",
    "    plt.plot(sim_TL_scores, color='orange', marker='P', markersize=7,\n",
    "             linestyle='dashed', linewidth=2)\n",
    "    plt.xticks([0, 1, 2, 3, 4],['Run 1','Run 2','Run 3','Run 4','Run 5'])\n",
    "    plt.ylabel('Performance (%)')\n",
    "    plt.hlines(y=50, xmin=0, xmax=4, color='gray', linestyles='dashed',\n",
    "               linewidth=1, alpha=0.5)\n",
    "    plt.ylim([0, 100])\n",
    "    plt.title(subjID + ', BCI performance, Session ' + str(session_number))\n",
    "    lgd = plt.legend(['No Adaptation','Simulated Adaptation (CS)','Simulated Adaptation (TL)','Chance'],\n",
    "              loc='upper center', bbox_to_anchor=(0.5, -0.10))\n",
    "    \n",
    "elif subject_group == 2:\n",
    "    plt.plot(sim_scores, color='green', marker='o', markersize=7,\n",
    "             linestyle='dashed', linewidth=2)\n",
    "    plt.plot(actual_scores, color='yellowgreen', marker='^', markersize=7,\n",
    "             linestyle='dashed', linewidth=2)\n",
    "    plt.plot(sim_TL_scores, color='orange', marker='P', markersize=7,\n",
    "             linestyle='dashed', linewidth=2)\n",
    "    plt.xticks([0, 1, 2, 3, 4],['Run 1','Run 2','Run 3','Run 4','Run 5'])\n",
    "    plt.ylabel('Performance (%)')\n",
    "    plt.hlines(y=50, xmin=0, xmax=4, color='gray', linestyles='dashed',\n",
    "               linewidth=1, alpha=0.5)\n",
    "    plt.ylim([0, 100])\n",
    "    plt.title(subjID + ', BCI performance, Session ' + str(session_number))\n",
    "    lgd = plt.legend(['Simulated No Adaptation','Co-Adaptation (CS)','Simulated Adaptation (TL)','Chance'],\n",
    "              loc='upper center', bbox_to_anchor=(0.5, -0.10))\n",
    "\n",
    "plt.show()\n",
    "fig.savefig('Figures/' + subjID + '_Performance_Session-' + str(session_number) + '.png',\n",
    "            bbox_extra_artists=(lgd,), bbox_inches='tight')"
   ]
  },
  {
   "cell_type": "markdown",
   "metadata": {},
   "source": [
    "### Plot left vs right movements (using model estimates)\n",
    "Sometimes the movement is heavily biased towards one direction. Let's plot how often the box moves to the correct direction for each possible direction (left and right)."
   ]
  },
  {
   "cell_type": "code",
   "execution_count": 256,
   "metadata": {},
   "outputs": [
    {
     "data": {
      "image/png": "[encoded data removed]",
      "text/plain": [
       "<Figure size 1152x288 with 5 Axes>"
      ]
     },
     "metadata": {
      "needs_background": "light"
     },
     "output_type": "display_data"
    },
    {
     "data": {
      "image/png": "[encoded data removed]",
      "text/plain": [
       "<Figure size 1152x288 with 5 Axes>"
      ]
     },
     "metadata": {
      "needs_background": "light"
     },
     "output_type": "display_data"
    },
    {
     "data": {
      "image/png": "[encoded data removed]",
      "text/plain": [
       "<Figure size 1152x288 with 5 Axes>"
      ]
     },
     "metadata": {
      "needs_background": "light"
     },
     "output_type": "display_data"
    }
   ],
   "source": [
    "# Set adaptation type\n",
    "adaptation_type = 'No Adaptation'\n",
    "\n",
    "for adaptation_type in ['No Adaptation','Adaptation (CS)','Simulated Adaptation (TL)']:\n",
    "    fig = plt.figure(figsize=(16,4))\n",
    "    for runOfInt in range(1,5+1):\n",
    "        # Calculate\n",
    "        if subject_group == 1:\n",
    "            if adaptation_type == 'No Adaptation':\n",
    "                actual = clf_orig_all[runOfInt].predict(X_orig_all[runOfInt])\n",
    "                TL = y_orig_all[runOfInt] # true labels\n",
    "            elif adaptation_type == 'Adaptation (CS)':\n",
    "                actual = clf_sim_all[runOfInt].predict(X_sim_all[runOfInt])\n",
    "                TL = y_sim_all[runOfInt] # true labels\n",
    "            elif adaptation_type == 'Simulated Adaptation (TL)':\n",
    "                actual = clf_sim_TL_all[runOfInt].predict(X_sim_TL_all[runOfInt])\n",
    "                TL = y_sim_TL_all[runOfInt] # true labels\n",
    "        elif subject_group == 2:\n",
    "            if adaptation_type == 'No Adaptation':\n",
    "                actual = clf_sim_all[runOfInt].predict(X_sim_all[runOfInt])\n",
    "                TL = y_sim_all[runOfInt] # true labels\n",
    "            elif adaptation_type == 'Adaptation (CS)':\n",
    "                actual = clf_orig_all[runOfInt].predict(X_orig_all[runOfInt])\n",
    "                TL = y_orig_all[runOfInt] # true labels\n",
    "            elif adaptation_type == 'Simulated Adaptation (TL)':\n",
    "                actual = clf_sim_TL_all[runOfInt].predict(X_sim_TL_all[runOfInt])\n",
    "                TL = y_sim_TL_all[runOfInt] # true labels\n",
    "        trials_left = np.where(TL==0)[0]\n",
    "        trials_right = np.where(TL==1)[0]\n",
    "        left_correct = len(np.where(actual[trials_left]==0)[0])/len(actual[trials_left])*100\n",
    "        left_wrong = 100 - left_correct\n",
    "        right_correct = len(np.where(actual[trials_right]==1)[0])/len(actual[trials_right])*100\n",
    "        right_wrong = 100 - right_correct\n",
    "\n",
    "        # Organize data for bar plotting\n",
    "        r = [0,1]\n",
    "        raw_data = {'correctBars': [left_correct, right_correct], 'wrongBars': [left_wrong, right_wrong]}\n",
    "        df = pd.DataFrame(raw_data)\n",
    "\n",
    "        # From raw value to percentage\n",
    "        correctBars = df['correctBars']\n",
    "        wrongBars = df['wrongBars']\n",
    "\n",
    "        # plot\n",
    "        barWidth = 0.85\n",
    "        names = ('Left Trials','Right Trials')\n",
    "        plt.subplot(150+runOfInt)\n",
    "\n",
    "        # Create green Bars\n",
    "        plt.bar(r, correctBars, color='#b5ffb9', edgecolor='white', width=barWidth)\n",
    "        # Create orange Bars\n",
    "        plt.bar(r, wrongBars, bottom=correctBars, color='#f9bc86', edgecolor='white', width=barWidth)\n",
    "\n",
    "        # Custom x axis\n",
    "        plt.xticks(r, names)\n",
    "        plt.ylim([0,100])\n",
    "        if runOfInt == 1:\n",
    "            plt.ylabel('Percentage')\n",
    "        plt.title('Run ' + str(runOfInt))\n",
    "\n",
    "    # Add a legend\n",
    "    lgd = plt.legend(['Correct Movement','Incorrect Movement'], loc='upper left', bbox_to_anchor=(1,1), ncol=1)\n",
    "\n",
    "    # Add super title\n",
    "    if subject_group == 1:\n",
    "        if adaptation_type == 'No Adaptation':\n",
    "            fig.suptitle(subjID + ', Session ' + str(session_number) + ', No Adaptation')\n",
    "        elif adaptation_type == 'Adaptation (CS)':\n",
    "            fig.suptitle(subjID + ', Session ' + str(session_number) + ', Simulated Adaptation (CS)')\n",
    "        elif adaptation_type == 'Simulated Adaptation (TL)':\n",
    "            fig.suptitle(subjID + ', Session ' + str(session_number) + ', Simulated Adaptation (TL)')\n",
    "    elif subject_group == 2:\n",
    "        if adaptation_type == 'No Adaptation':\n",
    "            fig.suptitle(subjID + ', Session ' + str(session_number) + ', Simulated No Adaptation')\n",
    "        elif adaptation_type == 'Adaptation (CS)':\n",
    "            fig.suptitle(subjID + ', Session ' + str(session_number) + ', Co-Adaptation (CS)')\n",
    "        elif adaptation_type == 'Simulated Adaptation (TL)':\n",
    "            fig.suptitle(subjID + ', Session ' + str(session_number) + ', Simulated Adaptation (TL)')\n",
    "    fig.tight_layout()\n",
    "    fig.subplots_adjust(top=0.86)\n",
    "\n",
    "    # Show graphic\n",
    "    plt.show()\n",
    "    fig.savefig('Figures/' + subjID + '_LR_Session-' + str(session_number) + '_' + adaptation_type + '.png',\n",
    "            bbox_extra_artists=(lgd,))"
   ]
  },
  {
   "cell_type": "markdown",
   "metadata": {},
   "source": [
    "### Plot left vs right movements (using behavioral data)\n",
    "Plot this to compare how the behavioral (actual) data compares to the simulated"
   ]
  },
  {
   "cell_type": "code",
   "execution_count": 257,
   "metadata": {},
   "outputs": [
    {
     "data": {
      "image/png": "[encoded data removed]",
      "text/plain": [
       "<Figure size 1152x288 with 5 Axes>"
      ]
     },
     "metadata": {
      "needs_background": "light"
     },
     "output_type": "display_data"
    },
    {
     "data": {
      "image/png": "[encoded data removed]",
      "text/plain": [
       "<Figure size 1152x288 with 5 Axes>"
      ]
     },
     "metadata": {
      "needs_background": "light"
     },
     "output_type": "display_data"
    },
    {
     "data": {
      "image/png": "[encoded data removed]",
      "text/plain": [
       "<Figure size 1152x288 with 5 Axes>"
      ]
     },
     "metadata": {
      "needs_background": "light"
     },
     "output_type": "display_data"
    }
   ],
   "source": [
    "# Set adaptation type\n",
    "adaptation_type = 'No Adaptation'\n",
    "\n",
    "for adaptation_type in ['No Adaptation','Adaptation (CS)','Simulated Adaptation (TL)']:\n",
    "    fig = plt.figure(figsize=(16,4))\n",
    "    for runOfInt in range(1,5+1):\n",
    "        # Calculate\n",
    "        if subject_group == 1:\n",
    "            if adaptation_type == 'No Adaptation':\n",
    "                actual, TL = GetBehavioralTL(runOfInt)\n",
    "            elif adaptation_type == 'Adaptation (CS)':\n",
    "                actual = clf_sim_all[runOfInt].predict(X_sim_all[runOfInt])\n",
    "                TL = y_sim_all[runOfInt] # true labels\n",
    "            elif adaptation_type == 'Simulated Adaptation (TL)':\n",
    "                actual = clf_sim_TL_all[runOfInt].predict(X_sim_TL_all[runOfInt])\n",
    "                TL = y_sim_TL_all[runOfInt] # true labels\n",
    "        elif subject_group == 2:\n",
    "            if adaptation_type == 'No Adaptation':\n",
    "                actual = clf_sim_all[runOfInt].predict(X_sim_all[runOfInt])\n",
    "                TL = y_sim_all[runOfInt] # true labels\n",
    "            elif adaptation_type == 'Adaptation (CS)':\n",
    "                actual, TL = GetBehavioralTL(runOfInt)\n",
    "            elif adaptation_type == 'Simulated Adaptation (TL)':\n",
    "                actual = clf_sim_TL_all[runOfInt].predict(X_sim_TL_all[runOfInt])\n",
    "                TL = y_sim_TL_all[runOfInt] # true labels\n",
    "        trials_left = np.where(TL==0)[0]\n",
    "        trials_right = np.where(TL==1)[0]\n",
    "        left_correct = len(np.where(actual[trials_left]==0)[0])/len(actual[trials_left])*100\n",
    "        left_wrong = 100 - left_correct\n",
    "        right_correct = len(np.where(actual[trials_right]==1)[0])/len(actual[trials_right])*100\n",
    "        right_wrong = 100 - right_correct\n",
    "\n",
    "        # Organize data for bar plotting\n",
    "        r = [0,1]\n",
    "        raw_data = {'correctBars': [left_correct, right_correct], 'wrongBars': [left_wrong, right_wrong]}\n",
    "        df = pd.DataFrame(raw_data)\n",
    "\n",
    "        # From raw value to percentage\n",
    "        correctBars = df['correctBars']\n",
    "        wrongBars = df['wrongBars']\n",
    "\n",
    "        # plot\n",
    "        barWidth = 0.85\n",
    "        names = ('Left Trials','Right Trials')\n",
    "        plt.subplot(150+runOfInt)\n",
    "\n",
    "        # Create green Bars\n",
    "        plt.bar(r, correctBars, color='#b5ffb9', edgecolor='white', width=barWidth)\n",
    "        # Create orange Bars\n",
    "        plt.bar(r, wrongBars, bottom=correctBars, color='#f9bc86', edgecolor='white', width=barWidth)\n",
    "\n",
    "        # Custom x axis\n",
    "        plt.xticks(r, names)\n",
    "        plt.ylim([0,100])\n",
    "        if runOfInt == 1:\n",
    "            plt.ylabel('Percentage')\n",
    "        plt.title('Run ' + str(runOfInt))\n",
    "\n",
    "    # Add a legend\n",
    "    lgd = plt.legend(['Correct Movement','Incorrect Movement'], loc='upper left', bbox_to_anchor=(1,1), ncol=1)\n",
    "\n",
    "    # Add super title\n",
    "    if subject_group == 1:\n",
    "        if adaptation_type == 'No Adaptation':\n",
    "            fig.suptitle(subjID + ', Session ' + str(session_number) + ', No Adaptation')\n",
    "        elif adaptation_type == 'Adaptation (CS)':\n",
    "            fig.suptitle(subjID + ', Session ' + str(session_number) + ', Simulated Adaptation (CS)')\n",
    "        elif adaptation_type == 'Simulated Adaptation (TL)':\n",
    "            fig.suptitle(subjID + ', Session ' + str(session_number) + ', Simulated Adaptation (TL)')\n",
    "    elif subject_group == 2:\n",
    "        if adaptation_type == 'No Adaptation':\n",
    "            fig.suptitle(subjID + ', Session ' + str(session_number) + ', Simulated No Adaptation')\n",
    "        elif adaptation_type == 'Adaptation (CS)':\n",
    "            fig.suptitle(subjID + ', Session ' + str(session_number) + ', Co-Adaptation (CS)')\n",
    "        elif adaptation_type == 'Simulated Adaptation (TL)':\n",
    "            fig.suptitle(subjID + ', Session ' + str(session_number) + ', Simulated Adaptation (TL)')\n",
    "    fig.tight_layout()\n",
    "    fig.subplots_adjust(top=0.86)\n",
    "\n",
    "    # Show graphic\n",
    "    plt.show()\n",
    "    fig.savefig('Figures/' + subjID + '_LR_Session-' + str(session_number) + '_' + adaptation_type + '.png',\n",
    "            bbox_extra_artists=(lgd,))"
   ]
  },
  {
   "cell_type": "markdown",
   "metadata": {},
   "source": [
    "## Looking at an individual run"
   ]
  },
  {
   "cell_type": "code",
   "execution_count": 258,
   "metadata": {},
   "outputs": [
    {
     "name": "stdout",
     "output_type": "stream",
     "text": [
      "Run 5 (original)\n",
      "Total number of examples: 112\n",
      "Percent of expected control movements: 43.75%\n",
      "----------------\n",
      "Confusion Matrix for MI\n",
      "[[ 7 53]\n",
      " [10 42]]\n",
      "----------------\n"
     ]
    }
   ],
   "source": [
    "runOfInt = 5\n",
    "print('Run ' + str(runOfInt) + ' (original)')\n",
    "print('Total number of examples: ' + str(len(X_orig_all[runOfInt])))\n",
    "print('Percent of expected control movements: '\n",
    "      + str(clf_orig_all[runOfInt].score(\n",
    "          X_orig_all[runOfInt], y_orig_all[runOfInt])*100) + '%')\n",
    "print('----------------')\n",
    "print('Confusion Matrix for MI')\n",
    "print(confusion_matrix(y_orig_all[runOfInt], clf_orig_all[runOfInt].predict(\n",
    "    X_orig_all[runOfInt])))\n",
    "print('----------------')"
   ]
  },
  {
   "cell_type": "markdown",
   "metadata": {},
   "source": [
    "# EXPERIMENT\n",
    "Play around to compare the model data with the behavioral data (loaded in from the .csv) "
   ]
  },
  {
   "cell_type": "code",
   "execution_count": 259,
   "metadata": {},
   "outputs": [
    {
     "data": {
      "text/html": [
       "<div>\n",
       "<style scoped>\n",
       "    .dataframe tbody tr th:only-of-type {\n",
       "        vertical-align: middle;\n",
       "    }\n",
       "\n",
       "    .dataframe tbody tr th {\n",
       "        vertical-align: top;\n",
       "    }\n",
       "\n",
       "    .dataframe thead th {\n",
       "        text-align: right;\n",
       "    }\n",
       "</style>\n",
       "<table border=\"1\" class=\"dataframe\">\n",
       "  <thead>\n",
       "    <tr style=\"text-align: right;\">\n",
       "      <th></th>\n",
       "      <th>Unnamed: 0</th>\n",
       "      <th>time</th>\n",
       "      <th>player_x</th>\n",
       "      <th>player_y</th>\n",
       "      <th>target_x</th>\n",
       "      <th>target_y</th>\n",
       "      <th>direction_moved</th>\n",
       "      <th>score</th>\n",
       "    </tr>\n",
       "  </thead>\n",
       "  <tbody>\n",
       "    <tr>\n",
       "      <th>0</th>\n",
       "      <td>0</td>\n",
       "      <td>4.322124</td>\n",
       "      <td>722.5</td>\n",
       "      <td>190.5</td>\n",
       "      <td>1177.5</td>\n",
       "      <td>191.0</td>\n",
       "      <td>right</td>\n",
       "      <td>0</td>\n",
       "    </tr>\n",
       "    <tr>\n",
       "      <th>1</th>\n",
       "      <td>1</td>\n",
       "      <td>6.345833</td>\n",
       "      <td>798.5</td>\n",
       "      <td>190.5</td>\n",
       "      <td>1177.5</td>\n",
       "      <td>191.0</td>\n",
       "      <td>right</td>\n",
       "      <td>0</td>\n",
       "    </tr>\n",
       "    <tr>\n",
       "      <th>2</th>\n",
       "      <td>2</td>\n",
       "      <td>8.350370</td>\n",
       "      <td>874.5</td>\n",
       "      <td>190.5</td>\n",
       "      <td>1177.5</td>\n",
       "      <td>191.0</td>\n",
       "      <td>right</td>\n",
       "      <td>0</td>\n",
       "    </tr>\n",
       "    <tr>\n",
       "      <th>3</th>\n",
       "      <td>3</td>\n",
       "      <td>10.353778</td>\n",
       "      <td>950.5</td>\n",
       "      <td>190.5</td>\n",
       "      <td>1177.5</td>\n",
       "      <td>191.0</td>\n",
       "      <td>right</td>\n",
       "      <td>0</td>\n",
       "    </tr>\n",
       "    <tr>\n",
       "      <th>4</th>\n",
       "      <td>4</td>\n",
       "      <td>12.356926</td>\n",
       "      <td>1026.5</td>\n",
       "      <td>190.5</td>\n",
       "      <td>1177.5</td>\n",
       "      <td>191.0</td>\n",
       "      <td>right</td>\n",
       "      <td>0</td>\n",
       "    </tr>\n",
       "  </tbody>\n",
       "</table>\n",
       "</div>"
      ],
      "text/plain": [
       "   Unnamed: 0       time  player_x  player_y  target_x  target_y  \\\n",
       "0           0   4.322124     722.5     190.5    1177.5     191.0   \n",
       "1           1   6.345833     798.5     190.5    1177.5     191.0   \n",
       "2           2   8.350370     874.5     190.5    1177.5     191.0   \n",
       "3           3  10.353778     950.5     190.5    1177.5     191.0   \n",
       "4           4  12.356926    1026.5     190.5    1177.5     191.0   \n",
       "\n",
       "  direction_moved  score  \n",
       "0           right      0  \n",
       "1           right      0  \n",
       "2           right      0  \n",
       "3           right      0  \n",
       "4           right      0  "
      ]
     },
     "execution_count": 259,
     "metadata": {},
     "output_type": "execute_result"
    }
   ],
   "source": [
    "runOfInt = 5\n",
    "behavioralData_all[runOfInt].head()"
   ]
  },
  {
   "cell_type": "code",
   "execution_count": 260,
   "metadata": {},
   "outputs": [],
   "source": [
    "# When the target is to the left\n",
    "trialL = np.where(behavioralData_all[runOfInt]['target_x'] < 1000)\n",
    "movementL = np.where(behavioralData_all[runOfInt]['direction_moved'] == 'left')\n",
    "\n",
    "# When target was to the right\n",
    "trialR = np.where(behavioralData_all[runOfInt]['target_x'] > 1000)\n",
    "movementR = np.where(behavioralData_all[runOfInt]['direction_moved'] == 'right')\n",
    "\n",
    "# Create a single list that includes which movement is which (L = 0, R = 1)\n",
    "trial_type = np.zeros([1,len(behavioralData_all[runOfInt]['score'])])\n",
    "trial_type[0][trialL] = 0\n",
    "trial_type[0][trialR] = 1\n",
    "trial_type = np.round(trial_type[0])\n",
    "\n",
    "direction_moved = np.zeros([1,len(behavioralData_all[runOfInt]['score'])])\n",
    "direction_moved[0][movementL] = 0\n",
    "direction_moved[0][movementR] = 1\n",
    "direction_moved = np.round(direction_moved[0])\n",
    "\n",
    "# Remove trials if no baseline\n",
    "for movement in range(0,len(hasBaseline_all[runOfInt])):\n",
    "    if hasBaseline_all[runOfInt][movement] is False:\n",
    "        trial_type = np.delete(trial_type, movement)\n",
    "        direction_moved = np.delete(direction_moved, movement)"
   ]
  },
  {
   "cell_type": "code",
   "execution_count": 261,
   "metadata": {},
   "outputs": [
    {
     "name": "stdout",
     "output_type": "stream",
     "text": [
      "Percent Correct Left: 10.0%\n",
      "Percent Correct Right: 76.92307692307693%\n"
     ]
    }
   ],
   "source": [
    "correctL = len(np.intersect1d(trialL,movementL))/len(trialL[0])*100\n",
    "correctR = len(np.intersect1d(trialR,movementR))/len(trialR[0])*100\n",
    "print('Percent Correct Left: ' + str(correctL) + '%')\n",
    "print('Percent Correct Right: ' + str(correctR) + '%')"
   ]
  },
  {
   "cell_type": "code",
   "execution_count": 262,
   "metadata": {},
   "outputs": [
    {
     "name": "stdout",
     "output_type": "stream",
     "text": [
      "Percent Correct (all): 41.07142857142857%\n"
     ]
    }
   ],
   "source": [
    "correct_all = len(np.where(trial_type==direction_moved)[0])/len(trial_type)*100\n",
    "print('Percent Correct (all): ' + str(correct_all) + '%')"
   ]
  },
  {
   "cell_type": "markdown",
   "metadata": {},
   "source": [
    "Yeah the bar plots above don't seem to be correct... let's double check that the predicts we are making match those from the live BCI control"
   ]
  },
  {
   "cell_type": "markdown",
   "metadata": {},
   "source": [
    "#### Question 1: Are the y-labels correct?\n",
    "Let's make sure the y-labels being used in the model match the actual target positions"
   ]
  },
  {
   "cell_type": "code",
   "execution_count": 263,
   "metadata": {},
   "outputs": [
    {
     "data": {
      "text/plain": [
       "array([1., 1., 1., 1., 1., 1., 1., 1., 1., 1., 1., 1., 1., 1., 0., 0., 0.,\n",
       "       0., 0., 0., 0., 0., 0., 0., 0., 0., 0., 0., 0., 0., 0., 0., 0., 0.,\n",
       "       0., 0., 0., 0., 0., 0., 0., 0., 0., 0., 0., 0., 0., 0., 0., 0., 0.,\n",
       "       0., 0., 0., 0., 0., 0., 0., 0., 0., 0., 0., 0., 0., 0., 0., 0., 0.,\n",
       "       0., 0., 0., 0., 0., 0., 1., 1., 1., 1., 1., 1., 1., 1., 1., 1., 1.,\n",
       "       1., 1., 1., 1., 1., 1., 1., 1., 1., 1., 1., 1., 1., 1., 1., 1., 1.,\n",
       "       1., 1., 1., 1., 1., 1., 1., 1., 1., 1.])"
      ]
     },
     "execution_count": 263,
     "metadata": {},
     "output_type": "execute_result"
    }
   ],
   "source": [
    "y_orig_all[runOfInt]"
   ]
  },
  {
   "cell_type": "code",
   "execution_count": 264,
   "metadata": {},
   "outputs": [
    {
     "data": {
      "text/plain": [
       "array([1., 1., 1., 1., 1., 1., 1., 1., 1., 1., 1., 1., 1., 1., 0., 0., 0.,\n",
       "       0., 0., 0., 0., 0., 0., 0., 0., 0., 0., 0., 0., 0., 0., 0., 0., 0.,\n",
       "       0., 0., 0., 0., 0., 0., 0., 0., 0., 0., 0., 0., 0., 0., 0., 0., 0.,\n",
       "       0., 0., 0., 0., 0., 0., 0., 0., 0., 0., 0., 0., 0., 0., 0., 0., 0.,\n",
       "       0., 0., 0., 0., 0., 0., 1., 1., 1., 1., 1., 1., 1., 1., 1., 1., 1.,\n",
       "       1., 1., 1., 1., 1., 1., 1., 1., 1., 1., 1., 1., 1., 1., 1., 1., 1.,\n",
       "       1., 1., 1., 1., 1., 1., 1., 1., 1., 1.])"
      ]
     },
     "execution_count": 264,
     "metadata": {},
     "output_type": "execute_result"
    }
   ],
   "source": [
    "trial_type"
   ]
  },
  {
   "cell_type": "code",
   "execution_count": 265,
   "metadata": {},
   "outputs": [
    {
     "data": {
      "text/plain": [
       "112"
      ]
     },
     "execution_count": 265,
     "metadata": {},
     "output_type": "execute_result"
    }
   ],
   "source": [
    "len(y_orig_all[runOfInt])"
   ]
  },
  {
   "cell_type": "markdown",
   "metadata": {},
   "source": [
    "Let's triple check that the correct models are being loaded in for each run. The true labels (AKA y or trial_type) are correct. It's the models and the input features we have to check."
   ]
  },
  {
   "cell_type": "code",
   "execution_count": 266,
   "metadata": {},
   "outputs": [
    {
     "data": {
      "text/plain": [
       "array([10.88095314,  0.74713578,  8.22405952,  1.07940356])"
      ]
     },
     "execution_count": 266,
     "metadata": {},
     "output_type": "execute_result"
    }
   ],
   "source": [
    "X_orig_all[runOfInt][0]"
   ]
  },
  {
   "cell_type": "markdown",
   "metadata": {},
   "source": [
    "#### Question 2: Same number of epochs?\n",
    "Check to see if the number of epochs being used to predict is the same as the number in the behavioral data."
   ]
  },
  {
   "cell_type": "markdown",
   "metadata": {},
   "source": [
    "The models seem correct, but there seems to be a difference in the feature calculations... maybe something about baseline is throwing things off.\n",
    "\n",
    "Below is the output from session 2 run 5 of 9d4921. But first, let's make sure that the proper baseline is being selected for each epoch.\n",
    "\n",
    "Instead of removing epochs that didn't have baseline, why don't we do what we did in the live BCI code and normalize them to themselves instead?"
   ]
  },
  {
   "cell_type": "code",
   "execution_count": 163,
   "metadata": {},
   "outputs": [
    {
     "data": {
      "text/plain": [
       "112"
      ]
     },
     "execution_count": 163,
     "metadata": {},
     "output_type": "execute_result"
    }
   ],
   "source": [
    "len(hasBaseline_all[runOfInt])"
   ]
  },
  {
   "cell_type": "code",
   "execution_count": 164,
   "metadata": {},
   "outputs": [
    {
     "data": {
      "text/plain": [
       "(array([], dtype=int64),)"
      ]
     },
     "execution_count": 164,
     "metadata": {},
     "output_type": "execute_result"
    }
   ],
   "source": [
    "np.where(np.asarray(hasBaseline_all[runOfInt])==False)"
   ]
  },
  {
   "cell_type": "markdown",
   "metadata": {},
   "source": [
    "`len(hasBaseline_all[runOfInt])` matches the number of epochs we have classified, so it's not a matter of removing epochs."
   ]
  },
  {
   "cell_type": "markdown",
   "metadata": {},
   "source": [
    "#### Question 3: Where is the discrepancy?\n",
    "Let's check to see if the difference between model estimate and actual behavioral consistently falls within certain trials"
   ]
  },
  {
   "cell_type": "code",
   "execution_count": 267,
   "metadata": {},
   "outputs": [],
   "source": [
    "actual, TL = GetBehavioralTL(runOfInt)\n",
    "predicted = clf_orig_all[runOfInt].predict(X_orig_all[runOfInt])"
   ]
  },
  {
   "cell_type": "code",
   "execution_count": 268,
   "metadata": {},
   "outputs": [
    {
     "data": {
      "text/plain": [
       "array([1., 1., 1., 1., 1., 1., 1., 1., 1., 1., 1., 1., 1., 1., 0., 0., 0.,\n",
       "       0., 0., 0., 0., 0., 0., 0., 0., 0., 0., 0., 0., 0., 0., 0., 0., 0.,\n",
       "       0., 0., 0., 0., 0., 0., 0., 0., 0., 0., 0., 0., 0., 0., 0., 0., 0.,\n",
       "       0., 0., 0., 0., 0., 0., 0., 0., 0., 0., 0., 0., 0., 0., 0., 0., 0.,\n",
       "       0., 0., 0., 0., 0., 0., 1., 1., 1., 1., 1., 1., 1., 1., 1., 1., 1.,\n",
       "       1., 1., 1., 1., 1., 1., 1., 1., 1., 1., 1., 1., 1., 1., 1., 1., 1.,\n",
       "       1., 1., 1., 1., 1., 1., 1., 1., 1., 1.])"
      ]
     },
     "execution_count": 268,
     "metadata": {},
     "output_type": "execute_result"
    }
   ],
   "source": [
    "# Actual target locations (left=0 or right=1)\n",
    "TL"
   ]
  },
  {
   "cell_type": "code",
   "execution_count": 269,
   "metadata": {},
   "outputs": [
    {
     "data": {
      "text/plain": [
       "array([1., 1., 1., 1., 1., 1., 1., 1., 1., 1., 1., 1., 1., 1., 1., 1., 1.,\n",
       "       1., 1., 1., 1., 1., 1., 1., 0., 1., 1., 1., 1., 1., 1., 1., 1., 0.,\n",
       "       1., 1., 1., 1., 1., 0., 1., 1., 1., 1., 1., 1., 1., 1., 1., 1., 1.,\n",
       "       1., 1., 1., 1., 1., 1., 1., 1., 1., 1., 1., 1., 1., 1., 1., 1., 1.,\n",
       "       1., 1., 0., 0., 1., 0., 0., 0., 1., 1., 1., 0., 0., 0., 1., 0., 1.,\n",
       "       1., 1., 1., 0., 1., 1., 1., 1., 1., 0., 1., 1., 1., 1., 1., 1., 1.,\n",
       "       0., 1., 0., 1., 1., 1., 0., 0., 1., 1.])"
      ]
     },
     "execution_count": 269,
     "metadata": {},
     "output_type": "execute_result"
    }
   ],
   "source": [
    "# Actual behavioral data\n",
    "actual"
   ]
  },
  {
   "cell_type": "code",
   "execution_count": 270,
   "metadata": {},
   "outputs": [
    {
     "data": {
      "text/plain": [
       "array([1., 1., 1., 1., 1., 1., 1., 0., 0., 1., 1., 1., 1., 0., 1., 1., 0.,\n",
       "       0., 1., 1., 1., 1., 1., 1., 1., 0., 0., 0., 1., 1., 1., 1., 1., 1.,\n",
       "       1., 1., 1., 1., 1., 1., 0., 1., 1., 1., 1., 1., 1., 1., 1., 1., 1.,\n",
       "       1., 1., 1., 1., 1., 0., 1., 1., 1., 1., 1., 1., 1., 1., 1., 1., 1.,\n",
       "       1., 1., 1., 1., 1., 1., 1., 1., 1., 1., 1., 0., 1., 0., 1., 1., 1.,\n",
       "       0., 1., 1., 1., 1., 1., 0., 1., 1., 1., 0., 1., 1., 0., 1., 1., 1.,\n",
       "       1., 1., 1., 1., 1., 1., 0., 1., 1., 1.])"
      ]
     },
     "execution_count": 270,
     "metadata": {},
     "output_type": "execute_result"
    }
   ],
   "source": [
    "# Predicted with model\n",
    "predicted"
   ]
  },
  {
   "cell_type": "code",
   "execution_count": 271,
   "metadata": {},
   "outputs": [
    {
     "data": {
      "text/plain": [
       "array([5.35456968, 1.04397932, 5.3269446 , 0.38792867])"
      ]
     },
     "execution_count": 271,
     "metadata": {},
     "output_type": "execute_result"
    }
   ],
   "source": [
    "X_orig_all[runOfInt][24]"
   ]
  },
  {
   "cell_type": "markdown",
   "metadata": {},
   "source": [
    "Blah"
   ]
  },
  {
   "cell_type": "code",
   "execution_count": 272,
   "metadata": {},
   "outputs": [
    {
     "data": {
      "text/plain": [
       "array([ 22904,  23916,  24918,  25920,  26921,  27922,  28924,  31518,\n",
       "        32520,  33521,  34523,  35524,  36526,  37528,  39960,  40962,\n",
       "        41964,  42965,  43967,  44969,  45970,  46972,  47974,  48975,\n",
       "        51390,  52392,  53395,  54396,  55398,  56399,  57401,  58403,\n",
       "        59405,  60407,  62964,  63965,  64967,  65968,  66969,  67971,\n",
       "        68973,  69975,  70976,  71978,  74361,  75362,  76364,  77365,\n",
       "        78367,  79369,  80370,  81372,  82374,  83375,  85886,  86888,\n",
       "        87890,  88891,  89894,  90895,  91897,  92899,  93901,  94903,\n",
       "        97307,  98309,  99311, 100312, 101314, 102316, 103318, 104320,\n",
       "       105321, 106323, 108899, 109901, 110903, 111905, 112907, 113908,\n",
       "       114910, 115912, 116914, 117916, 120481, 121482, 122484, 123486,\n",
       "       124488, 125490, 126492, 127493, 128495, 131042, 132043, 133045,\n",
       "       134047, 135049, 136051, 137053, 138056, 139058, 141542, 142544,\n",
       "       143546, 144548, 145550, 146552, 147554, 148556, 149558, 150560],\n",
       "      dtype=int64)"
      ]
     },
     "execution_count": 272,
     "metadata": {},
     "output_type": "execute_result"
    }
   ],
   "source": [
    "move_starts"
   ]
  },
  {
   "cell_type": "code",
   "execution_count": 273,
   "metadata": {},
   "outputs": [
    {
     "data": {
      "text/plain": [
       "array([ 20906,  29428,  38029,  49477,  60908,  72480,  83879,  95404,\n",
       "       106825, 118418, 128997, 139559, 151062], dtype=int64)"
      ]
     },
     "execution_count": 273,
     "metadata": {},
     "output_type": "execute_result"
    }
   ],
   "source": [
    "rest_starts"
   ]
  },
  {
   "cell_type": "code",
   "execution_count": 274,
   "metadata": {},
   "outputs": [
    {
     "data": {
      "text/plain": [
       "array([ 21904,  30515,  38956,  50388,  61962,  73358,  84884,  96305,\n",
       "       107897, 119477, 130038, 140539, 152120], dtype=int64)"
      ]
     },
     "execution_count": 274,
     "metadata": {},
     "output_type": "execute_result"
    }
   ],
   "source": [
    "rest_ends"
   ]
  },
  {
   "cell_type": "code",
   "execution_count": 275,
   "metadata": {},
   "outputs": [
    {
     "data": {
      "text/plain": [
       "13"
      ]
     },
     "execution_count": 275,
     "metadata": {},
     "output_type": "execute_result"
    }
   ],
   "source": [
    "len(rest_starts)"
   ]
  },
  {
   "cell_type": "code",
   "execution_count": 276,
   "metadata": {},
   "outputs": [
    {
     "data": {
      "text/plain": [
       "111"
      ]
     },
     "execution_count": 276,
     "metadata": {},
     "output_type": "execute_result"
    }
   ],
   "source": [
    "movement"
   ]
  },
  {
   "cell_type": "code",
   "execution_count": 277,
   "metadata": {},
   "outputs": [
    {
     "data": {
      "text/plain": [
       "11"
      ]
     },
     "execution_count": 277,
     "metadata": {},
     "output_type": "execute_result"
    }
   ],
   "source": [
    "restOfInt = np.max(np.where(rest_starts < move_starts[111]))\n",
    "restOfInt"
   ]
  },
  {
   "cell_type": "code",
   "execution_count": 278,
   "metadata": {},
   "outputs": [
    {
     "name": "stdout",
     "output_type": "stream",
     "text": [
      "139559\n",
      "140539\n"
     ]
    }
   ],
   "source": [
    "tb_start = rest_starts[restOfInt]\n",
    "tb_end = rest_ends[restOfInt]\n",
    "print(tb_start)\n",
    "print(tb_end)"
   ]
  },
  {
   "cell_type": "code",
   "execution_count": 279,
   "metadata": {},
   "outputs": [
    {
     "data": {
      "text/html": [
       "<div>\n",
       "<style scoped>\n",
       "    .dataframe tbody tr th:only-of-type {\n",
       "        vertical-align: middle;\n",
       "    }\n",
       "\n",
       "    .dataframe tbody tr th {\n",
       "        vertical-align: top;\n",
       "    }\n",
       "\n",
       "    .dataframe thead th {\n",
       "        text-align: right;\n",
       "    }\n",
       "</style>\n",
       "<table border=\"1\" class=\"dataframe\">\n",
       "  <thead>\n",
       "    <tr style=\"text-align: right;\">\n",
       "      <th></th>\n",
       "      <th>F3</th>\n",
       "      <th>Fz</th>\n",
       "      <th>F4</th>\n",
       "      <th>FCz</th>\n",
       "      <th>C3</th>\n",
       "      <th>Cz</th>\n",
       "      <th>C4</th>\n",
       "      <th>Pz</th>\n",
       "      <th>X</th>\n",
       "      <th>Y</th>\n",
       "      <th>Z</th>\n",
       "      <th>STI 014</th>\n",
       "      <th>DateTime</th>\n",
       "    </tr>\n",
       "  </thead>\n",
       "  <tbody>\n",
       "    <tr>\n",
       "      <th>0</th>\n",
       "      <td>62725694</td>\n",
       "      <td>46646743</td>\n",
       "      <td>8982230</td>\n",
       "      <td>39000897</td>\n",
       "      <td>6507349</td>\n",
       "      <td>84385643</td>\n",
       "      <td>72738656</td>\n",
       "      <td>79517993</td>\n",
       "      <td>0</td>\n",
       "      <td>0</td>\n",
       "      <td>0</td>\n",
       "      <td>0</td>\n",
       "      <td>1551827183446</td>\n",
       "    </tr>\n",
       "    <tr>\n",
       "      <th>1</th>\n",
       "      <td>62750490</td>\n",
       "      <td>46667295</td>\n",
       "      <td>8992196</td>\n",
       "      <td>39001088</td>\n",
       "      <td>6510592</td>\n",
       "      <td>84410439</td>\n",
       "      <td>72772034</td>\n",
       "      <td>79540214</td>\n",
       "      <td>0</td>\n",
       "      <td>0</td>\n",
       "      <td>0</td>\n",
       "      <td>0</td>\n",
       "      <td>1551827183448</td>\n",
       "    </tr>\n",
       "    <tr>\n",
       "      <th>2</th>\n",
       "      <td>62769801</td>\n",
       "      <td>46687322</td>\n",
       "      <td>9005738</td>\n",
       "      <td>39008765</td>\n",
       "      <td>6516981</td>\n",
       "      <td>84428272</td>\n",
       "      <td>72793778</td>\n",
       "      <td>79557571</td>\n",
       "      <td>3206</td>\n",
       "      <td>9061</td>\n",
       "      <td>-951</td>\n",
       "      <td>0</td>\n",
       "      <td>1551827183450</td>\n",
       "    </tr>\n",
       "    <tr>\n",
       "      <th>3</th>\n",
       "      <td>62775667</td>\n",
       "      <td>46696286</td>\n",
       "      <td>9014464</td>\n",
       "      <td>39019636</td>\n",
       "      <td>6523180</td>\n",
       "      <td>84433184</td>\n",
       "      <td>72796544</td>\n",
       "      <td>79564819</td>\n",
       "      <td>3206</td>\n",
       "      <td>9061</td>\n",
       "      <td>-951</td>\n",
       "      <td>0</td>\n",
       "      <td>1551827183452</td>\n",
       "    </tr>\n",
       "    <tr>\n",
       "      <th>4</th>\n",
       "      <td>62769277</td>\n",
       "      <td>46690564</td>\n",
       "      <td>9013033</td>\n",
       "      <td>39020399</td>\n",
       "      <td>6522703</td>\n",
       "      <td>84426365</td>\n",
       "      <td>72784337</td>\n",
       "      <td>79558620</td>\n",
       "      <td>3206</td>\n",
       "      <td>9061</td>\n",
       "      <td>-951</td>\n",
       "      <td>0</td>\n",
       "      <td>1551827183454</td>\n",
       "    </tr>\n",
       "  </tbody>\n",
       "</table>\n",
       "</div>"
      ],
      "text/plain": [
       "         F3        Fz       F4       FCz       C3        Cz        C4  \\\n",
       "0  62725694  46646743  8982230  39000897  6507349  84385643  72738656   \n",
       "1  62750490  46667295  8992196  39001088  6510592  84410439  72772034   \n",
       "2  62769801  46687322  9005738  39008765  6516981  84428272  72793778   \n",
       "3  62775667  46696286  9014464  39019636  6523180  84433184  72796544   \n",
       "4  62769277  46690564  9013033  39020399  6522703  84426365  72784337   \n",
       "\n",
       "         Pz     X     Y    Z  STI 014       DateTime  \n",
       "0  79517993     0     0    0        0  1551827183446  \n",
       "1  79540214     0     0    0        0  1551827183448  \n",
       "2  79557571  3206  9061 -951        0  1551827183450  \n",
       "3  79564819  3206  9061 -951        0  1551827183452  \n",
       "4  79558620  3206  9061 -951        0  1551827183454  "
      ]
     },
     "execution_count": 279,
     "metadata": {},
     "output_type": "execute_result"
    }
   ],
   "source": [
    "EEGdata_all[runOfInt].head()"
   ]
  },
  {
   "cell_type": "code",
   "execution_count": 280,
   "metadata": {},
   "outputs": [],
   "source": [
    "#EpochBCIData(EEGdata, fs, move_starts, rest_starts, rest_ends)"
   ]
  },
  {
   "cell_type": "code",
   "execution_count": 281,
   "metadata": {},
   "outputs": [],
   "source": [
    "if EEGdevice == 7:\n",
    "    channels = EEGdata.columns[1:8]\n",
    "elif EEGdevice == 8:\n",
    "    channels = EEGdata.columns[0:8]\n",
    "\n",
    "epochs = []\n",
    "epochs_norm = []\n",
    "\n",
    "# for movement in range(0,len(move_starts)):\n",
    "for movement in range(0,1):\n",
    "    # Data for this movement\n",
    "    t_start = move_starts[movement] - np.round(2.00*fs)\n",
    "    t_end = move_starts[movement] - np.round(0.250*fs)\n",
    "\n",
    "    # Baseline\n",
    "    restOfInt = np.max(np.where(rest_starts < move_starts[movement]))\n",
    "    tb_start = rest_starts[restOfInt]\n",
    "    tb_end = rest_ends[restOfInt]\n",
    "\n",
    "    # Note, baseline is filtered before it is used in the live script\n",
    "    baseline_pre_filt = np.asarray(EEGdata.loc[tb_start:tb_end][channels]) * 1.0\n",
    "    baseline_filt = filter_data(baseline_pre_filt.T, sfreq=fs, l_freq=7, h_freq=31, verbose='ERROR')\n",
    "    baseline = baseline_filt.T\n",
    "\n",
    "    # Filter per epoch, like you would in real-time\n",
    "    pre_filt = np.asarray(EEGdata.loc[t_start:t_end][channels]) * 1.0\n",
    "    filtered = filter_data(pre_filt.T, sfreq=fs, l_freq=7, h_freq=31, verbose='ERROR')\n",
    "    epoch = pd.DataFrame(filtered.T)\n",
    "    epoch.columns = EEGdata.columns[0:8]\n",
    "\n",
    "    # Store epoch\n",
    "    tmp = (epoch - np.mean(baseline,0))/np.std(baseline,0)\n",
    "    tmp = pd.DataFrame(tmp)\n",
    "    tmp.columns = EEGdata.columns[0:8]\n",
    "\n",
    "    epochs_norm.append(tmp)\n",
    "    epochs.append(epoch)"
   ]
  },
  {
   "cell_type": "code",
   "execution_count": 282,
   "metadata": {},
   "outputs": [
    {
     "data": {
      "text/plain": [
       "array([123.55713269,  44.59533928,   2.69371874, -92.78972177,\n",
       "        39.02139513, 156.67699171, 237.75875084, 256.74678333])"
      ]
     },
     "execution_count": 282,
     "metadata": {},
     "output_type": "execute_result"
    }
   ],
   "source": [
    "np.mean(baseline,0)"
   ]
  },
  {
   "cell_type": "code",
   "execution_count": 283,
   "metadata": {},
   "outputs": [
    {
     "data": {
      "text/plain": [
       "array([6405.54941707, 5916.32882062, 4637.15220931, 5488.21821659,\n",
       "       4182.76532272, 5719.05907815, 6818.51980393, 6217.4596713 ])"
      ]
     },
     "execution_count": 283,
     "metadata": {},
     "output_type": "execute_result"
    }
   ],
   "source": [
    "np.std(baseline,0)"
   ]
  },
  {
   "cell_type": "code",
   "execution_count": 284,
   "metadata": {},
   "outputs": [
    {
     "data": {
      "text/plain": [
       "(876, 8)"
      ]
     },
     "execution_count": 284,
     "metadata": {},
     "output_type": "execute_result"
    }
   ],
   "source": [
    "np.shape(epoch)"
   ]
  },
  {
   "cell_type": "code",
   "execution_count": 285,
   "metadata": {},
   "outputs": [],
   "source": [
    "tmp2 = (epoch - np.mean(baseline,0))/np.std(baseline,0)"
   ]
  },
  {
   "cell_type": "code",
   "execution_count": 286,
   "metadata": {},
   "outputs": [
    {
     "data": {
      "text/html": [
       "<div>\n",
       "<style scoped>\n",
       "    .dataframe tbody tr th:only-of-type {\n",
       "        vertical-align: middle;\n",
       "    }\n",
       "\n",
       "    .dataframe tbody tr th {\n",
       "        vertical-align: top;\n",
       "    }\n",
       "\n",
       "    .dataframe thead th {\n",
       "        text-align: right;\n",
       "    }\n",
       "</style>\n",
       "<table border=\"1\" class=\"dataframe\">\n",
       "  <thead>\n",
       "    <tr style=\"text-align: right;\">\n",
       "      <th></th>\n",
       "      <th>F3</th>\n",
       "      <th>Fz</th>\n",
       "      <th>F4</th>\n",
       "      <th>FCz</th>\n",
       "      <th>C3</th>\n",
       "      <th>Cz</th>\n",
       "      <th>C4</th>\n",
       "      <th>Pz</th>\n",
       "    </tr>\n",
       "  </thead>\n",
       "  <tbody>\n",
       "    <tr>\n",
       "      <th>0</th>\n",
       "      <td>-0.019289</td>\n",
       "      <td>-0.007538</td>\n",
       "      <td>-0.000581</td>\n",
       "      <td>0.016907</td>\n",
       "      <td>-0.009329</td>\n",
       "      <td>-0.027396</td>\n",
       "      <td>-0.034870</td>\n",
       "      <td>-0.041294</td>\n",
       "    </tr>\n",
       "    <tr>\n",
       "      <th>1</th>\n",
       "      <td>-0.409622</td>\n",
       "      <td>-0.623059</td>\n",
       "      <td>-0.620098</td>\n",
       "      <td>-0.629982</td>\n",
       "      <td>-0.661237</td>\n",
       "      <td>-0.507388</td>\n",
       "      <td>-0.284217</td>\n",
       "      <td>-0.763548</td>\n",
       "    </tr>\n",
       "    <tr>\n",
       "      <th>2</th>\n",
       "      <td>-0.780075</td>\n",
       "      <td>-1.200524</td>\n",
       "      <td>-1.204806</td>\n",
       "      <td>-1.233696</td>\n",
       "      <td>-1.273867</td>\n",
       "      <td>-0.959985</td>\n",
       "      <td>-0.529157</td>\n",
       "      <td>-1.448382</td>\n",
       "    </tr>\n",
       "    <tr>\n",
       "      <th>3</th>\n",
       "      <td>-1.112867</td>\n",
       "      <td>-1.705808</td>\n",
       "      <td>-1.723037</td>\n",
       "      <td>-1.755542</td>\n",
       "      <td>-1.811876</td>\n",
       "      <td>-1.360141</td>\n",
       "      <td>-0.764410</td>\n",
       "      <td>-2.061483</td>\n",
       "    </tr>\n",
       "    <tr>\n",
       "      <th>4</th>\n",
       "      <td>-1.392880</td>\n",
       "      <td>-2.110985</td>\n",
       "      <td>-2.147648</td>\n",
       "      <td>-2.164591</td>\n",
       "      <td>-2.246042</td>\n",
       "      <td>-1.685678</td>\n",
       "      <td>-0.981554</td>\n",
       "      <td>-2.572814</td>\n",
       "    </tr>\n",
       "  </tbody>\n",
       "</table>\n",
       "</div>"
      ],
      "text/plain": [
       "         F3        Fz        F4       FCz        C3        Cz        C4  \\\n",
       "0 -0.019289 -0.007538 -0.000581  0.016907 -0.009329 -0.027396 -0.034870   \n",
       "1 -0.409622 -0.623059 -0.620098 -0.629982 -0.661237 -0.507388 -0.284217   \n",
       "2 -0.780075 -1.200524 -1.204806 -1.233696 -1.273867 -0.959985 -0.529157   \n",
       "3 -1.112867 -1.705808 -1.723037 -1.755542 -1.811876 -1.360141 -0.764410   \n",
       "4 -1.392880 -2.110985 -2.147648 -2.164591 -2.246042 -1.685678 -0.981554   \n",
       "\n",
       "         Pz  \n",
       "0 -0.041294  \n",
       "1 -0.763548  \n",
       "2 -1.448382  \n",
       "3 -2.061483  \n",
       "4 -2.572814  "
      ]
     },
     "execution_count": 286,
     "metadata": {},
     "output_type": "execute_result"
    }
   ],
   "source": [
    "tmp2.head()"
   ]
  },
  {
   "cell_type": "code",
   "execution_count": 287,
   "metadata": {},
   "outputs": [
    {
     "data": {
      "text/html": [
       "<div>\n",
       "<style scoped>\n",
       "    .dataframe tbody tr th:only-of-type {\n",
       "        vertical-align: middle;\n",
       "    }\n",
       "\n",
       "    .dataframe tbody tr th {\n",
       "        vertical-align: top;\n",
       "    }\n",
       "\n",
       "    .dataframe thead th {\n",
       "        text-align: right;\n",
       "    }\n",
       "</style>\n",
       "<table border=\"1\" class=\"dataframe\">\n",
       "  <thead>\n",
       "    <tr style=\"text-align: right;\">\n",
       "      <th></th>\n",
       "      <th>F3</th>\n",
       "      <th>Fz</th>\n",
       "      <th>F4</th>\n",
       "      <th>FCz</th>\n",
       "      <th>C3</th>\n",
       "      <th>Cz</th>\n",
       "      <th>C4</th>\n",
       "      <th>Pz</th>\n",
       "    </tr>\n",
       "  </thead>\n",
       "  <tbody>\n",
       "    <tr>\n",
       "      <th>0</th>\n",
       "      <td>-0.019289</td>\n",
       "      <td>-0.007538</td>\n",
       "      <td>-0.000581</td>\n",
       "      <td>0.016907</td>\n",
       "      <td>-0.009329</td>\n",
       "      <td>-0.027396</td>\n",
       "      <td>-0.034870</td>\n",
       "      <td>-0.041294</td>\n",
       "    </tr>\n",
       "    <tr>\n",
       "      <th>1</th>\n",
       "      <td>-0.409622</td>\n",
       "      <td>-0.623059</td>\n",
       "      <td>-0.620098</td>\n",
       "      <td>-0.629982</td>\n",
       "      <td>-0.661237</td>\n",
       "      <td>-0.507388</td>\n",
       "      <td>-0.284217</td>\n",
       "      <td>-0.763548</td>\n",
       "    </tr>\n",
       "    <tr>\n",
       "      <th>2</th>\n",
       "      <td>-0.780075</td>\n",
       "      <td>-1.200524</td>\n",
       "      <td>-1.204806</td>\n",
       "      <td>-1.233696</td>\n",
       "      <td>-1.273867</td>\n",
       "      <td>-0.959985</td>\n",
       "      <td>-0.529157</td>\n",
       "      <td>-1.448382</td>\n",
       "    </tr>\n",
       "    <tr>\n",
       "      <th>3</th>\n",
       "      <td>-1.112867</td>\n",
       "      <td>-1.705808</td>\n",
       "      <td>-1.723037</td>\n",
       "      <td>-1.755542</td>\n",
       "      <td>-1.811876</td>\n",
       "      <td>-1.360141</td>\n",
       "      <td>-0.764410</td>\n",
       "      <td>-2.061483</td>\n",
       "    </tr>\n",
       "    <tr>\n",
       "      <th>4</th>\n",
       "      <td>-1.392880</td>\n",
       "      <td>-2.110985</td>\n",
       "      <td>-2.147648</td>\n",
       "      <td>-2.164591</td>\n",
       "      <td>-2.246042</td>\n",
       "      <td>-1.685678</td>\n",
       "      <td>-0.981554</td>\n",
       "      <td>-2.572814</td>\n",
       "    </tr>\n",
       "  </tbody>\n",
       "</table>\n",
       "</div>"
      ],
      "text/plain": [
       "         F3        Fz        F4       FCz        C3        Cz        C4  \\\n",
       "0 -0.019289 -0.007538 -0.000581  0.016907 -0.009329 -0.027396 -0.034870   \n",
       "1 -0.409622 -0.623059 -0.620098 -0.629982 -0.661237 -0.507388 -0.284217   \n",
       "2 -0.780075 -1.200524 -1.204806 -1.233696 -1.273867 -0.959985 -0.529157   \n",
       "3 -1.112867 -1.705808 -1.723037 -1.755542 -1.811876 -1.360141 -0.764410   \n",
       "4 -1.392880 -2.110985 -2.147648 -2.164591 -2.246042 -1.685678 -0.981554   \n",
       "\n",
       "         Pz  \n",
       "0 -0.041294  \n",
       "1 -0.763548  \n",
       "2 -1.448382  \n",
       "3 -2.061483  \n",
       "4 -2.572814  "
      ]
     },
     "execution_count": 287,
     "metadata": {},
     "output_type": "execute_result"
    }
   ],
   "source": [
    "tmp.head()"
   ]
  },
  {
   "cell_type": "code",
   "execution_count": null,
   "metadata": {},
   "outputs": [],
   "source": []
  }
 ],
 "metadata": {
  "kernelspec": {
   "display_name": "Python 3",
   "language": "python",
   "name": "python3"
  },
  "language_info": {
   "codemirror_mode": {
    "name": "ipython",
    "version": 3
   },
   "file_extension": ".py",
   "mimetype": "text/x-python",
   "name": "python",
   "nbconvert_exporter": "python",
   "pygments_lexer": "ipython3",
   "version": "3.6.7"
  }
 },
 "nbformat": 4,
 "nbformat_minor": 2
}
