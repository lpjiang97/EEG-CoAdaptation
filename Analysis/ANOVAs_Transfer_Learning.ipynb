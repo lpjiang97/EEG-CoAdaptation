{
 "cells": [
  {
   "cell_type": "markdown",
   "metadata": {},
   "source": [
    "# ANOVAs for Transfer Learning\n",
    "Use this notebook to format data for statistical analyses on transfer learning data for all subjects.\n",
    "\n",
    "Nile Wilson, 2019.04.03"
   ]
  },
  {
   "cell_type": "code",
   "execution_count": 18,
   "metadata": {},
   "outputs": [],
   "source": [
    "from sklearn.preprocessing import StandardScaler\n",
    "from sklearn.model_selection import GridSearchCV\n",
    "from imblearn.over_sampling import SMOTE\n",
    "from sklearn.model_selection import KFold\n",
    "from sklearn.model_selection import train_test_split\n",
    "from sklearn.svm import SVC, LinearSVC\n",
    "from sklearn.metrics import confusion_matrix\n",
    "from sklearn.neural_network import MLPClassifier\n",
    "from sklearn.svm import SVC, LinearSVC\n",
    "from sklearn.metrics import roc_curve, auc\n",
    "from sklearn.model_selection import validation_curve\n",
    "from sklearn.model_selection import learning_curve\n",
    "from matplotlib import pyplot as plt\n",
    "from scipy.fftpack import fft, ifft\n",
    "from scipy import signal\n",
    "from mne.filter import filter_data\n",
    "\n",
    "import scipy.signal as scisig\n",
    "from scipy import stats\n",
    "import scipy.io\n",
    "import numpy as np\n",
    "import pandas as pd\n",
    "import datetime\n",
    "import pickle\n",
    "import glob\n",
    "import csv\n",
    "import mne\n",
    "import os"
   ]
  },
  {
   "cell_type": "markdown",
   "metadata": {},
   "source": [
    "# Set Your Variables\n",
    "Define which subject's data you are going to use to simulate performance (be sure to make sure the subject_group and session_number are correct)"
   ]
  },
  {
   "cell_type": "code",
   "execution_count": 54,
   "metadata": {},
   "outputs": [],
   "source": [
    "EEGdevice = 8\n",
    "session_number = 1 #only do 1 for general model sim\n",
    "model_type = 'experimental'\n",
    "isSVM = False"
   ]
  },
  {
   "cell_type": "markdown",
   "metadata": {},
   "source": [
    "### Function Definitions\n",
    "Functions for working with the BCI data"
   ]
  },
  {
   "cell_type": "code",
   "execution_count": 20,
   "metadata": {},
   "outputs": [],
   "source": [
    "def FindBCIFiles(subjID, run_number, session_number):\n",
    "    \"\"\"\n",
    "    Returns the file names for the BCI run of choice\n",
    "    \"\"\"\n",
    "    # Load latest model and its associated data\n",
    "    BCI_files = glob.glob('SaveData/' + subjID + '/Session' + str(session_number) + '/*' + subjID + '_BCI.easy')\n",
    "    \n",
    "    # Throw exception if model number is outside range of existing models\n",
    "    if run_number-1 > len(BCI_files):\n",
    "        raise ValueError('Please select a valid run number')\n",
    "    \n",
    "    filename_eeg = BCI_files[run_number-1]\n",
    "    print('Selecting BCI EEG file: ' + filename_eeg)\n",
    "\n",
    "    behavioral_files = glob.glob('SaveData/' + subjID + '/Session' + str(session_number) + '/BCI_' + subjID + '*.csv')\n",
    "    filename_behavioral = behavioral_files[run_number-1]\n",
    "    print('Selecting BCI behavioral file: ' + filename_behavioral)\n",
    "    \n",
    "    return filename_eeg, filename_behavioral\n",
    "\n",
    "def LoadEEGData(filename, EEGdevice):\n",
    "    \"\"\" This function converts a single .easy file (from NIC2) to an easy-to-use dataframe.\n",
    "    Uses both the .easy file and .info file (containing metadata)\n",
    "    \n",
    "    ---- Input ----\n",
    "    filename: string containing the .easy filepath\n",
    "    \n",
    "    ---- Output ----\n",
    "    df: dataframe containing all the EEG, accelerometer, and event marker data\n",
    "    fs: sampling rate for the EEG data (Hz)\n",
    "    fs_accel: sampling rate for the accelerometer data (Hz)\n",
    "    \n",
    "    \"\"\"\n",
    "    if EEGdevice == 7:\n",
    "        x = 1\n",
    "    elif EEGdevice == 8:\n",
    "        # Read in the .easy file\n",
    "        df = pd.read_csv(filename, delimiter='\\t', header=None)\n",
    "\n",
    "        # Get metadata from the .info file\n",
    "        fname = filename[:-5] + '.info'\n",
    "        with open(fname) as f:\n",
    "            content = f.readlines()\n",
    "        content = [x.strip() for x in content]\n",
    "\n",
    "        # Get the channel names\n",
    "        channel_info = [x for x in content if 'Channel ' in x]\n",
    "        channel_names = []\n",
    "        for ch in range(len(channel_info)):\n",
    "            channel_names.append(channel_info[ch].split(': ')[1])\n",
    "\n",
    "        channel_names.append('X')\n",
    "        channel_names.append('Y')\n",
    "        channel_names.append('Z')\n",
    "        channel_names.append('STI 014')\n",
    "        channel_names.append('DateTime')\n",
    "\n",
    "        # Get sampling rates\n",
    "        sampling_rates = [x for x in content if 'sampling rate: ' in x]\n",
    "        fs_all = []\n",
    "        for freq in range(len(sampling_rates)):\n",
    "            tmp = sampling_rates[freq].split(': ')[1].split(' ')[0]\n",
    "            if tmp in ['N/A']:\n",
    "                print('Skipping N/A')\n",
    "            else:\n",
    "                fs_all.append(float(sampling_rates[freq].split(': ')[1].split(' ')[0]))\n",
    "\n",
    "        # Store sampling rates\n",
    "        fs = fs_all[0]\n",
    "        fs_accel = fs_all[1]\n",
    "\n",
    "        # Assign the column names\n",
    "        df.columns = channel_names\n",
    "    \n",
    "    # Return dataframe and sampling rates\n",
    "    return df, fs, fs_accel\n",
    "\n",
    "def LoadBehavioralDataBCI(filename_behavioral):\n",
    "    \"\"\"\n",
    "    This function loads behavioral data for the motor screening task and formats it to use in this script\n",
    "    \"\"\"\n",
    "    behavioralData = pd.read_csv(filename_behavioral, ',')\n",
    "    \n",
    "    return behavioralData\n",
    "\n",
    "def SyncTriggerPulsesBCI(EEGdata, EEGdevice, fs, behavioralData):\n",
    "    \"\"\"\n",
    "    This function returns the indices for events of interest\n",
    "    \"\"\"\n",
    "    \n",
    "    if EEGdevice == 7:\n",
    "        print('Put code here')\n",
    "    elif EEGdevice == 8:\n",
    "        # Store where the values in trigger are equal to 8 (the audio trigger input channel number)\n",
    "        index_trigger = np.where(EEGdata['STI 014']!=0)\n",
    "        index_trigger = index_trigger[0]\n",
    "\n",
    "        # Number of trials is greater than number of total pulses sent\n",
    "        # 999 when the task ends\n",
    "        move_left_starts = np.where(EEGdata['STI 014'] == 1)[0]\n",
    "        move_right_starts = np.where(EEGdata['STI 014'] == 2)[0]\n",
    "        rest_starts = np.where(EEGdata['STI 014'] == 3)[0]\n",
    "        rest_ends = np.where(EEGdata['STI 014'] == 4)[0]\n",
    "        \n",
    "        # If the number of rest_starts and rest_ends don't match, drop the extra one\n",
    "        # there should, by default, only be 12 starts and 12 ends\n",
    "\n",
    "        if len(rest_ends) > len(rest_starts):\n",
    "            if rest_ends[0] < rest_starts[0]:\n",
    "                rest_ends = rest_ends[1:]\n",
    "        elif len(rest_ends) < len(rest_starts):\n",
    "            if rest_ends[0] > rest_starts[0]:\n",
    "                rest_starts = rest_starts[1:]\n",
    "        \n",
    "        move_starts = np.sort(np.concatenate((move_left_starts,move_right_starts),0))\n",
    "        total_movements = len(move_starts)\n",
    "\n",
    "        # exclude movements that occur without defined baseline (if you need to get rid of first rest)\n",
    "        hasBaseline = list()\n",
    "        for movement in range(0,len(move_starts)):\n",
    "            hasBaseline.append(True in (rest_starts < move_starts[movement]))\n",
    "\n",
    "        np.where(hasBaseline)\n",
    "        move_starts = move_starts[np.where(hasBaseline)]\n",
    "\n",
    "        # exclude the move lefts and move rights that were thrown out in move_starts\n",
    "        for movement in range(0,total_movements):\n",
    "            if hasBaseline[movement] is False:\n",
    "                # for the left movements\n",
    "                idx_left = np.where(move_left_starts == move_starts[movement])\n",
    "                idx_left = np.asarray(idx_left)\n",
    "                idx_right = np.where(move_right_starts == move_starts[movement])\n",
    "                idx_right = np.asarray(idx_right)\n",
    "\n",
    "                if idx_left.size > 0:\n",
    "                    move_left_starts = np.delete(move_left_starts, idx_left)\n",
    "                if idx_right.size > 0:\n",
    "                    move_right_starts = np.delete(move_right_starts, idx_right)\n",
    "                \n",
    "        num_of_trials = len(rest_starts)\n",
    "        num_of_movements = len(move_left_starts) + len(move_right_starts)\n",
    "    \n",
    "    return num_of_trials, num_of_movements, move_starts, hasBaseline, rest_starts, rest_ends\n",
    "\n",
    "def EpochBCIData(EEGdata, fs, move_starts, rest_starts, rest_ends):\n",
    "    \"\"\"\n",
    "    This function epochs the data\n",
    "    \"\"\"\n",
    "    \n",
    "    if EEGdevice == 7:\n",
    "        channels = EEGdata.columns[1:8]\n",
    "    elif EEGdevice == 8:\n",
    "        channels = EEGdata.columns[0:8]\n",
    "\n",
    "    epochs = []\n",
    "    epochs_norm = []\n",
    "\n",
    "    for movement in range(0,len(move_starts)):\n",
    "        # Data for this movement\n",
    "        t_start = move_starts[movement] - np.round(2.00*fs)\n",
    "        t_end = move_starts[movement] - np.round(0.250*fs)\n",
    "\n",
    "        # Baseline\n",
    "        restOfInt = np.max(np.where(rest_starts < move_starts[movement]))\n",
    "        tb_start = rest_starts[restOfInt]\n",
    "        tb_end = rest_ends[restOfInt]\n",
    "\n",
    "        # Note, baseline is filtered before it is used in the live script\n",
    "        baseline_pre_filt = np.asarray(EEGdata.loc[tb_start:tb_end][channels]) * 1.0\n",
    "        baseline_filt = filter_data(baseline_pre_filt.T, sfreq=fs, l_freq=7, h_freq=31, verbose='ERROR')\n",
    "        baseline = baseline_filt.T\n",
    "\n",
    "        # Filter per epoch, like you would in real-time\n",
    "        pre_filt = np.asarray(EEGdata.loc[t_start:t_end][channels]) * 1.0\n",
    "        filtered = filter_data(pre_filt.T, sfreq=fs, l_freq=7, h_freq=31, verbose='ERROR')\n",
    "        epoch = pd.DataFrame(filtered.T)\n",
    "        epoch.columns = EEGdata.columns[0:8]\n",
    "\n",
    "        # Store epoch\n",
    "        tmp = (epoch - np.mean(baseline,0))/np.std(baseline,0)\n",
    "        tmp = pd.DataFrame(tmp)\n",
    "        tmp.columns = EEGdata.columns[0:8]\n",
    "\n",
    "        epochs_norm.append(tmp)\n",
    "        epochs.append(epoch)\n",
    "\n",
    "    return epochs, epochs_norm\n",
    "\n",
    "def OrganizeTrials(behavioralData, hasBaseline):\n",
    "    \"\"\"\n",
    "    Organizes trials\n",
    "    \"\"\"\n",
    "    \n",
    "    # When the target is to the left\n",
    "    trialL = np.where(behavioralData['target_x'] < 1000)\n",
    "    \n",
    "    # When target was to the right\n",
    "    trialR = np.where(behavioralData['target_x'] > 1000)\n",
    "    \n",
    "    # Create a single list that includes which movement is which (L = 0, R = 1)\n",
    "    trial_type = np.zeros([1,len(behavioralData['score'])])\n",
    "    trial_type[0][trialL] = 0\n",
    "    trial_type[0][trialR] = 1\n",
    "\n",
    "    trial_type = np.round(trial_type[0])\n",
    "    \n",
    "    # Remove trials if no baseline\n",
    "    for movement in range(0,len(hasBaseline)):\n",
    "        if hasBaseline[movement] is False:\n",
    "            trial_type = np.delete(trial_type, movement)\n",
    "            \n",
    "    return trial_type\n",
    "\n",
    "def ExtractFeaturesBCI(epochs, num_of_movements, channelsToUse, ds_factor):\n",
    "    \"\"\"\n",
    "    Extract signal features of interest\n",
    "    \"\"\"\n",
    "    \n",
    "    # Get the summed delta power for each trial\n",
    "    alpha_power = dict.fromkeys(channelsToUse)\n",
    "    beta_power = dict.fromkeys(channelsToUse)\n",
    "    ds_f = ds_factor # downsampling factor\n",
    "\n",
    "    for chanOfInt in channelsToUse:\n",
    "        tmp_alpha = list()\n",
    "        tmp_beta = list()\n",
    "\n",
    "        for movement in range(0, num_of_movements):\n",
    "            f, Pxx_den = signal.welch(signal.decimate(epochs[movement][chanOfInt],ds_f), fs/ds_f, scaling='spectrum')\n",
    "            alpha_idx = np.where(np.logical_and(np.round(f) >= 8, np.round(f) <= 12))\n",
    "            tmp_alpha.append(np.sum(Pxx_den[alpha_idx]))\n",
    "\n",
    "            beta_idx = np.where(np.logical_and(np.round(f) >= 13, np.round(f) <= 30))\n",
    "            tmp_beta.append(np.sum(Pxx_den[beta_idx]))\n",
    "\n",
    "        alpha_power[chanOfInt] = tmp_alpha\n",
    "        beta_power[chanOfInt] = tmp_beta\n",
    "    \n",
    "    return alpha_power, beta_power\n",
    "\n",
    "def LoadModel_MI(subjID, run_number=0, session_number=1, adaptationType='CS'):\n",
    "    \"\"\"\n",
    "    This function loads the most recent motor imagery classifier\n",
    "    for this subject by default. Current run minus 1.\n",
    "    \n",
    "    You may also select which number model (from original to most recent)\n",
    "    by using a value from 0 (original) to 4 (most recent)\n",
    "    \"\"\"\n",
    "    runOfInt = run_number\n",
    "    run_number = runOfInt - 1\n",
    "    # Load latest model and its associated data\n",
    "    if runOfInt == 1:\n",
    "        models = glob.glob('Models/' + subjID + '/Session' + str(session_number) + '/' + subjID + '_MI_classifier_*')\n",
    "        models_data_list = glob.glob('Models/' + subjID + '/Session' + str(session_number) + '/' + subjID + '_data_for_MI_classifier_*')\n",
    "    else:\n",
    "        if adaptationType == 'CS' or adaptationType == 'None':\n",
    "            models = glob.glob('Models/' + subjID + '/Session' + str(session_number) + '/' + subjID + '_MI_classifier_*')\n",
    "            models_data_list = glob.glob('Models/' + subjID + '/Session' + str(session_number) + '/' + subjID + '_data_for_MI_classifier_*')\n",
    "        elif adaptationType == 'TL':\n",
    "            models = glob.glob('Models/' + subjID + '/Session' + str(session_number) + '/' + subjID + '_MI_classifier_TL_*')\n",
    "            models_data_list = glob.glob('Models/' + subjID + '/Session' + str(session_number) + '/' + subjID + '_data_for_MI_classifier_TL_*')\n",
    "    \n",
    "    # Throw exception if model number is outside range of existing models\n",
    "    if run_number > len(models):\n",
    "        raise ValueError('Please select a valid model number')\n",
    "    if adaptationType == 'TL':\n",
    "        run_number = run_number -1\n",
    "    model_file = models[run_number] # load the most recent model\n",
    "    print('Selecting model: ' + model_file)\n",
    "    clf = pickle.load(open(model_file, 'rb'))\n",
    "\n",
    "    models_data = models_data_list[run_number] # load the most recent model\n",
    "    MI_data = np.load(models_data)\n",
    "    X_loaded = MI_data['X_not_scaled']\n",
    "    y_loaded = MI_data['y']\n",
    "    \n",
    "    return clf, X_loaded, y_loaded\n",
    "\n",
    "def LoadGeneralModel_MI(subjID, isSVM):\n",
    "    \"\"\"\n",
    "    This function loads the most recent motor imagery classifier\n",
    "    for this subject by default. Current run minus 1.\n",
    "    \n",
    "    You may also select which number model (from original to most recent)\n",
    "    by using a value from 0 (original) to 4 (most recent)\n",
    "    \"\"\"\n",
    "    \n",
    "    if isSVM is True:\n",
    "        model_file = 'Models/GeneralModels/excluding_' + subjID + '/General_Model_MI_excluding_' + subjID + '_SVM.sav' # load the most recent model\n",
    "        models_data = 'Models/GeneralModels/excluding_' + subjID + '/Data_for_General_MI_classifier_excluding_' + subjID + '_SVM.npz' # load the most recent model\n",
    "    else:\n",
    "        model_file = 'Models/GeneralModels/excluding_' + subjID + '/General_Model_MI_excluding_' + subjID + '.sav' # load the most recent model\n",
    "        models_data = 'Models/GeneralModels/excluding_' + subjID + '/Data_for_General_MI_classifier_excluding_' + subjID + '.npz' # load the most recent model\n",
    "    \n",
    "    print('Selecting model: ' + model_file)\n",
    "    clf = pickle.load(open(model_file, 'rb'))\n",
    "    \n",
    "    MI_data = np.load(models_data)\n",
    "    X_loaded = MI_data['X_not_scaled']\n",
    "    y_loaded = MI_data['y']\n",
    "    \n",
    "    return clf, X_loaded, y_loaded\n",
    "\n",
    "def GetBehavioralTL(runOfInt):\n",
    "    # When the target is to the left\n",
    "    trialL = np.where(behavioralData_all[runOfInt]['target_x'] < 1000)\n",
    "    movementL = np.where(behavioralData_all[runOfInt]['direction_moved'] == 'left')\n",
    "\n",
    "    # When target was to the right\n",
    "    trialR = np.where(behavioralData_all[runOfInt]['target_x'] > 1000)\n",
    "    movementR = np.where(behavioralData_all[runOfInt]['direction_moved'] == 'right')\n",
    "\n",
    "    # Create a single list that includes which movement is which (L = 0, R = 1)\n",
    "    trial_type = np.zeros([1,len(behavioralData_all[runOfInt]['score'])])\n",
    "    trial_type[0][trialL] = 0\n",
    "    trial_type[0][trialR] = 1\n",
    "    trial_type = np.round(trial_type[0])\n",
    "\n",
    "    direction_moved = np.zeros([1,len(behavioralData_all[runOfInt]['score'])])\n",
    "    direction_moved[0][movementL] = 0\n",
    "    direction_moved[0][movementR] = 1\n",
    "    direction_moved = np.round(direction_moved[0])\n",
    "\n",
    "    # Remove trials if no baseline\n",
    "    for movement in range(0,len(hasBaseline_all[runOfInt])):\n",
    "        if hasBaseline_all[runOfInt][movement] is False:\n",
    "            trial_type = np.delete(trial_type, movement)\n",
    "            direction_moved = np.delete(direction_moved, movement)\n",
    "    \n",
    "    actual = direction_moved\n",
    "    TL = trial_type\n",
    "    return actual, TL"
   ]
  },
  {
   "cell_type": "markdown",
   "metadata": {},
   "source": [
    "# PART 1: Load all the data\n",
    "Load in all the models and the associated data"
   ]
  },
  {
   "cell_type": "markdown",
   "metadata": {},
   "source": [
    "Load Subjects"
   ]
  },
  {
   "cell_type": "code",
   "execution_count": 24,
   "metadata": {},
   "outputs": [
    {
     "data": {
      "text/html": [
       "<div>\n",
       "<style scoped>\n",
       "    .dataframe tbody tr th:only-of-type {\n",
       "        vertical-align: middle;\n",
       "    }\n",
       "\n",
       "    .dataframe tbody tr th {\n",
       "        vertical-align: top;\n",
       "    }\n",
       "\n",
       "    .dataframe thead th {\n",
       "        text-align: right;\n",
       "    }\n",
       "</style>\n",
       "<table border=\"1\" class=\"dataframe\">\n",
       "  <thead>\n",
       "    <tr style=\"text-align: right;\">\n",
       "      <th></th>\n",
       "      <th>Subject ID</th>\n",
       "      <th>Group Number</th>\n",
       "      <th>Moving MI</th>\n",
       "      <th>Session 1</th>\n",
       "      <th>Session 2</th>\n",
       "      <th>Session 3</th>\n",
       "      <th>Handedness</th>\n",
       "      <th>Sex</th>\n",
       "      <th>Age</th>\n",
       "      <th>History of Neurological Disorders</th>\n",
       "      <th>Cap Size</th>\n",
       "      <th>useBehavioral</th>\n",
       "    </tr>\n",
       "  </thead>\n",
       "  <tbody>\n",
       "    <tr>\n",
       "      <th>0</th>\n",
       "      <td>b12a46</td>\n",
       "      <td>1</td>\n",
       "      <td>No</td>\n",
       "      <td>0</td>\n",
       "      <td>8</td>\n",
       "      <td>15</td>\n",
       "      <td>R</td>\n",
       "      <td>M</td>\n",
       "      <td>21</td>\n",
       "      <td>No</td>\n",
       "      <td>M</td>\n",
       "      <td>No</td>\n",
       "    </tr>\n",
       "    <tr>\n",
       "      <th>1</th>\n",
       "      <td>41d8ff</td>\n",
       "      <td>1</td>\n",
       "      <td>No</td>\n",
       "      <td>0</td>\n",
       "      <td>5</td>\n",
       "      <td>12</td>\n",
       "      <td>R</td>\n",
       "      <td>F</td>\n",
       "      <td>21</td>\n",
       "      <td>No</td>\n",
       "      <td>M</td>\n",
       "      <td>No</td>\n",
       "    </tr>\n",
       "    <tr>\n",
       "      <th>2</th>\n",
       "      <td>1e8b34</td>\n",
       "      <td>1</td>\n",
       "      <td>No</td>\n",
       "      <td>0</td>\n",
       "      <td>3</td>\n",
       "      <td>14</td>\n",
       "      <td>R</td>\n",
       "      <td>M</td>\n",
       "      <td>29</td>\n",
       "      <td>No</td>\n",
       "      <td>L</td>\n",
       "      <td>No</td>\n",
       "    </tr>\n",
       "    <tr>\n",
       "      <th>3</th>\n",
       "      <td>ad11cf</td>\n",
       "      <td>1</td>\n",
       "      <td>No</td>\n",
       "      <td>0</td>\n",
       "      <td>7</td>\n",
       "      <td>12</td>\n",
       "      <td>R</td>\n",
       "      <td>F</td>\n",
       "      <td>20</td>\n",
       "      <td>Yes</td>\n",
       "      <td>M</td>\n",
       "      <td>No</td>\n",
       "    </tr>\n",
       "    <tr>\n",
       "      <th>4</th>\n",
       "      <td>b7ff16</td>\n",
       "      <td>2</td>\n",
       "      <td>No</td>\n",
       "      <td>0</td>\n",
       "      <td>19</td>\n",
       "      <td>21</td>\n",
       "      <td>R</td>\n",
       "      <td>F</td>\n",
       "      <td>20</td>\n",
       "      <td>No</td>\n",
       "      <td>M</td>\n",
       "      <td>No</td>\n",
       "    </tr>\n",
       "  </tbody>\n",
       "</table>\n",
       "</div>"
      ],
      "text/plain": [
       "  Subject ID  Group Number Moving MI  Session 1  Session 2  Session 3  \\\n",
       "0     b12a46             1        No          0          8         15   \n",
       "1     41d8ff             1        No          0          5         12   \n",
       "2     1e8b34             1        No          0          3         14   \n",
       "3     ad11cf             1        No          0          7         12   \n",
       "4     b7ff16             2        No          0         19         21   \n",
       "\n",
       "  Handedness Sex  Age History of Neurological Disorders Cap Size useBehavioral  \n",
       "0          R   M   21                                No        M            No  \n",
       "1          R   F   21                                No        M            No  \n",
       "2          R   M   29                                No        L            No  \n",
       "3          R   F   20                               Yes        M            No  \n",
       "4          R   F   20                                No        M            No  "
      ]
     },
     "execution_count": 24,
     "metadata": {},
     "output_type": "execute_result"
    }
   ],
   "source": [
    "demographics_all = pd.read_csv('subject_demographics.csv')\n",
    "generalSubjects = list(demographics_all['Subject ID'])\n",
    "subject_group_all = np.asarray(demographics_all['Group Number'])\n",
    "useBehavioral_all = np.asarray(demographics_all['useBehavioral'])\n",
    "demographics_all.head()"
   ]
  },
  {
   "cell_type": "markdown",
   "metadata": {},
   "source": [
    "# REMOVE THE REDEFINITION BELOW\n",
    "Just have now to avoid running on subjects we don't have stuff on yet"
   ]
  },
  {
   "cell_type": "code",
   "execution_count": 36,
   "metadata": {},
   "outputs": [],
   "source": [
    "# temporarily make subjects just a few group 1 subjects\n",
    "generalSubjects = ['a1e6c0','e2cbc4']\n",
    "subject_group_all = [1,1]\n",
    "useBehavioral = ['Yes','Yes']"
   ]
  },
  {
   "cell_type": "markdown",
   "metadata": {},
   "source": [
    "Get scores"
   ]
  },
  {
   "cell_type": "code",
   "execution_count": 32,
   "metadata": {},
   "outputs": [
    {
     "name": "stdout",
     "output_type": "stream",
     "text": [
      "Selecting BCI EEG file: SaveData/a1e6c0/Session1\\20190319133926_a1e6c0_BCI.easy\n",
      "Selecting BCI behavioral file: SaveData/a1e6c0/Session1\\BCI_a1e6c0_R1.csv\n",
      "Skipping N/A\n"
     ]
    },
    {
     "name": "stderr",
     "output_type": "stream",
     "text": [
      "C:\\Users\\nile\\Anaconda3\\envs\\eeg\\lib\\site-packages\\scipy\\signal\\_arraytools.py:45: FutureWarning: Using a non-tuple sequence for multidimensional indexing is deprecated; use `arr[tuple(seq)]` instead of `arr[seq]`. In the future this will be interpreted as an array index, `arr[np.array(seq)]`, which will result either in an error or a different result.\n",
      "  b = a[a_slice]\n",
      "C:\\Users\\nile\\Anaconda3\\envs\\eeg\\lib\\site-packages\\scipy\\signal\\signaltools.py:3463: FutureWarning: Using a non-tuple sequence for multidimensional indexing is deprecated; use `arr[tuple(seq)]` instead of `arr[seq]`. In the future this will be interpreted as an array index, `arr[np.array(seq)]`, which will result either in an error or a different result.\n",
      "  return y[sl]\n"
     ]
    },
    {
     "name": "stdout",
     "output_type": "stream",
     "text": [
      "Selecting model: Models/a1e6c0/Session1\\a1e6c0_MI_classifier_2019-03-19-13-38-32.sav\n",
      "Selecting model: Models/GeneralModels/excluding_a1e6c0/General_Model_MI_excluding_a1e6c0.sav\n",
      "Selecting BCI EEG file: SaveData/a1e6c0/Session1\\20190319134508_a1e6c0_BCI.easy\n",
      "Selecting BCI behavioral file: SaveData/a1e6c0/Session1\\BCI_a1e6c0_R2.csv\n",
      "Skipping N/A\n"
     ]
    },
    {
     "name": "stderr",
     "output_type": "stream",
     "text": [
      "C:\\Users\\nile\\Anaconda3\\envs\\eeg\\lib\\site-packages\\scipy\\signal\\_arraytools.py:45: FutureWarning: Using a non-tuple sequence for multidimensional indexing is deprecated; use `arr[tuple(seq)]` instead of `arr[seq]`. In the future this will be interpreted as an array index, `arr[np.array(seq)]`, which will result either in an error or a different result.\n",
      "  b = a[a_slice]\n",
      "C:\\Users\\nile\\Anaconda3\\envs\\eeg\\lib\\site-packages\\scipy\\signal\\signaltools.py:3463: FutureWarning: Using a non-tuple sequence for multidimensional indexing is deprecated; use `arr[tuple(seq)]` instead of `arr[seq]`. In the future this will be interpreted as an array index, `arr[np.array(seq)]`, which will result either in an error or a different result.\n",
      "  return y[sl]\n"
     ]
    },
    {
     "name": "stdout",
     "output_type": "stream",
     "text": [
      "Selecting model: Models/a1e6c0/Session1\\a1e6c0_MI_classifier_2019-03-19-13-38-32.sav\n",
      "Selecting model: Models/GeneralModels/excluding_a1e6c0/General_Model_MI_excluding_a1e6c0.sav\n",
      "Selecting BCI EEG file: SaveData/a1e6c0/Session1\\20190319135043_a1e6c0_BCI.easy\n",
      "Selecting BCI behavioral file: SaveData/a1e6c0/Session1\\BCI_a1e6c0_R3.csv\n",
      "Skipping N/A\n"
     ]
    },
    {
     "name": "stderr",
     "output_type": "stream",
     "text": [
      "C:\\Users\\nile\\Anaconda3\\envs\\eeg\\lib\\site-packages\\scipy\\signal\\_arraytools.py:45: FutureWarning: Using a non-tuple sequence for multidimensional indexing is deprecated; use `arr[tuple(seq)]` instead of `arr[seq]`. In the future this will be interpreted as an array index, `arr[np.array(seq)]`, which will result either in an error or a different result.\n",
      "  b = a[a_slice]\n",
      "C:\\Users\\nile\\Anaconda3\\envs\\eeg\\lib\\site-packages\\scipy\\signal\\signaltools.py:3463: FutureWarning: Using a non-tuple sequence for multidimensional indexing is deprecated; use `arr[tuple(seq)]` instead of `arr[seq]`. In the future this will be interpreted as an array index, `arr[np.array(seq)]`, which will result either in an error or a different result.\n",
      "  return y[sl]\n"
     ]
    },
    {
     "name": "stdout",
     "output_type": "stream",
     "text": [
      "Selecting model: Models/a1e6c0/Session1\\a1e6c0_MI_classifier_2019-03-19-13-38-32.sav\n",
      "Selecting model: Models/GeneralModels/excluding_a1e6c0/General_Model_MI_excluding_a1e6c0.sav\n",
      "Selecting BCI EEG file: SaveData/a1e6c0/Session1\\20190319135618_a1e6c0_BCI.easy\n",
      "Selecting BCI behavioral file: SaveData/a1e6c0/Session1\\BCI_a1e6c0_R4.csv\n",
      "Skipping N/A\n"
     ]
    },
    {
     "name": "stderr",
     "output_type": "stream",
     "text": [
      "C:\\Users\\nile\\Anaconda3\\envs\\eeg\\lib\\site-packages\\scipy\\signal\\_arraytools.py:45: FutureWarning: Using a non-tuple sequence for multidimensional indexing is deprecated; use `arr[tuple(seq)]` instead of `arr[seq]`. In the future this will be interpreted as an array index, `arr[np.array(seq)]`, which will result either in an error or a different result.\n",
      "  b = a[a_slice]\n",
      "C:\\Users\\nile\\Anaconda3\\envs\\eeg\\lib\\site-packages\\scipy\\signal\\signaltools.py:3463: FutureWarning: Using a non-tuple sequence for multidimensional indexing is deprecated; use `arr[tuple(seq)]` instead of `arr[seq]`. In the future this will be interpreted as an array index, `arr[np.array(seq)]`, which will result either in an error or a different result.\n",
      "  return y[sl]\n"
     ]
    },
    {
     "name": "stdout",
     "output_type": "stream",
     "text": [
      "Selecting model: Models/a1e6c0/Session1\\a1e6c0_MI_classifier_2019-03-19-13-38-32.sav\n",
      "Selecting model: Models/GeneralModels/excluding_a1e6c0/General_Model_MI_excluding_a1e6c0.sav\n",
      "Selecting BCI EEG file: SaveData/a1e6c0/Session1\\20190319140149_a1e6c0_BCI.easy\n",
      "Selecting BCI behavioral file: SaveData/a1e6c0/Session1\\BCI_a1e6c0_R5.csv\n",
      "Skipping N/A\n"
     ]
    },
    {
     "name": "stderr",
     "output_type": "stream",
     "text": [
      "C:\\Users\\nile\\Anaconda3\\envs\\eeg\\lib\\site-packages\\scipy\\signal\\_arraytools.py:45: FutureWarning: Using a non-tuple sequence for multidimensional indexing is deprecated; use `arr[tuple(seq)]` instead of `arr[seq]`. In the future this will be interpreted as an array index, `arr[np.array(seq)]`, which will result either in an error or a different result.\n",
      "  b = a[a_slice]\n",
      "C:\\Users\\nile\\Anaconda3\\envs\\eeg\\lib\\site-packages\\scipy\\signal\\signaltools.py:3463: FutureWarning: Using a non-tuple sequence for multidimensional indexing is deprecated; use `arr[tuple(seq)]` instead of `arr[seq]`. In the future this will be interpreted as an array index, `arr[np.array(seq)]`, which will result either in an error or a different result.\n",
      "  return y[sl]\n"
     ]
    },
    {
     "name": "stdout",
     "output_type": "stream",
     "text": [
      "Selecting model: Models/a1e6c0/Session1\\a1e6c0_MI_classifier_2019-03-19-13-38-32.sav\n",
      "Selecting model: Models/GeneralModels/excluding_a1e6c0/General_Model_MI_excluding_a1e6c0.sav\n",
      "----------------------------------------------------\n",
      "Done storing values for a1e6c0\n",
      "----------------------------------------------------\n",
      "Selecting BCI EEG file: SaveData/e2cbc4/Session1\\20190301133119_e2cbc4_BCI.easy\n",
      "Selecting BCI behavioral file: SaveData/e2cbc4/Session1\\BCI_e2cbc4_R1.csv\n",
      "Skipping N/A\n"
     ]
    },
    {
     "name": "stderr",
     "output_type": "stream",
     "text": [
      "C:\\Users\\nile\\Anaconda3\\envs\\eeg\\lib\\site-packages\\scipy\\signal\\_arraytools.py:45: FutureWarning: Using a non-tuple sequence for multidimensional indexing is deprecated; use `arr[tuple(seq)]` instead of `arr[seq]`. In the future this will be interpreted as an array index, `arr[np.array(seq)]`, which will result either in an error or a different result.\n",
      "  b = a[a_slice]\n",
      "C:\\Users\\nile\\Anaconda3\\envs\\eeg\\lib\\site-packages\\scipy\\signal\\signaltools.py:3463: FutureWarning: Using a non-tuple sequence for multidimensional indexing is deprecated; use `arr[tuple(seq)]` instead of `arr[seq]`. In the future this will be interpreted as an array index, `arr[np.array(seq)]`, which will result either in an error or a different result.\n",
      "  return y[sl]\n"
     ]
    },
    {
     "name": "stdout",
     "output_type": "stream",
     "text": [
      "Selecting model: Models/e2cbc4/Session1\\e2cbc4_MI_classifier_2019-03-01-13-30-52.sav\n",
      "Selecting model: Models/GeneralModels/excluding_e2cbc4/General_Model_MI_excluding_e2cbc4.sav\n",
      "Selecting BCI EEG file: SaveData/e2cbc4/Session1\\20190301133623_e2cbc4_BCI.easy\n",
      "Selecting BCI behavioral file: SaveData/e2cbc4/Session1\\BCI_e2cbc4_R2.csv\n",
      "Skipping N/A\n"
     ]
    },
    {
     "name": "stderr",
     "output_type": "stream",
     "text": [
      "C:\\Users\\nile\\Anaconda3\\envs\\eeg\\lib\\site-packages\\scipy\\signal\\_arraytools.py:45: FutureWarning: Using a non-tuple sequence for multidimensional indexing is deprecated; use `arr[tuple(seq)]` instead of `arr[seq]`. In the future this will be interpreted as an array index, `arr[np.array(seq)]`, which will result either in an error or a different result.\n",
      "  b = a[a_slice]\n",
      "C:\\Users\\nile\\Anaconda3\\envs\\eeg\\lib\\site-packages\\scipy\\signal\\signaltools.py:3463: FutureWarning: Using a non-tuple sequence for multidimensional indexing is deprecated; use `arr[tuple(seq)]` instead of `arr[seq]`. In the future this will be interpreted as an array index, `arr[np.array(seq)]`, which will result either in an error or a different result.\n",
      "  return y[sl]\n"
     ]
    },
    {
     "name": "stdout",
     "output_type": "stream",
     "text": [
      "Selecting model: Models/e2cbc4/Session1\\e2cbc4_MI_classifier_2019-03-01-13-30-52.sav\n",
      "Selecting model: Models/GeneralModels/excluding_e2cbc4/General_Model_MI_excluding_e2cbc4.sav\n",
      "Selecting BCI EEG file: SaveData/e2cbc4/Session1\\20190301134108_e2cbc4_BCI.easy\n",
      "Selecting BCI behavioral file: SaveData/e2cbc4/Session1\\BCI_e2cbc4_R3.csv\n",
      "Skipping N/A\n"
     ]
    },
    {
     "name": "stderr",
     "output_type": "stream",
     "text": [
      "C:\\Users\\nile\\Anaconda3\\envs\\eeg\\lib\\site-packages\\scipy\\signal\\_arraytools.py:45: FutureWarning: Using a non-tuple sequence for multidimensional indexing is deprecated; use `arr[tuple(seq)]` instead of `arr[seq]`. In the future this will be interpreted as an array index, `arr[np.array(seq)]`, which will result either in an error or a different result.\n",
      "  b = a[a_slice]\n",
      "C:\\Users\\nile\\Anaconda3\\envs\\eeg\\lib\\site-packages\\scipy\\signal\\signaltools.py:3463: FutureWarning: Using a non-tuple sequence for multidimensional indexing is deprecated; use `arr[tuple(seq)]` instead of `arr[seq]`. In the future this will be interpreted as an array index, `arr[np.array(seq)]`, which will result either in an error or a different result.\n",
      "  return y[sl]\n"
     ]
    },
    {
     "name": "stdout",
     "output_type": "stream",
     "text": [
      "Selecting model: Models/e2cbc4/Session1\\e2cbc4_MI_classifier_2019-03-01-13-30-52.sav\n",
      "Selecting model: Models/GeneralModels/excluding_e2cbc4/General_Model_MI_excluding_e2cbc4.sav\n",
      "Selecting BCI EEG file: SaveData/e2cbc4/Session1\\20190301134618_e2cbc4_BCI.easy\n",
      "Selecting BCI behavioral file: SaveData/e2cbc4/Session1\\BCI_e2cbc4_R4.csv\n",
      "Skipping N/A\n"
     ]
    },
    {
     "name": "stderr",
     "output_type": "stream",
     "text": [
      "C:\\Users\\nile\\Anaconda3\\envs\\eeg\\lib\\site-packages\\scipy\\signal\\_arraytools.py:45: FutureWarning: Using a non-tuple sequence for multidimensional indexing is deprecated; use `arr[tuple(seq)]` instead of `arr[seq]`. In the future this will be interpreted as an array index, `arr[np.array(seq)]`, which will result either in an error or a different result.\n",
      "  b = a[a_slice]\n",
      "C:\\Users\\nile\\Anaconda3\\envs\\eeg\\lib\\site-packages\\scipy\\signal\\signaltools.py:3463: FutureWarning: Using a non-tuple sequence for multidimensional indexing is deprecated; use `arr[tuple(seq)]` instead of `arr[seq]`. In the future this will be interpreted as an array index, `arr[np.array(seq)]`, which will result either in an error or a different result.\n",
      "  return y[sl]\n"
     ]
    },
    {
     "name": "stdout",
     "output_type": "stream",
     "text": [
      "Selecting model: Models/e2cbc4/Session1\\e2cbc4_MI_classifier_2019-03-01-13-30-52.sav\n",
      "Selecting model: Models/GeneralModels/excluding_e2cbc4/General_Model_MI_excluding_e2cbc4.sav\n",
      "Selecting BCI EEG file: SaveData/e2cbc4/Session1\\20190301135102_e2cbc4_BCI.easy\n",
      "Selecting BCI behavioral file: SaveData/e2cbc4/Session1\\BCI_e2cbc4_R5.csv\n",
      "Skipping N/A\n"
     ]
    },
    {
     "name": "stderr",
     "output_type": "stream",
     "text": [
      "C:\\Users\\nile\\Anaconda3\\envs\\eeg\\lib\\site-packages\\scipy\\signal\\_arraytools.py:45: FutureWarning: Using a non-tuple sequence for multidimensional indexing is deprecated; use `arr[tuple(seq)]` instead of `arr[seq]`. In the future this will be interpreted as an array index, `arr[np.array(seq)]`, which will result either in an error or a different result.\n",
      "  b = a[a_slice]\n",
      "C:\\Users\\nile\\Anaconda3\\envs\\eeg\\lib\\site-packages\\scipy\\signal\\signaltools.py:3463: FutureWarning: Using a non-tuple sequence for multidimensional indexing is deprecated; use `arr[tuple(seq)]` instead of `arr[seq]`. In the future this will be interpreted as an array index, `arr[np.array(seq)]`, which will result either in an error or a different result.\n",
      "  return y[sl]\n"
     ]
    },
    {
     "name": "stdout",
     "output_type": "stream",
     "text": [
      "Selecting model: Models/e2cbc4/Session1\\e2cbc4_MI_classifier_2019-03-01-13-30-52.sav\n",
      "Selecting model: Models/GeneralModels/excluding_e2cbc4/General_Model_MI_excluding_e2cbc4.sav\n",
      "----------------------------------------------------\n",
      "Done storing values for e2cbc4\n",
      "----------------------------------------------------\n"
     ]
    }
   ],
   "source": [
    "orig_scores_all = dict.fromkeys(generalSubjects,[])\n",
    "general_scores_all = dict.fromkeys(generalSubjects,[])\n",
    "clf_orig_all = dict.fromkeys(generalSubjects,[])\n",
    "clf_general_all = dict.fromkeys(generalSubjects,[])\n",
    "behavioralData_all = dict.fromkeys(generalSubjects,[])\n",
    "hasBaseline_all = dict.fromkeys(generalSubjects,[])\n",
    "EEGdata_all = dict.fromkeys(generalSubjects,[])\n",
    "subject_count = 0\n",
    "\n",
    "for subjID in generalSubjects:\n",
    "    \n",
    "    BCI_files = glob.glob('SaveData/' + subjID + '/Session1/*' + subjID + '_BCI.easy')\n",
    "    num_of_runs = len(BCI_files)\n",
    "\n",
    "    subject_group = subject_group_all[subject_count]\n",
    "    counter = 1 # keeps track of all runs (start from 1->15)\n",
    "    \n",
    "    orig_scores = list()\n",
    "    general_scores = list()\n",
    "    actual_scores = list()\n",
    "    X_orig_all = dict()\n",
    "    y_orig_all = dict()\n",
    "    X_general_all = dict()\n",
    "    y_general_all = dict()\n",
    "    clf_orig_one_subject = dict()\n",
    "    clf_general_one_subject = dict()\n",
    "    behavioralData_one_subject = dict()\n",
    "    hasBaseline_one_subject = dict()\n",
    "    EEGdata_one_subject = dict()\n",
    "    \n",
    "    for runOfInt in range(1, num_of_runs+1):\n",
    "        # Find BCI file names\n",
    "        filename_eeg, filename_behavioral = FindBCIFiles(subjID, runOfInt, session_number)\n",
    "\n",
    "        # Load EEG data\n",
    "        EEGdata, fs, fs_accel = LoadEEGData(filename_eeg, EEGdevice)\n",
    "        EEGdata_all[counter] = EEGdata\n",
    "\n",
    "        # Load behavioral data\n",
    "        behavioralData = LoadBehavioralDataBCI(filename_behavioral)\n",
    "        behavioralData_all[counter] = behavioralData\n",
    "\n",
    "        # Sync up trigger pulses\n",
    "        num_of_trials, num_of_movements, move_starts, hasBaseline, rest_starts, rest_ends = SyncTriggerPulsesBCI(EEGdata, EEGdevice, fs, behavioralData)\n",
    "        hasBaseline_all[counter] = hasBaseline\n",
    "\n",
    "        # Epoch the data\n",
    "        epochs, epochs_norm = EpochBCIData(EEGdata, fs, move_starts, rest_starts, rest_ends)\n",
    "\n",
    "        # Organize trial types\n",
    "        trial_type = OrganizeTrials(behavioralData, hasBaseline)\n",
    "\n",
    "        # Get signal features\n",
    "        alpha_power, beta_power = ExtractFeaturesBCI(epochs_norm, num_of_movements, ['C3','C4'], 1)\n",
    "        motor_features = [alpha_power['C3'], beta_power['C3'], alpha_power['C4'], beta_power['C4']]\n",
    "        motor_features = np.transpose(motor_features)\n",
    "\n",
    "        # Load a specific model (0 loads initial model trained on screening)\n",
    "        # If using run_number, it will load the model created just prior to\n",
    "        # this BCI run (simulated or created during the session)\n",
    "        if subject_group == 1:\n",
    "            clf_orig, X_loaded, y_loaded = LoadModel_MI(subjID, 1, session_number, 'None')\n",
    "        elif subject_group == 2:\n",
    "            clf_orig, X_loaded, y_loaded = LoadModel_MI(subjID, runOfInt, session_number, 'CS')\n",
    "\n",
    "        # Get the original score\n",
    "        X = (motor_features - np.mean(X_loaded,0))/np.std(X_loaded,0)\n",
    "        y = trial_type\n",
    "        orig_score = clf_orig.score(X, y)*100\n",
    "        X_orig_all[counter] = X\n",
    "        y_orig_all[counter] = y\n",
    "\n",
    "        # Get the simulated score (using the general model)\n",
    "        clf_general, X_loaded, y_loaded = LoadGeneralModel_MI(subjID, isSVM)\n",
    "\n",
    "        X = (motor_features - np.mean(X_loaded,0))/np.std(X_loaded,0)\n",
    "        y = trial_type\n",
    "        general_score = clf_general.score(X, y)*100\n",
    "        X_general_all[counter] = X\n",
    "        y_general_all[counter] = y\n",
    "\n",
    "        # Store values\n",
    "        orig_scores.append(orig_score)\n",
    "        general_scores.append(general_score)\n",
    "        clf_orig_one_subject[counter] = clf_orig\n",
    "        clf_general_one_subject[counter] = clf_general\n",
    "        \n",
    "    orig_scores_all[subjID] = orig_scores\n",
    "    general_scores_all[subjID] = general_scores\n",
    "    clf_orig_all[subjID] = clf_orig_one_subject\n",
    "    clf_general_all[subjID] = clf_general_one_subject\n",
    "    behavioralData_all[subjID] = behavioralData_one_subject\n",
    "    hasBaseline_all[subjID] = hasBaseline_one_subject\n",
    "    EEGdata_all[subjID] = EEGdata_one_subject\n",
    "    \n",
    "    print('----------------------------------------------------')\n",
    "    print('Done storing values for ' + subjID)\n",
    "    print('----------------------------------------------------')\n",
    "    subject_count += 1"
   ]
  },
  {
   "cell_type": "markdown",
   "metadata": {},
   "source": [
    "## Organize the data"
   ]
  },
  {
   "cell_type": "markdown",
   "metadata": {},
   "source": [
    "Store subject performance in one easy variable, where subjects with data collected in the first phase (where there was a bug in the experimental code) use simulated performance, and subjects with data collected in the second phase use actual performance."
   ]
  },
  {
   "cell_type": "code",
   "execution_count": 40,
   "metadata": {},
   "outputs": [],
   "source": [
    "subject_count = 0\n",
    "actual_scores = dict()\n",
    "\n",
    "for subjID in generalSubjects:\n",
    "    subject_count = generalSubjects.index(subjID)\n",
    "    actual_scores_tmp = list()\n",
    "    \n",
    "    # Use true behavioral data for collection 2 subjects\n",
    "    # Use 1,5+1 for when useBehavioral is True because the actual run numbers save\n",
    "    # Use 0, 5 for when useBehavioral is False because runs are just saved through append\n",
    "    if useBehavioral[subject_count] == True:\n",
    "        for runOfInt in range(1,5+1):\n",
    "            actual, TL = GetBehavioralTL(runOfInt, behavioralData_all[subjID], hasBaseline_all[subjID])\n",
    "            correct_all = len(np.where(TL==actual)[0])/len(TL)*100\n",
    "            actual_scores_tmp.append(correct_all)\n",
    "        actual_scores[subjID] = actual_scores_tmp\n",
    "    else:\n",
    "        # Use simulated behavior for collection 1 subjects\n",
    "        for runOfInt in range(0,5):\n",
    "            actual_scores_tmp.append(orig_scores_all[subjID][runOfInt])\n",
    "        actual_scores[subjID] = actual_scores_tmp"
   ]
  },
  {
   "cell_type": "markdown",
   "metadata": {},
   "source": [
    "Store all relevant data for ANOVA in convenient pandas dataframe"
   ]
  },
  {
   "cell_type": "code",
   "execution_count": 41,
   "metadata": {},
   "outputs": [],
   "source": [
    "all_scores = pd.DataFrame()"
   ]
  },
  {
   "cell_type": "code",
   "execution_count": 45,
   "metadata": {},
   "outputs": [],
   "source": [
    "# Split by group 1 or group 2\n",
    "actual_scores_no_adapt_flat = list()\n",
    "actual_scores_co_adapt_flat = list()\n",
    "general_scores_flat = list()\n",
    "\n",
    "for i in range(0,len(actual_scores)):\n",
    "    for j in range(0,len(actual_scores[generalSubjects[i]])):\n",
    "        if subject_group_all[i] == 1:\n",
    "            actual_scores_no_adapt_flat.append(actual_scores[generalSubjects[i]][j])\n",
    "        else:\n",
    "            actual_scores_co_adapt_flat.append(actual_scores[generalSubjects[i]][j])\n",
    "        general_scores_flat.append(general_scores_all[generalSubjects[i]][j])"
   ]
  },
  {
   "cell_type": "code",
   "execution_count": 46,
   "metadata": {},
   "outputs": [
    {
     "data": {
      "text/plain": [
       "10"
      ]
     },
     "execution_count": 46,
     "metadata": {},
     "output_type": "execute_result"
    }
   ],
   "source": [
    "len(actual_scores_no_adapt_flat)"
   ]
  },
  {
   "cell_type": "code",
   "execution_count": 48,
   "metadata": {},
   "outputs": [
    {
     "data": {
      "text/plain": [
       "10"
      ]
     },
     "execution_count": 48,
     "metadata": {},
     "output_type": "execute_result"
    }
   ],
   "source": [
    "len(general_scores_flat)"
   ]
  },
  {
   "cell_type": "code",
   "execution_count": 49,
   "metadata": {},
   "outputs": [],
   "source": [
    "all_scores['original'] = pd.Series(actual_scores_no_adapt_flat)\n",
    "all_scores['general model'] = pd.Series(general_scores_flat)"
   ]
  },
  {
   "cell_type": "code",
   "execution_count": 50,
   "metadata": {},
   "outputs": [
    {
     "data": {
      "text/html": [
       "<div>\n",
       "<style scoped>\n",
       "    .dataframe tbody tr th:only-of-type {\n",
       "        vertical-align: middle;\n",
       "    }\n",
       "\n",
       "    .dataframe tbody tr th {\n",
       "        vertical-align: top;\n",
       "    }\n",
       "\n",
       "    .dataframe thead th {\n",
       "        text-align: right;\n",
       "    }\n",
       "</style>\n",
       "<table border=\"1\" class=\"dataframe\">\n",
       "  <thead>\n",
       "    <tr style=\"text-align: right;\">\n",
       "      <th></th>\n",
       "      <th>original</th>\n",
       "      <th>general model</th>\n",
       "    </tr>\n",
       "  </thead>\n",
       "  <tbody>\n",
       "    <tr>\n",
       "      <th>0</th>\n",
       "      <td>46.017699</td>\n",
       "      <td>52.212389</td>\n",
       "    </tr>\n",
       "    <tr>\n",
       "      <th>1</th>\n",
       "      <td>64.761905</td>\n",
       "      <td>50.476190</td>\n",
       "    </tr>\n",
       "    <tr>\n",
       "      <th>2</th>\n",
       "      <td>43.925234</td>\n",
       "      <td>47.663551</td>\n",
       "    </tr>\n",
       "    <tr>\n",
       "      <th>3</th>\n",
       "      <td>56.074766</td>\n",
       "      <td>50.467290</td>\n",
       "    </tr>\n",
       "    <tr>\n",
       "      <th>4</th>\n",
       "      <td>50.000000</td>\n",
       "      <td>46.153846</td>\n",
       "    </tr>\n",
       "  </tbody>\n",
       "</table>\n",
       "</div>"
      ],
      "text/plain": [
       "    original  general model\n",
       "0  46.017699      52.212389\n",
       "1  64.761905      50.476190\n",
       "2  43.925234      47.663551\n",
       "3  56.074766      50.467290\n",
       "4  50.000000      46.153846"
      ]
     },
     "execution_count": 50,
     "metadata": {},
     "output_type": "execute_result"
    }
   ],
   "source": [
    "all_scores.head()"
   ]
  },
  {
   "cell_type": "markdown",
   "metadata": {},
   "source": [
    "## Save the data\n",
    "Save the organized data for easy access later"
   ]
  },
  {
   "cell_type": "code",
   "execution_count": 55,
   "metadata": {},
   "outputs": [],
   "source": [
    "time_to_save = datetime.datetime.now().isoformat()\n",
    "time_to_save = time_to_save.replace('T','-')\n",
    "time_to_save = time_to_save.replace(':','-')\n",
    "    \n",
    "filepath = time_to_save[:19] + '_all_scores_general_model.sav'\n",
    "np.savez_compressed(filepath, subjID_all=generalSubjects, all_scores=all_scores,\n",
    "                    actual_scores_no_adapt_flat=actual_scores_no_adapt_flat,\n",
    "                    actual_scores_co_adapt_flat=actual_scores_co_adapt_flat,\n",
    "                    general_scores_flat=general_scores_flat,\n",
    "                    subject_group_all=subject_group_all, model_type=model_type, useBehavioral=useBehavioral, EEGdevice=EEGdevice)"
   ]
  },
  {
   "cell_type": "markdown",
   "metadata": {},
   "source": [
    "## Run some ANOVAs\n",
    "Let's start out with a simple 1-way ANOVA comparing the different adaptation schemes. Refering to this https://vknight.org/unpeudemath/python/2016/08/13/Analysis-of-variance-with-different-sized-sample.html"
   ]
  },
  {
   "cell_type": "markdown",
   "metadata": {},
   "source": [
    "### 1-Way ANOVA\n",
    "ANOVA comparing the difference in performance between the following adaptation schemes\n",
    "1. No adaptation\n",
    "2. Co-adaptation\n",
    "3. Simulated True Label Adaptation"
   ]
  },
  {
   "cell_type": "code",
   "execution_count": 43,
   "metadata": {
    "scrolled": true
   },
   "outputs": [],
   "source": [
    "#len(all_scores['no adaptation'].dropna(axis=0))"
   ]
  },
  {
   "cell_type": "code",
   "execution_count": 56,
   "metadata": {},
   "outputs": [
    {
     "data": {
      "text/plain": [
       "0.7984172387648416"
      ]
     },
     "execution_count": 56,
     "metadata": {},
     "output_type": "execute_result"
    }
   ],
   "source": [
    "data = [actual_scores_no_adapt_flat,general_scores_flat,]\n",
    "f_val, p_val = stats.f_oneway(*data)\n",
    "p_val"
   ]
  },
  {
   "cell_type": "code",
   "execution_count": 58,
   "metadata": {},
   "outputs": [
    {
     "data": {
      "image/png": "[encoded data removed]",
      "text/plain": [
       "<Figure size 720x288 with 1 Axes>"
      ]
     },
     "metadata": {
      "needs_background": "light"
     },
     "output_type": "display_data"
    }
   ],
   "source": [
    "# Fit line to median of distributions\n",
    "x = range(1, len(data) + 1)\n",
    "y = [np.median(sample) for sample in data]\n",
    "slope, intercept, r_val, p_val_plot, slope_std_error = stats.linregress(x, y)\n",
    "\n",
    "def line(x):\n",
    "    \"\"\"The regression line\"\"\"\n",
    "    return slope * x + intercept\n",
    "\n",
    "plt.figure(figsize=(10,4))\n",
    "plt.violinplot(data);\n",
    "x1, x2 = plt.xlim()\n",
    "plt.plot((x1, x2), (line(x1), line(x2)), '--',\n",
    "         label=\"$y = {0:.2f}x + {1:.2f}$ ($p={2:.2f}$)\".format(slope,\n",
    "                                                               intercept,\n",
    "                                                               p_val_plot))\n",
    "plt.ylabel('Performance')\n",
    "plt.xticks([1,2], ['Original','General Model'])\n",
    "plt.title('1-way ANOVA, Group: Model Type')\n",
    "plt.legend(loc=4);"
   ]
  },
  {
   "cell_type": "code",
   "execution_count": 59,
   "metadata": {},
   "outputs": [
    {
     "name": "stdout",
     "output_type": "stream",
     "text": [
      "F(?,?) = 0.06718793018706647, p = 0.7984172387648416\n"
     ]
    }
   ],
   "source": [
    "print('F(?,?) = ' + str(f_val) + ', p = ' + str(p_val))"
   ]
  },
  {
   "cell_type": "markdown",
   "metadata": {},
   "source": [
    "### 2-Way ANOVA\n",
    "ANOVA comparing the difference in performance between the following adaptation schemes\n",
    "1. Adaptation Scheme (No adaptation, Co-adaptation, Simulated True Label Adaptation)\n",
    "2. Session Number (1, 2, or 3)\n",
    "3. Run Number (1, 2, 3, 4, or 5)\n",
    "4. Subject ID\n",
    "5. Handedness\n",
    "6. Age"
   ]
  },
  {
   "cell_type": "code",
   "execution_count": 62,
   "metadata": {},
   "outputs": [],
   "source": [
    "g1 = list() # model type\n",
    "g2 = list() # session number\n",
    "g3 = list() # run number\n",
    "g4 = list() # subjID\n",
    "g5 = list() # handedness\n",
    "g6 = list() # age\n",
    "\n",
    "# Split by group 1 or group 2\n",
    "all_scores_flat = list()\n",
    "actual_scores_no_adapt_flat = list()\n",
    "actual_scores_co_adapt_flat = list()\n",
    "general_scores_flat = list()\n",
    "subjID_all = generalSubjects\n",
    "\n",
    "for i in range(0,len(actual_scores)):\n",
    "    for j in range(0,5):\n",
    "        if subject_group_all[i] == 1:\n",
    "            all_scores_flat.append(actual_scores[subjID_all[i]][j])\n",
    "            actual_scores_no_adapt_flat.append(actual_scores[subjID_all[i]][j])\n",
    "            g1.append('no adaptation')\n",
    "            g4.append(subjID_all[i])\n",
    "            \n",
    "            if j < 5:\n",
    "                g2.append('Session 1')\n",
    "            if j >= 5:\n",
    "                if j < 10:\n",
    "                    g2.append('Session 2')\n",
    "                if j >= 10:\n",
    "                    g2.append('Session 3')\n",
    "            if j in [0,5,10]:\n",
    "                g3.append('Run 1')\n",
    "            if j in [1,6,11]:\n",
    "                g3.append('Run 2')\n",
    "            if j in [2,7,12]:\n",
    "                g3.append('Run 3')\n",
    "            if j in [3,8,13]:\n",
    "                g3.append('Run 4')\n",
    "            if j in [4,9,13]:\n",
    "                g3.append('Run 5')\n",
    "                    \n",
    "        else:\n",
    "            all_scores_flat.append(actual_scores[subjID_all[i]][j])\n",
    "            actual_scores_co_adapt_flat.append(actual_scores[subjID_all[i]][j])\n",
    "            g1.append('co-adaptation')\n",
    "            g4.append(subjID_all[i])\n",
    "            if j < 5:\n",
    "                g2.append('Session 1')\n",
    "            if j >= 5:\n",
    "                if j < 10:\n",
    "                    g2.append('Session 2')\n",
    "                if j >= 10:\n",
    "                    g2.append('Session 3')\n",
    "            if j in [0,5,10]:\n",
    "                g3.append('Run 1')\n",
    "            if j in [1,6,11]:\n",
    "                g3.append('Run 2')\n",
    "            if j in [2,7,12]:\n",
    "                g3.append('Run 3')\n",
    "            if j in [3,8,13]:\n",
    "                g3.append('Run 4')\n",
    "            if j in [4,9,13]:\n",
    "                g3.append('Run 5')\n",
    "\n",
    "        all_scores_flat.append(general_scores_all[subjID_all[i]][j])\n",
    "        general_scores_flat.append(general_scores_all[subjID_all[i]][j])\n",
    "        g1.append('simulated TL adaptation')\n",
    "        g4.append(subjID_all[i])\n",
    "\n",
    "        if j < 5:\n",
    "            g2.append('Session 1')\n",
    "        if j >= 5:\n",
    "            if j < 10:\n",
    "                g2.append('Session 2')\n",
    "            if j >= 10:\n",
    "                g2.append('Session 3')\n",
    "        if j in [0,5,10]:\n",
    "            g3.append('Run 1')\n",
    "        if j in [1,6,11]:\n",
    "            g3.append('Run 2')\n",
    "        if j in [2,7,12]:\n",
    "            g3.append('Run 3')\n",
    "        if j in [3,8,13]:\n",
    "            g3.append('Run 4')\n",
    "        if j in [4,9,13]:\n",
    "            g3.append('Run 5')"
   ]
  },
  {
   "cell_type": "markdown",
   "metadata": {},
   "source": [
    "Refer to https://plot.ly/python/anova/"
   ]
  },
  {
   "cell_type": "markdown",
   "metadata": {},
   "source": [
    "Might be easier to export this as a .mat file and then do the 2-way ANOVA in MATLAB..."
   ]
  },
  {
   "cell_type": "code",
   "execution_count": 63,
   "metadata": {},
   "outputs": [],
   "source": [
    "# Flatten all to one long vector and then save group names\n",
    "all_scores_export = all_scores_flat"
   ]
  },
  {
   "cell_type": "code",
   "execution_count": 64,
   "metadata": {},
   "outputs": [
    {
     "data": {
      "text/plain": [
       "20"
      ]
     },
     "execution_count": 64,
     "metadata": {},
     "output_type": "execute_result"
    }
   ],
   "source": [
    "len(all_scores_export)"
   ]
  },
  {
   "cell_type": "code",
   "execution_count": 65,
   "metadata": {},
   "outputs": [
    {
     "data": {
      "text/plain": [
       "20"
      ]
     },
     "execution_count": 65,
     "metadata": {},
     "output_type": "execute_result"
    }
   ],
   "source": [
    "len(g1)"
   ]
  },
  {
   "cell_type": "code",
   "execution_count": 66,
   "metadata": {},
   "outputs": [
    {
     "data": {
      "text/plain": [
       "20"
      ]
     },
     "execution_count": 66,
     "metadata": {},
     "output_type": "execute_result"
    }
   ],
   "source": [
    "len(g2)"
   ]
  },
  {
   "cell_type": "code",
   "execution_count": 67,
   "metadata": {},
   "outputs": [
    {
     "data": {
      "text/plain": [
       "20"
      ]
     },
     "execution_count": 67,
     "metadata": {},
     "output_type": "execute_result"
    }
   ],
   "source": [
    "len(g3)"
   ]
  },
  {
   "cell_type": "code",
   "execution_count": 68,
   "metadata": {},
   "outputs": [
    {
     "data": {
      "text/plain": [
       "20"
      ]
     },
     "execution_count": 68,
     "metadata": {},
     "output_type": "execute_result"
    }
   ],
   "source": [
    "len(g4)"
   ]
  },
  {
   "cell_type": "markdown",
   "metadata": {},
   "source": [
    "Note that we have more than 15 x 9 (285) scores because we are including the simulated TL stuff as well"
   ]
  },
  {
   "cell_type": "code",
   "execution_count": 69,
   "metadata": {},
   "outputs": [
    {
     "name": "stderr",
     "output_type": "stream",
     "text": [
      "C:\\Users\\nile\\Anaconda3\\envs\\eeg\\lib\\site-packages\\scipy\\io\\matlab\\miobase.py:414: FutureWarning: Using a non-tuple sequence for multidimensional indexing is deprecated; use `arr[tuple(seq)]` instead of `arr[seq]`. In the future this will be interpreted as an array index, `arr[np.array(seq)]`, which will result either in an error or a different result.\n",
      "  arr[empties] = ' '\n"
     ]
    }
   ],
   "source": [
    "# Save as .mat\n",
    "time_to_save = datetime.datetime.now().isoformat()\n",
    "time_to_save = time_to_save.replace('T','-')\n",
    "time_to_save = time_to_save.replace(':','-')\n",
    "    \n",
    "filepath = time_to_save[:19] + '_all_scores_for_2-way_ANOVA_sessions_general_model.sav'\n",
    "scipy.io.savemat(filepath, mdict={'all_scores_export': all_scores_export, 'ModelType':g1,\n",
    "                                  'SessionNumber':g2, 'RunNumber':g3, 'Subject':g4,\n",
    "                                 'Handedness':g5, 'Age':g6})"
   ]
  },
  {
   "cell_type": "code",
   "execution_count": null,
   "metadata": {},
   "outputs": [],
   "source": []
  }
 ],
 "metadata": {
  "kernelspec": {
   "display_name": "Python 3",
   "language": "python",
   "name": "python3"
  },
  "language_info": {
   "codemirror_mode": {
    "name": "ipython",
    "version": 3
   },
   "file_extension": ".py",
   "mimetype": "text/x-python",
   "name": "python",
   "nbconvert_exporter": "python",
   "pygments_lexer": "ipython3",
   "version": "3.6.7"
  }
 },
 "nbformat": 4,
 "nbformat_minor": 2
}
