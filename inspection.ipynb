{
 "cells": [
  {
   "cell_type": "markdown",
   "metadata": {},
   "source": [
    "# Inspection for 10-12-2018 Data"
   ]
  },
  {
   "cell_type": "markdown",
   "metadata": {},
   "source": [
    "The samping rate for EEG is 300Hz, while the one for accelerometer data is **30Hz**"
   ]
  },
  {
   "cell_type": "code",
   "execution_count": 112,
   "metadata": {},
   "outputs": [],
   "source": [
    "import numpy as np\n",
    "import pandas as pd"
   ]
  },
  {
   "cell_type": "code",
   "execution_count": 113,
   "metadata": {},
   "outputs": [],
   "source": [
    "df = pd.read_csv(\"data/10-12-2018/2018-10-12-preston_walk_raw.csv\", \",\", skiprows=15)"
   ]
  },
  {
   "cell_type": "code",
   "execution_count": 114,
   "metadata": {},
   "outputs": [
    {
     "data": {
      "text/html": [
       "<div>\n",
       "<style scoped>\n",
       "    .dataframe tbody tr th:only-of-type {\n",
       "        vertical-align: middle;\n",
       "    }\n",
       "\n",
       "    .dataframe tbody tr th {\n",
       "        vertical-align: top;\n",
       "    }\n",
       "\n",
       "    .dataframe thead th {\n",
       "        text-align: right;\n",
       "    }\n",
       "</style>\n",
       "<table border=\"1\" class=\"dataframe\">\n",
       "  <thead>\n",
       "    <tr style=\"text-align: right;\">\n",
       "      <th></th>\n",
       "      <th>Time</th>\n",
       "      <th>LE</th>\n",
       "      <th>F4</th>\n",
       "      <th>C4</th>\n",
       "      <th>PO8</th>\n",
       "      <th>PO7</th>\n",
       "      <th>C3</th>\n",
       "      <th>F3</th>\n",
       "      <th>Trigger</th>\n",
       "      <th>Time_Offset</th>\n",
       "      <th>ADC_Status</th>\n",
       "      <th>ADC_Sequence</th>\n",
       "      <th>Event</th>\n",
       "      <th>Comments</th>\n",
       "    </tr>\n",
       "  </thead>\n",
       "  <tbody>\n",
       "    <tr>\n",
       "      <th>0</th>\n",
       "      <td>0.0033</td>\n",
       "      <td>3642.0</td>\n",
       "      <td>-2536.8</td>\n",
       "      <td>3530.1</td>\n",
       "      <td>2459.4</td>\n",
       "      <td>296.7</td>\n",
       "      <td>3454.5</td>\n",
       "      <td>-1103.4</td>\n",
       "      <td>0</td>\n",
       "      <td>6</td>\n",
       "      <td>0</td>\n",
       "      <td>207</td>\n",
       "      <td>0</td>\n",
       "      <td>Start Data Acquisition</td>\n",
       "    </tr>\n",
       "    <tr>\n",
       "      <th>1</th>\n",
       "      <td>0.0067</td>\n",
       "      <td>3635.7</td>\n",
       "      <td>-2526.3</td>\n",
       "      <td>3531.0</td>\n",
       "      <td>2451.9</td>\n",
       "      <td>299.7</td>\n",
       "      <td>3459.6</td>\n",
       "      <td>-1098.9</td>\n",
       "      <td>0</td>\n",
       "      <td>12</td>\n",
       "      <td>0</td>\n",
       "      <td>208</td>\n",
       "      <td>0</td>\n",
       "      <td>NaN</td>\n",
       "    </tr>\n",
       "    <tr>\n",
       "      <th>2</th>\n",
       "      <td>0.0100</td>\n",
       "      <td>3632.7</td>\n",
       "      <td>-2535.9</td>\n",
       "      <td>3528.6</td>\n",
       "      <td>2441.4</td>\n",
       "      <td>302.1</td>\n",
       "      <td>3454.8</td>\n",
       "      <td>-1103.4</td>\n",
       "      <td>0</td>\n",
       "      <td>18</td>\n",
       "      <td>0</td>\n",
       "      <td>209</td>\n",
       "      <td>0</td>\n",
       "      <td>NaN</td>\n",
       "    </tr>\n",
       "    <tr>\n",
       "      <th>3</th>\n",
       "      <td>0.0133</td>\n",
       "      <td>3626.7</td>\n",
       "      <td>-2535.3</td>\n",
       "      <td>3524.1</td>\n",
       "      <td>2450.1</td>\n",
       "      <td>297.9</td>\n",
       "      <td>3455.1</td>\n",
       "      <td>-1097.1</td>\n",
       "      <td>0</td>\n",
       "      <td>24</td>\n",
       "      <td>0</td>\n",
       "      <td>210</td>\n",
       "      <td>0</td>\n",
       "      <td>NaN</td>\n",
       "    </tr>\n",
       "    <tr>\n",
       "      <th>4</th>\n",
       "      <td>0.0167</td>\n",
       "      <td>3626.4</td>\n",
       "      <td>-2527.8</td>\n",
       "      <td>3539.4</td>\n",
       "      <td>2469.0</td>\n",
       "      <td>289.8</td>\n",
       "      <td>3452.7</td>\n",
       "      <td>-1089.9</td>\n",
       "      <td>0</td>\n",
       "      <td>30</td>\n",
       "      <td>0</td>\n",
       "      <td>211</td>\n",
       "      <td>0</td>\n",
       "      <td>NaN</td>\n",
       "    </tr>\n",
       "  </tbody>\n",
       "</table>\n",
       "</div>"
      ],
      "text/plain": [
       "     Time      LE      F4      C4     PO8    PO7      C3      F3  Trigger  \\\n",
       "0  0.0033  3642.0 -2536.8  3530.1  2459.4  296.7  3454.5 -1103.4        0   \n",
       "1  0.0067  3635.7 -2526.3  3531.0  2451.9  299.7  3459.6 -1098.9        0   \n",
       "2  0.0100  3632.7 -2535.9  3528.6  2441.4  302.1  3454.8 -1103.4        0   \n",
       "3  0.0133  3626.7 -2535.3  3524.1  2450.1  297.9  3455.1 -1097.1        0   \n",
       "4  0.0167  3626.4 -2527.8  3539.4  2469.0  289.8  3452.7 -1089.9        0   \n",
       "\n",
       "   Time_Offset  ADC_Status  ADC_Sequence  Event                Comments  \n",
       "0            6           0           207      0  Start Data Acquisition  \n",
       "1           12           0           208      0                     NaN  \n",
       "2           18           0           209      0                     NaN  \n",
       "3           24           0           210      0                     NaN  \n",
       "4           30           0           211      0                     NaN  "
      ]
     },
     "execution_count": 114,
     "metadata": {},
     "output_type": "execute_result"
    }
   ],
   "source": [
    "df.head()"
   ]
  },
  {
   "cell_type": "code",
   "execution_count": 115,
   "metadata": {},
   "outputs": [],
   "source": [
    "acce_df = pd.read_csv(\"data/10-12-2018/2018-10-12-preston_walk_Accel.csv\", \",\", skiprows=7)"
   ]
  },
  {
   "cell_type": "code",
   "execution_count": 116,
   "metadata": {},
   "outputs": [
    {
     "data": {
      "text/html": [
       "<div>\n",
       "<style scoped>\n",
       "    .dataframe tbody tr th:only-of-type {\n",
       "        vertical-align: middle;\n",
       "    }\n",
       "\n",
       "    .dataframe tbody tr th {\n",
       "        vertical-align: top;\n",
       "    }\n",
       "\n",
       "    .dataframe thead th {\n",
       "        text-align: right;\n",
       "    }\n",
       "</style>\n",
       "<table border=\"1\" class=\"dataframe\">\n",
       "  <thead>\n",
       "    <tr style=\"text-align: right;\">\n",
       "      <th></th>\n",
       "      <th>Time</th>\n",
       "      <th>Ax</th>\n",
       "      <th>Ay</th>\n",
       "      <th>Az</th>\n",
       "      <th>Seq#</th>\n",
       "    </tr>\n",
       "  </thead>\n",
       "  <tbody>\n",
       "    <tr>\n",
       "      <th>0</th>\n",
       "      <td>0.0167</td>\n",
       "      <td>0.3535</td>\n",
       "      <td>-0.0762</td>\n",
       "      <td>0.9424</td>\n",
       "      <td>16</td>\n",
       "    </tr>\n",
       "    <tr>\n",
       "      <th>1</th>\n",
       "      <td>0.0500</td>\n",
       "      <td>0.3623</td>\n",
       "      <td>-0.1133</td>\n",
       "      <td>0.9287</td>\n",
       "      <td>16</td>\n",
       "    </tr>\n",
       "    <tr>\n",
       "      <th>2</th>\n",
       "      <td>0.0833</td>\n",
       "      <td>0.3428</td>\n",
       "      <td>-0.1826</td>\n",
       "      <td>0.9238</td>\n",
       "      <td>16</td>\n",
       "    </tr>\n",
       "    <tr>\n",
       "      <th>3</th>\n",
       "      <td>0.1167</td>\n",
       "      <td>0.3672</td>\n",
       "      <td>-0.2334</td>\n",
       "      <td>0.9277</td>\n",
       "      <td>17</td>\n",
       "    </tr>\n",
       "    <tr>\n",
       "      <th>4</th>\n",
       "      <td>0.1500</td>\n",
       "      <td>0.3877</td>\n",
       "      <td>-0.2256</td>\n",
       "      <td>0.9600</td>\n",
       "      <td>17</td>\n",
       "    </tr>\n",
       "  </tbody>\n",
       "</table>\n",
       "</div>"
      ],
      "text/plain": [
       "     Time      Ax      Ay      Az   Seq#\n",
       "0  0.0167  0.3535 -0.0762  0.9424     16\n",
       "1  0.0500  0.3623 -0.1133  0.9287     16\n",
       "2  0.0833  0.3428 -0.1826  0.9238     16\n",
       "3  0.1167  0.3672 -0.2334  0.9277     17\n",
       "4  0.1500  0.3877 -0.2256  0.9600     17"
      ]
     },
     "execution_count": 116,
     "metadata": {},
     "output_type": "execute_result"
    }
   ],
   "source": [
    "acce_df.head()"
   ]
  },
  {
   "cell_type": "code",
   "execution_count": 117,
   "metadata": {},
   "outputs": [
    {
     "data": {
      "text/plain": [
       "DataTransformerRegistry.enable('default')"
      ]
     },
     "execution_count": 117,
     "metadata": {},
     "output_type": "execute_result"
    }
   ],
   "source": [
    "import altair as alt\n",
    "alt.data_transformers.enable('default', max_rows=None)"
   ]
  },
  {
   "cell_type": "markdown",
   "metadata": {},
   "source": [
    "## check Raw EEG"
   ]
  },
  {
   "cell_type": "code",
   "execution_count": 118,
   "metadata": {},
   "outputs": [],
   "source": [
    "channel_data = df.drop(['Trigger','Time_Offset','ADC_Status','ADC_Sequence','Event','Comments'], axis=1)"
   ]
  },
  {
   "cell_type": "code",
   "execution_count": 119,
   "metadata": {},
   "outputs": [],
   "source": [
    "channel_data_alt = channel_data.reset_index().melt('Time', var_name='Channel', value_name='Voltage')\n",
    "channel_data_alt = channel_data_alt[channel_data_alt['Channel'] != 'index']"
   ]
  },
  {
   "cell_type": "code",
   "execution_count": 120,
   "metadata": {},
   "outputs": [
    {
     "name": "stderr",
     "output_type": "stream",
     "text": [
      "/usr/local/miniconda3/lib/python3.6/site-packages/ipykernel_launcher.py:3: SettingWithCopyWarning: \n",
      "A value is trying to be set on a copy of a slice from a DataFrame.\n",
      "Try using .loc[row_indexer,col_indexer] = value instead\n",
      "\n",
      "See the caveats in the documentation: http://pandas.pydata.org/pandas-docs/stable/indexing.html#indexing-view-versus-copy\n",
      "  This is separate from the ipykernel package so we can avoid doing imports until\n"
     ]
    }
   ],
   "source": [
    "event_data = df[['Time', 'Event']]\n",
    "for i in range(len(channel_data.columns) - 1 - 1):\n",
    "    event_data[str('Event') + str(i)] = event_data.Event\n",
    "event_data_alt = event_data.reset_index().melt('Time', var_name='Event', value_name='Value')\n",
    "event_data_alt = event_data_alt[event_data_alt['Event'] != 'index']"
   ]
  },
  {
   "cell_type": "code",
   "execution_count": 121,
   "metadata": {},
   "outputs": [
    {
     "data": {
      "text/html": [
       "<div>\n",
       "<style scoped>\n",
       "    .dataframe tbody tr th:only-of-type {\n",
       "        vertical-align: middle;\n",
       "    }\n",
       "\n",
       "    .dataframe tbody tr th {\n",
       "        vertical-align: top;\n",
       "    }\n",
       "\n",
       "    .dataframe thead th {\n",
       "        text-align: right;\n",
       "    }\n",
       "</style>\n",
       "<table border=\"1\" class=\"dataframe\">\n",
       "  <thead>\n",
       "    <tr style=\"text-align: right;\">\n",
       "      <th></th>\n",
       "      <th>Time</th>\n",
       "      <th>Channel</th>\n",
       "      <th>Voltage</th>\n",
       "      <th>Event</th>\n",
       "    </tr>\n",
       "  </thead>\n",
       "  <tbody>\n",
       "    <tr>\n",
       "      <th>171832</th>\n",
       "      <td>0.0033</td>\n",
       "      <td>LE</td>\n",
       "      <td>3642.0</td>\n",
       "      <td>0</td>\n",
       "    </tr>\n",
       "    <tr>\n",
       "      <th>171833</th>\n",
       "      <td>0.0067</td>\n",
       "      <td>LE</td>\n",
       "      <td>3635.7</td>\n",
       "      <td>0</td>\n",
       "    </tr>\n",
       "    <tr>\n",
       "      <th>171834</th>\n",
       "      <td>0.0100</td>\n",
       "      <td>LE</td>\n",
       "      <td>3632.7</td>\n",
       "      <td>0</td>\n",
       "    </tr>\n",
       "    <tr>\n",
       "      <th>171835</th>\n",
       "      <td>0.0133</td>\n",
       "      <td>LE</td>\n",
       "      <td>3626.7</td>\n",
       "      <td>0</td>\n",
       "    </tr>\n",
       "    <tr>\n",
       "      <th>171836</th>\n",
       "      <td>0.0167</td>\n",
       "      <td>LE</td>\n",
       "      <td>3626.4</td>\n",
       "      <td>0</td>\n",
       "    </tr>\n",
       "  </tbody>\n",
       "</table>\n",
       "</div>"
      ],
      "text/plain": [
       "          Time Channel  Voltage  Event\n",
       "171832  0.0033      LE   3642.0      0\n",
       "171833  0.0067      LE   3635.7      0\n",
       "171834  0.0100      LE   3632.7      0\n",
       "171835  0.0133      LE   3626.7      0\n",
       "171836  0.0167      LE   3626.4      0"
      ]
     },
     "execution_count": 121,
     "metadata": {},
     "output_type": "execute_result"
    }
   ],
   "source": [
    "channel_data_alt['Event'] = event_data_alt.Value\n",
    "channel_data_alt.head()"
   ]
  },
  {
   "cell_type": "code",
   "execution_count": 122,
   "metadata": {},
   "outputs": [],
   "source": [
    "eeg = alt.Chart(channel_data_alt).mark_line().encode(\n",
    "    x=alt.X('Time:Q'),\n",
    "    y=alt.Y('Voltage:Q'),\n",
    "    color='Channel:N'\n",
    ")"
   ]
  },
  {
   "cell_type": "code",
   "execution_count": 125,
   "metadata": {},
   "outputs": [],
   "source": [
    "channel_data_alt_rules = channel_data_alt[channel_data_alt['Event'] != 0]"
   ]
  },
  {
   "cell_type": "code",
   "execution_count": 126,
   "metadata": {},
   "outputs": [],
   "source": [
    "events = alt.Chart(channel_data_alt_rules).mark_rule().encode(\n",
    "    x='Time:Q',\n",
    "    color='Event:N'\n",
    ")"
   ]
  },
  {
   "cell_type": "code",
   "execution_count": 127,
   "metadata": {},
   "outputs": [
    {
     "data": {
      "application/vnd.vegalite.v2+json": {
       "$schema": "https://vega.github.io/schema/vega-lite/v2.6.0.json",
       "config": {
        "view": {
         "height": 300,
         "width": 400
        }
       },
       "data": {
        "name": "data-a0695bd78a8175cabcfe0acf95f66fc8"
       },
       "datasets": {
        "data-a0695bd78a8175cabcfe0acf95f66fc8": [
         {
          "Channel": "LE",
          "Event": 1,
          "Time": 4.8233,
          "Voltage": 3800.4
         },
         {
          "Channel": "LE",
          "Event": 2,
          "Time": 9.9033,
          "Voltage": 3734.4
         },
         {
          "Channel": "LE",
          "Event": 7,
          "Time": 26.51,
          "Voltage": 3647.7
         },
         {
          "Channel": "LE",
          "Event": 5,
          "Time": 157.1533,
          "Voltage": 1438.5
         },
         {
          "Channel": "LE",
          "Event": 6,
          "Time": 260.48,
          "Voltage": -723
         },
         {
          "Channel": "LE",
          "Event": 7,
          "Time": 450.6094,
          "Voltage": -2103.6
         },
         {
          "Channel": "F4",
          "Event": 1,
          "Time": 4.8233,
          "Voltage": -1796.4
         },
         {
          "Channel": "F4",
          "Event": 2,
          "Time": 9.9033,
          "Voltage": -1413.3
         },
         {
          "Channel": "F4",
          "Event": 7,
          "Time": 26.51,
          "Voltage": -311.7
         },
         {
          "Channel": "F4",
          "Event": 5,
          "Time": 157.1533,
          "Voltage": -351.3
         },
         {
          "Channel": "F4",
          "Event": 6,
          "Time": 260.48,
          "Voltage": -3550.8
         },
         {
          "Channel": "F4",
          "Event": 7,
          "Time": 450.6094,
          "Voltage": -892.2
         },
         {
          "Channel": "C4",
          "Event": 1,
          "Time": 4.8233,
          "Voltage": 3722.4
         },
         {
          "Channel": "C4",
          "Event": 2,
          "Time": 9.9033,
          "Voltage": 3722.1
         },
         {
          "Channel": "C4",
          "Event": 7,
          "Time": 26.51,
          "Voltage": 3690.9
         },
         {
          "Channel": "C4",
          "Event": 5,
          "Time": 157.1533,
          "Voltage": 1619.7
         },
         {
          "Channel": "C4",
          "Event": 6,
          "Time": 260.48,
          "Voltage": -1185
         },
         {
          "Channel": "C4",
          "Event": 7,
          "Time": 450.6094,
          "Voltage": -3132.6
         },
         {
          "Channel": "PO8",
          "Event": 1,
          "Time": 4.8233,
          "Voltage": 2601.3
         },
         {
          "Channel": "PO8",
          "Event": 2,
          "Time": 9.9033,
          "Voltage": 2577.6
         },
         {
          "Channel": "PO8",
          "Event": 7,
          "Time": 26.51,
          "Voltage": 2442.6
         },
         {
          "Channel": "PO8",
          "Event": 5,
          "Time": 157.1533,
          "Voltage": 1375.2
         },
         {
          "Channel": "PO8",
          "Event": 6,
          "Time": 260.48,
          "Voltage": -2270.4
         },
         {
          "Channel": "PO8",
          "Event": 7,
          "Time": 450.6094,
          "Voltage": -2304.6
         },
         {
          "Channel": "PO7",
          "Event": 1,
          "Time": 4.8233,
          "Voltage": 338.1
         },
         {
          "Channel": "PO7",
          "Event": 2,
          "Time": 9.9033,
          "Voltage": 232.2
         },
         {
          "Channel": "PO7",
          "Event": 7,
          "Time": 26.51,
          "Voltage": -61.5
         },
         {
          "Channel": "PO7",
          "Event": 5,
          "Time": 157.1533,
          "Voltage": -1110.3
         },
         {
          "Channel": "PO7",
          "Event": 6,
          "Time": 260.48,
          "Voltage": -1256.4
         },
         {
          "Channel": "PO7",
          "Event": 7,
          "Time": 450.6094,
          "Voltage": 271.5
         },
         {
          "Channel": "C3",
          "Event": 1,
          "Time": 4.8233,
          "Voltage": 3724.8
         },
         {
          "Channel": "C3",
          "Event": 2,
          "Time": 9.9033,
          "Voltage": 3747.6
         },
         {
          "Channel": "C3",
          "Event": 7,
          "Time": 26.51,
          "Voltage": 3588.6
         },
         {
          "Channel": "C3",
          "Event": 5,
          "Time": 157.1533,
          "Voltage": 1239.6
         },
         {
          "Channel": "C3",
          "Event": 6,
          "Time": 260.48,
          "Voltage": -1263.3
         },
         {
          "Channel": "C3",
          "Event": 7,
          "Time": 450.6094,
          "Voltage": -3103.2
         },
         {
          "Channel": "F3",
          "Event": 1,
          "Time": 4.8233,
          "Voltage": -1053
         },
         {
          "Channel": "F3",
          "Event": 2,
          "Time": 9.9033,
          "Voltage": -1226.1
         },
         {
          "Channel": "F3",
          "Event": 7,
          "Time": 26.51,
          "Voltage": -1742.1
         },
         {
          "Channel": "F3",
          "Event": 5,
          "Time": 157.1533,
          "Voltage": -3266.7
         },
         {
          "Channel": "F3",
          "Event": 6,
          "Time": 260.48,
          "Voltage": 3513.6
         },
         {
          "Channel": "F3",
          "Event": 7,
          "Time": 450.6094,
          "Voltage": 353.7
         }
        ]
       },
       "encoding": {
        "color": {
         "field": "Event",
         "type": "nominal"
        },
        "x": {
         "field": "Time",
         "type": "quantitative"
        }
       },
       "mark": "rule"
      },
      "image/png": "[encoded data removed]",
      "text/plain": [
       "<VegaLite 2 object>\n",
       "\n",
       "If you see this message, it means the renderer has not been properly enabled\n",
       "for the frontend that you are using. For more information, see\n",
       "https://altair-viz.github.io/user_guide/troubleshooting.html\n"
      ]
     },
     "execution_count": 127,
     "metadata": {},
     "output_type": "execute_result"
    }
   ],
   "source": [
    "events"
   ]
  },
  {
   "cell_type": "code",
   "execution_count": 133,
   "metadata": {},
   "outputs": [],
   "source": [
    "fig = alt.layer(events, eeg, width=800, height=500)"
   ]
  },
  {
   "cell_type": "code",
   "execution_count": null,
   "metadata": {},
   "outputs": [],
   "source": []
  }
 ],
 "metadata": {
  "kernelspec": {
   "display_name": "Python 3",
   "language": "python",
   "name": "python3"
  },
  "language_info": {
   "codemirror_mode": {
    "name": "ipython",
    "version": 3
   },
   "file_extension": ".py",
   "mimetype": "text/x-python",
   "name": "python",
   "nbconvert_exporter": "python",
   "pygments_lexer": "ipython3",
   "version": "3.6.4"
  }
 },
 "nbformat": 4,
 "nbformat_minor": 2
}
